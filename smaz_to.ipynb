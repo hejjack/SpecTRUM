{
 "cells": [
  {
   "cell_type": "code",
   "execution_count": 2,
   "metadata": {},
   "outputs": [
    {
     "name": "stderr",
     "output_type": "stream",
     "text": [
      "/storage/brno2/home/ahajek/miniconda3/envs/BARTtrain/lib/python3.8/site-packages/tqdm/auto.py:21: TqdmWarning:\n",
      "\n",
      "IProgress not found. Please update jupyter and ipywidgets. See https://ipywidgets.readthedocs.io/en/stable/user_install.html\n",
      "\n"
     ]
    }
   ],
   "source": [
    "import torch\n",
    "import numpy as np\n",
    "import pandas as pd\n",
    "from pathlib import Path \n",
    "from tqdm import tqdm\n",
    "\n",
    "%load_ext autoreload\n",
    "%autoreload 2"
   ]
  },
  {
   "cell_type": "code",
   "execution_count": 1,
   "metadata": {},
   "outputs": [
    {
     "name": "stdout",
     "output_type": "stream",
     "text": [
      "24922354\n"
     ]
    }
   ],
   "source": [
    "\n",
    "\n",
    "home = Path(\"/storage/brno2/home/ahajek/Spektro/MassGenie/\")\n",
    "with open(home / \"smaz_to.txt\", \"r\") as f:\n",
    "    smaz_to = f.read().splitlines()\n",
    "    nums = [int(x.split(\"len after PHASE6: \")[1].split(\" \")[0]) for x in smaz_to]\n",
    "    print(sum(nums))"
   ]
  },
  {
   "cell_type": "code",
   "execution_count": 2,
   "metadata": {},
   "outputs": [
    {
     "name": "stdout",
     "output_type": "stream",
     "text": [
      "10semestr_linz\t\t\t   Jupyter_runner_bigdata.sh\n",
      "8semestr\t\t\t   Jupyter_runner_spektro.sh\n",
      "9semestr_linz\t\t\t   MNIST\n",
      "CloudFlight\t\t\t   Megatron-LM\n",
      "DeepSpeed\t\t\t   Megatron-LM2\n",
      "JupyterLabPyTorch_GPU.e5121035\t   Miniconda3-py310_23.1.0-1-Linux-x86_64.sh\n",
      "JupyterLabPyTorch_GPU.e5122993\t   Multikulti\n",
      "JupyterLabPyTorch_GPU.e5231393\t   Portugese-likeGPT2\n",
      "JupyterLabPyTorch_GPU.e5231886\t   Spektro\n",
      "JupyterLabPyTorch_GPU.o5121035\t   Summarization\n",
      "JupyterLabPyTorch_GPU.o5122993\t   __pycache__\n",
      "JupyterLabPyTorch_GPU.o5231393\t   conda_envs_backup\n",
      "JupyterLabPyTorch_GPU.o5231886\t   core\n",
      "JupyterLabPyTorch_T4GPU.e5230195   data\n",
      "JupyterLabPyTorch_T4GPU.e5231378   gpt2czech\n",
      "JupyterLabPyTorch_T4GPU.e5231613   miniconda3\n",
      "JupyterLabPyTorch_T4GPU.e5277046   mnist_net.pt\n",
      "JupyterLabPyTorch_T4GPU.e5307233   modulyApipy\n",
      "JupyterLabPyTorch_T4GPU.e5307243   ngc\n",
      "JupyterLabPyTorch_T4GPU.o5230195   nltk_data\n",
      "JupyterLabPyTorch_T4GPU.o5231378   packages\n",
      "JupyterLabPyTorch_T4GPU.o5231613   singularity\n",
      "JupyterLabPyTorch_T4GPU.o5277046   tensorflow_datasets\n",
      "JupyterLabPyTorch_T4GPU.o5307233   testWiki2\n",
      "JupyterLabPyTorch_T4GPU.o5307243   tmp\n",
      "JupyterLabPyTorch_noGPU.e16992098  utils.py\n",
      "JupyterLabPyTorch_noGPU.o16992098  wandb\n"
     ]
    }
   ],
   "source": [
    "!ls"
   ]
  },
  {
   "cell_type": "code",
   "execution_count": 2,
   "metadata": {},
   "outputs": [
    {
     "name": "stdout",
     "output_type": "stream",
     "text": [
      "index 7 to group 0, type type(idxs[i][j]: <class 'int'>\n",
      "[[7], []]\n",
      "index 1 to group 0, type type(idxs[i][j]: <class 'int'>\n",
      "[[7, 1], []]\n",
      "index 8 to group 0, type type(idxs[i][j]: <class 'int'>\n",
      "[[7, 1, 8], []]\n",
      "index 4 to group 0, type type(idxs[i][j]: <class 'int'>\n",
      "[[7, 1, 8, 4], []]\n",
      "index 2 to group 0, type type(idxs[i][j]: <class 'int'>\n",
      "[[7, 1, 8, 4, 2], []]\n",
      "index 3 to group 0, type type(idxs[i][j]: <class 'int'>\n",
      "[[7, 1, 8, 4, 2, 3], []]\n",
      "index 6 to group 0, type type(idxs[i][j]: <class 'int'>\n",
      "[[7, 1, 8, 4, 2, 3, 6], []]\n",
      "index 9 to group 0, type type(idxs[i][j]: <class 'int'>\n",
      "[[7, 1, 8, 4, 2, 3, 6, 9], []]\n",
      "index 0 to group 0, type type(idxs[i][j]: <class 'int'>\n",
      "[[7, 1, 8, 4, 2, 3, 6, 9, 0], []]\n",
      "index 2 to group 1, type type(idxs[i][j]: <class 'int'>\n",
      "[[7, 1, 8, 4, 2, 3, 6, 9, 0], [2]]\n",
      "index 1 to group 1, type type(idxs[i][j]: <class 'int'>\n",
      "[[7, 1, 8, 4, 2, 3, 6, 9, 0], [2, 1]]\n",
      "index 4 to group 1, type type(idxs[i][j]: <class 'int'>\n",
      "[[7, 1, 8, 4, 2, 3, 6, 9, 0], [2, 1, 4]]\n",
      "index 3 to group 1, type type(idxs[i][j]: <class 'int'>\n",
      "[[7, 1, 8, 4, 2, 3, 6, 9, 0], [2, 1, 4, 3]]\n",
      "index 0 to group 1, type type(idxs[i][j]: <class 'int'>\n",
      "[[7, 1, 8, 4, 2, 3, 6, 9, 0], [2, 1, 4, 3, 0]]\n",
      "[[7, 1, 8, 4, 2, 3, 6, 9, 0], [2, 1, 4, 3, 0]]\n"
     ]
    }
   ],
   "source": [
    "preds = [[7, 1, 8, 4, 2, 3, 6, 9, 0], [2, 1, 4, 3, 0]]\n",
    "idxs = [[7, 1, 8, 4, 2, 3, 6, 9, 0], [2, 1, 4, 3, 0]]\n",
    "canon_preds = [[] for _ in range(len(preds))]\n",
    "canon_idxs = [[] for _ in range(len(preds))]\n",
    "\n",
    "for i, group in enumerate(preds):\n",
    "    for j, smi in enumerate(group):\n",
    "        try:\n",
    "            # canon_preds[i].append(Chem.MolToSmiles(Chem.MolFromSmiles(smi), isomericSmiles=False))\n",
    "            canon_idxs[i].append(idxs[i][j])\n",
    "            print(f\"index {idxs[i][j]} to group {i}, type type(idxs[i][j]: {type(idxs[i][j])}\")\n",
    "            print(canon_idxs)\n",
    "            # print(canon_idxs)\n",
    "        except Exception:\n",
    "            pass\n",
    "\n",
    "print(canon_idxs)"
   ]
  },
  {
   "cell_type": "code",
   "execution_count": 11,
   "metadata": {},
   "outputs": [],
   "source": [
    "from tokenizers import Tokenizer\n",
    "tokenizer = Tokenizer.from_file(\"Spektro/MassGenie/tokenizer/bbpe_tokenizer/bart_bbpe_1M_tokenizer.model\")"
   ]
  },
  {
   "cell_type": "code",
   "execution_count": 2,
   "metadata": {},
   "outputs": [],
   "source": [
    "from Spektro.MassGenie.dataset import SpectroDataset, SpectroDataCollator\n",
    "\n",
    "data_range = range(0, 10) ####!!!!!########\n",
    "data_path = \"Spektro/MassGenie/data/datasets/DEBUG/DEBUG_valid.pkl\"\n",
    "dataset = SpectroDataset(data_path, eval_mode=True)#[0:20] ####!!!!!########\n",
    "subset = torch.utils.data.Subset(dataset, data_range) ####!!!!!########\n",
    "loader = torch.utils.data.DataLoader(subset,\n",
    "                                     batch_size=5,\n",
    "                                     collate_fn=SpectroDataCollator(eval_mode=True),\n",
    "                                     drop_last=False,\n",
    "                                     shuffle=False)\n"
   ]
  },
  {
   "cell_type": "code",
   "execution_count": 6,
   "metadata": {},
   "outputs": [],
   "source": [
    "for x in iter(int, 1):\n",
    "    break\n",
    "df = dataset.data\n",
    "df.iloc[]"
   ]
  },
  {
   "cell_type": "code",
   "execution_count": 47,
   "metadata": {},
   "outputs": [
    {
     "name": "stdout",
     "output_type": "stream",
     "text": [
      "{'input_ids': tensor([[ 26,  27,  28,  30,  38,  39,  40,  41,  42,  43,  44,  45,  46,  50,\n",
      "          51,  52,  53,  54,  55,  56,  58,  59,  60,  63,  64,  65,  66,  67,\n",
      "          68,  69,  70,  72,  75,  77,  78,  79,  80,  81,  82,  83,  87,  89,\n",
      "          90,  91,  92,  93,  94,  95, 104, 105, 106, 107, 108, 109, 110, 116,\n",
      "         117, 118, 119, 120, 121, 122, 129, 131, 132, 133, 136, 145, 146, 147,\n",
      "         148, 149, 150, 159, 160, 161, 162, 163, 164, 165, 166, 173, 174, 175,\n",
      "         176, 177, 188, 189, 190, 200, 204, 205, 206, 218, 219, 232, 233, 234,\n",
      "           2,   2,   2,   2,   2,   2,   2,   2,   2,   2,   2,   2,   2,   2,\n",
      "           2,   2,   2,   2,   2,   2,   2,   2,   2,   2,   2,   2,   2,   2,\n",
      "           2,   2,   2,   2,   2,   2,   2,   2,   2,   2,   2,   2,   2,   2,\n",
      "           2,   2,   2,   2,   2,   2,   2,   2,   2,   2,   2,   2,   2,   2,\n",
      "           2,   2,   2,   2,   2,   2,   2,   2,   2,   2,   2,   2,   2,   2,\n",
      "           2,   2,   2,   2,   2,   2,   2,   2,   2,   2,   2,   2,   2,   2,\n",
      "           2,   2,   2,   2,   2,   2,   2,   2,   2,   2,   2,   2,   2,   2,\n",
      "           2,   2,   2,   2],\n",
      "        [ 36,  38,  39,  40,  41,  42,  43,  44,  49,  50,  51,  52,  53,  54,\n",
      "          55,  56,  57,  58,  63,  64,  65,  67,  68,  69,  70,  71,  73,  74,\n",
      "          75,  76,  77,  78,  80,  81,  82,  84,  85,  86,  87,  88,  89,  90,\n",
      "          91,  92,  93,  94,  95,  97,  98,  99, 100, 101, 102, 103, 104, 105,\n",
      "         106, 107, 108, 110, 111, 112, 113, 114, 115, 116, 117, 118, 119, 120,\n",
      "         121, 123, 125, 126, 127, 128, 129, 130, 131, 132, 133, 134, 135, 136,\n",
      "         137, 138, 139, 140, 141, 142, 143, 144, 145, 146, 148, 149, 150, 151,\n",
      "         152, 153, 154, 156, 157, 158, 159, 160, 161, 162, 163, 164, 165, 166,\n",
      "         167, 168, 169, 170, 171, 172, 173, 174, 175, 176, 177, 178, 179, 180,\n",
      "         184, 186, 187, 188, 189, 190, 191, 195, 196, 197, 200, 201, 202, 203,\n",
      "         204, 205, 206, 213, 214, 215, 216, 217, 218, 219, 222, 229, 230, 231,\n",
      "         232, 233, 242, 243, 244, 245, 246, 254, 259, 261, 270, 272, 273, 314,\n",
      "         315, 316, 317, 318, 339, 342, 344, 345, 346, 347, 358, 360, 361, 372,\n",
      "         373, 374, 375, 376, 377,   2,   2,   2,   2,   2,   2,   2,   2,   2,\n",
      "           2,   2,   2,   2],\n",
      "        [ 30,  33,  34,  36,  38,  39,  40,  41,  42,  43,  44,  45,  46,  50,\n",
      "          51,  52,  53,  54,  55,  56,  57,  58,  59,  60,  63,  64,  65,  66,\n",
      "          67,  68,  69,  70,  71,  72,  73,  74,  75,  76,  77,  78,  79,  80,\n",
      "          81,  82,  83,  84,  85,  86,  87,  88,  89,  90,  91,  92,  93,  94,\n",
      "          95,  96,  97,  98,  99, 100, 101, 102, 103, 104, 105, 106, 107, 108,\n",
      "         109, 110, 111, 112, 113, 114, 115, 116, 117, 118, 119, 120, 121, 122,\n",
      "         123, 124, 125, 126, 127, 128, 129, 130, 131, 132, 133, 134, 135, 136,\n",
      "         137, 138, 139, 140, 141, 142, 143, 144, 145, 146, 147, 148, 149, 150,\n",
      "         151, 152, 153, 154, 155, 156, 158, 159, 160, 161, 162, 163, 164, 165,\n",
      "         166, 167, 174, 175, 176, 177, 178, 179, 180, 181, 182, 188, 189, 190,\n",
      "         191, 192, 193, 194, 201, 202, 203, 204, 205, 206, 207, 208, 209, 217,\n",
      "         218, 219, 220, 221, 222, 223, 224, 225, 226, 233, 234, 235, 236, 237,\n",
      "         238, 239, 240, 245, 246, 247, 248, 249, 250, 251, 264, 265, 266, 267,\n",
      "         280, 281, 282, 283,   2,   2,   2,   2,   2,   2,   2,   2,   2,   2,\n",
      "           2,   2,   2,   2],\n",
      "        [ 33,  36,  37,  38,  39,  40,  41,  42,  43,  44,  45,  49,  50,  51,\n",
      "          52,  53,  54,  55,  56,  57,  59,  60,  61,  62,  63,  64,  65,  66,\n",
      "          67,  68,  69,  70,  71,  73,  74,  75,  76,  77,  78,  79,  80,  81,\n",
      "          82,  83,  84,  85,  86,  87,  88,  89,  90,  91,  92,  93,  94,  95,\n",
      "          96,  97,  99, 100, 101, 102, 103, 104, 105, 106, 107, 108, 110, 111,\n",
      "         112, 113, 114, 115, 116, 117, 118, 119, 120, 121, 123, 124, 125, 126,\n",
      "         127, 128, 129, 130, 131, 132, 133, 134, 136, 137, 138, 139, 140, 141,\n",
      "         142, 143, 144, 145, 146, 147, 149, 154, 155, 156, 157, 158, 159, 160,\n",
      "         161, 163, 164, 165, 166, 167, 168, 169, 170, 171, 172, 173, 174, 175,\n",
      "         176, 179, 180, 181, 182, 183, 186, 187, 189, 190, 191, 192, 193, 194,\n",
      "         195, 196, 197, 198, 199, 205, 206, 207, 208, 209, 210, 211, 212, 213,\n",
      "         235, 236, 237, 238, 239, 240, 241, 242, 249, 250, 251, 268, 269, 327,\n",
      "         341, 342, 344, 356, 358, 389, 390, 391, 392, 393,   2,   2,   2,   2,\n",
      "           2,   2,   2,   2,   2,   2,   2,   2,   2,   2,   2,   2,   2,   2,\n",
      "           2,   2,   2,   2],\n",
      "        [ 33,  34,  36,  37,  38,  39,  40,  41,  42,  43,  44,  45,  46,  47,\n",
      "          48,  49,  50,  51,  52,  53,  54,  55,  56,  57,  60,  61,  62,  63,\n",
      "          64,  65,  66,  67,  68,  69,  70,  71,  72,  73,  74,  75,  76,  77,\n",
      "          78,  79,  80,  81,  82,  83,  84,  85,  86,  87,  88,  89,  90,  91,\n",
      "          92,  93,  94,  95,  96,  97,  98,  99, 100, 101, 102, 103, 104, 105,\n",
      "         106, 107, 108, 109, 110, 111, 112, 113, 114, 115, 116, 117, 118, 119,\n",
      "         120, 121, 122, 123, 124, 125, 126, 127, 128, 129, 131, 133, 134, 135,\n",
      "         136, 137, 138, 139, 140, 141, 143, 145, 146, 148, 149, 150, 151, 152,\n",
      "         153, 154, 155, 157, 161, 162, 163, 164, 165, 166, 167, 168, 169, 170,\n",
      "         172, 177, 178, 180, 181, 185, 186, 187, 191, 193, 195, 198, 199, 201,\n",
      "         202, 203, 204, 205, 206, 208, 209, 217, 226, 229, 230, 238, 241, 256,\n",
      "         266, 267, 269, 287, 315, 316, 317, 318, 362, 465, 466, 467, 468,   2,\n",
      "           2,   2,   2,   2,   2,   2,   2,   2,   2,   2,   2,   2,   2,   2,\n",
      "           2,   2,   2,   2,   2,   2,   2,   2,   2,   2,   2,   2,   2,   2,\n",
      "           2,   2,   2,   2]]), 'position_ids': tensor([[ 3,  6,  5,  5,  5,  9,  8,  9,  9,  7,  9,  8,  6,  3,  7,  7,  9,  8,\n",
      "          8,  8,  8,  7,  6,  6,  7,  8,  8,  9,  8,  1,  7,  8,  5,  7,  7,  7,\n",
      "          7,  7,  8,  6,  2,  5,  3,  5,  5,  6,  4,  5,  6,  8,  9,  8,  7,  5,\n",
      "          0,  7,  7,  7,  6,  6,  6,  1,  6,  8,  8,  8,  1,  6,  6,  8,  8,  7,\n",
      "          6,  6,  7,  8,  7,  4,  6,  5,  6,  4,  8,  6,  6,  0,  9,  9,  7,  6,\n",
      "          8,  7,  3,  9,  7,  4,  9,  7, -1, -1, -1, -1, -1, -1, -1, -1, -1, -1,\n",
      "         -1, -1, -1, -1, -1, -1, -1, -1, -1, -1, -1, -1, -1, -1, -1, -1, -1, -1,\n",
      "         -1, -1, -1, -1, -1, -1, -1, -1, -1, -1, -1, -1, -1, -1, -1, -1, -1, -1,\n",
      "         -1, -1, -1, -1, -1, -1, -1, -1, -1, -1, -1, -1, -1, -1, -1, -1, -1, -1,\n",
      "         -1, -1, -1, -1, -1, -1, -1, -1, -1, -1, -1, -1, -1, -1, -1, -1, -1, -1,\n",
      "         -1, -1, -1, -1, -1, -1, -1, -1, -1, -1, -1, -1, -1, -1, -1, -1, -1, -1,\n",
      "         -1, -1],\n",
      "        [ 3,  0,  6,  5,  7,  8,  8,  6,  3,  1,  5,  4,  6,  6,  5,  7,  7,  6,\n",
      "          4,  5,  4,  5,  6,  5,  7,  5,  6,  4,  6,  6,  6,  5,  4,  5,  5,  6,\n",
      "          5,  6,  5,  4,  5,  5,  6,  1,  6,  5,  3,  4,  5,  6,  5,  5,  6,  6,\n",
      "          6,  6,  6,  3,  3,  5,  5,  7,  6,  8,  6,  6,  6,  6,  6,  6,  5,  5,\n",
      "          4,  7,  7,  7,  6,  6,  5,  6,  4,  6,  6,  5,  4,  4,  3,  7,  6,  8,\n",
      "          7,  7,  6,  6,  0,  7,  6,  6,  6,  7,  5,  7,  4,  6,  6,  2,  7,  5,\n",
      "          6,  6,  5,  5,  8,  3,  7,  8,  8,  3,  4,  5,  7,  7,  7,  7,  6,  9,\n",
      "          1,  3,  5,  5,  7,  5,  6,  4,  7,  6,  2,  7,  4,  8,  7,  8,  8,  3,\n",
      "          6,  7,  7,  8,  8,  7,  6,  5,  6,  7,  5,  7,  6,  5,  2,  6,  4,  1,\n",
      "          5,  4,  5,  5,  1,  3,  3,  7,  6,  4,  5,  6,  9,  8,  8,  7,  6,  7,\n",
      "          3,  4,  9,  8,  8,  7,  1, -1, -1, -1, -1, -1, -1, -1, -1, -1, -1, -1,\n",
      "         -1, -1],\n",
      "        [ 5,  1,  1,  3,  3,  7,  6,  9,  9,  8,  9,  6,  5,  4,  7,  7,  8,  7,\n",
      "          7,  8,  9,  8,  6,  5,  4,  4,  7,  7,  8,  8,  8,  8,  7,  7,  6,  5,\n",
      "          5,  5,  7,  7,  8,  8,  8,  7,  7,  8,  7,  8,  6,  4,  2,  4,  7,  7,\n",
      "          7,  7,  8,  7,  7,  7,  5,  4,  2,  5,  5,  5,  7,  7,  7,  7,  7,  7,\n",
      "          6,  8,  7,  6,  6,  0,  1,  0,  7,  7,  6,  7,  8,  6,  7,  7,  7,  6,\n",
      "          5,  4,  6,  6,  7,  7,  8,  8,  8,  8,  6,  6,  6,  6,  7,  6,  6,  6,\n",
      "          6,  7,  7,  6,  7,  6,  7,  6,  6,  0,  5,  6,  1,  7,  6,  7,  6,  7,\n",
      "          3,  3,  3,  6,  4,  7,  6,  6,  8,  7,  5,  5,  3,  5,  7,  7,  7,  4,\n",
      "          4,  4,  6,  6,  6,  7,  5,  6,  3,  6,  6,  6,  6,  6,  6,  7,  7,  2,\n",
      "          4,  6,  4,  6,  7,  6,  4,  3,  0,  5,  6,  7,  6,  5,  4,  1,  9,  7,\n",
      "          9,  7,  6,  9,  7,  4, -1, -1, -1, -1, -1, -1, -1, -1, -1, -1, -1, -1,\n",
      "         -1, -1],\n",
      "        [ 3,  7,  0,  6,  8,  6,  6,  6,  8,  7,  5,  4,  8,  9,  9,  9,  8,  7,\n",
      "          6,  6,  8,  6,  6,  7,  8,  7,  9,  8,  8,  8,  7,  8,  7,  8,  6,  8,\n",
      "          8,  9,  9,  9,  8,  9,  8,  3,  5,  7,  7,  7,  6,  9,  9,  8,  8,  7,\n",
      "          7,  7,  5,  7,  7,  8,  8,  7,  9,  9,  9,  9,  6,  1,  6,  2,  3,  7,\n",
      "          7,  8,  8,  8,  9,  8,  5,  5,  7,  8,  7,  7,  7,  8,  7,  7,  8,  8,\n",
      "          6,  6,  6,  6,  6,  6,  8,  8,  8,  5,  6,  3,  6,  4,  4,  6,  0,  6,\n",
      "          7,  7,  7,  7,  7,  7,  6,  6,  6,  7,  8,  7,  7,  7,  6,  2,  6,  6,\n",
      "          5,  5,  8,  7,  8,  7,  4,  5,  4,  6,  6,  6,  7,  8,  8,  8,  7,  6,\n",
      "          4,  6,  7,  7,  8,  9,  9,  8,  7,  7,  4,  8,  7,  7,  7,  9,  8,  6,\n",
      "          4,  6,  3,  7,  4,  6,  7,  7,  2,  0,  3,  9,  8,  9,  6,  2, -1, -1,\n",
      "         -1, -1, -1, -1, -1, -1, -1, -1, -1, -1, -1, -1, -1, -1, -1, -1, -1, -1,\n",
      "         -1, -1],\n",
      "        [ 3,  2,  2,  1,  3,  7,  5,  6,  4,  6,  6,  6,  0,  2,  4,  3,  6,  7,\n",
      "          7,  7,  5,  6,  0,  5,  5,  4,  6,  7,  7,  7,  5,  6,  5,  6,  5,  6,\n",
      "          3,  5,  4,  6,  7,  7,  6,  8,  7,  6,  5,  5,  3,  4,  3,  6,  4,  6,\n",
      "          6,  8,  7,  6,  4,  6,  5,  4,  2,  1,  1,  5,  5,  6,  7,  6,  7,  7,\n",
      "          8,  6,  3,  5,  5,  3,  3,  5,  4,  6,  5,  5,  5,  5,  5,  5,  6,  6,\n",
      "          3,  4,  5,  3,  4,  1,  7,  8,  7,  5,  5,  4,  5,  1,  0,  4,  4,  1,\n",
      "          2,  9,  7,  6,  4,  1,  1,  3,  3,  5,  6,  5,  6,  5,  4,  2,  0,  1,\n",
      "          2,  5,  1,  5,  0,  4,  3,  1,  0,  6,  3,  3,  6,  3,  3,  4,  4,  2,\n",
      "          2,  3,  0,  2,  2,  1,  0,  2,  3,  2,  2,  5,  4,  5,  6,  6,  5,  0,\n",
      "          1,  8,  6,  4,  3, -1, -1, -1, -1, -1, -1, -1, -1, -1, -1, -1, -1, -1,\n",
      "         -1, -1, -1, -1, -1, -1, -1, -1, -1, -1, -1, -1, -1, -1, -1, -1, -1, -1,\n",
      "         -1, -1]], dtype=torch.int32), 'attention_mask': tensor([[1, 1, 1, 1, 1, 1, 1, 1, 1, 1, 1, 1, 1, 1, 1, 1, 1, 1, 1, 1, 1, 1, 1, 1,\n",
      "         1, 1, 1, 1, 1, 1, 1, 1, 1, 1, 1, 1, 1, 1, 1, 1, 1, 1, 1, 1, 1, 1, 1, 1,\n",
      "         1, 1, 1, 1, 1, 1, 1, 1, 1, 1, 1, 1, 1, 1, 1, 1, 1, 1, 1, 1, 1, 1, 1, 1,\n",
      "         1, 1, 1, 1, 1, 1, 1, 1, 1, 1, 1, 1, 1, 1, 1, 1, 1, 1, 1, 1, 1, 1, 1, 1,\n",
      "         1, 1, 0, 0, 0, 0, 0, 0, 0, 0, 0, 0, 0, 0, 0, 0, 0, 0, 0, 0, 0, 0, 0, 0,\n",
      "         0, 0, 0, 0, 0, 0, 0, 0, 0, 0, 0, 0, 0, 0, 0, 0, 0, 0, 0, 0, 0, 0, 0, 0,\n",
      "         0, 0, 0, 0, 0, 0, 0, 0, 0, 0, 0, 0, 0, 0, 0, 0, 0, 0, 0, 0, 0, 0, 0, 0,\n",
      "         0, 0, 0, 0, 0, 0, 0, 0, 0, 0, 0, 0, 0, 0, 0, 0, 0, 0, 0, 0, 0, 0, 0, 0,\n",
      "         0, 0, 0, 0, 0, 0, 0, 0],\n",
      "        [1, 1, 1, 1, 1, 1, 1, 1, 1, 1, 1, 1, 1, 1, 1, 1, 1, 1, 1, 1, 1, 1, 1, 1,\n",
      "         1, 1, 1, 1, 1, 1, 1, 1, 1, 1, 1, 1, 1, 1, 1, 1, 1, 1, 1, 1, 1, 1, 1, 1,\n",
      "         1, 1, 1, 1, 1, 1, 1, 1, 1, 1, 1, 1, 1, 1, 1, 1, 1, 1, 1, 1, 1, 1, 1, 1,\n",
      "         1, 1, 1, 1, 1, 1, 1, 1, 1, 1, 1, 1, 1, 1, 1, 1, 1, 1, 1, 1, 1, 1, 1, 1,\n",
      "         1, 1, 1, 1, 1, 1, 1, 1, 1, 1, 1, 1, 1, 1, 1, 1, 1, 1, 1, 1, 1, 1, 1, 1,\n",
      "         1, 1, 1, 1, 1, 1, 1, 1, 1, 1, 1, 1, 1, 1, 1, 1, 1, 1, 1, 1, 1, 1, 1, 1,\n",
      "         1, 1, 1, 1, 1, 1, 1, 1, 1, 1, 1, 1, 1, 1, 1, 1, 1, 1, 1, 1, 1, 1, 1, 1,\n",
      "         1, 1, 1, 1, 1, 1, 1, 1, 1, 1, 1, 1, 1, 1, 1, 1, 1, 1, 1, 0, 0, 0, 0, 0,\n",
      "         0, 0, 0, 0, 0, 0, 0, 0],\n",
      "        [1, 1, 1, 1, 1, 1, 1, 1, 1, 1, 1, 1, 1, 1, 1, 1, 1, 1, 1, 1, 1, 1, 1, 1,\n",
      "         1, 1, 1, 1, 1, 1, 1, 1, 1, 1, 1, 1, 1, 1, 1, 1, 1, 1, 1, 1, 1, 1, 1, 1,\n",
      "         1, 1, 1, 1, 1, 1, 1, 1, 1, 1, 1, 1, 1, 1, 1, 1, 1, 1, 1, 1, 1, 1, 1, 1,\n",
      "         1, 1, 1, 1, 1, 1, 1, 1, 1, 1, 1, 1, 1, 1, 1, 1, 1, 1, 1, 1, 1, 1, 1, 1,\n",
      "         1, 1, 1, 1, 1, 1, 1, 1, 1, 1, 1, 1, 1, 1, 1, 1, 1, 1, 1, 1, 1, 1, 1, 1,\n",
      "         1, 1, 1, 1, 1, 1, 1, 1, 1, 1, 1, 1, 1, 1, 1, 1, 1, 1, 1, 1, 1, 1, 1, 1,\n",
      "         1, 1, 1, 1, 1, 1, 1, 1, 1, 1, 1, 1, 1, 1, 1, 1, 1, 1, 1, 1, 1, 1, 1, 1,\n",
      "         1, 1, 1, 1, 1, 1, 1, 1, 1, 1, 1, 1, 1, 1, 1, 1, 1, 1, 0, 0, 0, 0, 0, 0,\n",
      "         0, 0, 0, 0, 0, 0, 0, 0],\n",
      "        [1, 1, 1, 1, 1, 1, 1, 1, 1, 1, 1, 1, 1, 1, 1, 1, 1, 1, 1, 1, 1, 1, 1, 1,\n",
      "         1, 1, 1, 1, 1, 1, 1, 1, 1, 1, 1, 1, 1, 1, 1, 1, 1, 1, 1, 1, 1, 1, 1, 1,\n",
      "         1, 1, 1, 1, 1, 1, 1, 1, 1, 1, 1, 1, 1, 1, 1, 1, 1, 1, 1, 1, 1, 1, 1, 1,\n",
      "         1, 1, 1, 1, 1, 1, 1, 1, 1, 1, 1, 1, 1, 1, 1, 1, 1, 1, 1, 1, 1, 1, 1, 1,\n",
      "         1, 1, 1, 1, 1, 1, 1, 1, 1, 1, 1, 1, 1, 1, 1, 1, 1, 1, 1, 1, 1, 1, 1, 1,\n",
      "         1, 1, 1, 1, 1, 1, 1, 1, 1, 1, 1, 1, 1, 1, 1, 1, 1, 1, 1, 1, 1, 1, 1, 1,\n",
      "         1, 1, 1, 1, 1, 1, 1, 1, 1, 1, 1, 1, 1, 1, 1, 1, 1, 1, 1, 1, 1, 1, 1, 1,\n",
      "         1, 1, 1, 1, 1, 1, 1, 1, 1, 1, 0, 0, 0, 0, 0, 0, 0, 0, 0, 0, 0, 0, 0, 0,\n",
      "         0, 0, 0, 0, 0, 0, 0, 0],\n",
      "        [1, 1, 1, 1, 1, 1, 1, 1, 1, 1, 1, 1, 1, 1, 1, 1, 1, 1, 1, 1, 1, 1, 1, 1,\n",
      "         1, 1, 1, 1, 1, 1, 1, 1, 1, 1, 1, 1, 1, 1, 1, 1, 1, 1, 1, 1, 1, 1, 1, 1,\n",
      "         1, 1, 1, 1, 1, 1, 1, 1, 1, 1, 1, 1, 1, 1, 1, 1, 1, 1, 1, 1, 1, 1, 1, 1,\n",
      "         1, 1, 1, 1, 1, 1, 1, 1, 1, 1, 1, 1, 1, 1, 1, 1, 1, 1, 1, 1, 1, 1, 1, 1,\n",
      "         1, 1, 1, 1, 1, 1, 1, 1, 1, 1, 1, 1, 1, 1, 1, 1, 1, 1, 1, 1, 1, 1, 1, 1,\n",
      "         1, 1, 1, 1, 1, 1, 1, 1, 1, 1, 1, 1, 1, 1, 1, 1, 1, 1, 1, 1, 1, 1, 1, 1,\n",
      "         1, 1, 1, 1, 1, 1, 1, 1, 1, 1, 1, 1, 1, 1, 1, 1, 1, 1, 1, 1, 1, 1, 1, 0,\n",
      "         0, 0, 0, 0, 0, 0, 0, 0, 0, 0, 0, 0, 0, 0, 0, 0, 0, 0, 0, 0, 0, 0, 0, 0,\n",
      "         0, 0, 0, 0, 0, 0, 0, 0]])}\n"
     ]
    }
   ],
   "source": [
    "for batch in loader:\n",
    "    print(batch)\n",
    "    break"
   ]
  },
  {
   "cell_type": "code",
   "execution_count": null,
   "metadata": {},
   "outputs": [
    {
     "ename": "ValueError",
     "evalue": "could not determine the shape of object type 'Series'",
     "output_type": "error",
     "traceback": [
      "\u001b[0;31m---------------------------------------------------------------------------\u001b[0m",
      "\u001b[0;31mValueError\u001b[0m                                Traceback (most recent call last)",
      "Cell \u001b[0;32mIn[49], line 5\u001b[0m\n\u001b[1;32m      3\u001b[0m s \u001b[39m=\u001b[39m \u001b[39mslice\u001b[39m(\u001b[39m2\u001b[39m, \u001b[39m4\u001b[39m)\n\u001b[1;32m      4\u001b[0m a \u001b[39m=\u001b[39m pd\u001b[39m.\u001b[39mSeries([\u001b[39m9\u001b[39m,\u001b[39m8\u001b[39m,\u001b[39m7\u001b[39m,\u001b[39m6\u001b[39m])\n\u001b[0;32m----> 5\u001b[0m torch\u001b[39m.\u001b[39;49mtensor(a[s])\n",
      "\u001b[0;31mValueError\u001b[0m: could not determine the shape of object type 'Series'"
     ]
    }
   ],
   "source": [
    "import pandas as pd\n",
    "\n",
    "s = slice(2, 4)\n",
    "a = pd.Series([9,8,7,6])\n",
    "torch.tensor(a[s])\n",
    "# torch.tensor(a).shape"
   ]
  },
  {
   "cell_type": "code",
   "execution_count": 4,
   "metadata": {},
   "outputs": [],
   "source": [
    "data = pd.read_pickle(\"Spektro/MassGenie/data/datasets/DEBUG/DEBUG_valid.pkl\")"
   ]
  },
  {
   "cell_type": "code",
   "execution_count": 21,
   "metadata": {},
   "outputs": [
    {
     "ename": "AttributeError",
     "evalue": "'Series' object has no attribute 'iter'",
     "output_type": "error",
     "traceback": [
      "\u001b[0;31m---------------------------------------------------------------------------\u001b[0m",
      "\u001b[0;31mAttributeError\u001b[0m                            Traceback (most recent call last)",
      "File \u001b[0;32m<timed exec>:2\u001b[0m\n",
      "File \u001b[0;32m~/miniconda3/envs/BARTtrain/lib/python3.8/site-packages/pandas/core/generic.py:5989\u001b[0m, in \u001b[0;36mNDFrame.__getattr__\u001b[0;34m(self, name)\u001b[0m\n\u001b[1;32m   5982\u001b[0m \u001b[39mif\u001b[39;00m (\n\u001b[1;32m   5983\u001b[0m     name \u001b[39mnot\u001b[39;00m \u001b[39min\u001b[39;00m \u001b[39mself\u001b[39m\u001b[39m.\u001b[39m_internal_names_set\n\u001b[1;32m   5984\u001b[0m     \u001b[39mand\u001b[39;00m name \u001b[39mnot\u001b[39;00m \u001b[39min\u001b[39;00m \u001b[39mself\u001b[39m\u001b[39m.\u001b[39m_metadata\n\u001b[1;32m   5985\u001b[0m     \u001b[39mand\u001b[39;00m name \u001b[39mnot\u001b[39;00m \u001b[39min\u001b[39;00m \u001b[39mself\u001b[39m\u001b[39m.\u001b[39m_accessors\n\u001b[1;32m   5986\u001b[0m     \u001b[39mand\u001b[39;00m \u001b[39mself\u001b[39m\u001b[39m.\u001b[39m_info_axis\u001b[39m.\u001b[39m_can_hold_identifiers_and_holds_name(name)\n\u001b[1;32m   5987\u001b[0m ):\n\u001b[1;32m   5988\u001b[0m     \u001b[39mreturn\u001b[39;00m \u001b[39mself\u001b[39m[name]\n\u001b[0;32m-> 5989\u001b[0m \u001b[39mreturn\u001b[39;00m \u001b[39mobject\u001b[39;49m\u001b[39m.\u001b[39;49m\u001b[39m__getattribute__\u001b[39;49m(\u001b[39mself\u001b[39;49m, name)\n",
      "\u001b[0;31mAttributeError\u001b[0m: 'Series' object has no attribute 'iter'"
     ]
    }
   ],
   "source": [
    "%%time\n",
    "r = range(0,50)\n",
    "for i, x in enumerate(data.iloc[r].smiles.()):\n",
    "    print(i, x[0], x[1])\n"
   ]
  },
  {
   "cell_type": "code",
   "execution_count": 9,
   "metadata": {},
   "outputs": [
    {
     "ename": "AttributeError",
     "evalue": "'range' object has no attribute 'end'",
     "output_type": "error",
     "traceback": [
      "\u001b[0;31m---------------------------------------------------------------------------\u001b[0m",
      "\u001b[0;31mAttributeError\u001b[0m                            Traceback (most recent call last)",
      "Cell \u001b[0;32mIn[9], line 1\u001b[0m\n\u001b[0;32m----> 1\u001b[0m \u001b[39mrange\u001b[39;49m(\u001b[39m20\u001b[39;49m, \u001b[39m200\u001b[39;49m)\u001b[39m.\u001b[39;49mend\n",
      "\u001b[0;31mAttributeError\u001b[0m: 'range' object has no attribute 'end'"
     ]
    }
   ],
   "source": [
    "range(20, 200)"
   ]
  },
  {
   "cell_type": "code",
   "execution_count": 60,
   "metadata": {},
   "outputs": [],
   "source": [
    "f = open(\"Spektro/MassGenie/test_smaz\", \"r\")"
   ]
  },
  {
   "cell_type": "code",
   "execution_count": 57,
   "metadata": {},
   "outputs": [],
   "source": [
    "next(f, None)"
   ]
  },
  {
   "cell_type": "code",
   "execution_count": 59,
   "metadata": {},
   "outputs": [
    {
     "ename": "TypeError",
     "evalue": "the JSON object must be str, bytes or bytearray, not NoneType",
     "output_type": "error",
     "traceback": [
      "\u001b[0;31m---------------------------------------------------------------------------\u001b[0m",
      "\u001b[0;31mTypeError\u001b[0m                                 Traceback (most recent call last)",
      "Cell \u001b[0;32mIn[59], line 2\u001b[0m\n\u001b[1;32m      1\u001b[0m \u001b[39mimport\u001b[39;00m \u001b[39mjson\u001b[39;00m\n\u001b[0;32m----> 2\u001b[0m json\u001b[39m.\u001b[39;49mloads(\u001b[39mNone\u001b[39;49;00m)\n",
      "File \u001b[0;32m~/miniconda3/envs/BARTtrain/lib/python3.8/json/__init__.py:341\u001b[0m, in \u001b[0;36mloads\u001b[0;34m(s, cls, object_hook, parse_float, parse_int, parse_constant, object_pairs_hook, **kw)\u001b[0m\n\u001b[1;32m    339\u001b[0m \u001b[39melse\u001b[39;00m:\n\u001b[1;32m    340\u001b[0m     \u001b[39mif\u001b[39;00m \u001b[39mnot\u001b[39;00m \u001b[39misinstance\u001b[39m(s, (\u001b[39mbytes\u001b[39m, \u001b[39mbytearray\u001b[39m)):\n\u001b[0;32m--> 341\u001b[0m         \u001b[39mraise\u001b[39;00m \u001b[39mTypeError\u001b[39;00m(\u001b[39mf\u001b[39m\u001b[39m'\u001b[39m\u001b[39mthe JSON object must be str, bytes or bytearray, \u001b[39m\u001b[39m'\u001b[39m\n\u001b[1;32m    342\u001b[0m                         \u001b[39mf\u001b[39m\u001b[39m'\u001b[39m\u001b[39mnot \u001b[39m\u001b[39m{\u001b[39;00ms\u001b[39m.\u001b[39m\u001b[39m__class__\u001b[39m\u001b[39m.\u001b[39m\u001b[39m__name__\u001b[39m\u001b[39m}\u001b[39;00m\u001b[39m'\u001b[39m)\n\u001b[1;32m    343\u001b[0m     s \u001b[39m=\u001b[39m s\u001b[39m.\u001b[39mdecode(detect_encoding(s), \u001b[39m'\u001b[39m\u001b[39msurrogatepass\u001b[39m\u001b[39m'\u001b[39m)\n\u001b[1;32m    345\u001b[0m \u001b[39mif\u001b[39;00m \u001b[39m\"\u001b[39m\u001b[39mencoding\u001b[39m\u001b[39m\"\u001b[39m \u001b[39min\u001b[39;00m kw:\n",
      "\u001b[0;31mTypeError\u001b[0m: the JSON object must be str, bytes or bytearray, not NoneType"
     ]
    }
   ],
   "source": [
    "import json\n",
    "json.loads(None)"
   ]
  },
  {
   "cell_type": "code",
   "execution_count": 62,
   "metadata": {},
   "outputs": [
    {
     "data": {
      "text/plain": [
       "[(1, 4, 7), (2, 5, 8), (3, 6, 9)]"
      ]
     },
     "execution_count": 62,
     "metadata": {},
     "output_type": "execute_result"
    }
   ],
   "source": [
    "list(zip([1,2,3], [4,5,6], [7,8,9]))"
   ]
  },
  {
   "cell_type": "code",
   "execution_count": 63,
   "metadata": {},
   "outputs": [
    {
     "data": {
      "text/plain": [
       "dict_keys(['a', 'b', 'c'])"
      ]
     },
     "execution_count": 63,
     "metadata": {},
     "output_type": "execute_result"
    }
   ],
   "source": [
    "d = {\"a\": 1, \"b\": 2, \"c\": 3}\n",
    "d.keys()"
   ]
  },
  {
   "cell_type": "code",
   "execution_count": 65,
   "metadata": {},
   "outputs": [
    {
     "data": {
      "text/plain": [
       "[('a', 1, 4), ('b', 2, 3), ('c', 3, 2)]"
      ]
     },
     "execution_count": 65,
     "metadata": {},
     "output_type": "execute_result"
    }
   ],
   "source": [
    "list(zip(d.keys(), d.values(), [4,3,2]))"
   ]
  },
  {
   "cell_type": "code",
   "execution_count": 66,
   "metadata": {},
   "outputs": [
    {
     "data": {
      "text/plain": [
       "dict_items([('a', 1), ('b', 2), ('c', 3)])"
      ]
     },
     "execution_count": 66,
     "metadata": {},
     "output_type": "execute_result"
    }
   ],
   "source": [
    "d.items()"
   ]
  },
  {
   "cell_type": "code",
   "execution_count": 72,
   "metadata": {},
   "outputs": [
    {
     "ename": "TypeError",
     "evalue": "dispatcher for __array_function__ did not return an iterable",
     "output_type": "error",
     "traceback": [
      "\u001b[0;31m---------------------------------------------------------------------------\u001b[0m",
      "\u001b[0;31mTypeError\u001b[0m                                 Traceback (most recent call last)",
      "Cell \u001b[0;32mIn[72], line 1\u001b[0m\n\u001b[0;32m----> 1\u001b[0m np\u001b[39m.\u001b[39;49mstack(np\u001b[39m.\u001b[39;49marray(\u001b[39mzip\u001b[39;49m([\u001b[39m1\u001b[39;49m,\u001b[39m2\u001b[39;49m,\u001b[39m3\u001b[39;49m], [\u001b[39m4\u001b[39;49m,\u001b[39m5\u001b[39;49m,\u001b[39m6\u001b[39;49m], [\u001b[39m7\u001b[39;49m,\u001b[39m8\u001b[39;49m,\u001b[39m9\u001b[39;49m])))\n",
      "File \u001b[0;32m<__array_function__ internals>:180\u001b[0m, in \u001b[0;36mstack\u001b[0;34m(*args, **kwargs)\u001b[0m\n",
      "\u001b[0;31mTypeError\u001b[0m: dispatcher for __array_function__ did not return an iterable"
     ]
    }
   ],
   "source": [
    "np.stack(np.array(zip([1,2,3], [4,5,6], [7,8,9])))\n"
   ]
  },
  {
   "cell_type": "code",
   "execution_count": 93,
   "metadata": {},
   "outputs": [
    {
     "data": {
      "text/plain": [
       "array([1])"
      ]
     },
     "execution_count": 93,
     "metadata": {},
     "output_type": "execute_result"
    }
   ],
   "source": [
    "a = np.array([0])\n",
    "\n",
    "def foo(a):\n",
    "    a[0] += 1\n",
    "\n",
    "foo(a) \n",
    "a"
   ]
  },
  {
   "cell_type": "code",
   "execution_count": 78,
   "metadata": {},
   "outputs": [
    {
     "data": {
      "text/plain": [
       "(array([[ 3, -3],\n",
       "        [ 2, -2],\n",
       "        [ 1,  6]]),\n",
       " array([2, 1, 0]))"
      ]
     },
     "execution_count": 78,
     "metadata": {},
     "output_type": "execute_result"
    }
   ],
   "source": [
    "a = np.array([[1,6], [2,-2], [3,-3]])\n",
    "index = np.argsort(a[:, 1])\n",
    "a[index], index"
   ]
  },
  {
   "cell_type": "code",
   "execution_count": 92,
   "metadata": {},
   "outputs": [
    {
     "data": {
      "text/plain": [
       "array([8, 6])"
      ]
     },
     "execution_count": 92,
     "metadata": {},
     "output_type": "execute_result"
    }
   ],
   "source": [
    "a = np.array([1,2])\n",
    "b = np.array([[5,6,7], [2,3,4]])\n",
    "\n",
    "a[:2] += b[:, 2]\n",
    "a"
   ]
  },
  {
   "cell_type": "code",
   "execution_count": 91,
   "metadata": {},
   "outputs": [
    {
     "data": {
      "text/plain": [
       "array([[5, 6],\n",
       "       [2, 3]])"
      ]
     },
     "execution_count": 91,
     "metadata": {},
     "output_type": "execute_result"
    }
   ],
   "source": [
    "b[:, :2]"
   ]
  },
  {
   "cell_type": "code",
   "execution_count": 95,
   "metadata": {},
   "outputs": [
    {
     "ename": "JSONDecodeError",
     "evalue": "Expecting value: line 1 column 1 (char 0)",
     "output_type": "error",
     "traceback": [
      "\u001b[0;31m---------------------------------------------------------------------------\u001b[0m",
      "\u001b[0;31mJSONDecodeError\u001b[0m                           Traceback (most recent call last)",
      "Cell \u001b[0;32mIn[95], line 1\u001b[0m\n\u001b[0;32m----> 1\u001b[0m json\u001b[39m.\u001b[39;49mloads(\u001b[39m\"\u001b[39;49m\u001b[39m\"\u001b[39;49m)\n",
      "File \u001b[0;32m~/miniconda3/envs/BARTtrain/lib/python3.8/json/__init__.py:357\u001b[0m, in \u001b[0;36mloads\u001b[0;34m(s, cls, object_hook, parse_float, parse_int, parse_constant, object_pairs_hook, **kw)\u001b[0m\n\u001b[1;32m    352\u001b[0m     \u001b[39mdel\u001b[39;00m kw[\u001b[39m'\u001b[39m\u001b[39mencoding\u001b[39m\u001b[39m'\u001b[39m]\n\u001b[1;32m    354\u001b[0m \u001b[39mif\u001b[39;00m (\u001b[39mcls\u001b[39m \u001b[39mis\u001b[39;00m \u001b[39mNone\u001b[39;00m \u001b[39mand\u001b[39;00m object_hook \u001b[39mis\u001b[39;00m \u001b[39mNone\u001b[39;00m \u001b[39mand\u001b[39;00m\n\u001b[1;32m    355\u001b[0m         parse_int \u001b[39mis\u001b[39;00m \u001b[39mNone\u001b[39;00m \u001b[39mand\u001b[39;00m parse_float \u001b[39mis\u001b[39;00m \u001b[39mNone\u001b[39;00m \u001b[39mand\u001b[39;00m\n\u001b[1;32m    356\u001b[0m         parse_constant \u001b[39mis\u001b[39;00m \u001b[39mNone\u001b[39;00m \u001b[39mand\u001b[39;00m object_pairs_hook \u001b[39mis\u001b[39;00m \u001b[39mNone\u001b[39;00m \u001b[39mand\u001b[39;00m \u001b[39mnot\u001b[39;00m kw):\n\u001b[0;32m--> 357\u001b[0m     \u001b[39mreturn\u001b[39;00m _default_decoder\u001b[39m.\u001b[39;49mdecode(s)\n\u001b[1;32m    358\u001b[0m \u001b[39mif\u001b[39;00m \u001b[39mcls\u001b[39m \u001b[39mis\u001b[39;00m \u001b[39mNone\u001b[39;00m:\n\u001b[1;32m    359\u001b[0m     \u001b[39mcls\u001b[39m \u001b[39m=\u001b[39m JSONDecoder\n",
      "File \u001b[0;32m~/miniconda3/envs/BARTtrain/lib/python3.8/json/decoder.py:337\u001b[0m, in \u001b[0;36mJSONDecoder.decode\u001b[0;34m(self, s, _w)\u001b[0m\n\u001b[1;32m    332\u001b[0m \u001b[39mdef\u001b[39;00m \u001b[39mdecode\u001b[39m(\u001b[39mself\u001b[39m, s, _w\u001b[39m=\u001b[39mWHITESPACE\u001b[39m.\u001b[39mmatch):\n\u001b[1;32m    333\u001b[0m     \u001b[39m\"\"\"Return the Python representation of ``s`` (a ``str`` instance\u001b[39;00m\n\u001b[1;32m    334\u001b[0m \u001b[39m    containing a JSON document).\u001b[39;00m\n\u001b[1;32m    335\u001b[0m \n\u001b[1;32m    336\u001b[0m \u001b[39m    \"\"\"\u001b[39;00m\n\u001b[0;32m--> 337\u001b[0m     obj, end \u001b[39m=\u001b[39m \u001b[39mself\u001b[39;49m\u001b[39m.\u001b[39;49mraw_decode(s, idx\u001b[39m=\u001b[39;49m_w(s, \u001b[39m0\u001b[39;49m)\u001b[39m.\u001b[39;49mend())\n\u001b[1;32m    338\u001b[0m     end \u001b[39m=\u001b[39m _w(s, end)\u001b[39m.\u001b[39mend()\n\u001b[1;32m    339\u001b[0m     \u001b[39mif\u001b[39;00m end \u001b[39m!=\u001b[39m \u001b[39mlen\u001b[39m(s):\n",
      "File \u001b[0;32m~/miniconda3/envs/BARTtrain/lib/python3.8/json/decoder.py:355\u001b[0m, in \u001b[0;36mJSONDecoder.raw_decode\u001b[0;34m(self, s, idx)\u001b[0m\n\u001b[1;32m    353\u001b[0m     obj, end \u001b[39m=\u001b[39m \u001b[39mself\u001b[39m\u001b[39m.\u001b[39mscan_once(s, idx)\n\u001b[1;32m    354\u001b[0m \u001b[39mexcept\u001b[39;00m \u001b[39mStopIteration\u001b[39;00m \u001b[39mas\u001b[39;00m err:\n\u001b[0;32m--> 355\u001b[0m     \u001b[39mraise\u001b[39;00m JSONDecodeError(\u001b[39m\"\u001b[39m\u001b[39mExpecting value\u001b[39m\u001b[39m\"\u001b[39m, s, err\u001b[39m.\u001b[39mvalue) \u001b[39mfrom\u001b[39;00m \u001b[39mNone\u001b[39m\n\u001b[1;32m    356\u001b[0m \u001b[39mreturn\u001b[39;00m obj, end\n",
      "\u001b[0;31mJSONDecodeError\u001b[0m: Expecting value: line 1 column 1 (char 0)"
     ]
    }
   ],
   "source": [
    "json.loads(\"\")"
   ]
  },
  {
   "cell_type": "code",
   "execution_count": 97,
   "metadata": {},
   "outputs": [],
   "source": [
    "data = pd.read_pickle('Spektro/MassGenie/data/datasets/30M/30M_valid.pkl')"
   ]
  },
  {
   "cell_type": "code",
   "execution_count": 113,
   "metadata": {},
   "outputs": [
    {
     "data": {
      "text/plain": [
       "'06:02:02'"
      ]
     },
     "execution_count": 113,
     "metadata": {},
     "output_type": "execute_result"
    }
   ],
   "source": [
    "import time\n",
    "time.strftime(\"%H:%M:%S\", time.gmtime(21722.93333))"
   ]
  },
  {
   "cell_type": "code",
   "execution_count": 114,
   "metadata": {},
   "outputs": [
    {
     "data": {
      "text/html": [
       "<div>\n",
       "<style scoped>\n",
       "    .dataframe tbody tr th:only-of-type {\n",
       "        vertical-align: middle;\n",
       "    }\n",
       "\n",
       "    .dataframe tbody tr th {\n",
       "        vertical-align: top;\n",
       "    }\n",
       "\n",
       "    .dataframe thead th {\n",
       "        text-align: right;\n",
       "    }\n",
       "</style>\n",
       "<table border=\"1\" class=\"dataframe\">\n",
       "  <thead>\n",
       "    <tr style=\"text-align: right;\">\n",
       "      <th></th>\n",
       "      <th>smiles</th>\n",
       "      <th>input_ids</th>\n",
       "      <th>labels</th>\n",
       "      <th>decoder_attention_mask</th>\n",
       "      <th>encoder_attention_mask</th>\n",
       "      <th>position_ids</th>\n",
       "    </tr>\n",
       "  </thead>\n",
       "  <tbody>\n",
       "    <tr>\n",
       "      <th>16</th>\n",
       "      <td>CCNC(c1cnn2c1OCCC2)CC=C=C</td>\n",
       "      <td>[26, 27, 28, 30, 38, 39, 40, 41, 42, 43, 44, 4...</td>\n",
       "      <td>[1233, 224, 283, 11, 70, 20, 284, 21, 70, 20, ...</td>\n",
       "      <td>[1, 1, 1, 1, 1, 1, 1, 1, 1, 1, 1, 1, 1, 1, 1, ...</td>\n",
       "      <td>[1, 1, 1, 1, 1, 1, 1, 1, 1, 1, 1, 1, 1, 1, 1, ...</td>\n",
       "      <td>[3, 6, 5, 5, 5, 9, 8, 9, 9, 7, 9, 8, 6, 3, 7, ...</td>\n",
       "    </tr>\n",
       "    <tr>\n",
       "      <th>19</th>\n",
       "      <td>CCC1CN(C(=O)C)C(CN1C(=O)c1nc2ccccc2cc1Cl)CC</td>\n",
       "      <td>[36, 38, 39, 40, 41, 42, 43, 44, 49, 50, 51, 5...</td>\n",
       "      <td>[1233, 224, 276, 20, 263, 11, 38, 260, 50, 12,...</td>\n",
       "      <td>[1, 1, 1, 1, 1, 1, 1, 1, 1, 1, 1, 1, 1, 1, 1, ...</td>\n",
       "      <td>[1, 1, 1, 1, 1, 1, 1, 1, 1, 1, 1, 1, 1, 1, 1, ...</td>\n",
       "      <td>[3, 0, 6, 5, 7, 8, 8, 6, 3, 1, 5, 4, 6, 6, 5, ...</td>\n",
       "    </tr>\n",
       "    <tr>\n",
       "      <th>50</th>\n",
       "      <td>OC1CNCC1N=c1[nH]c(ncc1[N+](=O)[O-])C(C)(C)C</td>\n",
       "      <td>[30, 33, 34, 36, 38, 39, 40, 41, 42, 43, 44, 4...</td>\n",
       "      <td>[1233, 224, 286, 20, 400, 20, 49, 32, 70, 20, ...</td>\n",
       "      <td>[1, 1, 1, 1, 1, 1, 1, 1, 1, 1, 1, 1, 1, 1, 1, ...</td>\n",
       "      <td>[1, 1, 1, 1, 1, 1, 1, 1, 1, 1, 1, 1, 1, 1, 1, ...</td>\n",
       "      <td>[5, 1, 1, 3, 3, 7, 6, 9, 9, 8, 9, 6, 5, 4, 7, ...</td>\n",
       "    </tr>\n",
       "    <tr>\n",
       "      <th>59</th>\n",
       "      <td>COC(=O)Cc1ccc(c(c1)[N+](=O)[O-])NCCc1cnc2n(c1)...</td>\n",
       "      <td>[33, 36, 37, 38, 39, 40, 41, 42, 43, 44, 45, 4...</td>\n",
       "      <td>[1233, 224, 285, 260, 50, 12, 279, 20, 280, 11...</td>\n",
       "      <td>[1, 1, 1, 1, 1, 1, 1, 1, 1, 1, 1, 1, 1, 1, 1, ...</td>\n",
       "      <td>[1, 1, 1, 1, 1, 1, 1, 1, 1, 1, 1, 1, 1, 1, 1, ...</td>\n",
       "      <td>[3, 7, 0, 6, 8, 6, 6, 6, 8, 7, 5, 4, 8, 9, 9, ...</td>\n",
       "    </tr>\n",
       "    <tr>\n",
       "      <th>64</th>\n",
       "      <td>O=C(c1ccc2c(c1)n[nH]n2)Nc1ccc(cc1)NS(=O)(=O)c1...</td>\n",
       "      <td>[33, 34, 36, 37, 38, 39, 40, 41, 42, 43, 44, 4...</td>\n",
       "      <td>[1233, 224, 50, 32, 38, 11, 70, 20, 280, 21, 7...</td>\n",
       "      <td>[1, 1, 1, 1, 1, 1, 1, 1, 1, 1, 1, 1, 1, 1, 1, ...</td>\n",
       "      <td>[1, 1, 1, 1, 1, 1, 1, 1, 1, 1, 1, 1, 1, 1, 1, ...</td>\n",
       "      <td>[3, 2, 2, 1, 3, 7, 5, 6, 4, 6, 6, 6, 0, 2, 4, ...</td>\n",
       "    </tr>\n",
       "    <tr>\n",
       "      <th>...</th>\n",
       "      <td>...</td>\n",
       "      <td>...</td>\n",
       "      <td>...</td>\n",
       "      <td>...</td>\n",
       "      <td>...</td>\n",
       "      <td>...</td>\n",
       "    </tr>\n",
       "    <tr>\n",
       "      <th>374955</th>\n",
       "      <td>O=C(C1CC(=O)N(C1)C1CCS(=O)(=O)C1)OCC1OCC(C1)(C)C</td>\n",
       "      <td>[30, 33, 39, 40, 41, 42, 43, 44, 45, 47, 48, 4...</td>\n",
       "      <td>[1233, 224, 50, 32, 38, 11, 38, 20, 261, 260, ...</td>\n",
       "      <td>[1, 1, 1, 1, 1, 1, 1, 1, 1, 1, 1, 1, 1, 1, 1, ...</td>\n",
       "      <td>[1, 1, 1, 1, 1, 1, 1, 1, 1, 1, 1, 1, 1, 1, 1, ...</td>\n",
       "      <td>[4, 1, 7, 5, 9, 8, 8, 7, 6, 4, 5, 3, 3, 5, 8, ...</td>\n",
       "    </tr>\n",
       "    <tr>\n",
       "      <th>374968</th>\n",
       "      <td>OCCN(C1CCN(CC1)C(=O)C1CC1)CC1CCC(CC1)(C)C</td>\n",
       "      <td>[33, 39, 41, 42, 43, 44, 45, 53, 54, 55, 56, 5...</td>\n",
       "      <td>[1233, 224, 321, 11, 38, 20, 269, 11, 261, 20,...</td>\n",
       "      <td>[1, 1, 1, 1, 1, 1, 1, 1, 1, 1, 1, 1, 1, 1, 1, ...</td>\n",
       "      <td>[1, 1, 1, 1, 1, 1, 1, 1, 1, 1, 1, 1, 1, 1, 1, ...</td>\n",
       "      <td>[4, 4, 9, 9, 8, 9, 6, 7, 7, 9, 8, 7, 6, 4, 8, ...</td>\n",
       "    </tr>\n",
       "    <tr>\n",
       "      <th>374972</th>\n",
       "      <td>CC=C(C(=O)N1CC(C(C1)CNC(=O)CC1CCCC1(F)F)C)C</td>\n",
       "      <td>[29, 30, 33, 36, 38, 39, 40, 41, 42, 43, 44, 4...</td>\n",
       "      <td>[1233, 224, 261, 32, 38, 11, 38, 260, 50, 12, ...</td>\n",
       "      <td>[1, 1, 1, 1, 1, 1, 1, 1, 1, 1, 1, 1, 1, 1, 1, ...</td>\n",
       "      <td>[1, 1, 1, 1, 1, 1, 1, 1, 1, 1, 1, 1, 1, 1, 1, ...</td>\n",
       "      <td>[1, 5, 4, 1, 4, 8, 7, 9, 8, 8, 8, 6, 0, 1, 5, ...</td>\n",
       "    </tr>\n",
       "    <tr>\n",
       "      <th>374986</th>\n",
       "      <td>NC1CC2COCC(C1)C2NCC(c1ccn(n1)C)C</td>\n",
       "      <td>[30, 33, 36, 38, 39, 40, 41, 42, 43, 44, 45, 4...</td>\n",
       "      <td>[1233, 224, 265, 20, 261, 21, 306, 11, 38, 20,...</td>\n",
       "      <td>[1, 1, 1, 1, 1, 1, 1, 1, 1, 1, 1, 1, 1, 1, 1, ...</td>\n",
       "      <td>[1, 1, 1, 1, 1, 1, 1, 1, 1, 1, 1, 1, 1, 1, 1, ...</td>\n",
       "      <td>[3, 2, 3, 4, 8, 6, 9, 9, 9, 9, 7, 6, 3, 2, 7, ...</td>\n",
       "    </tr>\n",
       "    <tr>\n",
       "      <th>374988</th>\n",
       "      <td>FC(CNCCN1CCOC(C1)C(C)(C)C)(F)F</td>\n",
       "      <td>[15, 27, 28, 29, 30, 33, 37, 38, 39, 40, 41, 4...</td>\n",
       "      <td>[1233, 224, 495, 11, 447, 20, 292, 11, 38, 20,...</td>\n",
       "      <td>[1, 1, 1, 1, 1, 1, 1, 1, 1, 1, 1, 1, 1, 1, 1, ...</td>\n",
       "      <td>[1, 1, 1, 1, 1, 1, 1, 1, 1, 1, 1, 1, 1, 1, 1, ...</td>\n",
       "      <td>[2, 1, 4, 4, 2, 2, 1, 3, 6, 6, 9, 9, 8, 8, 6, ...</td>\n",
       "    </tr>\n",
       "  </tbody>\n",
       "</table>\n",
       "<p>1246114 rows × 6 columns</p>\n",
       "</div>"
      ],
      "text/plain": [
       "                                                   smiles  \\\n",
       "16                              CCNC(c1cnn2c1OCCC2)CC=C=C   \n",
       "19            CCC1CN(C(=O)C)C(CN1C(=O)c1nc2ccccc2cc1Cl)CC   \n",
       "50            OC1CNCC1N=c1[nH]c(ncc1[N+](=O)[O-])C(C)(C)C   \n",
       "59      COC(=O)Cc1ccc(c(c1)[N+](=O)[O-])NCCc1cnc2n(c1)...   \n",
       "64      O=C(c1ccc2c(c1)n[nH]n2)Nc1ccc(cc1)NS(=O)(=O)c1...   \n",
       "...                                                   ...   \n",
       "374955   O=C(C1CC(=O)N(C1)C1CCS(=O)(=O)C1)OCC1OCC(C1)(C)C   \n",
       "374968          OCCN(C1CCN(CC1)C(=O)C1CC1)CC1CCC(CC1)(C)C   \n",
       "374972        CC=C(C(=O)N1CC(C(C1)CNC(=O)CC1CCCC1(F)F)C)C   \n",
       "374986                   NC1CC2COCC(C1)C2NCC(c1ccn(n1)C)C   \n",
       "374988                     FC(CNCCN1CCOC(C1)C(C)(C)C)(F)F   \n",
       "\n",
       "                                                input_ids  \\\n",
       "16      [26, 27, 28, 30, 38, 39, 40, 41, 42, 43, 44, 4...   \n",
       "19      [36, 38, 39, 40, 41, 42, 43, 44, 49, 50, 51, 5...   \n",
       "50      [30, 33, 34, 36, 38, 39, 40, 41, 42, 43, 44, 4...   \n",
       "59      [33, 36, 37, 38, 39, 40, 41, 42, 43, 44, 45, 4...   \n",
       "64      [33, 34, 36, 37, 38, 39, 40, 41, 42, 43, 44, 4...   \n",
       "...                                                   ...   \n",
       "374955  [30, 33, 39, 40, 41, 42, 43, 44, 45, 47, 48, 4...   \n",
       "374968  [33, 39, 41, 42, 43, 44, 45, 53, 54, 55, 56, 5...   \n",
       "374972  [29, 30, 33, 36, 38, 39, 40, 41, 42, 43, 44, 4...   \n",
       "374986  [30, 33, 36, 38, 39, 40, 41, 42, 43, 44, 45, 4...   \n",
       "374988  [15, 27, 28, 29, 30, 33, 37, 38, 39, 40, 41, 4...   \n",
       "\n",
       "                                                   labels  \\\n",
       "16      [1233, 224, 283, 11, 70, 20, 284, 21, 70, 20, ...   \n",
       "19      [1233, 224, 276, 20, 263, 11, 38, 260, 50, 12,...   \n",
       "50      [1233, 224, 286, 20, 400, 20, 49, 32, 70, 20, ...   \n",
       "59      [1233, 224, 285, 260, 50, 12, 279, 20, 280, 11...   \n",
       "64      [1233, 224, 50, 32, 38, 11, 70, 20, 280, 21, 7...   \n",
       "...                                                   ...   \n",
       "374955  [1233, 224, 50, 32, 38, 11, 38, 20, 261, 260, ...   \n",
       "374968  [1233, 224, 321, 11, 38, 20, 269, 11, 261, 20,...   \n",
       "374972  [1233, 224, 261, 32, 38, 11, 38, 260, 50, 12, ...   \n",
       "374986  [1233, 224, 265, 20, 261, 21, 306, 11, 38, 20,...   \n",
       "374988  [1233, 224, 495, 11, 447, 20, 292, 11, 38, 20,...   \n",
       "\n",
       "                                   decoder_attention_mask  \\\n",
       "16      [1, 1, 1, 1, 1, 1, 1, 1, 1, 1, 1, 1, 1, 1, 1, ...   \n",
       "19      [1, 1, 1, 1, 1, 1, 1, 1, 1, 1, 1, 1, 1, 1, 1, ...   \n",
       "50      [1, 1, 1, 1, 1, 1, 1, 1, 1, 1, 1, 1, 1, 1, 1, ...   \n",
       "59      [1, 1, 1, 1, 1, 1, 1, 1, 1, 1, 1, 1, 1, 1, 1, ...   \n",
       "64      [1, 1, 1, 1, 1, 1, 1, 1, 1, 1, 1, 1, 1, 1, 1, ...   \n",
       "...                                                   ...   \n",
       "374955  [1, 1, 1, 1, 1, 1, 1, 1, 1, 1, 1, 1, 1, 1, 1, ...   \n",
       "374968  [1, 1, 1, 1, 1, 1, 1, 1, 1, 1, 1, 1, 1, 1, 1, ...   \n",
       "374972  [1, 1, 1, 1, 1, 1, 1, 1, 1, 1, 1, 1, 1, 1, 1, ...   \n",
       "374986  [1, 1, 1, 1, 1, 1, 1, 1, 1, 1, 1, 1, 1, 1, 1, ...   \n",
       "374988  [1, 1, 1, 1, 1, 1, 1, 1, 1, 1, 1, 1, 1, 1, 1, ...   \n",
       "\n",
       "                                   encoder_attention_mask  \\\n",
       "16      [1, 1, 1, 1, 1, 1, 1, 1, 1, 1, 1, 1, 1, 1, 1, ...   \n",
       "19      [1, 1, 1, 1, 1, 1, 1, 1, 1, 1, 1, 1, 1, 1, 1, ...   \n",
       "50      [1, 1, 1, 1, 1, 1, 1, 1, 1, 1, 1, 1, 1, 1, 1, ...   \n",
       "59      [1, 1, 1, 1, 1, 1, 1, 1, 1, 1, 1, 1, 1, 1, 1, ...   \n",
       "64      [1, 1, 1, 1, 1, 1, 1, 1, 1, 1, 1, 1, 1, 1, 1, ...   \n",
       "...                                                   ...   \n",
       "374955  [1, 1, 1, 1, 1, 1, 1, 1, 1, 1, 1, 1, 1, 1, 1, ...   \n",
       "374968  [1, 1, 1, 1, 1, 1, 1, 1, 1, 1, 1, 1, 1, 1, 1, ...   \n",
       "374972  [1, 1, 1, 1, 1, 1, 1, 1, 1, 1, 1, 1, 1, 1, 1, ...   \n",
       "374986  [1, 1, 1, 1, 1, 1, 1, 1, 1, 1, 1, 1, 1, 1, 1, ...   \n",
       "374988  [1, 1, 1, 1, 1, 1, 1, 1, 1, 1, 1, 1, 1, 1, 1, ...   \n",
       "\n",
       "                                             position_ids  \n",
       "16      [3, 6, 5, 5, 5, 9, 8, 9, 9, 7, 9, 8, 6, 3, 7, ...  \n",
       "19      [3, 0, 6, 5, 7, 8, 8, 6, 3, 1, 5, 4, 6, 6, 5, ...  \n",
       "50      [5, 1, 1, 3, 3, 7, 6, 9, 9, 8, 9, 6, 5, 4, 7, ...  \n",
       "59      [3, 7, 0, 6, 8, 6, 6, 6, 8, 7, 5, 4, 8, 9, 9, ...  \n",
       "64      [3, 2, 2, 1, 3, 7, 5, 6, 4, 6, 6, 6, 0, 2, 4, ...  \n",
       "...                                                   ...  \n",
       "374955  [4, 1, 7, 5, 9, 8, 8, 7, 6, 4, 5, 3, 3, 5, 8, ...  \n",
       "374968  [4, 4, 9, 9, 8, 9, 6, 7, 7, 9, 8, 7, 6, 4, 8, ...  \n",
       "374972  [1, 5, 4, 1, 4, 8, 7, 9, 8, 8, 8, 6, 0, 1, 5, ...  \n",
       "374986  [3, 2, 3, 4, 8, 6, 9, 9, 9, 9, 7, 6, 3, 2, 7, ...  \n",
       "374988  [2, 1, 4, 4, 2, 2, 1, 3, 6, 6, 9, 9, 8, 8, 6, ...  \n",
       "\n",
       "[1246114 rows x 6 columns]"
      ]
     },
     "execution_count": 114,
     "metadata": {},
     "output_type": "execute_result"
    }
   ],
   "source": [
    "data"
   ]
  },
  {
   "cell_type": "code",
   "execution_count": 121,
   "metadata": {},
   "outputs": [
    {
     "name": "stderr",
     "output_type": "stream",
     "text": []
    },
    {
     "name": "stderr",
     "output_type": "stream",
     "text": [
      "100%|██████████| 1246114/1246114 [00:00<00:00, 3204466.46it/s]\n"
     ]
    }
   ],
   "source": [
    "with open('Spektro/MassGenie/data/datasets/30M/30M_valid.smi', 'w') as f:\n",
    "    for s in tqdm(data.smiles):\n",
    "        f.write(s + '\\n')"
   ]
  },
  {
   "cell_type": "code",
   "execution_count": 10,
   "metadata": {},
   "outputs": [
    {
     "data": {
      "text/plain": [
       "plotly.graph_objs._figure.Figure"
      ]
     },
     "execution_count": 10,
     "metadata": {},
     "output_type": "execute_result"
    }
   ],
   "source": [
    "import plotly.express as px\n",
    "df = px.data.tips()\n",
    "fig = px.box(df, x=\"time\", y=\"total_bill\", points=\"all\")\n",
    "type(fig)"
   ]
  },
  {
   "cell_type": "code",
   "execution_count": 4,
   "metadata": {},
   "outputs": [
    {
     "ename": "ValueError",
     "evalue": "String or int arguments are only possible when a DataFrame or an array is provided in the `data_frame` argument. No DataFrame was provided, but argument 'y' is of type str or int.",
     "output_type": "error",
     "traceback": [
      "\u001b[0;31m---------------------------------------------------------------------------\u001b[0m",
      "\u001b[0;31mValueError\u001b[0m                                Traceback (most recent call last)",
      "Cell \u001b[0;32mIn[4], line 1\u001b[0m\n\u001b[0;32m----> 1\u001b[0m fig \u001b[39m=\u001b[39m px\u001b[39m.\u001b[39;49mbox(x\u001b[39m=\u001b[39;49m[\u001b[39m\"\u001b[39;49m\u001b[39ma\u001b[39;49m\u001b[39m\"\u001b[39;49m, \u001b[39m\"\u001b[39;49m\u001b[39mb\u001b[39;49m\u001b[39m\"\u001b[39;49m], y\u001b[39m=\u001b[39;49m\u001b[39m\"\u001b[39;49m\u001b[39mtotal_bill\u001b[39;49m\u001b[39m\"\u001b[39;49m, points\u001b[39m=\u001b[39;49m\u001b[39m\"\u001b[39;49m\u001b[39mall\u001b[39;49m\u001b[39m\"\u001b[39;49m)\n",
      "File \u001b[0;32m~/miniconda3/envs/BARTtrain/lib/python3.8/site-packages/plotly/express/_chart_types.py:666\u001b[0m, in \u001b[0;36mbox\u001b[0;34m(data_frame, x, y, color, facet_row, facet_col, facet_col_wrap, facet_row_spacing, facet_col_spacing, hover_name, hover_data, custom_data, animation_frame, animation_group, category_orders, labels, color_discrete_sequence, color_discrete_map, orientation, boxmode, log_x, log_y, range_x, range_y, points, notched, title, template, width, height)\u001b[0m\n\u001b[1;32m    625\u001b[0m \u001b[39mdef\u001b[39;00m \u001b[39mbox\u001b[39m(\n\u001b[1;32m    626\u001b[0m     data_frame\u001b[39m=\u001b[39m\u001b[39mNone\u001b[39;00m,\n\u001b[1;32m    627\u001b[0m     x\u001b[39m=\u001b[39m\u001b[39mNone\u001b[39;00m,\n\u001b[0;32m   (...)\u001b[0m\n\u001b[1;32m    655\u001b[0m     height\u001b[39m=\u001b[39m\u001b[39mNone\u001b[39;00m,\n\u001b[1;32m    656\u001b[0m ) \u001b[39m-\u001b[39m\u001b[39m>\u001b[39m go\u001b[39m.\u001b[39mFigure:\n\u001b[1;32m    657\u001b[0m     \u001b[39m\"\"\"\u001b[39;00m\n\u001b[1;32m    658\u001b[0m \u001b[39m    In a box plot, rows of `data_frame` are grouped together into a\u001b[39;00m\n\u001b[1;32m    659\u001b[0m \u001b[39m    box-and-whisker mark to visualize their distribution.\u001b[39;00m\n\u001b[0;32m   (...)\u001b[0m\n\u001b[1;32m    664\u001b[0m \u001b[39m    range (IQR: Q3-Q1), see \"points\" for other options.\u001b[39;00m\n\u001b[1;32m    665\u001b[0m \u001b[39m    \"\"\"\u001b[39;00m\n\u001b[0;32m--> 666\u001b[0m     \u001b[39mreturn\u001b[39;00m make_figure(\n\u001b[1;32m    667\u001b[0m         args\u001b[39m=\u001b[39;49m\u001b[39mlocals\u001b[39;49m(),\n\u001b[1;32m    668\u001b[0m         constructor\u001b[39m=\u001b[39;49mgo\u001b[39m.\u001b[39;49mBox,\n\u001b[1;32m    669\u001b[0m         trace_patch\u001b[39m=\u001b[39;49m\u001b[39mdict\u001b[39;49m(boxpoints\u001b[39m=\u001b[39;49mpoints, notched\u001b[39m=\u001b[39;49mnotched, x0\u001b[39m=\u001b[39;49m\u001b[39m\"\u001b[39;49m\u001b[39m \u001b[39;49m\u001b[39m\"\u001b[39;49m, y0\u001b[39m=\u001b[39;49m\u001b[39m\"\u001b[39;49m\u001b[39m \u001b[39;49m\u001b[39m\"\u001b[39;49m),\n\u001b[1;32m    670\u001b[0m         layout_patch\u001b[39m=\u001b[39;49m\u001b[39mdict\u001b[39;49m(boxmode\u001b[39m=\u001b[39;49mboxmode),\n\u001b[1;32m    671\u001b[0m     )\n",
      "File \u001b[0;32m~/miniconda3/envs/BARTtrain/lib/python3.8/site-packages/plotly/express/_core.py:2072\u001b[0m, in \u001b[0;36mmake_figure\u001b[0;34m(args, constructor, trace_patch, layout_patch)\u001b[0m\n\u001b[1;32m   2069\u001b[0m layout_patch \u001b[39m=\u001b[39m layout_patch \u001b[39mor\u001b[39;00m {}\n\u001b[1;32m   2070\u001b[0m apply_default_cascade(args)\n\u001b[0;32m-> 2072\u001b[0m args \u001b[39m=\u001b[39m build_dataframe(args, constructor)\n\u001b[1;32m   2073\u001b[0m \u001b[39mif\u001b[39;00m constructor \u001b[39min\u001b[39;00m [go\u001b[39m.\u001b[39mTreemap, go\u001b[39m.\u001b[39mSunburst, go\u001b[39m.\u001b[39mIcicle] \u001b[39mand\u001b[39;00m args[\u001b[39m\"\u001b[39m\u001b[39mpath\u001b[39m\u001b[39m\"\u001b[39m] \u001b[39mis\u001b[39;00m \u001b[39mnot\u001b[39;00m \u001b[39mNone\u001b[39;00m:\n\u001b[1;32m   2074\u001b[0m     args \u001b[39m=\u001b[39m process_dataframe_hierarchy(args)\n",
      "File \u001b[0;32m~/miniconda3/envs/BARTtrain/lib/python3.8/site-packages/plotly/express/_core.py:1481\u001b[0m, in \u001b[0;36mbuild_dataframe\u001b[0;34m(args, constructor)\u001b[0m\n\u001b[1;32m   1478\u001b[0m     args[\u001b[39m\"\u001b[39m\u001b[39mcolor\u001b[39m\u001b[39m\"\u001b[39m] \u001b[39m=\u001b[39m \u001b[39mNone\u001b[39;00m\n\u001b[1;32m   1479\u001b[0m \u001b[39m# now that things have been prepped, we do the systematic rewriting of `args`\u001b[39;00m\n\u001b[0;32m-> 1481\u001b[0m df_output, wide_id_vars \u001b[39m=\u001b[39m process_args_into_dataframe(\n\u001b[1;32m   1482\u001b[0m     args, wide_mode, var_name, value_name\n\u001b[1;32m   1483\u001b[0m )\n\u001b[1;32m   1485\u001b[0m \u001b[39m# now that `df_output` exists and `args` contains only references, we complete\u001b[39;00m\n\u001b[1;32m   1486\u001b[0m \u001b[39m# the special-case and wide-mode handling by further rewriting args and/or mutating\u001b[39;00m\n\u001b[1;32m   1487\u001b[0m \u001b[39m# df_output\u001b[39;00m\n\u001b[1;32m   1489\u001b[0m count_name \u001b[39m=\u001b[39m _escape_col_name(df_output, \u001b[39m\"\u001b[39m\u001b[39mcount\u001b[39m\u001b[39m\"\u001b[39m, [var_name, value_name])\n",
      "File \u001b[0;32m~/miniconda3/envs/BARTtrain/lib/python3.8/site-packages/plotly/express/_core.py:1192\u001b[0m, in \u001b[0;36mprocess_args_into_dataframe\u001b[0;34m(args, wide_mode, var_name, value_name)\u001b[0m\n\u001b[1;32m   1190\u001b[0m     df_output[col_name] \u001b[39m=\u001b[39m to_unindexed_series(real_argument, col_name)\n\u001b[1;32m   1191\u001b[0m \u001b[39melif\u001b[39;00m \u001b[39mnot\u001b[39;00m df_provided:\n\u001b[0;32m-> 1192\u001b[0m     \u001b[39mraise\u001b[39;00m \u001b[39mValueError\u001b[39;00m(\n\u001b[1;32m   1193\u001b[0m         \u001b[39m\"\u001b[39m\u001b[39mString or int arguments are only possible when a \u001b[39m\u001b[39m\"\u001b[39m\n\u001b[1;32m   1194\u001b[0m         \u001b[39m\"\u001b[39m\u001b[39mDataFrame or an array is provided in the `data_frame` \u001b[39m\u001b[39m\"\u001b[39m\n\u001b[1;32m   1195\u001b[0m         \u001b[39m\"\u001b[39m\u001b[39margument. No DataFrame was provided, but argument \u001b[39m\u001b[39m\"\u001b[39m\n\u001b[1;32m   1196\u001b[0m         \u001b[39m\"\u001b[39m\u001b[39m'\u001b[39m\u001b[39m%s\u001b[39;00m\u001b[39m'\u001b[39m\u001b[39m is of type str or int.\u001b[39m\u001b[39m\"\u001b[39m \u001b[39m%\u001b[39m field\n\u001b[1;32m   1197\u001b[0m     )\n\u001b[1;32m   1198\u001b[0m \u001b[39m# Check validity of column name\u001b[39;00m\n\u001b[1;32m   1199\u001b[0m \u001b[39melif\u001b[39;00m argument \u001b[39mnot\u001b[39;00m \u001b[39min\u001b[39;00m df_input\u001b[39m.\u001b[39mcolumns:\n",
      "\u001b[0;31mValueError\u001b[0m: String or int arguments are only possible when a DataFrame or an array is provided in the `data_frame` argument. No DataFrame was provided, but argument 'y' is of type str or int."
     ]
    }
   ],
   "source": [
    "fig = px.box(x=[\"a\", \"b\"], y=\"total_bill\", points=\"all\")\n"
   ]
  },
  {
   "cell_type": "code",
   "execution_count": 2,
   "metadata": {},
   "outputs": [
    {
     "data": {
      "text/html": [
       "<div>\n",
       "<style scoped>\n",
       "    .dataframe tbody tr th:only-of-type {\n",
       "        vertical-align: middle;\n",
       "    }\n",
       "\n",
       "    .dataframe tbody tr th {\n",
       "        vertical-align: top;\n",
       "    }\n",
       "\n",
       "    .dataframe thead th {\n",
       "        text-align: right;\n",
       "    }\n",
       "</style>\n",
       "<table border=\"1\" class=\"dataframe\">\n",
       "  <thead>\n",
       "    <tr style=\"text-align: right;\">\n",
       "      <th></th>\n",
       "      <th>total_bill</th>\n",
       "      <th>tip</th>\n",
       "      <th>sex</th>\n",
       "      <th>smoker</th>\n",
       "      <th>day</th>\n",
       "      <th>time</th>\n",
       "      <th>size</th>\n",
       "    </tr>\n",
       "  </thead>\n",
       "  <tbody>\n",
       "    <tr>\n",
       "      <th>0</th>\n",
       "      <td>16.99</td>\n",
       "      <td>1.01</td>\n",
       "      <td>Female</td>\n",
       "      <td>No</td>\n",
       "      <td>Sun</td>\n",
       "      <td>Dinner</td>\n",
       "      <td>2</td>\n",
       "    </tr>\n",
       "    <tr>\n",
       "      <th>1</th>\n",
       "      <td>10.34</td>\n",
       "      <td>1.66</td>\n",
       "      <td>Male</td>\n",
       "      <td>No</td>\n",
       "      <td>Sun</td>\n",
       "      <td>Dinner</td>\n",
       "      <td>3</td>\n",
       "    </tr>\n",
       "    <tr>\n",
       "      <th>2</th>\n",
       "      <td>21.01</td>\n",
       "      <td>3.50</td>\n",
       "      <td>Male</td>\n",
       "      <td>No</td>\n",
       "      <td>Sun</td>\n",
       "      <td>Dinner</td>\n",
       "      <td>3</td>\n",
       "    </tr>\n",
       "    <tr>\n",
       "      <th>3</th>\n",
       "      <td>23.68</td>\n",
       "      <td>3.31</td>\n",
       "      <td>Male</td>\n",
       "      <td>No</td>\n",
       "      <td>Sun</td>\n",
       "      <td>Dinner</td>\n",
       "      <td>2</td>\n",
       "    </tr>\n",
       "    <tr>\n",
       "      <th>4</th>\n",
       "      <td>24.59</td>\n",
       "      <td>3.61</td>\n",
       "      <td>Female</td>\n",
       "      <td>No</td>\n",
       "      <td>Sun</td>\n",
       "      <td>Dinner</td>\n",
       "      <td>4</td>\n",
       "    </tr>\n",
       "    <tr>\n",
       "      <th>...</th>\n",
       "      <td>...</td>\n",
       "      <td>...</td>\n",
       "      <td>...</td>\n",
       "      <td>...</td>\n",
       "      <td>...</td>\n",
       "      <td>...</td>\n",
       "      <td>...</td>\n",
       "    </tr>\n",
       "    <tr>\n",
       "      <th>239</th>\n",
       "      <td>29.03</td>\n",
       "      <td>5.92</td>\n",
       "      <td>Male</td>\n",
       "      <td>No</td>\n",
       "      <td>Sat</td>\n",
       "      <td>Dinner</td>\n",
       "      <td>3</td>\n",
       "    </tr>\n",
       "    <tr>\n",
       "      <th>240</th>\n",
       "      <td>27.18</td>\n",
       "      <td>2.00</td>\n",
       "      <td>Female</td>\n",
       "      <td>Yes</td>\n",
       "      <td>Sat</td>\n",
       "      <td>Dinner</td>\n",
       "      <td>2</td>\n",
       "    </tr>\n",
       "    <tr>\n",
       "      <th>241</th>\n",
       "      <td>22.67</td>\n",
       "      <td>2.00</td>\n",
       "      <td>Male</td>\n",
       "      <td>Yes</td>\n",
       "      <td>Sat</td>\n",
       "      <td>Dinner</td>\n",
       "      <td>2</td>\n",
       "    </tr>\n",
       "    <tr>\n",
       "      <th>242</th>\n",
       "      <td>17.82</td>\n",
       "      <td>1.75</td>\n",
       "      <td>Male</td>\n",
       "      <td>No</td>\n",
       "      <td>Sat</td>\n",
       "      <td>Dinner</td>\n",
       "      <td>2</td>\n",
       "    </tr>\n",
       "    <tr>\n",
       "      <th>243</th>\n",
       "      <td>18.78</td>\n",
       "      <td>3.00</td>\n",
       "      <td>Female</td>\n",
       "      <td>No</td>\n",
       "      <td>Thur</td>\n",
       "      <td>Dinner</td>\n",
       "      <td>2</td>\n",
       "    </tr>\n",
       "  </tbody>\n",
       "</table>\n",
       "<p>244 rows × 7 columns</p>\n",
       "</div>"
      ],
      "text/plain": [
       "     total_bill   tip     sex smoker   day    time  size\n",
       "0         16.99  1.01  Female     No   Sun  Dinner     2\n",
       "1         10.34  1.66    Male     No   Sun  Dinner     3\n",
       "2         21.01  3.50    Male     No   Sun  Dinner     3\n",
       "3         23.68  3.31    Male     No   Sun  Dinner     2\n",
       "4         24.59  3.61  Female     No   Sun  Dinner     4\n",
       "..          ...   ...     ...    ...   ...     ...   ...\n",
       "239       29.03  5.92    Male     No   Sat  Dinner     3\n",
       "240       27.18  2.00  Female    Yes   Sat  Dinner     2\n",
       "241       22.67  2.00    Male    Yes   Sat  Dinner     2\n",
       "242       17.82  1.75    Male     No   Sat  Dinner     2\n",
       "243       18.78  3.00  Female     No  Thur  Dinner     2\n",
       "\n",
       "[244 rows x 7 columns]"
      ]
     },
     "execution_count": 2,
     "metadata": {},
     "output_type": "execute_result"
    }
   ],
   "source": [
    "df"
   ]
  },
  {
   "cell_type": "code",
   "execution_count": 7,
   "metadata": {},
   "outputs": [],
   "source": [
    "from collections import defaultdict\n",
    "\n",
    "a = defaultdict(list)\n",
    "a[\"a\"].append(1)"
   ]
  },
  {
   "cell_type": "code",
   "execution_count": 8,
   "metadata": {},
   "outputs": [
    {
     "data": {
      "text/plain": [
       "defaultdict(list, {'a': [1]})"
      ]
     },
     "execution_count": 8,
     "metadata": {},
     "output_type": "execute_result"
    }
   ],
   "source": [
    "a"
   ]
  },
  {
   "cell_type": "code",
   "execution_count": null,
   "metadata": {},
   "outputs": [],
   "source": []
  }
 ],
 "metadata": {
  "kernelspec": {
   "display_name": "BARTtrain",
   "language": "python",
   "name": "barttrain"
  },
  "language_info": {
   "codemirror_mode": {
    "name": "ipython",
    "version": 3
   },
   "file_extension": ".py",
   "mimetype": "text/x-python",
   "name": "python",
   "nbconvert_exporter": "python",
   "pygments_lexer": "ipython3",
   "version": "3.8.16"
  },
  "orig_nbformat": 4
 },
 "nbformat": 4,
 "nbformat_minor": 2
}
