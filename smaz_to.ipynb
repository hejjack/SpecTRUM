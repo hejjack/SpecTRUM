{
 "cells": [
  {
   "cell_type": "code",
   "execution_count": 6,
   "metadata": {},
   "outputs": [
    {
     "name": "stdout",
     "output_type": "stream",
     "text": [
      "The autoreload extension is already loaded. To reload it, use:\n",
      "  %reload_ext autoreload\n"
     ]
    }
   ],
   "source": [
    "import torch\n",
    "import numpy as np\n",
    "import pandas as pd\n",
    "from pathlib import Path \n",
    "from tqdm import tqdm\n",
    "from Spektro.MassGenie.spectra_process_utils import preprocess_spectra, preprocess_spectrum, msp_file_to_pkl\n",
    "\n",
    "\n",
    "%load_ext autoreload\n",
    "%autoreload 2"
   ]
  },
  {
   "cell_type": "code",
   "execution_count": 2,
   "metadata": {},
   "outputs": [],
   "source": [
    "from tokenizers import Tokenizer\n",
    "tokenizer_path = \"Spektro/MassGenie/tokenizer/bbpe_tokenizer/bart_bbpe_1M_tokenizer.model\"\n",
    "tokenizer = Tokenizer.from_file(tokenizer_path)"
   ]
  },
  {
   "cell_type": "code",
   "execution_count": 174,
   "metadata": {},
   "outputs": [
    {
     "name": "stderr",
     "output_type": "stream",
     "text": [
      "[autoreload of Spektro.MassGenie.spectra_process_utils failed: Traceback (most recent call last):\n",
      "  File \"/storage/brno2/home/ahajek/miniconda3/envs/BARTtrain/lib/python3.8/site-packages/IPython/extensions/autoreload.py\", line 261, in check\n",
      "    superreload(m, reload, self.old_objects)\n",
      "  File \"/storage/brno2/home/ahajek/miniconda3/envs/BARTtrain/lib/python3.8/site-packages/IPython/extensions/autoreload.py\", line 459, in superreload\n",
      "    module = reload(module)\n",
      "  File \"/storage/brno2/home/ahajek/miniconda3/envs/BARTtrain/lib/python3.8/importlib/__init__.py\", line 169, in reload\n",
      "    _bootstrap._exec(spec, module)\n",
      "  File \"<frozen importlib._bootstrap>\", line 604, in _exec\n",
      "  File \"<frozen importlib._bootstrap_external>\", line 843, in exec_module\n",
      "  File \"<frozen importlib._bootstrap>\", line 219, in _call_with_frames_removed\n",
      "  File \"/mnt/storage-brno2/home/ahajek/Spektro/MassGenie/spectra_process_utils.py\", line 179, in <module>\n",
      "    def msp_file_to_pkl(path_msp: Path,\n",
      "NameError: name 'Path' is not defined\n",
      "]\n"
     ]
    }
   ],
   "source": [
    "from Spektro.MassGenie.dataset import SpectroDataset, SpectroDataCollator\n",
    "\n",
    "data_range = range(0, 10) ####!!!!!########\n",
    "data_path = \"Spektro/MassGenie/data/datasets/DEBUG/DEBUG_valid.pkl\"\n",
    "dataset = SpectroDataset(data_path, eval_mode=True)#[0:20] ####!!!!!########\n",
    "subset = torch.utils.data.Subset(dataset, data_range) ####!!!!!########\n",
    "loader = torch.utils.data.DataLoader(subset,\n",
    "                                     batch_size=5,\n",
    "                                     collate_fn=SpectroDataCollator(eval_mode=True),\n",
    "                                     drop_last=False,\n",
    "                                     shuffle=False)\n"
   ]
  },
  {
   "cell_type": "code",
   "execution_count": 121,
   "metadata": {},
   "outputs": [
    {
     "name": "stderr",
     "output_type": "stream",
     "text": []
    },
    {
     "name": "stderr",
     "output_type": "stream",
     "text": [
      "100%|██████████| 1246114/1246114 [00:00<00:00, 3204466.46it/s]\n"
     ]
    }
   ],
   "source": [
    "with open('Spektro/MassGenie/data/datasets/30M/30M_valid.smi', 'w') as f:\n",
    "    for s in tqdm(data.smiles):\n",
    "        f.write(s + '\\n')"
   ]
  },
  {
   "cell_type": "code",
   "execution_count": 129,
   "metadata": {},
   "outputs": [
    {
     "data": {
      "image/png": "[encoded data removed]",
      "image/svg+xml": [
       "<?xml version='1.0' encoding='iso-8859-1'?>\n",
       "<svg version='1.1' baseProfile='full'\n",
       "              xmlns='http://www.w3.org/2000/svg'\n",
       "                      xmlns:rdkit='http://www.rdkit.org/xml'\n",
       "                      xmlns:xlink='http://www.w3.org/1999/xlink'\n",
       "                  xml:space='preserve'\n",
       "width='450px' height='150px' viewBox='0 0 450 150'>\n",
       "<!-- END OF HEADER -->\n",
       "<rect style='opacity:1.0;fill:#FFFFFF;stroke:none' width='450.0' height='150.0' x='0.0' y='0.0'> </rect>\n",
       "<path class='bond-0 atom-0 atom-1' d='M 73.3,117.8 L 106.0,94.8' style='fill:none;fill-rule:evenodd;stroke:#000000;stroke-width:2.0px;stroke-linecap:butt;stroke-linejoin:miter;stroke-opacity:1' />\n",
       "<path class='bond-1 atom-1 atom-2' d='M 106.0,94.8 L 145.3,101.7' style='fill:none;fill-rule:evenodd;stroke:#000000;stroke-width:2.0px;stroke-linecap:butt;stroke-linejoin:miter;stroke-opacity:1' />\n",
       "<path class='bond-2 atom-2 atom-3' d='M 145.3,101.7 L 152.2,62.4' style='fill:none;fill-rule:evenodd;stroke:#000000;stroke-width:2.0px;stroke-linecap:butt;stroke-linejoin:miter;stroke-opacity:1' />\n",
       "<path class='bond-3 atom-3 atom-4' d='M 152.2,62.4 L 184.8,39.5' style='fill:none;fill-rule:evenodd;stroke:#000000;stroke-width:2.0px;stroke-linecap:butt;stroke-linejoin:miter;stroke-opacity:1' />\n",
       "<path class='bond-4 atom-4 atom-5' d='M 184.8,39.5 L 161.9,6.8' style='fill:none;fill-rule:evenodd;stroke:#000000;stroke-width:2.0px;stroke-linecap:butt;stroke-linejoin:miter;stroke-opacity:1' />\n",
       "<path class='bond-5 atom-4 atom-6' d='M 184.8,39.5 L 198.4,30.0' style='fill:none;fill-rule:evenodd;stroke:#000000;stroke-width:2.0px;stroke-linecap:butt;stroke-linejoin:miter;stroke-opacity:1' />\n",
       "<path class='bond-5 atom-4 atom-6' d='M 198.4,30.0 L 211.9,20.5' style='fill:none;fill-rule:evenodd;stroke:#0000FF;stroke-width:2.0px;stroke-linecap:butt;stroke-linejoin:miter;stroke-opacity:1' />\n",
       "<path class='bond-6 atom-4 atom-7' d='M 184.8,39.5 L 207.8,72.2' style='fill:none;fill-rule:evenodd;stroke:#000000;stroke-width:2.0px;stroke-linecap:butt;stroke-linejoin:miter;stroke-opacity:1' />\n",
       "<path class='bond-7 atom-7 atom-8' d='M 207.8,72.2 L 247.5,68.7' style='fill:none;fill-rule:evenodd;stroke:#000000;stroke-width:2.0px;stroke-linecap:butt;stroke-linejoin:miter;stroke-opacity:1' />\n",
       "<path class='bond-8 atom-8 atom-9' d='M 247.5,68.7 L 264.4,32.5' style='fill:none;fill-rule:evenodd;stroke:#000000;stroke-width:2.0px;stroke-linecap:butt;stroke-linejoin:miter;stroke-opacity:1' />\n",
       "<path class='bond-8 atom-8 atom-9' d='M 254.4,68.0 L 268.3,38.1' style='fill:none;fill-rule:evenodd;stroke:#000000;stroke-width:2.0px;stroke-linecap:butt;stroke-linejoin:miter;stroke-opacity:1' />\n",
       "<path class='bond-9 atom-9 atom-10' d='M 264.4,32.5 L 304.1,28.9' style='fill:none;fill-rule:evenodd;stroke:#000000;stroke-width:2.0px;stroke-linecap:butt;stroke-linejoin:miter;stroke-opacity:1' />\n",
       "<path class='bond-10 atom-10 atom-11' d='M 304.1,28.9 L 327.1,61.6' style='fill:none;fill-rule:evenodd;stroke:#000000;stroke-width:2.0px;stroke-linecap:butt;stroke-linejoin:miter;stroke-opacity:1' />\n",
       "<path class='bond-10 atom-10 atom-11' d='M 301.2,35.2 L 320.2,62.2' style='fill:none;fill-rule:evenodd;stroke:#000000;stroke-width:2.0px;stroke-linecap:butt;stroke-linejoin:miter;stroke-opacity:1' />\n",
       "<path class='bond-11 atom-11 atom-12' d='M 327.1,61.6 L 344.4,60.1' style='fill:none;fill-rule:evenodd;stroke:#000000;stroke-width:2.0px;stroke-linecap:butt;stroke-linejoin:miter;stroke-opacity:1' />\n",
       "<path class='bond-11 atom-11 atom-12' d='M 344.4,60.1 L 361.7,58.6' style='fill:none;fill-rule:evenodd;stroke:#7F4C19;stroke-width:2.0px;stroke-linecap:butt;stroke-linejoin:miter;stroke-opacity:1' />\n",
       "<path class='bond-12 atom-11 atom-13' d='M 327.1,61.6 L 310.2,97.8' style='fill:none;fill-rule:evenodd;stroke:#000000;stroke-width:2.0px;stroke-linecap:butt;stroke-linejoin:miter;stroke-opacity:1' />\n",
       "<path class='bond-13 atom-13 atom-14' d='M 310.2,97.8 L 319.3,110.8' style='fill:none;fill-rule:evenodd;stroke:#000000;stroke-width:2.0px;stroke-linecap:butt;stroke-linejoin:miter;stroke-opacity:1' />\n",
       "<path class='bond-13 atom-13 atom-14' d='M 319.3,110.8 L 328.5,123.8' style='fill:none;fill-rule:evenodd;stroke:#33CCCC;stroke-width:2.0px;stroke-linecap:butt;stroke-linejoin:miter;stroke-opacity:1' />\n",
       "<path class='bond-14 atom-13 atom-15' d='M 310.2,97.8 L 270.5,101.3' style='fill:none;fill-rule:evenodd;stroke:#000000;stroke-width:2.0px;stroke-linecap:butt;stroke-linejoin:miter;stroke-opacity:1' />\n",
       "<path class='bond-14 atom-13 atom-15' d='M 306.3,92.2 L 273.4,95.1' style='fill:none;fill-rule:evenodd;stroke:#000000;stroke-width:2.0px;stroke-linecap:butt;stroke-linejoin:miter;stroke-opacity:1' />\n",
       "<path class='bond-15 atom-15 atom-16' d='M 270.5,101.3 L 263.7,115.9' style='fill:none;fill-rule:evenodd;stroke:#000000;stroke-width:2.0px;stroke-linecap:butt;stroke-linejoin:miter;stroke-opacity:1' />\n",
       "<path class='bond-15 atom-15 atom-16' d='M 263.7,115.9 L 256.9,130.6' style='fill:none;fill-rule:evenodd;stroke:#33CCCC;stroke-width:2.0px;stroke-linecap:butt;stroke-linejoin:miter;stroke-opacity:1' />\n",
       "<path class='bond-16 atom-3 atom-17' d='M 152.2,62.4 L 112.8,55.5' style='fill:none;fill-rule:evenodd;stroke:#000000;stroke-width:2.0px;stroke-linecap:butt;stroke-linejoin:miter;stroke-opacity:1' />\n",
       "<path class='bond-17 atom-17 atom-1' d='M 112.8,55.5 L 106.0,94.8' style='fill:none;fill-rule:evenodd;stroke:#000000;stroke-width:2.0px;stroke-linecap:butt;stroke-linejoin:miter;stroke-opacity:1' />\n",
       "<path class='bond-18 atom-15 atom-8' d='M 270.5,101.3 L 247.5,68.7' style='fill:none;fill-rule:evenodd;stroke:#000000;stroke-width:2.0px;stroke-linecap:butt;stroke-linejoin:miter;stroke-opacity:1' />\n",
       "<path d='M 143.3,101.4 L 145.3,101.7 L 145.6,99.8' style='fill:none;stroke:#000000;stroke-width:2.0px;stroke-linecap:butt;stroke-linejoin:miter;stroke-opacity:1;' />\n",
       "<path d='M 206.6,70.5 L 207.8,72.2 L 209.8,72.0' style='fill:none;stroke:#000000;stroke-width:2.0px;stroke-linecap:butt;stroke-linejoin:miter;stroke-opacity:1;' />\n",
       "<path d='M 263.5,34.3 L 264.4,32.5 L 266.4,32.3' style='fill:none;stroke:#000000;stroke-width:2.0px;stroke-linecap:butt;stroke-linejoin:miter;stroke-opacity:1;' />\n",
       "<path d='M 302.1,29.1 L 304.1,28.9 L 305.3,30.6' style='fill:none;stroke:#000000;stroke-width:2.0px;stroke-linecap:butt;stroke-linejoin:miter;stroke-opacity:1;' />\n",
       "<path d='M 114.8,55.9 L 112.8,55.5 L 112.5,57.5' style='fill:none;stroke:#000000;stroke-width:2.0px;stroke-linecap:butt;stroke-linejoin:miter;stroke-opacity:1;' />\n",
       "<path class='atom-6' d='M 215.0 10.9\n",
       "L 218.7 16.9\n",
       "Q 219.1 17.5, 219.7 18.6\n",
       "Q 220.3 19.6, 220.3 19.7\n",
       "L 220.3 10.9\n",
       "L 221.8 10.9\n",
       "L 221.8 22.2\n",
       "L 220.3 22.2\n",
       "L 216.3 15.7\n",
       "Q 215.8 14.9, 215.3 14.0\n",
       "Q 214.8 13.2, 214.7 12.9\n",
       "L 214.7 22.2\n",
       "L 213.2 22.2\n",
       "L 213.2 10.9\n",
       "L 215.0 10.9\n",
       "' fill='#0000FF'/>\n",
       "<path class='atom-6' d='M 224.0 10.9\n",
       "L 225.5 10.9\n",
       "L 225.5 15.7\n",
       "L 231.3 15.7\n",
       "L 231.3 10.9\n",
       "L 232.8 10.9\n",
       "L 232.8 22.2\n",
       "L 231.3 22.2\n",
       "L 231.3 17.0\n",
       "L 225.5 17.0\n",
       "L 225.5 22.2\n",
       "L 224.0 22.2\n",
       "L 224.0 10.9\n",
       "' fill='#0000FF'/>\n",
       "<path class='atom-6' d='M 235.0 21.8\n",
       "Q 235.3 21.1, 236.0 20.7\n",
       "Q 236.6 20.3, 237.5 20.3\n",
       "Q 238.6 20.3, 239.3 20.9\n",
       "Q 239.9 21.6, 239.9 22.6\n",
       "Q 239.9 23.7, 239.1 24.8\n",
       "Q 238.3 25.8, 236.6 27.0\n",
       "L 240.0 27.0\n",
       "L 240.0 27.9\n",
       "L 235.0 27.9\n",
       "L 235.0 27.2\n",
       "Q 236.4 26.2, 237.2 25.4\n",
       "Q 238.1 24.7, 238.5 24.0\n",
       "Q 238.9 23.4, 238.9 22.7\n",
       "Q 238.9 22.0, 238.5 21.6\n",
       "Q 238.1 21.2, 237.5 21.2\n",
       "Q 236.9 21.2, 236.5 21.4\n",
       "Q 236.1 21.7, 235.8 22.2\n",
       "L 235.0 21.8\n",
       "' fill='#0000FF'/>\n",
       "<path class='atom-12' d='M 368.5 57.8\n",
       "Q 369.6 58.1, 370.1 58.8\n",
       "Q 370.7 59.5, 370.7 60.4\n",
       "Q 370.7 62.0, 369.7 62.9\n",
       "Q 368.7 63.8, 366.8 63.8\n",
       "L 363.0 63.8\n",
       "L 363.0 52.5\n",
       "L 366.3 52.5\n",
       "Q 368.3 52.5, 369.2 53.2\n",
       "Q 370.2 54.0, 370.2 55.5\n",
       "Q 370.2 57.2, 368.5 57.8\n",
       "M 364.5 53.7\n",
       "L 364.5 57.3\n",
       "L 366.3 57.3\n",
       "Q 367.4 57.3, 368.0 56.8\n",
       "Q 368.6 56.4, 368.6 55.5\n",
       "Q 368.6 53.7, 366.3 53.7\n",
       "L 364.5 53.7\n",
       "M 366.8 62.5\n",
       "Q 367.9 62.5, 368.5 62.0\n",
       "Q 369.1 61.4, 369.1 60.4\n",
       "Q 369.1 59.5, 368.4 59.0\n",
       "Q 367.8 58.6, 366.5 58.6\n",
       "L 364.5 58.6\n",
       "L 364.5 62.5\n",
       "L 366.8 62.5\n",
       "' fill='#7F4C19'/>\n",
       "<path class='atom-12' d='M 373.2 55.6\n",
       "L 373.4 56.7\n",
       "Q 374.3 55.4, 375.7 55.4\n",
       "Q 376.1 55.4, 376.7 55.6\n",
       "L 376.5 56.9\n",
       "Q 375.8 56.8, 375.4 56.8\n",
       "Q 374.7 56.8, 374.3 57.0\n",
       "Q 373.9 57.3, 373.5 57.9\n",
       "L 373.5 63.8\n",
       "L 372.0 63.8\n",
       "L 372.0 55.6\n",
       "L 373.2 55.6\n",
       "' fill='#7F4C19'/>\n",
       "<path class='atom-14' d='M 329.8 124.8\n",
       "L 336.5 124.8\n",
       "L 336.5 126.1\n",
       "L 331.3 126.1\n",
       "L 331.3 129.6\n",
       "L 335.9 129.6\n",
       "L 335.9 130.9\n",
       "L 331.3 130.9\n",
       "L 331.3 136.2\n",
       "L 329.8 136.2\n",
       "L 329.8 124.8\n",
       "' fill='#33CCCC'/>\n",
       "<path class='atom-16' d='M 250.3 131.9\n",
       "L 257.0 131.9\n",
       "L 257.0 133.2\n",
       "L 251.8 133.2\n",
       "L 251.8 136.6\n",
       "L 256.4 136.6\n",
       "L 256.4 137.9\n",
       "L 251.8 137.9\n",
       "L 251.8 143.2\n",
       "L 250.3 143.2\n",
       "L 250.3 131.9\n",
       "' fill='#33CCCC'/>\n",
       "</svg>\n"
      ],
      "text/html": [
       "<?xml version='1.0' encoding='iso-8859-1'?>\n",
       "<svg version='1.1' baseProfile='full'\n",
       "              xmlns='http://www.w3.org/2000/svg'\n",
       "                      xmlns:rdkit='http://www.rdkit.org/xml'\n",
       "                      xmlns:xlink='http://www.w3.org/1999/xlink'\n",
       "                  xml:space='preserve'\n",
       "width='450px' height='150px' viewBox='0 0 450 150'>\n",
       "<!-- END OF HEADER -->\n",
       "<rect style='opacity:1.0;fill:#FFFFFF;stroke:none' width='450.0' height='150.0' x='0.0' y='0.0'> </rect>\n",
       "<path class='bond-0 atom-0 atom-1' d='M 73.3,117.8 L 106.0,94.8' style='fill:none;fill-rule:evenodd;stroke:#000000;stroke-width:2.0px;stroke-linecap:butt;stroke-linejoin:miter;stroke-opacity:1' />\n",
       "<path class='bond-1 atom-1 atom-2' d='M 106.0,94.8 L 145.3,101.7' style='fill:none;fill-rule:evenodd;stroke:#000000;stroke-width:2.0px;stroke-linecap:butt;stroke-linejoin:miter;stroke-opacity:1' />\n",
       "<path class='bond-2 atom-2 atom-3' d='M 145.3,101.7 L 152.2,62.4' style='fill:none;fill-rule:evenodd;stroke:#000000;stroke-width:2.0px;stroke-linecap:butt;stroke-linejoin:miter;stroke-opacity:1' />\n",
       "<path class='bond-3 atom-3 atom-4' d='M 152.2,62.4 L 184.8,39.5' style='fill:none;fill-rule:evenodd;stroke:#000000;stroke-width:2.0px;stroke-linecap:butt;stroke-linejoin:miter;stroke-opacity:1' />\n",
       "<path class='bond-4 atom-4 atom-5' d='M 184.8,39.5 L 161.9,6.8' style='fill:none;fill-rule:evenodd;stroke:#000000;stroke-width:2.0px;stroke-linecap:butt;stroke-linejoin:miter;stroke-opacity:1' />\n",
       "<path class='bond-5 atom-4 atom-6' d='M 184.8,39.5 L 198.4,30.0' style='fill:none;fill-rule:evenodd;stroke:#000000;stroke-width:2.0px;stroke-linecap:butt;stroke-linejoin:miter;stroke-opacity:1' />\n",
       "<path class='bond-5 atom-4 atom-6' d='M 198.4,30.0 L 211.9,20.5' style='fill:none;fill-rule:evenodd;stroke:#0000FF;stroke-width:2.0px;stroke-linecap:butt;stroke-linejoin:miter;stroke-opacity:1' />\n",
       "<path class='bond-6 atom-4 atom-7' d='M 184.8,39.5 L 207.8,72.2' style='fill:none;fill-rule:evenodd;stroke:#000000;stroke-width:2.0px;stroke-linecap:butt;stroke-linejoin:miter;stroke-opacity:1' />\n",
       "<path class='bond-7 atom-7 atom-8' d='M 207.8,72.2 L 247.5,68.7' style='fill:none;fill-rule:evenodd;stroke:#000000;stroke-width:2.0px;stroke-linecap:butt;stroke-linejoin:miter;stroke-opacity:1' />\n",
       "<path class='bond-8 atom-8 atom-9' d='M 247.5,68.7 L 264.4,32.5' style='fill:none;fill-rule:evenodd;stroke:#000000;stroke-width:2.0px;stroke-linecap:butt;stroke-linejoin:miter;stroke-opacity:1' />\n",
       "<path class='bond-8 atom-8 atom-9' d='M 254.4,68.0 L 268.3,38.1' style='fill:none;fill-rule:evenodd;stroke:#000000;stroke-width:2.0px;stroke-linecap:butt;stroke-linejoin:miter;stroke-opacity:1' />\n",
       "<path class='bond-9 atom-9 atom-10' d='M 264.4,32.5 L 304.1,28.9' style='fill:none;fill-rule:evenodd;stroke:#000000;stroke-width:2.0px;stroke-linecap:butt;stroke-linejoin:miter;stroke-opacity:1' />\n",
       "<path class='bond-10 atom-10 atom-11' d='M 304.1,28.9 L 327.1,61.6' style='fill:none;fill-rule:evenodd;stroke:#000000;stroke-width:2.0px;stroke-linecap:butt;stroke-linejoin:miter;stroke-opacity:1' />\n",
       "<path class='bond-10 atom-10 atom-11' d='M 301.2,35.2 L 320.2,62.2' style='fill:none;fill-rule:evenodd;stroke:#000000;stroke-width:2.0px;stroke-linecap:butt;stroke-linejoin:miter;stroke-opacity:1' />\n",
       "<path class='bond-11 atom-11 atom-12' d='M 327.1,61.6 L 344.4,60.1' style='fill:none;fill-rule:evenodd;stroke:#000000;stroke-width:2.0px;stroke-linecap:butt;stroke-linejoin:miter;stroke-opacity:1' />\n",
       "<path class='bond-11 atom-11 atom-12' d='M 344.4,60.1 L 361.7,58.6' style='fill:none;fill-rule:evenodd;stroke:#7F4C19;stroke-width:2.0px;stroke-linecap:butt;stroke-linejoin:miter;stroke-opacity:1' />\n",
       "<path class='bond-12 atom-11 atom-13' d='M 327.1,61.6 L 310.2,97.8' style='fill:none;fill-rule:evenodd;stroke:#000000;stroke-width:2.0px;stroke-linecap:butt;stroke-linejoin:miter;stroke-opacity:1' />\n",
       "<path class='bond-13 atom-13 atom-14' d='M 310.2,97.8 L 319.3,110.8' style='fill:none;fill-rule:evenodd;stroke:#000000;stroke-width:2.0px;stroke-linecap:butt;stroke-linejoin:miter;stroke-opacity:1' />\n",
       "<path class='bond-13 atom-13 atom-14' d='M 319.3,110.8 L 328.5,123.8' style='fill:none;fill-rule:evenodd;stroke:#33CCCC;stroke-width:2.0px;stroke-linecap:butt;stroke-linejoin:miter;stroke-opacity:1' />\n",
       "<path class='bond-14 atom-13 atom-15' d='M 310.2,97.8 L 270.5,101.3' style='fill:none;fill-rule:evenodd;stroke:#000000;stroke-width:2.0px;stroke-linecap:butt;stroke-linejoin:miter;stroke-opacity:1' />\n",
       "<path class='bond-14 atom-13 atom-15' d='M 306.3,92.2 L 273.4,95.1' style='fill:none;fill-rule:evenodd;stroke:#000000;stroke-width:2.0px;stroke-linecap:butt;stroke-linejoin:miter;stroke-opacity:1' />\n",
       "<path class='bond-15 atom-15 atom-16' d='M 270.5,101.3 L 263.7,115.9' style='fill:none;fill-rule:evenodd;stroke:#000000;stroke-width:2.0px;stroke-linecap:butt;stroke-linejoin:miter;stroke-opacity:1' />\n",
       "<path class='bond-15 atom-15 atom-16' d='M 263.7,115.9 L 256.9,130.6' style='fill:none;fill-rule:evenodd;stroke:#33CCCC;stroke-width:2.0px;stroke-linecap:butt;stroke-linejoin:miter;stroke-opacity:1' />\n",
       "<path class='bond-16 atom-3 atom-17' d='M 152.2,62.4 L 112.8,55.5' style='fill:none;fill-rule:evenodd;stroke:#000000;stroke-width:2.0px;stroke-linecap:butt;stroke-linejoin:miter;stroke-opacity:1' />\n",
       "<path class='bond-17 atom-17 atom-1' d='M 112.8,55.5 L 106.0,94.8' style='fill:none;fill-rule:evenodd;stroke:#000000;stroke-width:2.0px;stroke-linecap:butt;stroke-linejoin:miter;stroke-opacity:1' />\n",
       "<path class='bond-18 atom-15 atom-8' d='M 270.5,101.3 L 247.5,68.7' style='fill:none;fill-rule:evenodd;stroke:#000000;stroke-width:2.0px;stroke-linecap:butt;stroke-linejoin:miter;stroke-opacity:1' />\n",
       "<path d='M 143.3,101.4 L 145.3,101.7 L 145.6,99.8' style='fill:none;stroke:#000000;stroke-width:2.0px;stroke-linecap:butt;stroke-linejoin:miter;stroke-opacity:1;' />\n",
       "<path d='M 206.6,70.5 L 207.8,72.2 L 209.8,72.0' style='fill:none;stroke:#000000;stroke-width:2.0px;stroke-linecap:butt;stroke-linejoin:miter;stroke-opacity:1;' />\n",
       "<path d='M 263.5,34.3 L 264.4,32.5 L 266.4,32.3' style='fill:none;stroke:#000000;stroke-width:2.0px;stroke-linecap:butt;stroke-linejoin:miter;stroke-opacity:1;' />\n",
       "<path d='M 302.1,29.1 L 304.1,28.9 L 305.3,30.6' style='fill:none;stroke:#000000;stroke-width:2.0px;stroke-linecap:butt;stroke-linejoin:miter;stroke-opacity:1;' />\n",
       "<path d='M 114.8,55.9 L 112.8,55.5 L 112.5,57.5' style='fill:none;stroke:#000000;stroke-width:2.0px;stroke-linecap:butt;stroke-linejoin:miter;stroke-opacity:1;' />\n",
       "<path class='atom-6' d='M 215.0 10.9\n",
       "L 218.7 16.9\n",
       "Q 219.1 17.5, 219.7 18.6\n",
       "Q 220.3 19.6, 220.3 19.7\n",
       "L 220.3 10.9\n",
       "L 221.8 10.9\n",
       "L 221.8 22.2\n",
       "L 220.3 22.2\n",
       "L 216.3 15.7\n",
       "Q 215.8 14.9, 215.3 14.0\n",
       "Q 214.8 13.2, 214.7 12.9\n",
       "L 214.7 22.2\n",
       "L 213.2 22.2\n",
       "L 213.2 10.9\n",
       "L 215.0 10.9\n",
       "' fill='#0000FF'/>\n",
       "<path class='atom-6' d='M 224.0 10.9\n",
       "L 225.5 10.9\n",
       "L 225.5 15.7\n",
       "L 231.3 15.7\n",
       "L 231.3 10.9\n",
       "L 232.8 10.9\n",
       "L 232.8 22.2\n",
       "L 231.3 22.2\n",
       "L 231.3 17.0\n",
       "L 225.5 17.0\n",
       "L 225.5 22.2\n",
       "L 224.0 22.2\n",
       "L 224.0 10.9\n",
       "' fill='#0000FF'/>\n",
       "<path class='atom-6' d='M 235.0 21.8\n",
       "Q 235.3 21.1, 236.0 20.7\n",
       "Q 236.6 20.3, 237.5 20.3\n",
       "Q 238.6 20.3, 239.3 20.9\n",
       "Q 239.9 21.6, 239.9 22.6\n",
       "Q 239.9 23.7, 239.1 24.8\n",
       "Q 238.3 25.8, 236.6 27.0\n",
       "L 240.0 27.0\n",
       "L 240.0 27.9\n",
       "L 235.0 27.9\n",
       "L 235.0 27.2\n",
       "Q 236.4 26.2, 237.2 25.4\n",
       "Q 238.1 24.7, 238.5 24.0\n",
       "Q 238.9 23.4, 238.9 22.7\n",
       "Q 238.9 22.0, 238.5 21.6\n",
       "Q 238.1 21.2, 237.5 21.2\n",
       "Q 236.9 21.2, 236.5 21.4\n",
       "Q 236.1 21.7, 235.8 22.2\n",
       "L 235.0 21.8\n",
       "' fill='#0000FF'/>\n",
       "<path class='atom-12' d='M 368.5 57.8\n",
       "Q 369.6 58.1, 370.1 58.8\n",
       "Q 370.7 59.5, 370.7 60.4\n",
       "Q 370.7 62.0, 369.7 62.9\n",
       "Q 368.7 63.8, 366.8 63.8\n",
       "L 363.0 63.8\n",
       "L 363.0 52.5\n",
       "L 366.3 52.5\n",
       "Q 368.3 52.5, 369.2 53.2\n",
       "Q 370.2 54.0, 370.2 55.5\n",
       "Q 370.2 57.2, 368.5 57.8\n",
       "M 364.5 53.7\n",
       "L 364.5 57.3\n",
       "L 366.3 57.3\n",
       "Q 367.4 57.3, 368.0 56.8\n",
       "Q 368.6 56.4, 368.6 55.5\n",
       "Q 368.6 53.7, 366.3 53.7\n",
       "L 364.5 53.7\n",
       "M 366.8 62.5\n",
       "Q 367.9 62.5, 368.5 62.0\n",
       "Q 369.1 61.4, 369.1 60.4\n",
       "Q 369.1 59.5, 368.4 59.0\n",
       "Q 367.8 58.6, 366.5 58.6\n",
       "L 364.5 58.6\n",
       "L 364.5 62.5\n",
       "L 366.8 62.5\n",
       "' fill='#7F4C19'/>\n",
       "<path class='atom-12' d='M 373.2 55.6\n",
       "L 373.4 56.7\n",
       "Q 374.3 55.4, 375.7 55.4\n",
       "Q 376.1 55.4, 376.7 55.6\n",
       "L 376.5 56.9\n",
       "Q 375.8 56.8, 375.4 56.8\n",
       "Q 374.7 56.8, 374.3 57.0\n",
       "Q 373.9 57.3, 373.5 57.9\n",
       "L 373.5 63.8\n",
       "L 372.0 63.8\n",
       "L 372.0 55.6\n",
       "L 373.2 55.6\n",
       "' fill='#7F4C19'/>\n",
       "<path class='atom-14' d='M 329.8 124.8\n",
       "L 336.5 124.8\n",
       "L 336.5 126.1\n",
       "L 331.3 126.1\n",
       "L 331.3 129.6\n",
       "L 335.9 129.6\n",
       "L 335.9 130.9\n",
       "L 331.3 130.9\n",
       "L 331.3 136.2\n",
       "L 329.8 136.2\n",
       "L 329.8 124.8\n",
       "' fill='#33CCCC'/>\n",
       "<path class='atom-16' d='M 250.3 131.9\n",
       "L 257.0 131.9\n",
       "L 257.0 133.2\n",
       "L 251.8 133.2\n",
       "L 251.8 136.6\n",
       "L 256.4 136.6\n",
       "L 256.4 137.9\n",
       "L 251.8 137.9\n",
       "L 251.8 143.2\n",
       "L 250.3 143.2\n",
       "L 250.3 131.9\n",
       "' fill='#33CCCC'/>\n",
       "</svg>\n"
      ],
      "text/plain": [
       "<rdkit.Chem.rdchem.Mol at 0x153112de9350>"
      ]
     },
     "metadata": {},
     "output_type": "display_data"
    },
    {
     "data": {
      "image/png": "[encoded data removed]",
      "image/svg+xml": [
       "<?xml version='1.0' encoding='iso-8859-1'?>\n",
       "<svg version='1.1' baseProfile='full'\n",
       "              xmlns='http://www.w3.org/2000/svg'\n",
       "                      xmlns:rdkit='http://www.rdkit.org/xml'\n",
       "                      xmlns:xlink='http://www.w3.org/1999/xlink'\n",
       "                  xml:space='preserve'\n",
       "width='450px' height='150px' viewBox='0 0 450 150'>\n",
       "<!-- END OF HEADER -->\n",
       "<rect style='opacity:1.0;fill:#FFFFFF;stroke:none' width='450.0' height='150.0' x='0.0' y='0.0'> </rect>\n",
       "<path class='bond-0 atom-0 atom-1' d='M 85.7,24.2 L 98.8,33.6' style='fill:none;fill-rule:evenodd;stroke:#33CCCC;stroke-width:2.0px;stroke-linecap:butt;stroke-linejoin:miter;stroke-opacity:1' />\n",
       "<path class='bond-0 atom-0 atom-1' d='M 98.8,33.6 L 111.9,42.9' style='fill:none;fill-rule:evenodd;stroke:#000000;stroke-width:2.0px;stroke-linecap:butt;stroke-linejoin:miter;stroke-opacity:1' />\n",
       "<path class='bond-1 atom-1 atom-2' d='M 111.9,42.9 L 148.9,36.8' style='fill:none;fill-rule:evenodd;stroke:#000000;stroke-width:2.0px;stroke-linecap:butt;stroke-linejoin:miter;stroke-opacity:1' />\n",
       "<path class='bond-2 atom-2 atom-3' d='M 148.9,36.8 L 155.0,73.8' style='fill:none;fill-rule:evenodd;stroke:#000000;stroke-width:2.0px;stroke-linecap:butt;stroke-linejoin:miter;stroke-opacity:1' />\n",
       "<path class='bond-3 atom-3 atom-4' d='M 155.0,73.8 L 118.0,79.9' style='fill:none;fill-rule:evenodd;stroke:#000000;stroke-width:2.0px;stroke-linecap:butt;stroke-linejoin:miter;stroke-opacity:1' />\n",
       "<path class='bond-4 atom-3 atom-5' d='M 155.0,73.8 L 185.5,95.7' style='fill:none;fill-rule:evenodd;stroke:#000000;stroke-width:2.0px;stroke-linecap:butt;stroke-linejoin:miter;stroke-opacity:1' />\n",
       "<path class='bond-5 atom-5 atom-6' d='M 185.5,95.7 L 219.7,80.2' style='fill:none;fill-rule:evenodd;stroke:#000000;stroke-width:2.0px;stroke-linecap:butt;stroke-linejoin:miter;stroke-opacity:1' />\n",
       "<path class='bond-6 atom-6 atom-7' d='M 219.7,80.2 L 250.2,102.0' style='fill:none;fill-rule:evenodd;stroke:#000000;stroke-width:2.0px;stroke-linecap:butt;stroke-linejoin:miter;stroke-opacity:1' />\n",
       "<path class='bond-7 atom-7 atom-8' d='M 250.2,102.0 L 272.1,71.5' style='fill:none;fill-rule:evenodd;stroke:#000000;stroke-width:2.0px;stroke-linecap:butt;stroke-linejoin:miter;stroke-opacity:1' />\n",
       "<path class='bond-8 atom-8 atom-9' d='M 272.1,71.5 L 309.4,75.2' style='fill:none;fill-rule:evenodd;stroke:#000000;stroke-width:2.0px;stroke-linecap:butt;stroke-linejoin:miter;stroke-opacity:1' />\n",
       "<path class='bond-8 atom-8 atom-9' d='M 275.9,66.2 L 306.8,69.3' style='fill:none;fill-rule:evenodd;stroke:#000000;stroke-width:2.0px;stroke-linecap:butt;stroke-linejoin:miter;stroke-opacity:1' />\n",
       "<path class='bond-9 atom-9 atom-10' d='M 309.4,75.2 L 331.3,44.7' style='fill:none;fill-rule:evenodd;stroke:#000000;stroke-width:2.0px;stroke-linecap:butt;stroke-linejoin:miter;stroke-opacity:1' />\n",
       "<path class='bond-10 atom-10 atom-11' d='M 331.3,44.7 L 347.8,46.3' style='fill:none;fill-rule:evenodd;stroke:#000000;stroke-width:2.0px;stroke-linecap:butt;stroke-linejoin:miter;stroke-opacity:1' />\n",
       "<path class='bond-10 atom-10 atom-11' d='M 347.8,46.3 L 364.3,47.9' style='fill:none;fill-rule:evenodd;stroke:#33CCCC;stroke-width:2.0px;stroke-linecap:butt;stroke-linejoin:miter;stroke-opacity:1' />\n",
       "<path class='bond-11 atom-10 atom-12' d='M 331.3,44.7 L 315.8,10.5' style='fill:none;fill-rule:evenodd;stroke:#000000;stroke-width:2.0px;stroke-linecap:butt;stroke-linejoin:miter;stroke-opacity:1' />\n",
       "<path class='bond-11 atom-10 atom-12' d='M 324.8,44.0 L 312.0,15.8' style='fill:none;fill-rule:evenodd;stroke:#000000;stroke-width:2.0px;stroke-linecap:butt;stroke-linejoin:miter;stroke-opacity:1' />\n",
       "<path class='bond-12 atom-12 atom-13' d='M 315.8,10.5 L 278.4,6.8' style='fill:none;fill-rule:evenodd;stroke:#000000;stroke-width:2.0px;stroke-linecap:butt;stroke-linejoin:miter;stroke-opacity:1' />\n",
       "<path class='bond-13 atom-13 atom-14' d='M 278.4,6.8 L 256.6,37.3' style='fill:none;fill-rule:evenodd;stroke:#000000;stroke-width:2.0px;stroke-linecap:butt;stroke-linejoin:miter;stroke-opacity:1' />\n",
       "<path class='bond-13 atom-13 atom-14' d='M 281.1,12.7 L 263.1,38.0' style='fill:none;fill-rule:evenodd;stroke:#000000;stroke-width:2.0px;stroke-linecap:butt;stroke-linejoin:miter;stroke-opacity:1' />\n",
       "<path class='bond-14 atom-14 atom-15' d='M 256.6,37.3 L 239.6,35.7' style='fill:none;fill-rule:evenodd;stroke:#000000;stroke-width:2.0px;stroke-linecap:butt;stroke-linejoin:miter;stroke-opacity:1' />\n",
       "<path class='bond-14 atom-14 atom-15' d='M 239.6,35.7 L 222.7,34.0' style='fill:none;fill-rule:evenodd;stroke:#7F4C19;stroke-width:2.0px;stroke-linecap:butt;stroke-linejoin:miter;stroke-opacity:1' />\n",
       "<path class='bond-15 atom-7 atom-16' d='M 250.2,102.0 L 241.6,114.0' style='fill:none;fill-rule:evenodd;stroke:#000000;stroke-width:2.0px;stroke-linecap:butt;stroke-linejoin:miter;stroke-opacity:1' />\n",
       "<path class='bond-15 atom-7 atom-16' d='M 241.6,114.0 L 233.1,126.0' style='fill:none;fill-rule:evenodd;stroke:#0000FF;stroke-width:2.0px;stroke-linecap:butt;stroke-linejoin:miter;stroke-opacity:1' />\n",
       "<path class='bond-16 atom-7 atom-17' d='M 250.2,102.0 L 280.7,123.9' style='fill:none;fill-rule:evenodd;stroke:#000000;stroke-width:2.0px;stroke-linecap:butt;stroke-linejoin:miter;stroke-opacity:1' />\n",
       "<path class='bond-17 atom-4 atom-1' d='M 118.0,79.9 L 111.9,42.9' style='fill:none;fill-rule:evenodd;stroke:#000000;stroke-width:2.0px;stroke-linecap:butt;stroke-linejoin:miter;stroke-opacity:1' />\n",
       "<path class='bond-18 atom-14 atom-8' d='M 256.6,37.3 L 272.1,71.5' style='fill:none;fill-rule:evenodd;stroke:#000000;stroke-width:2.0px;stroke-linecap:butt;stroke-linejoin:miter;stroke-opacity:1' />\n",
       "<path d='M 147.0,37.1 L 148.9,36.8 L 149.2,38.6' style='fill:none;stroke:#000000;stroke-width:2.0px;stroke-linecap:butt;stroke-linejoin:miter;stroke-opacity:1;' />\n",
       "<path d='M 119.8,79.6 L 118.0,79.9 L 117.7,78.1' style='fill:none;stroke:#000000;stroke-width:2.0px;stroke-linecap:butt;stroke-linejoin:miter;stroke-opacity:1;' />\n",
       "<path d='M 184.0,94.6 L 185.5,95.7 L 187.2,94.9' style='fill:none;stroke:#000000;stroke-width:2.0px;stroke-linecap:butt;stroke-linejoin:miter;stroke-opacity:1;' />\n",
       "<path d='M 218.0,81.0 L 219.7,80.2 L 221.2,81.3' style='fill:none;stroke:#000000;stroke-width:2.0px;stroke-linecap:butt;stroke-linejoin:miter;stroke-opacity:1;' />\n",
       "<path d='M 307.6,75.0 L 309.4,75.2 L 310.5,73.7' style='fill:none;stroke:#000000;stroke-width:2.0px;stroke-linecap:butt;stroke-linejoin:miter;stroke-opacity:1;' />\n",
       "<path d='M 316.6,12.2 L 315.8,10.5 L 313.9,10.3' style='fill:none;stroke:#000000;stroke-width:2.0px;stroke-linecap:butt;stroke-linejoin:miter;stroke-opacity:1;' />\n",
       "<path d='M 280.3,7.0 L 278.4,6.8 L 277.4,8.3' style='fill:none;stroke:#000000;stroke-width:2.0px;stroke-linecap:butt;stroke-linejoin:miter;stroke-opacity:1;' />\n",
       "<path class='atom-0' d='M 78.2 15.7\n",
       "L 84.5 15.7\n",
       "L 84.5 17.0\n",
       "L 79.6 17.0\n",
       "L 79.6 20.2\n",
       "L 84.0 20.2\n",
       "L 84.0 21.4\n",
       "L 79.6 21.4\n",
       "L 79.6 26.4\n",
       "L 78.2 26.4\n",
       "L 78.2 15.7\n",
       "' fill='#33CCCC'/>\n",
       "<path class='atom-11' d='M 365.5 43.0\n",
       "L 371.8 43.0\n",
       "L 371.8 44.2\n",
       "L 366.9 44.2\n",
       "L 366.9 47.5\n",
       "L 371.3 47.5\n",
       "L 371.3 48.7\n",
       "L 366.9 48.7\n",
       "L 366.9 53.7\n",
       "L 365.5 53.7\n",
       "L 365.5 43.0\n",
       "' fill='#33CCCC'/>\n",
       "<path class='atom-15' d='M 213.7 33.4\n",
       "Q 214.7 33.7, 215.2 34.3\n",
       "Q 215.7 34.9, 215.7 35.8\n",
       "Q 215.7 37.3, 214.8 38.2\n",
       "Q 213.9 39.0, 212.1 39.0\n",
       "L 208.5 39.0\n",
       "L 208.5 28.3\n",
       "L 211.7 28.3\n",
       "Q 213.5 28.3, 214.4 29.1\n",
       "Q 215.3 29.8, 215.3 31.2\n",
       "Q 215.3 32.8, 213.7 33.4\n",
       "M 210.0 29.5\n",
       "L 210.0 32.9\n",
       "L 211.7 32.9\n",
       "Q 212.7 32.9, 213.3 32.5\n",
       "Q 213.8 32.0, 213.8 31.2\n",
       "Q 213.8 29.5, 211.7 29.5\n",
       "L 210.0 29.5\n",
       "M 212.1 37.8\n",
       "Q 213.1 37.8, 213.7 37.3\n",
       "Q 214.2 36.8, 214.2 35.8\n",
       "Q 214.2 35.0, 213.6 34.5\n",
       "Q 213.0 34.1, 211.9 34.1\n",
       "L 210.0 34.1\n",
       "L 210.0 37.8\n",
       "L 212.1 37.8\n",
       "' fill='#7F4C19'/>\n",
       "<path class='atom-15' d='M 218.2 31.3\n",
       "L 218.3 32.3\n",
       "Q 219.1 31.1, 220.5 31.1\n",
       "Q 220.9 31.1, 221.4 31.3\n",
       "L 221.2 32.5\n",
       "Q 220.6 32.4, 220.2 32.4\n",
       "Q 219.6 32.4, 219.2 32.6\n",
       "Q 218.8 32.9, 218.4 33.5\n",
       "L 218.4 39.0\n",
       "L 217.0 39.0\n",
       "L 217.0 31.3\n",
       "L 218.2 31.3\n",
       "' fill='#7F4C19'/>\n",
       "<path class='atom-16' d='M 207.9 127.2\n",
       "L 209.3 127.2\n",
       "L 209.3 131.8\n",
       "L 214.7 131.8\n",
       "L 214.7 127.2\n",
       "L 216.2 127.2\n",
       "L 216.2 137.9\n",
       "L 214.7 137.9\n",
       "L 214.7 133.0\n",
       "L 209.3 133.0\n",
       "L 209.3 137.9\n",
       "L 207.9 137.9\n",
       "L 207.9 127.2\n",
       "' fill='#0000FF'/>\n",
       "<path class='atom-16' d='M 218.3 137.5\n",
       "Q 218.5 136.8, 219.1 136.5\n",
       "Q 219.7 136.1, 220.6 136.1\n",
       "Q 221.7 136.1, 222.2 136.7\n",
       "Q 222.8 137.2, 222.8 138.3\n",
       "Q 222.8 139.3, 222.1 140.3\n",
       "Q 221.3 141.2, 219.7 142.4\n",
       "L 223.0 142.4\n",
       "L 223.0 143.2\n",
       "L 218.2 143.2\n",
       "L 218.2 142.5\n",
       "Q 219.5 141.6, 220.3 140.9\n",
       "Q 221.1 140.2, 221.5 139.6\n",
       "Q 221.9 139.0, 221.9 138.3\n",
       "Q 221.9 137.6, 221.5 137.3\n",
       "Q 221.2 136.9, 220.6 136.9\n",
       "Q 220.0 136.9, 219.7 137.1\n",
       "Q 219.3 137.3, 219.0 137.8\n",
       "L 218.3 137.5\n",
       "' fill='#0000FF'/>\n",
       "<path class='atom-16' d='M 226.0 127.2\n",
       "L 229.5 132.9\n",
       "Q 229.9 133.4, 230.4 134.4\n",
       "Q 231.0 135.4, 231.0 135.5\n",
       "L 231.0 127.2\n",
       "L 232.4 127.2\n",
       "L 232.4 137.9\n",
       "L 230.9 137.9\n",
       "L 227.2 131.7\n",
       "Q 226.8 131.0, 226.3 130.2\n",
       "Q 225.9 129.3, 225.7 129.1\n",
       "L 225.7 137.9\n",
       "L 224.3 137.9\n",
       "L 224.3 127.2\n",
       "L 226.0 127.2\n",
       "' fill='#0000FF'/>\n",
       "</svg>\n"
      ],
      "text/html": [
       "<?xml version='1.0' encoding='iso-8859-1'?>\n",
       "<svg version='1.1' baseProfile='full'\n",
       "              xmlns='http://www.w3.org/2000/svg'\n",
       "                      xmlns:rdkit='http://www.rdkit.org/xml'\n",
       "                      xmlns:xlink='http://www.w3.org/1999/xlink'\n",
       "                  xml:space='preserve'\n",
       "width='450px' height='150px' viewBox='0 0 450 150'>\n",
       "<!-- END OF HEADER -->\n",
       "<rect style='opacity:1.0;fill:#FFFFFF;stroke:none' width='450.0' height='150.0' x='0.0' y='0.0'> </rect>\n",
       "<path class='bond-0 atom-0 atom-1' d='M 85.7,24.2 L 98.8,33.6' style='fill:none;fill-rule:evenodd;stroke:#33CCCC;stroke-width:2.0px;stroke-linecap:butt;stroke-linejoin:miter;stroke-opacity:1' />\n",
       "<path class='bond-0 atom-0 atom-1' d='M 98.8,33.6 L 111.9,42.9' style='fill:none;fill-rule:evenodd;stroke:#000000;stroke-width:2.0px;stroke-linecap:butt;stroke-linejoin:miter;stroke-opacity:1' />\n",
       "<path class='bond-1 atom-1 atom-2' d='M 111.9,42.9 L 148.9,36.8' style='fill:none;fill-rule:evenodd;stroke:#000000;stroke-width:2.0px;stroke-linecap:butt;stroke-linejoin:miter;stroke-opacity:1' />\n",
       "<path class='bond-2 atom-2 atom-3' d='M 148.9,36.8 L 155.0,73.8' style='fill:none;fill-rule:evenodd;stroke:#000000;stroke-width:2.0px;stroke-linecap:butt;stroke-linejoin:miter;stroke-opacity:1' />\n",
       "<path class='bond-3 atom-3 atom-4' d='M 155.0,73.8 L 118.0,79.9' style='fill:none;fill-rule:evenodd;stroke:#000000;stroke-width:2.0px;stroke-linecap:butt;stroke-linejoin:miter;stroke-opacity:1' />\n",
       "<path class='bond-4 atom-3 atom-5' d='M 155.0,73.8 L 185.5,95.7' style='fill:none;fill-rule:evenodd;stroke:#000000;stroke-width:2.0px;stroke-linecap:butt;stroke-linejoin:miter;stroke-opacity:1' />\n",
       "<path class='bond-5 atom-5 atom-6' d='M 185.5,95.7 L 219.7,80.2' style='fill:none;fill-rule:evenodd;stroke:#000000;stroke-width:2.0px;stroke-linecap:butt;stroke-linejoin:miter;stroke-opacity:1' />\n",
       "<path class='bond-6 atom-6 atom-7' d='M 219.7,80.2 L 250.2,102.0' style='fill:none;fill-rule:evenodd;stroke:#000000;stroke-width:2.0px;stroke-linecap:butt;stroke-linejoin:miter;stroke-opacity:1' />\n",
       "<path class='bond-7 atom-7 atom-8' d='M 250.2,102.0 L 272.1,71.5' style='fill:none;fill-rule:evenodd;stroke:#000000;stroke-width:2.0px;stroke-linecap:butt;stroke-linejoin:miter;stroke-opacity:1' />\n",
       "<path class='bond-8 atom-8 atom-9' d='M 272.1,71.5 L 309.4,75.2' style='fill:none;fill-rule:evenodd;stroke:#000000;stroke-width:2.0px;stroke-linecap:butt;stroke-linejoin:miter;stroke-opacity:1' />\n",
       "<path class='bond-8 atom-8 atom-9' d='M 275.9,66.2 L 306.8,69.3' style='fill:none;fill-rule:evenodd;stroke:#000000;stroke-width:2.0px;stroke-linecap:butt;stroke-linejoin:miter;stroke-opacity:1' />\n",
       "<path class='bond-9 atom-9 atom-10' d='M 309.4,75.2 L 331.3,44.7' style='fill:none;fill-rule:evenodd;stroke:#000000;stroke-width:2.0px;stroke-linecap:butt;stroke-linejoin:miter;stroke-opacity:1' />\n",
       "<path class='bond-10 atom-10 atom-11' d='M 331.3,44.7 L 347.8,46.3' style='fill:none;fill-rule:evenodd;stroke:#000000;stroke-width:2.0px;stroke-linecap:butt;stroke-linejoin:miter;stroke-opacity:1' />\n",
       "<path class='bond-10 atom-10 atom-11' d='M 347.8,46.3 L 364.3,47.9' style='fill:none;fill-rule:evenodd;stroke:#33CCCC;stroke-width:2.0px;stroke-linecap:butt;stroke-linejoin:miter;stroke-opacity:1' />\n",
       "<path class='bond-11 atom-10 atom-12' d='M 331.3,44.7 L 315.8,10.5' style='fill:none;fill-rule:evenodd;stroke:#000000;stroke-width:2.0px;stroke-linecap:butt;stroke-linejoin:miter;stroke-opacity:1' />\n",
       "<path class='bond-11 atom-10 atom-12' d='M 324.8,44.0 L 312.0,15.8' style='fill:none;fill-rule:evenodd;stroke:#000000;stroke-width:2.0px;stroke-linecap:butt;stroke-linejoin:miter;stroke-opacity:1' />\n",
       "<path class='bond-12 atom-12 atom-13' d='M 315.8,10.5 L 278.4,6.8' style='fill:none;fill-rule:evenodd;stroke:#000000;stroke-width:2.0px;stroke-linecap:butt;stroke-linejoin:miter;stroke-opacity:1' />\n",
       "<path class='bond-13 atom-13 atom-14' d='M 278.4,6.8 L 256.6,37.3' style='fill:none;fill-rule:evenodd;stroke:#000000;stroke-width:2.0px;stroke-linecap:butt;stroke-linejoin:miter;stroke-opacity:1' />\n",
       "<path class='bond-13 atom-13 atom-14' d='M 281.1,12.7 L 263.1,38.0' style='fill:none;fill-rule:evenodd;stroke:#000000;stroke-width:2.0px;stroke-linecap:butt;stroke-linejoin:miter;stroke-opacity:1' />\n",
       "<path class='bond-14 atom-14 atom-15' d='M 256.6,37.3 L 239.6,35.7' style='fill:none;fill-rule:evenodd;stroke:#000000;stroke-width:2.0px;stroke-linecap:butt;stroke-linejoin:miter;stroke-opacity:1' />\n",
       "<path class='bond-14 atom-14 atom-15' d='M 239.6,35.7 L 222.7,34.0' style='fill:none;fill-rule:evenodd;stroke:#7F4C19;stroke-width:2.0px;stroke-linecap:butt;stroke-linejoin:miter;stroke-opacity:1' />\n",
       "<path class='bond-15 atom-7 atom-16' d='M 250.2,102.0 L 241.6,114.0' style='fill:none;fill-rule:evenodd;stroke:#000000;stroke-width:2.0px;stroke-linecap:butt;stroke-linejoin:miter;stroke-opacity:1' />\n",
       "<path class='bond-15 atom-7 atom-16' d='M 241.6,114.0 L 233.1,126.0' style='fill:none;fill-rule:evenodd;stroke:#0000FF;stroke-width:2.0px;stroke-linecap:butt;stroke-linejoin:miter;stroke-opacity:1' />\n",
       "<path class='bond-16 atom-7 atom-17' d='M 250.2,102.0 L 280.7,123.9' style='fill:none;fill-rule:evenodd;stroke:#000000;stroke-width:2.0px;stroke-linecap:butt;stroke-linejoin:miter;stroke-opacity:1' />\n",
       "<path class='bond-17 atom-4 atom-1' d='M 118.0,79.9 L 111.9,42.9' style='fill:none;fill-rule:evenodd;stroke:#000000;stroke-width:2.0px;stroke-linecap:butt;stroke-linejoin:miter;stroke-opacity:1' />\n",
       "<path class='bond-18 atom-14 atom-8' d='M 256.6,37.3 L 272.1,71.5' style='fill:none;fill-rule:evenodd;stroke:#000000;stroke-width:2.0px;stroke-linecap:butt;stroke-linejoin:miter;stroke-opacity:1' />\n",
       "<path d='M 147.0,37.1 L 148.9,36.8 L 149.2,38.6' style='fill:none;stroke:#000000;stroke-width:2.0px;stroke-linecap:butt;stroke-linejoin:miter;stroke-opacity:1;' />\n",
       "<path d='M 119.8,79.6 L 118.0,79.9 L 117.7,78.1' style='fill:none;stroke:#000000;stroke-width:2.0px;stroke-linecap:butt;stroke-linejoin:miter;stroke-opacity:1;' />\n",
       "<path d='M 184.0,94.6 L 185.5,95.7 L 187.2,94.9' style='fill:none;stroke:#000000;stroke-width:2.0px;stroke-linecap:butt;stroke-linejoin:miter;stroke-opacity:1;' />\n",
       "<path d='M 218.0,81.0 L 219.7,80.2 L 221.2,81.3' style='fill:none;stroke:#000000;stroke-width:2.0px;stroke-linecap:butt;stroke-linejoin:miter;stroke-opacity:1;' />\n",
       "<path d='M 307.6,75.0 L 309.4,75.2 L 310.5,73.7' style='fill:none;stroke:#000000;stroke-width:2.0px;stroke-linecap:butt;stroke-linejoin:miter;stroke-opacity:1;' />\n",
       "<path d='M 316.6,12.2 L 315.8,10.5 L 313.9,10.3' style='fill:none;stroke:#000000;stroke-width:2.0px;stroke-linecap:butt;stroke-linejoin:miter;stroke-opacity:1;' />\n",
       "<path d='M 280.3,7.0 L 278.4,6.8 L 277.4,8.3' style='fill:none;stroke:#000000;stroke-width:2.0px;stroke-linecap:butt;stroke-linejoin:miter;stroke-opacity:1;' />\n",
       "<path class='atom-0' d='M 78.2 15.7\n",
       "L 84.5 15.7\n",
       "L 84.5 17.0\n",
       "L 79.6 17.0\n",
       "L 79.6 20.2\n",
       "L 84.0 20.2\n",
       "L 84.0 21.4\n",
       "L 79.6 21.4\n",
       "L 79.6 26.4\n",
       "L 78.2 26.4\n",
       "L 78.2 15.7\n",
       "' fill='#33CCCC'/>\n",
       "<path class='atom-11' d='M 365.5 43.0\n",
       "L 371.8 43.0\n",
       "L 371.8 44.2\n",
       "L 366.9 44.2\n",
       "L 366.9 47.5\n",
       "L 371.3 47.5\n",
       "L 371.3 48.7\n",
       "L 366.9 48.7\n",
       "L 366.9 53.7\n",
       "L 365.5 53.7\n",
       "L 365.5 43.0\n",
       "' fill='#33CCCC'/>\n",
       "<path class='atom-15' d='M 213.7 33.4\n",
       "Q 214.7 33.7, 215.2 34.3\n",
       "Q 215.7 34.9, 215.7 35.8\n",
       "Q 215.7 37.3, 214.8 38.2\n",
       "Q 213.9 39.0, 212.1 39.0\n",
       "L 208.5 39.0\n",
       "L 208.5 28.3\n",
       "L 211.7 28.3\n",
       "Q 213.5 28.3, 214.4 29.1\n",
       "Q 215.3 29.8, 215.3 31.2\n",
       "Q 215.3 32.8, 213.7 33.4\n",
       "M 210.0 29.5\n",
       "L 210.0 32.9\n",
       "L 211.7 32.9\n",
       "Q 212.7 32.9, 213.3 32.5\n",
       "Q 213.8 32.0, 213.8 31.2\n",
       "Q 213.8 29.5, 211.7 29.5\n",
       "L 210.0 29.5\n",
       "M 212.1 37.8\n",
       "Q 213.1 37.8, 213.7 37.3\n",
       "Q 214.2 36.8, 214.2 35.8\n",
       "Q 214.2 35.0, 213.6 34.5\n",
       "Q 213.0 34.1, 211.9 34.1\n",
       "L 210.0 34.1\n",
       "L 210.0 37.8\n",
       "L 212.1 37.8\n",
       "' fill='#7F4C19'/>\n",
       "<path class='atom-15' d='M 218.2 31.3\n",
       "L 218.3 32.3\n",
       "Q 219.1 31.1, 220.5 31.1\n",
       "Q 220.9 31.1, 221.4 31.3\n",
       "L 221.2 32.5\n",
       "Q 220.6 32.4, 220.2 32.4\n",
       "Q 219.6 32.4, 219.2 32.6\n",
       "Q 218.8 32.9, 218.4 33.5\n",
       "L 218.4 39.0\n",
       "L 217.0 39.0\n",
       "L 217.0 31.3\n",
       "L 218.2 31.3\n",
       "' fill='#7F4C19'/>\n",
       "<path class='atom-16' d='M 207.9 127.2\n",
       "L 209.3 127.2\n",
       "L 209.3 131.8\n",
       "L 214.7 131.8\n",
       "L 214.7 127.2\n",
       "L 216.2 127.2\n",
       "L 216.2 137.9\n",
       "L 214.7 137.9\n",
       "L 214.7 133.0\n",
       "L 209.3 133.0\n",
       "L 209.3 137.9\n",
       "L 207.9 137.9\n",
       "L 207.9 127.2\n",
       "' fill='#0000FF'/>\n",
       "<path class='atom-16' d='M 218.3 137.5\n",
       "Q 218.5 136.8, 219.1 136.5\n",
       "Q 219.7 136.1, 220.6 136.1\n",
       "Q 221.7 136.1, 222.2 136.7\n",
       "Q 222.8 137.2, 222.8 138.3\n",
       "Q 222.8 139.3, 222.1 140.3\n",
       "Q 221.3 141.2, 219.7 142.4\n",
       "L 223.0 142.4\n",
       "L 223.0 143.2\n",
       "L 218.2 143.2\n",
       "L 218.2 142.5\n",
       "Q 219.5 141.6, 220.3 140.9\n",
       "Q 221.1 140.2, 221.5 139.6\n",
       "Q 221.9 139.0, 221.9 138.3\n",
       "Q 221.9 137.6, 221.5 137.3\n",
       "Q 221.2 136.9, 220.6 136.9\n",
       "Q 220.0 136.9, 219.7 137.1\n",
       "Q 219.3 137.3, 219.0 137.8\n",
       "L 218.3 137.5\n",
       "' fill='#0000FF'/>\n",
       "<path class='atom-16' d='M 226.0 127.2\n",
       "L 229.5 132.9\n",
       "Q 229.9 133.4, 230.4 134.4\n",
       "Q 231.0 135.4, 231.0 135.5\n",
       "L 231.0 127.2\n",
       "L 232.4 127.2\n",
       "L 232.4 137.9\n",
       "L 230.9 137.9\n",
       "L 227.2 131.7\n",
       "Q 226.8 131.0, 226.3 130.2\n",
       "Q 225.9 129.3, 225.7 129.1\n",
       "L 225.7 137.9\n",
       "L 224.3 137.9\n",
       "L 224.3 127.2\n",
       "L 226.0 127.2\n",
       "' fill='#0000FF'/>\n",
       "</svg>\n"
      ],
      "text/plain": [
       "<rdkit.Chem.rdchem.Mol at 0x153112de9270>"
      ]
     },
     "metadata": {},
     "output_type": "display_data"
    },
    {
     "name": "stdout",
     "output_type": "stream",
     "text": [
      "simil: {0.3682266009852217}\n",
      "prediction smiles: CC1CC(C(C)(N)Cc2ccc(Br)c(F)c2F)C1\n",
      "gt smiles: FC1CC(C1)CCC(c1cc(F)ccc1Br)(N)C\n"
     ]
    }
   ],
   "source": [
    "from rdkit import Chem, DataStructs\n",
    "from rdkit.Chem.Draw import IPythonConsole\n",
    "from rdkit.Chem import Draw\n",
    "import json\n",
    "IPythonConsole.ipython_useSVG=True\n",
    "\n",
    "with open(\"Spektro/MassGenie/predictions/bart_2023-04-07-18_27_23_30Mneims/DEBUG/1692277311_valid_20:50_ahoj/predictions.jsonl\") as f:\n",
    "    preds = [json.loads(line) for line in f]\n",
    "\n",
    "n = 0\n",
    "smiles1 = list(preds[n].keys())[0]\n",
    "smiles2 = data.iloc[20+n][\"smiles\"]\n",
    "\n",
    "mol1 = Chem.MolFromSmiles(smiles1)\n",
    "display(mol1)\n",
    "\n",
    "mol2 = Chem.MolFromSmiles(smiles2)\n",
    "display(mol2)\n",
    "\n",
    "simil = DataStructs.FingerprintSimilarity(Chem.RDKFingerprint(mol1), Chem.RDKFingerprint(mol2))\n",
    "\n",
    "print(\"simil:\", {simil})\n",
    "print(\"prediction smiles:\", smiles1)\n",
    "print(\"gt smiles:\", smiles2)"
   ]
  },
  {
   "cell_type": "code",
   "execution_count": 52,
   "metadata": {},
   "outputs": [
    {
     "data": {
      "text/plain": [
       "'CC1CC(C(C)(N)Cc2ccc(Br)c(F)c2F)C1'"
      ]
     },
     "execution_count": 52,
     "metadata": {},
     "output_type": "execute_result"
    }
   ],
   "source": [
    "list(preds[0].keys())[0]"
   ]
  },
  {
   "attachments": {},
   "cell_type": "markdown",
   "metadata": {},
   "source": [
    "### Create .pkl and .smi of NIST datset"
   ]
  },
  {
   "cell_type": "code",
   "execution_count": 73,
   "metadata": {},
   "outputs": [],
   "source": [
    "from matchms.importing import load_from_msp"
   ]
  },
  {
   "cell_type": "code",
   "execution_count": 74,
   "metadata": {},
   "outputs": [
    {
     "name": "stdout",
     "output_type": "stream",
     "text": [
      "CPU times: user 2min 3s, sys: 459 ms, total: 2min 4s\n",
      "Wall time: 2min 4s\n"
     ]
    }
   ],
   "source": [
    "%%time\n",
    "# load NIST20-only \n",
    "nist20only_path = \"Spektro/MassGenie/data/datasets/NIST/NIST20_only/NIST20_only_NEIMS.msp\"\n",
    "nist20only = list(load_from_msp(nist20only_path, metadata_harmonization=False))"
   ]
  },
  {
   "cell_type": "code",
   "execution_count": 83,
   "metadata": {},
   "outputs": [
    {
     "data": {
      "text/plain": [
       "array([999.])"
      ]
     },
     "execution_count": 83,
     "metadata": {},
     "output_type": "execute_result"
    }
   ],
   "source": [
    "nist20only[0].intensities"
   ]
  },
  {
   "cell_type": "code",
   "execution_count": 84,
   "metadata": {},
   "outputs": [
    {
     "data": {
      "text/plain": [
       "86772"
      ]
     },
     "execution_count": 84,
     "metadata": {},
     "output_type": "execute_result"
    }
   ],
   "source": [
    "len(nist20only)"
   ]
  },
  {
   "cell_type": "code",
   "execution_count": 118,
   "metadata": {},
   "outputs": [
    {
     "name": "stdout",
     "output_type": "stream",
     "text": [
      "saving to: Spektro/MassGenie/data/datasets/NIST/NIST20_only/NIST20_only_NIST.smi\n",
      "saving to: Spektro/MassGenie/data/datasets/NIST/NIST20_only/NIST20_only_NEIMS.smi\n"
     ]
    }
   ],
   "source": [
    "msp_file_to_smi(Path(\"Spektro/MassGenie/data/datasets/NIST/NIST20_only/NIST20_only_NIST.msp\"))\n",
    "msp_file_to_smi(Path(\"Spektro/MassGenie/data/datasets/NIST/NIST20_only/NIST20_only_NEIMS.msp\"))"
   ]
  },
  {
   "cell_type": "code",
   "execution_count": 121,
   "metadata": {},
   "outputs": [
    {
     "name": "stdout",
     "output_type": "stream",
     "text": [
      "saving to: Spektro/MassGenie/data/datasets/NIST/NIST_split_filip/test.smi\n"
     ]
    },
    {
     "name": "stderr",
     "output_type": "stream",
     "text": [
      "[20:24:58] Explicit valence for atom # 0 C, 5, is greater than permitted\n"
     ]
    },
    {
     "name": "stdout",
     "output_type": "stream",
     "text": [
      "Couldn't be canonicalized due to Exception: Python argument types in\n",
      "    rdkit.Chem.rdmolfiles.MolToSmiles(NoneType)\n",
      "did not match C++ signature:\n",
      "    MolToSmiles(RDKit::ROMol mol, bool isomericSmiles=True, bool kekuleSmiles=False, int rootedAtAtom=-1, bool canonical=True, bool allBondsExplicit=False, bool allHsExplicit=False, bool doRandom=False)\n",
      "    MolToSmiles(RDKit::ROMol mol, RDKit::SmilesWriteParams params)\n"
     ]
    },
    {
     "name": "stderr",
     "output_type": "stream",
     "text": [
      "[20:24:58] Explicit valence for atom # 0 B, 5, is greater than permitted\n"
     ]
    },
    {
     "name": "stdout",
     "output_type": "stream",
     "text": [
      "Couldn't be canonicalized due to Exception: Python argument types in\n",
      "    rdkit.Chem.rdmolfiles.MolToSmiles(NoneType)\n",
      "did not match C++ signature:\n",
      "    MolToSmiles(RDKit::ROMol mol, bool isomericSmiles=True, bool kekuleSmiles=False, int rootedAtAtom=-1, bool canonical=True, bool allBondsExplicit=False, bool allHsExplicit=False, bool doRandom=False)\n",
      "    MolToSmiles(RDKit::ROMol mol, RDKit::SmilesWriteParams params)\n"
     ]
    },
    {
     "name": "stderr",
     "output_type": "stream",
     "text": [
      "[20:25:01] Explicit valence for atom # 8 Br, 5, is greater than permitted\n"
     ]
    },
    {
     "name": "stdout",
     "output_type": "stream",
     "text": [
      "Couldn't be canonicalized due to Exception: Python argument types in\n",
      "    rdkit.Chem.rdmolfiles.MolToSmiles(NoneType)\n",
      "did not match C++ signature:\n",
      "    MolToSmiles(RDKit::ROMol mol, bool isomericSmiles=True, bool kekuleSmiles=False, int rootedAtAtom=-1, bool canonical=True, bool allBondsExplicit=False, bool allHsExplicit=False, bool doRandom=False)\n",
      "    MolToSmiles(RDKit::ROMol mol, RDKit::SmilesWriteParams params)\n",
      "saving to: Spektro/MassGenie/data/datasets/NIST/NIST_split_filip/train.smi\n"
     ]
    },
    {
     "name": "stderr",
     "output_type": "stream",
     "text": [
      "[20:30:56] Explicit valence for atom # 0 B, 6, is greater than permitted\n"
     ]
    },
    {
     "name": "stdout",
     "output_type": "stream",
     "text": [
      "Couldn't be canonicalized due to Exception: Python argument types in\n",
      "    rdkit.Chem.rdmolfiles.MolToSmiles(NoneType)\n",
      "did not match C++ signature:\n",
      "    MolToSmiles(RDKit::ROMol mol, bool isomericSmiles=True, bool kekuleSmiles=False, int rootedAtAtom=-1, bool canonical=True, bool allBondsExplicit=False, bool allHsExplicit=False, bool doRandom=False)\n",
      "    MolToSmiles(RDKit::ROMol mol, RDKit::SmilesWriteParams params)\n"
     ]
    },
    {
     "name": "stderr",
     "output_type": "stream",
     "text": [
      "[20:31:00] SMILES Parse Error: syntax error while parsing: [CH-]1|2C|3=C|4C|5=C1|[Fe]6789|2|3|4|5|[N-]%10[CH-]6[CH-]7[CH-]8[CH-]9%10\n",
      "[20:31:00] SMILES Parse Error: Failed parsing SMILES '[CH-]1|2C|3=C|4C|5=C1|[Fe]6789|2|3|4|5|[N-]%10[CH-]6[CH-]7[CH-]8[CH-]9%10' for input: '[CH-]1|2C|3=C|4C|5=C1|[Fe]6789|2|3|4|5|[N-]%10[CH-]6[CH-]7[CH-]8[CH-]9%10'\n"
     ]
    },
    {
     "name": "stdout",
     "output_type": "stream",
     "text": [
      "Couldn't be canonicalized due to Exception: Python argument types in\n",
      "    rdkit.Chem.rdmolfiles.MolToSmiles(NoneType)\n",
      "did not match C++ signature:\n",
      "    MolToSmiles(RDKit::ROMol mol, bool isomericSmiles=True, bool kekuleSmiles=False, int rootedAtAtom=-1, bool canonical=True, bool allBondsExplicit=False, bool allHsExplicit=False, bool doRandom=False)\n",
      "    MolToSmiles(RDKit::ROMol mol, RDKit::SmilesWriteParams params)\n"
     ]
    },
    {
     "name": "stderr",
     "output_type": "stream",
     "text": [
      "[20:31:01] Explicit valence for atom # 2 C, 5, is greater than permitted\n"
     ]
    },
    {
     "name": "stdout",
     "output_type": "stream",
     "text": [
      "Couldn't be canonicalized due to Exception: Python argument types in\n",
      "    rdkit.Chem.rdmolfiles.MolToSmiles(NoneType)\n",
      "did not match C++ signature:\n",
      "    MolToSmiles(RDKit::ROMol mol, bool isomericSmiles=True, bool kekuleSmiles=False, int rootedAtAtom=-1, bool canonical=True, bool allBondsExplicit=False, bool allHsExplicit=False, bool doRandom=False)\n",
      "    MolToSmiles(RDKit::ROMol mol, RDKit::SmilesWriteParams params)\n"
     ]
    },
    {
     "name": "stderr",
     "output_type": "stream",
     "text": [
      "[20:31:01] Explicit valence for atom # 7 Br, 3, is greater than permitted\n"
     ]
    },
    {
     "name": "stdout",
     "output_type": "stream",
     "text": [
      "Couldn't be canonicalized due to Exception: Python argument types in\n",
      "    rdkit.Chem.rdmolfiles.MolToSmiles(NoneType)\n",
      "did not match C++ signature:\n",
      "    MolToSmiles(RDKit::ROMol mol, bool isomericSmiles=True, bool kekuleSmiles=False, int rootedAtAtom=-1, bool canonical=True, bool allBondsExplicit=False, bool allHsExplicit=False, bool doRandom=False)\n",
      "    MolToSmiles(RDKit::ROMol mol, RDKit::SmilesWriteParams params)\n"
     ]
    },
    {
     "name": "stderr",
     "output_type": "stream",
     "text": [
      "[20:31:02] Explicit valence for atom # 1 Cl, 7, is greater than permitted\n"
     ]
    },
    {
     "name": "stdout",
     "output_type": "stream",
     "text": [
      "Couldn't be canonicalized due to Exception: Python argument types in\n",
      "    rdkit.Chem.rdmolfiles.MolToSmiles(NoneType)\n",
      "did not match C++ signature:\n",
      "    MolToSmiles(RDKit::ROMol mol, bool isomericSmiles=True, bool kekuleSmiles=False, int rootedAtAtom=-1, bool canonical=True, bool allBondsExplicit=False, bool allHsExplicit=False, bool doRandom=False)\n",
      "    MolToSmiles(RDKit::ROMol mol, RDKit::SmilesWriteParams params)\n"
     ]
    },
    {
     "name": "stderr",
     "output_type": "stream",
     "text": [
      "[20:31:03] SMILES Parse Error: syntax error while parsing: [Ni]|1|2(|[S-]C(=C([S-]|1)c3ccccc3)c4ccccc4)|[S-]C(=C([S-]|2)c5ccccc5)c6ccccc6\n",
      "[20:31:03] SMILES Parse Error: Failed parsing SMILES '[Ni]|1|2(|[S-]C(=C([S-]|1)c3ccccc3)c4ccccc4)|[S-]C(=C([S-]|2)c5ccccc5)c6ccccc6' for input: '[Ni]|1|2(|[S-]C(=C([S-]|1)c3ccccc3)c4ccccc4)|[S-]C(=C([S-]|2)c5ccccc5)c6ccccc6'\n"
     ]
    },
    {
     "name": "stdout",
     "output_type": "stream",
     "text": [
      "Couldn't be canonicalized due to Exception: Python argument types in\n",
      "    rdkit.Chem.rdmolfiles.MolToSmiles(NoneType)\n",
      "did not match C++ signature:\n",
      "    MolToSmiles(RDKit::ROMol mol, bool isomericSmiles=True, bool kekuleSmiles=False, int rootedAtAtom=-1, bool canonical=True, bool allBondsExplicit=False, bool allHsExplicit=False, bool doRandom=False)\n",
      "    MolToSmiles(RDKit::ROMol mol, RDKit::SmilesWriteParams params)\n"
     ]
    },
    {
     "name": "stderr",
     "output_type": "stream",
     "text": [
      "[20:31:05] Explicit valence for atom # 18 Br, 3, is greater than permitted\n"
     ]
    },
    {
     "name": "stdout",
     "output_type": "stream",
     "text": [
      "Couldn't be canonicalized due to Exception: Python argument types in\n",
      "    rdkit.Chem.rdmolfiles.MolToSmiles(NoneType)\n",
      "did not match C++ signature:\n",
      "    MolToSmiles(RDKit::ROMol mol, bool isomericSmiles=True, bool kekuleSmiles=False, int rootedAtAtom=-1, bool canonical=True, bool allBondsExplicit=False, bool allHsExplicit=False, bool doRandom=False)\n",
      "    MolToSmiles(RDKit::ROMol mol, RDKit::SmilesWriteParams params)\n"
     ]
    },
    {
     "name": "stderr",
     "output_type": "stream",
     "text": [
      "[20:31:11] SMILES Parse Error: syntax error while parsing: [CH-]1|2C|3=C|4C|5=C1|[Mn]6789|2|3|4|5[CH-]%10[CH-]6[CH-]7[CH-]8[CH-]9%10\n",
      "[20:31:11] SMILES Parse Error: Failed parsing SMILES '[CH-]1|2C|3=C|4C|5=C1|[Mn]6789|2|3|4|5[CH-]%10[CH-]6[CH-]7[CH-]8[CH-]9%10' for input: '[CH-]1|2C|3=C|4C|5=C1|[Mn]6789|2|3|4|5[CH-]%10[CH-]6[CH-]7[CH-]8[CH-]9%10'\n"
     ]
    },
    {
     "name": "stdout",
     "output_type": "stream",
     "text": [
      "Couldn't be canonicalized due to Exception: Python argument types in\n",
      "    rdkit.Chem.rdmolfiles.MolToSmiles(NoneType)\n",
      "did not match C++ signature:\n",
      "    MolToSmiles(RDKit::ROMol mol, bool isomericSmiles=True, bool kekuleSmiles=False, int rootedAtAtom=-1, bool canonical=True, bool allBondsExplicit=False, bool allHsExplicit=False, bool doRandom=False)\n",
      "    MolToSmiles(RDKit::ROMol mol, RDKit::SmilesWriteParams params)\n"
     ]
    },
    {
     "name": "stderr",
     "output_type": "stream",
     "text": [
      "[20:31:38] SMILES Parse Error: syntax error while parsing: [CH-]1|2C|3=C|4C|5=C1|[Fe]6789|2|3|4|5|[N-]%10[CH-]6[CH-]7[CH-]8[CH-]9%10\n",
      "[20:31:38] SMILES Parse Error: Failed parsing SMILES '[CH-]1|2C|3=C|4C|5=C1|[Fe]6789|2|3|4|5|[N-]%10[CH-]6[CH-]7[CH-]8[CH-]9%10' for input: '[CH-]1|2C|3=C|4C|5=C1|[Fe]6789|2|3|4|5|[N-]%10[CH-]6[CH-]7[CH-]8[CH-]9%10'\n"
     ]
    },
    {
     "name": "stdout",
     "output_type": "stream",
     "text": [
      "Couldn't be canonicalized due to Exception: Python argument types in\n",
      "    rdkit.Chem.rdmolfiles.MolToSmiles(NoneType)\n",
      "did not match C++ signature:\n",
      "    MolToSmiles(RDKit::ROMol mol, bool isomericSmiles=True, bool kekuleSmiles=False, int rootedAtAtom=-1, bool canonical=True, bool allBondsExplicit=False, bool allHsExplicit=False, bool doRandom=False)\n",
      "    MolToSmiles(RDKit::ROMol mol, RDKit::SmilesWriteParams params)\n"
     ]
    },
    {
     "name": "stderr",
     "output_type": "stream",
     "text": [
      "[20:31:39] SMILES Parse Error: syntax error while parsing: [CH-]1|2C|3=C|4C|5=C1|[Co]6789|2|3|4|5[CH-]%10B([CH-]6[CH-]7[CH-]8[CH-]9%10)c%11ccccc%11\n",
      "[20:31:39] SMILES Parse Error: Failed parsing SMILES '[CH-]1|2C|3=C|4C|5=C1|[Co]6789|2|3|4|5[CH-]%10B([CH-]6[CH-]7[CH-]8[CH-]9%10)c%11ccccc%11' for input: '[CH-]1|2C|3=C|4C|5=C1|[Co]6789|2|3|4|5[CH-]%10B([CH-]6[CH-]7[CH-]8[CH-]9%10)c%11ccccc%11'\n"
     ]
    },
    {
     "name": "stdout",
     "output_type": "stream",
     "text": [
      "Couldn't be canonicalized due to Exception: Python argument types in\n",
      "    rdkit.Chem.rdmolfiles.MolToSmiles(NoneType)\n",
      "did not match C++ signature:\n",
      "    MolToSmiles(RDKit::ROMol mol, bool isomericSmiles=True, bool kekuleSmiles=False, int rootedAtAtom=-1, bool canonical=True, bool allBondsExplicit=False, bool allHsExplicit=False, bool doRandom=False)\n",
      "    MolToSmiles(RDKit::ROMol mol, RDKit::SmilesWriteParams params)\n"
     ]
    },
    {
     "name": "stderr",
     "output_type": "stream",
     "text": [
      "[20:31:43] Explicit valence for atom # 1 C, 5, is greater than permitted\n"
     ]
    },
    {
     "name": "stdout",
     "output_type": "stream",
     "text": [
      "Couldn't be canonicalized due to Exception: Python argument types in\n",
      "    rdkit.Chem.rdmolfiles.MolToSmiles(NoneType)\n",
      "did not match C++ signature:\n",
      "    MolToSmiles(RDKit::ROMol mol, bool isomericSmiles=True, bool kekuleSmiles=False, int rootedAtAtom=-1, bool canonical=True, bool allBondsExplicit=False, bool allHsExplicit=False, bool doRandom=False)\n",
      "    MolToSmiles(RDKit::ROMol mol, RDKit::SmilesWriteParams params)\n"
     ]
    },
    {
     "name": "stderr",
     "output_type": "stream",
     "text": [
      "[20:31:44] Explicit valence for atom # 0 B, 5, is greater than permitted\n"
     ]
    },
    {
     "name": "stdout",
     "output_type": "stream",
     "text": [
      "Couldn't be canonicalized due to Exception: Python argument types in\n",
      "    rdkit.Chem.rdmolfiles.MolToSmiles(NoneType)\n",
      "did not match C++ signature:\n",
      "    MolToSmiles(RDKit::ROMol mol, bool isomericSmiles=True, bool kekuleSmiles=False, int rootedAtAtom=-1, bool canonical=True, bool allBondsExplicit=False, bool allHsExplicit=False, bool doRandom=False)\n",
      "    MolToSmiles(RDKit::ROMol mol, RDKit::SmilesWriteParams params)\n"
     ]
    },
    {
     "name": "stderr",
     "output_type": "stream",
     "text": [
      "[20:31:46] Explicit valence for atom # 0 B, 5, is greater than permitted\n"
     ]
    },
    {
     "name": "stdout",
     "output_type": "stream",
     "text": [
      "Couldn't be canonicalized due to Exception: Python argument types in\n",
      "    rdkit.Chem.rdmolfiles.MolToSmiles(NoneType)\n",
      "did not match C++ signature:\n",
      "    MolToSmiles(RDKit::ROMol mol, bool isomericSmiles=True, bool kekuleSmiles=False, int rootedAtAtom=-1, bool canonical=True, bool allBondsExplicit=False, bool allHsExplicit=False, bool doRandom=False)\n",
      "    MolToSmiles(RDKit::ROMol mol, RDKit::SmilesWriteParams params)\n"
     ]
    }
   ],
   "source": [
    "msp_file_to_smi(Path(\"Spektro/MassGenie/data/datasets/NIST/NIST_split_filip/test.msp\"))\n",
    "msp_file_to_smi(Path(\"Spektro/MassGenie/data/datasets/NIST/NIST_split_filip/train.msp\"))"
   ]
  },
  {
   "cell_type": "code",
   "execution_count": 125,
   "metadata": {},
   "outputs": [
    {
     "name": "stdout",
     "output_type": "stream",
     "text": [
      "69787 c1ccc2c(c1)OB(Oc1ccccc1OB1Oc3ccccc3O1)O2\n",
      " c1ccc(OB2Oc3ccccc3O2)c(OB2Oc3ccccc3O2)c1\n",
      "\n",
      "85417 [Cu+2].[Cu+2].[Cu+2].[I-2].[I-2].[I-2]\n",
      " [Cu+2].[Cu+2].[Cu+2].[IH-2].[IH-2].[IH-2]\n",
      "\n"
     ]
    }
   ],
   "source": [
    "# check if the files are the same\n",
    "nist = Path(\"Spektro/MassGenie/data/datasets/NIST/NIST20_only/NIST20_only_NIST.smi\").open().readlines()\n",
    "neims = Path(\"Spektro/MassGenie/data/datasets/NIST/NIST20_only/NIST20_only_NEIMS.smi\").open().readlines()\n",
    "\n",
    "nist == neims # actually True"
   ]
  },
  {
   "cell_type": "code",
   "execution_count": 130,
   "metadata": {},
   "outputs": [],
   "source": [
    "data_msp_DEBUG = nist20only[:100]"
   ]
  },
  {
   "cell_type": "code",
   "execution_count": 13,
   "metadata": {},
   "outputs": [
    {
     "name": "stderr",
     "output_type": "stream",
     "text": [
      "  4%|▍         | 11438/261272 [00:05<02:08, 1942.62it/s][12:18:42] Explicit valence for atom # 0 B, 6, is greater than permitted\n",
      "  5%|▍         | 11835/261272 [00:05<02:07, 1963.46it/s]"
     ]
    },
    {
     "name": "stdout",
     "output_type": "stream",
     "text": [
      "Couldn't be canonicalized due to Exception: Python argument types in\n",
      "    rdkit.Chem.rdmolfiles.MolToSmiles(NoneType, bool)\n",
      "did not match C++ signature:\n",
      "    MolToSmiles(RDKit::ROMol mol, bool isomericSmiles=True, bool kekuleSmiles=False, int rootedAtAtom=-1, bool canonical=True, bool allBondsExplicit=False, bool allHsExplicit=False, bool doRandom=False)\n",
      "    MolToSmiles(RDKit::ROMol mol, RDKit::SmilesWriteParams params)\n"
     ]
    },
    {
     "name": "stderr",
     "output_type": "stream",
     "text": [
      " 12%|█▏        | 31678/261272 [00:15<01:55, 1987.62it/s][12:18:52] SMILES Parse Error: syntax error while parsing: [CH-]1|2C|3=C|4C|5=C1|[Fe]6789|2|3|4|5|[N-]%10[CH-]6[CH-]7[CH-]8[CH-]9%10\n",
      "[12:18:52] SMILES Parse Error: Failed parsing SMILES '[CH-]1|2C|3=C|4C|5=C1|[Fe]6789|2|3|4|5|[N-]%10[CH-]6[CH-]7[CH-]8[CH-]9%10' for input: '[CH-]1|2C|3=C|4C|5=C1|[Fe]6789|2|3|4|5|[N-]%10[CH-]6[CH-]7[CH-]8[CH-]9%10'\n",
      " 12%|█▏        | 32074/261272 [00:16<01:57, 1945.15it/s]"
     ]
    },
    {
     "name": "stdout",
     "output_type": "stream",
     "text": [
      "Couldn't be canonicalized due to Exception: Python argument types in\n",
      "    rdkit.Chem.rdmolfiles.MolToSmiles(NoneType, bool)\n",
      "did not match C++ signature:\n",
      "    MolToSmiles(RDKit::ROMol mol, bool isomericSmiles=True, bool kekuleSmiles=False, int rootedAtAtom=-1, bool canonical=True, bool allBondsExplicit=False, bool allHsExplicit=False, bool doRandom=False)\n",
      "    MolToSmiles(RDKit::ROMol mol, RDKit::SmilesWriteParams params)\n"
     ]
    },
    {
     "name": "stderr",
     "output_type": "stream",
     "text": [
      " 14%|█▍        | 37296/261272 [00:18<01:54, 1960.92it/s][12:18:55] Explicit valence for atom # 2 C, 5, is greater than permitted\n",
      " 14%|█▍        | 37694/261272 [00:18<01:53, 1972.23it/s]"
     ]
    },
    {
     "name": "stdout",
     "output_type": "stream",
     "text": [
      "Couldn't be canonicalized due to Exception: Python argument types in\n",
      "    rdkit.Chem.rdmolfiles.MolToSmiles(NoneType, bool)\n",
      "did not match C++ signature:\n",
      "    MolToSmiles(RDKit::ROMol mol, bool isomericSmiles=True, bool kekuleSmiles=False, int rootedAtAtom=-1, bool canonical=True, bool allBondsExplicit=False, bool allHsExplicit=False, bool doRandom=False)\n",
      "    MolToSmiles(RDKit::ROMol mol, RDKit::SmilesWriteParams params)\n"
     ]
    },
    {
     "name": "stderr",
     "output_type": "stream",
     "text": [
      " 15%|█▌        | 39889/261272 [00:20<01:52, 1973.56it/s][12:18:56] Explicit valence for atom # 7 Br, 3, is greater than permitted\n",
      " 15%|█▌        | 40292/261272 [00:20<01:50, 1992.87it/s]"
     ]
    },
    {
     "name": "stdout",
     "output_type": "stream",
     "text": [
      "Couldn't be canonicalized due to Exception: Python argument types in\n",
      "    rdkit.Chem.rdmolfiles.MolToSmiles(NoneType, bool)\n",
      "did not match C++ signature:\n",
      "    MolToSmiles(RDKit::ROMol mol, bool isomericSmiles=True, bool kekuleSmiles=False, int rootedAtAtom=-1, bool canonical=True, bool allBondsExplicit=False, bool allHsExplicit=False, bool doRandom=False)\n",
      "    MolToSmiles(RDKit::ROMol mol, RDKit::SmilesWriteParams params)\n"
     ]
    },
    {
     "name": "stderr",
     "output_type": "stream",
     "text": [
      " 17%|█▋        | 44075/261272 [00:22<01:50, 1968.94it/s][12:18:59] Explicit valence for atom # 1 Cl, 7, is greater than permitted\n",
      " 17%|█▋        | 44472/261272 [00:22<01:49, 1972.41it/s]"
     ]
    },
    {
     "name": "stdout",
     "output_type": "stream",
     "text": [
      "Couldn't be canonicalized due to Exception: Python argument types in\n",
      "    rdkit.Chem.rdmolfiles.MolToSmiles(NoneType, bool)\n",
      "did not match C++ signature:\n",
      "    MolToSmiles(RDKit::ROMol mol, bool isomericSmiles=True, bool kekuleSmiles=False, int rootedAtAtom=-1, bool canonical=True, bool allBondsExplicit=False, bool allHsExplicit=False, bool doRandom=False)\n",
      "    MolToSmiles(RDKit::ROMol mol, RDKit::SmilesWriteParams params)\n"
     ]
    },
    {
     "name": "stderr",
     "output_type": "stream",
     "text": [
      " 18%|█▊        | 47465/261272 [00:23<01:47, 1992.66it/s][12:19:00] SMILES Parse Error: syntax error while parsing: [Ni]|1|2(|[S-]C(=C([S-]|1)c3ccccc3)c4ccccc4)|[S-]C(=C([S-]|2)c5ccccc5)c6ccccc6\n",
      "[12:19:00] SMILES Parse Error: Failed parsing SMILES '[Ni]|1|2(|[S-]C(=C([S-]|1)c3ccccc3)c4ccccc4)|[S-]C(=C([S-]|2)c5ccccc5)c6ccccc6' for input: '[Ni]|1|2(|[S-]C(=C([S-]|1)c3ccccc3)c4ccccc4)|[S-]C(=C([S-]|2)c5ccccc5)c6ccccc6'\n",
      " 18%|█▊        | 47864/261272 [00:24<01:47, 1983.02it/s]"
     ]
    },
    {
     "name": "stdout",
     "output_type": "stream",
     "text": [
      "Couldn't be canonicalized due to Exception: Python argument types in\n",
      "    rdkit.Chem.rdmolfiles.MolToSmiles(NoneType, bool)\n",
      "did not match C++ signature:\n",
      "    MolToSmiles(RDKit::ROMol mol, bool isomericSmiles=True, bool kekuleSmiles=False, int rootedAtAtom=-1, bool canonical=True, bool allBondsExplicit=False, bool allHsExplicit=False, bool doRandom=False)\n",
      "    MolToSmiles(RDKit::ROMol mol, RDKit::SmilesWriteParams params)\n"
     ]
    },
    {
     "name": "stderr",
     "output_type": "stream",
     "text": [
      " 22%|██▏       | 57073/261272 [00:28<01:43, 1978.52it/s][12:19:05] Explicit valence for atom # 18 Br, 3, is greater than permitted\n",
      " 22%|██▏       | 57468/261272 [00:28<01:45, 1923.15it/s]"
     ]
    },
    {
     "name": "stdout",
     "output_type": "stream",
     "text": [
      "Couldn't be canonicalized due to Exception: Python argument types in\n",
      "    rdkit.Chem.rdmolfiles.MolToSmiles(NoneType, bool)\n",
      "did not match C++ signature:\n",
      "    MolToSmiles(RDKit::ROMol mol, bool isomericSmiles=True, bool kekuleSmiles=False, int rootedAtAtom=-1, bool canonical=True, bool allBondsExplicit=False, bool allHsExplicit=False, bool doRandom=False)\n",
      "    MolToSmiles(RDKit::ROMol mol, RDKit::SmilesWriteParams params)\n"
     ]
    },
    {
     "name": "stderr",
     "output_type": "stream",
     "text": [
      " 34%|███▎      | 88000/261272 [00:44<01:29, 1944.75it/s][12:19:21] SMILES Parse Error: syntax error while parsing: [CH-]1|2C|3=C|4C|5=C1|[Mn]6789|2|3|4|5[CH-]%10[CH-]6[CH-]7[CH-]8[CH-]9%10\n",
      "[12:19:21] SMILES Parse Error: Failed parsing SMILES '[CH-]1|2C|3=C|4C|5=C1|[Mn]6789|2|3|4|5[CH-]%10[CH-]6[CH-]7[CH-]8[CH-]9%10' for input: '[CH-]1|2C|3=C|4C|5=C1|[Mn]6789|2|3|4|5[CH-]%10[CH-]6[CH-]7[CH-]8[CH-]9%10'\n",
      " 34%|███▍      | 88398/261272 [00:44<01:27, 1965.88it/s]"
     ]
    },
    {
     "name": "stdout",
     "output_type": "stream",
     "text": [
      "Couldn't be canonicalized due to Exception: Python argument types in\n",
      "    rdkit.Chem.rdmolfiles.MolToSmiles(NoneType, bool)\n",
      "did not match C++ signature:\n",
      "    MolToSmiles(RDKit::ROMol mol, bool isomericSmiles=True, bool kekuleSmiles=False, int rootedAtAtom=-1, bool canonical=True, bool allBondsExplicit=False, bool allHsExplicit=False, bool doRandom=False)\n",
      "    MolToSmiles(RDKit::ROMol mol, RDKit::SmilesWriteParams params)\n"
     ]
    },
    {
     "name": "stderr",
     "output_type": "stream",
     "text": [
      " 83%|████████▎ | 217084/261272 [01:54<00:22, 1974.73it/s][12:20:31] SMILES Parse Error: syntax error while parsing: [CH-]1|2C|3=C|4C|5=C1|[Fe]6789|2|3|4|5|[N-]%10[CH-]6[CH-]7[CH-]8[CH-]9%10\n",
      "[12:20:31] SMILES Parse Error: Failed parsing SMILES '[CH-]1|2C|3=C|4C|5=C1|[Fe]6789|2|3|4|5|[N-]%10[CH-]6[CH-]7[CH-]8[CH-]9%10' for input: '[CH-]1|2C|3=C|4C|5=C1|[Fe]6789|2|3|4|5|[N-]%10[CH-]6[CH-]7[CH-]8[CH-]9%10'\n",
      " 83%|████████▎ | 217481/261272 [01:55<00:22, 1967.74it/s]"
     ]
    },
    {
     "name": "stdout",
     "output_type": "stream",
     "text": [
      "Couldn't be canonicalized due to Exception: Python argument types in\n",
      "    rdkit.Chem.rdmolfiles.MolToSmiles(NoneType, bool)\n",
      "did not match C++ signature:\n",
      "    MolToSmiles(RDKit::ROMol mol, bool isomericSmiles=True, bool kekuleSmiles=False, int rootedAtAtom=-1, bool canonical=True, bool allBondsExplicit=False, bool allHsExplicit=False, bool doRandom=False)\n",
      "    MolToSmiles(RDKit::ROMol mol, RDKit::SmilesWriteParams params)\n"
     ]
    },
    {
     "name": "stderr",
     "output_type": "stream",
     "text": [
      " 85%|████████▌ | 222631/261272 [01:57<00:19, 1941.88it/s][12:20:34] SMILES Parse Error: syntax error while parsing: [CH-]1|2C|3=C|4C|5=C1|[Co]6789|2|3|4|5[CH-]%10B([CH-]6[CH-]7[CH-]8[CH-]9%10)c%11ccccc%11\n",
      "[12:20:34] SMILES Parse Error: Failed parsing SMILES '[CH-]1|2C|3=C|4C|5=C1|[Co]6789|2|3|4|5[CH-]%10B([CH-]6[CH-]7[CH-]8[CH-]9%10)c%11ccccc%11' for input: '[CH-]1|2C|3=C|4C|5=C1|[Co]6789|2|3|4|5[CH-]%10B([CH-]6[CH-]7[CH-]8[CH-]9%10)c%11ccccc%11'\n",
      " 85%|████████▌ | 223026/261272 [01:57<00:19, 1956.15it/s]"
     ]
    },
    {
     "name": "stdout",
     "output_type": "stream",
     "text": [
      "Couldn't be canonicalized due to Exception: Python argument types in\n",
      "    rdkit.Chem.rdmolfiles.MolToSmiles(NoneType, bool)\n",
      "did not match C++ signature:\n",
      "    MolToSmiles(RDKit::ROMol mol, bool isomericSmiles=True, bool kekuleSmiles=False, int rootedAtAtom=-1, bool canonical=True, bool allBondsExplicit=False, bool allHsExplicit=False, bool doRandom=False)\n",
      "    MolToSmiles(RDKit::ROMol mol, RDKit::SmilesWriteParams params)\n"
     ]
    },
    {
     "name": "stderr",
     "output_type": "stream",
     "text": [
      " 93%|█████████▎| 242719/261272 [02:08<00:09, 1935.30it/s][12:20:45] Explicit valence for atom # 1 C, 5, is greater than permitted\n",
      " 93%|█████████▎| 243110/261272 [02:08<00:09, 1942.95it/s]"
     ]
    },
    {
     "name": "stdout",
     "output_type": "stream",
     "text": [
      "Couldn't be canonicalized due to Exception: Python argument types in\n",
      "    rdkit.Chem.rdmolfiles.MolToSmiles(NoneType, bool)\n",
      "did not match C++ signature:\n",
      "    MolToSmiles(RDKit::ROMol mol, bool isomericSmiles=True, bool kekuleSmiles=False, int rootedAtAtom=-1, bool canonical=True, bool allBondsExplicit=False, bool allHsExplicit=False, bool doRandom=False)\n",
      "    MolToSmiles(RDKit::ROMol mol, RDKit::SmilesWriteParams params)\n"
     ]
    },
    {
     "name": "stderr",
     "output_type": "stream",
     "text": [
      " 94%|█████████▍| 246653/261272 [02:10<00:07, 1918.02it/s][12:20:47] Explicit valence for atom # 0 B, 5, is greater than permitted\n",
      " 95%|█████████▍| 247048/261272 [02:10<00:07, 1945.87it/s]"
     ]
    },
    {
     "name": "stdout",
     "output_type": "stream",
     "text": [
      "Couldn't be canonicalized due to Exception: Python argument types in\n",
      "    rdkit.Chem.rdmolfiles.MolToSmiles(NoneType, bool)\n",
      "did not match C++ signature:\n",
      "    MolToSmiles(RDKit::ROMol mol, bool isomericSmiles=True, bool kekuleSmiles=False, int rootedAtAtom=-1, bool canonical=True, bool allBondsExplicit=False, bool allHsExplicit=False, bool doRandom=False)\n",
      "    MolToSmiles(RDKit::ROMol mol, RDKit::SmilesWriteParams params)\n"
     ]
    },
    {
     "name": "stderr",
     "output_type": "stream",
     "text": [
      " 98%|█████████▊| 255728/261272 [02:14<00:02, 1942.86it/s][12:20:51] Explicit valence for atom # 0 B, 5, is greater than permitted\n",
      " 98%|█████████▊| 256119/261272 [02:15<00:02, 1938.02it/s]"
     ]
    },
    {
     "name": "stdout",
     "output_type": "stream",
     "text": [
      "Couldn't be canonicalized due to Exception: Python argument types in\n",
      "    rdkit.Chem.rdmolfiles.MolToSmiles(NoneType, bool)\n",
      "did not match C++ signature:\n",
      "    MolToSmiles(RDKit::ROMol mol, bool isomericSmiles=True, bool kekuleSmiles=False, int rootedAtAtom=-1, bool canonical=True, bool allBondsExplicit=False, bool allHsExplicit=False, bool doRandom=False)\n",
      "    MolToSmiles(RDKit::ROMol mol, RDKit::SmilesWriteParams params)\n"
     ]
    },
    {
     "name": "stderr",
     "output_type": "stream",
     "text": [
      "100%|██████████| 261272/261272 [02:17<00:00, 1897.86it/s]\n"
     ]
    },
    {
     "name": "stdout",
     "output_type": "stream",
     "text": [
      "0 no smiles\n",
      "456 smiles too long\n",
      "13 spectra corrupted\n",
      "6601 spectra w/ too high mz\n",
      "22209 spectra w/ too many peaks\n",
      "totally 29279 issues\n",
      "discarded 26364/261272 spectra \n"
     ]
    }
   ],
   "source": [
    "dataset_path = Path(\"Spektro/MassGenie/data/datasets/NIST/NIST_split_filip\")\n",
    "dataset_type = \"train\"\n",
    "source_token = \"<nist>\"\n",
    "msp_file_to_pkl(dataset_path / f\"{dataset_type}.msp\",\n",
    "                tokenizer_path,\n",
    "                source_token,\n",
    "                path_pkl=dataset_path / f\"{dataset_type}_{source_token}.pkl\"\n",
    "                )\n"
   ]
  },
  {
   "cell_type": "code",
   "execution_count": 16,
   "metadata": {},
   "outputs": [
    {
     "data": {
      "text/html": [
       "<div>\n",
       "<style scoped>\n",
       "    .dataframe tbody tr th:only-of-type {\n",
       "        vertical-align: middle;\n",
       "    }\n",
       "\n",
       "    .dataframe tbody tr th {\n",
       "        vertical-align: top;\n",
       "    }\n",
       "\n",
       "    .dataframe thead th {\n",
       "        text-align: right;\n",
       "    }\n",
       "</style>\n",
       "<table border=\"1\" class=\"dataframe\">\n",
       "  <thead>\n",
       "    <tr style=\"text-align: right;\">\n",
       "      <th></th>\n",
       "      <th>input_ids</th>\n",
       "      <th>position_ids</th>\n",
       "      <th>attention_mask</th>\n",
       "      <th>smiles</th>\n",
       "      <th>labels</th>\n",
       "      <th>decoder_attention_mask</th>\n",
       "    </tr>\n",
       "  </thead>\n",
       "  <tbody>\n",
       "    <tr>\n",
       "      <th>151700</th>\n",
       "      <td>[39, 45, 57, 63, 69, 77, 89, 93, 100, 101, 105...</td>\n",
       "      <td>[2, 3, 5, 3, 4, 6, 6, 3, 3, 3, 3, 4, 9, 5, 3, ...</td>\n",
       "      <td>[1, 1, 1, 1, 1, 1, 1, 1, 1, 1, 1, 1, 1, 1, 1, ...</td>\n",
       "      <td>ClC1=C(c2ccccc2)SCCS1</td>\n",
       "      <td>[1234, 224, 690, 20, 32, 38, 11, 70, 21, 334, ...</td>\n",
       "      <td>[1, 1, 1, 1, 1, 1, 1, 1, 1, 1, 1, 1, 1, 1, 1, ...</td>\n",
       "    </tr>\n",
       "    <tr>\n",
       "      <th>136805</th>\n",
       "      <td>[26, 27, 29, 37, 38, 39, 49, 50, 51, 52, 53, 6...</td>\n",
       "      <td>[0, 0, 0, 0, 0, 2, 0, 2, 2, 0, 0, 0, 2, 3, 0, ...</td>\n",
       "      <td>[1, 1, 1, 1, 1, 1, 1, 1, 1, 1, 1, 1, 1, 1, 1, ...</td>\n",
       "      <td>O=C1C=Cc2cccc3c2c1cc1ccccc13</td>\n",
       "      <td>[1234, 224, 50, 32, 38, 20, 38, 32, 279, 21, 3...</td>\n",
       "      <td>[1, 1, 1, 1, 1, 1, 1, 1, 1, 1, 1, 1, 1, 1, 1, ...</td>\n",
       "    </tr>\n",
       "    <tr>\n",
       "      <th>5857</th>\n",
       "      <td>[39, 41, 43, 53, 55, 57, 65, 67, 77, 79, 91, 9...</td>\n",
       "      <td>[5, 8, 5, 3, 6, 8, 3, 3, 4, 3, 5, 2, 3, 4, 3, ...</td>\n",
       "      <td>[1, 1, 1, 1, 1, 1, 1, 1, 1, 1, 1, 1, 1, 1, 1, ...</td>\n",
       "      <td>CC(C)(C)c1ccc(C(C)(C)C)c2c1O[P+]1(O2)Oc2c(C(C)...</td>\n",
       "      <td>[1234, 224, 261, 11, 38, 289, 38, 12, 70, 20, ...</td>\n",
       "      <td>[1, 1, 1, 1, 1, 1, 1, 1, 1, 1, 1, 1, 1, 1, 1, ...</td>\n",
       "    </tr>\n",
       "    <tr>\n",
       "      <th>146475</th>\n",
       "      <td>[26, 27, 28, 29, 35, 36, 37, 38, 39, 40, 41, 4...</td>\n",
       "      <td>[0, 3, 2, 4, 0, 2, 0, 0, 3, 0, 6, 4, 6, 1, 0, ...</td>\n",
       "      <td>[1, 1, 1, 1, 1, 1, 1, 1, 1, 1, 1, 1, 1, 1, 1, ...</td>\n",
       "      <td>CCCCCCCCOC(=O)CCCCC(=O)Oc1c(Cl)cc(Cl)c(Cl)c1Cl</td>\n",
       "      <td>[1234, 224, 487, 292, 260, 50, 12, 356, 260, 5...</td>\n",
       "      <td>[1, 1, 1, 1, 1, 1, 1, 1, 1, 1, 1, 1, 1, 1, 1, ...</td>\n",
       "    </tr>\n",
       "    <tr>\n",
       "      <th>105754</th>\n",
       "      <td>[25, 26, 27, 28, 29, 30, 38, 39, 40, 41, 42, 4...</td>\n",
       "      <td>[0, 0, 5, 3, 3, 0, 3, 5, 1, 3, 3, 1, 3, 6, 9, ...</td>\n",
       "      <td>[1, 1, 1, 1, 1, 1, 1, 1, 1, 1, 1, 1, 1, 1, 1, ...</td>\n",
       "      <td>O=Cc1ccc(N=Nc2ccccc2)cc1</td>\n",
       "      <td>[1234, 224, 50, 32, 279, 20, 280, 11, 49, 32, ...</td>\n",
       "      <td>[1, 1, 1, 1, 1, 1, 1, 1, 1, 1, 1, 1, 1, 1, 1, ...</td>\n",
       "    </tr>\n",
       "    <tr>\n",
       "      <th>...</th>\n",
       "      <td>...</td>\n",
       "      <td>...</td>\n",
       "      <td>...</td>\n",
       "      <td>...</td>\n",
       "      <td>...</td>\n",
       "      <td>...</td>\n",
       "    </tr>\n",
       "    <tr>\n",
       "      <th>110387</th>\n",
       "      <td>[26, 27, 28, 29, 30, 38, 39, 40, 41, 42, 43, 4...</td>\n",
       "      <td>[0, 3, 0, 2, 0, 0, 2, 0, 5, 1, 6, 0, 0, 4, 0, ...</td>\n",
       "      <td>[1, 1, 1, 1, 1, 1, 1, 1, 1, 1, 1, 1, 1, 1, 1, ...</td>\n",
       "      <td>CC(C)C(C)C=C[Si](C)(C)F</td>\n",
       "      <td>[1234, 224, 261, 11, 38, 12, 38, 11, 38, 12, 3...</td>\n",
       "      <td>[1, 1, 1, 1, 1, 1, 1, 1, 1, 1, 1, 1, 1, 1, 1, ...</td>\n",
       "    </tr>\n",
       "    <tr>\n",
       "      <th>127518</th>\n",
       "      <td>[15, 26, 27, 28, 29, 30, 31, 39, 40, 41, 42, 4...</td>\n",
       "      <td>[0, 0, 2, 1, 2, 0, 0, 2, 0, 3, 0, 4, 3, 6, 1, ...</td>\n",
       "      <td>[1, 1, 1, 1, 1, 1, 1, 1, 1, 1, 1, 1, 1, 1, 1, ...</td>\n",
       "      <td>CC(C)C=C(O[Si](C)(C)C)C(=O)O[Si](C)(C)C</td>\n",
       "      <td>[1234, 224, 261, 11, 38, 12, 38, 32, 38, 11, 5...</td>\n",
       "      <td>[1, 1, 1, 1, 1, 1, 1, 1, 1, 1, 1, 1, 1, 1, 1, ...</td>\n",
       "    </tr>\n",
       "    <tr>\n",
       "      <th>197470</th>\n",
       "      <td>[26, 27, 28, 29, 30, 31, 37, 38, 39, 40, 41, 4...</td>\n",
       "      <td>[0, 6, 3, 6, 0, 3, 0, 0, 5, 2, 7, 6, 8, 6, 9, ...</td>\n",
       "      <td>[1, 1, 1, 1, 1, 1, 1, 1, 1, 1, 1, 1, 1, 1, 1, ...</td>\n",
       "      <td>CCCCCCCC(C)O</td>\n",
       "      <td>[1234, 224, 1024, 11, 38, 12, 50, 0, -100, -10...</td>\n",
       "      <td>[1, 1, 1, 1, 1, 1, 1, 1, 0, 0, 0, 0, 0, 0, 0, ...</td>\n",
       "    </tr>\n",
       "    <tr>\n",
       "      <th>86890</th>\n",
       "      <td>[41, 42, 44, 50, 51, 52, 53, 54, 55, 56, 57, 5...</td>\n",
       "      <td>[2, 5, 4, 1, 3, 1, 0, 0, 0, 4, 2, 0, 0, 0, 2, ...</td>\n",
       "      <td>[1, 1, 1, 1, 1, 1, 1, 1, 1, 1, 1, 1, 1, 1, 1, ...</td>\n",
       "      <td>CC(Cc1ccccc1)N(C)C</td>\n",
       "      <td>[1234, 224, 261, 11, 279, 20, 334, 20, 12, 49,...</td>\n",
       "      <td>[1, 1, 1, 1, 1, 1, 1, 1, 1, 1, 1, 1, 1, 1, 1, ...</td>\n",
       "    </tr>\n",
       "    <tr>\n",
       "      <th>154920</th>\n",
       "      <td>[50, 65, 75, 76, 77, 91, 93, 103, 104, 105, 10...</td>\n",
       "      <td>[0, 1, 0, 2, 0, 0, 0, 2, 2, 0, 0, 0, 4, 0, 1, ...</td>\n",
       "      <td>[1, 1, 1, 1, 1, 1, 1, 1, 1, 1, 1, 1, 1, 1, 1, ...</td>\n",
       "      <td>CCOC(=O)c1cccc(C(=O)Oc2ccc(C)c(C)c2)c1</td>\n",
       "      <td>[1234, 224, 292, 260, 50, 12, 70, 20, 338, 11,...</td>\n",
       "      <td>[1, 1, 1, 1, 1, 1, 1, 1, 1, 1, 1, 1, 1, 1, 1, ...</td>\n",
       "    </tr>\n",
       "  </tbody>\n",
       "</table>\n",
       "<p>26000 rows × 6 columns</p>\n",
       "</div>"
      ],
      "text/plain": [
       "                                                input_ids  \\\n",
       "151700  [39, 45, 57, 63, 69, 77, 89, 93, 100, 101, 105...   \n",
       "136805  [26, 27, 29, 37, 38, 39, 49, 50, 51, 52, 53, 6...   \n",
       "5857    [39, 41, 43, 53, 55, 57, 65, 67, 77, 79, 91, 9...   \n",
       "146475  [26, 27, 28, 29, 35, 36, 37, 38, 39, 40, 41, 4...   \n",
       "105754  [25, 26, 27, 28, 29, 30, 38, 39, 40, 41, 42, 4...   \n",
       "...                                                   ...   \n",
       "110387  [26, 27, 28, 29, 30, 38, 39, 40, 41, 42, 43, 4...   \n",
       "127518  [15, 26, 27, 28, 29, 30, 31, 39, 40, 41, 42, 4...   \n",
       "197470  [26, 27, 28, 29, 30, 31, 37, 38, 39, 40, 41, 4...   \n",
       "86890   [41, 42, 44, 50, 51, 52, 53, 54, 55, 56, 57, 5...   \n",
       "154920  [50, 65, 75, 76, 77, 91, 93, 103, 104, 105, 10...   \n",
       "\n",
       "                                             position_ids  \\\n",
       "151700  [2, 3, 5, 3, 4, 6, 6, 3, 3, 3, 3, 4, 9, 5, 3, ...   \n",
       "136805  [0, 0, 0, 0, 0, 2, 0, 2, 2, 0, 0, 0, 2, 3, 0, ...   \n",
       "5857    [5, 8, 5, 3, 6, 8, 3, 3, 4, 3, 5, 2, 3, 4, 3, ...   \n",
       "146475  [0, 3, 2, 4, 0, 2, 0, 0, 3, 0, 6, 4, 6, 1, 0, ...   \n",
       "105754  [0, 0, 5, 3, 3, 0, 3, 5, 1, 3, 3, 1, 3, 6, 9, ...   \n",
       "...                                                   ...   \n",
       "110387  [0, 3, 0, 2, 0, 0, 2, 0, 5, 1, 6, 0, 0, 4, 0, ...   \n",
       "127518  [0, 0, 2, 1, 2, 0, 0, 2, 0, 3, 0, 4, 3, 6, 1, ...   \n",
       "197470  [0, 6, 3, 6, 0, 3, 0, 0, 5, 2, 7, 6, 8, 6, 9, ...   \n",
       "86890   [2, 5, 4, 1, 3, 1, 0, 0, 0, 4, 2, 0, 0, 0, 2, ...   \n",
       "154920  [0, 1, 0, 2, 0, 0, 0, 2, 2, 0, 0, 0, 4, 0, 1, ...   \n",
       "\n",
       "                                           attention_mask  \\\n",
       "151700  [1, 1, 1, 1, 1, 1, 1, 1, 1, 1, 1, 1, 1, 1, 1, ...   \n",
       "136805  [1, 1, 1, 1, 1, 1, 1, 1, 1, 1, 1, 1, 1, 1, 1, ...   \n",
       "5857    [1, 1, 1, 1, 1, 1, 1, 1, 1, 1, 1, 1, 1, 1, 1, ...   \n",
       "146475  [1, 1, 1, 1, 1, 1, 1, 1, 1, 1, 1, 1, 1, 1, 1, ...   \n",
       "105754  [1, 1, 1, 1, 1, 1, 1, 1, 1, 1, 1, 1, 1, 1, 1, ...   \n",
       "...                                                   ...   \n",
       "110387  [1, 1, 1, 1, 1, 1, 1, 1, 1, 1, 1, 1, 1, 1, 1, ...   \n",
       "127518  [1, 1, 1, 1, 1, 1, 1, 1, 1, 1, 1, 1, 1, 1, 1, ...   \n",
       "197470  [1, 1, 1, 1, 1, 1, 1, 1, 1, 1, 1, 1, 1, 1, 1, ...   \n",
       "86890   [1, 1, 1, 1, 1, 1, 1, 1, 1, 1, 1, 1, 1, 1, 1, ...   \n",
       "154920  [1, 1, 1, 1, 1, 1, 1, 1, 1, 1, 1, 1, 1, 1, 1, ...   \n",
       "\n",
       "                                                   smiles  \\\n",
       "151700                              ClC1=C(c2ccccc2)SCCS1   \n",
       "136805                       O=C1C=Cc2cccc3c2c1cc1ccccc13   \n",
       "5857    CC(C)(C)c1ccc(C(C)(C)C)c2c1O[P+]1(O2)Oc2c(C(C)...   \n",
       "146475     CCCCCCCCOC(=O)CCCCC(=O)Oc1c(Cl)cc(Cl)c(Cl)c1Cl   \n",
       "105754                           O=Cc1ccc(N=Nc2ccccc2)cc1   \n",
       "...                                                   ...   \n",
       "110387                            CC(C)C(C)C=C[Si](C)(C)F   \n",
       "127518            CC(C)C=C(O[Si](C)(C)C)C(=O)O[Si](C)(C)C   \n",
       "197470                                       CCCCCCCC(C)O   \n",
       "86890                                  CC(Cc1ccccc1)N(C)C   \n",
       "154920             CCOC(=O)c1cccc(C(=O)Oc2ccc(C)c(C)c2)c1   \n",
       "\n",
       "                                                   labels  \\\n",
       "151700  [1234, 224, 690, 20, 32, 38, 11, 70, 21, 334, ...   \n",
       "136805  [1234, 224, 50, 32, 38, 20, 38, 32, 279, 21, 3...   \n",
       "5857    [1234, 224, 261, 11, 38, 289, 38, 12, 70, 20, ...   \n",
       "146475  [1234, 224, 487, 292, 260, 50, 12, 356, 260, 5...   \n",
       "105754  [1234, 224, 50, 32, 279, 20, 280, 11, 49, 32, ...   \n",
       "...                                                   ...   \n",
       "110387  [1234, 224, 261, 11, 38, 12, 38, 11, 38, 12, 3...   \n",
       "127518  [1234, 224, 261, 11, 38, 12, 38, 32, 38, 11, 5...   \n",
       "197470  [1234, 224, 1024, 11, 38, 12, 50, 0, -100, -10...   \n",
       "86890   [1234, 224, 261, 11, 279, 20, 334, 20, 12, 49,...   \n",
       "154920  [1234, 224, 292, 260, 50, 12, 70, 20, 338, 11,...   \n",
       "\n",
       "                                   decoder_attention_mask  \n",
       "151700  [1, 1, 1, 1, 1, 1, 1, 1, 1, 1, 1, 1, 1, 1, 1, ...  \n",
       "136805  [1, 1, 1, 1, 1, 1, 1, 1, 1, 1, 1, 1, 1, 1, 1, ...  \n",
       "5857    [1, 1, 1, 1, 1, 1, 1, 1, 1, 1, 1, 1, 1, 1, 1, ...  \n",
       "146475  [1, 1, 1, 1, 1, 1, 1, 1, 1, 1, 1, 1, 1, 1, 1, ...  \n",
       "105754  [1, 1, 1, 1, 1, 1, 1, 1, 1, 1, 1, 1, 1, 1, 1, ...  \n",
       "...                                                   ...  \n",
       "110387  [1, 1, 1, 1, 1, 1, 1, 1, 1, 1, 1, 1, 1, 1, 1, ...  \n",
       "127518  [1, 1, 1, 1, 1, 1, 1, 1, 1, 1, 1, 1, 1, 1, 1, ...  \n",
       "197470  [1, 1, 1, 1, 1, 1, 1, 1, 0, 0, 0, 0, 0, 0, 0, ...  \n",
       "86890   [1, 1, 1, 1, 1, 1, 1, 1, 1, 1, 1, 1, 1, 1, 1, ...  \n",
       "154920  [1, 1, 1, 1, 1, 1, 1, 1, 1, 1, 1, 1, 1, 1, 1, ...  \n",
       "\n",
       "[26000 rows x 6 columns]"
      ]
     },
     "execution_count": 16,
     "metadata": {},
     "output_type": "execute_result"
    }
   ],
   "source": [
    "df = pd.read_pickle(dataset_path / f\"valid_<nist>.pkl\")\n",
    "df"
   ]
  },
  {
   "cell_type": "code",
   "execution_count": 14,
   "metadata": {},
   "outputs": [],
   "source": [
    "from sklearn.model_selection import train_test_split\n",
    "\n",
    "train, valid = train_test_split(df, test_size=26000, random_state=42)\n",
    "\n",
    "train.to_pickle(dataset_path / f\"train_<nist>.pkl\")\n",
    "valid.to_pickle(dataset_path / f\"valid_<nist>.pkl\")"
   ]
  },
  {
   "cell_type": "code",
   "execution_count": 4,
   "metadata": {},
   "outputs": [
    {
     "data": {
      "text/plain": [
       "[1234]"
      ]
     },
     "execution_count": 4,
     "metadata": {},
     "output_type": "execute_result"
    }
   ],
   "source": [
    "tokenizer.encode(\"<nist>\").ids"
   ]
  },
  {
   "cell_type": "code",
   "execution_count": 199,
   "metadata": {},
   "outputs": [
    {
     "ename": "TypeError",
     "evalue": "Tokenizer.encode() got an unexpected keyword argument 'skip_special_ids'",
     "output_type": "error",
     "traceback": [
      "\u001b[0;31m---------------------------------------------------------------------------\u001b[0m",
      "\u001b[0;31mTypeError\u001b[0m                                 Traceback (most recent call last)",
      "Cell \u001b[0;32mIn[199], line 1\u001b[0m\n\u001b[0;32m----> 1\u001b[0m tokenizer\u001b[39m.\u001b[39mdecode(tokenizer\u001b[39m.\u001b[39;49mencode(\u001b[39m\"\u001b[39;49m\u001b[39mHH\u001b[39;49m\u001b[39m\"\u001b[39;49m, skip_special_ids\u001b[39m=\u001b[39;49m\u001b[39mTrue\u001b[39;49;00m)\u001b[39m.\u001b[39mids)\n",
      "\u001b[0;31mTypeError\u001b[0m: Tokenizer.encode() got an unexpected keyword argument 'skip_special_ids'"
     ]
    }
   ],
   "source": [
    "tokenizer.decode(tokenizer.encode(\"HH\", skip_special_ids=True).ids)"
   ]
  },
  {
   "cell_type": "code",
   "execution_count": 201,
   "metadata": {},
   "outputs": [],
   "source": [
    "valid_df = pd.read_pickle(\"Spektro/MassGenie/data/datasets/30M/30M_valid.pkl\")"
   ]
  },
  {
   "cell_type": "code",
   "execution_count": 202,
   "metadata": {},
   "outputs": [
    {
     "data": {
      "text/html": [
       "<div>\n",
       "<style scoped>\n",
       "    .dataframe tbody tr th:only-of-type {\n",
       "        vertical-align: middle;\n",
       "    }\n",
       "\n",
       "    .dataframe tbody tr th {\n",
       "        vertical-align: top;\n",
       "    }\n",
       "\n",
       "    .dataframe thead th {\n",
       "        text-align: right;\n",
       "    }\n",
       "</style>\n",
       "<table border=\"1\" class=\"dataframe\">\n",
       "  <thead>\n",
       "    <tr style=\"text-align: right;\">\n",
       "      <th></th>\n",
       "      <th>smiles</th>\n",
       "      <th>input_ids</th>\n",
       "      <th>labels</th>\n",
       "      <th>decoder_attention_mask</th>\n",
       "      <th>encoder_attention_mask</th>\n",
       "      <th>position_ids</th>\n",
       "    </tr>\n",
       "  </thead>\n",
       "  <tbody>\n",
       "    <tr>\n",
       "      <th>16</th>\n",
       "      <td>CCNC(c1cnn2c1OCCC2)CC=C=C</td>\n",
       "      <td>[26, 27, 28, 30, 38, 39, 40, 41, 42, 43, 44, 4...</td>\n",
       "      <td>[1233, 224, 283, 11, 70, 20, 284, 21, 70, 20, ...</td>\n",
       "      <td>[1, 1, 1, 1, 1, 1, 1, 1, 1, 1, 1, 1, 1, 1, 1, ...</td>\n",
       "      <td>[1, 1, 1, 1, 1, 1, 1, 1, 1, 1, 1, 1, 1, 1, 1, ...</td>\n",
       "      <td>[3, 6, 5, 5, 5, 9, 8, 9, 9, 7, 9, 8, 6, 3, 7, ...</td>\n",
       "    </tr>\n",
       "    <tr>\n",
       "      <th>19</th>\n",
       "      <td>CCC1CN(C(=O)C)C(CN1C(=O)c1nc2ccccc2cc1Cl)CC</td>\n",
       "      <td>[36, 38, 39, 40, 41, 42, 43, 44, 49, 50, 51, 5...</td>\n",
       "      <td>[1233, 224, 276, 20, 263, 11, 38, 260, 50, 12,...</td>\n",
       "      <td>[1, 1, 1, 1, 1, 1, 1, 1, 1, 1, 1, 1, 1, 1, 1, ...</td>\n",
       "      <td>[1, 1, 1, 1, 1, 1, 1, 1, 1, 1, 1, 1, 1, 1, 1, ...</td>\n",
       "      <td>[3, 0, 6, 5, 7, 8, 8, 6, 3, 1, 5, 4, 6, 6, 5, ...</td>\n",
       "    </tr>\n",
       "    <tr>\n",
       "      <th>50</th>\n",
       "      <td>OC1CNCC1N=c1[nH]c(ncc1[N+](=O)[O-])C(C)(C)C</td>\n",
       "      <td>[30, 33, 34, 36, 38, 39, 40, 41, 42, 43, 44, 4...</td>\n",
       "      <td>[1233, 224, 286, 20, 400, 20, 49, 32, 70, 20, ...</td>\n",
       "      <td>[1, 1, 1, 1, 1, 1, 1, 1, 1, 1, 1, 1, 1, 1, 1, ...</td>\n",
       "      <td>[1, 1, 1, 1, 1, 1, 1, 1, 1, 1, 1, 1, 1, 1, 1, ...</td>\n",
       "      <td>[5, 1, 1, 3, 3, 7, 6, 9, 9, 8, 9, 6, 5, 4, 7, ...</td>\n",
       "    </tr>\n",
       "    <tr>\n",
       "      <th>59</th>\n",
       "      <td>COC(=O)Cc1ccc(c(c1)[N+](=O)[O-])NCCc1cnc2n(c1)...</td>\n",
       "      <td>[33, 36, 37, 38, 39, 40, 41, 42, 43, 44, 45, 4...</td>\n",
       "      <td>[1233, 224, 285, 260, 50, 12, 279, 20, 280, 11...</td>\n",
       "      <td>[1, 1, 1, 1, 1, 1, 1, 1, 1, 1, 1, 1, 1, 1, 1, ...</td>\n",
       "      <td>[1, 1, 1, 1, 1, 1, 1, 1, 1, 1, 1, 1, 1, 1, 1, ...</td>\n",
       "      <td>[3, 7, 0, 6, 8, 6, 6, 6, 8, 7, 5, 4, 8, 9, 9, ...</td>\n",
       "    </tr>\n",
       "    <tr>\n",
       "      <th>64</th>\n",
       "      <td>O=C(c1ccc2c(c1)n[nH]n2)Nc1ccc(cc1)NS(=O)(=O)c1...</td>\n",
       "      <td>[33, 34, 36, 37, 38, 39, 40, 41, 42, 43, 44, 4...</td>\n",
       "      <td>[1233, 224, 50, 32, 38, 11, 70, 20, 280, 21, 7...</td>\n",
       "      <td>[1, 1, 1, 1, 1, 1, 1, 1, 1, 1, 1, 1, 1, 1, 1, ...</td>\n",
       "      <td>[1, 1, 1, 1, 1, 1, 1, 1, 1, 1, 1, 1, 1, 1, 1, ...</td>\n",
       "      <td>[3, 2, 2, 1, 3, 7, 5, 6, 4, 6, 6, 6, 0, 2, 4, ...</td>\n",
       "    </tr>\n",
       "  </tbody>\n",
       "</table>\n",
       "</div>"
      ],
      "text/plain": [
       "                                               smiles  \\\n",
       "16                          CCNC(c1cnn2c1OCCC2)CC=C=C   \n",
       "19        CCC1CN(C(=O)C)C(CN1C(=O)c1nc2ccccc2cc1Cl)CC   \n",
       "50        OC1CNCC1N=c1[nH]c(ncc1[N+](=O)[O-])C(C)(C)C   \n",
       "59  COC(=O)Cc1ccc(c(c1)[N+](=O)[O-])NCCc1cnc2n(c1)...   \n",
       "64  O=C(c1ccc2c(c1)n[nH]n2)Nc1ccc(cc1)NS(=O)(=O)c1...   \n",
       "\n",
       "                                            input_ids  \\\n",
       "16  [26, 27, 28, 30, 38, 39, 40, 41, 42, 43, 44, 4...   \n",
       "19  [36, 38, 39, 40, 41, 42, 43, 44, 49, 50, 51, 5...   \n",
       "50  [30, 33, 34, 36, 38, 39, 40, 41, 42, 43, 44, 4...   \n",
       "59  [33, 36, 37, 38, 39, 40, 41, 42, 43, 44, 45, 4...   \n",
       "64  [33, 34, 36, 37, 38, 39, 40, 41, 42, 43, 44, 4...   \n",
       "\n",
       "                                               labels  \\\n",
       "16  [1233, 224, 283, 11, 70, 20, 284, 21, 70, 20, ...   \n",
       "19  [1233, 224, 276, 20, 263, 11, 38, 260, 50, 12,...   \n",
       "50  [1233, 224, 286, 20, 400, 20, 49, 32, 70, 20, ...   \n",
       "59  [1233, 224, 285, 260, 50, 12, 279, 20, 280, 11...   \n",
       "64  [1233, 224, 50, 32, 38, 11, 70, 20, 280, 21, 7...   \n",
       "\n",
       "                               decoder_attention_mask  \\\n",
       "16  [1, 1, 1, 1, 1, 1, 1, 1, 1, 1, 1, 1, 1, 1, 1, ...   \n",
       "19  [1, 1, 1, 1, 1, 1, 1, 1, 1, 1, 1, 1, 1, 1, 1, ...   \n",
       "50  [1, 1, 1, 1, 1, 1, 1, 1, 1, 1, 1, 1, 1, 1, 1, ...   \n",
       "59  [1, 1, 1, 1, 1, 1, 1, 1, 1, 1, 1, 1, 1, 1, 1, ...   \n",
       "64  [1, 1, 1, 1, 1, 1, 1, 1, 1, 1, 1, 1, 1, 1, 1, ...   \n",
       "\n",
       "                               encoder_attention_mask  \\\n",
       "16  [1, 1, 1, 1, 1, 1, 1, 1, 1, 1, 1, 1, 1, 1, 1, ...   \n",
       "19  [1, 1, 1, 1, 1, 1, 1, 1, 1, 1, 1, 1, 1, 1, 1, ...   \n",
       "50  [1, 1, 1, 1, 1, 1, 1, 1, 1, 1, 1, 1, 1, 1, 1, ...   \n",
       "59  [1, 1, 1, 1, 1, 1, 1, 1, 1, 1, 1, 1, 1, 1, 1, ...   \n",
       "64  [1, 1, 1, 1, 1, 1, 1, 1, 1, 1, 1, 1, 1, 1, 1, ...   \n",
       "\n",
       "                                         position_ids  \n",
       "16  [3, 6, 5, 5, 5, 9, 8, 9, 9, 7, 9, 8, 6, 3, 7, ...  \n",
       "19  [3, 0, 6, 5, 7, 8, 8, 6, 3, 1, 5, 4, 6, 6, 5, ...  \n",
       "50  [5, 1, 1, 3, 3, 7, 6, 9, 9, 8, 9, 6, 5, 4, 7, ...  \n",
       "59  [3, 7, 0, 6, 8, 6, 6, 6, 8, 7, 5, 4, 8, 9, 9, ...  \n",
       "64  [3, 2, 2, 1, 3, 7, 5, 6, 4, 6, 6, 6, 0, 2, 4, ...  "
      ]
     },
     "execution_count": 202,
     "metadata": {},
     "output_type": "execute_result"
    }
   ],
   "source": [
    "# zjisti jestli je ve valid_df taky druhej token v labelech 224!!!!!\n",
    "valid_df.head()"
   ]
  },
  {
   "cell_type": "code",
   "execution_count": null,
   "metadata": {},
   "outputs": [],
   "source": []
  }
 ],
 "metadata": {
  "kernelspec": {
   "display_name": "BARTtrain",
   "language": "python",
   "name": "barttrain"
  },
  "language_info": {
   "codemirror_mode": {
    "name": "ipython",
    "version": 3
   },
   "file_extension": ".py",
   "mimetype": "text/x-python",
   "name": "python",
   "nbconvert_exporter": "python",
   "pygments_lexer": "ipython3",
   "version": "3.8.16"
  },
  "orig_nbformat": 4
 },
 "nbformat": 4,
 "nbformat_minor": 2
}
