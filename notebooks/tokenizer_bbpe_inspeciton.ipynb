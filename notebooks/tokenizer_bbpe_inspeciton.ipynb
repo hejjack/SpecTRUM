{
 "cells": [
  {
   "cell_type": "markdown",
   "metadata": {},
   "source": [
    "# Compare different BBPE tokenizers\n",
    "The task is to transparently inspect some of the characteristics of different BBPE tokenizers. The tokenizers were trained with different minimum frequency thresholds so they have different vocabularies (and importantly different vocabularies sizes)\n",
    "\n",
    "The tokenizers are:\n",
    "- mf3: the standard one we've used so far\n",
    "- mf30\n",
    "- mf3000\n",
    "\n",
    "look for:\n",
    "- num of trained and special tokens\n",
    "- average token length in vocabulary\n",
    "- average chars per token in NIST train set\n",
    "- visualize the token usage distribution"
   ]
  },
  {
   "cell_type": "code",
   "execution_count": 1,
   "metadata": {},
   "outputs": [],
   "source": [
    "import pandas as pd\n",
    "from tokenizers import Tokenizer\n",
    "from collections import Counter\n",
    "from functools import reduce\n",
    "import matplotlib.pyplot as plt\n",
    "import numpy as np"
   ]
  },
  {
   "cell_type": "code",
   "execution_count": 2,
   "metadata": {},
   "outputs": [],
   "source": [
    "def get_vocab_size(tokenizer):\n",
    "    return len(tokenizer.get_vocab())\n",
    "\n",
    "def get_mean_token_len(tokenizer):\n",
    "    vocab = tokenizer.get_vocab()\n",
    "    mean_len = sum(map(lambda x: len(x), vocab.keys())) / len(vocab)\n",
    "    return mean_len\n",
    "\n",
    "def mean_chars_per_token(df):\n",
    "    all_smiles_len = sum(df['mol_repr'].apply(len))\n",
    "    num_all_tokens = sum(df['labels'].apply(lambda x: len(x) - 2))\n",
    "    return all_smiles_len / num_all_tokens\n",
    "\n",
    "def visualize_token_usage(df, tokenizer_name):\n",
    "    all_tokens = []\n",
    "    for alist in df[\"labels\"]:\n",
    "        all_tokens += alist\n",
    "    c = Counter(all_tokens)\n",
    "    \n",
    "    fig, ax = plt.subplots()\n",
    "    ax.bar(c.keys(), c.values())\n",
    "    ax.set_yscale('log')\n",
    "    ax.set_title(f\"Token usage distribution: {tokenizer_name}\")\n",
    "\n",
    "    plt.show()\n",
    "    return c\n",
    "\n",
    "def get_n_most_frequent_tokens(n, counter, tokenizer):\n",
    "    most_common_ids = counter.most_common(n)\n",
    "    most_common_tokens = [(tokenizer.decode([count[0]]), count[0], count[1]) for count in most_common_ids]\n",
    "    return most_common_tokens"
   ]
  },
  {
   "cell_type": "markdown",
   "metadata": {},
   "source": [
    "First print some basic information about all the trained tokenizers to decide which we choose for the experiment."
   ]
  },
  {
   "cell_type": "code",
   "execution_count": 4,
   "metadata": {},
   "outputs": [
    {
     "name": "stdout",
     "output_type": "stream",
     "text": [
      "bart_bbpe_tokenizer_1M_mf3\n",
      "- min_frequency: 3\n",
      "- init alphabet size: 256\n",
      "- num of special tokens: 11\n",
      "- num of trained tokens: 1560\n",
      "- the whole vocabulary size: 1827\n",
      "- mean length of tokens: 5.934865900383142\n",
      "\n",
      "bart_bbpe_tokenizer_1M_mf10\n",
      "- min_frequency: 10\n",
      "- init alphabet size: 256\n",
      "- num of special tokens: 11\n",
      "- num of trained tokens: 1019\n",
      "- the whole vocabulary size: 1286\n",
      "- mean length of tokens: 4.917573872472784\n",
      "\n",
      "bart_bbpe_tokenizer_1M_mf30\n",
      "- min_frequency: 30\n",
      "- init alphabet size: 256\n",
      "- num of special tokens: 11\n",
      "- num of trained tokens: 718\n",
      "- the whole vocabulary size: 985\n",
      "- mean length of tokens: 4.154314720812183\n",
      "\n",
      "bart_bbpe_tokenizer_1M_mf50\n",
      "- min_frequency: 50\n",
      "- init alphabet size: 256\n",
      "- num of special tokens: 11\n",
      "- num of trained tokens: 620\n",
      "- the whole vocabulary size: 887\n",
      "- mean length of tokens: 3.8173618940248026\n",
      "\n",
      "bart_bbpe_tokenizer_1M_mf100\n",
      "- min_frequency: 100\n",
      "- init alphabet size: 256\n",
      "- num of special tokens: 11\n",
      "- num of trained tokens: 513\n",
      "- the whole vocabulary size: 780\n",
      "- mean length of tokens: 3.482051282051282\n",
      "\n",
      "bart_bbpe_tokenizer_1M_mf500\n",
      "- min_frequency: 500\n",
      "- init alphabet size: 256\n",
      "- num of special tokens: 11\n",
      "- num of trained tokens: 316\n",
      "- the whole vocabulary size: 583\n",
      "- mean length of tokens: 2.7770154373927958\n",
      "\n",
      "bart_bbpe_tokenizer_1M_mf1000\n",
      "- min_frequency: 1000\n",
      "- init alphabet size: 256\n",
      "- num of special tokens: 11\n",
      "- num of trained tokens: 256\n",
      "- the whole vocabulary size: 523\n",
      "- mean length of tokens: 2.5258126195028683\n",
      "\n",
      "bart_bbpe_tokenizer_1M_mf3000\n",
      "- min_frequency: 3000\n",
      "- init alphabet size: 256\n",
      "- num of special tokens: 11\n",
      "- num of trained tokens: 160\n",
      "- the whole vocabulary size: 427\n",
      "- mean length of tokens: 2.088992974238876\n",
      "\n",
      "bart_bbpe_tokenizer_1M_mf5000\n",
      "- min_frequency: 5000\n",
      "- init alphabet size: 256\n",
      "- num of special tokens: 11\n",
      "- num of trained tokens: 134\n",
      "- the whole vocabulary size: 401\n",
      "- mean length of tokens: 1.9501246882793017\n",
      "\n",
      "bart_bbpe_tokenizer_1M_mf6000\n",
      "- min_frequency: 6000\n",
      "- init alphabet size: 256\n",
      "- num of special tokens: 11\n",
      "- num of trained tokens: 128\n",
      "- the whole vocabulary size: 395\n",
      "- mean length of tokens: 1.9215189873417722\n",
      "\n",
      "bart_bbpe_tokenizer_1M_mf10000\n",
      "- min_frequency: 10000\n",
      "- init alphabet size: 256\n",
      "- num of special tokens: 11\n",
      "- num of trained tokens: 100\n",
      "- the whole vocabulary size: 367\n",
      "- mean length of tokens: 1.7602179836512262\n",
      "\n",
      "bart_bbpe_tokenizer_1M_mf50000\n",
      "- min_frequency: 50000\n",
      "- init alphabet size: 256\n",
      "- num of special tokens: 11\n",
      "- num of trained tokens: 35\n",
      "- the whole vocabulary size: 302\n",
      "- mean length of tokens: 1.4172185430463575\n",
      "\n",
      "bart_bbpe_tokenizer_1M_mf10000000\n",
      "- min_frequency: 10000000\n",
      "- init alphabet size: 256\n",
      "- num of special tokens: 11\n",
      "- num of trained tokens: 0\n",
      "- the whole vocabulary size: 267\n",
      "- mean length of tokens: 1.2359550561797752\n",
      "\n"
     ]
    },
    {
     "data": {
      "image/png": "[encoded data removed]",
      "text/plain": [
       "<Figure size 640x480 with 1 Axes>"
      ]
     },
     "metadata": {},
     "output_type": "display_data"
    },
    {
     "data": {
      "image/png": "[encoded data removed]",
      "text/plain": [
       "<Figure size 640x480 with 1 Axes>"
      ]
     },
     "metadata": {},
     "output_type": "display_data"
    }
   ],
   "source": [
    "# print basic information\n",
    "save_path = '../tokenizer/bbpe_tokenizer/'\n",
    "mfs = [3, 10, 30, 50, 100, 500, 1000, 3000, 5000, 6000, 10000, 50000, 10000000]\n",
    "trained_token_nums = []\n",
    "mean_token_lens = []\n",
    "mfs_to_highlight = [10, 100, 10000, 10000000]\n",
    "\n",
    "for min_frequency in mfs:\n",
    "    # loading the saved tokenizer\n",
    "    tokenizer = Tokenizer.from_file(save_path + f\"/bart_bbpe_tokenizer_1M_mf{min_frequency}.model\")\n",
    "    trained_token_nums.append(len(tokenizer.get_vocab()) - 256 - 11)\n",
    "    mean_token_lens.append(get_mean_token_len(tokenizer))\n",
    "    print(f\"bart_bbpe_tokenizer_1M_mf{min_frequency}\\n\" +\n",
    "          f\"- min_frequency: {min_frequency}\\n\" +\n",
    "          f\"- init alphabet size: 256\\n\" +\n",
    "          f\"- num of special tokens: 11\\n\" +\n",
    "          f\"- num of trained tokens: {trained_token_nums[-1]}\\n\" +\n",
    "          f\"- the whole vocabulary size: {len(tokenizer.get_vocab())}\\n\" +\n",
    "          f\"- mean length of tokens: {mean_token_lens[-1]}\\n\")\n",
    "    \n",
    "# visualize the trained token num\n",
    "fig1, ax1 = plt.subplots()\n",
    "ax1.set_label(\"trained token num\")\n",
    "ax1.set_xlabel(\"min_frequency\")\n",
    "ax1.set_ylabel(\"trained token num\")\n",
    "\n",
    "ax1.plot(mfs, trained_token_nums)\n",
    "ax1.scatter(mfs_to_highlight, [trained_token_nums[mfs.index(n)] for n in mfs_to_highlight], color='red')\n",
    "\n",
    "# visualize the mean token length\n",
    "fig2, ax2 = plt.subplots()\n",
    "ax2.set_label(\"mean token len\")\n",
    "ax2.set_xlabel(\"min_frequency\")\n",
    "ax2.set_ylabel(\"mean token len\")\n",
    "\n",
    "ax2.plot(mfs, mean_token_lens, color='orange')\n",
    "ax2.scatter(mfs_to_highlight, [mean_token_lens[mfs.index(n)] for n in mfs_to_highlight], color='red')\n",
    "plt.show()"
   ]
  },
  {
   "cell_type": "code",
   "execution_count": 63,
   "metadata": {},
   "outputs": [
    {
     "data": {
      "application/vnd.plotly.v1+json": {
       "config": {
        "plotlyServerURL": "https://plot.ly"
       },
       "data": [
        {
         "hovertemplate": "mf=%{x}<br>token_nums=%{y}<extra></extra>",
         "legendgroup": "",
         "line": {
          "color": "#636efa",
          "dash": "solid"
         },
         "marker": {
          "symbol": "circle"
         },
         "mode": "lines",
         "name": "",
         "orientation": "v",
         "showlegend": false,
         "textposition": "bottom right",
         "type": "scatter",
         "x": [
          3,
          10,
          30,
          50,
          100,
          500,
          1000,
          3000,
          5000,
          6000,
          10000,
          50000,
          10000000
         ],
         "xaxis": "x",
         "y": [
          1560,
          1019,
          718,
          620,
          513,
          316,
          256,
          160,
          134,
          128,
          100,
          35,
          0
         ],
         "yaxis": "y"
        }
       ],
       "layout": {
        "annotations": [
         {
          "arrowhead": 1,
          "arrowsize": 2,
          "ax": 30,
          "ay": -30,
          "showarrow": true,
          "text": "mf10",
          "x": 1,
          "y": 1019
         },
         {
          "arrowhead": 1,
          "arrowsize": 2,
          "ax": 30,
          "ay": -30,
          "showarrow": true,
          "text": "mf100",
          "x": 2,
          "y": 513
         },
         {
          "arrowhead": 1,
          "arrowsize": 2,
          "ax": 30,
          "ay": -30,
          "showarrow": true,
          "text": "mf10k",
          "x": 4,
          "y": 100
         },
         {
          "arrowhead": 1,
          "arrowsize": 2,
          "ax": 30,
          "ay": -30,
          "showarrow": true,
          "text": "mf10M",
          "x": 7,
          "y": 0
         }
        ],
        "barmode": "stack",
        "font": {
         "size": 15
        },
        "legend": {
         "font": {
          "size": 18
         },
         "tracegroupgap": 0,
         "traceorder": "normal",
         "x": 0.7,
         "y": 0.9
        },
        "margin": {
         "t": 60
        },
        "template": {
         "data": {
          "bar": [
           {
            "error_x": {
             "color": "#2a3f5f"
            },
            "error_y": {
             "color": "#2a3f5f"
            },
            "marker": {
             "line": {
              "color": "#E5ECF6",
              "width": 0.5
             },
             "pattern": {
              "fillmode": "overlay",
              "size": 10,
              "solidity": 0.2
             }
            },
            "type": "bar"
           }
          ],
          "barpolar": [
           {
            "marker": {
             "line": {
              "color": "#E5ECF6",
              "width": 0.5
             },
             "pattern": {
              "fillmode": "overlay",
              "size": 10,
              "solidity": 0.2
             }
            },
            "type": "barpolar"
           }
          ],
          "carpet": [
           {
            "aaxis": {
             "endlinecolor": "#2a3f5f",
             "gridcolor": "white",
             "linecolor": "white",
             "minorgridcolor": "white",
             "startlinecolor": "#2a3f5f"
            },
            "baxis": {
             "endlinecolor": "#2a3f5f",
             "gridcolor": "white",
             "linecolor": "white",
             "minorgridcolor": "white",
             "startlinecolor": "#2a3f5f"
            },
            "type": "carpet"
           }
          ],
          "choropleth": [
           {
            "colorbar": {
             "outlinewidth": 0,
             "ticks": ""
            },
            "type": "choropleth"
           }
          ],
          "contour": [
           {
            "colorbar": {
             "outlinewidth": 0,
             "ticks": ""
            },
            "colorscale": [
             [
              0,
              "#0d0887"
             ],
             [
              0.1111111111111111,
              "#46039f"
             ],
             [
              0.2222222222222222,
              "#7201a8"
             ],
             [
              0.3333333333333333,
              "#9c179e"
             ],
             [
              0.4444444444444444,
              "#bd3786"
             ],
             [
              0.5555555555555556,
              "#d8576b"
             ],
             [
              0.6666666666666666,
              "#ed7953"
             ],
             [
              0.7777777777777778,
              "#fb9f3a"
             ],
             [
              0.8888888888888888,
              "#fdca26"
             ],
             [
              1,
              "#f0f921"
             ]
            ],
            "type": "contour"
           }
          ],
          "contourcarpet": [
           {
            "colorbar": {
             "outlinewidth": 0,
             "ticks": ""
            },
            "type": "contourcarpet"
           }
          ],
          "heatmap": [
           {
            "colorbar": {
             "outlinewidth": 0,
             "ticks": ""
            },
            "colorscale": [
             [
              0,
              "#0d0887"
             ],
             [
              0.1111111111111111,
              "#46039f"
             ],
             [
              0.2222222222222222,
              "#7201a8"
             ],
             [
              0.3333333333333333,
              "#9c179e"
             ],
             [
              0.4444444444444444,
              "#bd3786"
             ],
             [
              0.5555555555555556,
              "#d8576b"
             ],
             [
              0.6666666666666666,
              "#ed7953"
             ],
             [
              0.7777777777777778,
              "#fb9f3a"
             ],
             [
              0.8888888888888888,
              "#fdca26"
             ],
             [
              1,
              "#f0f921"
             ]
            ],
            "type": "heatmap"
           }
          ],
          "heatmapgl": [
           {
            "colorbar": {
             "outlinewidth": 0,
             "ticks": ""
            },
            "colorscale": [
             [
              0,
              "#0d0887"
             ],
             [
              0.1111111111111111,
              "#46039f"
             ],
             [
              0.2222222222222222,
              "#7201a8"
             ],
             [
              0.3333333333333333,
              "#9c179e"
             ],
             [
              0.4444444444444444,
              "#bd3786"
             ],
             [
              0.5555555555555556,
              "#d8576b"
             ],
             [
              0.6666666666666666,
              "#ed7953"
             ],
             [
              0.7777777777777778,
              "#fb9f3a"
             ],
             [
              0.8888888888888888,
              "#fdca26"
             ],
             [
              1,
              "#f0f921"
             ]
            ],
            "type": "heatmapgl"
           }
          ],
          "histogram": [
           {
            "marker": {
             "pattern": {
              "fillmode": "overlay",
              "size": 10,
              "solidity": 0.2
             }
            },
            "type": "histogram"
           }
          ],
          "histogram2d": [
           {
            "colorbar": {
             "outlinewidth": 0,
             "ticks": ""
            },
            "colorscale": [
             [
              0,
              "#0d0887"
             ],
             [
              0.1111111111111111,
              "#46039f"
             ],
             [
              0.2222222222222222,
              "#7201a8"
             ],
             [
              0.3333333333333333,
              "#9c179e"
             ],
             [
              0.4444444444444444,
              "#bd3786"
             ],
             [
              0.5555555555555556,
              "#d8576b"
             ],
             [
              0.6666666666666666,
              "#ed7953"
             ],
             [
              0.7777777777777778,
              "#fb9f3a"
             ],
             [
              0.8888888888888888,
              "#fdca26"
             ],
             [
              1,
              "#f0f921"
             ]
            ],
            "type": "histogram2d"
           }
          ],
          "histogram2dcontour": [
           {
            "colorbar": {
             "outlinewidth": 0,
             "ticks": ""
            },
            "colorscale": [
             [
              0,
              "#0d0887"
             ],
             [
              0.1111111111111111,
              "#46039f"
             ],
             [
              0.2222222222222222,
              "#7201a8"
             ],
             [
              0.3333333333333333,
              "#9c179e"
             ],
             [
              0.4444444444444444,
              "#bd3786"
             ],
             [
              0.5555555555555556,
              "#d8576b"
             ],
             [
              0.6666666666666666,
              "#ed7953"
             ],
             [
              0.7777777777777778,
              "#fb9f3a"
             ],
             [
              0.8888888888888888,
              "#fdca26"
             ],
             [
              1,
              "#f0f921"
             ]
            ],
            "type": "histogram2dcontour"
           }
          ],
          "mesh3d": [
           {
            "colorbar": {
             "outlinewidth": 0,
             "ticks": ""
            },
            "type": "mesh3d"
           }
          ],
          "parcoords": [
           {
            "line": {
             "colorbar": {
              "outlinewidth": 0,
              "ticks": ""
             }
            },
            "type": "parcoords"
           }
          ],
          "pie": [
           {
            "automargin": true,
            "type": "pie"
           }
          ],
          "scatter": [
           {
            "fillpattern": {
             "fillmode": "overlay",
             "size": 10,
             "solidity": 0.2
            },
            "type": "scatter"
           }
          ],
          "scatter3d": [
           {
            "line": {
             "colorbar": {
              "outlinewidth": 0,
              "ticks": ""
             }
            },
            "marker": {
             "colorbar": {
              "outlinewidth": 0,
              "ticks": ""
             }
            },
            "type": "scatter3d"
           }
          ],
          "scattercarpet": [
           {
            "marker": {
             "colorbar": {
              "outlinewidth": 0,
              "ticks": ""
             }
            },
            "type": "scattercarpet"
           }
          ],
          "scattergeo": [
           {
            "marker": {
             "colorbar": {
              "outlinewidth": 0,
              "ticks": ""
             }
            },
            "type": "scattergeo"
           }
          ],
          "scattergl": [
           {
            "marker": {
             "colorbar": {
              "outlinewidth": 0,
              "ticks": ""
             }
            },
            "type": "scattergl"
           }
          ],
          "scattermapbox": [
           {
            "marker": {
             "colorbar": {
              "outlinewidth": 0,
              "ticks": ""
             }
            },
            "type": "scattermapbox"
           }
          ],
          "scatterpolar": [
           {
            "marker": {
             "colorbar": {
              "outlinewidth": 0,
              "ticks": ""
             }
            },
            "type": "scatterpolar"
           }
          ],
          "scatterpolargl": [
           {
            "marker": {
             "colorbar": {
              "outlinewidth": 0,
              "ticks": ""
             }
            },
            "type": "scatterpolargl"
           }
          ],
          "scatterternary": [
           {
            "marker": {
             "colorbar": {
              "outlinewidth": 0,
              "ticks": ""
             }
            },
            "type": "scatterternary"
           }
          ],
          "surface": [
           {
            "colorbar": {
             "outlinewidth": 0,
             "ticks": ""
            },
            "colorscale": [
             [
              0,
              "#0d0887"
             ],
             [
              0.1111111111111111,
              "#46039f"
             ],
             [
              0.2222222222222222,
              "#7201a8"
             ],
             [
              0.3333333333333333,
              "#9c179e"
             ],
             [
              0.4444444444444444,
              "#bd3786"
             ],
             [
              0.5555555555555556,
              "#d8576b"
             ],
             [
              0.6666666666666666,
              "#ed7953"
             ],
             [
              0.7777777777777778,
              "#fb9f3a"
             ],
             [
              0.8888888888888888,
              "#fdca26"
             ],
             [
              1,
              "#f0f921"
             ]
            ],
            "type": "surface"
           }
          ],
          "table": [
           {
            "cells": {
             "fill": {
              "color": "#EBF0F8"
             },
             "line": {
              "color": "white"
             }
            },
            "header": {
             "fill": {
              "color": "#C8D4E3"
             },
             "line": {
              "color": "white"
             }
            },
            "type": "table"
           }
          ]
         },
         "layout": {
          "annotationdefaults": {
           "arrowcolor": "#2a3f5f",
           "arrowhead": 0,
           "arrowwidth": 1
          },
          "autotypenumbers": "strict",
          "coloraxis": {
           "colorbar": {
            "outlinewidth": 0,
            "ticks": ""
           }
          },
          "colorscale": {
           "diverging": [
            [
             0,
             "#8e0152"
            ],
            [
             0.1,
             "#c51b7d"
            ],
            [
             0.2,
             "#de77ae"
            ],
            [
             0.3,
             "#f1b6da"
            ],
            [
             0.4,
             "#fde0ef"
            ],
            [
             0.5,
             "#f7f7f7"
            ],
            [
             0.6,
             "#e6f5d0"
            ],
            [
             0.7,
             "#b8e186"
            ],
            [
             0.8,
             "#7fbc41"
            ],
            [
             0.9,
             "#4d9221"
            ],
            [
             1,
             "#276419"
            ]
           ],
           "sequential": [
            [
             0,
             "#0d0887"
            ],
            [
             0.1111111111111111,
             "#46039f"
            ],
            [
             0.2222222222222222,
             "#7201a8"
            ],
            [
             0.3333333333333333,
             "#9c179e"
            ],
            [
             0.4444444444444444,
             "#bd3786"
            ],
            [
             0.5555555555555556,
             "#d8576b"
            ],
            [
             0.6666666666666666,
             "#ed7953"
            ],
            [
             0.7777777777777778,
             "#fb9f3a"
            ],
            [
             0.8888888888888888,
             "#fdca26"
            ],
            [
             1,
             "#f0f921"
            ]
           ],
           "sequentialminus": [
            [
             0,
             "#0d0887"
            ],
            [
             0.1111111111111111,
             "#46039f"
            ],
            [
             0.2222222222222222,
             "#7201a8"
            ],
            [
             0.3333333333333333,
             "#9c179e"
            ],
            [
             0.4444444444444444,
             "#bd3786"
            ],
            [
             0.5555555555555556,
             "#d8576b"
            ],
            [
             0.6666666666666666,
             "#ed7953"
            ],
            [
             0.7777777777777778,
             "#fb9f3a"
            ],
            [
             0.8888888888888888,
             "#fdca26"
            ],
            [
             1,
             "#f0f921"
            ]
           ]
          },
          "colorway": [
           "#636efa",
           "#EF553B",
           "#00cc96",
           "#ab63fa",
           "#FFA15A",
           "#19d3f3",
           "#FF6692",
           "#B6E880",
           "#FF97FF",
           "#FECB52"
          ],
          "font": {
           "color": "#2a3f5f"
          },
          "geo": {
           "bgcolor": "white",
           "lakecolor": "white",
           "landcolor": "#E5ECF6",
           "showlakes": true,
           "showland": true,
           "subunitcolor": "white"
          },
          "hoverlabel": {
           "align": "left"
          },
          "hovermode": "closest",
          "mapbox": {
           "style": "light"
          },
          "paper_bgcolor": "white",
          "plot_bgcolor": "#E5ECF6",
          "polar": {
           "angularaxis": {
            "gridcolor": "white",
            "linecolor": "white",
            "ticks": ""
           },
           "bgcolor": "#E5ECF6",
           "radialaxis": {
            "gridcolor": "white",
            "linecolor": "white",
            "ticks": ""
           }
          },
          "scene": {
           "xaxis": {
            "backgroundcolor": "#E5ECF6",
            "gridcolor": "white",
            "gridwidth": 2,
            "linecolor": "white",
            "showbackground": true,
            "ticks": "",
            "zerolinecolor": "white"
           },
           "yaxis": {
            "backgroundcolor": "#E5ECF6",
            "gridcolor": "white",
            "gridwidth": 2,
            "linecolor": "white",
            "showbackground": true,
            "ticks": "",
            "zerolinecolor": "white"
           },
           "zaxis": {
            "backgroundcolor": "#E5ECF6",
            "gridcolor": "white",
            "gridwidth": 2,
            "linecolor": "white",
            "showbackground": true,
            "ticks": "",
            "zerolinecolor": "white"
           }
          },
          "shapedefaults": {
           "line": {
            "color": "#2a3f5f"
           }
          },
          "ternary": {
           "aaxis": {
            "gridcolor": "white",
            "linecolor": "white",
            "ticks": ""
           },
           "baxis": {
            "gridcolor": "white",
            "linecolor": "white",
            "ticks": ""
           },
           "bgcolor": "#E5ECF6",
           "caxis": {
            "gridcolor": "white",
            "linecolor": "white",
            "ticks": ""
           }
          },
          "title": {
           "x": 0.05
          },
          "xaxis": {
           "automargin": true,
           "gridcolor": "white",
           "linecolor": "white",
           "ticks": "",
           "title": {
            "standoff": 15
           },
           "zerolinecolor": "white",
           "zerolinewidth": 2
          },
          "yaxis": {
           "automargin": true,
           "gridcolor": "white",
           "linecolor": "white",
           "ticks": "",
           "title": {
            "standoff": 15
           },
           "zerolinecolor": "white",
           "zerolinewidth": 2
          }
         }
        },
        "title": {
         "font": {
          "size": 23
         },
         "text": "Tested BBPE tokenizers"
        },
        "xaxis": {
         "anchor": "y",
         "domain": [
          0,
          1
         ],
         "title": {
          "font": {
           "size": 18
          },
          "text": "min_frequency"
         },
         "type": "log"
        },
        "yaxis": {
         "anchor": "x",
         "domain": [
          0,
          1
         ],
         "title": {
          "font": {
           "size": 18
          },
          "text": "number of learned tokens"
         }
        }
       }
      },
      "text/html": [
       "<div>                            <div id=\"27527418-be06-4e2e-a12e-bf733cb19864\" class=\"plotly-graph-div\" style=\"height:525px; width:100%;\"></div>            <script type=\"text/javascript\">                require([\"plotly\"], function(Plotly) {                    window.PLOTLYENV=window.PLOTLYENV || {};                                    if (document.getElementById(\"27527418-be06-4e2e-a12e-bf733cb19864\")) {                    Plotly.newPlot(                        \"27527418-be06-4e2e-a12e-bf733cb19864\",                        [{\"hovertemplate\":\"mf=%{x}\\u003cbr\\u003etoken_nums=%{y}\\u003cextra\\u003e\\u003c\\u002fextra\\u003e\",\"legendgroup\":\"\",\"line\":{\"color\":\"#636efa\",\"dash\":\"solid\"},\"marker\":{\"symbol\":\"circle\"},\"mode\":\"lines\",\"name\":\"\",\"orientation\":\"v\",\"showlegend\":false,\"x\":[3,10,30,50,100,500,1000,3000,5000,6000,10000,50000,10000000],\"xaxis\":\"x\",\"y\":[1560,1019,718,620,513,316,256,160,134,128,100,35,0],\"yaxis\":\"y\",\"type\":\"scatter\",\"textposition\":\"bottom right\"}],                        {\"template\":{\"data\":{\"histogram2dcontour\":[{\"type\":\"histogram2dcontour\",\"colorbar\":{\"outlinewidth\":0,\"ticks\":\"\"},\"colorscale\":[[0.0,\"#0d0887\"],[0.1111111111111111,\"#46039f\"],[0.2222222222222222,\"#7201a8\"],[0.3333333333333333,\"#9c179e\"],[0.4444444444444444,\"#bd3786\"],[0.5555555555555556,\"#d8576b\"],[0.6666666666666666,\"#ed7953\"],[0.7777777777777778,\"#fb9f3a\"],[0.8888888888888888,\"#fdca26\"],[1.0,\"#f0f921\"]]}],\"choropleth\":[{\"type\":\"choropleth\",\"colorbar\":{\"outlinewidth\":0,\"ticks\":\"\"}}],\"histogram2d\":[{\"type\":\"histogram2d\",\"colorbar\":{\"outlinewidth\":0,\"ticks\":\"\"},\"colorscale\":[[0.0,\"#0d0887\"],[0.1111111111111111,\"#46039f\"],[0.2222222222222222,\"#7201a8\"],[0.3333333333333333,\"#9c179e\"],[0.4444444444444444,\"#bd3786\"],[0.5555555555555556,\"#d8576b\"],[0.6666666666666666,\"#ed7953\"],[0.7777777777777778,\"#fb9f3a\"],[0.8888888888888888,\"#fdca26\"],[1.0,\"#f0f921\"]]}],\"heatmap\":[{\"type\":\"heatmap\",\"colorbar\":{\"outlinewidth\":0,\"ticks\":\"\"},\"colorscale\":[[0.0,\"#0d0887\"],[0.1111111111111111,\"#46039f\"],[0.2222222222222222,\"#7201a8\"],[0.3333333333333333,\"#9c179e\"],[0.4444444444444444,\"#bd3786\"],[0.5555555555555556,\"#d8576b\"],[0.6666666666666666,\"#ed7953\"],[0.7777777777777778,\"#fb9f3a\"],[0.8888888888888888,\"#fdca26\"],[1.0,\"#f0f921\"]]}],\"heatmapgl\":[{\"type\":\"heatmapgl\",\"colorbar\":{\"outlinewidth\":0,\"ticks\":\"\"},\"colorscale\":[[0.0,\"#0d0887\"],[0.1111111111111111,\"#46039f\"],[0.2222222222222222,\"#7201a8\"],[0.3333333333333333,\"#9c179e\"],[0.4444444444444444,\"#bd3786\"],[0.5555555555555556,\"#d8576b\"],[0.6666666666666666,\"#ed7953\"],[0.7777777777777778,\"#fb9f3a\"],[0.8888888888888888,\"#fdca26\"],[1.0,\"#f0f921\"]]}],\"contourcarpet\":[{\"type\":\"contourcarpet\",\"colorbar\":{\"outlinewidth\":0,\"ticks\":\"\"}}],\"contour\":[{\"type\":\"contour\",\"colorbar\":{\"outlinewidth\":0,\"ticks\":\"\"},\"colorscale\":[[0.0,\"#0d0887\"],[0.1111111111111111,\"#46039f\"],[0.2222222222222222,\"#7201a8\"],[0.3333333333333333,\"#9c179e\"],[0.4444444444444444,\"#bd3786\"],[0.5555555555555556,\"#d8576b\"],[0.6666666666666666,\"#ed7953\"],[0.7777777777777778,\"#fb9f3a\"],[0.8888888888888888,\"#fdca26\"],[1.0,\"#f0f921\"]]}],\"surface\":[{\"type\":\"surface\",\"colorbar\":{\"outlinewidth\":0,\"ticks\":\"\"},\"colorscale\":[[0.0,\"#0d0887\"],[0.1111111111111111,\"#46039f\"],[0.2222222222222222,\"#7201a8\"],[0.3333333333333333,\"#9c179e\"],[0.4444444444444444,\"#bd3786\"],[0.5555555555555556,\"#d8576b\"],[0.6666666666666666,\"#ed7953\"],[0.7777777777777778,\"#fb9f3a\"],[0.8888888888888888,\"#fdca26\"],[1.0,\"#f0f921\"]]}],\"mesh3d\":[{\"type\":\"mesh3d\",\"colorbar\":{\"outlinewidth\":0,\"ticks\":\"\"}}],\"scatter\":[{\"fillpattern\":{\"fillmode\":\"overlay\",\"size\":10,\"solidity\":0.2},\"type\":\"scatter\"}],\"parcoords\":[{\"type\":\"parcoords\",\"line\":{\"colorbar\":{\"outlinewidth\":0,\"ticks\":\"\"}}}],\"scatterpolargl\":[{\"type\":\"scatterpolargl\",\"marker\":{\"colorbar\":{\"outlinewidth\":0,\"ticks\":\"\"}}}],\"bar\":[{\"error_x\":{\"color\":\"#2a3f5f\"},\"error_y\":{\"color\":\"#2a3f5f\"},\"marker\":{\"line\":{\"color\":\"#E5ECF6\",\"width\":0.5},\"pattern\":{\"fillmode\":\"overlay\",\"size\":10,\"solidity\":0.2}},\"type\":\"bar\"}],\"scattergeo\":[{\"type\":\"scattergeo\",\"marker\":{\"colorbar\":{\"outlinewidth\":0,\"ticks\":\"\"}}}],\"scatterpolar\":[{\"type\":\"scatterpolar\",\"marker\":{\"colorbar\":{\"outlinewidth\":0,\"ticks\":\"\"}}}],\"histogram\":[{\"marker\":{\"pattern\":{\"fillmode\":\"overlay\",\"size\":10,\"solidity\":0.2}},\"type\":\"histogram\"}],\"scattergl\":[{\"type\":\"scattergl\",\"marker\":{\"colorbar\":{\"outlinewidth\":0,\"ticks\":\"\"}}}],\"scatter3d\":[{\"type\":\"scatter3d\",\"line\":{\"colorbar\":{\"outlinewidth\":0,\"ticks\":\"\"}},\"marker\":{\"colorbar\":{\"outlinewidth\":0,\"ticks\":\"\"}}}],\"scattermapbox\":[{\"type\":\"scattermapbox\",\"marker\":{\"colorbar\":{\"outlinewidth\":0,\"ticks\":\"\"}}}],\"scatterternary\":[{\"type\":\"scatterternary\",\"marker\":{\"colorbar\":{\"outlinewidth\":0,\"ticks\":\"\"}}}],\"scattercarpet\":[{\"type\":\"scattercarpet\",\"marker\":{\"colorbar\":{\"outlinewidth\":0,\"ticks\":\"\"}}}],\"carpet\":[{\"aaxis\":{\"endlinecolor\":\"#2a3f5f\",\"gridcolor\":\"white\",\"linecolor\":\"white\",\"minorgridcolor\":\"white\",\"startlinecolor\":\"#2a3f5f\"},\"baxis\":{\"endlinecolor\":\"#2a3f5f\",\"gridcolor\":\"white\",\"linecolor\":\"white\",\"minorgridcolor\":\"white\",\"startlinecolor\":\"#2a3f5f\"},\"type\":\"carpet\"}],\"table\":[{\"cells\":{\"fill\":{\"color\":\"#EBF0F8\"},\"line\":{\"color\":\"white\"}},\"header\":{\"fill\":{\"color\":\"#C8D4E3\"},\"line\":{\"color\":\"white\"}},\"type\":\"table\"}],\"barpolar\":[{\"marker\":{\"line\":{\"color\":\"#E5ECF6\",\"width\":0.5},\"pattern\":{\"fillmode\":\"overlay\",\"size\":10,\"solidity\":0.2}},\"type\":\"barpolar\"}],\"pie\":[{\"automargin\":true,\"type\":\"pie\"}]},\"layout\":{\"autotypenumbers\":\"strict\",\"colorway\":[\"#636efa\",\"#EF553B\",\"#00cc96\",\"#ab63fa\",\"#FFA15A\",\"#19d3f3\",\"#FF6692\",\"#B6E880\",\"#FF97FF\",\"#FECB52\"],\"font\":{\"color\":\"#2a3f5f\"},\"hovermode\":\"closest\",\"hoverlabel\":{\"align\":\"left\"},\"paper_bgcolor\":\"white\",\"plot_bgcolor\":\"#E5ECF6\",\"polar\":{\"bgcolor\":\"#E5ECF6\",\"angularaxis\":{\"gridcolor\":\"white\",\"linecolor\":\"white\",\"ticks\":\"\"},\"radialaxis\":{\"gridcolor\":\"white\",\"linecolor\":\"white\",\"ticks\":\"\"}},\"ternary\":{\"bgcolor\":\"#E5ECF6\",\"aaxis\":{\"gridcolor\":\"white\",\"linecolor\":\"white\",\"ticks\":\"\"},\"baxis\":{\"gridcolor\":\"white\",\"linecolor\":\"white\",\"ticks\":\"\"},\"caxis\":{\"gridcolor\":\"white\",\"linecolor\":\"white\",\"ticks\":\"\"}},\"coloraxis\":{\"colorbar\":{\"outlinewidth\":0,\"ticks\":\"\"}},\"colorscale\":{\"sequential\":[[0.0,\"#0d0887\"],[0.1111111111111111,\"#46039f\"],[0.2222222222222222,\"#7201a8\"],[0.3333333333333333,\"#9c179e\"],[0.4444444444444444,\"#bd3786\"],[0.5555555555555556,\"#d8576b\"],[0.6666666666666666,\"#ed7953\"],[0.7777777777777778,\"#fb9f3a\"],[0.8888888888888888,\"#fdca26\"],[1.0,\"#f0f921\"]],\"sequentialminus\":[[0.0,\"#0d0887\"],[0.1111111111111111,\"#46039f\"],[0.2222222222222222,\"#7201a8\"],[0.3333333333333333,\"#9c179e\"],[0.4444444444444444,\"#bd3786\"],[0.5555555555555556,\"#d8576b\"],[0.6666666666666666,\"#ed7953\"],[0.7777777777777778,\"#fb9f3a\"],[0.8888888888888888,\"#fdca26\"],[1.0,\"#f0f921\"]],\"diverging\":[[0,\"#8e0152\"],[0.1,\"#c51b7d\"],[0.2,\"#de77ae\"],[0.3,\"#f1b6da\"],[0.4,\"#fde0ef\"],[0.5,\"#f7f7f7\"],[0.6,\"#e6f5d0\"],[0.7,\"#b8e186\"],[0.8,\"#7fbc41\"],[0.9,\"#4d9221\"],[1,\"#276419\"]]},\"xaxis\":{\"gridcolor\":\"white\",\"linecolor\":\"white\",\"ticks\":\"\",\"title\":{\"standoff\":15},\"zerolinecolor\":\"white\",\"automargin\":true,\"zerolinewidth\":2},\"yaxis\":{\"gridcolor\":\"white\",\"linecolor\":\"white\",\"ticks\":\"\",\"title\":{\"standoff\":15},\"zerolinecolor\":\"white\",\"automargin\":true,\"zerolinewidth\":2},\"scene\":{\"xaxis\":{\"backgroundcolor\":\"#E5ECF6\",\"gridcolor\":\"white\",\"linecolor\":\"white\",\"showbackground\":true,\"ticks\":\"\",\"zerolinecolor\":\"white\",\"gridwidth\":2},\"yaxis\":{\"backgroundcolor\":\"#E5ECF6\",\"gridcolor\":\"white\",\"linecolor\":\"white\",\"showbackground\":true,\"ticks\":\"\",\"zerolinecolor\":\"white\",\"gridwidth\":2},\"zaxis\":{\"backgroundcolor\":\"#E5ECF6\",\"gridcolor\":\"white\",\"linecolor\":\"white\",\"showbackground\":true,\"ticks\":\"\",\"zerolinecolor\":\"white\",\"gridwidth\":2}},\"shapedefaults\":{\"line\":{\"color\":\"#2a3f5f\"}},\"annotationdefaults\":{\"arrowcolor\":\"#2a3f5f\",\"arrowhead\":0,\"arrowwidth\":1},\"geo\":{\"bgcolor\":\"white\",\"landcolor\":\"#E5ECF6\",\"subunitcolor\":\"white\",\"showland\":true,\"showlakes\":true,\"lakecolor\":\"white\"},\"title\":{\"x\":0.05},\"mapbox\":{\"style\":\"light\"}}},\"xaxis\":{\"anchor\":\"y\",\"domain\":[0.0,1.0],\"title\":{\"text\":\"min_frequency\",\"font\":{\"size\":18}},\"type\":\"log\"},\"yaxis\":{\"anchor\":\"x\",\"domain\":[0.0,1.0],\"title\":{\"text\":\"number of learned tokens\",\"font\":{\"size\":18}}},\"legend\":{\"tracegroupgap\":0,\"font\":{\"size\":18},\"x\":0.7,\"y\":0.9,\"traceorder\":\"normal\"},\"margin\":{\"t\":60},\"title\":{\"font\":{\"size\":23},\"text\":\"Tested BBPE tokenizers\"},\"font\":{\"size\":15},\"barmode\":\"stack\",\"annotations\":[{\"arrowhead\":1,\"arrowsize\":2,\"ax\":30,\"ay\":-30,\"showarrow\":true,\"text\":\"mf10\",\"x\":1,\"y\":1019},{\"arrowhead\":1,\"arrowsize\":2,\"ax\":30,\"ay\":-30,\"showarrow\":true,\"text\":\"mf100\",\"x\":2,\"y\":513},{\"arrowhead\":1,\"arrowsize\":2,\"ax\":30,\"ay\":-30,\"showarrow\":true,\"text\":\"mf10k\",\"x\":4,\"y\":100},{\"arrowhead\":1,\"arrowsize\":2,\"ax\":30,\"ay\":-30,\"showarrow\":true,\"text\":\"mf10M\",\"x\":7,\"y\":0}]},                        {\"responsive\": true}                    ).then(function(){\n",
       "                            \n",
       "var gd = document.getElementById('27527418-be06-4e2e-a12e-bf733cb19864');\n",
       "var x = new MutationObserver(function (mutations, observer) {{\n",
       "        var display = window.getComputedStyle(gd).display;\n",
       "        if (!display || display === 'none') {{\n",
       "            console.log([gd, 'removed!']);\n",
       "            Plotly.purge(gd);\n",
       "            observer.disconnect();\n",
       "        }}\n",
       "}});\n",
       "\n",
       "// Listen for the removal of the full notebook cells\n",
       "var notebookContainer = gd.closest('#notebook-container');\n",
       "if (notebookContainer) {{\n",
       "    x.observe(notebookContainer, {childList: true});\n",
       "}}\n",
       "\n",
       "// Listen for the clearing of the current output cell\n",
       "var outputEl = gd.closest('.output');\n",
       "if (outputEl) {{\n",
       "    x.observe(outputEl, {childList: true});\n",
       "}}\n",
       "\n",
       "                        })                };                });            </script>        </div>"
      ]
     },
     "metadata": {},
     "output_type": "display_data"
    }
   ],
   "source": [
    "# visualize using pyplot for thesis\n",
    "import plotly.express as px\n",
    "\n",
    "mf_labels = ['mf3', 'mf10', 'mf30', 'mf50', 'mf100', 'mf500', 'mf1000', 'mf3k', 'mf5k', 'mf6k', 'mf10k', 'mf50k', 'mf10M']\n",
    "used_mfs = [True if mf in mfs_to_highlight else False for mf in mfs]\n",
    "df_token_nums = pd.DataFrame({\"label\": mf_labels, \n",
    "                              \"token_nums\": trained_token_nums, \n",
    "                              \"mf\": mfs,\n",
    "                              \"used\": used_mfs})\n",
    "\n",
    "\n",
    "\n",
    "fig = px.line(df_token_nums, x=\"mf\", y=\"token_nums\", log_x=True)\n",
    "fig.update_traces(textposition=\"bottom right\")\n",
    "\n",
    "\n",
    "fig.update_layout(barmode='stack',\n",
    "                  title=dict(text=\"Tested BBPE tokenizers\", font=dict(size=23)),\n",
    "                  xaxis_title=dict(text=\"min_frequency\", font=dict(size=18)),\n",
    "                  yaxis_title=dict(text=\"number of learned tokens\", font=dict(size=18)),\n",
    "                      legend=dict(\n",
    "                        x=0.7,\n",
    "                        y=0.9,\n",
    "                        traceorder='normal',\n",
    "                        font=dict(size=18)),\n",
    "                  font=dict(size=15))\n",
    "\n",
    "\n",
    "\n",
    "fig.add_annotation(x=1, y=1019,\n",
    "            text=\"mf10\",\n",
    "            showarrow=True,\n",
    "            arrowhead=1,\n",
    "            arrowsize=2,\n",
    "            ay=-30,\n",
    "            ax=30,)\n",
    "fig.add_annotation(x=2, y=513,\n",
    "            text=\"mf100\",\n",
    "            showarrow=True,\n",
    "            arrowhead=1,\n",
    "            arrowsize=2,\n",
    "            ay=-30,\n",
    "            ax=30)  \n",
    "fig.add_annotation(x=4, y=100,\n",
    "            text=\"mf10k\",\n",
    "            showarrow=True,\n",
    "            arrowhead=1,\n",
    "            arrowsize=2,\n",
    "            ay=-30,\n",
    "            ax=30) \n",
    "fig.add_annotation(x=7, y=0,\n",
    "            text=\"mf10M\",\n",
    "            showarrow=True,\n",
    "            arrowhead=1,\n",
    "            arrowsize=2,\n",
    "            ay=-30,\n",
    "            ax=30) \n",
    "\n",
    "fig.show()\n"
   ]
  },
  {
   "cell_type": "code",
   "execution_count": 11,
   "metadata": {},
   "outputs": [
    {
     "data": {
      "text/html": [
       "<div>\n",
       "<style scoped>\n",
       "    .dataframe tbody tr th:only-of-type {\n",
       "        vertical-align: middle;\n",
       "    }\n",
       "\n",
       "    .dataframe tbody tr th {\n",
       "        vertical-align: top;\n",
       "    }\n",
       "\n",
       "    .dataframe thead th {\n",
       "        text-align: right;\n",
       "    }\n",
       "</style>\n",
       "<table border=\"1\" class=\"dataframe\">\n",
       "  <thead>\n",
       "    <tr style=\"text-align: right;\">\n",
       "      <th></th>\n",
       "      <th>label</th>\n",
       "      <th>token_nums</th>\n",
       "      <th>mfs</th>\n",
       "    </tr>\n",
       "  </thead>\n",
       "  <tbody>\n",
       "    <tr>\n",
       "      <th>0</th>\n",
       "      <td>mf3</td>\n",
       "      <td>1560</td>\n",
       "      <td>3</td>\n",
       "    </tr>\n",
       "    <tr>\n",
       "      <th>1</th>\n",
       "      <td>mf10</td>\n",
       "      <td>1019</td>\n",
       "      <td>10</td>\n",
       "    </tr>\n",
       "    <tr>\n",
       "      <th>2</th>\n",
       "      <td>mf30</td>\n",
       "      <td>718</td>\n",
       "      <td>30</td>\n",
       "    </tr>\n",
       "    <tr>\n",
       "      <th>3</th>\n",
       "      <td>mf50</td>\n",
       "      <td>620</td>\n",
       "      <td>50</td>\n",
       "    </tr>\n",
       "    <tr>\n",
       "      <th>4</th>\n",
       "      <td>mf100</td>\n",
       "      <td>513</td>\n",
       "      <td>100</td>\n",
       "    </tr>\n",
       "    <tr>\n",
       "      <th>5</th>\n",
       "      <td>mf500</td>\n",
       "      <td>316</td>\n",
       "      <td>500</td>\n",
       "    </tr>\n",
       "    <tr>\n",
       "      <th>6</th>\n",
       "      <td>mf1000</td>\n",
       "      <td>256</td>\n",
       "      <td>1000</td>\n",
       "    </tr>\n",
       "    <tr>\n",
       "      <th>7</th>\n",
       "      <td>mf3k</td>\n",
       "      <td>160</td>\n",
       "      <td>3000</td>\n",
       "    </tr>\n",
       "    <tr>\n",
       "      <th>8</th>\n",
       "      <td>mf5k</td>\n",
       "      <td>134</td>\n",
       "      <td>5000</td>\n",
       "    </tr>\n",
       "    <tr>\n",
       "      <th>9</th>\n",
       "      <td>mf6k</td>\n",
       "      <td>128</td>\n",
       "      <td>6000</td>\n",
       "    </tr>\n",
       "    <tr>\n",
       "      <th>10</th>\n",
       "      <td>mf10k</td>\n",
       "      <td>100</td>\n",
       "      <td>10000</td>\n",
       "    </tr>\n",
       "    <tr>\n",
       "      <th>11</th>\n",
       "      <td>mf50k</td>\n",
       "      <td>35</td>\n",
       "      <td>50000</td>\n",
       "    </tr>\n",
       "    <tr>\n",
       "      <th>12</th>\n",
       "      <td>mf10M</td>\n",
       "      <td>0</td>\n",
       "      <td>10000000</td>\n",
       "    </tr>\n",
       "  </tbody>\n",
       "</table>\n",
       "</div>"
      ],
      "text/plain": [
       "     label  token_nums       mfs\n",
       "0      mf3        1560         3\n",
       "1     mf10        1019        10\n",
       "2     mf30         718        30\n",
       "3     mf50         620        50\n",
       "4    mf100         513       100\n",
       "5    mf500         316       500\n",
       "6   mf1000         256      1000\n",
       "7     mf3k         160      3000\n",
       "8     mf5k         134      5000\n",
       "9     mf6k         128      6000\n",
       "10   mf10k         100     10000\n",
       "11   mf50k          35     50000\n",
       "12   mf10M           0  10000000"
      ]
     },
     "execution_count": 11,
     "metadata": {},
     "output_type": "execute_result"
    }
   ],
   "source": []
  },
  {
   "cell_type": "markdown",
   "metadata": {},
   "source": [
    "So from these we choose mfs 10, 100 and 10000 for further inspection and the experiment."
   ]
  },
  {
   "cell_type": "code",
   "execution_count": 5,
   "metadata": {},
   "outputs": [
    {
     "name": "stdout",
     "output_type": "stream",
     "text": [
      "MF10\n",
      "mean_chars_per_token: 1.5744450788933846\n"
     ]
    },
    {
     "data": {
      "image/png": "[encoded data removed]",
      "text/plain": [
       "<Figure size 640x480 with 1 Axes>"
      ]
     },
     "metadata": {},
     "output_type": "display_data"
    },
    {
     "name": "stdout",
     "output_type": "stream",
     "text": [
      "MF100\n",
      "mean_chars_per_token: 1.5613584778012686\n"
     ]
    },
    {
     "data": {
      "image/png": "[encoded data removed]",
      "text/plain": [
       "<Figure size 640x480 with 1 Axes>"
      ]
     },
     "metadata": {},
     "output_type": "display_data"
    },
    {
     "name": "stdout",
     "output_type": "stream",
     "text": [
      "MF10000\n",
      "mean_chars_per_token: 1.490505938753117\n"
     ]
    },
    {
     "data": {
      "image/png": "[encoded data removed]",
      "text/plain": [
       "<Figure size 640x480 with 1 Axes>"
      ]
     },
     "metadata": {},
     "output_type": "display_data"
    },
    {
     "name": "stdout",
     "output_type": "stream",
     "text": [
      "MF10000000\n",
      "mean_chars_per_token: 0.9685616968986828\n"
     ]
    },
    {
     "data": {
      "image/png": "[encoded data removed]",
      "text/plain": [
       "<Figure size 640x480 with 1 Axes>"
      ]
     },
     "metadata": {},
     "output_type": "display_data"
    }
   ],
   "source": [
    "chosen_mfs = [10, 100, 10000, 10000000]\n",
    "all_counts = {}\n",
    "for mf in chosen_mfs:\n",
    "    print(f\"MF{mf}\")\n",
    "    df = pd.read_json(f\"../data/datasets/NIST/NIST_split_filip/mf{mf}/train.jsonl\", lines=True)\n",
    "    tokenizer = Tokenizer.from_file(save_path + f\"/bart_bbpe_tokenizer_1M_mf{mf}.model\")\n",
    "    print(f\"mean_chars_per_token: {mean_chars_per_token(df)}\")\n",
    "    count = visualize_token_usage(df, f\"mf{mf} tokenizer\")\n",
    "    all_counts[mf] = count"
   ]
  },
  {
   "cell_type": "code",
   "execution_count": 11,
   "metadata": {},
   "outputs": [
    {
     "name": "stdout",
     "output_type": "stream",
     "text": [
      "4635552\n",
      "4686110\n",
      "4800229\n"
     ]
    }
   ],
   "source": [
    "for i, data in enumerate([data_mf3, data_mf30, data_mf3000]):\n",
    "    num_all_tokens = sum(data['labels'].apply(lambda x: len(x) - 2))\n",
    "    print(num_all_tokens)"
   ]
  },
  {
   "cell_type": "code",
   "execution_count": 47,
   "metadata": {},
   "outputs": [
    {
     "data": {
      "image/png": "[encoded data removed]",
      "text/plain": [
       "<Figure size 640x480 with 1 Axes>"
      ]
     },
     "metadata": {},
     "output_type": "display_data"
    },
    {
     "data": {
      "image/png": "[encoded data removed]",
      "text/plain": [
       "<Figure size 640x480 with 1 Axes>"
      ]
     },
     "metadata": {},
     "output_type": "display_data"
    },
    {
     "data": {
      "image/png": "[encoded data removed]",
      "text/plain": [
       "<Figure size 640x480 with 1 Axes>"
      ]
     },
     "metadata": {},
     "output_type": "display_data"
    }
   ],
   "source": [
    "# visualize_token_usage - old data\n",
    "old_mfs = [3, 30, 3000]\n",
    "for mf in old_mfs:\n",
    "    data = pd.read_json(f\"../data/datasets/NIST/NIST_split_filip/mf{mf}/train.jsonl\", lines=True)\n",
    "    count = visualize_token_usage(data, f\"mf{mf}\")\n",
    "    all_counts[mf] = count"
   ]
  },
  {
   "cell_type": "markdown",
   "metadata": {},
   "source": [
    "### Where are these Ġ still popping up?\n",
    "Let's investigate a bit where is this peak in the middle of a valley coming from."
   ]
  },
  {
   "cell_type": "code",
   "execution_count": null,
   "metadata": {},
   "outputs": [],
   "source": []
  },
  {
   "cell_type": "code",
   "execution_count": 67,
   "metadata": {},
   "outputs": [
    {
     "data": {
      "text/html": [
       "<div>\n",
       "<style scoped>\n",
       "    .dataframe tbody tr th:only-of-type {\n",
       "        vertical-align: middle;\n",
       "    }\n",
       "\n",
       "    .dataframe tbody tr th {\n",
       "        vertical-align: top;\n",
       "    }\n",
       "\n",
       "    .dataframe thead th {\n",
       "        text-align: right;\n",
       "    }\n",
       "</style>\n",
       "<table border=\"1\" class=\"dataframe\">\n",
       "  <thead>\n",
       "    <tr style=\"text-align: right;\">\n",
       "      <th></th>\n",
       "      <th>input_ids</th>\n",
       "      <th>position_ids</th>\n",
       "      <th>mol_repr</th>\n",
       "      <th>labels</th>\n",
       "      <th>mz</th>\n",
       "      <th>intensity</th>\n",
       "      <th>contains_space</th>\n",
       "    </tr>\n",
       "  </thead>\n",
       "  <tbody>\n",
       "    <tr>\n",
       "      <th>0</th>\n",
       "      <td>[26, 27, 28, 29, 30, 31, 35, 36, 37, 38, 39, 4...</td>\n",
       "      <td>[2, 7, 4, 9, 1, 3, 1, 0, 0, 0, 6, 3, 9, 6, 9, ...</td>\n",
       "      <td>CCCCCCCCC(CCCC)O[Si]1(C)CCCCC1</td>\n",
       "      <td>[5, 231, 303, 363, 18, 303, 19, 57, 69, 61, 83...</td>\n",
       "      <td>[26.0, 27.0, 28.0, 29.0, 30.0, 31.0, 35.0, 36....</td>\n",
       "      <td>[21.98, 335.7, 49.95, 737.34, 10.99, 25.98, 8....</td>\n",
       "      <td>True</td>\n",
       "    </tr>\n",
       "    <tr>\n",
       "      <th>1</th>\n",
       "      <td>[27, 29, 39, 41, 42, 43, 53, 54, 55, 56, 57, 6...</td>\n",
       "      <td>[1, 3, 0, 3, 3, 0, 0, 0, 2, 3, 2, 2, 0, 0, 0, ...</td>\n",
       "      <td>CCCCOC(=O)C1CCN(C(=O)c2ccc(F)c(F)c2)CC1</td>\n",
       "      <td>[5, 231, 268, 299, 267, 57, 19, 45, 27, 276, 1...</td>\n",
       "      <td>[27.0, 29.0, 39.0, 41.0, 42.0, 43.0, 53.0, 54....</td>\n",
       "      <td>[8.99, 25.98, 7.99, 24.98, 29.97, 2.0, 4.0, 5....</td>\n",
       "      <td>True</td>\n",
       "    </tr>\n",
       "    <tr>\n",
       "      <th>2</th>\n",
       "      <td>[29, 30, 31, 38, 39, 40, 41, 42, 43, 45, 54, 5...</td>\n",
       "      <td>[7, 5, 5, 2, 5, 4, 5, 6, 6, 3, 6, 5, 9, 3, 4, ...</td>\n",
       "      <td>CON=C(C)C</td>\n",
       "      <td>[5, 231, 277, 56, 39, 45, 18, 45, 19, 45, 0]</td>\n",
       "      <td>[29.0, 30.0, 31.0, 38.0, 39.0, 40.0, 41.0, 42....</td>\n",
       "      <td>[209.81, 99.91, 79.93, 19.98, 79.93, 59.95, 10...</td>\n",
       "      <td>True</td>\n",
       "    </tr>\n",
       "    <tr>\n",
       "      <th>3</th>\n",
       "      <td>[27, 28, 29, 30, 39, 41, 42, 44, 46, 50, 51, 5...</td>\n",
       "      <td>[2, 2, 3, 1, 1, 3, 0, 2, 0, 1, 1, 1, 0, 2, 4, ...</td>\n",
       "      <td>CCCCOC(=O)CCNC(=O)c1ccc(Cl)cc1</td>\n",
       "      <td>[5, 231, 268, 299, 267, 57, 19, 290, 267, 57, ...</td>\n",
       "      <td>[27.0, 28.0, 29.0, 30.0, 39.0, 41.0, 42.0, 44....</td>\n",
       "      <td>[17.98, 15.99, 39.96, 8.99, 8.99, 27.97, 5.0, ...</td>\n",
       "      <td>True</td>\n",
       "    </tr>\n",
       "    <tr>\n",
       "      <th>4</th>\n",
       "      <td>[29, 39, 41, 42, 43, 53, 54, 55, 56, 57, 65, 6...</td>\n",
       "      <td>[0, 0, 2, 0, 3, 0, 1, 4, 1, 3, 0, 2, 1, 2, 0, ...</td>\n",
       "      <td>CCCCCCCCCCCOC(=O)c1ccccc1C(=O)OC1CCCCCC1</td>\n",
       "      <td>[5, 231, 303, 303, 268, 292, 267, 57, 19, 77, ...</td>\n",
       "      <td>[29.0, 39.0, 41.0, 42.0, 43.0, 53.0, 54.0, 55....</td>\n",
       "      <td>[4.0, 3.0, 20.98, 5.0, 30.97, 2.0, 8.99, 63.94...</td>\n",
       "      <td>True</td>\n",
       "    </tr>\n",
       "    <tr>\n",
       "      <th>...</th>\n",
       "      <td>...</td>\n",
       "      <td>...</td>\n",
       "      <td>...</td>\n",
       "      <td>...</td>\n",
       "      <td>...</td>\n",
       "      <td>...</td>\n",
       "      <td>...</td>\n",
       "    </tr>\n",
       "    <tr>\n",
       "      <th>224728</th>\n",
       "      <td>[39, 41, 43, 44, 50, 51, 55, 56, 57, 59, 71, 7...</td>\n",
       "      <td>[3, 4, 0, 2, 2, 5, 5, 1, 2, 2, 2, 2, 8, 4, 2, ...</td>\n",
       "      <td>CCCCC(C(C)=O)C(=O)c1ccccc1</td>\n",
       "      <td>[5, 231, 363, 18, 45, 18, 45, 281, 57, 19, 45,...</td>\n",
       "      <td>[39.0, 41.0, 43.0, 44.0, 50.0, 51.0, 55.0, 56....</td>\n",
       "      <td>[29.97, 44.96, 5.99, 19.98, 21.98, 83.92, 100....</td>\n",
       "      <td>True</td>\n",
       "    </tr>\n",
       "    <tr>\n",
       "      <th>224729</th>\n",
       "      <td>[26, 27, 28, 29, 31, 36, 37, 38, 39, 40, 41, 4...</td>\n",
       "      <td>[0, 2, 0, 2, 0, 0, 0, 0, 3, 0, 6, 4, 4, 0, 1, ...</td>\n",
       "      <td>C=CCCCCCCCCOC(=O)CCCC(=O)Oc1cccc(Cl)c1</td>\n",
       "      <td>[5, 231, 45, 39, 303, 303, 292, 267, 57, 19, 3...</td>\n",
       "      <td>[26.0, 27.0, 28.0, 29.0, 31.0, 36.0, 37.0, 38....</td>\n",
       "      <td>[4.0, 20.98, 7.99, 21.98, 1.0, 2.0, 1.0, 4.0, ...</td>\n",
       "      <td>True</td>\n",
       "    </tr>\n",
       "    <tr>\n",
       "      <th>224730</th>\n",
       "      <td>[14, 15, 17, 18, 26, 27, 28, 29, 30, 31, 32, 3...</td>\n",
       "      <td>[0, 2, 0, 3, 0, 3, 6, 3, 7, 0, 0, 0, 0, 3, 1, ...</td>\n",
       "      <td>CC1CNC(C)CN1</td>\n",
       "      <td>[5, 231, 268, 27, 282, 18, 45, 19, 270, 27, 0]</td>\n",
       "      <td>[14.0, 15.0, 17.0, 18.0, 26.0, 27.0, 28.0, 29....</td>\n",
       "      <td>[2.0, 19.98, 5.0, 26.98, 5.0, 31.97, 136.88, 2...</td>\n",
       "      <td>True</td>\n",
       "    </tr>\n",
       "    <tr>\n",
       "      <th>224731</th>\n",
       "      <td>[15, 26, 27, 28, 29, 30, 31, 37, 38, 39, 40, 4...</td>\n",
       "      <td>[1, 0, 2, 4, 4, 3, 0, 0, 0, 2, 0, 1, 3, 0, 0, ...</td>\n",
       "      <td>c1ccc(N2CCNCC2)cc1</td>\n",
       "      <td>[5, 231, 77, 27, 287, 18, 56, 28, 381, 28, 19,...</td>\n",
       "      <td>[15.0, 26.0, 27.0, 28.0, 29.0, 30.0, 31.0, 37....</td>\n",
       "      <td>[8.99, 4.0, 19.98, 55.95, 50.95, 35.97, 1.0, 2...</td>\n",
       "      <td>True</td>\n",
       "    </tr>\n",
       "    <tr>\n",
       "      <th>224732</th>\n",
       "      <td>[42, 43, 44, 45, 46, 47, 48, 49, 50, 51, 52, 5...</td>\n",
       "      <td>[9, 6, 9, 3, 3, 1, 0, 4, 3, 6, 4, 6, 4, 6, 4, ...</td>\n",
       "      <td>CN1CCC23CCC(Br)CC2Oc2c(O)ccc(c23)C1</td>\n",
       "      <td>[5, 231, 270, 27, 283, 340, 283, 18, 44, 92, 1...</td>\n",
       "      <td>[42.0, 43.0, 44.0, 45.0, 46.0, 47.0, 48.0, 49....</td>\n",
       "      <td>[753.32, 186.83, 999.0, 34.97, 33.97, 10.99, 2...</td>\n",
       "      <td>True</td>\n",
       "    </tr>\n",
       "  </tbody>\n",
       "</table>\n",
       "<p>224733 rows × 7 columns</p>\n",
       "</div>"
      ],
      "text/plain": [
       "                                                input_ids  \\\n",
       "0       [26, 27, 28, 29, 30, 31, 35, 36, 37, 38, 39, 4...   \n",
       "1       [27, 29, 39, 41, 42, 43, 53, 54, 55, 56, 57, 6...   \n",
       "2       [29, 30, 31, 38, 39, 40, 41, 42, 43, 45, 54, 5...   \n",
       "3       [27, 28, 29, 30, 39, 41, 42, 44, 46, 50, 51, 5...   \n",
       "4       [29, 39, 41, 42, 43, 53, 54, 55, 56, 57, 65, 6...   \n",
       "...                                                   ...   \n",
       "224728  [39, 41, 43, 44, 50, 51, 55, 56, 57, 59, 71, 7...   \n",
       "224729  [26, 27, 28, 29, 31, 36, 37, 38, 39, 40, 41, 4...   \n",
       "224730  [14, 15, 17, 18, 26, 27, 28, 29, 30, 31, 32, 3...   \n",
       "224731  [15, 26, 27, 28, 29, 30, 31, 37, 38, 39, 40, 4...   \n",
       "224732  [42, 43, 44, 45, 46, 47, 48, 49, 50, 51, 52, 5...   \n",
       "\n",
       "                                             position_ids  \\\n",
       "0       [2, 7, 4, 9, 1, 3, 1, 0, 0, 0, 6, 3, 9, 6, 9, ...   \n",
       "1       [1, 3, 0, 3, 3, 0, 0, 0, 2, 3, 2, 2, 0, 0, 0, ...   \n",
       "2       [7, 5, 5, 2, 5, 4, 5, 6, 6, 3, 6, 5, 9, 3, 4, ...   \n",
       "3       [2, 2, 3, 1, 1, 3, 0, 2, 0, 1, 1, 1, 0, 2, 4, ...   \n",
       "4       [0, 0, 2, 0, 3, 0, 1, 4, 1, 3, 0, 2, 1, 2, 0, ...   \n",
       "...                                                   ...   \n",
       "224728  [3, 4, 0, 2, 2, 5, 5, 1, 2, 2, 2, 2, 8, 4, 2, ...   \n",
       "224729  [0, 2, 0, 2, 0, 0, 0, 0, 3, 0, 6, 4, 4, 0, 1, ...   \n",
       "224730  [0, 2, 0, 3, 0, 3, 6, 3, 7, 0, 0, 0, 0, 3, 1, ...   \n",
       "224731  [1, 0, 2, 4, 4, 3, 0, 0, 0, 2, 0, 1, 3, 0, 0, ...   \n",
       "224732  [9, 6, 9, 3, 3, 1, 0, 4, 3, 6, 4, 6, 4, 6, 4, ...   \n",
       "\n",
       "                                        mol_repr  \\\n",
       "0                 CCCCCCCCC(CCCC)O[Si]1(C)CCCCC1   \n",
       "1        CCCCOC(=O)C1CCN(C(=O)c2ccc(F)c(F)c2)CC1   \n",
       "2                                      CON=C(C)C   \n",
       "3                 CCCCOC(=O)CCNC(=O)c1ccc(Cl)cc1   \n",
       "4       CCCCCCCCCCCOC(=O)c1ccccc1C(=O)OC1CCCCCC1   \n",
       "...                                          ...   \n",
       "224728                CCCCC(C(C)=O)C(=O)c1ccccc1   \n",
       "224729    C=CCCCCCCCCOC(=O)CCCC(=O)Oc1cccc(Cl)c1   \n",
       "224730                              CC1CNC(C)CN1   \n",
       "224731                        c1ccc(N2CCNCC2)cc1   \n",
       "224732       CN1CCC23CCC(Br)CC2Oc2c(O)ccc(c23)C1   \n",
       "\n",
       "                                                   labels  \\\n",
       "0       [5, 231, 303, 363, 18, 303, 19, 57, 69, 61, 83...   \n",
       "1       [5, 231, 268, 299, 267, 57, 19, 45, 27, 276, 1...   \n",
       "2            [5, 231, 277, 56, 39, 45, 18, 45, 19, 45, 0]   \n",
       "3       [5, 231, 268, 299, 267, 57, 19, 290, 267, 57, ...   \n",
       "4       [5, 231, 303, 303, 268, 292, 267, 57, 19, 77, ...   \n",
       "...                                                   ...   \n",
       "224728  [5, 231, 363, 18, 45, 18, 45, 281, 57, 19, 45,...   \n",
       "224729  [5, 231, 45, 39, 303, 303, 292, 267, 57, 19, 3...   \n",
       "224730     [5, 231, 268, 27, 282, 18, 45, 19, 270, 27, 0]   \n",
       "224731  [5, 231, 77, 27, 287, 18, 56, 28, 381, 28, 19,...   \n",
       "224732  [5, 231, 270, 27, 283, 340, 283, 18, 44, 92, 1...   \n",
       "\n",
       "                                                       mz  \\\n",
       "0       [26.0, 27.0, 28.0, 29.0, 30.0, 31.0, 35.0, 36....   \n",
       "1       [27.0, 29.0, 39.0, 41.0, 42.0, 43.0, 53.0, 54....   \n",
       "2       [29.0, 30.0, 31.0, 38.0, 39.0, 40.0, 41.0, 42....   \n",
       "3       [27.0, 28.0, 29.0, 30.0, 39.0, 41.0, 42.0, 44....   \n",
       "4       [29.0, 39.0, 41.0, 42.0, 43.0, 53.0, 54.0, 55....   \n",
       "...                                                   ...   \n",
       "224728  [39.0, 41.0, 43.0, 44.0, 50.0, 51.0, 55.0, 56....   \n",
       "224729  [26.0, 27.0, 28.0, 29.0, 31.0, 36.0, 37.0, 38....   \n",
       "224730  [14.0, 15.0, 17.0, 18.0, 26.0, 27.0, 28.0, 29....   \n",
       "224731  [15.0, 26.0, 27.0, 28.0, 29.0, 30.0, 31.0, 37....   \n",
       "224732  [42.0, 43.0, 44.0, 45.0, 46.0, 47.0, 48.0, 49....   \n",
       "\n",
       "                                                intensity  contains_space  \n",
       "0       [21.98, 335.7, 49.95, 737.34, 10.99, 25.98, 8....            True  \n",
       "1       [8.99, 25.98, 7.99, 24.98, 29.97, 2.0, 4.0, 5....            True  \n",
       "2       [209.81, 99.91, 79.93, 19.98, 79.93, 59.95, 10...            True  \n",
       "3       [17.98, 15.99, 39.96, 8.99, 8.99, 27.97, 5.0, ...            True  \n",
       "4       [4.0, 3.0, 20.98, 5.0, 30.97, 2.0, 8.99, 63.94...            True  \n",
       "...                                                   ...             ...  \n",
       "224728  [29.97, 44.96, 5.99, 19.98, 21.98, 83.92, 100....            True  \n",
       "224729  [4.0, 20.98, 7.99, 21.98, 1.0, 2.0, 1.0, 4.0, ...            True  \n",
       "224730  [2.0, 19.98, 5.0, 26.98, 5.0, 31.97, 136.88, 2...            True  \n",
       "224731  [8.99, 4.0, 19.98, 55.95, 50.95, 35.97, 1.0, 2...            True  \n",
       "224732  [753.32, 186.83, 999.0, 34.97, 33.97, 10.99, 2...            True  \n",
       "\n",
       "[224733 rows x 7 columns]"
      ]
     },
     "execution_count": 67,
     "metadata": {},
     "output_type": "execute_result"
    }
   ],
   "source": [
    "# find a smiles with a token 231\n",
    "data[\"contains_space\"] = data[\"labels\"].apply(lambda x: 231 in x)\n",
    "data"
   ]
  },
  {
   "cell_type": "markdown",
   "metadata": {},
   "source": [
    "### Missing tokens\n",
    "Which tokens are completely missing in the dataset at all? Are those somehow special?"
   ]
  },
  {
   "cell_type": "code",
   "execution_count": 51,
   "metadata": {},
   "outputs": [],
   "source": [
    "def get_missing_tokens(count, tokenizer):\n",
    "    all_token_ids = set(range(max(count.keys())))\n",
    "    present_token_ids = set(count.keys())\n",
    "    missing_ids = sorted(list(all_token_ids - present_token_ids))\n",
    "    missing_tokens = [(tokenizer.decode([id]), id) for id in missing_ids]\n",
    "    return missing_tokens"
   ]
  },
  {
   "cell_type": "code",
   "execution_count": 68,
   "metadata": {},
   "outputs": [
    {
     "name": "stdout",
     "output_type": "stream",
     "text": [
      "missing tokens mf3: 580\n",
      "missing tokens mf30: 294\n",
      "missing tokens mf3000: 212\n",
      "missing tokens mf10: 441\n",
      "missing tokens mf100: 230\n",
      "missing tokens mf10000: 206\n"
     ]
    }
   ],
   "source": [
    "# compare new with old training data: number of missed tokens\n",
    "tokenizers = {mf: Tokenizer.from_file(save_path + f\"/bart_bbpe_tokenizer_1M_mf{mf}.model\") for mf in old_mfs + chosen_mfs}\n",
    "\n",
    "for mf in (old_mfs + chosen_mfs):\n",
    "    missing_tokens = get_missing_tokens(all_counts[mf], tokenizers[mf])\n",
    "    print(f\"missing tokens mf{mf}:\", len(missing_tokens))"
   ]
  },
  {
   "cell_type": "code",
   "execution_count": 71,
   "metadata": {},
   "outputs": [
    {
     "name": "stdout",
     "output_type": "stream",
     "text": [
      "Is token 231 missing in mf3? True\n"
     ]
    }
   ],
   "source": [
    "missing_token = 231 not in all_counts[3]\n",
    "print(f\"Is token 231 missing in mf3? {missing_token}\")\n"
   ]
  },
  {
   "cell_type": "markdown",
   "metadata": {},
   "source": [
    "# SMAZ\n",
    "Ale.. chtelo by to canonizovat smilesy z 1M pred treninkem tokenizeru. Budou tam pak asi relevantnejsi tokeny. Je to vubec canonicky?"
   ]
  },
  {
   "cell_type": "code",
   "execution_count": 97,
   "metadata": {},
   "outputs": [],
   "source": [
    "data_path = \"../tokenizer/training_data/1M.txt\"\n",
    "with open(data_path, \"r\") as file:\n",
    "    smiless = file.read().split(\" \")"
   ]
  },
  {
   "cell_type": "code",
   "execution_count": 1,
   "metadata": {},
   "outputs": [
    {
     "ename": "NameError",
     "evalue": "name 'smiless' is not defined",
     "output_type": "error",
     "traceback": [
      "\u001b[0;31m---------------------------------------------------------------------------\u001b[0m",
      "\u001b[0;31mNameError\u001b[0m                                 Traceback (most recent call last)",
      "Cell \u001b[0;32mIn[1], line 1\u001b[0m\n\u001b[0;32m----> 1\u001b[0m \u001b[43msmiless\u001b[49m[\u001b[38;5;241m0\u001b[39m]\n",
      "\u001b[0;31mNameError\u001b[0m: name 'smiless' is not defined"
     ]
    }
   ],
   "source": [
    "smiless[0]"
   ]
  },
  {
   "cell_type": "code",
   "execution_count": 4,
   "metadata": {},
   "outputs": [
    {
     "data": {
      "text/plain": [
       "<tokenizers.Tokenizer at 0x3f1ca10>"
      ]
     },
     "execution_count": 4,
     "metadata": {},
     "output_type": "execute_result"
    }
   ],
   "source": []
  },
  {
   "cell_type": "code",
   "execution_count": null,
   "metadata": {},
   "outputs": [],
   "source": []
  }
 ],
 "metadata": {
  "kernelspec": {
   "display_name": "BARTtrain",
   "language": "python",
   "name": "python3"
  },
  "language_info": {
   "codemirror_mode": {
    "name": "ipython",
    "version": 3
   },
   "file_extension": ".py",
   "mimetype": "text/x-python",
   "name": "python",
   "nbconvert_exporter": "python",
   "pygments_lexer": "ipython3",
   "version": "3.8.16"
  }
 },
 "nbformat": 4,
 "nbformat_minor": 2
}
