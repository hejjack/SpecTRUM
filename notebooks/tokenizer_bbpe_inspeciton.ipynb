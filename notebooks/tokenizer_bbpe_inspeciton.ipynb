{
 "cells": [
  {
   "cell_type": "markdown",
   "metadata": {},
   "source": [
    "# Compare different BBPE tokenizers\n",
    "The task is to transparently inspect some of the characteristics of different BBPE tokenizers. The tokenizers were trained with different minimum frequency thresholds so they have different vocabularies (and importantly different vocabularies sizes)\n",
    "\n",
    "The tokenizers are:\n",
    "- mf3: the standard one we've used so far\n",
    "- mf30\n",
    "- mf3000\n",
    "\n",
    "look for:\n",
    "- num of trained and special tokens\n",
    "- average token length in vocabulary\n",
    "- average chars per token in NIST train set\n",
    "- vi"
   ]
  },
  {
   "cell_type": "code",
   "execution_count": null,
   "metadata": {},
   "outputs": [],
   "source": [
    "# read the NIST train.msp file\n",
    "from \n",
    "data = "
   ]
  }
 ],
 "metadata": {
  "language_info": {
   "name": "python"
  }
 },
 "nbformat": 4,
 "nbformat_minor": 2
}
