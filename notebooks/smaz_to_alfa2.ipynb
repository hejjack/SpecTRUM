{
 "cells": [
  {
   "cell_type": "markdown",
   "metadata": {},
   "source": [
    "### Compare valid, test sets of neims_gen and rassp_gen"
   ]
  },
  {
   "cell_type": "code",
   "execution_count": 1,
   "metadata": {},
   "outputs": [],
   "source": [
    "import pandas as pd"
   ]
  },
  {
   "cell_type": "code",
   "execution_count": 2,
   "metadata": {},
   "outputs": [],
   "source": [
    "neims_valid = pd.read_json('../data/datasets/4_8M/neims_gen/valid.jsonl', lines=True)\n",
    "rassp_valid = pd.read_json('../data/datasets/4_8M/rassp_gen/valid.jsonl', lines=True)"
   ]
  },
  {
   "cell_type": "code",
   "execution_count": 8,
   "metadata": {},
   "outputs": [],
   "source": [
    "neims_test = pd.read_json('../data/datasets/4_8M/neims_gen/test.jsonl', lines=True)\n",
    "rassp_test = pd.read_json('../data/datasets/4_8M/rassp_gen/test.jsonl', lines=True)"
   ]
  },
  {
   "cell_type": "code",
   "execution_count": 9,
   "metadata": {},
   "outputs": [],
   "source": [
    "set_neims = set(neims_valid['smiles'])\n",
    "set_rassp = set(rassp_valid['smiles'])\n",
    "set_neims_test = set(neims_test['smiles'])\n",
    "set_rassp_test = set(rassp_test['smiles'])"
   ]
  },
  {
   "cell_type": "code",
   "execution_count": 11,
   "metadata": {},
   "outputs": [
    {
     "data": {
      "text/plain": [
       "(242490, 242486, 242480, 242486)"
      ]
     },
     "execution_count": 11,
     "metadata": {},
     "output_type": "execute_result"
    }
   ],
   "source": [
    "len(set_neims), len(set_rassp), len(set_neims_test), len(set_rassp_test)"
   ]
  },
  {
   "cell_type": "code",
   "execution_count": 13,
   "metadata": {},
   "outputs": [
    {
     "name": "stdout",
     "output_type": "stream",
     "text": [
      "12315 12011\n",
      "12278 12216\n",
      "0 1\n"
     ]
    }
   ],
   "source": [
    "print(len(set_neims.intersection(set_rassp)), len(set_neims_test.intersection(set_rassp_test)))\n",
    "print(len(set_neims.intersection(set_rassp_test)), len(set_neims_test.intersection(set_rassp)))\n",
    "print(len(set_neims.intersection(set_neims_test)), len(set_rassp.intersection(set_rassp_test)))"
   ]
  },
  {
   "cell_type": "code",
   "execution_count": null,
   "metadata": {},
   "outputs": [],
   "source": []
  }
 ],
 "metadata": {
  "kernelspec": {
   "display_name": "BARTtrainH100",
   "language": "python",
   "name": "python3"
  },
  "language_info": {
   "codemirror_mode": {
    "name": "ipython",
    "version": 3
   },
   "file_extension": ".py",
   "mimetype": "text/x-python",
   "name": "python",
   "nbconvert_exporter": "python",
   "pygments_lexer": "ipython3",
   "version": "3.8.16"
  }
 },
 "nbformat": 4,
 "nbformat_minor": 2
}
