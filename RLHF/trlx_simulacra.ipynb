{
 "cells": [
  {
   "cell_type": "markdown",
   "metadata": {
    "id": "Jwhn4SLRdz0p"
   },
   "source": [
    "# Refine txt2img Prompts with Human Feedback\n",
    "\n",
    "\n",
    "[![Open In Colab](https://colab.research.google.com/assets/colab-badge.svg)](https://colab.research.google.com/github/CarperAI/trlx/blob/main/examples/notebooks/trlx_simulacra.ipynb)\n",
    "\n",
    "\n",
    "#### Optimize a gpt2-based txt2img prompt generator to produce aesthetic prompts using https://github.com/JD-P/simulacra-aesthetic-captions\n",
    "\n",
    "Notebook by [@smellslikeml](https://github.com/smellslikeml)\n",
    "\n",
    "---"
   ]
  },
  {
   "cell_type": "markdown",
   "metadata": {
    "id": "eKuuBx0teMb7"
   },
   "source": [
    "Execute the cells below to install [TRLX](https://github.com/CarperAI/trlx) for a colab environment."
   ]
  },
  {
   "cell_type": "code",
   "execution_count": 1,
   "metadata": {},
   "outputs": [
    {
     "name": "stdout",
     "output_type": "stream",
     "text": [
      "RL_misko_trl.ipynb  trlx  trlx_simulacra.ipynb\n"
     ]
    }
   ],
   "source": [
    "!ls"
   ]
  },
  {
   "cell_type": "code",
   "execution_count": 2,
   "metadata": {},
   "outputs": [],
   "source": [
    "%load_ext autoreload\n",
    "%autoreload 2"
   ]
  },
  {
   "cell_type": "code",
   "execution_count": 3,
   "metadata": {},
   "outputs": [],
   "source": [
    "# !pip install torchtyping\n",
    "# !python --version\n",
    "# import deepspeed"
   ]
  },
  {
   "cell_type": "code",
   "execution_count": 4,
   "metadata": {
    "colab": {
     "base_uri": "https://localhost:8080/"
    },
    "id": "SY2PWyE7RFrV",
    "outputId": "ae58f898-b57a-45ad-e02e-68b67b3e9c77"
   },
   "outputs": [],
   "source": [
    "# !git clone https://github.com/CarperAI/trlx.git\n",
    "# !git config --global --add safe.directory /content/trlx && cd /content/trlx && pip install -e ."
   ]
  },
  {
   "cell_type": "code",
   "execution_count": 5,
   "metadata": {
    "colab": {
     "base_uri": "https://localhost:8080/"
    },
    "id": "r3w8KNGigg9C",
    "outputId": "8911429e-8b73-4a9d-ceca-0ff0fe793e88"
   },
   "outputs": [],
   "source": [
    "# uninstall scikit_learn + jax to avoid numpy issues\n",
    "# !conda uninstall -y scikit_learn jax"
   ]
  },
  {
   "cell_type": "code",
   "execution_count": 2,
   "metadata": {
    "colab": {
     "base_uri": "https://localhost:8080/"
    },
    "id": "OxgxiK3CVz9L",
    "outputId": "9e1e8400-b1c1-4fda-b059-6efa266b648e"
   },
   "outputs": [
    {
     "name": "stdout",
     "output_type": "stream",
     "text": [
      "/mnt/storage-brno2/home/ahajek/Spektro/MassGenie/RLHF/trlx\n"
     ]
    }
   ],
   "source": [
    "import os\n",
    "\n",
    "# run within repo\n",
    "os.chdir('./trlx')\n",
    "print(os.getcwd())"
   ]
  },
  {
   "cell_type": "code",
   "execution_count": 5,
   "metadata": {
    "colab": {
     "base_uri": "https://localhost:8080/"
    },
    "id": "_B3AcQaSSpVI",
    "outputId": "6c7033af-faae-4285-886d-4e952bc484c4"
   },
   "outputs": [],
   "source": [
    "import sqlite3\n",
    "from urllib.request import urlretrieve\n",
    "\n",
    "import trlx\n",
    "\n",
    "url = \"https://raw.githubusercontent.com/JD-P/simulacra-aesthetic-captions/main/sac_public_2022_06_29.sqlite\"\n",
    "dbpath = \"sac_public_2022_06_29.sqlite\"\n",
    "\n",
    "if not os.path.exists(dbpath):\n",
    "    print(f\"fetching {dbpath}\")\n",
    "    urlretrieve(url, dbpath)\n",
    "\n",
    "conn = sqlite3.connect(dbpath)\n",
    "c = conn.cursor()\n",
    "c.execute(\n",
    "    \"SELECT prompt, rating FROM ratings \"\n",
    "    \"JOIN images ON images.id=ratings.iid \"\n",
    "    \"JOIN generations ON images.gid=generations.id \"\n",
    "    \"WHERE rating IS NOT NULL;\"\n",
    ")\n",
    "\n",
    "prompts, ratings = tuple(map(list, zip(*c.fetchall())))"
   ]
  },
  {
   "cell_type": "markdown",
   "metadata": {
    "id": "veT8Jxegeg_z"
   },
   "source": [
    "Trlx uses [wandb](https://wandb.ai/) to log results. Make sure to set up an account and use your token to authenticate when prompted after executing the cell below."
   ]
  },
  {
   "cell_type": "code",
   "execution_count": 6,
   "metadata": {
    "colab": {
     "base_uri": "https://localhost:8080/",
     "height": 1000,
     "referenced_widgets": [
      "ddaefb30580d4ac1adcb4e6138a218db",
      "b13d11a7ccd94f698c7db47108a37edb",
      "76b593dedd6346e49a50d032c4b25e3d",
      "bff0552b9ee64431a6ea4eac8d6695bc",
      "76ea9a895e324a50b8db939980ffdbed",
      "4299dc538ada4e98a79cf3d6d188c200",
      "1ea30b8671324a3a9e8157478cd13aa1",
      "fddac4329dbc4fa78bfda3455528256b",
      "ec82b7f1d9524ffcb7d505479ae3499b",
      "0211a76bc3584919bb75cfa545e05524",
      "0aba7fc7846348578c2d36811ea08f77",
      "ebc59d731eef438f8910a7cfde4a17c8",
      "b8a2a905309b473094ae1cfc2b24fcc4",
      "453d5d53ca1a46b881f7ebfd2630a742",
      "c9cbba73a58849fbb261e00e2c815259",
      "683b55d1fe3a41e5b5b6f32b1f858842",
      "8480c633fa714c9c9bed38fa21cd461d",
      "565f592707ef476f907969e8b520435b",
      "3a4196962f9049e4a48b65447c95965f",
      "d67d768dc2964e4c842ec634f7cf58e5",
      "61d63dd47c88437ea3994497fbb71ecb",
      "ba392f7181504a4e9516e0c065eff319",
      "e55bd007e20d4fffb97a8fa20bf059e8",
      "b178621520a942468c57d23768dec9c5",
      "229a58d38ac049c8bb6692dd19713961",
      "d484acc4804049a786fd74f0f0a67588",
      "651a2ba374ea4779b94904eabc30982d",
      "21d542c3f5ba45c18cfbe116448bbf4a",
      "55bf83a93d874759a602562b0403e9b2",
      "063cdaa702fc403c9914bb64f37c4599",
      "86f1b83d36184913a85561519dcfa51b",
      "e9d5d29e4ef44526865133aaaa487e78",
      "4e1014ea19264321b1bbfda7aed691ce",
      "6110b339705f479692a18178d56b2f5a",
      "2e686d2a81974f3c97d66d2c691e9e4d",
      "b585ea865de949e28a68367b42f7264d",
      "3db97b8040574a1d936202a3b13b9fb3",
      "56d9e00f846244368e8702b6a28af343",
      "034b03f4e7eb4aa8a65194c7b1b4149a",
      "30c0af680d824a859a3a0d5275440c5a",
      "48ad049d8e4d4d3f837a50668eb87b35",
      "7a4f66e099ad48bf9e9095f4c1a89330",
      "d0de268a70bd4136806dccbdcd2b378f",
      "baaa7a657a9844b7ba92ddcebf9257d2",
      "00b99451d1d747ea8dc0770d9bb51fb5",
      "e8ce0b8fa1024ab8ad1f4afabc40f4bc",
      "f45d40493bae44a3ab6a7ed702c53dc8",
      "11625588d58e44db9e72fc2c43d09d02",
      "a5506ba228094af2b25c9a6aba8bbe04",
      "4b23664a44254cceafdeb11c3233952f",
      "ffc4ab3f25e749268547690002a4b8c5",
      "64d127767932428286a5664e5252a85a",
      "dab22c0086f948818204059ffdc1d2f1",
      "91e40c90c560451f9d0b83c4e2f232e8",
      "ead93b6eccab4a2eab37a8ec153144b3",
      "b04171d5292a4516a588fb88d216adab",
      "bbc997be756146b0a0623b44bb3e401c",
      "b066872ee8274f31b573a4e481c50e6a",
      "99d1f09cb42a47ecb4747434053678c7",
      "92c99c22b3dd44f985706ba3ae06f6fe",
      "421922c3f6264f838282aa55916f2d24",
      "d5e617dacb9343a2b51c6b7b72e8713b",
      "308cf0e6630f4819b22aa302171b9b96",
      "296b1c3bd04b4a4b9f7e6e4c6fed1c66",
      "865180d7100c44e7bc392cadffa0b1d1",
      "c7fc419800eb4af390bff04bac140adc"
     ]
    },
    "id": "UC_NT0_udizq",
    "outputId": "0009f6b0-639e-437d-cf82-77fe90eb5f5f"
   },
   "outputs": [
    {
     "name": "stderr",
     "output_type": "stream",
     "text": [
      "/mnt/storage-brno2/home/ahajek/Spektro/MassGenie/RLHF/trlx/trlx/trlx.py:57: UserWarning: Passing the `config` argument implicitly is depreciated, use oradapt some from `trlx/data/default_configs.py` instead\n",
      "  warnings.warn(\n",
      "[RANK 0] Initializing model: gpt2\n"
     ]
    },
    {
     "data": {
      "text/html": [
       "Tracking run with wandb version 0.13.11"
      ],
      "text/plain": [
       "<IPython.core.display.HTML object>"
      ]
     },
     "metadata": {},
     "output_type": "display_data"
    },
    {
     "data": {
      "text/html": [
       "Run data is saved locally in <code>/mnt/storage-brno2/home/ahajek/Spektro/MassGenie/RLHF/trlx/wandb/run-20230309_161639-djrpurif</code>"
      ],
      "text/plain": [
       "<IPython.core.display.HTML object>"
      ]
     },
     "metadata": {},
     "output_type": "display_data"
    },
    {
     "data": {
      "text/html": [
       "Syncing run <strong><a href='https://wandb.ai/msgc_boys/trlx/runs/djrpurif' target=\"_blank\">ipykernel_launcher/gpt2/1gpu:main</a></strong> to <a href='https://wandb.ai/msgc_boys/trlx' target=\"_blank\">Weights & Biases</a> (<a href='https://wandb.me/run' target=\"_blank\">docs</a>)<br/>"
      ],
      "text/plain": [
       "<IPython.core.display.HTML object>"
      ]
     },
     "metadata": {},
     "output_type": "display_data"
    },
    {
     "data": {
      "text/html": [
       " View project at <a href='https://wandb.ai/msgc_boys/trlx' target=\"_blank\">https://wandb.ai/msgc_boys/trlx</a>"
      ],
      "text/plain": [
       "<IPython.core.display.HTML object>"
      ]
     },
     "metadata": {},
     "output_type": "display_data"
    },
    {
     "data": {
      "text/html": [
       " View run at <a href='https://wandb.ai/msgc_boys/trlx/runs/djrpurif' target=\"_blank\">https://wandb.ai/msgc_boys/trlx/runs/djrpurif</a>"
      ],
      "text/plain": [
       "<IPython.core.display.HTML object>"
      ]
     },
     "metadata": {},
     "output_type": "display_data"
    },
    {
     "name": "stderr",
     "output_type": "stream",
     "text": [
      "[RANK 0] Collecting rollouts\n",
      "[RANK 0] Logging sample example\n"
     ]
    },
    {
     "data": {
      "text/html": [
       "<pre style=\"white-space:pre;overflow-x:auto;line-height:normal;font-family:Menlo,'DejaVu Sans Mono',consolas,'Courier New',monospace\"><span style=\"font-style: italic\">                                                  Sample Example                                                   </span>\n",
       "┏━━━━━━━━━━━━━━━━━━━━━━━━━━━━┳━━━━━━━━━━━━━━━━━━━━━━━━━━━━━━━━━━━━━━━━━━━━━━━━━━━━━━━━━━━━━━━━━━━━━━━━━━━┳━━━━━━━━┓\n",
       "┃<span style=\"font-weight: bold\"> Prompt                     </span>┃<span style=\"font-weight: bold\"> Response                                                                  </span>┃<span style=\"font-weight: bold\"> Reward </span>┃\n",
       "┡━━━━━━━━━━━━━━━━━━━━━━━━━━━━╇━━━━━━━━━━━━━━━━━━━━━━━━━━━━━━━━━━━━━━━━━━━━━━━━━━━━━━━━━━━━━━━━━━━━━━━━━━━╇━━━━━━━━┩\n",
       "│ &lt;|endoftext|&gt;&lt;|endoftext|&gt; │ An artwork of a broken wine bottle in the medium of dry                   │ 7      │\n",
       "│                            │ pigments&lt;|endoftext|&gt;&lt;|endoftext|&gt;                                        │        │\n",
       "└────────────────────────────┴───────────────────────────────────────────────────────────────────────────┴────────┘\n",
       "</pre>\n"
      ],
      "text/plain": [
       "\u001b[3m                                                  Sample Example                                                   \u001b[0m\n",
       "┏━━━━━━━━━━━━━━━━━━━━━━━━━━━━┳━━━━━━━━━━━━━━━━━━━━━━━━━━━━━━━━━━━━━━━━━━━━━━━━━━━━━━━━━━━━━━━━━━━━━━━━━━━┳━━━━━━━━┓\n",
       "┃\u001b[1m \u001b[0m\u001b[1mPrompt                    \u001b[0m\u001b[1m \u001b[0m┃\u001b[1m \u001b[0m\u001b[1mResponse                                                                 \u001b[0m\u001b[1m \u001b[0m┃\u001b[1m \u001b[0m\u001b[1mReward\u001b[0m\u001b[1m \u001b[0m┃\n",
       "┡━━━━━━━━━━━━━━━━━━━━━━━━━━━━╇━━━━━━━━━━━━━━━━━━━━━━━━━━━━━━━━━━━━━━━━━━━━━━━━━━━━━━━━━━━━━━━━━━━━━━━━━━━╇━━━━━━━━┩\n",
       "│ <|endoftext|><|endoftext|> │ An artwork of a broken wine bottle in the medium of dry                   │ 7      │\n",
       "│                            │ pigments<|endoftext|><|endoftext|>                                        │        │\n",
       "└────────────────────────────┴───────────────────────────────────────────────────────────────────────────┴────────┘\n"
      ]
     },
     "metadata": {},
     "output_type": "display_data"
    },
    {
     "name": "stderr",
     "output_type": "stream",
     "text": [
      "[RANK 0] Logging experience string statistics\n"
     ]
    },
    {
     "data": {
      "text/html": [
       "<pre style=\"white-space:pre;overflow-x:auto;line-height:normal;font-family:Menlo,'DejaVu Sans Mono',consolas,'Courier New',monospace\"><span style=\"font-style: italic\">     Experience String Stats (mean ∈ [min, max])     </span>\n",
       "┏━━━━━━━━━━━━━━━┳━━━━━━━━━━━━━━━━━┳━━━━━━━━━━━━━━━━━┓\n",
       "┃<span style=\"font-weight: bold\"> Prompt Length </span>┃<span style=\"font-weight: bold\"> Output Length   </span>┃<span style=\"font-weight: bold\"> Sample Length   </span>┃\n",
       "┡━━━━━━━━━━━━━━━╇━━━━━━━━━━━━━━━━━╇━━━━━━━━━━━━━━━━━┩\n",
       "│ 2.00 ∈ [2, 2] │ 26.64 ∈ [2, 64] │ 28.64 ∈ [4, 66] │\n",
       "└───────────────┴─────────────────┴─────────────────┘\n",
       "</pre>\n"
      ],
      "text/plain": [
       "\u001b[3m     Experience String Stats (mean ∈ [min, max])     \u001b[0m\n",
       "┏━━━━━━━━━━━━━━━┳━━━━━━━━━━━━━━━━━┳━━━━━━━━━━━━━━━━━┓\n",
       "┃\u001b[1m \u001b[0m\u001b[1mPrompt Length\u001b[0m\u001b[1m \u001b[0m┃\u001b[1m \u001b[0m\u001b[1mOutput Length  \u001b[0m\u001b[1m \u001b[0m┃\u001b[1m \u001b[0m\u001b[1mSample Length  \u001b[0m\u001b[1m \u001b[0m┃\n",
       "┡━━━━━━━━━━━━━━━╇━━━━━━━━━━━━━━━━━╇━━━━━━━━━━━━━━━━━┩\n",
       "│ 2.00 ∈ [2, 2] │ 26.64 ∈ [2, 64] │ 28.64 ∈ [4, 66] │\n",
       "└───────────────┴─────────────────┴─────────────────┘\n"
      ]
     },
     "metadata": {},
     "output_type": "display_data"
    },
    {
     "name": "stderr",
     "output_type": "stream",
     "text": [
      "[RANK 0] Starting training\n",
      "[RANK 0] Evaluating model\n",
      "[generation sweep 0/1 | eval batch 0/2]:   0%|          | 0/2 [00:00<?, ?it/s]You're using a GPT2TokenizerFast tokenizer. Please note that with a fast tokenizer, using the `__call__` method is faster than using a method to encode the text followed by a call to the `pad` method to get a padded encoding.\n",
      "[generation sweep 1/1 | eval batch 2/2]: 100%|██████████| 2/2 [00:24<00:00, 12.36s/it]\n",
      "[RANK 0] Summarizing evaluation\n"
     ]
    },
    {
     "data": {
      "text/html": [
       "<pre style=\"white-space:pre;overflow-x:auto;line-height:normal;font-family:Menlo,'DejaVu Sans Mono',consolas,'Courier New',monospace\"><span style=\"font-style: italic\">                                                   Evaluation #0                                                   </span>\n",
       "┏━━━━━━━━━━━━━━━━━━━━━━━━━┳━━━━━━━━━━━━━━━━━━━━━━━━━━━━━━━━━━━━━━━━━━━━━━━━━━━━━━━━━━━━━━━━━━━━━━━━━━━━━━━━━━━━━━━┓\n",
       "┃<span style=\"font-weight: bold\"> prompt                  </span>┃<span style=\"font-weight: bold\"> output                                                                                </span>┃\n",
       "┡━━━━━━━━━━━━━━━━━━━━━━━━━╇━━━━━━━━━━━━━━━━━━━━━━━━━━━━━━━━━━━━━━━━━━━━━━━━━━━━━━━━━━━━━━━━━━━━━━━━━━━━━━━━━━━━━━━┩\n",
       "│ Hatsune Miku, Red Dress │  Quantico, 131232 131232 131232 131232 131232 131232 131232 131232 131232 131232      │\n",
       "│                         │ NiNiNi 131232 131232 131232 131232 11 131� 131� 131� 131� 131� 131� 131� 131� 131�    │\n",
       "│                         │ 131�                                                                                  │\n",
       "├─────────────────────────┼───────────────────────────────────────────────────────────────────────────────────────┤\n",
       "│ Hatsune Miku, Red Dress │  Quant Quant Quant Quant Quant Quant Quant Quant Quant Quant Quant Quant Quant Quant  │\n",
       "│                         │ Quant Quant Quant Quant Quant Quant Quant Quant Quant Quant Quant Quant Quant Quant   │\n",
       "│                         │ Quant Quant Quant Quant Quant Quant Quant Quant Quant Quant Quant Quant Quant Quant   │\n",
       "│                         │ Quant Quant Quant Quant Quant Quant Quant Quant Quant Quant Quant Quant Quant Quant   │\n",
       "├─────────────────────────┼───────────────────────────────────────────────────────────────────────────────────────┤\n",
       "│ Hatsune Miku, Red Dress │ OrYeti, 131 Academic Id, 131 Academic Id, 131 Academic Id, 131 Academic Id, 131       │\n",
       "│                         │ Academic Id Id 91, 131 Academic Id 131 Academic Id 131 Academic Id 131 Academic Id    │\n",
       "│                         │ 131 Academic Id 131 Academic Id 131 Academic Id 131 Academic Id 131 Academic Id 131   │\n",
       "│                         │ Academic Id                                                                           │\n",
       "└─────────────────────────┴───────────────────────────────────────────────────────────────────────────────────────┘\n",
       "</pre>\n"
      ],
      "text/plain": [
       "\u001b[3m                                                   Evaluation #0                                                   \u001b[0m\n",
       "┏━━━━━━━━━━━━━━━━━━━━━━━━━┳━━━━━━━━━━━━━━━━━━━━━━━━━━━━━━━━━━━━━━━━━━━━━━━━━━━━━━━━━━━━━━━━━━━━━━━━━━━━━━━━━━━━━━━┓\n",
       "┃\u001b[1m \u001b[0m\u001b[1mprompt                 \u001b[0m\u001b[1m \u001b[0m┃\u001b[1m \u001b[0m\u001b[1moutput                                                                               \u001b[0m\u001b[1m \u001b[0m┃\n",
       "┡━━━━━━━━━━━━━━━━━━━━━━━━━╇━━━━━━━━━━━━━━━━━━━━━━━━━━━━━━━━━━━━━━━━━━━━━━━━━━━━━━━━━━━━━━━━━━━━━━━━━━━━━━━━━━━━━━━┩\n",
       "│ Hatsune Miku, Red Dress │  Quantico, 131232 131232 131232 131232 131232 131232 131232 131232 131232 131232      │\n",
       "│                         │ NiNiNi 131232 131232 131232 131232 11 131� 131� 131� 131� 131� 131� 131� 131� 131�    │\n",
       "│                         │ 131�                                                                                  │\n",
       "├─────────────────────────┼───────────────────────────────────────────────────────────────────────────────────────┤\n",
       "│ Hatsune Miku, Red Dress │  Quant Quant Quant Quant Quant Quant Quant Quant Quant Quant Quant Quant Quant Quant  │\n",
       "│                         │ Quant Quant Quant Quant Quant Quant Quant Quant Quant Quant Quant Quant Quant Quant   │\n",
       "│                         │ Quant Quant Quant Quant Quant Quant Quant Quant Quant Quant Quant Quant Quant Quant   │\n",
       "│                         │ Quant Quant Quant Quant Quant Quant Quant Quant Quant Quant Quant Quant Quant Quant   │\n",
       "├─────────────────────────┼───────────────────────────────────────────────────────────────────────────────────────┤\n",
       "│ Hatsune Miku, Red Dress │ OrYeti, 131 Academic Id, 131 Academic Id, 131 Academic Id, 131 Academic Id, 131       │\n",
       "│                         │ Academic Id Id 91, 131 Academic Id 131 Academic Id 131 Academic Id 131 Academic Id    │\n",
       "│                         │ 131 Academic Id 131 Academic Id 131 Academic Id 131 Academic Id 131 Academic Id 131   │\n",
       "│                         │ Academic Id                                                                           │\n",
       "└─────────────────────────┴───────────────────────────────────────────────────────────────────────────────────────┘\n"
      ]
     },
     "metadata": {},
     "output_type": "display_data"
    },
    {
     "name": "stderr",
     "output_type": "stream",
     "text": [
      "[losses/loss: 5.75 | losses/loss_q: 0.28 | losses/loss_v: 0.03 | losses/loss_cql: 18.98 | losses/loss_awac: 3.54]:  10%|▉         | 99/1000 [00:12<01:42,  8.79it/s][RANK 0] Evaluating model\n",
      "[generation sweep 1/1 | eval batch 2/2]: 100%|██████████| 2/2 [00:01<00:00,  1.74it/s]\n",
      "[RANK 0] Summarizing evaluation\n"
     ]
    },
    {
     "data": {
      "text/html": [
       "<pre style=\"white-space:pre;overflow-x:auto;line-height:normal;font-family:Menlo,'DejaVu Sans Mono',consolas,'Courier New',monospace\"><span style=\"font-style: italic\">                                                   Evaluation #1                                                   </span>\n",
       "┏━━━━━━━━━━━━━━━━━━━━━━━━━┳━━━━━━━━━━━━━━━━━━━━━━━━━━━━━━━━━━━━━━━━━━━━━━━━━━━━━━━━━━━━━━━━━━━━━━━━━━━━━━━━━━━━━━━┓\n",
       "┃<span style=\"font-weight: bold\"> prompt                  </span>┃<span style=\"font-weight: bold\"> output                                                                                </span>┃\n",
       "┡━━━━━━━━━━━━━━━━━━━━━━━━━╇━━━━━━━━━━━━━━━━━━━━━━━━━━━━━━━━━━━━━━━━━━━━━━━━━━━━━━━━━━━━━━━━━━━━━━━━━━━━━━━━━━━━━━━┩\n",
       "│ Hatsune Miku, Red Dress │ , red silk, 4k digital, matte painting, nouveau, 8k, vibrant color scheme,            │\n",
       "│                         │ illustration, 1K, 8K hd, 8k tutorial, illustration, 4k, matte color concept,          │\n",
       "│                         │ artstation, trending on artstation, digital concept                                   │\n",
       "├─────────────────────────┼───────────────────────────────────────────────────────────────────────────────────────┤\n",
       "│ Hatsune Miku, Red Dress │ , Black &amp; White, by Shiguro                                                           │\n",
       "│                         │ Addictive by Ghibli, Tomoya Watanabe, 人, Bifrost, ArtStation, CGSociety, The         │\n",
       "│                         │ ArtStation, CGSociety, HD wallpaper, ArtStation, 4k resolution                        │\n",
       "├─────────────────────────┼───────────────────────────────────────────────────────────────────────────────────────┤\n",
       "│ Hatsune Miku, Red Dress │  Queen, Uki Shichibukh, Leopold Shichibukh, Rembrandt, Giorgio Arvidsson, Anton       │\n",
       "│                         │ Fadeev, Peter Mohrbacher, Jens Hamann, Ilya Kalinov, Robert Zweig.                    │\n",
       "└─────────────────────────┴───────────────────────────────────────────────────────────────────────────────────────┘\n",
       "</pre>\n"
      ],
      "text/plain": [
       "\u001b[3m                                                   Evaluation #1                                                   \u001b[0m\n",
       "┏━━━━━━━━━━━━━━━━━━━━━━━━━┳━━━━━━━━━━━━━━━━━━━━━━━━━━━━━━━━━━━━━━━━━━━━━━━━━━━━━━━━━━━━━━━━━━━━━━━━━━━━━━━━━━━━━━━┓\n",
       "┃\u001b[1m \u001b[0m\u001b[1mprompt                 \u001b[0m\u001b[1m \u001b[0m┃\u001b[1m \u001b[0m\u001b[1moutput                                                                               \u001b[0m\u001b[1m \u001b[0m┃\n",
       "┡━━━━━━━━━━━━━━━━━━━━━━━━━╇━━━━━━━━━━━━━━━━━━━━━━━━━━━━━━━━━━━━━━━━━━━━━━━━━━━━━━━━━━━━━━━━━━━━━━━━━━━━━━━━━━━━━━━┩\n",
       "│ Hatsune Miku, Red Dress │ , red silk, 4k digital, matte painting, nouveau, 8k, vibrant color scheme,            │\n",
       "│                         │ illustration, 1K, 8K hd, 8k tutorial, illustration, 4k, matte color concept,          │\n",
       "│                         │ artstation, trending on artstation, digital concept                                   │\n",
       "├─────────────────────────┼───────────────────────────────────────────────────────────────────────────────────────┤\n",
       "│ Hatsune Miku, Red Dress │ , Black & White, by Shiguro                                                           │\n",
       "│                         │ Addictive by Ghibli, Tomoya Watanabe, 人, Bifrost, ArtStation, CGSociety, The         │\n",
       "│                         │ ArtStation, CGSociety, HD wallpaper, ArtStation, 4k resolution                        │\n",
       "├─────────────────────────┼───────────────────────────────────────────────────────────────────────────────────────┤\n",
       "│ Hatsune Miku, Red Dress │  Queen, Uki Shichibukh, Leopold Shichibukh, Rembrandt, Giorgio Arvidsson, Anton       │\n",
       "│                         │ Fadeev, Peter Mohrbacher, Jens Hamann, Ilya Kalinov, Robert Zweig.                    │\n",
       "└─────────────────────────┴───────────────────────────────────────────────────────────────────────────────────────┘\n"
      ]
     },
     "metadata": {},
     "output_type": "display_data"
    },
    {
     "name": "stderr",
     "output_type": "stream",
     "text": [
      "[losses/loss: 5.21 | losses/loss_q: 0.34 | losses/loss_v: 0.03 | losses/loss_cql: 17.50 | losses/loss_awac: 3.09]:  20%|█▉        | 199/1000 [00:25<01:33,  8.59it/s][RANK 0] Evaluating model\n",
      "[generation sweep 1/1 | eval batch 2/2]: 100%|██████████| 2/2 [00:01<00:00,  1.74it/s]\n",
      "[RANK 0] Summarizing evaluation\n"
     ]
    },
    {
     "data": {
      "text/html": [
       "<pre style=\"white-space:pre;overflow-x:auto;line-height:normal;font-family:Menlo,'DejaVu Sans Mono',consolas,'Courier New',monospace\"><span style=\"font-style: italic\">                                                   Evaluation #2                                                   </span>\n",
       "┏━━━━━━━━━━━━━━━━━━━━━━━━━┳━━━━━━━━━━━━━━━━━━━━━━━━━━━━━━━━━━━━━━━━━━━━━━━━━━━━━━━━━━━━━━━━━━━━━━━━━━━━━━━━━━━━━━━┓\n",
       "┃<span style=\"font-weight: bold\"> prompt                  </span>┃<span style=\"font-weight: bold\"> output                                                                                </span>┃\n",
       "┡━━━━━━━━━━━━━━━━━━━━━━━━━╇━━━━━━━━━━━━━━━━━━━━━━━━━━━━━━━━━━━━━━━━━━━━━━━━━━━━━━━━━━━━━━━━━━━━━━━━━━━━━━━━━━━━━━━┩\n",
       "│ Hatsune Miku, Red Dress │  Shred, White Art, Pink, Pink, Cinched, ArtStation, Squeak.                           │\n",
       "├─────────────────────────┼───────────────────────────────────────────────────────────────────────────────────────┤\n",
       "│ Hatsune Miku, Red Dress │ , Pink, pink, green, pink, pink, real life, made from old fashion, matte painting,    │\n",
       "│                         │ matte painting, oil paints, oil paints, pastel colors, ArtStation, pastel, artificial │\n",
       "│                         │ light, pastel                                                                         │\n",
       "├─────────────────────────┼───────────────────────────────────────────────────────────────────────────────────────┤\n",
       "│ Hatsune Miku, Red Dress │ , Black and White, ArtStation, Studio Ghibli, Kyoto, Studio Ghibli, CGSociety,        │\n",
       "│                         │ CGsociety, CGsociety logo, Studio Ghibli, studio ghibli, CGsociety, Ghibli,           │\n",
       "│                         │ ArtStation, Art                                                                       │\n",
       "└─────────────────────────┴───────────────────────────────────────────────────────────────────────────────────────┘\n",
       "</pre>\n"
      ],
      "text/plain": [
       "\u001b[3m                                                   Evaluation #2                                                   \u001b[0m\n",
       "┏━━━━━━━━━━━━━━━━━━━━━━━━━┳━━━━━━━━━━━━━━━━━━━━━━━━━━━━━━━━━━━━━━━━━━━━━━━━━━━━━━━━━━━━━━━━━━━━━━━━━━━━━━━━━━━━━━━┓\n",
       "┃\u001b[1m \u001b[0m\u001b[1mprompt                 \u001b[0m\u001b[1m \u001b[0m┃\u001b[1m \u001b[0m\u001b[1moutput                                                                               \u001b[0m\u001b[1m \u001b[0m┃\n",
       "┡━━━━━━━━━━━━━━━━━━━━━━━━━╇━━━━━━━━━━━━━━━━━━━━━━━━━━━━━━━━━━━━━━━━━━━━━━━━━━━━━━━━━━━━━━━━━━━━━━━━━━━━━━━━━━━━━━━┩\n",
       "│ Hatsune Miku, Red Dress │  Shred, White Art, Pink, Pink, Cinched, ArtStation, Squeak.                           │\n",
       "├─────────────────────────┼───────────────────────────────────────────────────────────────────────────────────────┤\n",
       "│ Hatsune Miku, Red Dress │ , Pink, pink, green, pink, pink, real life, made from old fashion, matte painting,    │\n",
       "│                         │ matte painting, oil paints, oil paints, pastel colors, ArtStation, pastel, artificial │\n",
       "│                         │ light, pastel                                                                         │\n",
       "├─────────────────────────┼───────────────────────────────────────────────────────────────────────────────────────┤\n",
       "│ Hatsune Miku, Red Dress │ , Black and White, ArtStation, Studio Ghibli, Kyoto, Studio Ghibli, CGSociety,        │\n",
       "│                         │ CGsociety, CGsociety logo, Studio Ghibli, studio ghibli, CGsociety, Ghibli,           │\n",
       "│                         │ ArtStation, Art                                                                       │\n",
       "└─────────────────────────┴───────────────────────────────────────────────────────────────────────────────────────┘\n"
      ]
     },
     "metadata": {},
     "output_type": "display_data"
    },
    {
     "name": "stderr",
     "output_type": "stream",
     "text": [
      "[losses/loss: 5.35 | losses/loss_q: 0.31 | losses/loss_v: 0.03 | losses/loss_cql: 17.29 | losses/loss_awac: 3.29]:  30%|██▉       | 299/1000 [00:38<01:20,  8.71it/s][RANK 0] Evaluating model\n",
      "[generation sweep 1/1 | eval batch 2/2]: 100%|██████████| 2/2 [00:01<00:00,  1.75it/s]\n",
      "[RANK 0] Summarizing evaluation\n"
     ]
    },
    {
     "data": {
      "text/html": [
       "<pre style=\"white-space:pre;overflow-x:auto;line-height:normal;font-family:Menlo,'DejaVu Sans Mono',consolas,'Courier New',monospace\"><span style=\"font-style: italic\">                                                   Evaluation #3                                                   </span>\n",
       "┏━━━━━━━━━━━━━━━━━━━━━━━━━┳━━━━━━━━━━━━━━━━━━━━━━━━━━━━━━━━━━━━━━━━━━━━━━━━━━━━━━━━━━━━━━━━━━━━━━━━━━━━━━━━━━━━━━━┓\n",
       "┃<span style=\"font-weight: bold\"> prompt                  </span>┃<span style=\"font-weight: bold\"> output                                                                                </span>┃\n",
       "┡━━━━━━━━━━━━━━━━━━━━━━━━━╇━━━━━━━━━━━━━━━━━━━━━━━━━━━━━━━━━━━━━━━━━━━━━━━━━━━━━━━━━━━━━━━━━━━━━━━━━━━━━━━━━━━━━━━┩\n",
       "│ Hatsune Miku, Red Dress │                                                                                       │\n",
       "├─────────────────────────┼───────────────────────────────────────────────────────────────────────────────────────┤\n",
       "│ Hatsune Miku, Red Dress │  Tokyo Studio, Studio Ghibli, Hi-Fructose, Studio S, Hi-Fructose, Hi-fructose,        │\n",
       "│                         │ Hi-overnight, Hi-Sudan, Hi-Soh, Hi, Hi, Hi, Hi, Hi, Hi, Hi,                           │\n",
       "├─────────────────────────┼───────────────────────────────────────────────────────────────────────────────────────┤\n",
       "│ Hatsune Miku, Red Dress │ er, White Shoe, Black, Theater, ArtStation, UHD, UHD, HD Art, Wallpaper HQ, UHD, 4K,  │\n",
       "│                         │ 4k, 4k Wallpaper, HD Art, ArtStation, CGSociety HQ, ArtStation,                       │\n",
       "└─────────────────────────┴───────────────────────────────────────────────────────────────────────────────────────┘\n",
       "</pre>\n"
      ],
      "text/plain": [
       "\u001b[3m                                                   Evaluation #3                                                   \u001b[0m\n",
       "┏━━━━━━━━━━━━━━━━━━━━━━━━━┳━━━━━━━━━━━━━━━━━━━━━━━━━━━━━━━━━━━━━━━━━━━━━━━━━━━━━━━━━━━━━━━━━━━━━━━━━━━━━━━━━━━━━━━┓\n",
       "┃\u001b[1m \u001b[0m\u001b[1mprompt                 \u001b[0m\u001b[1m \u001b[0m┃\u001b[1m \u001b[0m\u001b[1moutput                                                                               \u001b[0m\u001b[1m \u001b[0m┃\n",
       "┡━━━━━━━━━━━━━━━━━━━━━━━━━╇━━━━━━━━━━━━━━━━━━━━━━━━━━━━━━━━━━━━━━━━━━━━━━━━━━━━━━━━━━━━━━━━━━━━━━━━━━━━━━━━━━━━━━━┩\n",
       "│ Hatsune Miku, Red Dress │                                                                                       │\n",
       "├─────────────────────────┼───────────────────────────────────────────────────────────────────────────────────────┤\n",
       "│ Hatsune Miku, Red Dress │  Tokyo Studio, Studio Ghibli, Hi-Fructose, Studio S, Hi-Fructose, Hi-fructose,        │\n",
       "│                         │ Hi-overnight, Hi-Sudan, Hi-Soh, Hi, Hi, Hi, Hi, Hi, Hi, Hi,                           │\n",
       "├─────────────────────────┼───────────────────────────────────────────────────────────────────────────────────────┤\n",
       "│ Hatsune Miku, Red Dress │ er, White Shoe, Black, Theater, ArtStation, UHD, UHD, HD Art, Wallpaper HQ, UHD, 4K,  │\n",
       "│                         │ 4k, 4k Wallpaper, HD Art, ArtStation, CGSociety HQ, ArtStation,                       │\n",
       "└─────────────────────────┴───────────────────────────────────────────────────────────────────────────────────────┘\n"
      ]
     },
     "metadata": {},
     "output_type": "display_data"
    },
    {
     "name": "stderr",
     "output_type": "stream",
     "text": [
      "[losses/loss: 4.43 | losses/loss_q: 0.24 | losses/loss_v: 0.03 | losses/loss_cql: 15.91 | losses/loss_awac: 2.57]:  40%|███▉      | 399/1000 [00:51<01:09,  8.71it/s][RANK 0] Evaluating model\n",
      "[generation sweep 1/1 | eval batch 2/2]: 100%|██████████| 2/2 [00:01<00:00,  1.75it/s]\n",
      "[RANK 0] Summarizing evaluation\n"
     ]
    },
    {
     "data": {
      "text/html": [
       "<pre style=\"white-space:pre;overflow-x:auto;line-height:normal;font-family:Menlo,'DejaVu Sans Mono',consolas,'Courier New',monospace\"><span style=\"font-style: italic\">                                                   Evaluation #4                                                   </span>\n",
       "┏━━━━━━━━━━━━━━━━━━━━━━━━━┳━━━━━━━━━━━━━━━━━━━━━━━━━━━━━━━━━━━━━━━━━━━━━━━━━━━━━━━━━━━━━━━━━━━━━━━━━━━━━━━━━━━━━━━┓\n",
       "┃<span style=\"font-weight: bold\"> prompt                  </span>┃<span style=\"font-weight: bold\"> output                                                                                </span>┃\n",
       "┡━━━━━━━━━━━━━━━━━━━━━━━━━╇━━━━━━━━━━━━━━━━━━━━━━━━━━━━━━━━━━━━━━━━━━━━━━━━━━━━━━━━━━━━━━━━━━━━━━━━━━━━━━━━━━━━━━━┩\n",
       "│ Hatsune Miku, Red Dress │ , 4K, Hi-Fo, Hi-Stance, Hi-Fo, Hi-Cock, Hi-Fo, 4K, Hi-Stance, Hi Final, Hi-Fo, Hi     │\n",
       "│                         │ Final, 4K, Hi-Cock,                                                                   │\n",
       "├─────────────────────────┼───────────────────────────────────────────────────────────────────────────────────────┤\n",
       "│ Hatsune Miku, Red Dress │ , Black Dragon, Black Turtle, Portrait, ArtStation, HD, 4k, HD 4K, ArtStation HD,     │\n",
       "│                         │ ArtStation, Hi-fructose, The Artstation, 4K, Hi-Fructose, 4k, Hi-Fructose, Hi-        │\n",
       "├─────────────────────────┼───────────────────────────────────────────────────────────────────────────────────────┤\n",
       "│ Hatsune Miku, Red Dress │ , Hi-Bake, Hi-Bake, Hi Baking, Hi Baking, Hi, Hi, Hi, Hi, Hi, Hi, Hi, 4K, Hi,, Hi, Hi │\n",
       "│                         │ Shaking, Studio Ghibli by Takato Oda, CG                                              │\n",
       "└─────────────────────────┴───────────────────────────────────────────────────────────────────────────────────────┘\n",
       "</pre>\n"
      ],
      "text/plain": [
       "\u001b[3m                                                   Evaluation #4                                                   \u001b[0m\n",
       "┏━━━━━━━━━━━━━━━━━━━━━━━━━┳━━━━━━━━━━━━━━━━━━━━━━━━━━━━━━━━━━━━━━━━━━━━━━━━━━━━━━━━━━━━━━━━━━━━━━━━━━━━━━━━━━━━━━━┓\n",
       "┃\u001b[1m \u001b[0m\u001b[1mprompt                 \u001b[0m\u001b[1m \u001b[0m┃\u001b[1m \u001b[0m\u001b[1moutput                                                                               \u001b[0m\u001b[1m \u001b[0m┃\n",
       "┡━━━━━━━━━━━━━━━━━━━━━━━━━╇━━━━━━━━━━━━━━━━━━━━━━━━━━━━━━━━━━━━━━━━━━━━━━━━━━━━━━━━━━━━━━━━━━━━━━━━━━━━━━━━━━━━━━━┩\n",
       "│ Hatsune Miku, Red Dress │ , 4K, Hi-Fo, Hi-Stance, Hi-Fo, Hi-Cock, Hi-Fo, 4K, Hi-Stance, Hi Final, Hi-Fo, Hi     │\n",
       "│                         │ Final, 4K, Hi-Cock,                                                                   │\n",
       "├─────────────────────────┼───────────────────────────────────────────────────────────────────────────────────────┤\n",
       "│ Hatsune Miku, Red Dress │ , Black Dragon, Black Turtle, Portrait, ArtStation, HD, 4k, HD 4K, ArtStation HD,     │\n",
       "│                         │ ArtStation, Hi-fructose, The Artstation, 4K, Hi-Fructose, 4k, Hi-Fructose, Hi-        │\n",
       "├─────────────────────────┼───────────────────────────────────────────────────────────────────────────────────────┤\n",
       "│ Hatsune Miku, Red Dress │ , Hi-Bake, Hi-Bake, Hi Baking, Hi Baking, Hi, Hi, Hi, Hi, Hi, Hi, Hi, 4K, Hi,, Hi, Hi │\n",
       "│                         │ Shaking, Studio Ghibli by Takato Oda, CG                                              │\n",
       "└─────────────────────────┴───────────────────────────────────────────────────────────────────────────────────────┘\n"
      ]
     },
     "metadata": {},
     "output_type": "display_data"
    },
    {
     "name": "stderr",
     "output_type": "stream",
     "text": [
      "[losses/loss: 4.18 | losses/loss_q: 0.18 | losses/loss_v: 0.03 | losses/loss_cql: 15.92 | losses/loss_awac: 2.39]:  50%|████▉     | 499/1000 [01:04<00:56,  8.85it/s][RANK 0] Evaluating model\n",
      "[generation sweep 1/1 | eval batch 2/2]: 100%|██████████| 2/2 [00:01<00:00,  1.74it/s]\n",
      "[RANK 0] Summarizing evaluation\n"
     ]
    },
    {
     "data": {
      "text/html": [
       "<pre style=\"white-space:pre;overflow-x:auto;line-height:normal;font-family:Menlo,'DejaVu Sans Mono',consolas,'Courier New',monospace\"><span style=\"font-style: italic\">                                                   Evaluation #5                                                   </span>\n",
       "┏━━━━━━━━━━━━━━━━━━━━━━━━━┳━━━━━━━━━━━━━━━━━━━━━━━━━━━━━━━━━━━━━━━━━━━━━━━━━━━━━━━━━━━━━━━━━━━━━━━━━━━━━━━━━━━━━━━┓\n",
       "┃<span style=\"font-weight: bold\"> prompt                  </span>┃<span style=\"font-weight: bold\"> output                                                                                </span>┃\n",
       "┡━━━━━━━━━━━━━━━━━━━━━━━━━╇━━━━━━━━━━━━━━━━━━━━━━━━━━━━━━━━━━━━━━━━━━━━━━━━━━━━━━━━━━━━━━━━━━━━━━━━━━━━━━━━━━━━━━━┩\n",
       "│ Hatsune Miku, Red Dress │ , Black, Hi-Foam, Ukiyo-e, Hikyo fashion studio, 4v4, HD Art, style, 4mm, 4mm,        │\n",
       "│                         │ Hi-Foam, 4mm                                                                          │\n",
       "├─────────────────────────┼───────────────────────────────────────────────────────────────────────────────────────┤\n",
       "│ Hatsune Miku, Red Dress │ , Illustrated, 4, 4, 4, 4, 4, 4, 4, 4, 4, 4, 4, 4, 4, 4, 4, 4, 4, 4, 4, 4, 4, 4, 4,   │\n",
       "│                         │ 4, 4, 4, 4                                                                            │\n",
       "├─────────────────────────┼───────────────────────────────────────────────────────────────────────────────────────┤\n",
       "│ Hatsune Miku, Red Dress │ , Illustrated, Studio Ghibli Painting, Illustrated, 4i, Studio Ghibli, Hi-Fructose,   │\n",
       "│                         │ Hi-Fructose, Studio, Illustration, Hi-Fructose, Hi-quality, Hi-Fructose, Hi-quality,  │\n",
       "│                         │ Hi-quality,                                                                           │\n",
       "└─────────────────────────┴───────────────────────────────────────────────────────────────────────────────────────┘\n",
       "</pre>\n"
      ],
      "text/plain": [
       "\u001b[3m                                                   Evaluation #5                                                   \u001b[0m\n",
       "┏━━━━━━━━━━━━━━━━━━━━━━━━━┳━━━━━━━━━━━━━━━━━━━━━━━━━━━━━━━━━━━━━━━━━━━━━━━━━━━━━━━━━━━━━━━━━━━━━━━━━━━━━━━━━━━━━━━┓\n",
       "┃\u001b[1m \u001b[0m\u001b[1mprompt                 \u001b[0m\u001b[1m \u001b[0m┃\u001b[1m \u001b[0m\u001b[1moutput                                                                               \u001b[0m\u001b[1m \u001b[0m┃\n",
       "┡━━━━━━━━━━━━━━━━━━━━━━━━━╇━━━━━━━━━━━━━━━━━━━━━━━━━━━━━━━━━━━━━━━━━━━━━━━━━━━━━━━━━━━━━━━━━━━━━━━━━━━━━━━━━━━━━━━┩\n",
       "│ Hatsune Miku, Red Dress │ , Black, Hi-Foam, Ukiyo-e, Hikyo fashion studio, 4v4, HD Art, style, 4mm, 4mm,        │\n",
       "│                         │ Hi-Foam, 4mm                                                                          │\n",
       "├─────────────────────────┼───────────────────────────────────────────────────────────────────────────────────────┤\n",
       "│ Hatsune Miku, Red Dress │ , Illustrated, 4, 4, 4, 4, 4, 4, 4, 4, 4, 4, 4, 4, 4, 4, 4, 4, 4, 4, 4, 4, 4, 4, 4,   │\n",
       "│                         │ 4, 4, 4, 4                                                                            │\n",
       "├─────────────────────────┼───────────────────────────────────────────────────────────────────────────────────────┤\n",
       "│ Hatsune Miku, Red Dress │ , Illustrated, Studio Ghibli Painting, Illustrated, 4i, Studio Ghibli, Hi-Fructose,   │\n",
       "│                         │ Hi-Fructose, Studio, Illustration, Hi-Fructose, Hi-quality, Hi-Fructose, Hi-quality,  │\n",
       "│                         │ Hi-quality,                                                                           │\n",
       "└─────────────────────────┴───────────────────────────────────────────────────────────────────────────────────────┘\n"
      ]
     },
     "metadata": {},
     "output_type": "display_data"
    },
    {
     "name": "stderr",
     "output_type": "stream",
     "text": [
      "[losses/loss: 5.16 | losses/loss_q: 0.29 | losses/loss_v: 0.03 | losses/loss_cql: 16.87 | losses/loss_awac: 3.14]:  60%|█████▉    | 599/1000 [01:17<00:47,  8.47it/s][RANK 0] Evaluating model\n",
      "[generation sweep 1/1 | eval batch 2/2]: 100%|██████████| 2/2 [00:01<00:00,  1.74it/s]\n",
      "[RANK 0] Summarizing evaluation\n"
     ]
    },
    {
     "data": {
      "text/html": [
       "<pre style=\"white-space:pre;overflow-x:auto;line-height:normal;font-family:Menlo,'DejaVu Sans Mono',consolas,'Courier New',monospace\"><span style=\"font-style: italic\">                                                   Evaluation #6                                                   </span>\n",
       "┏━━━━━━━━━━━━━━━━━━━━━━━━━┳━━━━━━━━━━━━━━━━━━━━━━━━━━━━━━━━━━━━━━━━━━━━━━━━━━━━━━━━━━━━━━━━━━━━━━━━━━━━━━━━━━━━━━━┓\n",
       "┃<span style=\"font-weight: bold\"> prompt                  </span>┃<span style=\"font-weight: bold\"> output                                                                                </span>┃\n",
       "┡━━━━━━━━━━━━━━━━━━━━━━━━━╇━━━━━━━━━━━━━━━━━━━━━━━━━━━━━━━━━━━━━━━━━━━━━━━━━━━━━━━━━━━━━━━━━━━━━━━━━━━━━━━━━━━━━━━┩\n",
       "│ Hatsune Miku, Red Dress │ , White, Cherry, Pink, Pink, pink, Cherry, Cherry, Cherry, Cherry, Cherry, Cherry,    │\n",
       "│                         │ Cherry, Cherry, Cherry, Cherry, Cherry, Cherry, Cherry, Mandy, K.S.S.Y, Kinkaku,      │\n",
       "│                         │ Cherry, Cherry,                                                                       │\n",
       "├─────────────────────────┼───────────────────────────────────────────────────────────────────────────────────────┤\n",
       "│ Hatsune Miku, Red Dress │ , Ghibli, Hiis, Hiishikoto, Hiishin, Hiis, Hijih, Hiikyoto, Hijimato, Hi, Hi, Hi, Hi, │\n",
       "│                         │ Hi, Hi,, Hi, Hi, Hi, Hi, Hi,                                                          │\n",
       "├─────────────────────────┼───────────────────────────────────────────────────────────────────────────────────────┤\n",
       "│ Hatsune Miku, Red Dress │ , Cherry Cactus, Hi-Pitch, Hi-Fructose, Hi-Watt, Hi-Fructose, Hi-Yay, Hi-Fructose,    │\n",
       "│                         │ High-quality, high-quality                                                            │\n",
       "└─────────────────────────┴───────────────────────────────────────────────────────────────────────────────────────┘\n",
       "</pre>\n"
      ],
      "text/plain": [
       "\u001b[3m                                                   Evaluation #6                                                   \u001b[0m\n",
       "┏━━━━━━━━━━━━━━━━━━━━━━━━━┳━━━━━━━━━━━━━━━━━━━━━━━━━━━━━━━━━━━━━━━━━━━━━━━━━━━━━━━━━━━━━━━━━━━━━━━━━━━━━━━━━━━━━━━┓\n",
       "┃\u001b[1m \u001b[0m\u001b[1mprompt                 \u001b[0m\u001b[1m \u001b[0m┃\u001b[1m \u001b[0m\u001b[1moutput                                                                               \u001b[0m\u001b[1m \u001b[0m┃\n",
       "┡━━━━━━━━━━━━━━━━━━━━━━━━━╇━━━━━━━━━━━━━━━━━━━━━━━━━━━━━━━━━━━━━━━━━━━━━━━━━━━━━━━━━━━━━━━━━━━━━━━━━━━━━━━━━━━━━━━┩\n",
       "│ Hatsune Miku, Red Dress │ , White, Cherry, Pink, Pink, pink, Cherry, Cherry, Cherry, Cherry, Cherry, Cherry,    │\n",
       "│                         │ Cherry, Cherry, Cherry, Cherry, Cherry, Cherry, Cherry, Mandy, K.S.S.Y, Kinkaku,      │\n",
       "│                         │ Cherry, Cherry,                                                                       │\n",
       "├─────────────────────────┼───────────────────────────────────────────────────────────────────────────────────────┤\n",
       "│ Hatsune Miku, Red Dress │ , Ghibli, Hiis, Hiishikoto, Hiishin, Hiis, Hijih, Hiikyoto, Hijimato, Hi, Hi, Hi, Hi, │\n",
       "│                         │ Hi, Hi,, Hi, Hi, Hi, Hi, Hi,                                                          │\n",
       "├─────────────────────────┼───────────────────────────────────────────────────────────────────────────────────────┤\n",
       "│ Hatsune Miku, Red Dress │ , Cherry Cactus, Hi-Pitch, Hi-Fructose, Hi-Watt, Hi-Fructose, Hi-Yay, Hi-Fructose,    │\n",
       "│                         │ High-quality, high-quality                                                            │\n",
       "└─────────────────────────┴───────────────────────────────────────────────────────────────────────────────────────┘\n"
      ]
     },
     "metadata": {},
     "output_type": "display_data"
    },
    {
     "name": "stderr",
     "output_type": "stream",
     "text": [
      "[losses/loss: 4.61 | losses/loss_q: 0.47 | losses/loss_v: 0.04 | losses/loss_cql: 14.56 | losses/loss_awac: 2.65]:  70%|██████▉   | 699/1000 [01:30<00:33,  8.88it/s][RANK 0] Evaluating model\n",
      "[generation sweep 1/1 | eval batch 2/2]: 100%|██████████| 2/2 [00:01<00:00,  1.75it/s]\n",
      "[RANK 0] Summarizing evaluation\n"
     ]
    },
    {
     "data": {
      "text/html": [
       "<pre style=\"white-space:pre;overflow-x:auto;line-height:normal;font-family:Menlo,'DejaVu Sans Mono',consolas,'Courier New',monospace\"><span style=\"font-style: italic\">                                                   Evaluation #7                                                   </span>\n",
       "┏━━━━━━━━━━━━━━━━━━━━━━━━━┳━━━━━━━━━━━━━━━━━━━━━━━━━━━━━━━━━━━━━━━━━━━━━━━━━━━━━━━━━━━━━━━━━━━━━━━━━━━━━━━━━━━━━━━┓\n",
       "┃<span style=\"font-weight: bold\"> prompt                  </span>┃<span style=\"font-weight: bold\"> output                                                                                </span>┃\n",
       "┡━━━━━━━━━━━━━━━━━━━━━━━━━╇━━━━━━━━━━━━━━━━━━━━━━━━━━━━━━━━━━━━━━━━━━━━━━━━━━━━━━━━━━━━━━━━━━━━━━━━━━━━━━━━━━━━━━━┩\n",
       "│ Hatsune Miku, Red Dress │ , 4k digital illustration, ArtStation, CGsociety, realistic, realistic, realistic     │\n",
       "│                         │ character fashion, artstation, CGsociety, realistic, realistic clothing, realistic    │\n",
       "│                         │ face, realistic clothes, realistic clothing, realistic clothing, realistic clothing,  │\n",
       "│                         │ realistic, realistic, realistic, realistic,                                           │\n",
       "├─────────────────────────┼───────────────────────────────────────────────────────────────────────────────────────┤\n",
       "│ Hatsune Miku, Red Dress │ , Black, Cherry, Hi-Fructose, Hi-Pekos, Hi-Fi, Hi-Fi, Hi-society, Hi-Fi, Hi-Fi,       │\n",
       "│                         │ Hi-society, Hi, Futuristic, Hi-Fi, Hi-Fi, Hi                                          │\n",
       "├─────────────────────────┼───────────────────────────────────────────────────────────────────────────────────────┤\n",
       "│ Hatsune Miku, Red Dress │ , realistic face, 4k ukihama, artstation, cgsociety, nouveau, 4k, CGsociety.          │\n",
       "└─────────────────────────┴───────────────────────────────────────────────────────────────────────────────────────┘\n",
       "</pre>\n"
      ],
      "text/plain": [
       "\u001b[3m                                                   Evaluation #7                                                   \u001b[0m\n",
       "┏━━━━━━━━━━━━━━━━━━━━━━━━━┳━━━━━━━━━━━━━━━━━━━━━━━━━━━━━━━━━━━━━━━━━━━━━━━━━━━━━━━━━━━━━━━━━━━━━━━━━━━━━━━━━━━━━━━┓\n",
       "┃\u001b[1m \u001b[0m\u001b[1mprompt                 \u001b[0m\u001b[1m \u001b[0m┃\u001b[1m \u001b[0m\u001b[1moutput                                                                               \u001b[0m\u001b[1m \u001b[0m┃\n",
       "┡━━━━━━━━━━━━━━━━━━━━━━━━━╇━━━━━━━━━━━━━━━━━━━━━━━━━━━━━━━━━━━━━━━━━━━━━━━━━━━━━━━━━━━━━━━━━━━━━━━━━━━━━━━━━━━━━━━┩\n",
       "│ Hatsune Miku, Red Dress │ , 4k digital illustration, ArtStation, CGsociety, realistic, realistic, realistic     │\n",
       "│                         │ character fashion, artstation, CGsociety, realistic, realistic clothing, realistic    │\n",
       "│                         │ face, realistic clothes, realistic clothing, realistic clothing, realistic clothing,  │\n",
       "│                         │ realistic, realistic, realistic, realistic,                                           │\n",
       "├─────────────────────────┼───────────────────────────────────────────────────────────────────────────────────────┤\n",
       "│ Hatsune Miku, Red Dress │ , Black, Cherry, Hi-Fructose, Hi-Pekos, Hi-Fi, Hi-Fi, Hi-society, Hi-Fi, Hi-Fi,       │\n",
       "│                         │ Hi-society, Hi, Futuristic, Hi-Fi, Hi-Fi, Hi                                          │\n",
       "├─────────────────────────┼───────────────────────────────────────────────────────────────────────────────────────┤\n",
       "│ Hatsune Miku, Red Dress │ , realistic face, 4k ukihama, artstation, cgsociety, nouveau, 4k, CGsociety.          │\n",
       "└─────────────────────────┴───────────────────────────────────────────────────────────────────────────────────────┘\n"
      ]
     },
     "metadata": {},
     "output_type": "display_data"
    },
    {
     "name": "stderr",
     "output_type": "stream",
     "text": [
      "[losses/loss: 4.02 | losses/loss_q: 0.19 | losses/loss_v: 0.03 | losses/loss_cql: 13.80 | losses/loss_awac: 2.42]:  80%|███████▉  | 799/1000 [01:43<00:23,  8.52it/s][RANK 0] Evaluating model\n",
      "[generation sweep 1/1 | eval batch 2/2]: 100%|██████████| 2/2 [00:01<00:00,  1.75it/s]\n",
      "[RANK 0] Summarizing evaluation\n"
     ]
    },
    {
     "data": {
      "text/html": [
       "<pre style=\"white-space:pre;overflow-x:auto;line-height:normal;font-family:Menlo,'DejaVu Sans Mono',consolas,'Courier New',monospace\"><span style=\"font-style: italic\">                                                   Evaluation #8                                                   </span>\n",
       "┏━━━━━━━━━━━━━━━━━━━━━━━━━┳━━━━━━━━━━━━━━━━━━━━━━━━━━━━━━━━━━━━━━━━━━━━━━━━━━━━━━━━━━━━━━━━━━━━━━━━━━━━━━━━━━━━━━━┓\n",
       "┃<span style=\"font-weight: bold\"> prompt                  </span>┃<span style=\"font-weight: bold\"> output                                                                                </span>┃\n",
       "┡━━━━━━━━━━━━━━━━━━━━━━━━━╇━━━━━━━━━━━━━━━━━━━━━━━━━━━━━━━━━━━━━━━━━━━━━━━━━━━━━━━━━━━━━━━━━━━━━━━━━━━━━━━━━━━━━━━┩\n",
       "│ Hatsune Miku, Red Dress │ , Studio S.W.I.I.L., CGsociety, colors, ArtStation, realism, oil paints, anime,       │\n",
       "│                         │ CGsociety                                                                             │\n",
       "├─────────────────────────┼───────────────────────────────────────────────────────────────────────────────────────┤\n",
       "│ Hatsune Miku, Red Dress │ , Cinco dei portrait, artstation, CGsociety, CGsociety HQ, Cinco dei, Hi-Fructose,    │\n",
       "│                         │ Hasselblad, Hi-Fructose, Hassel Myers, Hasan, Hi-Fructose, Hi-P                       │\n",
       "├─────────────────────────┼───────────────────────────────────────────────────────────────────────────────────────┤\n",
       "│ Hatsune Miku, Red Dress │ , Black, 4mm, ArtStation, CGsociety, Hi-Fructose, Trending at ArtStation, CGSociety,  │\n",
       "│                         │ Trending, pastel colors, artstation HQ, CGsociety.                                    │\n",
       "└─────────────────────────┴───────────────────────────────────────────────────────────────────────────────────────┘\n",
       "</pre>\n"
      ],
      "text/plain": [
       "\u001b[3m                                                   Evaluation #8                                                   \u001b[0m\n",
       "┏━━━━━━━━━━━━━━━━━━━━━━━━━┳━━━━━━━━━━━━━━━━━━━━━━━━━━━━━━━━━━━━━━━━━━━━━━━━━━━━━━━━━━━━━━━━━━━━━━━━━━━━━━━━━━━━━━━┓\n",
       "┃\u001b[1m \u001b[0m\u001b[1mprompt                 \u001b[0m\u001b[1m \u001b[0m┃\u001b[1m \u001b[0m\u001b[1moutput                                                                               \u001b[0m\u001b[1m \u001b[0m┃\n",
       "┡━━━━━━━━━━━━━━━━━━━━━━━━━╇━━━━━━━━━━━━━━━━━━━━━━━━━━━━━━━━━━━━━━━━━━━━━━━━━━━━━━━━━━━━━━━━━━━━━━━━━━━━━━━━━━━━━━━┩\n",
       "│ Hatsune Miku, Red Dress │ , Studio S.W.I.I.L., CGsociety, colors, ArtStation, realism, oil paints, anime,       │\n",
       "│                         │ CGsociety                                                                             │\n",
       "├─────────────────────────┼───────────────────────────────────────────────────────────────────────────────────────┤\n",
       "│ Hatsune Miku, Red Dress │ , Cinco dei portrait, artstation, CGsociety, CGsociety HQ, Cinco dei, Hi-Fructose,    │\n",
       "│                         │ Hasselblad, Hi-Fructose, Hassel Myers, Hasan, Hi-Fructose, Hi-P                       │\n",
       "├─────────────────────────┼───────────────────────────────────────────────────────────────────────────────────────┤\n",
       "│ Hatsune Miku, Red Dress │ , Black, 4mm, ArtStation, CGsociety, Hi-Fructose, Trending at ArtStation, CGSociety,  │\n",
       "│                         │ Trending, pastel colors, artstation HQ, CGsociety.                                    │\n",
       "└─────────────────────────┴───────────────────────────────────────────────────────────────────────────────────────┘\n"
      ]
     },
     "metadata": {},
     "output_type": "display_data"
    },
    {
     "name": "stderr",
     "output_type": "stream",
     "text": [
      "[losses/loss: 4.74 | losses/loss_q: 0.30 | losses/loss_v: 0.03 | losses/loss_cql: 14.99 | losses/loss_awac: 2.91]:  90%|████████▉ | 899/1000 [01:56<00:11,  8.84it/s][RANK 0] Evaluating model\n",
      "[generation sweep 1/1 | eval batch 2/2]: 100%|██████████| 2/2 [00:01<00:00,  1.73it/s]\n",
      "[RANK 0] Summarizing evaluation\n"
     ]
    },
    {
     "data": {
      "text/html": [
       "<pre style=\"white-space:pre;overflow-x:auto;line-height:normal;font-family:Menlo,'DejaVu Sans Mono',consolas,'Courier New',monospace\"><span style=\"font-style: italic\">                                                   Evaluation #9                                                   </span>\n",
       "┏━━━━━━━━━━━━━━━━━━━━━━━━━┳━━━━━━━━━━━━━━━━━━━━━━━━━━━━━━━━━━━━━━━━━━━━━━━━━━━━━━━━━━━━━━━━━━━━━━━━━━━━━━━━━━━━━━━┓\n",
       "┃<span style=\"font-weight: bold\"> prompt                  </span>┃<span style=\"font-weight: bold\"> output                                                                                </span>┃\n",
       "┡━━━━━━━━━━━━━━━━━━━━━━━━━╇━━━━━━━━━━━━━━━━━━━━━━━━━━━━━━━━━━━━━━━━━━━━━━━━━━━━━━━━━━━━━━━━━━━━━━━━━━━━━━━━━━━━━━━┩\n",
       "│ Hatsune Miku, Red Dress │ , CKG, Moebius, 4K, art, nouveau, artstation, CGSociety, CGSociety by Studio Ghibli,  │\n",
       "│                         │ Hi-Fructose, ArtStation, ArtStation, CGSociety, 4K,                                   │\n",
       "├─────────────────────────┼───────────────────────────────────────────────────────────────────────────────────────┤\n",
       "│ Hatsune Miku, Red Dress │ , Socks, Sockshorn, Socks, Shinkai, Socks, Sock, Socks, Shinkai, Socks, Shinkai,      │\n",
       "│                         │ Socksh, Shinkai, Shinkai, Shoes, Shinki, 4K                                           │\n",
       "├─────────────────────────┼───────────────────────────────────────────────────────────────────────────────────────┤\n",
       "│ Hatsune Miku, Red Dress │  and a full face suit, an anime movie, a portrait, style of John C. C. Ellis, by J.   │\n",
       "│                         │ C. Leyendecke, anton fadeev, ross tran, anato finnstark, nuri iyem, art               │\n",
       "└─────────────────────────┴───────────────────────────────────────────────────────────────────────────────────────┘\n",
       "</pre>\n"
      ],
      "text/plain": [
       "\u001b[3m                                                   Evaluation #9                                                   \u001b[0m\n",
       "┏━━━━━━━━━━━━━━━━━━━━━━━━━┳━━━━━━━━━━━━━━━━━━━━━━━━━━━━━━━━━━━━━━━━━━━━━━━━━━━━━━━━━━━━━━━━━━━━━━━━━━━━━━━━━━━━━━━┓\n",
       "┃\u001b[1m \u001b[0m\u001b[1mprompt                 \u001b[0m\u001b[1m \u001b[0m┃\u001b[1m \u001b[0m\u001b[1moutput                                                                               \u001b[0m\u001b[1m \u001b[0m┃\n",
       "┡━━━━━━━━━━━━━━━━━━━━━━━━━╇━━━━━━━━━━━━━━━━━━━━━━━━━━━━━━━━━━━━━━━━━━━━━━━━━━━━━━━━━━━━━━━━━━━━━━━━━━━━━━━━━━━━━━━┩\n",
       "│ Hatsune Miku, Red Dress │ , CKG, Moebius, 4K, art, nouveau, artstation, CGSociety, CGSociety by Studio Ghibli,  │\n",
       "│                         │ Hi-Fructose, ArtStation, ArtStation, CGSociety, 4K,                                   │\n",
       "├─────────────────────────┼───────────────────────────────────────────────────────────────────────────────────────┤\n",
       "│ Hatsune Miku, Red Dress │ , Socks, Sockshorn, Socks, Shinkai, Socks, Sock, Socks, Shinkai, Socks, Shinkai,      │\n",
       "│                         │ Socksh, Shinkai, Shinkai, Shoes, Shinki, 4K                                           │\n",
       "├─────────────────────────┼───────────────────────────────────────────────────────────────────────────────────────┤\n",
       "│ Hatsune Miku, Red Dress │  and a full face suit, an anime movie, a portrait, style of John C. C. Ellis, by J.   │\n",
       "│                         │ C. Leyendecke, anton fadeev, ross tran, anato finnstark, nuri iyem, art               │\n",
       "└─────────────────────────┴───────────────────────────────────────────────────────────────────────────────────────┘\n"
      ]
     },
     "metadata": {},
     "output_type": "display_data"
    },
    {
     "name": "stderr",
     "output_type": "stream",
     "text": [
      "[losses/loss: 4.04 | losses/loss_q: 0.32 | losses/loss_v: 0.05 | losses/loss_cql: 13.64 | losses/loss_awac: 2.30]: 100%|█████████▉| 999/1000 [02:09<00:00,  8.48it/s][RANK 0] Evaluating model\n",
      "[generation sweep 1/1 | eval batch 2/2]: 100%|██████████| 2/2 [00:01<00:00,  1.69it/s]\n",
      "[RANK 0] Summarizing evaluation\n"
     ]
    },
    {
     "data": {
      "text/html": [
       "<pre style=\"white-space:pre;overflow-x:auto;line-height:normal;font-family:Menlo,'DejaVu Sans Mono',consolas,'Courier New',monospace\"><span style=\"font-style: italic\">                                                  Evaluation #10                                                   </span>\n",
       "┏━━━━━━━━━━━━━━━━━━━━━━━━━┳━━━━━━━━━━━━━━━━━━━━━━━━━━━━━━━━━━━━━━━━━━━━━━━━━━━━━━━━━━━━━━━━━━━━━━━━━━━━━━━━━━━━━━━┓\n",
       "┃<span style=\"font-weight: bold\"> prompt                  </span>┃<span style=\"font-weight: bold\"> output                                                                                </span>┃\n",
       "┡━━━━━━━━━━━━━━━━━━━━━━━━━╇━━━━━━━━━━━━━━━━━━━━━━━━━━━━━━━━━━━━━━━━━━━━━━━━━━━━━━━━━━━━━━━━━━━━━━━━━━━━━━━━━━━━━━━┩\n",
       "│ Hatsune Miku, Red Dress │ , Black Red, Gold, Art of the Neon, 4K, Hi-Fructose, CGSociety, CGsociety, CG, Art of │\n",
       "│                         │ the Neon, CGSociety, Hi-Fructose, CGSociety, Hi-Fructose, Art                         │\n",
       "├─────────────────────────┼───────────────────────────────────────────────────────────────────────────────────────┤\n",
       "│ Hatsune Miku, Red Dress │  of an Angel, inks, Illustration, Illustrated, detailed, 4K, 4K UHD, Illustration,    │\n",
       "│                         │ Illustration of a beautiful person,, a beautiful person, a cute, cute, cute,          │\n",
       "│                         │ adorable, Cute, Cute, Cute,                                                           │\n",
       "├─────────────────────────┼───────────────────────────────────────────────────────────────────────────────────────┤\n",
       "│ Hatsune Miku, Red Dress │ , HD art, Hi-Fructose art, HD photography, Hi-Fructose Art, The art of high-quality   │\n",
       "│                         │ art, HD CG, detailed and detailed, full-color, Hi-Fructose art, Art of the rainbow,   │\n",
       "│                         │ realistic and realistic, Hi-F                                                         │\n",
       "└─────────────────────────┴───────────────────────────────────────────────────────────────────────────────────────┘\n",
       "</pre>\n"
      ],
      "text/plain": [
       "\u001b[3m                                                  Evaluation #10                                                   \u001b[0m\n",
       "┏━━━━━━━━━━━━━━━━━━━━━━━━━┳━━━━━━━━━━━━━━━━━━━━━━━━━━━━━━━━━━━━━━━━━━━━━━━━━━━━━━━━━━━━━━━━━━━━━━━━━━━━━━━━━━━━━━━┓\n",
       "┃\u001b[1m \u001b[0m\u001b[1mprompt                 \u001b[0m\u001b[1m \u001b[0m┃\u001b[1m \u001b[0m\u001b[1moutput                                                                               \u001b[0m\u001b[1m \u001b[0m┃\n",
       "┡━━━━━━━━━━━━━━━━━━━━━━━━━╇━━━━━━━━━━━━━━━━━━━━━━━━━━━━━━━━━━━━━━━━━━━━━━━━━━━━━━━━━━━━━━━━━━━━━━━━━━━━━━━━━━━━━━━┩\n",
       "│ Hatsune Miku, Red Dress │ , Black Red, Gold, Art of the Neon, 4K, Hi-Fructose, CGSociety, CGsociety, CG, Art of │\n",
       "│                         │ the Neon, CGSociety, Hi-Fructose, CGSociety, Hi-Fructose, Art                         │\n",
       "├─────────────────────────┼───────────────────────────────────────────────────────────────────────────────────────┤\n",
       "│ Hatsune Miku, Red Dress │  of an Angel, inks, Illustration, Illustrated, detailed, 4K, 4K UHD, Illustration,    │\n",
       "│                         │ Illustration of a beautiful person,, a beautiful person, a cute, cute, cute,          │\n",
       "│                         │ adorable, Cute, Cute, Cute,                                                           │\n",
       "├─────────────────────────┼───────────────────────────────────────────────────────────────────────────────────────┤\n",
       "│ Hatsune Miku, Red Dress │ , HD art, Hi-Fructose art, HD photography, Hi-Fructose Art, The art of high-quality   │\n",
       "│                         │ art, HD CG, detailed and detailed, full-color, Hi-Fructose art, Art of the rainbow,   │\n",
       "│                         │ realistic and realistic, Hi-F                                                         │\n",
       "└─────────────────────────┴───────────────────────────────────────────────────────────────────────────────────────┘\n"
      ]
     },
     "metadata": {},
     "output_type": "display_data"
    },
    {
     "name": "stderr",
     "output_type": "stream",
     "text": [
      "[losses/loss: 4.68 | losses/loss_q: 0.34 | losses/loss_v: 0.05 | losses/loss_cql: 15.29 | losses/loss_awac: 2.76]: 100%|██████████| 1000/1000 [02:20<00:00,  3.36s/it][RANK 0] Evaluating model\n",
      "[generation sweep 1/1 | eval batch 2/2]: 100%|██████████| 2/2 [00:01<00:00,  1.73it/s]\n",
      "[RANK 0] Summarizing evaluation\n"
     ]
    },
    {
     "data": {
      "text/html": [
       "<pre style=\"white-space:pre;overflow-x:auto;line-height:normal;font-family:Menlo,'DejaVu Sans Mono',consolas,'Courier New',monospace\"><span style=\"font-style: italic\">                                                  Evaluation #11                                                   </span>\n",
       "┏━━━━━━━━━━━━━━━━━━━━━━━━━┳━━━━━━━━━━━━━━━━━━━━━━━━━━━━━━━━━━━━━━━━━━━━━━━━━━━━━━━━━━━━━━━━━━━━━━━━━━━━━━━━━━━━━━━┓\n",
       "┃<span style=\"font-weight: bold\"> prompt                  </span>┃<span style=\"font-weight: bold\"> output                                                                                </span>┃\n",
       "┡━━━━━━━━━━━━━━━━━━━━━━━━━╇━━━━━━━━━━━━━━━━━━━━━━━━━━━━━━━━━━━━━━━━━━━━━━━━━━━━━━━━━━━━━━━━━━━━━━━━━━━━━━━━━━━━━━━┩\n",
       "│ Hatsune Miku, Red Dress │  of the Dragon, the Dragon, the Blizzard of light, and the blue sky, of the world, in │\n",
       "│                         │ the style of the fantasy art.                                                         │\n",
       "├─────────────────────────┼───────────────────────────────────────────────────────────────────────────────────────┤\n",
       "│ Hatsune Miku, Red Dress │ , blue bliks, blue-ish, with pink, pinky, and green, with a look of hope on the face. │\n",
       "│                         │ The colors of this look of hope is in the color pink, and the face is as bright as    │\n",
       "│                         │ the clouds, and the clouds are a                                                      │\n",
       "├─────────────────────────┼───────────────────────────────────────────────────────────────────────────────────────┤\n",
       "│ Hatsune Miku, Red Dress │ , Cinci, Cinquei, Cinquei of the universe, Cinquei of the future, 4k, Hi-Fructose,    │\n",
       "│                         │ Cinquei of the past, HD Art, full-stain, Cinquei of the                               │\n",
       "└─────────────────────────┴───────────────────────────────────────────────────────────────────────────────────────┘\n",
       "</pre>\n"
      ],
      "text/plain": [
       "\u001b[3m                                                  Evaluation #11                                                   \u001b[0m\n",
       "┏━━━━━━━━━━━━━━━━━━━━━━━━━┳━━━━━━━━━━━━━━━━━━━━━━━━━━━━━━━━━━━━━━━━━━━━━━━━━━━━━━━━━━━━━━━━━━━━━━━━━━━━━━━━━━━━━━━┓\n",
       "┃\u001b[1m \u001b[0m\u001b[1mprompt                 \u001b[0m\u001b[1m \u001b[0m┃\u001b[1m \u001b[0m\u001b[1moutput                                                                               \u001b[0m\u001b[1m \u001b[0m┃\n",
       "┡━━━━━━━━━━━━━━━━━━━━━━━━━╇━━━━━━━━━━━━━━━━━━━━━━━━━━━━━━━━━━━━━━━━━━━━━━━━━━━━━━━━━━━━━━━━━━━━━━━━━━━━━━━━━━━━━━━┩\n",
       "│ Hatsune Miku, Red Dress │  of the Dragon, the Dragon, the Blizzard of light, and the blue sky, of the world, in │\n",
       "│                         │ the style of the fantasy art.                                                         │\n",
       "├─────────────────────────┼───────────────────────────────────────────────────────────────────────────────────────┤\n",
       "│ Hatsune Miku, Red Dress │ , blue bliks, blue-ish, with pink, pinky, and green, with a look of hope on the face. │\n",
       "│                         │ The colors of this look of hope is in the color pink, and the face is as bright as    │\n",
       "│                         │ the clouds, and the clouds are a                                                      │\n",
       "├─────────────────────────┼───────────────────────────────────────────────────────────────────────────────────────┤\n",
       "│ Hatsune Miku, Red Dress │ , Cinci, Cinquei, Cinquei of the universe, Cinquei of the future, 4k, Hi-Fructose,    │\n",
       "│                         │ Cinquei of the past, HD Art, full-stain, Cinquei of the                               │\n",
       "└─────────────────────────┴───────────────────────────────────────────────────────────────────────────────────────┘\n"
      ]
     },
     "metadata": {},
     "output_type": "display_data"
    },
    {
     "name": "stderr",
     "output_type": "stream",
     "text": [
      "[losses/loss: 4.68 | losses/loss_q: 0.34 | losses/loss_v: 0.05 | losses/loss_cql: 15.29 | losses/loss_awac: 2.76]: 100%|██████████| 1000/1000 [02:32<00:00,  6.57it/s]\n"
     ]
    },
    {
     "data": {
      "text/plain": [
       "<trlx.trainer.accelerate_ilql_trainer.AccelerateILQLTrainer at 0x14e3c2db7c40>"
      ]
     },
     "execution_count": 6,
     "metadata": {},
     "output_type": "execute_result"
    }
   ],
   "source": [
    "import trlx\n",
    "trlx.train(\n",
    "    \"gpt2\",\n",
    "    samples=prompts,\n",
    "    rewards=ratings,\n",
    "    eval_prompts=[\"Hatsune Miku, Red Dress\"] * 64,\n",
    ")"
   ]
  },
  {
   "cell_type": "code",
   "execution_count": null,
   "metadata": {},
   "outputs": [],
   "source": []
  },
  {
   "cell_type": "code",
   "execution_count": 7,
   "metadata": {},
   "outputs": [
    {
     "data": {
      "text/plain": [
       "['fwvver', 'fwvver', 'fwvver']"
      ]
     },
     "execution_count": 7,
     "metadata": {},
     "output_type": "execute_result"
    }
   ],
   "source": [
    "[\"fwvver\"] * 3"
   ]
  },
  {
   "cell_type": "code",
   "execution_count": null,
   "metadata": {},
   "outputs": [],
   "source": []
  }
 ],
 "metadata": {
  "accelerator": "GPU",
  "colab": {
   "machine_shape": "hm",
   "provenance": []
  },
  "gpuClass": "premium",
  "kernelspec": {
   "display_name": "trlx3.10",
   "language": "python",
   "name": "trlx3.10"
  },
  "language_info": {
   "codemirror_mode": {
    "name": "ipython",
    "version": 3
   },
   "file_extension": ".py",
   "mimetype": "text/x-python",
   "name": "python",
   "nbconvert_exporter": "python",
   "pygments_lexer": "ipython3",
   "version": "3.10.0"
  },
  "vscode": {
   "interpreter": {
    "hash": "ff6c2b5200ddef8677aa61880964789bda1a252a745e754869943e5efda88bbf"
   }
  },
  "widgets": {
   "application/vnd.jupyter.widget-state+json": {
    "00b99451d1d747ea8dc0770d9bb51fb5": {
     "model_module": "@jupyter-widgets/controls",
     "model_module_version": "1.5.0",
     "model_name": "HBoxModel",
     "state": {
      "_dom_classes": [],
      "_model_module": "@jupyter-widgets/controls",
      "_model_module_version": "1.5.0",
      "_model_name": "HBoxModel",
      "_view_count": null,
      "_view_module": "@jupyter-widgets/controls",
      "_view_module_version": "1.5.0",
      "_view_name": "HBoxView",
      "box_style": "",
      "children": [
       "IPY_MODEL_e8ce0b8fa1024ab8ad1f4afabc40f4bc",
       "IPY_MODEL_f45d40493bae44a3ab6a7ed702c53dc8",
       "IPY_MODEL_11625588d58e44db9e72fc2c43d09d02"
      ],
      "layout": "IPY_MODEL_a5506ba228094af2b25c9a6aba8bbe04"
     }
    },
    "0211a76bc3584919bb75cfa545e05524": {
     "model_module": "@jupyter-widgets/base",
     "model_module_version": "1.2.0",
     "model_name": "LayoutModel",
     "state": {
      "_model_module": "@jupyter-widgets/base",
      "_model_module_version": "1.2.0",
      "_model_name": "LayoutModel",
      "_view_count": null,
      "_view_module": "@jupyter-widgets/base",
      "_view_module_version": "1.2.0",
      "_view_name": "LayoutView",
      "align_content": null,
      "align_items": null,
      "align_self": null,
      "border": null,
      "bottom": null,
      "display": null,
      "flex": null,
      "flex_flow": null,
      "grid_area": null,
      "grid_auto_columns": null,
      "grid_auto_flow": null,
      "grid_auto_rows": null,
      "grid_column": null,
      "grid_gap": null,
      "grid_row": null,
      "grid_template_areas": null,
      "grid_template_columns": null,
      "grid_template_rows": null,
      "height": null,
      "justify_content": null,
      "justify_items": null,
      "left": null,
      "margin": null,
      "max_height": null,
      "max_width": null,
      "min_height": null,
      "min_width": null,
      "object_fit": null,
      "object_position": null,
      "order": null,
      "overflow": null,
      "overflow_x": null,
      "overflow_y": null,
      "padding": null,
      "right": null,
      "top": null,
      "visibility": null,
      "width": null
     }
    },
    "034b03f4e7eb4aa8a65194c7b1b4149a": {
     "model_module": "@jupyter-widgets/base",
     "model_module_version": "1.2.0",
     "model_name": "LayoutModel",
     "state": {
      "_model_module": "@jupyter-widgets/base",
      "_model_module_version": "1.2.0",
      "_model_name": "LayoutModel",
      "_view_count": null,
      "_view_module": "@jupyter-widgets/base",
      "_view_module_version": "1.2.0",
      "_view_name": "LayoutView",
      "align_content": null,
      "align_items": null,
      "align_self": null,
      "border": null,
      "bottom": null,
      "display": null,
      "flex": null,
      "flex_flow": null,
      "grid_area": null,
      "grid_auto_columns": null,
      "grid_auto_flow": null,
      "grid_auto_rows": null,
      "grid_column": null,
      "grid_gap": null,
      "grid_row": null,
      "grid_template_areas": null,
      "grid_template_columns": null,
      "grid_template_rows": null,
      "height": null,
      "justify_content": null,
      "justify_items": null,
      "left": null,
      "margin": null,
      "max_height": null,
      "max_width": null,
      "min_height": null,
      "min_width": null,
      "object_fit": null,
      "object_position": null,
      "order": null,
      "overflow": null,
      "overflow_x": null,
      "overflow_y": null,
      "padding": null,
      "right": null,
      "top": null,
      "visibility": null,
      "width": null
     }
    },
    "063cdaa702fc403c9914bb64f37c4599": {
     "model_module": "@jupyter-widgets/base",
     "model_module_version": "1.2.0",
     "model_name": "LayoutModel",
     "state": {
      "_model_module": "@jupyter-widgets/base",
      "_model_module_version": "1.2.0",
      "_model_name": "LayoutModel",
      "_view_count": null,
      "_view_module": "@jupyter-widgets/base",
      "_view_module_version": "1.2.0",
      "_view_name": "LayoutView",
      "align_content": null,
      "align_items": null,
      "align_self": null,
      "border": null,
      "bottom": null,
      "display": null,
      "flex": null,
      "flex_flow": null,
      "grid_area": null,
      "grid_auto_columns": null,
      "grid_auto_flow": null,
      "grid_auto_rows": null,
      "grid_column": null,
      "grid_gap": null,
      "grid_row": null,
      "grid_template_areas": null,
      "grid_template_columns": null,
      "grid_template_rows": null,
      "height": null,
      "justify_content": null,
      "justify_items": null,
      "left": null,
      "margin": null,
      "max_height": null,
      "max_width": null,
      "min_height": null,
      "min_width": null,
      "object_fit": null,
      "object_position": null,
      "order": null,
      "overflow": null,
      "overflow_x": null,
      "overflow_y": null,
      "padding": null,
      "right": null,
      "top": null,
      "visibility": null,
      "width": null
     }
    },
    "0aba7fc7846348578c2d36811ea08f77": {
     "model_module": "@jupyter-widgets/controls",
     "model_module_version": "1.5.0",
     "model_name": "DescriptionStyleModel",
     "state": {
      "_model_module": "@jupyter-widgets/controls",
      "_model_module_version": "1.5.0",
      "_model_name": "DescriptionStyleModel",
      "_view_count": null,
      "_view_module": "@jupyter-widgets/base",
      "_view_module_version": "1.2.0",
      "_view_name": "StyleView",
      "description_width": ""
     }
    },
    "11625588d58e44db9e72fc2c43d09d02": {
     "model_module": "@jupyter-widgets/controls",
     "model_module_version": "1.5.0",
     "model_name": "HTMLModel",
     "state": {
      "_dom_classes": [],
      "_model_module": "@jupyter-widgets/controls",
      "_model_module_version": "1.5.0",
      "_model_name": "HTMLModel",
      "_view_count": null,
      "_view_module": "@jupyter-widgets/controls",
      "_view_module_version": "1.5.0",
      "_view_name": "HTMLView",
      "description": "",
      "description_tooltip": null,
      "layout": "IPY_MODEL_91e40c90c560451f9d0b83c4e2f232e8",
      "placeholder": "​",
      "style": "IPY_MODEL_ead93b6eccab4a2eab37a8ec153144b3",
      "value": " 456k/456k [00:00&lt;00:00, 3.83MB/s]"
     }
    },
    "1ea30b8671324a3a9e8157478cd13aa1": {
     "model_module": "@jupyter-widgets/controls",
     "model_module_version": "1.5.0",
     "model_name": "DescriptionStyleModel",
     "state": {
      "_model_module": "@jupyter-widgets/controls",
      "_model_module_version": "1.5.0",
      "_model_name": "DescriptionStyleModel",
      "_view_count": null,
      "_view_module": "@jupyter-widgets/base",
      "_view_module_version": "1.2.0",
      "_view_name": "StyleView",
      "description_width": ""
     }
    },
    "21d542c3f5ba45c18cfbe116448bbf4a": {
     "model_module": "@jupyter-widgets/base",
     "model_module_version": "1.2.0",
     "model_name": "LayoutModel",
     "state": {
      "_model_module": "@jupyter-widgets/base",
      "_model_module_version": "1.2.0",
      "_model_name": "LayoutModel",
      "_view_count": null,
      "_view_module": "@jupyter-widgets/base",
      "_view_module_version": "1.2.0",
      "_view_name": "LayoutView",
      "align_content": null,
      "align_items": null,
      "align_self": null,
      "border": null,
      "bottom": null,
      "display": null,
      "flex": null,
      "flex_flow": null,
      "grid_area": null,
      "grid_auto_columns": null,
      "grid_auto_flow": null,
      "grid_auto_rows": null,
      "grid_column": null,
      "grid_gap": null,
      "grid_row": null,
      "grid_template_areas": null,
      "grid_template_columns": null,
      "grid_template_rows": null,
      "height": null,
      "justify_content": null,
      "justify_items": null,
      "left": null,
      "margin": null,
      "max_height": null,
      "max_width": null,
      "min_height": null,
      "min_width": null,
      "object_fit": null,
      "object_position": null,
      "order": null,
      "overflow": null,
      "overflow_x": null,
      "overflow_y": null,
      "padding": null,
      "right": null,
      "top": null,
      "visibility": null,
      "width": null
     }
    },
    "229a58d38ac049c8bb6692dd19713961": {
     "model_module": "@jupyter-widgets/controls",
     "model_module_version": "1.5.0",
     "model_name": "FloatProgressModel",
     "state": {
      "_dom_classes": [],
      "_model_module": "@jupyter-widgets/controls",
      "_model_module_version": "1.5.0",
      "_model_name": "FloatProgressModel",
      "_view_count": null,
      "_view_module": "@jupyter-widgets/controls",
      "_view_module_version": "1.5.0",
      "_view_name": "ProgressView",
      "bar_style": "success",
      "description": "",
      "description_tooltip": null,
      "layout": "IPY_MODEL_063cdaa702fc403c9914bb64f37c4599",
      "max": 124,
      "min": 0,
      "orientation": "horizontal",
      "style": "IPY_MODEL_86f1b83d36184913a85561519dcfa51b",
      "value": 124
     }
    },
    "296b1c3bd04b4a4b9f7e6e4c6fed1c66": {
     "model_module": "@jupyter-widgets/controls",
     "model_module_version": "1.5.0",
     "model_name": "ProgressStyleModel",
     "state": {
      "_model_module": "@jupyter-widgets/controls",
      "_model_module_version": "1.5.0",
      "_model_name": "ProgressStyleModel",
      "_view_count": null,
      "_view_module": "@jupyter-widgets/base",
      "_view_module_version": "1.2.0",
      "_view_name": "StyleView",
      "bar_color": null,
      "description_width": ""
     }
    },
    "2e686d2a81974f3c97d66d2c691e9e4d": {
     "model_module": "@jupyter-widgets/controls",
     "model_module_version": "1.5.0",
     "model_name": "HTMLModel",
     "state": {
      "_dom_classes": [],
      "_model_module": "@jupyter-widgets/controls",
      "_model_module_version": "1.5.0",
      "_model_name": "HTMLModel",
      "_view_count": null,
      "_view_module": "@jupyter-widgets/controls",
      "_view_module_version": "1.5.0",
      "_view_name": "HTMLView",
      "description": "",
      "description_tooltip": null,
      "layout": "IPY_MODEL_034b03f4e7eb4aa8a65194c7b1b4149a",
      "placeholder": "​",
      "style": "IPY_MODEL_30c0af680d824a859a3a0d5275440c5a",
      "value": "Downloading (…)olve/main/vocab.json: 100%"
     }
    },
    "308cf0e6630f4819b22aa302171b9b96": {
     "model_module": "@jupyter-widgets/base",
     "model_module_version": "1.2.0",
     "model_name": "LayoutModel",
     "state": {
      "_model_module": "@jupyter-widgets/base",
      "_model_module_version": "1.2.0",
      "_model_name": "LayoutModel",
      "_view_count": null,
      "_view_module": "@jupyter-widgets/base",
      "_view_module_version": "1.2.0",
      "_view_name": "LayoutView",
      "align_content": null,
      "align_items": null,
      "align_self": null,
      "border": null,
      "bottom": null,
      "display": null,
      "flex": null,
      "flex_flow": null,
      "grid_area": null,
      "grid_auto_columns": null,
      "grid_auto_flow": null,
      "grid_auto_rows": null,
      "grid_column": null,
      "grid_gap": null,
      "grid_row": null,
      "grid_template_areas": null,
      "grid_template_columns": null,
      "grid_template_rows": null,
      "height": null,
      "justify_content": null,
      "justify_items": null,
      "left": null,
      "margin": null,
      "max_height": null,
      "max_width": null,
      "min_height": null,
      "min_width": null,
      "object_fit": null,
      "object_position": null,
      "order": null,
      "overflow": null,
      "overflow_x": null,
      "overflow_y": null,
      "padding": null,
      "right": null,
      "top": null,
      "visibility": null,
      "width": null
     }
    },
    "30c0af680d824a859a3a0d5275440c5a": {
     "model_module": "@jupyter-widgets/controls",
     "model_module_version": "1.5.0",
     "model_name": "DescriptionStyleModel",
     "state": {
      "_model_module": "@jupyter-widgets/controls",
      "_model_module_version": "1.5.0",
      "_model_name": "DescriptionStyleModel",
      "_view_count": null,
      "_view_module": "@jupyter-widgets/base",
      "_view_module_version": "1.2.0",
      "_view_name": "StyleView",
      "description_width": ""
     }
    },
    "3a4196962f9049e4a48b65447c95965f": {
     "model_module": "@jupyter-widgets/base",
     "model_module_version": "1.2.0",
     "model_name": "LayoutModel",
     "state": {
      "_model_module": "@jupyter-widgets/base",
      "_model_module_version": "1.2.0",
      "_model_name": "LayoutModel",
      "_view_count": null,
      "_view_module": "@jupyter-widgets/base",
      "_view_module_version": "1.2.0",
      "_view_name": "LayoutView",
      "align_content": null,
      "align_items": null,
      "align_self": null,
      "border": null,
      "bottom": null,
      "display": null,
      "flex": null,
      "flex_flow": null,
      "grid_area": null,
      "grid_auto_columns": null,
      "grid_auto_flow": null,
      "grid_auto_rows": null,
      "grid_column": null,
      "grid_gap": null,
      "grid_row": null,
      "grid_template_areas": null,
      "grid_template_columns": null,
      "grid_template_rows": null,
      "height": null,
      "justify_content": null,
      "justify_items": null,
      "left": null,
      "margin": null,
      "max_height": null,
      "max_width": null,
      "min_height": null,
      "min_width": null,
      "object_fit": null,
      "object_position": null,
      "order": null,
      "overflow": null,
      "overflow_x": null,
      "overflow_y": null,
      "padding": null,
      "right": null,
      "top": null,
      "visibility": null,
      "width": null
     }
    },
    "3db97b8040574a1d936202a3b13b9fb3": {
     "model_module": "@jupyter-widgets/controls",
     "model_module_version": "1.5.0",
     "model_name": "HTMLModel",
     "state": {
      "_dom_classes": [],
      "_model_module": "@jupyter-widgets/controls",
      "_model_module_version": "1.5.0",
      "_model_name": "HTMLModel",
      "_view_count": null,
      "_view_module": "@jupyter-widgets/controls",
      "_view_module_version": "1.5.0",
      "_view_name": "HTMLView",
      "description": "",
      "description_tooltip": null,
      "layout": "IPY_MODEL_d0de268a70bd4136806dccbdcd2b378f",
      "placeholder": "​",
      "style": "IPY_MODEL_baaa7a657a9844b7ba92ddcebf9257d2",
      "value": " 1.04M/1.04M [00:00&lt;00:00, 7.63MB/s]"
     }
    },
    "421922c3f6264f838282aa55916f2d24": {
     "model_module": "@jupyter-widgets/base",
     "model_module_version": "1.2.0",
     "model_name": "LayoutModel",
     "state": {
      "_model_module": "@jupyter-widgets/base",
      "_model_module_version": "1.2.0",
      "_model_name": "LayoutModel",
      "_view_count": null,
      "_view_module": "@jupyter-widgets/base",
      "_view_module_version": "1.2.0",
      "_view_name": "LayoutView",
      "align_content": null,
      "align_items": null,
      "align_self": null,
      "border": null,
      "bottom": null,
      "display": null,
      "flex": null,
      "flex_flow": null,
      "grid_area": null,
      "grid_auto_columns": null,
      "grid_auto_flow": null,
      "grid_auto_rows": null,
      "grid_column": null,
      "grid_gap": null,
      "grid_row": null,
      "grid_template_areas": null,
      "grid_template_columns": null,
      "grid_template_rows": null,
      "height": null,
      "justify_content": null,
      "justify_items": null,
      "left": null,
      "margin": null,
      "max_height": null,
      "max_width": null,
      "min_height": null,
      "min_width": null,
      "object_fit": null,
      "object_position": null,
      "order": null,
      "overflow": null,
      "overflow_x": null,
      "overflow_y": null,
      "padding": null,
      "right": null,
      "top": null,
      "visibility": null,
      "width": null
     }
    },
    "4299dc538ada4e98a79cf3d6d188c200": {
     "model_module": "@jupyter-widgets/base",
     "model_module_version": "1.2.0",
     "model_name": "LayoutModel",
     "state": {
      "_model_module": "@jupyter-widgets/base",
      "_model_module_version": "1.2.0",
      "_model_name": "LayoutModel",
      "_view_count": null,
      "_view_module": "@jupyter-widgets/base",
      "_view_module_version": "1.2.0",
      "_view_name": "LayoutView",
      "align_content": null,
      "align_items": null,
      "align_self": null,
      "border": null,
      "bottom": null,
      "display": null,
      "flex": null,
      "flex_flow": null,
      "grid_area": null,
      "grid_auto_columns": null,
      "grid_auto_flow": null,
      "grid_auto_rows": null,
      "grid_column": null,
      "grid_gap": null,
      "grid_row": null,
      "grid_template_areas": null,
      "grid_template_columns": null,
      "grid_template_rows": null,
      "height": null,
      "justify_content": null,
      "justify_items": null,
      "left": null,
      "margin": null,
      "max_height": null,
      "max_width": null,
      "min_height": null,
      "min_width": null,
      "object_fit": null,
      "object_position": null,
      "order": null,
      "overflow": null,
      "overflow_x": null,
      "overflow_y": null,
      "padding": null,
      "right": null,
      "top": null,
      "visibility": null,
      "width": null
     }
    },
    "453d5d53ca1a46b881f7ebfd2630a742": {
     "model_module": "@jupyter-widgets/controls",
     "model_module_version": "1.5.0",
     "model_name": "FloatProgressModel",
     "state": {
      "_dom_classes": [],
      "_model_module": "@jupyter-widgets/controls",
      "_model_module_version": "1.5.0",
      "_model_name": "FloatProgressModel",
      "_view_count": null,
      "_view_module": "@jupyter-widgets/controls",
      "_view_module_version": "1.5.0",
      "_view_name": "ProgressView",
      "bar_style": "success",
      "description": "",
      "description_tooltip": null,
      "layout": "IPY_MODEL_3a4196962f9049e4a48b65447c95965f",
      "max": 548118077,
      "min": 0,
      "orientation": "horizontal",
      "style": "IPY_MODEL_d67d768dc2964e4c842ec634f7cf58e5",
      "value": 548118077
     }
    },
    "48ad049d8e4d4d3f837a50668eb87b35": {
     "model_module": "@jupyter-widgets/base",
     "model_module_version": "1.2.0",
     "model_name": "LayoutModel",
     "state": {
      "_model_module": "@jupyter-widgets/base",
      "_model_module_version": "1.2.0",
      "_model_name": "LayoutModel",
      "_view_count": null,
      "_view_module": "@jupyter-widgets/base",
      "_view_module_version": "1.2.0",
      "_view_name": "LayoutView",
      "align_content": null,
      "align_items": null,
      "align_self": null,
      "border": null,
      "bottom": null,
      "display": null,
      "flex": null,
      "flex_flow": null,
      "grid_area": null,
      "grid_auto_columns": null,
      "grid_auto_flow": null,
      "grid_auto_rows": null,
      "grid_column": null,
      "grid_gap": null,
      "grid_row": null,
      "grid_template_areas": null,
      "grid_template_columns": null,
      "grid_template_rows": null,
      "height": null,
      "justify_content": null,
      "justify_items": null,
      "left": null,
      "margin": null,
      "max_height": null,
      "max_width": null,
      "min_height": null,
      "min_width": null,
      "object_fit": null,
      "object_position": null,
      "order": null,
      "overflow": null,
      "overflow_x": null,
      "overflow_y": null,
      "padding": null,
      "right": null,
      "top": null,
      "visibility": null,
      "width": null
     }
    },
    "4b23664a44254cceafdeb11c3233952f": {
     "model_module": "@jupyter-widgets/base",
     "model_module_version": "1.2.0",
     "model_name": "LayoutModel",
     "state": {
      "_model_module": "@jupyter-widgets/base",
      "_model_module_version": "1.2.0",
      "_model_name": "LayoutModel",
      "_view_count": null,
      "_view_module": "@jupyter-widgets/base",
      "_view_module_version": "1.2.0",
      "_view_name": "LayoutView",
      "align_content": null,
      "align_items": null,
      "align_self": null,
      "border": null,
      "bottom": null,
      "display": null,
      "flex": null,
      "flex_flow": null,
      "grid_area": null,
      "grid_auto_columns": null,
      "grid_auto_flow": null,
      "grid_auto_rows": null,
      "grid_column": null,
      "grid_gap": null,
      "grid_row": null,
      "grid_template_areas": null,
      "grid_template_columns": null,
      "grid_template_rows": null,
      "height": null,
      "justify_content": null,
      "justify_items": null,
      "left": null,
      "margin": null,
      "max_height": null,
      "max_width": null,
      "min_height": null,
      "min_width": null,
      "object_fit": null,
      "object_position": null,
      "order": null,
      "overflow": null,
      "overflow_x": null,
      "overflow_y": null,
      "padding": null,
      "right": null,
      "top": null,
      "visibility": null,
      "width": null
     }
    },
    "4e1014ea19264321b1bbfda7aed691ce": {
     "model_module": "@jupyter-widgets/controls",
     "model_module_version": "1.5.0",
     "model_name": "DescriptionStyleModel",
     "state": {
      "_model_module": "@jupyter-widgets/controls",
      "_model_module_version": "1.5.0",
      "_model_name": "DescriptionStyleModel",
      "_view_count": null,
      "_view_module": "@jupyter-widgets/base",
      "_view_module_version": "1.2.0",
      "_view_name": "StyleView",
      "description_width": ""
     }
    },
    "55bf83a93d874759a602562b0403e9b2": {
     "model_module": "@jupyter-widgets/controls",
     "model_module_version": "1.5.0",
     "model_name": "DescriptionStyleModel",
     "state": {
      "_model_module": "@jupyter-widgets/controls",
      "_model_module_version": "1.5.0",
      "_model_name": "DescriptionStyleModel",
      "_view_count": null,
      "_view_module": "@jupyter-widgets/base",
      "_view_module_version": "1.2.0",
      "_view_name": "StyleView",
      "description_width": ""
     }
    },
    "565f592707ef476f907969e8b520435b": {
     "model_module": "@jupyter-widgets/controls",
     "model_module_version": "1.5.0",
     "model_name": "DescriptionStyleModel",
     "state": {
      "_model_module": "@jupyter-widgets/controls",
      "_model_module_version": "1.5.0",
      "_model_name": "DescriptionStyleModel",
      "_view_count": null,
      "_view_module": "@jupyter-widgets/base",
      "_view_module_version": "1.2.0",
      "_view_name": "StyleView",
      "description_width": ""
     }
    },
    "56d9e00f846244368e8702b6a28af343": {
     "model_module": "@jupyter-widgets/base",
     "model_module_version": "1.2.0",
     "model_name": "LayoutModel",
     "state": {
      "_model_module": "@jupyter-widgets/base",
      "_model_module_version": "1.2.0",
      "_model_name": "LayoutModel",
      "_view_count": null,
      "_view_module": "@jupyter-widgets/base",
      "_view_module_version": "1.2.0",
      "_view_name": "LayoutView",
      "align_content": null,
      "align_items": null,
      "align_self": null,
      "border": null,
      "bottom": null,
      "display": null,
      "flex": null,
      "flex_flow": null,
      "grid_area": null,
      "grid_auto_columns": null,
      "grid_auto_flow": null,
      "grid_auto_rows": null,
      "grid_column": null,
      "grid_gap": null,
      "grid_row": null,
      "grid_template_areas": null,
      "grid_template_columns": null,
      "grid_template_rows": null,
      "height": null,
      "justify_content": null,
      "justify_items": null,
      "left": null,
      "margin": null,
      "max_height": null,
      "max_width": null,
      "min_height": null,
      "min_width": null,
      "object_fit": null,
      "object_position": null,
      "order": null,
      "overflow": null,
      "overflow_x": null,
      "overflow_y": null,
      "padding": null,
      "right": null,
      "top": null,
      "visibility": null,
      "width": null
     }
    },
    "6110b339705f479692a18178d56b2f5a": {
     "model_module": "@jupyter-widgets/controls",
     "model_module_version": "1.5.0",
     "model_name": "HBoxModel",
     "state": {
      "_dom_classes": [],
      "_model_module": "@jupyter-widgets/controls",
      "_model_module_version": "1.5.0",
      "_model_name": "HBoxModel",
      "_view_count": null,
      "_view_module": "@jupyter-widgets/controls",
      "_view_module_version": "1.5.0",
      "_view_name": "HBoxView",
      "box_style": "",
      "children": [
       "IPY_MODEL_2e686d2a81974f3c97d66d2c691e9e4d",
       "IPY_MODEL_b585ea865de949e28a68367b42f7264d",
       "IPY_MODEL_3db97b8040574a1d936202a3b13b9fb3"
      ],
      "layout": "IPY_MODEL_56d9e00f846244368e8702b6a28af343"
     }
    },
    "61d63dd47c88437ea3994497fbb71ecb": {
     "model_module": "@jupyter-widgets/base",
     "model_module_version": "1.2.0",
     "model_name": "LayoutModel",
     "state": {
      "_model_module": "@jupyter-widgets/base",
      "_model_module_version": "1.2.0",
      "_model_name": "LayoutModel",
      "_view_count": null,
      "_view_module": "@jupyter-widgets/base",
      "_view_module_version": "1.2.0",
      "_view_name": "LayoutView",
      "align_content": null,
      "align_items": null,
      "align_self": null,
      "border": null,
      "bottom": null,
      "display": null,
      "flex": null,
      "flex_flow": null,
      "grid_area": null,
      "grid_auto_columns": null,
      "grid_auto_flow": null,
      "grid_auto_rows": null,
      "grid_column": null,
      "grid_gap": null,
      "grid_row": null,
      "grid_template_areas": null,
      "grid_template_columns": null,
      "grid_template_rows": null,
      "height": null,
      "justify_content": null,
      "justify_items": null,
      "left": null,
      "margin": null,
      "max_height": null,
      "max_width": null,
      "min_height": null,
      "min_width": null,
      "object_fit": null,
      "object_position": null,
      "order": null,
      "overflow": null,
      "overflow_x": null,
      "overflow_y": null,
      "padding": null,
      "right": null,
      "top": null,
      "visibility": null,
      "width": null
     }
    },
    "64d127767932428286a5664e5252a85a": {
     "model_module": "@jupyter-widgets/base",
     "model_module_version": "1.2.0",
     "model_name": "LayoutModel",
     "state": {
      "_model_module": "@jupyter-widgets/base",
      "_model_module_version": "1.2.0",
      "_model_name": "LayoutModel",
      "_view_count": null,
      "_view_module": "@jupyter-widgets/base",
      "_view_module_version": "1.2.0",
      "_view_name": "LayoutView",
      "align_content": null,
      "align_items": null,
      "align_self": null,
      "border": null,
      "bottom": null,
      "display": null,
      "flex": null,
      "flex_flow": null,
      "grid_area": null,
      "grid_auto_columns": null,
      "grid_auto_flow": null,
      "grid_auto_rows": null,
      "grid_column": null,
      "grid_gap": null,
      "grid_row": null,
      "grid_template_areas": null,
      "grid_template_columns": null,
      "grid_template_rows": null,
      "height": null,
      "justify_content": null,
      "justify_items": null,
      "left": null,
      "margin": null,
      "max_height": null,
      "max_width": null,
      "min_height": null,
      "min_width": null,
      "object_fit": null,
      "object_position": null,
      "order": null,
      "overflow": null,
      "overflow_x": null,
      "overflow_y": null,
      "padding": null,
      "right": null,
      "top": null,
      "visibility": null,
      "width": null
     }
    },
    "651a2ba374ea4779b94904eabc30982d": {
     "model_module": "@jupyter-widgets/base",
     "model_module_version": "1.2.0",
     "model_name": "LayoutModel",
     "state": {
      "_model_module": "@jupyter-widgets/base",
      "_model_module_version": "1.2.0",
      "_model_name": "LayoutModel",
      "_view_count": null,
      "_view_module": "@jupyter-widgets/base",
      "_view_module_version": "1.2.0",
      "_view_name": "LayoutView",
      "align_content": null,
      "align_items": null,
      "align_self": null,
      "border": null,
      "bottom": null,
      "display": null,
      "flex": null,
      "flex_flow": null,
      "grid_area": null,
      "grid_auto_columns": null,
      "grid_auto_flow": null,
      "grid_auto_rows": null,
      "grid_column": null,
      "grid_gap": null,
      "grid_row": null,
      "grid_template_areas": null,
      "grid_template_columns": null,
      "grid_template_rows": null,
      "height": null,
      "justify_content": null,
      "justify_items": null,
      "left": null,
      "margin": null,
      "max_height": null,
      "max_width": null,
      "min_height": null,
      "min_width": null,
      "object_fit": null,
      "object_position": null,
      "order": null,
      "overflow": null,
      "overflow_x": null,
      "overflow_y": null,
      "padding": null,
      "right": null,
      "top": null,
      "visibility": null,
      "width": null
     }
    },
    "683b55d1fe3a41e5b5b6f32b1f858842": {
     "model_module": "@jupyter-widgets/base",
     "model_module_version": "1.2.0",
     "model_name": "LayoutModel",
     "state": {
      "_model_module": "@jupyter-widgets/base",
      "_model_module_version": "1.2.0",
      "_model_name": "LayoutModel",
      "_view_count": null,
      "_view_module": "@jupyter-widgets/base",
      "_view_module_version": "1.2.0",
      "_view_name": "LayoutView",
      "align_content": null,
      "align_items": null,
      "align_self": null,
      "border": null,
      "bottom": null,
      "display": null,
      "flex": null,
      "flex_flow": null,
      "grid_area": null,
      "grid_auto_columns": null,
      "grid_auto_flow": null,
      "grid_auto_rows": null,
      "grid_column": null,
      "grid_gap": null,
      "grid_row": null,
      "grid_template_areas": null,
      "grid_template_columns": null,
      "grid_template_rows": null,
      "height": null,
      "justify_content": null,
      "justify_items": null,
      "left": null,
      "margin": null,
      "max_height": null,
      "max_width": null,
      "min_height": null,
      "min_width": null,
      "object_fit": null,
      "object_position": null,
      "order": null,
      "overflow": null,
      "overflow_x": null,
      "overflow_y": null,
      "padding": null,
      "right": null,
      "top": null,
      "visibility": null,
      "width": null
     }
    },
    "76b593dedd6346e49a50d032c4b25e3d": {
     "model_module": "@jupyter-widgets/controls",
     "model_module_version": "1.5.0",
     "model_name": "FloatProgressModel",
     "state": {
      "_dom_classes": [],
      "_model_module": "@jupyter-widgets/controls",
      "_model_module_version": "1.5.0",
      "_model_name": "FloatProgressModel",
      "_view_count": null,
      "_view_module": "@jupyter-widgets/controls",
      "_view_module_version": "1.5.0",
      "_view_name": "ProgressView",
      "bar_style": "success",
      "description": "",
      "description_tooltip": null,
      "layout": "IPY_MODEL_fddac4329dbc4fa78bfda3455528256b",
      "max": 665,
      "min": 0,
      "orientation": "horizontal",
      "style": "IPY_MODEL_ec82b7f1d9524ffcb7d505479ae3499b",
      "value": 665
     }
    },
    "76ea9a895e324a50b8db939980ffdbed": {
     "model_module": "@jupyter-widgets/base",
     "model_module_version": "1.2.0",
     "model_name": "LayoutModel",
     "state": {
      "_model_module": "@jupyter-widgets/base",
      "_model_module_version": "1.2.0",
      "_model_name": "LayoutModel",
      "_view_count": null,
      "_view_module": "@jupyter-widgets/base",
      "_view_module_version": "1.2.0",
      "_view_name": "LayoutView",
      "align_content": null,
      "align_items": null,
      "align_self": null,
      "border": null,
      "bottom": null,
      "display": null,
      "flex": null,
      "flex_flow": null,
      "grid_area": null,
      "grid_auto_columns": null,
      "grid_auto_flow": null,
      "grid_auto_rows": null,
      "grid_column": null,
      "grid_gap": null,
      "grid_row": null,
      "grid_template_areas": null,
      "grid_template_columns": null,
      "grid_template_rows": null,
      "height": null,
      "justify_content": null,
      "justify_items": null,
      "left": null,
      "margin": null,
      "max_height": null,
      "max_width": null,
      "min_height": null,
      "min_width": null,
      "object_fit": null,
      "object_position": null,
      "order": null,
      "overflow": null,
      "overflow_x": null,
      "overflow_y": null,
      "padding": null,
      "right": null,
      "top": null,
      "visibility": null,
      "width": null
     }
    },
    "7a4f66e099ad48bf9e9095f4c1a89330": {
     "model_module": "@jupyter-widgets/controls",
     "model_module_version": "1.5.0",
     "model_name": "ProgressStyleModel",
     "state": {
      "_model_module": "@jupyter-widgets/controls",
      "_model_module_version": "1.5.0",
      "_model_name": "ProgressStyleModel",
      "_view_count": null,
      "_view_module": "@jupyter-widgets/base",
      "_view_module_version": "1.2.0",
      "_view_name": "StyleView",
      "bar_color": null,
      "description_width": ""
     }
    },
    "8480c633fa714c9c9bed38fa21cd461d": {
     "model_module": "@jupyter-widgets/base",
     "model_module_version": "1.2.0",
     "model_name": "LayoutModel",
     "state": {
      "_model_module": "@jupyter-widgets/base",
      "_model_module_version": "1.2.0",
      "_model_name": "LayoutModel",
      "_view_count": null,
      "_view_module": "@jupyter-widgets/base",
      "_view_module_version": "1.2.0",
      "_view_name": "LayoutView",
      "align_content": null,
      "align_items": null,
      "align_self": null,
      "border": null,
      "bottom": null,
      "display": null,
      "flex": null,
      "flex_flow": null,
      "grid_area": null,
      "grid_auto_columns": null,
      "grid_auto_flow": null,
      "grid_auto_rows": null,
      "grid_column": null,
      "grid_gap": null,
      "grid_row": null,
      "grid_template_areas": null,
      "grid_template_columns": null,
      "grid_template_rows": null,
      "height": null,
      "justify_content": null,
      "justify_items": null,
      "left": null,
      "margin": null,
      "max_height": null,
      "max_width": null,
      "min_height": null,
      "min_width": null,
      "object_fit": null,
      "object_position": null,
      "order": null,
      "overflow": null,
      "overflow_x": null,
      "overflow_y": null,
      "padding": null,
      "right": null,
      "top": null,
      "visibility": null,
      "width": null
     }
    },
    "865180d7100c44e7bc392cadffa0b1d1": {
     "model_module": "@jupyter-widgets/base",
     "model_module_version": "1.2.0",
     "model_name": "LayoutModel",
     "state": {
      "_model_module": "@jupyter-widgets/base",
      "_model_module_version": "1.2.0",
      "_model_name": "LayoutModel",
      "_view_count": null,
      "_view_module": "@jupyter-widgets/base",
      "_view_module_version": "1.2.0",
      "_view_name": "LayoutView",
      "align_content": null,
      "align_items": null,
      "align_self": null,
      "border": null,
      "bottom": null,
      "display": null,
      "flex": null,
      "flex_flow": null,
      "grid_area": null,
      "grid_auto_columns": null,
      "grid_auto_flow": null,
      "grid_auto_rows": null,
      "grid_column": null,
      "grid_gap": null,
      "grid_row": null,
      "grid_template_areas": null,
      "grid_template_columns": null,
      "grid_template_rows": null,
      "height": null,
      "justify_content": null,
      "justify_items": null,
      "left": null,
      "margin": null,
      "max_height": null,
      "max_width": null,
      "min_height": null,
      "min_width": null,
      "object_fit": null,
      "object_position": null,
      "order": null,
      "overflow": null,
      "overflow_x": null,
      "overflow_y": null,
      "padding": null,
      "right": null,
      "top": null,
      "visibility": null,
      "width": null
     }
    },
    "86f1b83d36184913a85561519dcfa51b": {
     "model_module": "@jupyter-widgets/controls",
     "model_module_version": "1.5.0",
     "model_name": "ProgressStyleModel",
     "state": {
      "_model_module": "@jupyter-widgets/controls",
      "_model_module_version": "1.5.0",
      "_model_name": "ProgressStyleModel",
      "_view_count": null,
      "_view_module": "@jupyter-widgets/base",
      "_view_module_version": "1.2.0",
      "_view_name": "StyleView",
      "bar_color": null,
      "description_width": ""
     }
    },
    "91e40c90c560451f9d0b83c4e2f232e8": {
     "model_module": "@jupyter-widgets/base",
     "model_module_version": "1.2.0",
     "model_name": "LayoutModel",
     "state": {
      "_model_module": "@jupyter-widgets/base",
      "_model_module_version": "1.2.0",
      "_model_name": "LayoutModel",
      "_view_count": null,
      "_view_module": "@jupyter-widgets/base",
      "_view_module_version": "1.2.0",
      "_view_name": "LayoutView",
      "align_content": null,
      "align_items": null,
      "align_self": null,
      "border": null,
      "bottom": null,
      "display": null,
      "flex": null,
      "flex_flow": null,
      "grid_area": null,
      "grid_auto_columns": null,
      "grid_auto_flow": null,
      "grid_auto_rows": null,
      "grid_column": null,
      "grid_gap": null,
      "grid_row": null,
      "grid_template_areas": null,
      "grid_template_columns": null,
      "grid_template_rows": null,
      "height": null,
      "justify_content": null,
      "justify_items": null,
      "left": null,
      "margin": null,
      "max_height": null,
      "max_width": null,
      "min_height": null,
      "min_width": null,
      "object_fit": null,
      "object_position": null,
      "order": null,
      "overflow": null,
      "overflow_x": null,
      "overflow_y": null,
      "padding": null,
      "right": null,
      "top": null,
      "visibility": null,
      "width": null
     }
    },
    "92c99c22b3dd44f985706ba3ae06f6fe": {
     "model_module": "@jupyter-widgets/base",
     "model_module_version": "1.2.0",
     "model_name": "LayoutModel",
     "state": {
      "_model_module": "@jupyter-widgets/base",
      "_model_module_version": "1.2.0",
      "_model_name": "LayoutModel",
      "_view_count": null,
      "_view_module": "@jupyter-widgets/base",
      "_view_module_version": "1.2.0",
      "_view_name": "LayoutView",
      "align_content": null,
      "align_items": null,
      "align_self": null,
      "border": null,
      "bottom": null,
      "display": null,
      "flex": null,
      "flex_flow": null,
      "grid_area": null,
      "grid_auto_columns": null,
      "grid_auto_flow": null,
      "grid_auto_rows": null,
      "grid_column": null,
      "grid_gap": null,
      "grid_row": null,
      "grid_template_areas": null,
      "grid_template_columns": null,
      "grid_template_rows": null,
      "height": null,
      "justify_content": null,
      "justify_items": null,
      "left": null,
      "margin": null,
      "max_height": null,
      "max_width": null,
      "min_height": null,
      "min_width": null,
      "object_fit": null,
      "object_position": null,
      "order": null,
      "overflow": null,
      "overflow_x": null,
      "overflow_y": null,
      "padding": null,
      "right": null,
      "top": null,
      "visibility": null,
      "width": null
     }
    },
    "99d1f09cb42a47ecb4747434053678c7": {
     "model_module": "@jupyter-widgets/controls",
     "model_module_version": "1.5.0",
     "model_name": "HTMLModel",
     "state": {
      "_dom_classes": [],
      "_model_module": "@jupyter-widgets/controls",
      "_model_module_version": "1.5.0",
      "_model_name": "HTMLModel",
      "_view_count": null,
      "_view_module": "@jupyter-widgets/controls",
      "_view_module_version": "1.5.0",
      "_view_name": "HTMLView",
      "description": "",
      "description_tooltip": null,
      "layout": "IPY_MODEL_865180d7100c44e7bc392cadffa0b1d1",
      "placeholder": "​",
      "style": "IPY_MODEL_c7fc419800eb4af390bff04bac140adc",
      "value": " 1.36M/1.36M [00:00&lt;00:00, 8.21MB/s]"
     }
    },
    "a5506ba228094af2b25c9a6aba8bbe04": {
     "model_module": "@jupyter-widgets/base",
     "model_module_version": "1.2.0",
     "model_name": "LayoutModel",
     "state": {
      "_model_module": "@jupyter-widgets/base",
      "_model_module_version": "1.2.0",
      "_model_name": "LayoutModel",
      "_view_count": null,
      "_view_module": "@jupyter-widgets/base",
      "_view_module_version": "1.2.0",
      "_view_name": "LayoutView",
      "align_content": null,
      "align_items": null,
      "align_self": null,
      "border": null,
      "bottom": null,
      "display": null,
      "flex": null,
      "flex_flow": null,
      "grid_area": null,
      "grid_auto_columns": null,
      "grid_auto_flow": null,
      "grid_auto_rows": null,
      "grid_column": null,
      "grid_gap": null,
      "grid_row": null,
      "grid_template_areas": null,
      "grid_template_columns": null,
      "grid_template_rows": null,
      "height": null,
      "justify_content": null,
      "justify_items": null,
      "left": null,
      "margin": null,
      "max_height": null,
      "max_width": null,
      "min_height": null,
      "min_width": null,
      "object_fit": null,
      "object_position": null,
      "order": null,
      "overflow": null,
      "overflow_x": null,
      "overflow_y": null,
      "padding": null,
      "right": null,
      "top": null,
      "visibility": null,
      "width": null
     }
    },
    "b04171d5292a4516a588fb88d216adab": {
     "model_module": "@jupyter-widgets/controls",
     "model_module_version": "1.5.0",
     "model_name": "HBoxModel",
     "state": {
      "_dom_classes": [],
      "_model_module": "@jupyter-widgets/controls",
      "_model_module_version": "1.5.0",
      "_model_name": "HBoxModel",
      "_view_count": null,
      "_view_module": "@jupyter-widgets/controls",
      "_view_module_version": "1.5.0",
      "_view_name": "HBoxView",
      "box_style": "",
      "children": [
       "IPY_MODEL_bbc997be756146b0a0623b44bb3e401c",
       "IPY_MODEL_b066872ee8274f31b573a4e481c50e6a",
       "IPY_MODEL_99d1f09cb42a47ecb4747434053678c7"
      ],
      "layout": "IPY_MODEL_92c99c22b3dd44f985706ba3ae06f6fe"
     }
    },
    "b066872ee8274f31b573a4e481c50e6a": {
     "model_module": "@jupyter-widgets/controls",
     "model_module_version": "1.5.0",
     "model_name": "FloatProgressModel",
     "state": {
      "_dom_classes": [],
      "_model_module": "@jupyter-widgets/controls",
      "_model_module_version": "1.5.0",
      "_model_name": "FloatProgressModel",
      "_view_count": null,
      "_view_module": "@jupyter-widgets/controls",
      "_view_module_version": "1.5.0",
      "_view_name": "ProgressView",
      "bar_style": "success",
      "description": "",
      "description_tooltip": null,
      "layout": "IPY_MODEL_308cf0e6630f4819b22aa302171b9b96",
      "max": 1355256,
      "min": 0,
      "orientation": "horizontal",
      "style": "IPY_MODEL_296b1c3bd04b4a4b9f7e6e4c6fed1c66",
      "value": 1355256
     }
    },
    "b13d11a7ccd94f698c7db47108a37edb": {
     "model_module": "@jupyter-widgets/controls",
     "model_module_version": "1.5.0",
     "model_name": "HTMLModel",
     "state": {
      "_dom_classes": [],
      "_model_module": "@jupyter-widgets/controls",
      "_model_module_version": "1.5.0",
      "_model_name": "HTMLModel",
      "_view_count": null,
      "_view_module": "@jupyter-widgets/controls",
      "_view_module_version": "1.5.0",
      "_view_name": "HTMLView",
      "description": "",
      "description_tooltip": null,
      "layout": "IPY_MODEL_4299dc538ada4e98a79cf3d6d188c200",
      "placeholder": "​",
      "style": "IPY_MODEL_1ea30b8671324a3a9e8157478cd13aa1",
      "value": "Downloading (…)lve/main/config.json: 100%"
     }
    },
    "b178621520a942468c57d23768dec9c5": {
     "model_module": "@jupyter-widgets/controls",
     "model_module_version": "1.5.0",
     "model_name": "HTMLModel",
     "state": {
      "_dom_classes": [],
      "_model_module": "@jupyter-widgets/controls",
      "_model_module_version": "1.5.0",
      "_model_name": "HTMLModel",
      "_view_count": null,
      "_view_module": "@jupyter-widgets/controls",
      "_view_module_version": "1.5.0",
      "_view_name": "HTMLView",
      "description": "",
      "description_tooltip": null,
      "layout": "IPY_MODEL_21d542c3f5ba45c18cfbe116448bbf4a",
      "placeholder": "​",
      "style": "IPY_MODEL_55bf83a93d874759a602562b0403e9b2",
      "value": "Downloading (…)neration_config.json: 100%"
     }
    },
    "b585ea865de949e28a68367b42f7264d": {
     "model_module": "@jupyter-widgets/controls",
     "model_module_version": "1.5.0",
     "model_name": "FloatProgressModel",
     "state": {
      "_dom_classes": [],
      "_model_module": "@jupyter-widgets/controls",
      "_model_module_version": "1.5.0",
      "_model_name": "FloatProgressModel",
      "_view_count": null,
      "_view_module": "@jupyter-widgets/controls",
      "_view_module_version": "1.5.0",
      "_view_name": "ProgressView",
      "bar_style": "success",
      "description": "",
      "description_tooltip": null,
      "layout": "IPY_MODEL_48ad049d8e4d4d3f837a50668eb87b35",
      "max": 1042301,
      "min": 0,
      "orientation": "horizontal",
      "style": "IPY_MODEL_7a4f66e099ad48bf9e9095f4c1a89330",
      "value": 1042301
     }
    },
    "b8a2a905309b473094ae1cfc2b24fcc4": {
     "model_module": "@jupyter-widgets/controls",
     "model_module_version": "1.5.0",
     "model_name": "HTMLModel",
     "state": {
      "_dom_classes": [],
      "_model_module": "@jupyter-widgets/controls",
      "_model_module_version": "1.5.0",
      "_model_name": "HTMLModel",
      "_view_count": null,
      "_view_module": "@jupyter-widgets/controls",
      "_view_module_version": "1.5.0",
      "_view_name": "HTMLView",
      "description": "",
      "description_tooltip": null,
      "layout": "IPY_MODEL_8480c633fa714c9c9bed38fa21cd461d",
      "placeholder": "​",
      "style": "IPY_MODEL_565f592707ef476f907969e8b520435b",
      "value": "Downloading (…)&quot;pytorch_model.bin&quot;;: 100%"
     }
    },
    "ba392f7181504a4e9516e0c065eff319": {
     "model_module": "@jupyter-widgets/controls",
     "model_module_version": "1.5.0",
     "model_name": "DescriptionStyleModel",
     "state": {
      "_model_module": "@jupyter-widgets/controls",
      "_model_module_version": "1.5.0",
      "_model_name": "DescriptionStyleModel",
      "_view_count": null,
      "_view_module": "@jupyter-widgets/base",
      "_view_module_version": "1.2.0",
      "_view_name": "StyleView",
      "description_width": ""
     }
    },
    "baaa7a657a9844b7ba92ddcebf9257d2": {
     "model_module": "@jupyter-widgets/controls",
     "model_module_version": "1.5.0",
     "model_name": "DescriptionStyleModel",
     "state": {
      "_model_module": "@jupyter-widgets/controls",
      "_model_module_version": "1.5.0",
      "_model_name": "DescriptionStyleModel",
      "_view_count": null,
      "_view_module": "@jupyter-widgets/base",
      "_view_module_version": "1.2.0",
      "_view_name": "StyleView",
      "description_width": ""
     }
    },
    "bbc997be756146b0a0623b44bb3e401c": {
     "model_module": "@jupyter-widgets/controls",
     "model_module_version": "1.5.0",
     "model_name": "HTMLModel",
     "state": {
      "_dom_classes": [],
      "_model_module": "@jupyter-widgets/controls",
      "_model_module_version": "1.5.0",
      "_model_name": "HTMLModel",
      "_view_count": null,
      "_view_module": "@jupyter-widgets/controls",
      "_view_module_version": "1.5.0",
      "_view_name": "HTMLView",
      "description": "",
      "description_tooltip": null,
      "layout": "IPY_MODEL_421922c3f6264f838282aa55916f2d24",
      "placeholder": "​",
      "style": "IPY_MODEL_d5e617dacb9343a2b51c6b7b72e8713b",
      "value": "Downloading (…)/main/tokenizer.json: 100%"
     }
    },
    "bff0552b9ee64431a6ea4eac8d6695bc": {
     "model_module": "@jupyter-widgets/controls",
     "model_module_version": "1.5.0",
     "model_name": "HTMLModel",
     "state": {
      "_dom_classes": [],
      "_model_module": "@jupyter-widgets/controls",
      "_model_module_version": "1.5.0",
      "_model_name": "HTMLModel",
      "_view_count": null,
      "_view_module": "@jupyter-widgets/controls",
      "_view_module_version": "1.5.0",
      "_view_name": "HTMLView",
      "description": "",
      "description_tooltip": null,
      "layout": "IPY_MODEL_0211a76bc3584919bb75cfa545e05524",
      "placeholder": "​",
      "style": "IPY_MODEL_0aba7fc7846348578c2d36811ea08f77",
      "value": " 665/665 [00:00&lt;00:00, 35.4kB/s]"
     }
    },
    "c7fc419800eb4af390bff04bac140adc": {
     "model_module": "@jupyter-widgets/controls",
     "model_module_version": "1.5.0",
     "model_name": "DescriptionStyleModel",
     "state": {
      "_model_module": "@jupyter-widgets/controls",
      "_model_module_version": "1.5.0",
      "_model_name": "DescriptionStyleModel",
      "_view_count": null,
      "_view_module": "@jupyter-widgets/base",
      "_view_module_version": "1.2.0",
      "_view_name": "StyleView",
      "description_width": ""
     }
    },
    "c9cbba73a58849fbb261e00e2c815259": {
     "model_module": "@jupyter-widgets/controls",
     "model_module_version": "1.5.0",
     "model_name": "HTMLModel",
     "state": {
      "_dom_classes": [],
      "_model_module": "@jupyter-widgets/controls",
      "_model_module_version": "1.5.0",
      "_model_name": "HTMLModel",
      "_view_count": null,
      "_view_module": "@jupyter-widgets/controls",
      "_view_module_version": "1.5.0",
      "_view_name": "HTMLView",
      "description": "",
      "description_tooltip": null,
      "layout": "IPY_MODEL_61d63dd47c88437ea3994497fbb71ecb",
      "placeholder": "​",
      "style": "IPY_MODEL_ba392f7181504a4e9516e0c065eff319",
      "value": " 548M/548M [00:02&lt;00:00, 210MB/s]"
     }
    },
    "d0de268a70bd4136806dccbdcd2b378f": {
     "model_module": "@jupyter-widgets/base",
     "model_module_version": "1.2.0",
     "model_name": "LayoutModel",
     "state": {
      "_model_module": "@jupyter-widgets/base",
      "_model_module_version": "1.2.0",
      "_model_name": "LayoutModel",
      "_view_count": null,
      "_view_module": "@jupyter-widgets/base",
      "_view_module_version": "1.2.0",
      "_view_name": "LayoutView",
      "align_content": null,
      "align_items": null,
      "align_self": null,
      "border": null,
      "bottom": null,
      "display": null,
      "flex": null,
      "flex_flow": null,
      "grid_area": null,
      "grid_auto_columns": null,
      "grid_auto_flow": null,
      "grid_auto_rows": null,
      "grid_column": null,
      "grid_gap": null,
      "grid_row": null,
      "grid_template_areas": null,
      "grid_template_columns": null,
      "grid_template_rows": null,
      "height": null,
      "justify_content": null,
      "justify_items": null,
      "left": null,
      "margin": null,
      "max_height": null,
      "max_width": null,
      "min_height": null,
      "min_width": null,
      "object_fit": null,
      "object_position": null,
      "order": null,
      "overflow": null,
      "overflow_x": null,
      "overflow_y": null,
      "padding": null,
      "right": null,
      "top": null,
      "visibility": null,
      "width": null
     }
    },
    "d484acc4804049a786fd74f0f0a67588": {
     "model_module": "@jupyter-widgets/controls",
     "model_module_version": "1.5.0",
     "model_name": "HTMLModel",
     "state": {
      "_dom_classes": [],
      "_model_module": "@jupyter-widgets/controls",
      "_model_module_version": "1.5.0",
      "_model_name": "HTMLModel",
      "_view_count": null,
      "_view_module": "@jupyter-widgets/controls",
      "_view_module_version": "1.5.0",
      "_view_name": "HTMLView",
      "description": "",
      "description_tooltip": null,
      "layout": "IPY_MODEL_e9d5d29e4ef44526865133aaaa487e78",
      "placeholder": "​",
      "style": "IPY_MODEL_4e1014ea19264321b1bbfda7aed691ce",
      "value": " 124/124 [00:00&lt;00:00, 8.34kB/s]"
     }
    },
    "d5e617dacb9343a2b51c6b7b72e8713b": {
     "model_module": "@jupyter-widgets/controls",
     "model_module_version": "1.5.0",
     "model_name": "DescriptionStyleModel",
     "state": {
      "_model_module": "@jupyter-widgets/controls",
      "_model_module_version": "1.5.0",
      "_model_name": "DescriptionStyleModel",
      "_view_count": null,
      "_view_module": "@jupyter-widgets/base",
      "_view_module_version": "1.2.0",
      "_view_name": "StyleView",
      "description_width": ""
     }
    },
    "d67d768dc2964e4c842ec634f7cf58e5": {
     "model_module": "@jupyter-widgets/controls",
     "model_module_version": "1.5.0",
     "model_name": "ProgressStyleModel",
     "state": {
      "_model_module": "@jupyter-widgets/controls",
      "_model_module_version": "1.5.0",
      "_model_name": "ProgressStyleModel",
      "_view_count": null,
      "_view_module": "@jupyter-widgets/base",
      "_view_module_version": "1.2.0",
      "_view_name": "StyleView",
      "bar_color": null,
      "description_width": ""
     }
    },
    "dab22c0086f948818204059ffdc1d2f1": {
     "model_module": "@jupyter-widgets/controls",
     "model_module_version": "1.5.0",
     "model_name": "ProgressStyleModel",
     "state": {
      "_model_module": "@jupyter-widgets/controls",
      "_model_module_version": "1.5.0",
      "_model_name": "ProgressStyleModel",
      "_view_count": null,
      "_view_module": "@jupyter-widgets/base",
      "_view_module_version": "1.2.0",
      "_view_name": "StyleView",
      "bar_color": null,
      "description_width": ""
     }
    },
    "ddaefb30580d4ac1adcb4e6138a218db": {
     "model_module": "@jupyter-widgets/controls",
     "model_module_version": "1.5.0",
     "model_name": "HBoxModel",
     "state": {
      "_dom_classes": [],
      "_model_module": "@jupyter-widgets/controls",
      "_model_module_version": "1.5.0",
      "_model_name": "HBoxModel",
      "_view_count": null,
      "_view_module": "@jupyter-widgets/controls",
      "_view_module_version": "1.5.0",
      "_view_name": "HBoxView",
      "box_style": "",
      "children": [
       "IPY_MODEL_b13d11a7ccd94f698c7db47108a37edb",
       "IPY_MODEL_76b593dedd6346e49a50d032c4b25e3d",
       "IPY_MODEL_bff0552b9ee64431a6ea4eac8d6695bc"
      ],
      "layout": "IPY_MODEL_76ea9a895e324a50b8db939980ffdbed"
     }
    },
    "e55bd007e20d4fffb97a8fa20bf059e8": {
     "model_module": "@jupyter-widgets/controls",
     "model_module_version": "1.5.0",
     "model_name": "HBoxModel",
     "state": {
      "_dom_classes": [],
      "_model_module": "@jupyter-widgets/controls",
      "_model_module_version": "1.5.0",
      "_model_name": "HBoxModel",
      "_view_count": null,
      "_view_module": "@jupyter-widgets/controls",
      "_view_module_version": "1.5.0",
      "_view_name": "HBoxView",
      "box_style": "",
      "children": [
       "IPY_MODEL_b178621520a942468c57d23768dec9c5",
       "IPY_MODEL_229a58d38ac049c8bb6692dd19713961",
       "IPY_MODEL_d484acc4804049a786fd74f0f0a67588"
      ],
      "layout": "IPY_MODEL_651a2ba374ea4779b94904eabc30982d"
     }
    },
    "e8ce0b8fa1024ab8ad1f4afabc40f4bc": {
     "model_module": "@jupyter-widgets/controls",
     "model_module_version": "1.5.0",
     "model_name": "HTMLModel",
     "state": {
      "_dom_classes": [],
      "_model_module": "@jupyter-widgets/controls",
      "_model_module_version": "1.5.0",
      "_model_name": "HTMLModel",
      "_view_count": null,
      "_view_module": "@jupyter-widgets/controls",
      "_view_module_version": "1.5.0",
      "_view_name": "HTMLView",
      "description": "",
      "description_tooltip": null,
      "layout": "IPY_MODEL_4b23664a44254cceafdeb11c3233952f",
      "placeholder": "​",
      "style": "IPY_MODEL_ffc4ab3f25e749268547690002a4b8c5",
      "value": "Downloading (…)olve/main/merges.txt: 100%"
     }
    },
    "e9d5d29e4ef44526865133aaaa487e78": {
     "model_module": "@jupyter-widgets/base",
     "model_module_version": "1.2.0",
     "model_name": "LayoutModel",
     "state": {
      "_model_module": "@jupyter-widgets/base",
      "_model_module_version": "1.2.0",
      "_model_name": "LayoutModel",
      "_view_count": null,
      "_view_module": "@jupyter-widgets/base",
      "_view_module_version": "1.2.0",
      "_view_name": "LayoutView",
      "align_content": null,
      "align_items": null,
      "align_self": null,
      "border": null,
      "bottom": null,
      "display": null,
      "flex": null,
      "flex_flow": null,
      "grid_area": null,
      "grid_auto_columns": null,
      "grid_auto_flow": null,
      "grid_auto_rows": null,
      "grid_column": null,
      "grid_gap": null,
      "grid_row": null,
      "grid_template_areas": null,
      "grid_template_columns": null,
      "grid_template_rows": null,
      "height": null,
      "justify_content": null,
      "justify_items": null,
      "left": null,
      "margin": null,
      "max_height": null,
      "max_width": null,
      "min_height": null,
      "min_width": null,
      "object_fit": null,
      "object_position": null,
      "order": null,
      "overflow": null,
      "overflow_x": null,
      "overflow_y": null,
      "padding": null,
      "right": null,
      "top": null,
      "visibility": null,
      "width": null
     }
    },
    "ead93b6eccab4a2eab37a8ec153144b3": {
     "model_module": "@jupyter-widgets/controls",
     "model_module_version": "1.5.0",
     "model_name": "DescriptionStyleModel",
     "state": {
      "_model_module": "@jupyter-widgets/controls",
      "_model_module_version": "1.5.0",
      "_model_name": "DescriptionStyleModel",
      "_view_count": null,
      "_view_module": "@jupyter-widgets/base",
      "_view_module_version": "1.2.0",
      "_view_name": "StyleView",
      "description_width": ""
     }
    },
    "ebc59d731eef438f8910a7cfde4a17c8": {
     "model_module": "@jupyter-widgets/controls",
     "model_module_version": "1.5.0",
     "model_name": "HBoxModel",
     "state": {
      "_dom_classes": [],
      "_model_module": "@jupyter-widgets/controls",
      "_model_module_version": "1.5.0",
      "_model_name": "HBoxModel",
      "_view_count": null,
      "_view_module": "@jupyter-widgets/controls",
      "_view_module_version": "1.5.0",
      "_view_name": "HBoxView",
      "box_style": "",
      "children": [
       "IPY_MODEL_b8a2a905309b473094ae1cfc2b24fcc4",
       "IPY_MODEL_453d5d53ca1a46b881f7ebfd2630a742",
       "IPY_MODEL_c9cbba73a58849fbb261e00e2c815259"
      ],
      "layout": "IPY_MODEL_683b55d1fe3a41e5b5b6f32b1f858842"
     }
    },
    "ec82b7f1d9524ffcb7d505479ae3499b": {
     "model_module": "@jupyter-widgets/controls",
     "model_module_version": "1.5.0",
     "model_name": "ProgressStyleModel",
     "state": {
      "_model_module": "@jupyter-widgets/controls",
      "_model_module_version": "1.5.0",
      "_model_name": "ProgressStyleModel",
      "_view_count": null,
      "_view_module": "@jupyter-widgets/base",
      "_view_module_version": "1.2.0",
      "_view_name": "StyleView",
      "bar_color": null,
      "description_width": ""
     }
    },
    "f45d40493bae44a3ab6a7ed702c53dc8": {
     "model_module": "@jupyter-widgets/controls",
     "model_module_version": "1.5.0",
     "model_name": "FloatProgressModel",
     "state": {
      "_dom_classes": [],
      "_model_module": "@jupyter-widgets/controls",
      "_model_module_version": "1.5.0",
      "_model_name": "FloatProgressModel",
      "_view_count": null,
      "_view_module": "@jupyter-widgets/controls",
      "_view_module_version": "1.5.0",
      "_view_name": "ProgressView",
      "bar_style": "success",
      "description": "",
      "description_tooltip": null,
      "layout": "IPY_MODEL_64d127767932428286a5664e5252a85a",
      "max": 456318,
      "min": 0,
      "orientation": "horizontal",
      "style": "IPY_MODEL_dab22c0086f948818204059ffdc1d2f1",
      "value": 456318
     }
    },
    "fddac4329dbc4fa78bfda3455528256b": {
     "model_module": "@jupyter-widgets/base",
     "model_module_version": "1.2.0",
     "model_name": "LayoutModel",
     "state": {
      "_model_module": "@jupyter-widgets/base",
      "_model_module_version": "1.2.0",
      "_model_name": "LayoutModel",
      "_view_count": null,
      "_view_module": "@jupyter-widgets/base",
      "_view_module_version": "1.2.0",
      "_view_name": "LayoutView",
      "align_content": null,
      "align_items": null,
      "align_self": null,
      "border": null,
      "bottom": null,
      "display": null,
      "flex": null,
      "flex_flow": null,
      "grid_area": null,
      "grid_auto_columns": null,
      "grid_auto_flow": null,
      "grid_auto_rows": null,
      "grid_column": null,
      "grid_gap": null,
      "grid_row": null,
      "grid_template_areas": null,
      "grid_template_columns": null,
      "grid_template_rows": null,
      "height": null,
      "justify_content": null,
      "justify_items": null,
      "left": null,
      "margin": null,
      "max_height": null,
      "max_width": null,
      "min_height": null,
      "min_width": null,
      "object_fit": null,
      "object_position": null,
      "order": null,
      "overflow": null,
      "overflow_x": null,
      "overflow_y": null,
      "padding": null,
      "right": null,
      "top": null,
      "visibility": null,
      "width": null
     }
    },
    "ffc4ab3f25e749268547690002a4b8c5": {
     "model_module": "@jupyter-widgets/controls",
     "model_module_version": "1.5.0",
     "model_name": "DescriptionStyleModel",
     "state": {
      "_model_module": "@jupyter-widgets/controls",
      "_model_module_version": "1.5.0",
      "_model_name": "DescriptionStyleModel",
      "_view_count": null,
      "_view_module": "@jupyter-widgets/base",
      "_view_module_version": "1.2.0",
      "_view_name": "StyleView",
      "description_width": ""
     }
    }
   }
  }
 },
 "nbformat": 4,
 "nbformat_minor": 4
}
