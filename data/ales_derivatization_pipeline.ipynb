{
 "cells": [
  {
   "cell_type": "markdown",
   "metadata": {},
   "source": [
    "# In-silico derivatization\n",
    "\n",
    "The notebook reads a list of SMILES (text file, one molecule per line), and performs in-silico MeOX + TMS derivatization (as described e.g. in https://doi.org/10.1021/acs.analchem.7b01010):\n",
    "\n",
    "* Metoxymation: ketone R(C=O)R' and aldehyde karboxyl groups are substituted with C=NO[CH3]\n",
    "* Trimethylsilylation: in -OH, -SH, -NH2, -NHR, =NH, the hydrogen is substituted with -SiMe3\n",
    "\n",
    "The probability of all the substitutions can be adjusted, they needn't happen always. Multiple substitution attempts are run on each input molecule, and all distinct results are returned.\n",
    "\n",
    "Known limitation is metoxymation on cycles which should be broken. This is not implemented yet.\n",
    "\n",
    "The final outputs are two files:\n",
    "\n",
    "* `derivs_struct.tsv` with columns (all SMILES):\n",
    "  * original\n",
    "  * with derivatization groups stripped\n",
    "  * column #2 derivatized (multiple times) according to the above rules\n",
    "* `derivs_flat.txt` -- the above with all the smiles flattened, one per line\n",
    "\n"
   ]
  },
  {
   "cell_type": "markdown",
   "metadata": {},
   "source": [
    "### Import what we need and setup the environment"
   ]
  },
  {
   "cell_type": "code",
   "execution_count": 3,
   "metadata": {},
   "outputs": [
    {
     "name": "stdout",
     "output_type": "stream",
     "text": [
      "Defaulting to user installation because normal site-packages is not writeable\n",
      "Collecting py3Dmol\n",
      "  Downloading py3Dmol-1.8.0-py2.py3-none-any.whl (6.4 kB)\n",
      "Installing collected packages: py3Dmol\n",
      "Successfully installed py3Dmol-1.8.0\n",
      "Note: you may need to restart the kernel to use updated packages.\n"
     ]
    }
   ],
   "source": [
    "pip install py3Dmol"
   ]
  },
  {
   "cell_type": "code",
   "execution_count": 2,
   "metadata": {},
   "outputs": [
    {
     "name": "stdout",
     "output_type": "stream",
     "text": [
      "# cpus (including HT, typically):  112\n"
     ]
    }
   ],
   "source": [
    "from rdkit import Chem\n",
    "from rdkit.Chem import AllChem\n",
    "from rdkit.Chem.Draw import IPythonConsole\n",
    "from copy import deepcopy\n",
    "import random\n",
    "\n",
    "IPythonConsole.drawOptions.addAtomIndices = True\n",
    "IPythonConsole.molSize = 200,200\n",
    "\n",
    "random.seed(42)\n",
    "\n",
    "import multiprocessing\n",
    "from concurrent.futures import ProcessPoolExecutor\n",
    "cpus = multiprocessing.cpu_count()\n",
    "print('# cpus (including HT, typically): ', cpus)\n",
    "\n",
    "# don't run on HT cores, it just makes congestion\n",
    "cpus //= 2"
   ]
  },
  {
   "cell_type": "markdown",
   "metadata": {},
   "source": [
    "### Utility function for 3D rendering"
   ]
  },
  {
   "cell_type": "code",
   "execution_count": 3,
   "metadata": {},
   "outputs": [],
   "source": [
    "import py3Dmol\n",
    "\n",
    "def draw3d(m,dimensions=(500,300),p=None):\n",
    "    AllChem.EmbedMultipleConfs(m, clearConfs=True, numConfs=50)\n",
    "    opt =  AllChem.MMFFOptimizeMoleculeConfs(m)\n",
    "    conf = min(range(len(opt)),key = lambda x: opt[x][1] if opt[x][0] == 0 else float(\"inf\") )\n",
    "    \n",
    "    mb = Chem.MolToMolBlock(m,confId=conf)\n",
    "    if p is None:\n",
    "        p = py3Dmol.view(width=dimensions[0],height=dimensions[1])\n",
    "    p.removeAllModels()\n",
    "    p.addModel(mb,'sdf')\n",
    "    p.setStyle({'stick':{}})\n",
    "    p.setBackgroundColor('0xeeeeee')\n",
    "    p.zoomTo()\n",
    "    return p.show()"
   ]
  },
  {
   "cell_type": "markdown",
   "metadata": {},
   "source": [
    "### The main functionality\n",
    "\n",
    "All these functions take either RDKit molecule object or SMILES as argument.\n",
    "`is_derivatized()` returns bool, the other two sanitized RDKit molecule."
   ]
  },
  {
   "cell_type": "code",
   "execution_count": 4,
   "metadata": {},
   "outputs": [],
   "source": [
    "tms = '[Si]([CH3])([CH3])[CH3]'\n",
    "\n",
    "# XXX: ~[O,N,S] would match more than we aim to (-O, -S, -N, =N) but it's unlikely to happen\n",
    "tms_match = Chem.MolFromSmarts('*~[O,N,S]' + tms)\n",
    "tms_match0 = Chem.MolFromSmarts('[#0]([CH3])([CH3])[CH3]')\n",
    "\n",
    "meox_match_co = Chem.MolFromSmarts('C([C,c])([C,c])=NO[CH3]')\n",
    "meox_match_cho = Chem.MolFromSmarts('[CH]([C,c])=NO[CH3]')\n",
    "meox_match0 = Chem.MolFromSmarts('[#0]=NO[CH3]')\n",
    "co = Chem.MolFromSmiles('C=O')\n",
    "\n",
    "def is_derivatized(mol=None,smiles=None):\n",
    "    if mol is None:\n",
    "        mol = Chem.MolFromSmiles(smiles)\n",
    "    mol = Chem.AddHs(mol)\n",
    "    return mol.HasSubstructMatch(tms_match) or mol.HasSubstructMatch(meox_match_co) or mol.HasSubstructMatch(meox_match_cho)\n",
    "\n",
    "def remove_derivatization_groups(mol=None,smiles=None):\n",
    "    if mol is None:\n",
    "        em = Chem.MolFromSmiles(smiles)\n",
    "    else:\n",
    "        em = deepcopy(mol)\n",
    "        \n",
    "    matches = em.GetSubstructMatches(tms_match)\n",
    "    for ma in matches:\n",
    "        em.GetAtomWithIdx(ma[2]).SetAtomicNum(0)\n",
    "    \n",
    "    em = AllChem.DeleteSubstructs(em,tms_match0)\n",
    "    \n",
    "    matches = em.GetSubstructMatches(meox_match_co)\n",
    "    for ma in matches:\n",
    "        em.GetAtomWithIdx(ma[0]).SetAtomicNum(0)\n",
    "    matches = em.GetSubstructMatches(meox_match_cho)\n",
    "    for ma in matches:\n",
    "        em.GetAtomWithIdx(ma[0]).SetAtomicNum(0)\n",
    "        \n",
    "    em, = AllChem.ReplaceSubstructs(em,meox_match0,co,replaceAll=True)\n",
    "    Chem.SanitizeMol(em)\n",
    "    return em\n",
    "\n",
    "# (match pattern, dummy atom #, probability)\n",
    "_subs = [\n",
    " ('[OH]', [100], [.95]),\n",
    " ('[SH]', [101], [.80]),\n",
    "# matches also imine\n",
    " ('[NH]', [102], [.50]),\n",
    " ('[NH2]', [103,102], [.25, .5]),  \n",
    " ('C([C,c])([C,c])=O', [104], [.90]),\n",
    " ('[CH]=O', [104], [.90]),\n",
    "]\n",
    "\n",
    "# (dummy atom #, replacement)\n",
    "_repls = [\n",
    "    ('[#100]', 'O'+tms),\n",
    "    ('[#101]', 'S'+tms),\n",
    "    ('[#102]', 'N'+tms),\n",
    "    ('[#103]', f'N({tms}){tms}'),\n",
    "    ('[#104]=O', 'C=NO[CH3]'),\n",
    "]\n",
    "\n",
    "#repls = list(zip(\n",
    "#    map(lambda n: Chem.MolFromSmarts(f'[#{n}]'),_repls),\n",
    "#    map(Chem.MolFromSmiles,_repls.values())\n",
    "#))\n",
    "\n",
    "subs = [ (Chem.MolFromSmarts(pat), repls, probs) for pat,repls,probs in _subs]\n",
    "repls = [ (Chem.MolFromSmarts(pat), Chem.MolFromSmiles(repl)) for pat,repl in _repls]\n",
    "\n",
    "\n",
    "\n",
    "def add_derivatization_groups(mol=None,smiles=None):\n",
    "    if mol is None:\n",
    "        mol = Chem.MolFromSmiles(smiles)\n",
    "        \n",
    "    em = deepcopy(mol)\n",
    "\n",
    "    for pat,reps,probs in subs:\n",
    "        matches = em.GetSubstructMatches(pat)\n",
    "#        print(matches)\n",
    "        for m in matches:\n",
    "            r = random.random()\n",
    "            for repl,prob in zip(reps,probs):\n",
    "                if r < prob: \n",
    "                    em.GetAtomWithIdx(m[0]).SetAtomicNum(repl)\n",
    "                    break\n",
    "                    \n",
    "    for pat,repl in repls:\n",
    "#       print(Chem.MolToSmiles(pat),Chem.MolToSmiles(repl),Chem.MolToSmiles(em))\n",
    "        em, = AllChem.ReplaceSubstructs(em,pat,repl,replaceAll=True)\n",
    "        \n",
    "    try:\n",
    "        Chem.SanitizeMol(em)\n",
    "        return em    \n",
    "    \n",
    "    except:\n",
    "        print(\"SatnitizeMol() fails:\", smiles if smiles else Chem.MolToSmiles(mol))\n",
    "        return mol\n",
    "        "
   ]
  },
  {
   "cell_type": "markdown",
   "metadata": {},
   "source": [
    "### Simple checks on manual inputs"
   ]
  },
  {
   "cell_type": "code",
   "execution_count": 5,
   "metadata": {},
   "outputs": [
    {
     "name": "stdout",
     "output_type": "stream",
     "text": [
      "CCC(=NOC)C True\n",
      "CCC=NOC True\n",
      "C=NOC True\n",
      "CSi(C)(C)C True\n"
     ]
    }
   ],
   "source": [
    "for s in ['CCC(=NOC)C', 'CCC=NOC', 'C=NOC', 'CSi(C)(C)C']:\n",
    "    print(s,is_derivatized(smiles='CCC(=NOC)C'))"
   ]
  },
  {
   "cell_type": "code",
   "execution_count": 6,
   "metadata": {},
   "outputs": [
    {
     "data": {
      "image/png": "[encoded data removed]",
      "text/plain": [
       "<rdkit.Chem.rdchem.Mol at 0x149c39225cf0>"
      ]
     },
     "execution_count": 6,
     "metadata": {},
     "output_type": "execute_result"
    }
   ],
   "source": [
    "remove_derivatization_groups(smiles='CCC(=N)C')"
   ]
  },
  {
   "cell_type": "code",
   "execution_count": 7,
   "metadata": {},
   "outputs": [
    {
     "data": {
      "image/png": "[encoded data removed]",
      "text/plain": [
       "<rdkit.Chem.rdchem.Mol at 0x149c391c1570>"
      ]
     },
     "execution_count": 7,
     "metadata": {},
     "output_type": "execute_result"
    }
   ],
   "source": [
    "m=Chem.MolFromSmiles('CCC=NOC')\n",
    "remove_derivatization_groups(m)"
   ]
  },
  {
   "cell_type": "code",
   "execution_count": 8,
   "metadata": {},
   "outputs": [
    {
     "data": {
      "image/png": "[encoded data removed]",
      "text/plain": [
       "<rdkit.Chem.rdchem.Mol at 0x149c391c1d50>"
      ]
     },
     "execution_count": 8,
     "metadata": {},
     "output_type": "execute_result"
    }
   ],
   "source": [
    "remove_derivatization_groups(smiles='C[Si](C)(C)OCCCO[Si](C)(C)C')"
   ]
  },
  {
   "cell_type": "code",
   "execution_count": 9,
   "metadata": {},
   "outputs": [
    {
     "data": {
      "image/png": "[encoded data removed]",
      "text/plain": [
       "<rdkit.Chem.rdchem.Mol at 0x149c391c1bd0>"
      ]
     },
     "execution_count": 9,
     "metadata": {},
     "output_type": "execute_result"
    }
   ],
   "source": [
    "m=remove_derivatization_groups(smiles='CON=CC(O)C=NOC')\n",
    "m"
   ]
  },
  {
   "cell_type": "code",
   "execution_count": 10,
   "metadata": {},
   "outputs": [
    {
     "data": {
      "image/png": "[encoded data removed]",
      "text/plain": [
       "<rdkit.Chem.rdchem.Mol at 0x149c391c1f30>"
      ]
     },
     "execution_count": 10,
     "metadata": {},
     "output_type": "execute_result"
    }
   ],
   "source": [
    "add_derivatization_groups(m)"
   ]
  },
  {
   "cell_type": "markdown",
   "metadata": {},
   "source": [
    "### Read the input file\n",
    "\n",
    "The file is parsed line by line, errors are reported and ignored otherwise. \n",
    "\n",
    "The result is `mol[]`, a list of pairs (_original SMILES_, _RDKit molecule_)"
   ]
  },
  {
   "cell_type": "code",
   "execution_count": 11,
   "metadata": {},
   "outputs": [
    {
     "name": "stdout",
     "output_type": "stream",
     "text": [
      "/auto/brno6/home/ahajek/Spektro/MassGenie/data\n"
     ]
    }
   ],
   "source": [
    "!pwd"
   ]
  },
  {
   "cell_type": "code",
   "execution_count": 12,
   "metadata": {},
   "outputs": [],
   "source": [
    "#smi_file='NIST_Si_100.txt'\n",
    "#smi_file='NIST_Si_all.txt'\n",
    "#smi_file='NIST_SMILES.txt'\n",
    "smi_file='trial_set/1M.smi'\n",
    "\n",
    "# ADAM upravil, aby sedelo jeho datum\n",
    "with open(smi_file) as f:\n",
    "    f.readline() # only to skip the first line\n",
    "    mols = list(filter(lambda p: p[1], [ (line.split(\" \")[0].rstrip(), Chem.MolFromSmiles(line.split(\" \")[0])) for line in f ]))"
   ]
  },
  {
   "cell_type": "markdown",
   "metadata": {},
   "source": [
    "### Essential statistics\n",
    "\n",
    "Count occurrences of (one-),di-,tri-methylsilane, TMS attached to -O, -N, -S, and methoximine. "
   ]
  },
  {
   "cell_type": "code",
   "execution_count": 13,
   "metadata": {},
   "outputs": [
    {
     "ename": "NameError",
     "evalue": "name 'mols' is not defined",
     "output_type": "error",
     "traceback": [
      "\u001b[0;31m---------------------------------------------------------------------------\u001b[0m",
      "\u001b[0;31mNameError\u001b[0m                                 Traceback (most recent call last)",
      "\u001b[0;32m<ipython-input-13-8de46523b975>\u001b[0m in \u001b[0;36m<module>\u001b[0;34m\u001b[0m\n\u001b[1;32m      4\u001b[0m \u001b[0mONSSi\u001b[0m\u001b[0;34m=\u001b[0m\u001b[0mChem\u001b[0m\u001b[0;34m.\u001b[0m\u001b[0mMolFromSmarts\u001b[0m\u001b[0;34m(\u001b[0m\u001b[0;34m'[O,N,S][Si]([CH3])([CH3])[CH3]'\u001b[0m\u001b[0;34m)\u001b[0m\u001b[0;34m\u001b[0m\u001b[0;34m\u001b[0m\u001b[0m\n\u001b[1;32m      5\u001b[0m \u001b[0;34m\u001b[0m\u001b[0m\n\u001b[0;32m----> 6\u001b[0;31m \u001b[0mprint\u001b[0m\u001b[0;34m(\u001b[0m\u001b[0;34m'# total'\u001b[0m\u001b[0;34m,\u001b[0m\u001b[0mlen\u001b[0m\u001b[0;34m(\u001b[0m\u001b[0mmols\u001b[0m\u001b[0;34m)\u001b[0m\u001b[0;34m)\u001b[0m\u001b[0;34m\u001b[0m\u001b[0;34m\u001b[0m\u001b[0m\n\u001b[0m\u001b[1;32m      7\u001b[0m \u001b[0mwith_sime1\u001b[0m \u001b[0;34m=\u001b[0m \u001b[0mlist\u001b[0m\u001b[0;34m(\u001b[0m\u001b[0mfilter\u001b[0m\u001b[0;34m(\u001b[0m\u001b[0;32mlambda\u001b[0m \u001b[0mm\u001b[0m\u001b[0;34m:\u001b[0m \u001b[0mm\u001b[0m\u001b[0;34m[\u001b[0m\u001b[0;36m1\u001b[0m\u001b[0;34m]\u001b[0m\u001b[0;34m.\u001b[0m\u001b[0mHasSubstructMatch\u001b[0m\u001b[0;34m(\u001b[0m\u001b[0mSiMe1\u001b[0m\u001b[0;34m)\u001b[0m\u001b[0;34m,\u001b[0m\u001b[0mmols\u001b[0m\u001b[0;34m)\u001b[0m\u001b[0;34m)\u001b[0m\u001b[0;34m\u001b[0m\u001b[0;34m\u001b[0m\u001b[0m\n\u001b[1;32m      8\u001b[0m \u001b[0mprint\u001b[0m\u001b[0;34m(\u001b[0m\u001b[0;34m\"# with SiMe:\"\u001b[0m\u001b[0;34m,\u001b[0m \u001b[0mlen\u001b[0m\u001b[0;34m(\u001b[0m\u001b[0mwith_sime1\u001b[0m\u001b[0;34m)\u001b[0m\u001b[0;34m)\u001b[0m\u001b[0;34m\u001b[0m\u001b[0;34m\u001b[0m\u001b[0m\n",
      "\u001b[0;31mNameError\u001b[0m: name 'mols' is not defined"
     ]
    }
   ],
   "source": [
    "SiMe1=Chem.MolFromSmarts('[Si][CH3]')\n",
    "SiMe2=Chem.MolFromSmarts('[Si]([CH3])[CH3]')\n",
    "SiMe3=Chem.MolFromSmarts('[Si]([CH3])([CH3])[CH3]')\n",
    "ONSSi=Chem.MolFromSmarts('[O,N,S][Si]([CH3])([CH3])[CH3]')\n",
    "\n",
    "print('# total',len(mols))\n",
    "with_sime1 = list(filter(lambda m: m[1].HasSubstructMatch(SiMe1),mols))\n",
    "print(\"# with SiMe:\", len(with_sime1))\n",
    "with_sime2 = list(filter(lambda m: m[1].HasSubstructMatch(SiMe2),mols))\n",
    "print(\"# with SiMe2:\", len(with_sime2))\n",
    "with_sime3 = list(filter(lambda m: m[1].HasSubstructMatch(SiMe3),mols))\n",
    "print(\"# with SiMe3:\", len(with_sime3))\n",
    "with_onssi = list(filter(lambda m: m[1].HasSubstructMatch(ONSSi),mols))\n",
    "print(\"# with ONSSi:\", len(with_onssi))\n",
    "\n",
    "MeOX=Chem.MolFromSmarts('C=NO[CH3]')\n",
    "with_meox = list(filter(lambda m: m[1].HasSubstructMatch(MeOX),mols))\n",
    "print(\"# with MeOX:\", len(with_meox))\n",
    "\n",
    "\n"
   ]
  },
  {
   "cell_type": "markdown",
   "metadata": {},
   "source": [
    "### Inspect whatever from the sorted categories"
   ]
  },
  {
   "cell_type": "code",
   "execution_count": null,
   "metadata": {},
   "outputs": [],
   "source": [
    "with_sime2[70][1]"
   ]
  },
  {
   "cell_type": "code",
   "execution_count": null,
   "metadata": {},
   "outputs": [],
   "source": [
    "draw3d(with_sime2[70][1])"
   ]
  },
  {
   "cell_type": "code",
   "execution_count": null,
   "metadata": {},
   "outputs": [],
   "source": [
    "draw3d(with_onssi[52][1])"
   ]
  },
  {
   "cell_type": "code",
   "execution_count": null,
   "metadata": {},
   "outputs": [],
   "source": [
    "with_meox[4][1]"
   ]
  },
  {
   "cell_type": "code",
   "execution_count": null,
   "metadata": {},
   "outputs": [],
   "source": [
    "with open('NIST_ONSSiMe3.txt','w') as f:\n",
    "    for m in with_onssi:\n",
    "        f.write(m[0]+'\\n')\n",
    "        \n",
    "with open('NIST_SiMe3.txt','w') as f:\n",
    "    for m in with_sime3:\n",
    "        f.write(m[0]+'\\n')\n",
    "        \n",
    "with open('NIST_MeOX.txt','w') as f:\n",
    "    for m in with_meox:\n",
    "        f.write(m[0]+'\\n')"
   ]
  },
  {
   "cell_type": "code",
   "execution_count": null,
   "metadata": {},
   "outputs": [],
   "source": [
    "#test_smi='CCO[Si](C)(C)C'\n",
    "#test_smi='C[Si](C)(C)OCC-N[Si](C)(C)C'\n",
    "#test_m = Chem.MolFromSmiles(test_smi)\n",
    "test_m = with_onssi[35][1]\n",
    "Chem.AddHs(test_m)\n",
    "test_m"
   ]
  },
  {
   "cell_type": "code",
   "execution_count": null,
   "metadata": {},
   "outputs": [],
   "source": [
    "test_n = remove_derivatization_groups(test_m)\n",
    "Chem.AddHs(test_n)"
   ]
  },
  {
   "cell_type": "code",
   "execution_count": null,
   "metadata": {},
   "outputs": [],
   "source": [
    "test_d = add_derivatization_groups(test_n)\n",
    "test_d"
   ]
  },
  {
   "cell_type": "code",
   "execution_count": null,
   "metadata": {},
   "outputs": [],
   "source": [
    "draw3d(test_d)"
   ]
  },
  {
   "cell_type": "markdown",
   "metadata": {},
   "source": [
    "### Run the in-silico derivatization\n",
    "\n",
    "Iterate over the `mol[]` list (read from file above), remove derivatization groups from each entry, and try derivatization several times to leverage from the probabilistic behaviour). Assemble the results.\n",
    "\n",
    "This can be time consuming, expect about 5,000 entries per minute per core. Memory consumption can also grow to several GB."
   ]
  },
  {
   "cell_type": "code",
   "execution_count": null,
   "metadata": {},
   "outputs": [],
   "source": [
    "%%time\n",
    "def process_one_mol(mol):\n",
    "    return (\n",
    "        mol[0],\n",
    "        Chem.MolToSmiles(remove_derivatization_groups(mol[1])),\n",
    "        { Chem.MolToSmiles(add_derivatization_groups(mol[1])) for _ in range(42) }\n",
    "        )\n",
    "        \n",
    "with ProcessPoolExecutor(max_workers=cpus) as executor:\n",
    "    out = executor.map(process_one_mol,mols)\n",
    "    \n",
    "out = list(out)"
   ]
  },
  {
   "cell_type": "markdown",
   "metadata": {},
   "source": [
    "### Write the main outputs"
   ]
  },
  {
   "cell_type": "code",
   "execution_count": null,
   "metadata": {},
   "outputs": [],
   "source": [
    "with open('derivs_struct.tsv','w') as tsv:\n",
    "    tsv.write(\"orig\\tderiv. removed\\tderiv. added ...\\n\")\n",
    "    for orig,removed,added in out:\n",
    "        tsv.write(\"\\t\".join([orig,removed,*added]) + \"\\n\")"
   ]
  },
  {
   "cell_type": "code",
   "execution_count": null,
   "metadata": {},
   "outputs": [],
   "source": [
    "with open('derivs_flat.txt','w') as flat:\n",
    "    for orig,removed,added in out:\n",
    "        for one in { orig, removed, *added }:\n",
    "            flat.write(one + \"\\n\")"
   ]
  },
  {
   "cell_type": "code",
   "execution_count": null,
   "metadata": {},
   "outputs": [],
   "source": []
  }
 ],
 "metadata": {
  "kernelspec": {
   "display_name": "Python 3 (ipykernel)",
   "language": "python",
   "name": "python3"
  },
  "language_info": {
   "codemirror_mode": {
    "name": "ipython",
    "version": 3
   },
   "file_extension": ".py",
   "mimetype": "text/x-python",
   "name": "python",
   "nbconvert_exporter": "python",
   "pygments_lexer": "ipython3",
   "version": "3.8.13"
  }
 },
 "nbformat": 4,
 "nbformat_minor": 4
}
