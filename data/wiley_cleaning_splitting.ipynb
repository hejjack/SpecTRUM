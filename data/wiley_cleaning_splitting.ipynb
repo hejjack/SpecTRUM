{
 "cells": [
  {
   "cell_type": "markdown",
   "metadata": {},
   "source": [
    "## X) WILEY\n",
    "\n",
    "### X.Y) WILEY cleaning and splitting\n",
    "The core part of this section is altered from a [notebook](https://github.com/Jozefov/mass-spectra-prediction-GCN/blob/master/Notebooks/data_preprocessing.ipynb) created by Filip Jozefov.\n",
    "\n",
    "- in this subsection we use our in-house copy of the WILEY dataset that is annotated with SMILES using the MSMetaEnhancer tool\n",
    "- we canonize the smiles strings and remove stereochemistry information\n",
    "- we split the remaining data in the 0.8:0.1:0.1 ratio according to the train, validation, and test sets of the NIST dataset splitted earlier"
   ]
  },
  {
   "cell_type": "code",
   "execution_count": 2,
   "metadata": {},
   "outputs": [],
   "source": [
    "import sys\n",
    "sys.path.append('..')\n",
    "\n",
    "from matchms.importing import load_from_msp\n",
    "from matchms.exporting import save_as_msp\n",
    "from matchms import Spectrum\n",
    "import matchms\n",
    "\n",
    "import pandas as pd\n",
    "from rdkit import Chem\n",
    "\n",
    "import numpy as np\n",
    "import os\n",
    "import random\n",
    "import pandas as pd\n",
    "from tqdm import tqdm\n",
    "\n",
    "import matplotlib.pyplot as plt\n",
    "\n",
    "from utils.spectra_process_utils import remove_stereochemistry_and_canonicalize\n",
    "\n",
    "tqdm.pandas()"
   ]
  },
  {
   "cell_type": "code",
   "execution_count": 10,
   "metadata": {},
   "outputs": [],
   "source": [
    "PROJECT_ROOT = '/home/xhajek9/gc-ms_bart/clean_paper' # TODO: change this to the path of your project root\n",
    "WILEY_PATH = \"../data/datasets/WILEY/20240207_wiley_highres_annotations_all.msp\"\n",
    "NIST_TRAIN_PATH = '../clean_paper/data/nist/train.jsonl'\n",
    "NIST_TEST_PATH = '../clean_paper/data/nist/test.jsonl'\n",
    "NIST_VAL_PATH = '../clean_paper/data/nist/valid.jsonl'\n",
    "SEED = 42"
   ]
  },
  {
   "cell_type": "code",
   "execution_count": 8,
   "metadata": {},
   "outputs": [],
   "source": [
    "wiley_dataset = list(load_from_msp(WILEY_PATH, metadata_harmonization=False))"
   ]
  },
  {
   "cell_type": "code",
   "execution_count": 11,
   "metadata": {},
   "outputs": [],
   "source": [
    "nist_train = pd.read_json(NIST_TRAIN_PATH, lines=True)\n",
    "nist_test = pd.read_json(NIST_TEST_PATH, lines=True)\n",
    "nist_valid = pd.read_json(NIST_VAL_PATH, lines=True)"
   ]
  },
  {
   "cell_type": "code",
   "execution_count": 12,
   "metadata": {},
   "outputs": [],
   "source": [
    "np.random.seed(SEED)\n",
    "random.seed(SEED)"
   ]
  },
  {
   "cell_type": "markdown",
   "metadata": {},
   "source": [
    "#### Inspection of missing identifiers"
   ]
  },
  {
   "cell_type": "code",
   "execution_count": 13,
   "metadata": {},
   "outputs": [],
   "source": [
    "# count examined occurrences of specific data missing in our dataset\n",
    "def count_all(dataset):\n",
    "    \n",
    "    all_data = 0\n",
    "\n",
    "    no_smiles = 0\n",
    "    no_inchikey = 0\n",
    "    no_inchi = 0\n",
    "\n",
    "    no_smile_only = 0\n",
    "    no_inchikey_only = 0\n",
    "    both_missing_counter = 0\n",
    "\n",
    "    all_identifier_missing = 0\n",
    "\n",
    "    for obj in dataset:\n",
    "        if obj.get('smiles') == None:\n",
    "            no_smiles += 1\n",
    "        if obj.get('inchikey') == None:\n",
    "            no_inchikey += 1\n",
    "        if obj.get('inchi') == None:\n",
    "            no_inchi += 1\n",
    "        if obj.get('smiles') == None and obj.get('inchi') != None:\n",
    "            no_smile_only += 1\n",
    "        if obj.get('smiles') != None and obj.get('inchi') == None:\n",
    "            no_inchikey_only += 1\n",
    "        if obj.get('smiles') == None and obj.get('inchikey') != None:\n",
    "            both_missing_counter += 1\n",
    "        if obj.get('smiles') == None and obj.get('inchikey') == None and obj.get('inchi') == None:\n",
    "            all_identifier_missing += 1\n",
    "        all_data += 1\n",
    "    return (all_data, no_smiles, no_inchikey, no_inchi, no_smile_only, no_inchikey_only,\n",
    "            both_missing_counter, all_identifier_missing)"
   ]
  },
  {
   "cell_type": "code",
   "execution_count": 15,
   "metadata": {},
   "outputs": [
    {
     "name": "stderr",
     "output_type": "stream",
     "text": [
      "100%|██████████| 389652/389652 [00:32<00:00, 12024.57it/s]\n"
     ]
    }
   ],
   "source": [
    "all_data, no_smiles, no_inchikey, no_inchi, no_smile_only, no_inchikey_only,\\\n",
    "            both_missing_counter, all_identifier_missing = count_all(wiley_dataset)\n",
    "\n",
    "unique_smiles = set([obj.get('smiles') for obj in tqdm(wiley_dataset) if obj.get('smiles') != None])"
   ]
  },
  {
   "cell_type": "code",
   "execution_count": 16,
   "metadata": {},
   "outputs": [
    {
     "name": "stdout",
     "output_type": "stream",
     "text": [
      "We are currently working with 389652 smiles, from which 344874 are unique\n",
      "\n",
      "We are currently working with 389652 inchikeys\n",
      "\n",
      "We are currently working with 389652 inchi\n",
      "\n"
     ]
    }
   ],
   "source": [
    "print(f\"We are currently working with {all_data - no_smiles} smiles, from which {len(unique_smiles)} are unique\\n\")\n",
    "print(f\"We are currently working with {all_data - no_inchikey} inchikeys\\n\")\n",
    "print(f\"We are currently working with {all_data - no_inchi} inchi\\n\")"
   ]
  },
  {
   "cell_type": "code",
   "execution_count": 17,
   "metadata": {},
   "outputs": [
    {
     "data": {
      "text/html": [
       "<div>\n",
       "<style scoped>\n",
       "    .dataframe tbody tr th:only-of-type {\n",
       "        vertical-align: middle;\n",
       "    }\n",
       "\n",
       "    .dataframe tbody tr th {\n",
       "        vertical-align: top;\n",
       "    }\n",
       "\n",
       "    .dataframe thead th {\n",
       "        text-align: right;\n",
       "    }\n",
       "</style>\n",
       "<table border=\"1\" class=\"dataframe\">\n",
       "  <thead>\n",
       "    <tr style=\"text-align: right;\">\n",
       "      <th></th>\n",
       "      <th>Count</th>\n",
       "      <th>average</th>\n",
       "    </tr>\n",
       "  </thead>\n",
       "  <tbody>\n",
       "    <tr>\n",
       "      <th>All data</th>\n",
       "      <td>389652</td>\n",
       "      <td>1.0</td>\n",
       "    </tr>\n",
       "    <tr>\n",
       "      <th>No smiles</th>\n",
       "      <td>0</td>\n",
       "      <td>0.0</td>\n",
       "    </tr>\n",
       "    <tr>\n",
       "      <th>No inchikey</th>\n",
       "      <td>0</td>\n",
       "      <td>0.0</td>\n",
       "    </tr>\n",
       "    <tr>\n",
       "      <th>No inchi</th>\n",
       "      <td>0</td>\n",
       "      <td>0.0</td>\n",
       "    </tr>\n",
       "    <tr>\n",
       "      <th>Smiles Only Missing</th>\n",
       "      <td>0</td>\n",
       "      <td>0.0</td>\n",
       "    </tr>\n",
       "    <tr>\n",
       "      <th>Inchi Only Missing</th>\n",
       "      <td>0</td>\n",
       "      <td>0.0</td>\n",
       "    </tr>\n",
       "    <tr>\n",
       "      <th>Both Missing</th>\n",
       "      <td>0</td>\n",
       "      <td>0.0</td>\n",
       "    </tr>\n",
       "    <tr>\n",
       "      <th>All tree missing</th>\n",
       "      <td>0</td>\n",
       "      <td>0.0</td>\n",
       "    </tr>\n",
       "  </tbody>\n",
       "</table>\n",
       "</div>"
      ],
      "text/plain": [
       "                      Count  average\n",
       "All data             389652      1.0\n",
       "No smiles                 0      0.0\n",
       "No inchikey               0      0.0\n",
       "No inchi                  0      0.0\n",
       "Smiles Only Missing       0      0.0\n",
       "Inchi Only Missing        0      0.0\n",
       "Both Missing              0      0.0\n",
       "All tree missing          0      0.0"
      ]
     },
     "execution_count": 17,
     "metadata": {},
     "output_type": "execute_result"
    }
   ],
   "source": [
    "# STATISTICS\n",
    "data_missing = {\n",
    "    'All data': [all_data],\n",
    "    'No smiles': [no_smiles],\n",
    "    'No inchikey': [no_inchikey],     \n",
    "    'No inchi': [no_inchi],\n",
    "    'Smiles Only Missing': [no_smile_only],\n",
    "    'Inchi Only Missing': [no_inchikey_only],\n",
    "    'Both Missing': [both_missing_counter],\n",
    "    'All tree missing': [all_identifier_missing],    \n",
    "}\n",
    "missing_df = pd.DataFrame(data_missing)\n",
    "\n",
    "missing_df = missing_df.T\n",
    "missing_df.columns = [\"Count\"]\n",
    "missing_df[\"average\"] = missing_df.apply(lambda row: row.Count / all_data, axis = 1)\n",
    "\n",
    "missing_df"
   ]
  },
  {
   "cell_type": "code",
   "execution_count": 18,
   "metadata": {},
   "outputs": [
    {
     "data": {
      "image/png": "[encoded data removed]",
      "text/plain": [
       "<Figure size 640x480 with 1 Axes>"
      ]
     },
     "metadata": {},
     "output_type": "display_data"
    }
   ],
   "source": [
    "# STATISTICS VISUALIZATION\n",
    "\n",
    "# x-coordinates of left sides of bars \n",
    "parameters_missing = [i for i in range(len(missing_df))]\n",
    "  \n",
    "# heights of bars\n",
    "height = [i for i in missing_df.Count]\n",
    "  \n",
    "# labels for bars\n",
    "tick_label = ['All data', 'No smiles', 'No inchikey', 'No inchi', 'Smiles Only Missing',\n",
    "              'Inchi Only Missing', 'Both Missing', 'All tree missing']\n",
    "  \n",
    "\n",
    "plt.bar(parameters_missing, height, tick_label = tick_label,\n",
    "        width = 0.8)\n",
    "  \n",
    "plt.xlabel('')\n",
    "plt.xticks(rotation=70)\n",
    "plt.ylabel('Number of Instances')\n",
    "plt.title('Number of missing data')\n",
    "plt.show()"
   ]
  },
  {
   "cell_type": "markdown",
   "metadata": {},
   "source": [
    "#### Identifier reconstruction\n",
    "\n",
    "We have approximately 60k data that we are unable to work with. They do not include any identifiers (inchi, inchikey, or SMILES) so we are dropping them. SMILES is crucial for us, so for molecules that don't include a valid SMILES string but include another identifier we will try to reconstruct it. If that fails, we will drop such molecule too."
   ]
  },
  {
   "cell_type": "code",
   "execution_count": 19,
   "metadata": {},
   "outputs": [],
   "source": [
    "# Filter and try to restore corupted smiles\n",
    "# both tools are used, with help of rdkit and matchms as well\n",
    "# e add the smiles destereo and canonization\n",
    "\n",
    "def reconstruct_information(dataset):\n",
    "    updated_dataset = []\n",
    "    for spectrum in tqdm(dataset):\n",
    "        smiles = spectrum.get('smiles')\n",
    "        # all missing\n",
    "        if smiles == None and spectrum.get('inchikey') == None and spectrum.get('inchi') == None:\n",
    "            continue\n",
    "            \n",
    "        #check weather smiles is syntactically valid or molecule is chemically reasonable\n",
    "        if (smiles == None or \\\n",
    "            Chem.MolFromSmiles(smiles, sanitize=False) == None or\\\n",
    "            Chem.MolFromSmiles(smiles) == None) and\\\n",
    "            spectrum.get('inchi') != None:\n",
    "            \n",
    "            # try to convert from inchi\n",
    "            tmp = Chem.inchi.MolFromInchi(spectrum.get('inchi'))\n",
    "            if tmp != None:\n",
    "                spectrum.set('smiles', Chem.MolToSmiles(tmp))\n",
    "                smiles = spectrum.get('smiles')\n",
    "        \n",
    "        # try with matchms\n",
    "        if smiles == None and spectrum.get('inchi') != None:\n",
    "            spectrum = matchms.filtering.derive_smiles_from_inchi(spectrum)\n",
    "            smiles = spectrum.get('smiles')\n",
    "\n",
    "        if smiles == None:\n",
    "            continue\n",
    "            \n",
    "        updated_dataset.append(spectrum)\n",
    "    return updated_dataset"
   ]
  },
  {
   "cell_type": "code",
   "execution_count": 20,
   "metadata": {},
   "outputs": [
    {
     "name": "stderr",
     "output_type": "stream",
     "text": [
      "100%|██████████| 389652/389652 [01:08<00:00, 5672.93it/s]\n"
     ]
    }
   ],
   "source": [
    "# reconstructed_dataset = reconstruct_information(wiley_dataset)\n",
    "reconstructed_dataset = wiley_dataset # no need, all SMILES available"
   ]
  },
  {
   "cell_type": "code",
   "execution_count": 21,
   "metadata": {},
   "outputs": [
    {
     "name": "stdout",
     "output_type": "stream",
     "text": [
      "In the dataset there remains 389652 / 389652 molecules and all have now SMILES strings\n"
     ]
    }
   ],
   "source": [
    "print(f\"In the dataset there remains {len(reconstructed_dataset)} / {len(wiley_dataset)} molecules and all have now SMILES strings\")"
   ]
  },
  {
   "cell_type": "markdown",
   "metadata": {},
   "source": [
    "#### Remove stereochemistry and canonicalize smiles"
   ]
  },
  {
   "cell_type": "code",
   "execution_count": 37,
   "metadata": {},
   "outputs": [],
   "source": [
    "def remove_stereochemistry_and_canonicalize_whole_dataset(dataset):\n",
    "    updated_dataset = []\n",
    "    counter_smiles_changed = 0\n",
    "    for i, spectrum in tqdm(enumerate(dataset)):\n",
    "        smiles = spectrum.get('smiles')\n",
    "        if smiles is None:\n",
    "            raise ValueError(\"Smiles is None, reconstruction and filtering poorly done.\")\n",
    "        new_smiles = remove_stereochemistry_and_canonicalize(smiles)\n",
    "        if new_smiles is None:\n",
    "            continue\n",
    "        spectrum.set('smiles', new_smiles)\n",
    "        if new_smiles != smiles:\n",
    "            counter_smiles_changed += 1\n",
    "        updated_dataset.append(spectrum)\n",
    "    print(f\"Number of smiles canonicalized or destereochemicalized: {counter_smiles_changed}\")\n",
    "    return updated_dataset"
   ]
  },
  {
   "cell_type": "code",
   "execution_count": 38,
   "metadata": {},
   "outputs": [
    {
     "name": "stderr",
     "output_type": "stream",
     "text": [
      "389652it [02:02, 3184.46it/s]"
     ]
    },
    {
     "name": "stdout",
     "output_type": "stream",
     "text": [
      "Number of smiles canonicalized or destereochemicalized: 354916\n"
     ]
    },
    {
     "name": "stderr",
     "output_type": "stream",
     "text": [
      "\n"
     ]
    }
   ],
   "source": [
    "canonicalized_dataset = remove_stereochemistry_and_canonicalize_whole_dataset(reconstructed_dataset)"
   ]
  },
  {
   "cell_type": "code",
   "execution_count": 39,
   "metadata": {},
   "outputs": [
    {
     "name": "stderr",
     "output_type": "stream",
     "text": [
      "100%|██████████| 389652/389652 [00:32<00:00, 12021.68it/s]\n"
     ]
    }
   ],
   "source": [
    "unique_smiles = set([obj.get('smiles') for obj in tqdm(canonicalized_dataset) if obj.get('smiles') != None])"
   ]
  },
  {
   "cell_type": "code",
   "execution_count": 40,
   "metadata": {},
   "outputs": [
    {
     "name": "stdout",
     "output_type": "stream",
     "text": [
      "In the dataset there remains 389652 / 389652 molecules and all have now canonical SMILES strings\n",
      "\n",
      "From the remaining there are 334992 unique SMILES strings.\n"
     ]
    }
   ],
   "source": [
    "print(f\"In the dataset there remains {len(canonicalized_dataset)} / {len(wiley_dataset)} molecules and all have now canonical SMILES strings\")\n",
    "print(f\"\\nFrom the remaining there are {len(unique_smiles)} unique SMILES strings.\")"
   ]
  },
  {
   "cell_type": "markdown",
   "metadata": {},
   "source": [
    "#### NIST aware splitting\n",
    "In this section, we split the WILEY dataset into train, validation, and test sets but in a way that overlapping parts with the NIST dataset are placed in the same split (valid -> valid, train -> train...) as for the NIST dataset."
   ]
  },
  {
   "cell_type": "code",
   "execution_count": 41,
   "metadata": {},
   "outputs": [],
   "source": [
    "TRAIN_RATIO = 0.8\n",
    "VALID_RATIO = 0.1\n",
    "TEST_RATIO = 0.1\n",
    "\n",
    "TRAIN_INDEX = 0\n",
    "VALID_INDEX = 1\n",
    "TEST_INDEX = 2"
   ]
  },
  {
   "cell_type": "code",
   "execution_count": 42,
   "metadata": {},
   "outputs": [],
   "source": [
    "# map each spectrum to its smiles\n",
    "def unique_mapping(dataset):\n",
    "    \n",
    "    smiles_dict = dict()\n",
    "    counter_none = 0\n",
    "    \n",
    "    for spectrum in tqdm(dataset):\n",
    "        if \"smiles\" not in spectrum.metadata or spectrum.get(\"smiles\") == None:\n",
    "            counter_none += 1\n",
    "            continue\n",
    "        if spectrum.get(\"smiles\") not in smiles_dict:\n",
    "            smiles_dict[spectrum.get(\"smiles\")] = [spectrum]\n",
    "        else:\n",
    "            smiles_dict[spectrum.get(\"smiles\")].append(spectrum)\n",
    "\n",
    "    print(f\"Missing smiles identifier in {counter_none} cases\")\n",
    "    return smiles_dict"
   ]
  },
  {
   "cell_type": "code",
   "execution_count": 61,
   "metadata": {},
   "outputs": [],
   "source": [
    "def partition_overlaps(unique_smiles_dict, nist_train_set, nist_valid_set, nist_test_set):\n",
    "    \n",
    "    train_set = []\n",
    "    valid_set = []\n",
    "    test_set = []\n",
    "    the_rest = {}\n",
    "    \n",
    "    for smiles, spectra in tqdm(unique_smiles_dict.items()):\n",
    "        if smiles in nist_train_set:\n",
    "            train_set.extend(spectra)\n",
    "        elif smiles in nist_valid_set:\n",
    "            valid_set.extend(spectra)\n",
    "        elif smiles in nist_test_set:\n",
    "            test_set.extend(spectra)\n",
    "        else:\n",
    "            the_rest[smiles] = spectra\n",
    "    \n",
    "    print(f\"train_set length: {len(train_set)}\")\n",
    "    print(f\"valid_set length: {len(valid_set)}\")\n",
    "    print(f\"test_set length: {len(test_set)}\")\n",
    "    print(f\"the_rest length: {len(the_rest)}\")\n",
    "    \n",
    "    return train_set, valid_set, test_set, the_rest"
   ]
  },
  {
   "cell_type": "code",
   "execution_count": 75,
   "metadata": {},
   "outputs": [],
   "source": [
    "# generate shuffled indices for train, valid and test \n",
    "def generate_index(dataset, train_ratio, valid_ratio, test_ratio):\n",
    "    dataset_length = len(dataset)\n",
    "    \n",
    "    train_idx = np.full(int(dataset_length * train_ratio), 0, dtype=int)\n",
    "    valid_idx = np.full(int(dataset_length * valid_ratio), 1, dtype=int)\n",
    "    test_idx = np.full(int(dataset_length * test_ratio), 2, dtype=int)\n",
    "    \n",
    "    concatenate_array = np.concatenate((train_idx, valid_idx, test_idx))\n",
    "    \n",
    "    np.random.shuffle(concatenate_array)\n",
    "    \n",
    "    return concatenate_array"
   ]
  },
  {
   "cell_type": "code",
   "execution_count": 76,
   "metadata": {},
   "outputs": [],
   "source": [
    "# build list dateset for training, valid and test\n",
    "# we iterate over all cases with same value and append them to final list in way\n",
    "# that all train, valid and test does not overlap with duplicities \n",
    "# at the end, lists are shuffled to avoid continuous stream of same data\n",
    "def generate_train_test_dataset(dataset, indices):\n",
    "    \n",
    "    train = []\n",
    "    valid = []\n",
    "    test = []\n",
    " \n",
    "    for i, spectrums in zip(indices, dataset):\n",
    "        if i == TRAIN_INDEX:\n",
    "            for spectrum in dataset[spectrums]:\n",
    "                train.append(spectrum)\n",
    "        elif i == VALID_INDEX:\n",
    "            for spectrum in dataset[spectrums]:\n",
    "                valid.append(spectrum)\n",
    "        elif i == TEST_INDEX:\n",
    "            for spectrum in dataset[spectrums]:\n",
    "                test.append(spectrum)\n",
    "                \n",
    "    random.shuffle(train)\n",
    "    random.shuffle(valid)\n",
    "    random.shuffle(test)\n",
    "    return (train, valid, test)"
   ]
  },
  {
   "cell_type": "code",
   "execution_count": 44,
   "metadata": {},
   "outputs": [
    {
     "name": "stderr",
     "output_type": "stream",
     "text": [
      "  0%|          | 0/389652 [00:00<?, ?it/s]"
     ]
    },
    {
     "name": "stderr",
     "output_type": "stream",
     "text": [
      "100%|██████████| 389652/389652 [01:19<00:00, 4910.15it/s]\n"
     ]
    },
    {
     "name": "stdout",
     "output_type": "stream",
     "text": [
      "Missing smiles identifier in 0 cases\n"
     ]
    },
    {
     "name": "stderr",
     "output_type": "stream",
     "text": [
      "100%|██████████| 334992/334992 [00:00<00:00, 1514706.36it/s]"
     ]
    },
    {
     "name": "stdout",
     "output_type": "stream",
     "text": [
      "train_set length: 91374\n",
      "valid_set length: 11447\n",
      "test_set length: 11513\n",
      "the_rest length: 275318\n"
     ]
    },
    {
     "name": "stderr",
     "output_type": "stream",
     "text": [
      "\n"
     ]
    }
   ],
   "source": [
    "nist_train_set = set(nist_train.smiles)\n",
    "nist_valid_set = set(nist_valid.smiles)\n",
    "nist_test_set = set(nist_test.smiles)"
   ]
  },
  {
   "cell_type": "code",
   "execution_count": null,
   "metadata": {},
   "outputs": [],
   "source": [
    "unique_smiles_dict = unique_mapping(canonicalized_dataset)"
   ]
  },
  {
   "cell_type": "code",
   "execution_count": 72,
   "metadata": {},
   "outputs": [
    {
     "name": "stderr",
     "output_type": "stream",
     "text": [
      "100%|██████████| 334992/334992 [00:00<00:00, 1438072.11it/s]"
     ]
    },
    {
     "name": "stdout",
     "output_type": "stream",
     "text": [
      "train_set length: 91374\n",
      "valid_set length: 11447\n",
      "test_set length: 11513\n",
      "the_rest length: 249040\n"
     ]
    },
    {
     "name": "stderr",
     "output_type": "stream",
     "text": [
      "\n"
     ]
    }
   ],
   "source": [
    "# filter out (and split) the SMILES already present in the NIST dataset\n",
    "train_overlapped, test_overlapped, valid_overlapped, the_rest = partition_overlaps(unique_smiles_dict, nist_train_set, nist_test_set, nist_valid_set)"
   ]
  },
  {
   "cell_type": "code",
   "execution_count": 73,
   "metadata": {},
   "outputs": [
    {
     "name": "stdout",
     "output_type": "stream",
     "text": [
      "train_to_add: 220347\n",
      "valid_to_add: 27452\n",
      "test_to_add: 27518\n",
      "all to add:  275317\n",
      "all spectra in the_rest:  275318\n",
      "unique smiles in the_rest:  249040\n",
      "new_train_ratio: 0.8003363383432975\n",
      "new_valid_ratio: 0.09971015334994443\n",
      "new_test_ratio: 0.099953508306758\n",
      "sum of new ratios: 1.0\n"
     ]
    }
   ],
   "source": [
    "# check intermediate information and compute the new ratios\n",
    "all_spectra_in_the_rest = sum([len(d) for d in the_rest.values()])\n",
    "len_all = all_spectra_in_the_rest + len(train_set) + len(valid_set) + len(test_set)\n",
    "final_train_len = TRAIN_RATIO * len_all\n",
    "final_valid_len = VALID_RATIO * len_all\n",
    "final_test_len = TEST_RATIO * len_all\n",
    "\n",
    "train_to_add = int(final_train_len - len(train_set))\n",
    "valid_to_add = int(final_valid_len - len(valid_set))\n",
    "test_to_add = int(final_test_len - len(test_set))\n",
    "\n",
    "\n",
    "print(f\"train_to_add: {train_to_add}\")\n",
    "print(f\"valid_to_add: {valid_to_add}\")\n",
    "print(f\"test_to_add: {test_to_add}\")\n",
    "\n",
    "print(\"all to add: \", train_to_add + valid_to_add + test_to_add)\n",
    "print(\"all spectra in the_rest: \", all_spectra_in_the_rest)\n",
    "print(\"unique smiles in the_rest: \", len(the_rest))\n",
    "\n",
    "NEW_TRAIN_RATIO = train_to_add / all_spectra_in_the_rest\n",
    "NEW_VALID_RATIO = valid_to_add / all_spectra_in_the_rest\n",
    "NEW_TEST_RATIO = (all_spectra_in_the_rest - train_to_add - valid_to_add) / all_spectra_in_the_rest\n",
    "\n",
    "print(f\"new_train_ratio: {NEW_TRAIN_RATIO}\")\n",
    "print(f\"new_valid_ratio: {NEW_VALID_RATIO}\")\n",
    "print(f\"new_test_ratio: {NEW_TEST_RATIO}\")\n",
    "print(f\"sum of new ratios: {NEW_TRAIN_RATIO + NEW_VALID_RATIO + NEW_TEST_RATIO}\")\n",
    "\n",
    "# okay, thats almost the same as the original ratios"
   ]
  },
  {
   "cell_type": "code",
   "execution_count": 77,
   "metadata": {},
   "outputs": [],
   "source": [
    "# Perform splitting\n",
    "indices = generate_index(the_rest, NEW_TRAIN_RATIO, NEW_VALID_RATIO, NEW_TEST_RATIO)\n",
    "train_unique, valid_unique, test_unique = generate_train_test_dataset(the_rest, indices)"
   ]
  },
  {
   "cell_type": "code",
   "execution_count": 80,
   "metadata": {},
   "outputs": [],
   "source": [
    "train, valid, test = train_overlapped + train_unique, valid_overlapped + valid_unique, test_overlapped + test_unique"
   ]
  },
  {
   "cell_type": "markdown",
   "metadata": {},
   "source": [
    "#### Save splits to .jsonl files"
   ]
  },
  {
   "cell_type": "code",
   "execution_count": 84,
   "metadata": {},
   "outputs": [
    {
     "name": "stderr",
     "output_type": "stream",
     "text": [
      "100%|██████████| 39043/39043 [00:12<00:00, 3217.28it/s]\n",
      "100%|██████████| 38835/38835 [00:12<00:00, 3040.06it/s]\n",
      "100%|██████████| 311772/311772 [01:40<00:00, 3093.64it/s]\n"
     ]
    }
   ],
   "source": [
    "from utils.spectra_process_utils import extract_spectra\n",
    "from pathlib import Path\n",
    "\n",
    "out_dir = Path(PROJECT_ROOT) / \"../data\" / \"datasets\" / \"WILEY\"\n",
    "for data, data_name in [(valid, \"valid\"), (test, \"test\"), (train, \"train\")]:\n",
    "    df = extract_spectra(data)\n",
    "    df[\"mz\"] = df[\"mz\"].apply(lambda x: list(x.round(0)))\n",
    "    path_jsonl = (out_dir / data_name).with_suffix(\".jsonl\")\n",
    "    df.to_json(path_jsonl, orient=\"records\", lines=True)"
   ]
  },
  {
   "cell_type": "code",
   "execution_count": 81,
   "metadata": {},
   "outputs": [
    {
     "data": {
      "text/plain": [
       "(311772, 39043, 38835, 0, 0, 0)"
      ]
     },
     "execution_count": 81,
     "metadata": {},
     "output_type": "execute_result"
    }
   ],
   "source": [
    "# no overlap test\n",
    "len(train), len(valid), len(test), len(set(train) & set(valid)), len(set(train) & set(test)), len(set(valid) & set(test))"
   ]
  },
  {
   "cell_type": "markdown",
   "metadata": {},
   "source": [
    "### X.Y) WILEY splits to .smi \n",
    "We also save the splits as .smi files for reproducibility."
   ]
  },
  {
   "cell_type": "code",
   "execution_count": 85,
   "metadata": {},
   "outputs": [],
   "source": [
    "from utils.spectra_process_utils import jsonl2smi\n",
    "\n",
    "for dataset_type in [\"train\", \"valid\", \"test\"]:\n",
    "    jsonl2smi(f\"{PROJECT_ROOT}/../data/datasets/WILEY/{dataset_type}.jsonl\")"
   ]
  },
  {
   "cell_type": "code",
   "execution_count": null,
   "metadata": {},
   "outputs": [],
   "source": []
  }
 ],
 "metadata": {
  "kernelspec": {
   "display_name": "BARTtrainH100",
   "language": "python",
   "name": "python3"
  },
  "language_info": {
   "codemirror_mode": {
    "name": "ipython",
    "version": 3
   },
   "file_extension": ".py",
   "mimetype": "text/x-python",
   "name": "python",
   "nbconvert_exporter": "python",
   "pygments_lexer": "ipython3",
   "version": "3.8.16"
  }
 },
 "nbformat": 4,
 "nbformat_minor": 2
}
