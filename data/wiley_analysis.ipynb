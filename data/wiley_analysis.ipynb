{
 "cells": [
  {
   "cell_type": "markdown",
   "metadata": {},
   "source": [
    "# Wiley brief analysis\n",
    "\n",
    "We got a new dataset, let's take a look at it."
   ]
  },
  {
   "cell_type": "code",
   "execution_count": 26,
   "metadata": {},
   "outputs": [],
   "source": [
    "from matchms.importing import load_from_msp\n",
    "from tqdm import tqdm\n",
    "import pandas as pd\n",
    "\n",
    "import sys\n",
    "sys.path.append('..')"
   ]
  },
  {
   "cell_type": "code",
   "execution_count": 3,
   "metadata": {},
   "outputs": [],
   "source": [
    "original_path = \"datasets/WILEY/WILEY12_1.msp\"\n",
    "annotated_path = \"datasets/WILEY/20240207_wiley_highres_annotations_all.msp\""
   ]
  },
  {
   "cell_type": "code",
   "execution_count": 4,
   "metadata": {},
   "outputs": [],
   "source": [
    "# takes 13mins, 24s\n",
    "original_spectrums = list(load_from_msp(original_path, metadata_harmonization=False))\n",
    "annotated_spectrums = list(load_from_msp(annotated_path, metadata_harmonization=False))"
   ]
  },
  {
   "cell_type": "code",
   "execution_count": 5,
   "metadata": {},
   "outputs": [
    {
     "data": {
      "text/plain": [
       "({'formula': 'DH',\n",
       "  'casno': '13983205',\n",
       "  'id': '2',\n",
       "  'comment': 'SpectrumID: 1113421; Source: HE-1982-0-0; QI: 1000; Class: Other non-metal hydrides',\n",
       "  'num_peaks': '2',\n",
       "  'compound_name': 'Deuterohydrogen',\n",
       "  'nominal_mass': '3',\n",
       "  'parent_mass': '3.0219268'},\n",
       " {'scannumber': '-1',\n",
       "  'ionmode': 'Positive',\n",
       "  'spectrumtype': 'Centroid',\n",
       "  'formula': 'C20H23NO3',\n",
       "  'inchikey': '',\n",
       "  'inchi': 'InChI=1S/C20H23NO3/c1-23-18-9-7-16(8-10-18)19(21-11-13-24-14-12-21)15-20(22)17-5-3-2-4-6-17/h2-10,19H,11-15H2,1H3',\n",
       "  'smiles': 'COC1=CC=C(C=C1)C(CC(=O)C2=CC=CC=C2)N3CCOCC3',\n",
       "  'authors': '',\n",
       "  'instrument': '',\n",
       "  'ionization': '',\n",
       "  'license': '',\n",
       "  'comment': 'SpectrumID: 802540; Source: F-53-7863-1; QI: 44; Class: Retro-dihydrochalcones; CASRN not real! |RI:2627|',\n",
       "  'peak_comments': {105.033489: 'Theoretical m/z 105.033489, Mass diff 0.033 (318.94 ppm), SMILES O=CC1=CC=CC=C1, Annotation [C7H6O-H]+, Rule of HR True',\n",
       "   161.059701: 'Theoretical m/z 161.059701, Mass diff 0.06 (370.82 ppm), SMILES O=CCCC1=CC=C(OC)C=C1, Annotation [C10H12O2-3H]+, Rule of HR True',\n",
       "   206.117557: 'Theoretical m/z 206.117557, Mass diff 0.118 (570.67 ppm), SMILES O(C1=CC=C(C=C1)CN2CCOCC2)C, Annotation [C12H17NO2-H]+, Rule of HR True',\n",
       "   220.133207: 'Theoretical m/z 220.133207, Mass diff 0.133 (605.49 ppm), SMILES O=C(C1=CC=CC=C1)CCN2CCOCC2, Annotation [C13H17NO2+H]+, Rule of HR True',\n",
       "   238.143766: 'Theoretical m/z 238.143766, Mass diff 0.144 (604.06 ppm), SMILES O=CCC(NCCOC)C1=CC=C(OC)C=C1, Annotation [C13H19NO3+H]+, Rule of HR True',\n",
       "   325.167237: 'Theoretical m/z 325.167237, Mass diff 0.167 (514.58 ppm), SMILES O=C(C1=CC=CC=C1)CC(C2=CC=C(OC)C=C2)N3CCOCC3, Annotation [C20H23NO3]+, Rule of HR False'},\n",
       "  'num_peaks': '6',\n",
       "  'compound_name': '3-(4-Methoxy)phenyl-3-morpholino-1-phenylpropan-1-one',\n",
       "  'retention_time': '0',\n",
       "  'retention_index': '0',\n",
       "  'precursor_mz': '325.167244420091',\n",
       "  'adduct': '[M]+.',\n",
       "  'collision_energy': '40',\n",
       "  'instrument_type': ''})"
      ]
     },
     "execution_count": 5,
     "metadata": {},
     "output_type": "execute_result"
    }
   ],
   "source": [
    "id = 1\n",
    "original_spectrums[id].metadata, annotated_spectrums[id].metadata"
   ]
  },
  {
   "cell_type": "code",
   "execution_count": 6,
   "metadata": {},
   "outputs": [
    {
     "data": {
      "text/plain": [
       "(725560, 389652)"
      ]
     },
     "execution_count": 6,
     "metadata": {},
     "output_type": "execute_result"
    }
   ],
   "source": [
    "len(original_spectrums), len(annotated_spectrums)"
   ]
  },
  {
   "cell_type": "markdown",
   "metadata": {},
   "source": [
    "### Compare WILEY and NIST datasets"
   ]
  },
  {
   "cell_type": "code",
   "execution_count": 19,
   "metadata": {},
   "outputs": [],
   "source": [
    "NIST_TRAIN_PATH = '../clean_paper/data/nist/train.jsonl'\n",
    "NIST_TEST_PATH = '../clean_paper/data/nist/test.jsonl'\n",
    "NIST_VAL_PATH = '../clean_paper/data/nist/valid.jsonl'"
   ]
  },
  {
   "cell_type": "code",
   "execution_count": 21,
   "metadata": {},
   "outputs": [],
   "source": [
    "nist_train = pd.read_json(NIST_TRAIN_PATH, lines=True, orient='records')\n",
    "nist_test = pd.read_json(NIST_TEST_PATH, lines=True, orient='records')\n",
    "nist_valid = pd.read_json(NIST_VAL_PATH, lines=True, orient='records')"
   ]
  },
  {
   "cell_type": "code",
   "execution_count": 22,
   "metadata": {},
   "outputs": [],
   "source": [
    "wiley_smiles = [s.metadata[\"smiles\"] for s in annotated_spectrums]"
   ]
  },
  {
   "cell_type": "code",
   "execution_count": 27,
   "metadata": {},
   "outputs": [
    {
     "name": "stderr",
     "output_type": "stream",
     "text": [
      "100%|██████████| 389652/389652 [01:07<00:00, 5756.31it/s]\n"
     ]
    }
   ],
   "source": [
    "# are wiley smiles canonical?\n",
    "\n",
    "from utils.spectra_process_utils import remove_stereochemistry_and_canonicalize\n",
    "\n",
    "canonical_wiley_smiles = [remove_stereochemistry_and_canonicalize(s) for s in tqdm(wiley_smiles)]\n"
   ]
  },
  {
   "cell_type": "code",
   "execution_count": 28,
   "metadata": {},
   "outputs": [
    {
     "name": "stdout",
     "output_type": "stream",
     "text": [
      "overlap of wiley and nist train: 68911\n",
      "overlap of wiley and nist test: 8464\n",
      "overlap of wiley and nist valid: 8577\n",
      "unique wiley: 334992\n",
      "unique wiley over nist: 249040\n"
     ]
    }
   ],
   "source": [
    "nist_train_set = set(nist_train.smiles)\n",
    "nist_test_set = set(nist_test.smiles)\n",
    "nist_valid_set = set(nist_valid.smiles)\n",
    "wiley_smiles_set = set(canonical_wiley_smiles)\n",
    "\n",
    "print(f\"overlap of wiley and nist train: {len(wiley_smiles_set.intersection(nist_train_set))}\")\n",
    "print(f\"overlap of wiley and nist test: {len(wiley_smiles_set.intersection(nist_test_set))}\")\n",
    "print(f\"overlap of wiley and nist valid: {len(wiley_smiles_set.intersection(nist_valid_set))}\")\n",
    "print(f\"unique wiley: {len(wiley_smiles_set)}\")\n",
    "print(f\"unique wiley over nist: {len(wiley_smiles_set.difference(nist_train_set.union(nist_test_set).union(nist_valid_set)))}\")"
   ]
  },
  {
   "cell_type": "code",
   "execution_count": 34,
   "metadata": {},
   "outputs": [
    {
     "data": {
      "text/plain": [
       "False"
      ]
     },
     "execution_count": 34,
     "metadata": {},
     "output_type": "execute_result"
    }
   ],
   "source": [
    "\n"
   ]
  },
  {
   "cell_type": "markdown",
   "metadata": {},
   "source": [
    "### Reconstruct SMILES from name"
   ]
  },
  {
   "cell_type": "code",
   "execution_count": 2,
   "metadata": {},
   "outputs": [],
   "source": [
    "from concurrent.futures import ProcessPoolExecutor, TimeoutError, as_completed\n",
    "from tqdm import tqdm\n",
    "import cirpy\n",
    "from rdkit import Chem\n",
    "from rdkit.Chem import rdMolDescriptors\n",
    "\n",
    "# Function to resolve compound name to SMILES\n",
    "def name_to_smiles(name):\n",
    "    try:\n",
    "        smiles = cirpy.resolve(name, 'smiles')\n",
    "        print(\"cirpy resolved\", name, \"to\", smiles)\n",
    "        return smiles\n",
    "    except Exception as e:\n",
    "        print(f\"Failed to resolve SMILES for {name}: {e}\")\n",
    "        return None\n",
    "\n",
    "# Function to convert SMILES to molecular formula\n",
    "def smiles_to_formula(smiles):\n",
    "    mol = Chem.MolFromSmiles(smiles)\n",
    "    if mol is None:\n",
    "        print(\"mol is None\")\n",
    "        return None\n",
    "    else:\n",
    "        return rdMolDescriptors.CalcMolFormula(mol)\n",
    "\n",
    "# Function to process a single spectrum\n",
    "def process_spectrum(s):\n",
    "    s_new = s.clone()\n",
    "\n",
    "    smiles = name_to_smiles(s.metadata['compound_name'])\n",
    "    if smiles is None:\n",
    "        print(\"Failed to resolve SMILES for\", s.metadata['compound_name'])\n",
    "        return None\n",
    "\n",
    "    new_formula = smiles_to_formula(smiles)\n",
    "    old_formula = s.metadata.get(\"formula\", None)\n",
    "    if old_formula is None or new_formula is None or old_formula != new_formula:\n",
    "        return None\n",
    "\n",
    "    s_new.metadata['smiles'] = smiles\n",
    "    return s_new\n",
    "\n",
    "# Function to run the multiprocessing with timeout using ProcessPoolExecutor\n",
    "def parallel_process_spectrums(spectrums, num_workers=4, timeout=10):\n",
    "    cleaned_spectrums = []\n",
    "\n",
    "    with ProcessPoolExecutor(max_workers=num_workers) as executor:\n",
    "        futures = {executor.submit(process_spectrum, s): s for s in spectrums}\n",
    "\n",
    "        for future in tqdm(as_completed(futures), total=len(spectrums)):\n",
    "            try:\n",
    "                result = future.result(timeout=timeout)\n",
    "                if result is not None:\n",
    "                    cleaned_spectrums.append(result)\n",
    "            except TimeoutError:\n",
    "                continue \n",
    "            except Exception as e:\n",
    "                continue  \n",
    "    print(cleaned_spectrums)\n",
    "    return cleaned_spectrums"
   ]
  },
  {
   "cell_type": "markdown",
   "metadata": {},
   "source": [
    "### Split original sdf"
   ]
  },
  {
   "cell_type": "code",
   "execution_count": 44,
   "metadata": {},
   "outputs": [
    {
     "name": "stdout",
     "output_type": "stream",
     "text": [
      "36278\n"
     ]
    }
   ],
   "source": [
    "chunk_size = 100\n",
    "chunks = [original_spectrums[i:i + chunk_size] for i in range(0, len(original_spectrums), chunk_size)]\n",
    "print(len(chunks))\n",
    "cleaned_chunks = []"
   ]
  },
  {
   "cell_type": "code",
   "execution_count": 45,
   "metadata": {},
   "outputs": [
    {
     "name": "stdout",
     "output_type": "stream",
     "text": [
      "Processing chunk 1/36278\n"
     ]
    },
    {
     "name": "stderr",
     "output_type": "stream",
     "text": [
      "  0%|          | 0/20 [00:00<?, ?it/s]"
     ]
    },
    {
     "name": "stdout",
     "output_type": "stream",
     "text": [
      "Failed to resolve SMILES for Hydrogen\n"
     ]
    },
    {
     "name": "stderr",
     "output_type": "stream",
     "text": [
      "  5%|▌         | 1/20 [00:00<00:04,  4.28it/s]"
     ]
    },
    {
     "name": "stdout",
     "output_type": "stream",
     "text": [
      "Failed to resolve SMILES for Deuterohydrogen\n"
     ]
    },
    {
     "name": "stderr",
     "output_type": "stream",
     "text": [
      " 10%|█         | 2/20 [00:00<00:04,  4.42it/s]"
     ]
    },
    {
     "name": "stdout",
     "output_type": "stream",
     "text": [
      "Failed to resolve SMILES for Deuterium\n"
     ]
    },
    {
     "name": "stderr",
     "output_type": "stream",
     "text": [
      " 15%|█▌        | 3/20 [00:00<00:03,  4.48it/s]"
     ]
    },
    {
     "name": "stdout",
     "output_type": "stream",
     "text": [
      "Failed to resolve SMILES for Methane\n"
     ]
    },
    {
     "name": "stderr",
     "output_type": "stream",
     "text": [
      " 20%|██        | 4/20 [00:00<00:03,  4.51it/s]"
     ]
    },
    {
     "name": "stdout",
     "output_type": "stream",
     "text": [
      "Failed to resolve SMILES for Methane\n"
     ]
    },
    {
     "name": "stderr",
     "output_type": "stream",
     "text": [
      " 25%|██▌       | 5/20 [00:01<00:03,  4.52it/s]"
     ]
    },
    {
     "name": "stdout",
     "output_type": "stream",
     "text": [
      "Failed to resolve SMILES for Methane\n"
     ]
    },
    {
     "name": "stderr",
     "output_type": "stream",
     "text": [
      " 30%|███       | 6/20 [00:01<00:03,  4.53it/s]"
     ]
    },
    {
     "name": "stdout",
     "output_type": "stream",
     "text": [
      "Failed to resolve SMILES for Methane\n"
     ]
    },
    {
     "name": "stderr",
     "output_type": "stream",
     "text": [
      " 35%|███▌      | 7/20 [00:01<00:02,  4.53it/s]"
     ]
    },
    {
     "name": "stdout",
     "output_type": "stream",
     "text": [
      "Failed to resolve SMILES for Monodeuteromethane\n"
     ]
    },
    {
     "name": "stderr",
     "output_type": "stream",
     "text": [
      " 40%|████      | 8/20 [00:01<00:02,  4.53it/s]"
     ]
    },
    {
     "name": "stdout",
     "output_type": "stream",
     "text": [
      "Failed to resolve SMILES for Dideuteromethane\n"
     ]
    },
    {
     "name": "stderr",
     "output_type": "stream",
     "text": [
      " 45%|████▌     | 9/20 [00:01<00:02,  4.54it/s]"
     ]
    },
    {
     "name": "stdout",
     "output_type": "stream",
     "text": [
      "Failed to resolve SMILES for Trideuteromethane\n"
     ]
    },
    {
     "name": "stderr",
     "output_type": "stream",
     "text": [
      " 50%|█████     | 10/20 [00:02<00:02,  4.53it/s]"
     ]
    },
    {
     "name": "stdout",
     "output_type": "stream",
     "text": [
      "Failed to resolve SMILES for Methane-D4\n"
     ]
    },
    {
     "name": "stderr",
     "output_type": "stream",
     "text": [
      " 55%|█████▌    | 11/20 [00:02<00:01,  4.53it/s]"
     ]
    },
    {
     "name": "stdout",
     "output_type": "stream",
     "text": [
      "Failed to resolve SMILES for Ammonia\n"
     ]
    },
    {
     "name": "stderr",
     "output_type": "stream",
     "text": [
      " 60%|██████    | 12/20 [00:02<00:01,  4.53it/s]"
     ]
    },
    {
     "name": "stdout",
     "output_type": "stream",
     "text": [
      "Failed to resolve SMILES for Ammonia\n"
     ]
    },
    {
     "name": "stderr",
     "output_type": "stream",
     "text": [
      " 65%|██████▌   | 13/20 [00:02<00:01,  4.53it/s]"
     ]
    },
    {
     "name": "stdout",
     "output_type": "stream",
     "text": [
      "Failed to resolve SMILES for Water\n"
     ]
    },
    {
     "name": "stderr",
     "output_type": "stream",
     "text": [
      " 70%|███████   | 14/20 [00:03<00:01,  4.54it/s]"
     ]
    },
    {
     "name": "stdout",
     "output_type": "stream",
     "text": [
      "Failed to resolve SMILES for Neon\n"
     ]
    },
    {
     "name": "stderr",
     "output_type": "stream",
     "text": [
      " 75%|███████▌  | 15/20 [00:03<00:01,  4.54it/s]"
     ]
    },
    {
     "name": "stdout",
     "output_type": "stream",
     "text": [
      "Failed to resolve SMILES for Acetylene\n"
     ]
    },
    {
     "name": "stderr",
     "output_type": "stream",
     "text": [
      " 80%|████████  | 16/20 [00:03<00:00,  4.54it/s]"
     ]
    },
    {
     "name": "stdout",
     "output_type": "stream",
     "text": [
      "Failed to resolve SMILES for Acetylene\n"
     ]
    },
    {
     "name": "stderr",
     "output_type": "stream",
     "text": [
      " 85%|████████▌ | 17/20 [00:03<00:00,  4.55it/s]"
     ]
    },
    {
     "name": "stdout",
     "output_type": "stream",
     "text": [
      "Failed to resolve SMILES for Acetylene\n"
     ]
    },
    {
     "name": "stderr",
     "output_type": "stream",
     "text": [
      " 90%|█████████ | 18/20 [00:03<00:00,  4.54it/s]"
     ]
    },
    {
     "name": "stdout",
     "output_type": "stream",
     "text": [
      "Failed to resolve SMILES for Acetylene\n"
     ]
    },
    {
     "name": "stderr",
     "output_type": "stream",
     "text": [
      " 95%|█████████▌| 19/20 [00:04<00:00,  4.55it/s]"
     ]
    },
    {
     "name": "stdout",
     "output_type": "stream",
     "text": [
      "Failed to resolve SMILES for Monodeuteroacetylene\n"
     ]
    },
    {
     "name": "stderr",
     "output_type": "stream",
     "text": [
      "100%|██████████| 20/20 [00:04<00:00,  4.53it/s]\n"
     ]
    },
    {
     "name": "stdout",
     "output_type": "stream",
     "text": [
      "[]\n"
     ]
    }
   ],
   "source": [
    "# save chunks\n",
    "from pathlib import Path\n",
    "\n",
    "chunk_dir = Path(\"datasets/WILEY/preprocessed_chunks\")\n",
    "chunk_dir.mkdir(exist_ok=True)\n",
    "\n",
    "for i, chunk in enumerate(chunks):\n",
    "    print(f\"Processing chunk {i+1}/{len(chunks)}\")\n",
    "    cleaned_chunk = parallel_process_spectrums(chunk, num_workers=1, timeout=10)\n",
    "    cleaned_chunks.append(cleaned_chunk)\n",
    "    break\n"
   ]
  },
  {
   "cell_type": "code",
   "execution_count": 31,
   "metadata": {},
   "outputs": [
    {
     "data": {
      "text/plain": [
       "[[], [], []]"
      ]
     },
     "execution_count": 31,
     "metadata": {},
     "output_type": "execute_result"
    }
   ],
   "source": [
    "cleaned_chunks"
   ]
  },
  {
   "cell_type": "code",
   "execution_count": 29,
   "metadata": {},
   "outputs": [
    {
     "data": {
      "text/plain": [
       "146"
      ]
     },
     "execution_count": 29,
     "metadata": {},
     "output_type": "execute_result"
    }
   ],
   "source": [
    "len(chunks)"
   ]
  },
  {
   "cell_type": "code",
   "execution_count": 3,
   "metadata": {},
   "outputs": [
    {
     "data": {
      "text/plain": [
       "'H'"
      ]
     },
     "execution_count": 3,
     "metadata": {},
     "output_type": "execute_result"
    }
   ],
   "source": [
    "cirpy.resolve(\"hydrogen\", 'formula')"
   ]
  },
  {
   "cell_type": "code",
   "execution_count": 48,
   "metadata": {},
   "outputs": [],
   "source": [
    "import cirpy"
   ]
  },
  {
   "cell_type": "code",
   "execution_count": null,
   "metadata": {},
   "outputs": [],
   "source": []
  }
 ],
 "metadata": {
  "kernelspec": {
   "display_name": "BARTtrainH100",
   "language": "python",
   "name": "python3"
  },
  "language_info": {
   "codemirror_mode": {
    "name": "ipython",
    "version": 3
   },
   "file_extension": ".py",
   "mimetype": "text/x-python",
   "name": "python",
   "nbconvert_exporter": "python",
   "pygments_lexer": "ipython3",
   "version": "3.8.16"
  }
 },
 "nbformat": 4,
 "nbformat_minor": 2
}
