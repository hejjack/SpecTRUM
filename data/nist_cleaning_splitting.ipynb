{
 "cells": [
  {
   "cell_type": "markdown",
   "id": "57fbfd1c",
   "metadata": {},
   "source": [
    "# Cleaning and splitting NIST\n",
    "This notebook differs from the original one by FILIP JOZEFOV in two steps:\n",
    "- removing stereochemistry before the split\n",
    "- canonizing smiles before the split\n",
    "\n",
    "Since there is no deduplication, these steps are important for not having data leaks (same molecules in different splits) across the splits"
   ]
  },
  {
   "cell_type": "code",
   "execution_count": 1,
   "id": "d6de2e20",
   "metadata": {},
   "outputs": [],
   "source": [
    "from matchms.importing import load_from_msp\n",
    "from matchms.exporting import save_as_msp\n",
    "from matchms import Spectrum\n",
    "import matchms\n",
    "\n",
    "import pandas as pd\n",
    "from rdkit import Chem\n",
    "\n",
    "import math\n",
    "import numpy as np\n",
    "import os\n",
    "import random\n",
    "import pandas as pd\n",
    "from tqdm import tqdm\n",
    "\n",
    "import matplotlib.pyplot as plt"
   ]
  },
  {
   "cell_type": "code",
   "execution_count": 2,
   "id": "9722d3d8",
   "metadata": {},
   "outputs": [],
   "source": [
    "FILE_PATH = 'datasets/NIST/NIST20/20210925_NIST_EI_MS_cleaned.msp'"
   ]
  },
  {
   "cell_type": "code",
   "execution_count": 3,
   "id": "0ed34181",
   "metadata": {},
   "outputs": [],
   "source": [
    "nist_dataset = list(load_from_msp(FILE_PATH, metadata_harmonization=False))"
   ]
  },
  {
   "cell_type": "markdown",
   "id": "a10505be",
   "metadata": {},
   "source": [
    "Setting random seed for reproducible result"
   ]
  },
  {
   "cell_type": "code",
   "execution_count": 4,
   "id": "597c8e2b",
   "metadata": {},
   "outputs": [],
   "source": [
    "np.random.seed(42)\n",
    "random.seed(42)"
   ]
  },
  {
   "cell_type": "code",
   "execution_count": 5,
   "id": "2a74a415",
   "metadata": {},
   "outputs": [
    {
     "data": {
      "text/plain": [
       "{'formula': 'H2',\n",
       " 'casno': '1333-74-0',\n",
       " 'id': '1',\n",
       " 'comment': 'NIST MS# 245692, Seq# M1',\n",
       " 'inchi': 'InChI=1S/H2/h1H',\n",
       " 'inchikey': 'UFHFLCQGNIYNRP-UHFFFAOYSA-N',\n",
       " 'iupac_name': 'molecular hydrogen',\n",
       " 'smiles': '[HH]',\n",
       " 'num_peaks': '2',\n",
       " 'compound_name': 'Hydrogen',\n",
       " 'nominal_mass': '2'}"
      ]
     },
     "execution_count": 5,
     "metadata": {},
     "output_type": "execute_result"
    }
   ],
   "source": [
    "nist_dataset[0].metadata"
   ]
  },
  {
   "cell_type": "code",
   "execution_count": 6,
   "id": "f2290b8e",
   "metadata": {},
   "outputs": [
    {
     "name": "stdout",
     "output_type": "stream",
     "text": [
      "Number of spectra with chirality information: 433\n"
     ]
    }
   ],
   "source": [
    "# test - how many spectra have chirality information\n",
    "def compute_chirality(dataset):\n",
    "    counter = 0\n",
    "    for s in dataset:\n",
    "        if s.get('smiles') and \"@\" in s.get('smiles'):\n",
    "            counter += 1\n",
    "    print(f\"Number of spectra with chirality information: {counter}\")\n",
    "\n",
    "compute_chirality(nist_dataset)"
   ]
  },
  {
   "cell_type": "code",
   "execution_count": 7,
   "id": "75553469",
   "metadata": {},
   "outputs": [
    {
     "name": "stderr",
     "output_type": "stream",
     "text": [
      "  0%|          | 0/350618 [00:00<?, ?it/s][15:42:06] Explicit valence for atom # 0 B, 5, is greater than permitted\n",
      "[15:42:06] Explicit valence for atom # 1 Cl, 4, is greater than permitted\n",
      "  1%|▏         | 5023/350618 [00:00<00:44, 7727.97it/s][15:42:07] Explicit valence for atom # 1 Cl, 7, is greater than permitted\n",
      "  3%|▎         | 11051/350618 [00:01<00:47, 7219.66it/s][15:42:08] Explicit valence for atom # 0 B, 5, is greater than permitted\n",
      "  6%|▌         | 20699/350618 [00:02<00:51, 6468.30it/s][15:42:09] Explicit valence for atom # 0 C, 5, is greater than permitted\n",
      "  7%|▋         | 24712/350618 [00:03<00:48, 6676.00it/s][15:42:10] Explicit valence for atom # 0 B, 6, is greater than permitted\n",
      "[15:42:10] Explicit valence for atom # 0 B, 5, is greater than permitted\n",
      " 12%|█▏        | 43714/350618 [00:06<00:50, 6066.50it/s][15:42:13] Explicit valence for atom # 1 C, 5, is greater than permitted\n",
      " 17%|█▋        | 59560/350618 [00:09<00:48, 5981.32it/s][15:42:16] SMILES Parse Error: syntax error while parsing: [CH-]1|2C|3=C|4C|5=C1|[Mn]6789|2|3|4|5[CH-]%10[CH-]6[CH-]7[CH-]8[CH-]9%10\n",
      "[15:42:16] SMILES Parse Error: Failed parsing SMILES '[CH-]1|2C|3=C|4C|5=C1|[Mn]6789|2|3|4|5[CH-]%10[CH-]6[CH-]7[CH-]8[CH-]9%10' for input: '[CH-]1|2C|3=C|4C|5=C1|[Mn]6789|2|3|4|5[CH-]%10[CH-]6[CH-]7[CH-]8[CH-]9%10'\n",
      " 18%|█▊        | 62040/350618 [00:09<00:48, 6004.37it/s][15:42:16] SMILES Parse Error: syntax error while parsing: [CH-]1|2C|3=C|4C|5=C1|[Fe]6789|2|3|4|5|[N-]%10[CH-]6[CH-]7[CH-]8[CH-]9%10\n",
      "[15:42:16] SMILES Parse Error: Failed parsing SMILES '[CH-]1|2C|3=C|4C|5=C1|[Fe]6789|2|3|4|5|[N-]%10[CH-]6[CH-]7[CH-]8[CH-]9%10' for input: '[CH-]1|2C|3=C|4C|5=C1|[Fe]6789|2|3|4|5|[N-]%10[CH-]6[CH-]7[CH-]8[CH-]9%10'\n",
      "[15:42:16] SMILES Parse Error: syntax error while parsing: [CH-]1|2C|3=C|4C|5=C1|[Fe]6789|2|3|4|5|[N-]%10[CH-]6[CH-]7[CH-]8[CH-]9%10\n",
      "[15:42:16] SMILES Parse Error: Failed parsing SMILES '[CH-]1|2C|3=C|4C|5=C1|[Fe]6789|2|3|4|5|[N-]%10[CH-]6[CH-]7[CH-]8[CH-]9%10' for input: '[CH-]1|2C|3=C|4C|5=C1|[Fe]6789|2|3|4|5|[N-]%10[CH-]6[CH-]7[CH-]8[CH-]9%10'\n",
      " 18%|█▊        | 62641/350618 [00:09<00:48, 5998.61it/s][15:42:16] Explicit valence for atom # 0 C, 5, is greater than permitted\n",
      " 20%|██        | 70812/350618 [00:11<00:49, 5630.68it/s][15:42:18] Explicit valence for atom # 2 C, 5, is greater than permitted\n",
      " 23%|██▎       | 79196/350618 [00:12<00:46, 5842.93it/s][15:42:19] SMILES Parse Error: syntax error while parsing: C1C[CH-]2[CH-]3[CH-]4[CH-]1[Co]234|5|6|7|8|[CH-]9C|8=C|5C|6=C|79\n",
      "[15:42:19] SMILES Parse Error: Failed parsing SMILES 'C1C[CH-]2[CH-]3[CH-]4[CH-]1[Co]234|5|6|7|8|[CH-]9C|8=C|5C|6=C|79' for input: 'C1C[CH-]2[CH-]3[CH-]4[CH-]1[Co]234|5|6|7|8|[CH-]9C|8=C|5C|6=C|79'\n",
      "[15:42:19] SMILES Parse Error: syntax error while parsing: C1C[CH-]2[CH-]3[CH-]4[CH-]1[Co]234|5|6|7|8|[CH-]9C|8=C|5C|6=C|79\n",
      "[15:42:19] SMILES Parse Error: Failed parsing SMILES 'C1C[CH-]2[CH-]3[CH-]4[CH-]1[Co]234|5|6|7|8|[CH-]9C|8=C|5C|6=C|79' for input: 'C1C[CH-]2[CH-]3[CH-]4[CH-]1[Co]234|5|6|7|8|[CH-]9C|8=C|5C|6=C|79'\n",
      " 23%|██▎       | 81522/350618 [00:13<00:47, 5688.90it/s][15:42:19] Explicit valence for atom # 0 O, 4, is greater than permitted\n",
      " 26%|██▌       | 90215/350618 [00:14<00:47, 5518.16it/s][15:42:21] SMILES Parse Error: syntax error while parsing: [CH-]1|2C|3=C|4C|5=C1|[Pd]67|2|3|4|5[CH2-][CH-]6[CH2-]7\n",
      "[15:42:21] SMILES Parse Error: Failed parsing SMILES '[CH-]1|2C|3=C|4C|5=C1|[Pd]67|2|3|4|5[CH2-][CH-]6[CH2-]7' for input: '[CH-]1|2C|3=C|4C|5=C1|[Pd]67|2|3|4|5[CH2-][CH-]6[CH2-]7'\n",
      " 26%|██▌       | 91444/350618 [00:14<00:44, 5823.09it/s][15:42:21] SMILES Parse Error: syntax error while parsing: C[C-]1|2C|3=C|4C|5=C1|[Fe]6789|2|3|4|5[CH-]%10[CH-]6[CH-]7[C-]8(C)[CH-]9%10\n",
      "[15:42:21] SMILES Parse Error: Failed parsing SMILES 'C[C-]1|2C|3=C|4C|5=C1|[Fe]6789|2|3|4|5[CH-]%10[CH-]6[CH-]7[C-]8(C)[CH-]9%10' for input: 'C[C-]1|2C|3=C|4C|5=C1|[Fe]6789|2|3|4|5[CH-]%10[CH-]6[CH-]7[C-]8(C)[CH-]9%10'\n",
      "[15:42:21] SMILES Parse Error: syntax error while parsing: C[C-]1|2C|3=C|4C|5=C1|[Fe]6789|2|3|4|5[CH-]%10[CH-]6[CH-]7[C-]8(C)[CH-]9%10\n",
      "[15:42:21] SMILES Parse Error: Failed parsing SMILES 'C[C-]1|2C|3=C|4C|5=C1|[Fe]6789|2|3|4|5[CH-]%10[CH-]6[CH-]7[C-]8(C)[CH-]9%10' for input: 'C[C-]1|2C|3=C|4C|5=C1|[Fe]6789|2|3|4|5[CH-]%10[CH-]6[CH-]7[C-]8(C)[CH-]9%10'\n",
      " 27%|██▋       | 94392/350618 [00:15<00:44, 5710.61it/s][15:42:22] Explicit valence for atom # 1 C, 5, is greater than permitted\n",
      " 28%|██▊       | 99569/350618 [00:16<00:45, 5478.89it/s][15:42:23] Explicit valence for atom # 0 O, 4, is greater than permitted\n",
      " 29%|██▊       | 100731/350618 [00:16<00:44, 5647.36it/s][15:42:23] SMILES Parse Error: syntax error while parsing: [Fe]|1|2|3|4(|N#CC(C#N|[Fe]|5|6(|N#CC(C#N|1)C(C#N)C#N)(|N#CC(C#N|2)C(C#N)C#N)|[PH+](CC(C)(C[PH+]|5(c7ccccc7)c8ccccc8)C[PH+]|6(c9ccccc9)c%10ccccc%10)(c%11ccccc%11)c%12ccccc%12)C(C#N)C#N)|[PH+](CC(C)(C[PH+]|3(c%13ccccc%13)c%14ccccc%14)C[PH+]|4(c%15ccccc%15)c%16ccccc%16)(c%17ccccc%17)c%18ccccc%18\n",
      "[15:42:23] SMILES Parse Error: Failed parsing SMILES '[Fe]|1|2|3|4(|N#CC(C#N|[Fe]|5|6(|N#CC(C#N|1)C(C#N)C#N)(|N#CC(C#N|2)C(C#N)C#N)|[PH+](CC(C)(C[PH+]|5(c7ccccc7)c8ccccc8)C[PH+]|6(c9ccccc9)c%10ccccc%10)(c%11ccccc%11)c%12ccccc%12)C(C#N)C#N)|[PH+](CC(C)(C[PH+]|3(c%13ccccc%13)c%14ccccc%14)C[PH+]|4(c%15ccccc%15)c%16ccccc%16)(c%17ccccc%17)c%18ccccc%18' for input: '[Fe]|1|2|3|4(|N#CC(C#N|[Fe]|5|6(|N#CC(C#N|1)C(C#N)C#N)(|N#CC(C#N|2)C(C#N)C#N)|[PH+](CC(C)(C[PH+]|5(c7ccccc7)c8ccccc8)C[PH+]|6(c9ccccc9)c%10ccccc%10)(c%11ccccc%11)c%12ccccc%12)C(C#N)C#N)|[PH+](CC(C)(C[PH+]|3(c%13ccccc%13)c%14ccccc%14)C[PH+]|4(c%15ccccc%15)c%16ccccc%16)(c%17ccccc%17)c%18ccccc%18'\n",
      "[15:42:23] SMILES Parse Error: syntax error while parsing: [Fe]|1|2|3|4(|N#CC(C#N|[Fe]|5|6(|N#CC(C#N|1)C(C#N)C#N)(|N#CC(C#N|2)C(C#N)C#N)|[PH+](CC(C)(C[PH+]|5(c7ccccc7)c8ccccc8)C[PH+]|6(c9ccccc9)c%10ccccc%10)(c%11ccccc%11)c%12ccccc%12)C(C#N)C#N)|[PH+](CC(C)(C[PH+]|3(c%13ccccc%13)c%14ccccc%14)C[PH+]|4(c%15ccccc%15)c%16ccccc%16)(c%17ccccc%17)c%18ccccc%18\n",
      "[15:42:23] SMILES Parse Error: Failed parsing SMILES '[Fe]|1|2|3|4(|N#CC(C#N|[Fe]|5|6(|N#CC(C#N|1)C(C#N)C#N)(|N#CC(C#N|2)C(C#N)C#N)|[PH+](CC(C)(C[PH+]|5(c7ccccc7)c8ccccc8)C[PH+]|6(c9ccccc9)c%10ccccc%10)(c%11ccccc%11)c%12ccccc%12)C(C#N)C#N)|[PH+](CC(C)(C[PH+]|3(c%13ccccc%13)c%14ccccc%14)C[PH+]|4(c%15ccccc%15)c%16ccccc%16)(c%17ccccc%17)c%18ccccc%18' for input: '[Fe]|1|2|3|4(|N#CC(C#N|[Fe]|5|6(|N#CC(C#N|1)C(C#N)C#N)(|N#CC(C#N|2)C(C#N)C#N)|[PH+](CC(C)(C[PH+]|5(c7ccccc7)c8ccccc8)C[PH+]|6(c9ccccc9)c%10ccccc%10)(c%11ccccc%11)c%12ccccc%12)C(C#N)C#N)|[PH+](CC(C)(C[PH+]|3(c%13ccccc%13)c%14ccccc%14)C[PH+]|4(c%15ccccc%15)c%16ccccc%16)(c%17ccccc%17)c%18ccccc%18'\n",
      " 29%|██▉       | 101866/350618 [00:16<00:45, 5458.56it/s][15:42:23] Explicit valence for atom # 8 O, 4, is greater than permitted\n",
      " 31%|███       | 108232/350618 [00:17<00:42, 5713.05it/s][15:42:24] Explicit valence for atom # 0 O, 4, is greater than permitted\n",
      " 32%|███▏      | 110533/350618 [00:18<00:42, 5635.23it/s][15:42:25] SMILES Parse Error: syntax error while parsing: OC(=O)[C-]1|2C|3=C|4C|5=C1|[Fe]6789|2|3|4|5[CH-]%10[CH-]6[CH-]7[CH-]8[CH-]9%10\n",
      "[15:42:25] SMILES Parse Error: Failed parsing SMILES 'OC(=O)[C-]1|2C|3=C|4C|5=C1|[Fe]6789|2|3|4|5[CH-]%10[CH-]6[CH-]7[CH-]8[CH-]9%10' for input: 'OC(=O)[C-]1|2C|3=C|4C|5=C1|[Fe]6789|2|3|4|5[CH-]%10[CH-]6[CH-]7[CH-]8[CH-]9%10'\n",
      "[15:42:25] SMILES Parse Error: syntax error while parsing: OC(=O)[C-]1|2C|3=C|4C|5=C1|[Fe]6789|2|3|4|5[CH-]%10[CH-]6[CH-]7[CH-]8[CH-]9%10\n",
      "[15:42:25] SMILES Parse Error: Failed parsing SMILES 'OC(=O)[C-]1|2C|3=C|4C|5=C1|[Fe]6789|2|3|4|5[CH-]%10[CH-]6[CH-]7[CH-]8[CH-]9%10' for input: 'OC(=O)[C-]1|2C|3=C|4C|5=C1|[Fe]6789|2|3|4|5[CH-]%10[CH-]6[CH-]7[CH-]8[CH-]9%10'\n",
      " 32%|███▏      | 112821/350618 [00:18<00:41, 5711.18it/s][15:42:25] Explicit valence for atom # 0 O, 4, is greater than permitted\n",
      " 37%|███▋      | 128792/350618 [00:21<00:41, 5393.00it/s][15:42:28] SMILES Parse Error: syntax error while parsing: CCCO|[V](|OCCC)(|OCCC)=O\n",
      "[15:42:28] SMILES Parse Error: Failed parsing SMILES 'CCCO|[V](|OCCC)(|OCCC)=O' for input: 'CCCO|[V](|OCCC)(|OCCC)=O'\n",
      " 40%|████      | 141922/350618 [00:23<00:39, 5317.13it/s][15:42:30] Explicit valence for atom # 0 O, 4, is greater than permitted\n",
      " 42%|████▏     | 148082/350618 [00:24<00:37, 5456.18it/s][15:42:31] Explicit valence for atom # 6 O, 4, is greater than permitted\n",
      " 46%|████▌     | 159924/350618 [00:27<00:34, 5503.73it/s][15:42:34] SMILES Parse Error: syntax error while parsing: [Fe]|1|2|3|4|5|6|7|8(|[CH-]9[CH-]|1[CH-]|2[C-]|3([CH-]|49)C(C)=O)|C%10=C|5[C-]|6(C|7=C|8%10)C(C)=O\n",
      "[15:42:34] SMILES Parse Error: Failed parsing SMILES '[Fe]|1|2|3|4|5|6|7|8(|[CH-]9[CH-]|1[CH-]|2[C-]|3([CH-]|49)C(C)=O)|C%10=C|5[C-]|6(C|7=C|8%10)C(C)=O' for input: '[Fe]|1|2|3|4|5|6|7|8(|[CH-]9[CH-]|1[CH-]|2[C-]|3([CH-]|49)C(C)=O)|C%10=C|5[C-]|6(C|7=C|8%10)C(C)=O'\n",
      "[15:42:34] SMILES Parse Error: syntax error while parsing: [Fe]|1|2|3|4|5|6|7|8(|[CH-]9[CH-]|1[CH-]|2[C-]|3([CH-]|49)C(C)=O)|C%10=C|5[C-]|6(C|7=C|8%10)C(C)=O\n",
      "[15:42:34] SMILES Parse Error: Failed parsing SMILES '[Fe]|1|2|3|4|5|6|7|8(|[CH-]9[CH-]|1[CH-]|2[C-]|3([CH-]|49)C(C)=O)|C%10=C|5[C-]|6(C|7=C|8%10)C(C)=O' for input: '[Fe]|1|2|3|4|5|6|7|8(|[CH-]9[CH-]|1[CH-]|2[C-]|3([CH-]|49)C(C)=O)|C%10=C|5[C-]|6(C|7=C|8%10)C(C)=O'\n",
      " 47%|████▋     | 164745/350618 [00:28<00:35, 5289.90it/s][15:42:35] Explicit valence for atom # 0 O, 4, is greater than permitted\n",
      "[15:42:35] Explicit valence for atom # 0 O, 4, is greater than permitted\n",
      " 47%|████▋     | 165318/350618 [00:28<00:34, 5417.00it/s][15:42:35] SMILES Parse Error: syntax error while parsing: [CH-]1|2[CH-]|3c4ccccc4[CH-]1|[Rh]56|2|3([CH2-][CH2-]5)[CH2-][CH2-]6\n",
      "[15:42:35] SMILES Parse Error: Failed parsing SMILES '[CH-]1|2[CH-]|3c4ccccc4[CH-]1|[Rh]56|2|3([CH2-][CH2-]5)[CH2-][CH2-]6' for input: '[CH-]1|2[CH-]|3c4ccccc4[CH-]1|[Rh]56|2|3([CH2-][CH2-]5)[CH2-][CH2-]6'\n",
      " 48%|████▊     | 167584/350618 [00:28<00:32, 5567.25it/s][15:42:35] SMILES Parse Error: syntax error while parsing: C1C[CH-]2[CH-]3CC[CH-]4[CH-]1[Rh]234|5|6|7|8|[CH-]9C|8=C|5C|6=C|79\n",
      "[15:42:35] SMILES Parse Error: Failed parsing SMILES 'C1C[CH-]2[CH-]3CC[CH-]4[CH-]1[Rh]234|5|6|7|8|[CH-]9C|8=C|5C|6=C|79' for input: 'C1C[CH-]2[CH-]3CC[CH-]4[CH-]1[Rh]234|5|6|7|8|[CH-]9C|8=C|5C|6=C|79'\n",
      "[15:42:35] SMILES Parse Error: syntax error while parsing: C1C[CH-]2[CH-]3CC[CH-]4[CH-]1[Rh]234|5|6|7|8|[CH-]9C|8=C|5C|6=C|79\n",
      "[15:42:35] SMILES Parse Error: Failed parsing SMILES 'C1C[CH-]2[CH-]3CC[CH-]4[CH-]1[Rh]234|5|6|7|8|[CH-]9C|8=C|5C|6=C|79' for input: 'C1C[CH-]2[CH-]3CC[CH-]4[CH-]1[Rh]234|5|6|7|8|[CH-]9C|8=C|5C|6=C|79'\n",
      " 48%|████▊     | 169245/350618 [00:28<00:33, 5369.74it/s][15:42:35] SMILES Parse Error: syntax error while parsing: [CH-]1|2C|3=C|4C|5=C1|[Co]6789|2|3|4|5[CH-]%10B([CH-]6[CH-]7[CH-]8[CH-]9%10)c%11ccccc%11\n",
      "[15:42:35] SMILES Parse Error: Failed parsing SMILES '[CH-]1|2C|3=C|4C|5=C1|[Co]6789|2|3|4|5[CH-]%10B([CH-]6[CH-]7[CH-]8[CH-]9%10)c%11ccccc%11' for input: '[CH-]1|2C|3=C|4C|5=C1|[Co]6789|2|3|4|5[CH-]%10B([CH-]6[CH-]7[CH-]8[CH-]9%10)c%11ccccc%11'\n",
      " 49%|████▉     | 171965/350618 [00:29<00:33, 5311.57it/s][15:42:36] Explicit valence for atom # 12 O, 4, is greater than permitted\n",
      " 57%|█████▋    | 201001/350618 [00:35<00:29, 5057.09it/s][15:42:41] Explicit valence for atom # 0 O, 4, is greater than permitted\n",
      " 60%|█████▉    | 209560/350618 [00:36<00:29, 4831.50it/s][15:42:43] SMILES Parse Error: syntax error while parsing: [Br]|[Sn](|[Br])(C)C\n",
      "[15:42:43] SMILES Parse Error: Failed parsing SMILES '[Br]|[Sn](|[Br])(C)C' for input: '[Br]|[Sn](|[Br])(C)C'\n",
      " 61%|██████▏   | 214825/350618 [00:37<00:27, 4944.65it/s][15:42:44] Explicit valence for atom # 0 O, 4, is greater than permitted\n",
      " 62%|██████▏   | 218367/350618 [00:38<00:27, 4827.36it/s][15:42:45] SMILES Parse Error: syntax error while parsing: [Zn++](|[S-]c1cccc[n+]1[O-])|[S-]c2cccc[n+]2[O-]\n",
      "[15:42:45] SMILES Parse Error: Failed parsing SMILES '[Zn++](|[S-]c1cccc[n+]1[O-])|[S-]c2cccc[n+]2[O-]' for input: '[Zn++](|[S-]c1cccc[n+]1[O-])|[S-]c2cccc[n+]2[O-]'\n",
      " 63%|██████▎   | 220941/350618 [00:39<00:26, 4916.56it/s][15:42:45] Explicit valence for atom # 7 Br, 3, is greater than permitted\n",
      " 64%|██████▍   | 225150/350618 [00:39<00:26, 4746.65it/s][15:42:46] SMILES Parse Error: syntax error while parsing: [Cu](|O=C(CC(C)=O)OCC)|O=C(CC(C)=O)OCC\n",
      "[15:42:46] SMILES Parse Error: Failed parsing SMILES '[Cu](|O=C(CC(C)=O)OCC)|O=C(CC(C)=O)OCC' for input: '[Cu](|O=C(CC(C)=O)OCC)|O=C(CC(C)=O)OCC'\n",
      " 65%|██████▍   | 227173/350618 [00:40<00:26, 4692.12it/s][15:42:47] Explicit valence for atom # 8 Br, 5, is greater than permitted\n",
      " 66%|██████▌   | 230232/350618 [00:40<00:24, 4935.72it/s][15:42:47] SMILES Parse Error: syntax error while parsing: C[C-]1|2C|3(=C|4(C)C|5(=C1(C)|[Mn]6789|2|3|4|5[C-]%10(C)[C-]6(C)[C-]7(C)[C-]8(C)[C-]9%10C)C)C\n",
      "[15:42:47] SMILES Parse Error: Failed parsing SMILES 'C[C-]1|2C|3(=C|4(C)C|5(=C1(C)|[Mn]6789|2|3|4|5[C-]%10(C)[C-]6(C)[C-]7(C)[C-]8(C)[C-]9%10C)C)C' for input: 'C[C-]1|2C|3(=C|4(C)C|5(=C1(C)|[Mn]6789|2|3|4|5[C-]%10(C)[C-]6(C)[C-]7(C)[C-]8(C)[C-]9%10C)C)C'\n",
      " 66%|██████▌   | 231787/350618 [00:41<00:24, 4904.74it/s][15:42:48] SMILES Parse Error: syntax error while parsing: C[C-]1|2C|3(=C|4(C)C|5(=C1(C)|[Fe]6789|2|3|4|5[C-]%10(C)[C-]6(C)[C-]7(C)[C-]8(C)[C-]9%10C)C)C\n",
      "[15:42:48] SMILES Parse Error: Failed parsing SMILES 'C[C-]1|2C|3(=C|4(C)C|5(=C1(C)|[Fe]6789|2|3|4|5[C-]%10(C)[C-]6(C)[C-]7(C)[C-]8(C)[C-]9%10C)C)C' for input: 'C[C-]1|2C|3(=C|4(C)C|5(=C1(C)|[Fe]6789|2|3|4|5[C-]%10(C)[C-]6(C)[C-]7(C)[C-]8(C)[C-]9%10C)C)C'\n",
      " 71%|███████▏  | 250132/350618 [00:45<00:21, 4747.55it/s][15:42:52] SMILES Parse Error: syntax error while parsing: [Rh]|OC(=C\\C(=O)C(C)(C)C)/C(C)(C)C.C=C.C=C\n",
      "[15:42:52] SMILES Parse Error: Failed parsing SMILES '[Rh]|OC(=C\\C(=O)C(C)(C)C)/C(C)(C)C.C=C.C=C' for input: '[Rh]|OC(=C\\C(=O)C(C)(C)C)/C(C)(C)C.C=C.C=C'\n",
      " 72%|███████▏  | 251569/350618 [00:45<00:21, 4554.18it/s][15:42:52] SMILES Parse Error: syntax error while parsing: O=[CH-]1[Co]2|[Co++]1[CH-]2=O.[C-]#[O+].[C-]#[O+].[C-]#[O+].[C-]#[O+].[C-]#[O+].[C-]#[O+]\n",
      "[15:42:52] SMILES Parse Error: Failed parsing SMILES 'O=[CH-]1[Co]2|[Co++]1[CH-]2=O.[C-]#[O+].[C-]#[O+].[C-]#[O+].[C-]#[O+].[C-]#[O+].[C-]#[O+]' for input: 'O=[CH-]1[Co]2|[Co++]1[CH-]2=O.[C-]#[O+].[C-]#[O+].[C-]#[O+].[C-]#[O+].[C-]#[O+].[C-]#[O+]'\n",
      "[15:42:52] SMILES Parse Error: syntax error while parsing: O=[CH-]1[Co]2|[Co++]1[CH-]2=O.[C-]#[O+].[C-]#[O+].[C-]#[O+].[C-]#[O+].[C-]#[O+].[C-]#[O+]\n",
      "[15:42:52] SMILES Parse Error: Failed parsing SMILES 'O=[CH-]1[Co]2|[Co++]1[CH-]2=O.[C-]#[O+].[C-]#[O+].[C-]#[O+].[C-]#[O+].[C-]#[O+].[C-]#[O+]' for input: 'O=[CH-]1[Co]2|[Co++]1[CH-]2=O.[C-]#[O+].[C-]#[O+].[C-]#[O+].[C-]#[O+].[C-]#[O+].[C-]#[O+]'\n",
      " 73%|███████▎  | 254554/350618 [00:46<00:20, 4742.45it/s][15:42:52] Explicit valence for atom # 0 O, 4, is greater than permitted\n",
      " 77%|███████▋  | 268846/350618 [00:49<00:17, 4722.29it/s][15:42:55] SMILES Parse Error: syntax error while parsing: [O+]#[C-][W]|1|2|3|4|5(|[C]6=[C]|1[C]|2=[C]|3[C]|4=[C]|5C6)([C-]#[O+])[C-]#[O+]\n",
      "[15:42:55] SMILES Parse Error: Failed parsing SMILES '[O+]#[C-][W]|1|2|3|4|5(|[C]6=[C]|1[C]|2=[C]|3[C]|4=[C]|5C6)([C-]#[O+])[C-]#[O+]' for input: '[O+]#[C-][W]|1|2|3|4|5(|[C]6=[C]|1[C]|2=[C]|3[C]|4=[C]|5C6)([C-]#[O+])[C-]#[O+]'\n",
      "[15:42:55] SMILES Parse Error: syntax error while parsing: [CH2-]1[CH-]2[CH2-][Mo]|34567[CH2-][CH-]8[CH2-][Mo]12|38([CH2-][CH-]4[CH2-]5)[CH2-][CH-]6[CH2-]7\n",
      "[15:42:55] SMILES Parse Error: Failed parsing SMILES '[CH2-]1[CH-]2[CH2-][Mo]|34567[CH2-][CH-]8[CH2-][Mo]12|38([CH2-][CH-]4[CH2-]5)[CH2-][CH-]6[CH2-]7' for input: '[CH2-]1[CH-]2[CH2-][Mo]|34567[CH2-][CH-]8[CH2-][Mo]12|38([CH2-][CH-]4[CH2-]5)[CH2-][CH-]6[CH2-]7'\n",
      " 84%|████████▎ | 293149/350618 [00:54<00:12, 4425.10it/s][15:43:01] SMILES Parse Error: syntax error while parsing: [O+]#[C-][W]|1|2|3(|[C]4=[C]|1C5CC4[C]|2=[C]|35)([C-]#[O+])([C-]#[O+])[C-]#[O+]\n",
      "[15:43:01] SMILES Parse Error: Failed parsing SMILES '[O+]#[C-][W]|1|2|3(|[C]4=[C]|1C5CC4[C]|2=[C]|35)([C-]#[O+])([C-]#[O+])[C-]#[O+]' for input: '[O+]#[C-][W]|1|2|3(|[C]4=[C]|1C5CC4[C]|2=[C]|35)([C-]#[O+])([C-]#[O+])[C-]#[O+]'\n",
      " 84%|████████▍ | 295568/350618 [00:54<00:12, 4514.45it/s][15:43:01] Explicit valence for atom # 18 Br, 3, is greater than permitted\n",
      " 85%|████████▍ | 296919/350618 [00:55<00:12, 4409.08it/s][15:43:02] SMILES Parse Error: syntax error while parsing: CC1=N|2CCN|3=C(C)C=C(O[Cu]|2|3OC(=C1)C(F)(F)F)C(F)(F)F\n",
      "[15:43:02] SMILES Parse Error: Failed parsing SMILES 'CC1=N|2CCN|3=C(C)C=C(O[Cu]|2|3OC(=C1)C(F)(F)F)C(F)(F)F' for input: 'CC1=N|2CCN|3=C(C)C=C(O[Cu]|2|3OC(=C1)C(F)(F)F)C(F)(F)F'\n",
      " 85%|████████▌ | 299195/350618 [00:55<00:11, 4497.43it/s][15:43:02] SMILES Parse Error: syntax error while parsing: C1COCCCN|2=Cc3ccccc3O[Ni]|4|2Oc5ccccc5C=N|4C1\n",
      "[15:43:02] SMILES Parse Error: Failed parsing SMILES 'C1COCCCN|2=Cc3ccccc3O[Ni]|4|2Oc5ccccc5C=N|4C1' for input: 'C1COCCCN|2=Cc3ccccc3O[Ni]|4|2Oc5ccccc5C=N|4C1'\n",
      " 98%|█████████▊| 342734/350618 [01:05<00:02, 3891.84it/s][15:43:12] SMILES Parse Error: syntax error while parsing: [Ni]|1|2(|[S-]C(=C([S-]|1)c3ccccc3)c4ccccc4)|[S-]C(=C([S-]|2)c5ccccc5)c6ccccc6\n",
      "[15:43:12] SMILES Parse Error: Failed parsing SMILES '[Ni]|1|2(|[S-]C(=C([S-]|1)c3ccccc3)c4ccccc4)|[S-]C(=C([S-]|2)c5ccccc5)c6ccccc6' for input: '[Ni]|1|2(|[S-]C(=C([S-]|1)c3ccccc3)c4ccccc4)|[S-]C(=C([S-]|2)c5ccccc5)c6ccccc6'\n",
      "[15:43:12] SMILES Parse Error: syntax error while parsing: [Ni]|1|2(|[S-]C(=C([S-]|1)c3ccccc3)c4ccccc4)|[S-]C(=C([S-]|2)c5ccccc5)c6ccccc6\n",
      "[15:43:12] SMILES Parse Error: Failed parsing SMILES '[Ni]|1|2(|[S-]C(=C([S-]|1)c3ccccc3)c4ccccc4)|[S-]C(=C([S-]|2)c5ccccc5)c6ccccc6' for input: '[Ni]|1|2(|[S-]C(=C([S-]|1)c3ccccc3)c4ccccc4)|[S-]C(=C([S-]|2)c5ccccc5)c6ccccc6'\n",
      "100%|██████████| 350618/350618 [01:08<00:00, 5142.97it/s]"
     ]
    },
    {
     "name": "stdout",
     "output_type": "stream",
     "text": [
      "Number of spectra with a valid but non-canonical smiles: 251878\n"
     ]
    },
    {
     "name": "stderr",
     "output_type": "stream",
     "text": [
      "\n"
     ]
    }
   ],
   "source": [
    "# test - how many smiles (from those spectra with a valid smiles) are non canonical\n",
    "# the number in the original dataset is 251878\n",
    "def compute_non_canonical(dataset):\n",
    "    counter = 0\n",
    "    for s in tqdm(dataset):\n",
    "        if s.get('smiles'):\n",
    "            mol = Chem.MolFromSmiles(s.get('smiles'))\n",
    "            if mol and Chem.MolToSmiles(mol) != s.get('smiles'):\n",
    "                counter += 1\n",
    "    print(f\"Number of spectra with a valid but non-canonical smiles: {counter}\")\n",
    "\n",
    "compute_non_canonical(nist_dataset)"
   ]
  },
  {
   "cell_type": "code",
   "execution_count": 8,
   "id": "2eb0c3e5",
   "metadata": {},
   "outputs": [],
   "source": [
    "# function for making smiles canonical and removing stereochemistry\n",
    "# fla\n",
    "def remove_stereochemistry_and_canonicalize(smiles):\n",
    "    mol = Chem.MolFromSmiles(smiles)    # canonize smiles\n",
    "    if mol is not None:                           # TODO oddelej if else \n",
    "        Chem.RemoveStereochemistry(mol)\n",
    "    else: \n",
    "        return None   # desteorechem\n",
    "    new_smiles = Chem.MolToSmiles(mol)    # convert to smiles\n",
    "    return new_smiles"
   ]
  },
  {
   "cell_type": "code",
   "execution_count": 9,
   "id": "254d6654",
   "metadata": {},
   "outputs": [],
   "source": [
    "# count examined occurrences of specific data missing in our dataset\n",
    "\n",
    "def count_all(dataset):\n",
    "    \n",
    "    all_data = 0\n",
    "\n",
    "    no_smiles = 0\n",
    "    no_inchikey = 0\n",
    "    no_inchi = 0\n",
    "\n",
    "    no_smile_only = 0\n",
    "    no_inchikey_only = 0\n",
    "    both_missing_counter = 0\n",
    "\n",
    "    all_identifier_missing = 0\n",
    "\n",
    "    for obj in dataset:\n",
    "        if obj.get('smiles') == None:\n",
    "            no_smiles += 1\n",
    "        if obj.get('inchikey') == None:\n",
    "            no_inchikey += 1\n",
    "        if obj.get('inchi') == None:\n",
    "            no_inchi += 1\n",
    "        if obj.get('smiles') == None and obj.get('inchi') != None:\n",
    "            no_smile_only += 1\n",
    "        if obj.get('smiles') != None and obj.get('inchi') == None:\n",
    "            no_inchikey_only += 1\n",
    "        if obj.get('smiles') == None and obj.get('inchikey') != None:\n",
    "            both_missing_counter += 1\n",
    "        if obj.get('smiles') == None and obj.get('inchikey') == None and obj.get('inchi') == None:\n",
    "            all_identifier_missing += 1\n",
    "        all_data += 1\n",
    "    return (all_data, no_smiles, no_inchikey, no_inchi, no_smile_only, no_inchikey_only,\n",
    "            both_missing_counter, all_identifier_missing)"
   ]
  },
  {
   "cell_type": "code",
   "execution_count": 10,
   "id": "bd106fbe",
   "metadata": {},
   "outputs": [],
   "source": [
    "# storing all occurences for smiles, inchi, inchikey and formula\n",
    "def get_all_identifiers(dataset):\n",
    "    \n",
    "    inchikey = []\n",
    "    inchi = []\n",
    "    smiles = []\n",
    "    formulas = [] \n",
    "    for obj in dataset:\n",
    "        inchikey.append(obj.get('inchikey'))\n",
    "        inchi.append(obj.get('inchi'))\n",
    "        smiles.append(obj.get('smiles'))\n",
    "        formulas.append(obj.get('formula'))\n",
    "    \n",
    "    return (inchikey, inchi, smiles, formulas)"
   ]
  },
  {
   "cell_type": "code",
   "execution_count": 11,
   "id": "742c7197",
   "metadata": {},
   "outputs": [],
   "source": [
    "all_data, no_smiles, no_inchikey, no_inchi, no_smile_only, no_inchikey_only,\\\n",
    "            both_missing_counter, all_identifier_missing = count_all(nist_dataset)"
   ]
  },
  {
   "cell_type": "code",
   "execution_count": 12,
   "id": "123dbd9f",
   "metadata": {},
   "outputs": [],
   "source": [
    "inchikey, inchi, smiles, formulas = get_all_identifiers(nist_dataset)"
   ]
  },
  {
   "cell_type": "code",
   "execution_count": 13,
   "id": "88597277",
   "metadata": {},
   "outputs": [
    {
     "name": "stdout",
     "output_type": "stream",
     "text": [
      "We are currently working with 350618 smiles, from which 243549 are unique\n",
      "\n",
      "We are currently working with 350618 inchikeys, from which 246911 are unique\n",
      "\n",
      "We are currently working with 350618 inchi, from which 246458 are unique\n",
      "\n",
      "We are currently working with 350618 formulas, from which 82741 are unique\n",
      "\n"
     ]
    }
   ],
   "source": [
    "\n",
    "print(f\"We are currently working with {len(smiles)} smiles, from which {len(set(smiles))} are unique\", end=\"\\n\\n\")\n",
    "print(f\"We are currently working with {len(inchikey)} inchikeys, from which {len(set(inchikey))} are unique\", end=\"\\n\\n\")\n",
    "print(f\"We are currently working with {len(inchi)} inchi, from which {len(set(inchi))} are unique\", end=\"\\n\\n\")\n",
    "print(f\"We are currently working with {len(formulas)} formulas, from which {len(set(formulas))} are unique\", end=\"\\n\\n\")"
   ]
  },
  {
   "cell_type": "code",
   "execution_count": 14,
   "id": "98214003",
   "metadata": {},
   "outputs": [],
   "source": [
    "data_missing = {\n",
    "    'All data': [all_data],\n",
    "    'No smiles': [no_smiles],\n",
    "    'No inchikey': [no_inchikey],     \n",
    "    'No inchi': [no_inchi],\n",
    "    'Smiles Only Missing': [no_smile_only],\n",
    "    'Inchi Only Missing': [no_inchikey_only],\n",
    "    'Both Missing': [both_missing_counter],\n",
    "    'All tree missing': [all_identifier_missing],    \n",
    "}\n",
    "missing_df = pd.DataFrame(data_missing)"
   ]
  },
  {
   "cell_type": "code",
   "execution_count": 15,
   "id": "fc30b27a",
   "metadata": {},
   "outputs": [],
   "source": [
    "missing_df = missing_df.T\n",
    "missing_df.columns = [\"Count\"]\n",
    "missing_df[\"average\"] = missing_df.apply(lambda row: row.Count / all_data, axis = 1)"
   ]
  },
  {
   "cell_type": "markdown",
   "id": "4904c13e",
   "metadata": {},
   "source": [
    "We have approximately 60k data that we are unable to work with. They do not include identifiers in any inchi, inchikey, or smiles. Proceeding, we will try to obtain some more smiles and, if possible correct corrupted ones."
   ]
  },
  {
   "cell_type": "code",
   "execution_count": 16,
   "id": "196400bc",
   "metadata": {},
   "outputs": [
    {
     "data": {
      "text/html": [
       "<div>\n",
       "<style scoped>\n",
       "    .dataframe tbody tr th:only-of-type {\n",
       "        vertical-align: middle;\n",
       "    }\n",
       "\n",
       "    .dataframe tbody tr th {\n",
       "        vertical-align: top;\n",
       "    }\n",
       "\n",
       "    .dataframe thead th {\n",
       "        text-align: right;\n",
       "    }\n",
       "</style>\n",
       "<table border=\"1\" class=\"dataframe\">\n",
       "  <thead>\n",
       "    <tr style=\"text-align: right;\">\n",
       "      <th></th>\n",
       "      <th>Count</th>\n",
       "      <th>average</th>\n",
       "    </tr>\n",
       "  </thead>\n",
       "  <tbody>\n",
       "    <tr>\n",
       "      <th>All data</th>\n",
       "      <td>350618</td>\n",
       "      <td>1.000000</td>\n",
       "    </tr>\n",
       "    <tr>\n",
       "      <th>No smiles</th>\n",
       "      <td>60494</td>\n",
       "      <td>0.172535</td>\n",
       "    </tr>\n",
       "    <tr>\n",
       "      <th>No inchikey</th>\n",
       "      <td>60163</td>\n",
       "      <td>0.171591</td>\n",
       "    </tr>\n",
       "    <tr>\n",
       "      <th>No inchi</th>\n",
       "      <td>60757</td>\n",
       "      <td>0.173285</td>\n",
       "    </tr>\n",
       "    <tr>\n",
       "      <th>Smiles Only Missing</th>\n",
       "      <td>191</td>\n",
       "      <td>0.000545</td>\n",
       "    </tr>\n",
       "    <tr>\n",
       "      <th>Inchi Only Missing</th>\n",
       "      <td>454</td>\n",
       "      <td>0.001295</td>\n",
       "    </tr>\n",
       "    <tr>\n",
       "      <th>Both Missing</th>\n",
       "      <td>334</td>\n",
       "      <td>0.000953</td>\n",
       "    </tr>\n",
       "    <tr>\n",
       "      <th>All tree missing</th>\n",
       "      <td>60160</td>\n",
       "      <td>0.171583</td>\n",
       "    </tr>\n",
       "  </tbody>\n",
       "</table>\n",
       "</div>"
      ],
      "text/plain": [
       "                      Count   average\n",
       "All data             350618  1.000000\n",
       "No smiles             60494  0.172535\n",
       "No inchikey           60163  0.171591\n",
       "No inchi              60757  0.173285\n",
       "Smiles Only Missing     191  0.000545\n",
       "Inchi Only Missing      454  0.001295\n",
       "Both Missing            334  0.000953\n",
       "All tree missing      60160  0.171583"
      ]
     },
     "execution_count": 16,
     "metadata": {},
     "output_type": "execute_result"
    }
   ],
   "source": [
    "missing_df"
   ]
  },
  {
   "cell_type": "code",
   "execution_count": 17,
   "id": "273e9d57",
   "metadata": {},
   "outputs": [
    {
     "data": {
      "image/png": "[encoded data removed]",
      "text/plain": [
       "<Figure size 640x480 with 1 Axes>"
      ]
     },
     "metadata": {},
     "output_type": "display_data"
    }
   ],
   "source": [
    "# x-coordinates of left sides of bars \n",
    "parameters_missing = [i for i in range(len(missing_df))]\n",
    "  \n",
    "# heights of bars\n",
    "height = [i for i in missing_df.Count]\n",
    "  \n",
    "# labels for bars\n",
    "tick_label = ['All data', 'No smiles', 'No inchikey', 'No inchi', 'Smiles Only Missing',\n",
    "              'Inchi Only Missing', 'Both Missing', 'All tree missing']\n",
    "  \n",
    "\n",
    "plt.bar(parameters_missing, height, tick_label = tick_label,\n",
    "        width = 0.8)\n",
    "  \n",
    "plt.xlabel('')\n",
    "plt.xticks(rotation=70)\n",
    "plt.ylabel('Number of Instances')\n",
    "plt.title('Number of missing data')\n",
    "plt.show()"
   ]
  },
  {
   "cell_type": "markdown",
   "id": "6ad70a41",
   "metadata": {},
   "source": [
    "# Data preparing"
   ]
  },
  {
   "cell_type": "code",
   "execution_count": 18,
   "id": "d700b748",
   "metadata": {},
   "outputs": [],
   "source": [
    "# Filter and try to restore corupted smiles\n",
    "# both tools are used, with help of rdkit and matchms as well\n",
    "# OKAY, here we add the smiles destereo and canonization\n",
    "\n",
    "def refill_information(dataset):\n",
    "    counter_smiles_changed = 0\n",
    "    updated_nist = []\n",
    "    for spectrum in tqdm(dataset):\n",
    "        smiles = spectrum.get('smiles')\n",
    "        # all missing\n",
    "        if smiles == None and spectrum.get('inchikey') == None and spectrum.get('inchi') == None:\n",
    "            continue\n",
    "            \n",
    "        #check weather smiles is syntactically valid or molecule is chemically reasonable\n",
    "        if (smiles == None or \\\n",
    "            Chem.MolFromSmiles(smiles, sanitize=False) == None or\\\n",
    "            Chem.MolFromSmiles(smiles) == None) and\\\n",
    "            spectrum.get('inchi') != None:\n",
    "            \n",
    "            # try to convert from inchi\n",
    "            tmp = Chem.inchi.MolFromInchi(spectrum.get('inchi'))\n",
    "            if tmp != None:\n",
    "                spectrum.set('smiles', Chem.MolToSmiles(tmp))\n",
    "                smiles = spectrum.get('smiles')\n",
    "        \n",
    "        # try with matchms\n",
    "        if smiles == None and spectrum.get('inchi') != None:\n",
    "            spectrum = matchms.filtering.derive_smiles_from_inchi(spectrum)\n",
    "            smiles = spectrum.get('smiles')\n",
    "\n",
    "        if smiles == None:\n",
    "            continue\n",
    "\n",
    "        # adding the canonization and destereo\n",
    "        new_smiles = remove_stereochemistry_and_canonicalize(smiles)\n",
    "        if new_smiles is None:\n",
    "            continue\n",
    "        spectrum.set('smiles', new_smiles)\n",
    "        if new_smiles != smiles:\n",
    "            counter_smiles_changed += 1\n",
    "            \n",
    "        updated_nist.append(spectrum)\n",
    "    \n",
    "    # printing stats about destereo and canonization\n",
    "    print(f\"Number of smiles changed: {counter_smiles_changed}\")\n",
    "    return updated_nist"
   ]
  },
  {
   "cell_type": "code",
   "execution_count": 19,
   "id": "646b2bde",
   "metadata": {},
   "outputs": [],
   "source": [
    "# generate shuffled indices for train, valid and test \n",
    "def generate_index(dataset, train_ratio, valid_ratio, test_ratio):\n",
    "    dataset_length = len(dataset)\n",
    "    \n",
    "    train_idx = np.full(int(dataset_length * train_ratio), 0, dtype=int)\n",
    "    valid_idx = np.full(int(dataset_length * valid_ratio), 1, dtype=int)\n",
    "    test_idx = np.full(int(dataset_length * test_ratio), 2, dtype=int)\n",
    "    \n",
    "    concatenate_array = np.concatenate((train_idx, valid_idx, test_idx))\n",
    "    \n",
    "    np.random.shuffle(concatenate_array)\n",
    "    \n",
    "    return concatenate_array"
   ]
  },
  {
   "cell_type": "code",
   "execution_count": 20,
   "id": "37f02e29",
   "metadata": {},
   "outputs": [],
   "source": [
    "# map each spectrum to its smiles\n",
    "def unique_mapping(dataset):\n",
    "    \n",
    "    smiles_dict = dict()\n",
    "    counter_none = 0\n",
    "    \n",
    "    for spectrum in dataset:\n",
    "        if \"smiles\" not in spectrum.metadata or spectrum.get(\"smiles\") == None:\n",
    "            counter_none += 1\n",
    "            continue\n",
    "        if spectrum.get(\"smiles\") not in smiles_dict:\n",
    "            smiles_dict[spectrum.get(\"smiles\")] = [spectrum]\n",
    "        else:\n",
    "            smiles_dict[spectrum.get(\"smiles\")].append(spectrum)\n",
    "\n",
    "    print(f\"Missing smiles identifier in {counter_none} cases\")\n",
    "    return smiles_dict"
   ]
  },
  {
   "cell_type": "code",
   "execution_count": 21,
   "id": "60b9c28f",
   "metadata": {},
   "outputs": [],
   "source": [
    "#build list dateset for training, valid and test\n",
    "# we iterate over all cases with same value and append them to final list in way\n",
    "# that all train, valid and test does not overlap with duplicities \n",
    "# at the end, lists are shuffled to avoid continuous stream of same data\n",
    "def generate_train_test_dataset(dataset, indices):\n",
    "    \n",
    "    train = []\n",
    "    valid = []\n",
    "    test = []\n",
    "    \n",
    " \n",
    "    for i, spectrums in zip(indices, dataset):\n",
    "        if i == TRAIN_INDEX:\n",
    "            for spectrum in dataset[spectrums]:\n",
    "                train.append(spectrum)\n",
    "        elif i == VALID_INDEX:\n",
    "            for spectrum in dataset[spectrums]:\n",
    "                valid.append(spectrum)\n",
    "        elif i == TEST_INDEX:\n",
    "            for spectrum in dataset[spectrums]:\n",
    "                test.append(spectrum)\n",
    "                \n",
    "    random.shuffle(train)\n",
    "    random.shuffle(valid)\n",
    "    random.shuffle(test)\n",
    "    return (train, valid, test)"
   ]
  },
  {
   "cell_type": "code",
   "execution_count": 22,
   "id": "e8c7171a",
   "metadata": {},
   "outputs": [],
   "source": [
    "# saving list in msp format\n",
    "def save_dataset(dataset, path, name):            \n",
    "    # makes all intermediate-level directories needed to contain the leaf directory\n",
    "    os.makedirs(path, mode=0o777, exist_ok=True)\n",
    "    save_as_msp(dataset, f\"{path}/{name}.msp\")     "
   ]
  },
  {
   "cell_type": "code",
   "execution_count": 23,
   "id": "0699a1d3",
   "metadata": {
    "scrolled": true
   },
   "outputs": [
    {
     "name": "stderr",
     "output_type": "stream",
     "text": [
      "  0%|          | 0/350618 [00:00<?, ?it/s][15:44:54] Explicit valence for atom # 0 B, 5, is greater than permitted\n",
      "[15:44:54] Explicit valence for atom # 0 B, 5, is greater than permitted\n",
      "[15:44:54] ERROR: Explicit valence for atom # 0 B, 5, is greater than permitted\n",
      "\n",
      "[15:44:54] Explicit valence for atom # 0 B, 5, is greater than permitted\n",
      "[15:44:54] Explicit valence for atom # 1 Cl, 4, is greater than permitted\n",
      "  1%|▏         | 4583/350618 [00:00<00:57, 5969.04it/s][15:44:55] Explicit valence for atom # 1 Cl, 7, is greater than permitted\n",
      "[15:44:55] Explicit valence for atom # 0 Cl, 7, is greater than permitted\n",
      "[15:44:55] ERROR: Explicit valence for atom # 0 Cl, 7, is greater than permitted\n",
      "\n",
      "[15:44:55] Explicit valence for atom # 1 Cl, 7, is greater than permitted\n",
      "  3%|▎         | 11364/350618 [00:02<01:05, 5156.42it/s][15:44:56] Explicit valence for atom # 0 B, 5, is greater than permitted\n",
      "[15:44:56] Explicit valence for atom # 0 B, 5, is greater than permitted\n",
      "[15:44:56] ERROR: Explicit valence for atom # 0 B, 5, is greater than permitted\n",
      "\n",
      "[15:44:56] Explicit valence for atom # 0 B, 5, is greater than permitted\n",
      "  6%|▌         | 20779/350618 [00:03<01:11, 4608.42it/s][15:44:58] Explicit valence for atom # 0 C, 5, is greater than permitted\n",
      "[15:44:58] Explicit valence for atom # 0 C, 5, is greater than permitted\n",
      "  7%|▋         | 24625/350618 [00:04<01:07, 4795.98it/s][15:44:59] Explicit valence for atom # 0 B, 6, is greater than permitted\n",
      "[15:44:59] Explicit valence for atom # 0 C, 5, is greater than permitted\n",
      "[15:44:59] ERROR: Explicit valence for atom # 0 C, 5, is greater than permitted\n",
      "\n",
      "[15:44:59] Explicit valence for atom # 0 B, 6, is greater than permitted\n",
      "[15:44:59] Explicit valence for atom # 0 B, 5, is greater than permitted\n",
      "[15:44:59] Explicit valence for atom # 0 C, 5, is greater than permitted\n",
      "[15:44:59] ERROR: Explicit valence for atom # 0 C, 5, is greater than permitted\n",
      "\n",
      "[15:44:59] Explicit valence for atom # 0 B, 5, is greater than permitted\n",
      " 13%|█▎        | 43860/350618 [00:09<01:11, 4301.00it/s][15:45:03] Explicit valence for atom # 1 C, 5, is greater than permitted\n",
      " 17%|█▋        | 59732/350618 [00:13<01:09, 4157.38it/s][15:45:07] SMILES Parse Error: syntax error while parsing: [CH-]1|2C|3=C|4C|5=C1|[Mn]6789|2|3|4|5[CH-]%10[CH-]6[CH-]7[CH-]8[CH-]9%10\n",
      "[15:45:07] SMILES Parse Error: Failed parsing SMILES '[CH-]1|2C|3=C|4C|5=C1|[Mn]6789|2|3|4|5[CH-]%10[CH-]6[CH-]7[CH-]8[CH-]9%10' for input: '[CH-]1|2C|3=C|4C|5=C1|[Mn]6789|2|3|4|5[CH-]%10[CH-]6[CH-]7[CH-]8[CH-]9%10'\n",
      "[15:45:07] SMILES Parse Error: syntax error while parsing: [CH-]1|2C|3=C|4C|5=C1|[Mn]6789|2|3|4|5[CH-]%10[CH-]6[CH-]7[CH-]8[CH-]9%10\n",
      "[15:45:07] SMILES Parse Error: Failed parsing SMILES '[CH-]1|2C|3=C|4C|5=C1|[Mn]6789|2|3|4|5[CH-]%10[CH-]6[CH-]7[CH-]8[CH-]9%10' for input: '[CH-]1|2C|3=C|4C|5=C1|[Mn]6789|2|3|4|5[CH-]%10[CH-]6[CH-]7[CH-]8[CH-]9%10'\n",
      " 18%|█▊        | 62300/350618 [00:13<01:08, 4181.00it/s][15:45:07] SMILES Parse Error: syntax error while parsing: [CH-]1|2C|3=C|4C|5=C1|[Fe]6789|2|3|4|5|[N-]%10[CH-]6[CH-]7[CH-]8[CH-]9%10\n",
      "[15:45:07] SMILES Parse Error: Failed parsing SMILES '[CH-]1|2C|3=C|4C|5=C1|[Fe]6789|2|3|4|5|[N-]%10[CH-]6[CH-]7[CH-]8[CH-]9%10' for input: '[CH-]1|2C|3=C|4C|5=C1|[Fe]6789|2|3|4|5|[N-]%10[CH-]6[CH-]7[CH-]8[CH-]9%10'\n",
      "[15:45:07] SMILES Parse Error: syntax error while parsing: [CH-]1|2C|3=C|4C|5=C1|[Fe]6789|2|3|4|5|[N-]%10[CH-]6[CH-]7[CH-]8[CH-]9%10\n",
      "[15:45:07] SMILES Parse Error: Failed parsing SMILES '[CH-]1|2C|3=C|4C|5=C1|[Fe]6789|2|3|4|5|[N-]%10[CH-]6[CH-]7[CH-]8[CH-]9%10' for input: '[CH-]1|2C|3=C|4C|5=C1|[Fe]6789|2|3|4|5|[N-]%10[CH-]6[CH-]7[CH-]8[CH-]9%10'\n",
      "[15:45:07] SMILES Parse Error: syntax error while parsing: [CH-]1|2C|3=C|4C|5=C1|[Fe]6789|2|3|4|5|[N-]%10[CH-]6[CH-]7[CH-]8[CH-]9%10\n",
      "[15:45:07] SMILES Parse Error: Failed parsing SMILES '[CH-]1|2C|3=C|4C|5=C1|[Fe]6789|2|3|4|5|[N-]%10[CH-]6[CH-]7[CH-]8[CH-]9%10' for input: '[CH-]1|2C|3=C|4C|5=C1|[Fe]6789|2|3|4|5|[N-]%10[CH-]6[CH-]7[CH-]8[CH-]9%10'\n",
      "[15:45:07] SMILES Parse Error: syntax error while parsing: [CH-]1|2C|3=C|4C|5=C1|[Fe]6789|2|3|4|5|[N-]%10[CH-]6[CH-]7[CH-]8[CH-]9%10\n",
      "[15:45:07] SMILES Parse Error: Failed parsing SMILES '[CH-]1|2C|3=C|4C|5=C1|[Fe]6789|2|3|4|5|[N-]%10[CH-]6[CH-]7[CH-]8[CH-]9%10' for input: '[CH-]1|2C|3=C|4C|5=C1|[Fe]6789|2|3|4|5|[N-]%10[CH-]6[CH-]7[CH-]8[CH-]9%10'\n",
      " 18%|█▊        | 62719/350618 [00:13<01:10, 4086.31it/s][15:45:08] Explicit valence for atom # 0 C, 5, is greater than permitted\n",
      " 20%|██        | 70791/350618 [00:15<01:12, 3854.77it/s][15:45:10] Explicit valence for atom # 2 C, 5, is greater than permitted\n",
      "[15:45:10] Explicit valence for atom # 2 C, 5, is greater than permitted\n",
      " 23%|██▎       | 79421/350618 [00:17<01:07, 4022.06it/s][15:45:12] SMILES Parse Error: syntax error while parsing: C1C[CH-]2[CH-]3[CH-]4[CH-]1[Co]234|5|6|7|8|[CH-]9C|8=C|5C|6=C|79\n",
      "[15:45:12] SMILES Parse Error: Failed parsing SMILES 'C1C[CH-]2[CH-]3[CH-]4[CH-]1[Co]234|5|6|7|8|[CH-]9C|8=C|5C|6=C|79' for input: 'C1C[CH-]2[CH-]3[CH-]4[CH-]1[Co]234|5|6|7|8|[CH-]9C|8=C|5C|6=C|79'\n",
      "[15:45:12] SMILES Parse Error: syntax error while parsing: C1C[CH-]2[CH-]3[CH-]4[CH-]1[Co]234|5|6|7|8|[CH-]9C|8=C|5C|6=C|79\n",
      "[15:45:12] SMILES Parse Error: Failed parsing SMILES 'C1C[CH-]2[CH-]3[CH-]4[CH-]1[Co]234|5|6|7|8|[CH-]9C|8=C|5C|6=C|79' for input: 'C1C[CH-]2[CH-]3[CH-]4[CH-]1[Co]234|5|6|7|8|[CH-]9C|8=C|5C|6=C|79'\n",
      " 23%|██▎       | 81422/350618 [00:18<01:11, 3789.89it/s][15:45:12] Explicit valence for atom # 0 O, 4, is greater than permitted\n",
      " 26%|██▌       | 90097/350618 [00:20<01:09, 3724.14it/s][15:45:15] SMILES Parse Error: syntax error while parsing: [CH-]1|2C|3=C|4C|5=C1|[Pd]67|2|3|4|5[CH2-][CH-]6[CH2-]7\n",
      "[15:45:15] SMILES Parse Error: Failed parsing SMILES '[CH-]1|2C|3=C|4C|5=C1|[Pd]67|2|3|4|5[CH2-][CH-]6[CH2-]7' for input: '[CH-]1|2C|3=C|4C|5=C1|[Pd]67|2|3|4|5[CH2-][CH-]6[CH2-]7'\n",
      " 26%|██▌       | 91737/350618 [00:21<01:04, 4025.71it/s][15:45:15] SMILES Parse Error: syntax error while parsing: C[C-]1|2C|3=C|4C|5=C1|[Fe]6789|2|3|4|5[CH-]%10[CH-]6[CH-]7[C-]8(C)[CH-]9%10\n",
      "[15:45:15] SMILES Parse Error: Failed parsing SMILES 'C[C-]1|2C|3=C|4C|5=C1|[Fe]6789|2|3|4|5[CH-]%10[CH-]6[CH-]7[C-]8(C)[CH-]9%10' for input: 'C[C-]1|2C|3=C|4C|5=C1|[Fe]6789|2|3|4|5[CH-]%10[CH-]6[CH-]7[C-]8(C)[CH-]9%10'\n",
      "[15:45:15] SMILES Parse Error: syntax error while parsing: C[C-]1|2C|3=C|4C|5=C1|[Fe]6789|2|3|4|5[CH-]%10[CH-]6[CH-]7[C-]8(C)[CH-]9%10\n",
      "[15:45:15] SMILES Parse Error: Failed parsing SMILES 'C[C-]1|2C|3=C|4C|5=C1|[Fe]6789|2|3|4|5[CH-]%10[CH-]6[CH-]7[C-]8(C)[CH-]9%10' for input: 'C[C-]1|2C|3=C|4C|5=C1|[Fe]6789|2|3|4|5[CH-]%10[CH-]6[CH-]7[C-]8(C)[CH-]9%10'\n",
      " 27%|██▋       | 94547/350618 [00:21<01:08, 3731.27it/s][15:45:16] Explicit valence for atom # 1 C, 5, is greater than permitted\n",
      "[15:45:16] Explicit valence for atom # 1 C, 5, is greater than permitted\n",
      " 28%|██▊       | 99297/350618 [00:23<01:09, 3638.51it/s][15:45:17] Explicit valence for atom # 3 C, 5, is greater than permitted\n",
      "[15:45:17] ERROR: Explicit valence for atom # 3 C, 5, is greater than permitted\n",
      "\n",
      "[15:45:17] Explicit valence for atom # 3 C, 5, is greater than permitted\n",
      "[15:45:17] ERROR: Explicit valence for atom # 3 C, 5, is greater than permitted\n",
      "\n",
      "[15:45:17] Explicit valence for atom # 0 O, 4, is greater than permitted\n",
      " 29%|██▊       | 100447/350618 [00:23<01:06, 3739.51it/s][15:45:17] SMILES Parse Error: syntax error while parsing: [Fe]|1|2|3|4(|N#CC(C#N|[Fe]|5|6(|N#CC(C#N|1)C(C#N)C#N)(|N#CC(C#N|2)C(C#N)C#N)|[PH+](CC(C)(C[PH+]|5(c7ccccc7)c8ccccc8)C[PH+]|6(c9ccccc9)c%10ccccc%10)(c%11ccccc%11)c%12ccccc%12)C(C#N)C#N)|[PH+](CC(C)(C[PH+]|3(c%13ccccc%13)c%14ccccc%14)C[PH+]|4(c%15ccccc%15)c%16ccccc%16)(c%17ccccc%17)c%18ccccc%18\n",
      "[15:45:17] SMILES Parse Error: Failed parsing SMILES '[Fe]|1|2|3|4(|N#CC(C#N|[Fe]|5|6(|N#CC(C#N|1)C(C#N)C#N)(|N#CC(C#N|2)C(C#N)C#N)|[PH+](CC(C)(C[PH+]|5(c7ccccc7)c8ccccc8)C[PH+]|6(c9ccccc9)c%10ccccc%10)(c%11ccccc%11)c%12ccccc%12)C(C#N)C#N)|[PH+](CC(C)(C[PH+]|3(c%13ccccc%13)c%14ccccc%14)C[PH+]|4(c%15ccccc%15)c%16ccccc%16)(c%17ccccc%17)c%18ccccc%18' for input: '[Fe]|1|2|3|4(|N#CC(C#N|[Fe]|5|6(|N#CC(C#N|1)C(C#N)C#N)(|N#CC(C#N|2)C(C#N)C#N)|[PH+](CC(C)(C[PH+]|5(c7ccccc7)c8ccccc8)C[PH+]|6(c9ccccc9)c%10ccccc%10)(c%11ccccc%11)c%12ccccc%12)C(C#N)C#N)|[PH+](CC(C)(C[PH+]|3(c%13ccccc%13)c%14ccccc%14)C[PH+]|4(c%15ccccc%15)c%16ccccc%16)(c%17ccccc%17)c%18ccccc%18'\n",
      " 29%|██▉       | 100837/350618 [00:23<01:06, 3761.54it/s][15:45:17] SMILES Parse Error: syntax error while parsing: [Fe]|1|2|3|4(|N#CC(C#N|[Fe]|5|6(|N#CC(C#N|1)C(C#N)C#N)(|N#CC(C#N|2)C(C#N)C#N)|[PH+](CC(C)(C[PH+]|5(c7ccccc7)c8ccccc8)C[PH+]|6(c9ccccc9)c%10ccccc%10)(c%11ccccc%11)c%12ccccc%12)C(C#N)C#N)|[PH+](CC(C)(C[PH+]|3(c%13ccccc%13)c%14ccccc%14)C[PH+]|4(c%15ccccc%15)c%16ccccc%16)(c%17ccccc%17)c%18ccccc%18\n",
      "[15:45:17] SMILES Parse Error: Failed parsing SMILES '[Fe]|1|2|3|4(|N#CC(C#N|[Fe]|5|6(|N#CC(C#N|1)C(C#N)C#N)(|N#CC(C#N|2)C(C#N)C#N)|[PH+](CC(C)(C[PH+]|5(c7ccccc7)c8ccccc8)C[PH+]|6(c9ccccc9)c%10ccccc%10)(c%11ccccc%11)c%12ccccc%12)C(C#N)C#N)|[PH+](CC(C)(C[PH+]|3(c%13ccccc%13)c%14ccccc%14)C[PH+]|4(c%15ccccc%15)c%16ccccc%16)(c%17ccccc%17)c%18ccccc%18' for input: '[Fe]|1|2|3|4(|N#CC(C#N|[Fe]|5|6(|N#CC(C#N|1)C(C#N)C#N)(|N#CC(C#N|2)C(C#N)C#N)|[PH+](CC(C)(C[PH+]|5(c7ccccc7)c8ccccc8)C[PH+]|6(c9ccccc9)c%10ccccc%10)(c%11ccccc%11)c%12ccccc%12)C(C#N)C#N)|[PH+](CC(C)(C[PH+]|3(c%13ccccc%13)c%14ccccc%14)C[PH+]|4(c%15ccccc%15)c%16ccccc%16)(c%17ccccc%17)c%18ccccc%18'\n",
      " 29%|██▉       | 102338/350618 [00:24<01:08, 3628.88it/s][15:45:18] Explicit valence for atom # 8 O, 4, is greater than permitted\n",
      " 31%|███       | 108143/350618 [00:25<01:04, 3749.39it/s][15:45:19] Explicit valence for atom # 0 O, 4, is greater than permitted\n",
      " 32%|███▏      | 110806/350618 [00:26<01:04, 3721.79it/s][15:45:20] SMILES Parse Error: syntax error while parsing: OC(=O)[C-]1|2C|3=C|4C|5=C1|[Fe]6789|2|3|4|5[CH-]%10[CH-]6[CH-]7[CH-]8[CH-]9%10\n",
      "[15:45:20] SMILES Parse Error: Failed parsing SMILES 'OC(=O)[C-]1|2C|3=C|4C|5=C1|[Fe]6789|2|3|4|5[CH-]%10[CH-]6[CH-]7[CH-]8[CH-]9%10' for input: 'OC(=O)[C-]1|2C|3=C|4C|5=C1|[Fe]6789|2|3|4|5[CH-]%10[CH-]6[CH-]7[CH-]8[CH-]9%10'\n",
      "[15:45:20] SMILES Parse Error: syntax error while parsing: OC(=O)[C-]1|2C|3=C|4C|5=C1|[Fe]6789|2|3|4|5[CH-]%10[CH-]6[CH-]7[CH-]8[CH-]9%10\n",
      "[15:45:20] SMILES Parse Error: Failed parsing SMILES 'OC(=O)[C-]1|2C|3=C|4C|5=C1|[Fe]6789|2|3|4|5[CH-]%10[CH-]6[CH-]7[CH-]8[CH-]9%10' for input: 'OC(=O)[C-]1|2C|3=C|4C|5=C1|[Fe]6789|2|3|4|5[CH-]%10[CH-]6[CH-]7[CH-]8[CH-]9%10'\n",
      " 32%|███▏      | 112759/350618 [00:26<01:03, 3731.32it/s][15:45:21] Explicit valence for atom # 0 O, 4, is greater than permitted\n",
      " 33%|███▎      | 116230/350618 [00:27<01:03, 3671.66it/s][15:45:22] Explicit valence for atom # 4 C, 5, is greater than permitted\n",
      "[15:45:22] ERROR: Explicit valence for atom # 4 C, 5, is greater than permitted\n",
      "\n",
      "[15:45:22] Explicit valence for atom # 4 C, 5, is greater than permitted\n",
      "[15:45:22] ERROR: Explicit valence for atom # 4 C, 5, is greater than permitted\n",
      "\n",
      " 37%|███▋      | 128559/350618 [00:31<01:03, 3475.30it/s][15:45:25] SMILES Parse Error: syntax error while parsing: CCCO|[V](|OCCC)(|OCCC)=O\n",
      "[15:45:25] SMILES Parse Error: Failed parsing SMILES 'CCCO|[V](|OCCC)(|OCCC)=O' for input: 'CCCO|[V](|OCCC)(|OCCC)=O'\n",
      " 41%|████      | 142327/350618 [00:35<00:58, 3572.69it/s][15:45:29] Explicit valence for atom # 0 O, 4, is greater than permitted\n",
      " 42%|████▏     | 148555/350618 [00:36<01:00, 3366.00it/s][15:45:31] Explicit valence for atom # 6 O, 4, is greater than permitted\n",
      " 46%|████▌     | 160351/350618 [00:40<00:52, 3598.82it/s][15:45:34] SMILES Parse Error: syntax error while parsing: [Fe]|1|2|3|4|5|6|7|8(|[CH-]9[CH-]|1[CH-]|2[C-]|3([CH-]|49)C(C)=O)|C%10=C|5[C-]|6(C|7=C|8%10)C(C)=O\n",
      "[15:45:34] SMILES Parse Error: Failed parsing SMILES '[Fe]|1|2|3|4|5|6|7|8(|[CH-]9[CH-]|1[CH-]|2[C-]|3([CH-]|49)C(C)=O)|C%10=C|5[C-]|6(C|7=C|8%10)C(C)=O' for input: '[Fe]|1|2|3|4|5|6|7|8(|[CH-]9[CH-]|1[CH-]|2[C-]|3([CH-]|49)C(C)=O)|C%10=C|5[C-]|6(C|7=C|8%10)C(C)=O'\n",
      "[15:45:34] SMILES Parse Error: syntax error while parsing: [Fe]|1|2|3|4|5|6|7|8(|[CH-]9[CH-]|1[CH-]|2[C-]|3([CH-]|49)C(C)=O)|C%10=C|5[C-]|6(C|7=C|8%10)C(C)=O\n",
      "[15:45:34] SMILES Parse Error: Failed parsing SMILES '[Fe]|1|2|3|4|5|6|7|8(|[CH-]9[CH-]|1[CH-]|2[C-]|3([CH-]|49)C(C)=O)|C%10=C|5[C-]|6(C|7=C|8%10)C(C)=O' for input: '[Fe]|1|2|3|4|5|6|7|8(|[CH-]9[CH-]|1[CH-]|2[C-]|3([CH-]|49)C(C)=O)|C%10=C|5[C-]|6(C|7=C|8%10)C(C)=O'\n",
      " 47%|████▋     | 164957/350618 [00:41<00:54, 3426.21it/s][15:45:35] Explicit valence for atom # 0 O, 4, is greater than permitted\n",
      "[15:45:35] Explicit valence for atom # 0 O, 4, is greater than permitted\n",
      " 47%|████▋     | 165330/350618 [00:41<00:52, 3514.73it/s][15:45:36] SMILES Parse Error: syntax error while parsing: [CH-]1|2[CH-]|3c4ccccc4[CH-]1|[Rh]56|2|3([CH2-][CH2-]5)[CH2-][CH2-]6\n",
      "[15:45:36] SMILES Parse Error: Failed parsing SMILES '[CH-]1|2[CH-]|3c4ccccc4[CH-]1|[Rh]56|2|3([CH2-][CH2-]5)[CH2-][CH2-]6' for input: '[CH-]1|2[CH-]|3c4ccccc4[CH-]1|[Rh]56|2|3([CH2-][CH2-]5)[CH2-][CH2-]6'\n",
      " 48%|████▊     | 167934/350618 [00:42<00:49, 3712.82it/s][15:45:36] SMILES Parse Error: syntax error while parsing: C1C[CH-]2[CH-]3CC[CH-]4[CH-]1[Rh]234|5|6|7|8|[CH-]9C|8=C|5C|6=C|79\n",
      "[15:45:36] SMILES Parse Error: Failed parsing SMILES 'C1C[CH-]2[CH-]3CC[CH-]4[CH-]1[Rh]234|5|6|7|8|[CH-]9C|8=C|5C|6=C|79' for input: 'C1C[CH-]2[CH-]3CC[CH-]4[CH-]1[Rh]234|5|6|7|8|[CH-]9C|8=C|5C|6=C|79'\n",
      "[15:45:36] SMILES Parse Error: syntax error while parsing: C1C[CH-]2[CH-]3CC[CH-]4[CH-]1[Rh]234|5|6|7|8|[CH-]9C|8=C|5C|6=C|79\n",
      "[15:45:36] SMILES Parse Error: Failed parsing SMILES 'C1C[CH-]2[CH-]3CC[CH-]4[CH-]1[Rh]234|5|6|7|8|[CH-]9C|8=C|5C|6=C|79' for input: 'C1C[CH-]2[CH-]3CC[CH-]4[CH-]1[Rh]234|5|6|7|8|[CH-]9C|8=C|5C|6=C|79'\n",
      " 48%|████▊     | 169405/350618 [00:42<00:51, 3507.92it/s][15:45:37] SMILES Parse Error: syntax error while parsing: [CH-]1|2C|3=C|4C|5=C1|[Co]6789|2|3|4|5[CH-]%10B([CH-]6[CH-]7[CH-]8[CH-]9%10)c%11ccccc%11\n",
      "[15:45:37] SMILES Parse Error: Failed parsing SMILES '[CH-]1|2C|3=C|4C|5=C1|[Co]6789|2|3|4|5[CH-]%10B([CH-]6[CH-]7[CH-]8[CH-]9%10)c%11ccccc%11' for input: '[CH-]1|2C|3=C|4C|5=C1|[Co]6789|2|3|4|5[CH-]%10B([CH-]6[CH-]7[CH-]8[CH-]9%10)c%11ccccc%11'\n",
      "[15:45:37] SMILES Parse Error: syntax error while parsing: [CH-]1|2C|3=C|4C|5=C1|[Co]6789|2|3|4|5[CH-]%10B([CH-]6[CH-]7[CH-]8[CH-]9%10)c%11ccccc%11\n",
      "[15:45:37] SMILES Parse Error: Failed parsing SMILES '[CH-]1|2C|3=C|4C|5=C1|[Co]6789|2|3|4|5[CH-]%10B([CH-]6[CH-]7[CH-]8[CH-]9%10)c%11ccccc%11' for input: '[CH-]1|2C|3=C|4C|5=C1|[Co]6789|2|3|4|5[CH-]%10B([CH-]6[CH-]7[CH-]8[CH-]9%10)c%11ccccc%11'\n",
      " 49%|████▉     | 172215/350618 [00:43<00:52, 3392.52it/s][15:45:38] Explicit valence for atom # 12 O, 4, is greater than permitted\n",
      " 57%|█████▋    | 200919/350618 [00:52<00:45, 3296.29it/s][15:45:46] Explicit valence for atom # 0 O, 4, is greater than permitted\n",
      " 60%|█████▉    | 209495/350618 [00:54<00:46, 3046.27it/s][15:45:49] SMILES Parse Error: syntax error while parsing: [Br]|[Sn](|[Br])(C)C\n",
      "[15:45:49] SMILES Parse Error: Failed parsing SMILES '[Br]|[Sn](|[Br])(C)C' for input: '[Br]|[Sn](|[Br])(C)C'\n",
      " 61%|██████▏   | 214945/350618 [00:56<00:43, 3146.17it/s][15:45:50] Explicit valence for atom # 0 O, 4, is greater than permitted\n",
      " 62%|██████▏   | 218528/350618 [00:57<00:42, 3104.91it/s][15:45:52] SMILES Parse Error: syntax error while parsing: [Zn++](|[S-]c1cccc[n+]1[O-])|[S-]c2cccc[n+]2[O-]\n",
      "[15:45:52] SMILES Parse Error: Failed parsing SMILES '[Zn++](|[S-]c1cccc[n+]1[O-])|[S-]c2cccc[n+]2[O-]' for input: '[Zn++](|[S-]c1cccc[n+]1[O-])|[S-]c2cccc[n+]2[O-]'\n",
      " 63%|██████▎   | 220879/350618 [00:58<00:40, 3182.25it/s][15:45:52] Explicit valence for atom # 7 Br, 3, is greater than permitted\n",
      "[15:45:52] Explicit valence for atom # 8 Br, 3, is greater than permitted\n",
      "[15:45:52] ERROR: Explicit valence for atom # 8 Br, 3, is greater than permitted\n",
      "\n",
      "[15:45:52] Explicit valence for atom # 7 Br, 3, is greater than permitted\n",
      " 64%|██████▍   | 224972/350618 [00:59<00:41, 3015.55it/s][15:45:54] SMILES Parse Error: syntax error while parsing: [Cu](|O=C(CC(C)=O)OCC)|O=C(CC(C)=O)OCC\n",
      "[15:45:54] SMILES Parse Error: Failed parsing SMILES '[Cu](|O=C(CC(C)=O)OCC)|O=C(CC(C)=O)OCC' for input: '[Cu](|O=C(CC(C)=O)OCC)|O=C(CC(C)=O)OCC'\n",
      " 65%|██████▍   | 227202/350618 [01:00<00:41, 2944.94it/s][15:45:54] Explicit valence for atom # 8 Br, 5, is greater than permitted\n",
      "[15:45:54] Explicit valence for atom # 6 Br, 5, is greater than permitted\n",
      "[15:45:54] ERROR: Explicit valence for atom # 6 Br, 5, is greater than permitted\n",
      "\n",
      "[15:45:54] Explicit valence for atom # 8 Br, 5, is greater than permitted\n",
      " 66%|██████▌   | 230467/350618 [01:01<00:38, 3127.02it/s][15:45:55] SMILES Parse Error: syntax error while parsing: C[C-]1|2C|3(=C|4(C)C|5(=C1(C)|[Mn]6789|2|3|4|5[C-]%10(C)[C-]6(C)[C-]7(C)[C-]8(C)[C-]9%10C)C)C\n",
      "[15:45:55] SMILES Parse Error: Failed parsing SMILES 'C[C-]1|2C|3(=C|4(C)C|5(=C1(C)|[Mn]6789|2|3|4|5[C-]%10(C)[C-]6(C)[C-]7(C)[C-]8(C)[C-]9%10C)C)C' for input: 'C[C-]1|2C|3(=C|4(C)C|5(=C1(C)|[Mn]6789|2|3|4|5[C-]%10(C)[C-]6(C)[C-]7(C)[C-]8(C)[C-]9%10C)C)C'\n",
      " 66%|██████▌   | 231809/350618 [01:01<00:38, 3108.77it/s][15:45:56] SMILES Parse Error: syntax error while parsing: C[C-]1|2C|3(=C|4(C)C|5(=C1(C)|[Fe]6789|2|3|4|5[C-]%10(C)[C-]6(C)[C-]7(C)[C-]8(C)[C-]9%10C)C)C\n",
      "[15:45:56] SMILES Parse Error: Failed parsing SMILES 'C[C-]1|2C|3(=C|4(C)C|5(=C1(C)|[Fe]6789|2|3|4|5[C-]%10(C)[C-]6(C)[C-]7(C)[C-]8(C)[C-]9%10C)C)C' for input: 'C[C-]1|2C|3(=C|4(C)C|5(=C1(C)|[Fe]6789|2|3|4|5[C-]%10(C)[C-]6(C)[C-]7(C)[C-]8(C)[C-]9%10C)C)C'\n",
      " 71%|███████▏  | 250287/350618 [01:08<00:32, 3064.66it/s][15:46:02] SMILES Parse Error: syntax error while parsing: [Rh]|OC(=C\\C(=O)C(C)(C)C)/C(C)(C)C.C=C.C=C\n",
      "[15:46:02] SMILES Parse Error: Failed parsing SMILES '[Rh]|OC(=C\\C(=O)C(C)(C)C)/C(C)(C)C.C=C.C=C' for input: '[Rh]|OC(=C\\C(=O)C(C)(C)C)/C(C)(C)C.C=C.C=C'\n",
      " 72%|███████▏  | 251493/350618 [01:08<00:34, 2889.93it/s][15:46:02] SMILES Parse Error: syntax error while parsing: O=[CH-]1[Co]2|[Co++]1[CH-]2=O.[C-]#[O+].[C-]#[O+].[C-]#[O+].[C-]#[O+].[C-]#[O+].[C-]#[O+]\n",
      "[15:46:02] SMILES Parse Error: Failed parsing SMILES 'O=[CH-]1[Co]2|[Co++]1[CH-]2=O.[C-]#[O+].[C-]#[O+].[C-]#[O+].[C-]#[O+].[C-]#[O+].[C-]#[O+]' for input: 'O=[CH-]1[Co]2|[Co++]1[CH-]2=O.[C-]#[O+].[C-]#[O+].[C-]#[O+].[C-]#[O+].[C-]#[O+].[C-]#[O+]'\n",
      "[15:46:02] SMILES Parse Error: syntax error while parsing: O=[CH-]1[Co]2|[Co++]1[CH-]2=O.[C-]#[O+].[C-]#[O+].[C-]#[O+].[C-]#[O+].[C-]#[O+].[C-]#[O+]\n",
      "[15:46:02] SMILES Parse Error: Failed parsing SMILES 'O=[CH-]1[Co]2|[Co++]1[CH-]2=O.[C-]#[O+].[C-]#[O+].[C-]#[O+].[C-]#[O+].[C-]#[O+].[C-]#[O+]' for input: 'O=[CH-]1[Co]2|[Co++]1[CH-]2=O.[C-]#[O+].[C-]#[O+].[C-]#[O+].[C-]#[O+].[C-]#[O+].[C-]#[O+]'\n",
      " 73%|███████▎  | 254336/350618 [01:09<00:31, 3041.49it/s][15:46:03] Explicit valence for atom # 0 O, 4, is greater than permitted\n",
      " 77%|███████▋  | 268943/350618 [01:14<00:26, 3025.00it/s][15:46:08] SMILES Parse Error: syntax error while parsing: [O+]#[C-][W]|1|2|3|4|5(|[C]6=[C]|1[C]|2=[C]|3[C]|4=[C]|5C6)([C-]#[O+])[C-]#[O+]\n",
      "[15:46:08] SMILES Parse Error: Failed parsing SMILES '[O+]#[C-][W]|1|2|3|4|5(|[C]6=[C]|1[C]|2=[C]|3[C]|4=[C]|5C6)([C-]#[O+])[C-]#[O+]' for input: '[O+]#[C-][W]|1|2|3|4|5(|[C]6=[C]|1[C]|2=[C]|3[C]|4=[C]|5C6)([C-]#[O+])[C-]#[O+]'\n",
      "[15:46:08] SMILES Parse Error: syntax error while parsing: [CH2-]1[CH-]2[CH2-][Mo]|34567[CH2-][CH-]8[CH2-][Mo]12|38([CH2-][CH-]4[CH2-]5)[CH2-][CH-]6[CH2-]7\n",
      "[15:46:08] SMILES Parse Error: Failed parsing SMILES '[CH2-]1[CH-]2[CH2-][Mo]|34567[CH2-][CH-]8[CH2-][Mo]12|38([CH2-][CH-]4[CH2-]5)[CH2-][CH-]6[CH2-]7' for input: '[CH2-]1[CH-]2[CH2-][Mo]|34567[CH2-][CH-]8[CH2-][Mo]12|38([CH2-][CH-]4[CH2-]5)[CH2-][CH-]6[CH2-]7'\n",
      " 84%|████████▎ | 293167/350618 [01:22<00:19, 2878.83it/s][15:46:16] SMILES Parse Error: syntax error while parsing: [O+]#[C-][W]|1|2|3(|[C]4=[C]|1C5CC4[C]|2=[C]|35)([C-]#[O+])([C-]#[O+])[C-]#[O+]\n",
      "[15:46:16] SMILES Parse Error: Failed parsing SMILES '[O+]#[C-][W]|1|2|3(|[C]4=[C]|1C5CC4[C]|2=[C]|35)([C-]#[O+])([C-]#[O+])[C-]#[O+]' for input: '[O+]#[C-][W]|1|2|3(|[C]4=[C]|1C5CC4[C]|2=[C]|35)([C-]#[O+])([C-]#[O+])[C-]#[O+]'\n",
      " 84%|████████▍ | 295685/350618 [01:23<00:19, 2824.11it/s][15:46:17] Explicit valence for atom # 18 Br, 3, is greater than permitted\n",
      "[15:46:17] Explicit valence for atom # 17 Br, 3, is greater than permitted\n",
      "[15:46:17] ERROR: Explicit valence for atom # 17 Br, 3, is greater than permitted\n",
      "\n",
      "[15:46:17] Explicit valence for atom # 18 Br, 3, is greater than permitted\n",
      " 85%|████████▍ | 296857/350618 [01:23<00:18, 2864.34it/s][15:46:18] SMILES Parse Error: syntax error while parsing: CC1=N|2CCN|3=C(C)C=C(O[Cu]|2|3OC(=C1)C(F)(F)F)C(F)(F)F\n",
      "[15:46:18] SMILES Parse Error: Failed parsing SMILES 'CC1=N|2CCN|3=C(C)C=C(O[Cu]|2|3OC(=C1)C(F)(F)F)C(F)(F)F' for input: 'CC1=N|2CCN|3=C(C)C=C(O[Cu]|2|3OC(=C1)C(F)(F)F)C(F)(F)F'\n",
      " 85%|████████▌ | 298947/350618 [01:24<00:17, 2903.84it/s][15:46:18] SMILES Parse Error: syntax error while parsing: C1COCCCN|2=Cc3ccccc3O[Ni]|4|2Oc5ccccc5C=N|4C1\n",
      "[15:46:18] SMILES Parse Error: Failed parsing SMILES 'C1COCCCN|2=Cc3ccccc3O[Ni]|4|2Oc5ccccc5C=N|4C1' for input: 'C1COCCCN|2=Cc3ccccc3O[Ni]|4|2Oc5ccccc5C=N|4C1'\n",
      " 98%|█████████▊| 342893/350618 [01:40<00:03, 2518.99it/s][15:46:34] SMILES Parse Error: syntax error while parsing: [Ni]|1|2(|[S-]C(=C([S-]|1)c3ccccc3)c4ccccc4)|[S-]C(=C([S-]|2)c5ccccc5)c6ccccc6\n",
      "[15:46:34] SMILES Parse Error: Failed parsing SMILES '[Ni]|1|2(|[S-]C(=C([S-]|1)c3ccccc3)c4ccccc4)|[S-]C(=C([S-]|2)c5ccccc5)c6ccccc6' for input: '[Ni]|1|2(|[S-]C(=C([S-]|1)c3ccccc3)c4ccccc4)|[S-]C(=C([S-]|2)c5ccccc5)c6ccccc6'\n",
      "[15:46:34] SMILES Parse Error: syntax error while parsing: [Ni]|1|2(|[S-]C(=C([S-]|1)c3ccccc3)c4ccccc4)|[S-]C(=C([S-]|2)c5ccccc5)c6ccccc6\n",
      "[15:46:34] SMILES Parse Error: Failed parsing SMILES '[Ni]|1|2(|[S-]C(=C([S-]|1)c3ccccc3)c4ccccc4)|[S-]C(=C([S-]|2)c5ccccc5)c6ccccc6' for input: '[Ni]|1|2(|[S-]C(=C([S-]|1)c3ccccc3)c4ccccc4)|[S-]C(=C([S-]|2)c5ccccc5)c6ccccc6'\n",
      "[15:46:34] SMILES Parse Error: syntax error while parsing: [Ni]|1|2(|[S-]C(=C([S-]|1)c3ccccc3)c4ccccc4)|[S-]C(=C([S-]|2)c5ccccc5)c6ccccc6\n",
      "[15:46:34] SMILES Parse Error: Failed parsing SMILES '[Ni]|1|2(|[S-]C(=C([S-]|1)c3ccccc3)c4ccccc4)|[S-]C(=C([S-]|2)c5ccccc5)c6ccccc6' for input: '[Ni]|1|2(|[S-]C(=C([S-]|1)c3ccccc3)c4ccccc4)|[S-]C(=C([S-]|2)c5ccccc5)c6ccccc6'\n",
      "100%|██████████| 350618/350618 [01:43<00:00, 3373.81it/s]\n"
     ]
    },
    {
     "name": "stdout",
     "output_type": "stream",
     "text": [
      "Number of smiles changed: 252067\n",
      "Missing smiles identifier in 0 cases\n"
     ]
    }
   ],
   "source": [
    "# Define constants for dataset \n",
    "\n",
    "TRAIN_RATIO = 0.8\n",
    "VALID_RATIO = 0.1\n",
    "TEST_RATIO = 0.1\n",
    "\n",
    "TRAIN_INDEX = 0\n",
    "VALID_INDEX = 1\n",
    "TEST_INDEX = 2\n",
    "\n",
    "updated_dataset = refill_information(nist_dataset)\n",
    "nist_dict = unique_mapping(updated_dataset)\n",
    "DATASET_LENGTH = len(nist_dict)"
   ]
  },
  {
   "cell_type": "code",
   "execution_count": 24,
   "id": "2ec45460",
   "metadata": {},
   "outputs": [],
   "source": [
    "indices = generate_index(nist_dict, TRAIN_RATIO, VALID_RATIO, TEST_RATIO)\n",
    "train, valid, test = generate_train_test_dataset(nist_dict, indices)"
   ]
  },
  {
   "cell_type": "markdown",
   "id": "60dab700",
   "metadata": {},
   "source": [
    "The code is commented on to avoid unintentional rewriting of the created dataset."
   ]
  },
  {
   "cell_type": "code",
   "execution_count": 31,
   "id": "f12e0133",
   "metadata": {},
   "outputs": [],
   "source": [
    "save_dataset(train, \"../data/datasets/NIST/NIST_split_filip\", \"train\")\n",
    "save_dataset(test, \"../data/datasets/NIST/NIST_split_filip\", \"test\")\n",
    "save_dataset(valid, \"../data/datasets/NIST/NIST_split_filip\", \"valid\")"
   ]
  },
  {
   "cell_type": "code",
   "execution_count": null,
   "id": "050d8173",
   "metadata": {},
   "outputs": [],
   "source": [
    "save_dataset(valid, \"../../data/datasets/NIST/NIST_split_filip\", \"valid\")"
   ]
  },
  {
   "cell_type": "code",
   "execution_count": 26,
   "id": "9224d5af",
   "metadata": {},
   "outputs": [],
   "source": [
    "all_data, no_smiles, no_inchikey, no_inchi, no_smile_only, no_inchikey_only,\\\n",
    "            both_missing_counter, all_identifier_missing = count_all(updated_dataset)\n",
    "\n",
    "inchikey, inchi, smiles, formulas = get_all_identifiers(updated_dataset)"
   ]
  },
  {
   "cell_type": "code",
   "execution_count": 27,
   "id": "2eae4c62",
   "metadata": {},
   "outputs": [
    {
     "name": "stdout",
     "output_type": "stream",
     "text": [
      "Number of new unique smiles is 243305\n"
     ]
    }
   ],
   "source": [
    "print(f\"Number of new unique smiles is {len(set(smiles))}\")"
   ]
  },
  {
   "cell_type": "code",
   "execution_count": 28,
   "id": "c133ee87",
   "metadata": {},
   "outputs": [
    {
     "data": {
      "text/html": [
       "<div>\n",
       "<style scoped>\n",
       "    .dataframe tbody tr th:only-of-type {\n",
       "        vertical-align: middle;\n",
       "    }\n",
       "\n",
       "    .dataframe tbody tr th {\n",
       "        vertical-align: top;\n",
       "    }\n",
       "\n",
       "    .dataframe thead th {\n",
       "        text-align: right;\n",
       "    }\n",
       "</style>\n",
       "<table border=\"1\" class=\"dataframe\">\n",
       "  <thead>\n",
       "    <tr style=\"text-align: right;\">\n",
       "      <th></th>\n",
       "      <th>Count</th>\n",
       "      <th>average</th>\n",
       "      <th>Update count</th>\n",
       "      <th>Update average</th>\n",
       "    </tr>\n",
       "  </thead>\n",
       "  <tbody>\n",
       "    <tr>\n",
       "      <th>All data</th>\n",
       "      <td>350618</td>\n",
       "      <td>1.000000</td>\n",
       "      <td>290297</td>\n",
       "      <td>1.000000</td>\n",
       "    </tr>\n",
       "    <tr>\n",
       "      <th>No smiles</th>\n",
       "      <td>60494</td>\n",
       "      <td>0.172535</td>\n",
       "      <td>0</td>\n",
       "      <td>0.000000</td>\n",
       "    </tr>\n",
       "    <tr>\n",
       "      <th>No inchikey</th>\n",
       "      <td>60163</td>\n",
       "      <td>0.171591</td>\n",
       "      <td>1</td>\n",
       "      <td>0.000003</td>\n",
       "    </tr>\n",
       "    <tr>\n",
       "      <th>No inchi</th>\n",
       "      <td>60757</td>\n",
       "      <td>0.173285</td>\n",
       "      <td>446</td>\n",
       "      <td>0.001536</td>\n",
       "    </tr>\n",
       "    <tr>\n",
       "      <th>Smiles Only Missing</th>\n",
       "      <td>191</td>\n",
       "      <td>0.000545</td>\n",
       "      <td>0</td>\n",
       "      <td>0.000000</td>\n",
       "    </tr>\n",
       "    <tr>\n",
       "      <th>Inchi Only Missing</th>\n",
       "      <td>454</td>\n",
       "      <td>0.001295</td>\n",
       "      <td>446</td>\n",
       "      <td>0.001536</td>\n",
       "    </tr>\n",
       "    <tr>\n",
       "      <th>Both Missing</th>\n",
       "      <td>334</td>\n",
       "      <td>0.000953</td>\n",
       "      <td>0</td>\n",
       "      <td>0.000000</td>\n",
       "    </tr>\n",
       "    <tr>\n",
       "      <th>All tree missing</th>\n",
       "      <td>60160</td>\n",
       "      <td>0.171583</td>\n",
       "      <td>0</td>\n",
       "      <td>0.000000</td>\n",
       "    </tr>\n",
       "  </tbody>\n",
       "</table>\n",
       "</div>"
      ],
      "text/plain": [
       "                      Count   average  Update count  Update average\n",
       "All data             350618  1.000000        290297        1.000000\n",
       "No smiles             60494  0.172535             0        0.000000\n",
       "No inchikey           60163  0.171591             1        0.000003\n",
       "No inchi              60757  0.173285           446        0.001536\n",
       "Smiles Only Missing     191  0.000545             0        0.000000\n",
       "Inchi Only Missing      454  0.001295           446        0.001536\n",
       "Both Missing            334  0.000953             0        0.000000\n",
       "All tree missing      60160  0.171583             0        0.000000"
      ]
     },
     "execution_count": 28,
     "metadata": {},
     "output_type": "execute_result"
    }
   ],
   "source": [
    "missing_df[\"Update count\"] = [all_data, no_smiles, no_inchikey, no_inchi, no_smile_only, no_inchikey_only,\\\n",
    "            both_missing_counter, all_identifier_missing]\n",
    "\n",
    "missing_df[\"Update average\"] = missing_df.apply(lambda row: row[\"Update count\"] / all_data, axis = 1)\n",
    "\n",
    "missing_df"
   ]
  },
  {
   "cell_type": "code",
   "execution_count": 29,
   "id": "9111594b",
   "metadata": {},
   "outputs": [
    {
     "data": {
      "text/plain": [
       "(232025, 29053, 29218)"
      ]
     },
     "execution_count": 29,
     "metadata": {},
     "output_type": "execute_result"
    }
   ],
   "source": [
    "# no overlap test (by Adam)\n",
    "len(train), len(valid), len(test)"
   ]
  },
  {
   "cell_type": "markdown",
   "id": "0027e542",
   "metadata": {},
   "source": [
    "Here we can see final count of instances we are working with. We were able to achieve increase of smiles, the number is 189, next we were able to restore corrupted smiles. In other cases we had to drop intances. The number of unique smiles is 243722."
   ]
  },
  {
   "cell_type": "markdown",
   "id": "8ca98efd",
   "metadata": {},
   "source": [
    "Difference between two spectra of the same SMILES."
   ]
  },
  {
   "cell_type": "code",
   "execution_count": 31,
   "id": "722c5bfe",
   "metadata": {},
   "outputs": [
    {
     "data": {
      "text/plain": [
       "(<Figure size 1600x1200 with 1 Axes>,\n",
       " <AxesSubplot:title={'center':'Spectrum comparison'}, xlabel='m/z', ylabel='Intensity'>)"
      ]
     },
     "execution_count": 31,
     "metadata": {},
     "output_type": "execute_result"
    },
    {
     "data": {
      "image/png": "[encoded data removed]",
      "text/plain": [
       "<Figure size 1600x1200 with 1 Axes>"
      ]
     },
     "metadata": {
      "needs_background": "light"
     },
     "output_type": "display_data"
    }
   ],
   "source": [
    "nist_dict[\"CN1CCCC1C2=CN=CC=C2\"][0].plot_against(nist_dict[\"CN1CCCC1C2=CN=CC=C2\"][3])"
   ]
  },
  {
   "cell_type": "code",
   "execution_count": 27,
   "id": "0bf1b825",
   "metadata": {},
   "outputs": [],
   "source": [
    "abundance = sorted(nist_dict.items(), key=lambda x:len(x[1]), reverse=True)"
   ]
  },
  {
   "cell_type": "markdown",
   "id": "b1903122",
   "metadata": {},
   "source": [
    "Here we can see the counts of duplicities in the spectrum dataset."
   ]
  },
  {
   "cell_type": "code",
   "execution_count": 28,
   "id": "6f43d58b",
   "metadata": {},
   "outputs": [
    {
     "name": "stdout",
     "output_type": "stream",
     "text": [
      "Molecule CC1CCC(C(C1)O)C(C)C has 24 unique spectras in our dataset\n",
      "Molecule CC(C(C1=CC=CC=C1)O)N has 19 unique spectras in our dataset\n",
      "Molecule C1(C(C(C(C(C1Cl)Cl)Cl)Cl)Cl)Cl has 19 unique spectras in our dataset\n",
      "Molecule CC1CCC(C(=O)C1)C(C)C has 18 unique spectras in our dataset\n",
      "Molecule CC(=O)OC1CC2CCC1(C2(C)C)C has 17 unique spectras in our dataset\n",
      "Molecule CC(C)CCCC(C)C1CCC2C1(CCC3C2CCC4C3(CCC(C4)O)C)C has 17 unique spectras in our dataset\n",
      "Molecule CC12CCC(CC1CCC3C2CCC4(C3CCC4=O)C)O has 16 unique spectras in our dataset\n",
      "Molecule CC1(C2CCC1(C(C2)O)C)C has 15 unique spectras in our dataset\n",
      "Molecule CC1CCC2C1C3C(C3(C)C)CCC2(C)O has 15 unique spectras in our dataset\n",
      "Molecule C1CC2CC1CC2O has 14 unique spectras in our dataset\n",
      "Molecule COC1=CC2=C(C=CN=C2C=C1)C(C3CC4CCN3CC4C=C)O has 14 unique spectras in our dataset\n",
      "Molecule CCC=CCCO has 13 unique spectras in our dataset\n",
      "Molecule CC(=CCCC(=CC=O)C)C has 13 unique spectras in our dataset\n",
      "Molecule CC1(C2CCC1(C(=O)C2)C)C has 13 unique spectras in our dataset\n",
      "Molecule C1CC=CCCC=CCCC=C1 has 13 unique spectras in our dataset\n",
      "Molecule CC(=CCCC(=CCCC(=O)C)C)C has 13 unique spectras in our dataset\n",
      "Molecule CC1CCC(C(C1)OC(=O)C)C(C)C has 13 unique spectras in our dataset\n",
      "Molecule CC12CCCC1C3CCC4CCCCC4(C3CC2)C has 13 unique spectras in our dataset\n",
      "Molecule CC12CCC(=O)CC1CCC3C2CCC4(C3CCC4=O)C has 13 unique spectras in our dataset\n",
      "Molecule CC12CCC(CC1CCC3C2CCC4(C3CCC4O)C)O has 13 unique spectras in our dataset\n"
     ]
    }
   ],
   "source": [
    "for i in range(20):\n",
    "    print(f\"Molecule {abundance[i][0]} has {len(abundance[i][1])} unique spectras in our dataset\")"
   ]
  },
  {
   "cell_type": "markdown",
   "id": "e8ab3b6f",
   "metadata": {},
   "source": [
    "## NIST - a bit of data analysis"
   ]
  },
  {
   "cell_type": "code",
   "execution_count": 48,
   "id": "35be90e4",
   "metadata": {},
   "outputs": [],
   "source": [
    "import numpy as np\n",
    "from collections import Counter"
   ]
  },
  {
   "cell_type": "code",
   "execution_count": 72,
   "id": "b329586a",
   "metadata": {},
   "outputs": [],
   "source": [
    "nums_of_peaks = list(map(lambda x: len(x.mz), updated_dataset))\n",
    "c = Counter(nums_of_peaks)"
   ]
  },
  {
   "cell_type": "code",
   "execution_count": 73,
   "id": "6013d682",
   "metadata": {},
   "outputs": [
    {
     "data": {
      "text/plain": [
       "<BarContainer object of 552 artists>"
      ]
     },
     "execution_count": 73,
     "metadata": {},
     "output_type": "execute_result"
    },
    {
     "data": {
      "image/png": "[encoded data removed]",
      "text/plain": [
       "<Figure size 640x480 with 1 Axes>"
      ]
     },
     "metadata": {},
     "output_type": "display_data"
    }
   ],
   "source": [
    "# visualize the following array as histogram\n",
    "sorted_lens = np.array(sorted(list(c.items()), key=lambda x: x[0])).T\n",
    "plt.bar(sorted_lens[0], sorted_lens[1])"
   ]
  },
  {
   "cell_type": "code",
   "execution_count": 77,
   "id": "1fed74bc",
   "metadata": {},
   "outputs": [
    {
     "data": {
      "text/plain": [
       "2929"
      ]
     },
     "execution_count": 77,
     "metadata": {},
     "output_type": "execute_result"
    }
   ],
   "source": [
    "len(list(filter(lambda x: x > 300, nums_of_peaks)))"
   ]
  },
  {
   "cell_type": "code",
   "execution_count": 78,
   "id": "015d9f15",
   "metadata": {},
   "outputs": [
    {
     "data": {
      "text/plain": [
       "[<matplotlib.lines.Line2D at 0x7f6d0a405f70>]"
      ]
     },
     "execution_count": 78,
     "metadata": {},
     "output_type": "execute_result"
    },
    {
     "data": {
      "image/png": "[encoded data removed]",
      "text/plain": [
       "<Figure size 640x480 with 1 Axes>"
      ]
     },
     "metadata": {},
     "output_type": "display_data"
    }
   ],
   "source": [
    "# create pairs of (num_peaks, smiles_length), then sort them by num_peaks (aggregate with average) and plot\n",
    "nums_of_peaks = list(map(lambda x: len(x.mz), updated_dataset))\n",
    "smiles_lens = list(map(lambda x: len(x.get(\"smiles\")), updated_dataset))\n",
    "pairs = list(zip(nums_of_peaks, smiles_lens))\n",
    "\n",
    "pairs = sorted(pairs, key=lambda x: x[0])\n",
    "pairs = np.array(pairs)\n",
    "unique_peaks = np.unique(pairs[:, 0])\n",
    "aggregated = np.array(list(map(lambda x: np.mean(pairs[pairs[:, 0] == x][:, 1]), unique_peaks)))\n",
    "\n",
    "plt.plot(unique_peaks, aggregated)"
   ]
  },
  {
   "cell_type": "code",
   "execution_count": 79,
   "id": "0dc56790",
   "metadata": {},
   "outputs": [
    {
     "data": {
      "text/plain": [
       "array([[  1,  16],\n",
       "       [  2,   4],\n",
       "       [  2,   4],\n",
       "       ...,\n",
       "       [725, 110],\n",
       "       [739,  97],\n",
       "       [741, 107]])"
      ]
     },
     "execution_count": 79,
     "metadata": {},
     "output_type": "execute_result"
    }
   ],
   "source": [
    "pairs"
   ]
  }
 ],
 "metadata": {
  "kernelspec": {
   "display_name": "Python 3 (ipykernel)",
   "language": "python",
   "name": "python3"
  },
  "language_info": {
   "codemirror_mode": {
    "name": "ipython",
    "version": 3
   },
   "file_extension": ".py",
   "mimetype": "text/x-python",
   "name": "python",
   "nbconvert_exporter": "python",
   "pygments_lexer": "ipython3",
   "version": "3.8.16"
  }
 },
 "nbformat": 4,
 "nbformat_minor": 5
}
