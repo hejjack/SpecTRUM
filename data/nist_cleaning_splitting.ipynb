{
 "cells": [
  {
   "cell_type": "markdown",
   "id": "57fbfd1c",
   "metadata": {},
   "source": [
    "# Cleaning and splitting NIST\n",
    "This notebook differs from the original one by FILIP JOZEFOV in two steps:\n",
    "- removing stereochemistry before the split\n",
    "- canonizing smiles before the split\n",
    "\n",
    "Since there is no deduplication, these steps are important for not having data leaks (same molecules in different splits) across the splits"
   ]
  },
  {
   "cell_type": "code",
   "execution_count": 1,
   "id": "d6de2e20",
   "metadata": {},
   "outputs": [],
   "source": [
    "from matchms.importing import load_from_msp\n",
    "from matchms.exporting import save_as_msp\n",
    "from matchms import Spectrum\n",
    "import matchms\n",
    "\n",
    "import pandas as pd\n",
    "from rdkit import Chem\n",
    "\n",
    "import math\n",
    "import numpy as np\n",
    "import os\n",
    "import random\n",
    "import pandas as pd\n",
    "from tqdm import tqdm\n",
    "\n",
    "import matplotlib.pyplot as plt"
   ]
  },
  {
   "cell_type": "code",
   "execution_count": 4,
   "id": "9722d3d8",
   "metadata": {},
   "outputs": [],
   "source": [
    "FILE_PATH = 'datasets/NIST/NIST20/20210925_NIST_EI_MS_cleaned.msp'"
   ]
  },
  {
   "cell_type": "code",
   "execution_count": 5,
   "id": "0ed34181",
   "metadata": {},
   "outputs": [],
   "source": [
    "nist_dataset = list(load_from_msp(FILE_PATH, metadata_harmonization=False))"
   ]
  },
  {
   "cell_type": "markdown",
   "id": "a10505be",
   "metadata": {},
   "source": [
    "Setting random seed for reproducible result"
   ]
  },
  {
   "cell_type": "code",
   "execution_count": 6,
   "id": "597c8e2b",
   "metadata": {},
   "outputs": [],
   "source": [
    "np.random.seed(42)\n",
    "random.seed(42)"
   ]
  },
  {
   "cell_type": "code",
   "execution_count": 7,
   "id": "2a74a415",
   "metadata": {},
   "outputs": [
    {
     "data": {
      "text/plain": [
       "{'formula': 'H2',\n",
       " 'casno': '1333-74-0',\n",
       " 'id': '1',\n",
       " 'comment': 'NIST MS# 245692, Seq# M1',\n",
       " 'inchi': 'InChI=1S/H2/h1H',\n",
       " 'inchikey': 'UFHFLCQGNIYNRP-UHFFFAOYSA-N',\n",
       " 'iupac_name': 'molecular hydrogen',\n",
       " 'smiles': '[HH]',\n",
       " 'num_peaks': '2',\n",
       " 'compound_name': 'Hydrogen',\n",
       " 'nominal_mass': '2'}"
      ]
     },
     "execution_count": 7,
     "metadata": {},
     "output_type": "execute_result"
    }
   ],
   "source": [
    "nist_dataset[0].metadata"
   ]
  },
  {
   "cell_type": "code",
   "execution_count": 8,
   "id": "f2290b8e",
   "metadata": {},
   "outputs": [
    {
     "name": "stdout",
     "output_type": "stream",
     "text": [
      "Number of spectra with chirality information: 433\n"
     ]
    }
   ],
   "source": [
    "# test - how many spectra have chirality information\n",
    "def compute_chirality(dataset):\n",
    "    counter = 0\n",
    "    for s in dataset:\n",
    "        if s.get('smiles') and \"@\" in s.get('smiles'):\n",
    "            counter += 1\n",
    "    print(f\"Number of spectra with chirality information: {counter}\")\n",
    "\n",
    "compute_chirality(nist_dataset)"
   ]
  },
  {
   "cell_type": "code",
   "execution_count": 9,
   "id": "75553469",
   "metadata": {},
   "outputs": [
    {
     "name": "stderr",
     "output_type": "stream",
     "text": [
      "  0%|          | 0/350618 [00:00<?, ?it/s][12:21:58] Explicit valence for atom # 0 B, 5, is greater than permitted\n",
      "[12:21:58] Explicit valence for atom # 1 Cl, 4, is greater than permitted\n",
      "  1%|▏         | 4541/350618 [00:00<00:57, 5996.96it/s][12:21:59] Explicit valence for atom # 1 Cl, 7, is greater than permitted\n",
      "  3%|▎         | 11499/350618 [00:01<01:02, 5460.45it/s][12:22:00] Explicit valence for atom # 0 B, 5, is greater than permitted\n",
      "  6%|▌         | 20464/350618 [00:03<01:06, 4940.40it/s][12:22:02] Explicit valence for atom # 0 C, 5, is greater than permitted\n",
      "  7%|▋         | 24594/350618 [00:04<01:03, 5136.51it/s][12:22:03] Explicit valence for atom # 0 B, 6, is greater than permitted\n",
      "[12:22:03] Explicit valence for atom # 0 B, 5, is greater than permitted\n",
      " 12%|█▏        | 43596/350618 [00:08<01:06, 4625.92it/s][12:22:07] Explicit valence for atom # 1 C, 5, is greater than permitted\n",
      " 17%|█▋        | 59557/350618 [00:12<01:03, 4599.06it/s][12:22:10] SMILES Parse Error: syntax error while parsing: [CH-]1|2C|3=C|4C|5=C1|[Mn]6789|2|3|4|5[CH-]%10[CH-]6[CH-]7[CH-]8[CH-]9%10\n",
      "[12:22:10] SMILES Parse Error: Failed parsing SMILES '[CH-]1|2C|3=C|4C|5=C1|[Mn]6789|2|3|4|5[CH-]%10[CH-]6[CH-]7[CH-]8[CH-]9%10' for input: '[CH-]1|2C|3=C|4C|5=C1|[Mn]6789|2|3|4|5[CH-]%10[CH-]6[CH-]7[CH-]8[CH-]9%10'\n",
      " 18%|█▊        | 61934/350618 [00:12<01:02, 4613.92it/s][12:22:11] SMILES Parse Error: syntax error while parsing: [CH-]1|2C|3=C|4C|5=C1|[Fe]6789|2|3|4|5|[N-]%10[CH-]6[CH-]7[CH-]8[CH-]9%10\n",
      "[12:22:11] SMILES Parse Error: Failed parsing SMILES '[CH-]1|2C|3=C|4C|5=C1|[Fe]6789|2|3|4|5|[N-]%10[CH-]6[CH-]7[CH-]8[CH-]9%10' for input: '[CH-]1|2C|3=C|4C|5=C1|[Fe]6789|2|3|4|5|[N-]%10[CH-]6[CH-]7[CH-]8[CH-]9%10'\n",
      "[12:22:11] SMILES Parse Error: syntax error while parsing: [CH-]1|2C|3=C|4C|5=C1|[Fe]6789|2|3|4|5|[N-]%10[CH-]6[CH-]7[CH-]8[CH-]9%10\n",
      "[12:22:11] SMILES Parse Error: Failed parsing SMILES '[CH-]1|2C|3=C|4C|5=C1|[Fe]6789|2|3|4|5|[N-]%10[CH-]6[CH-]7[CH-]8[CH-]9%10' for input: '[CH-]1|2C|3=C|4C|5=C1|[Fe]6789|2|3|4|5|[N-]%10[CH-]6[CH-]7[CH-]8[CH-]9%10'\n",
      " 18%|█▊        | 62876/350618 [00:12<01:04, 4466.85it/s][12:22:11] Explicit valence for atom # 0 C, 5, is greater than permitted\n",
      " 20%|██        | 70935/350618 [00:14<01:05, 4300.23it/s][12:22:13] Explicit valence for atom # 2 C, 5, is greater than permitted\n",
      " 23%|██▎       | 79122/350618 [00:16<01:02, 4366.15it/s][12:22:15] SMILES Parse Error: syntax error while parsing: C1C[CH-]2[CH-]3[CH-]4[CH-]1[Co]234|5|6|7|8|[CH-]9C|8=C|5C|6=C|79\n",
      "[12:22:15] SMILES Parse Error: Failed parsing SMILES 'C1C[CH-]2[CH-]3[CH-]4[CH-]1[Co]234|5|6|7|8|[CH-]9C|8=C|5C|6=C|79' for input: 'C1C[CH-]2[CH-]3[CH-]4[CH-]1[Co]234|5|6|7|8|[CH-]9C|8=C|5C|6=C|79'\n",
      "[12:22:15] SMILES Parse Error: syntax error while parsing: C1C[CH-]2[CH-]3[CH-]4[CH-]1[Co]234|5|6|7|8|[CH-]9C|8=C|5C|6=C|79\n",
      "[12:22:15] SMILES Parse Error: Failed parsing SMILES 'C1C[CH-]2[CH-]3[CH-]4[CH-]1[Co]234|5|6|7|8|[CH-]9C|8=C|5C|6=C|79' for input: 'C1C[CH-]2[CH-]3[CH-]4[CH-]1[Co]234|5|6|7|8|[CH-]9C|8=C|5C|6=C|79'\n",
      " 23%|██▎       | 81332/350618 [00:16<01:03, 4264.44it/s][12:22:15] Explicit valence for atom # 0 O, 4, is greater than permitted\n",
      " 26%|██▌       | 90121/350618 [00:18<01:02, 4201.33it/s][12:22:17] SMILES Parse Error: syntax error while parsing: [CH-]1|2C|3=C|4C|5=C1|[Pd]67|2|3|4|5[CH2-][CH-]6[CH2-]7\n",
      "[12:22:17] SMILES Parse Error: Failed parsing SMILES '[CH-]1|2C|3=C|4C|5=C1|[Pd]67|2|3|4|5[CH2-][CH-]6[CH2-]7' for input: '[CH-]1|2C|3=C|4C|5=C1|[Pd]67|2|3|4|5[CH2-][CH-]6[CH2-]7'\n",
      " 26%|██▌       | 91502/350618 [00:19<00:58, 4462.21it/s][12:22:18] SMILES Parse Error: syntax error while parsing: C[C-]1|2C|3=C|4C|5=C1|[Fe]6789|2|3|4|5[CH-]%10[CH-]6[CH-]7[C-]8(C)[CH-]9%10\n",
      "[12:22:18] SMILES Parse Error: Failed parsing SMILES 'C[C-]1|2C|3=C|4C|5=C1|[Fe]6789|2|3|4|5[CH-]%10[CH-]6[CH-]7[C-]8(C)[CH-]9%10' for input: 'C[C-]1|2C|3=C|4C|5=C1|[Fe]6789|2|3|4|5[CH-]%10[CH-]6[CH-]7[C-]8(C)[CH-]9%10'\n",
      "[12:22:18] SMILES Parse Error: syntax error while parsing: C[C-]1|2C|3=C|4C|5=C1|[Fe]6789|2|3|4|5[CH-]%10[CH-]6[CH-]7[C-]8(C)[CH-]9%10\n",
      "[12:22:18] SMILES Parse Error: Failed parsing SMILES 'C[C-]1|2C|3=C|4C|5=C1|[Fe]6789|2|3|4|5[CH-]%10[CH-]6[CH-]7[C-]8(C)[CH-]9%10' for input: 'C[C-]1|2C|3=C|4C|5=C1|[Fe]6789|2|3|4|5[CH-]%10[CH-]6[CH-]7[C-]8(C)[CH-]9%10'\n",
      " 27%|██▋       | 94661/350618 [00:20<01:00, 4248.69it/s][12:22:18] Explicit valence for atom # 1 C, 5, is greater than permitted\n",
      " 28%|██▊       | 99549/350618 [00:21<01:00, 4167.37it/s][12:22:19] Explicit valence for atom # 0 O, 4, is greater than permitted\n",
      " 29%|██▊       | 100436/350618 [00:21<00:58, 4292.88it/s][12:22:20] SMILES Parse Error: syntax error while parsing: [Fe]|1|2|3|4(|N#CC(C#N|[Fe]|5|6(|N#CC(C#N|1)C(C#N)C#N)(|N#CC(C#N|2)C(C#N)C#N)|[PH+](CC(C)(C[PH+]|5(c7ccccc7)c8ccccc8)C[PH+]|6(c9ccccc9)c%10ccccc%10)(c%11ccccc%11)c%12ccccc%12)C(C#N)C#N)|[PH+](CC(C)(C[PH+]|3(c%13ccccc%13)c%14ccccc%14)C[PH+]|4(c%15ccccc%15)c%16ccccc%16)(c%17ccccc%17)c%18ccccc%18\n",
      "[12:22:20] SMILES Parse Error: Failed parsing SMILES '[Fe]|1|2|3|4(|N#CC(C#N|[Fe]|5|6(|N#CC(C#N|1)C(C#N)C#N)(|N#CC(C#N|2)C(C#N)C#N)|[PH+](CC(C)(C[PH+]|5(c7ccccc7)c8ccccc8)C[PH+]|6(c9ccccc9)c%10ccccc%10)(c%11ccccc%11)c%12ccccc%12)C(C#N)C#N)|[PH+](CC(C)(C[PH+]|3(c%13ccccc%13)c%14ccccc%14)C[PH+]|4(c%15ccccc%15)c%16ccccc%16)(c%17ccccc%17)c%18ccccc%18' for input: '[Fe]|1|2|3|4(|N#CC(C#N|[Fe]|5|6(|N#CC(C#N|1)C(C#N)C#N)(|N#CC(C#N|2)C(C#N)C#N)|[PH+](CC(C)(C[PH+]|5(c7ccccc7)c8ccccc8)C[PH+]|6(c9ccccc9)c%10ccccc%10)(c%11ccccc%11)c%12ccccc%12)C(C#N)C#N)|[PH+](CC(C)(C[PH+]|3(c%13ccccc%13)c%14ccccc%14)C[PH+]|4(c%15ccccc%15)c%16ccccc%16)(c%17ccccc%17)c%18ccccc%18'\n",
      "[12:22:20] SMILES Parse Error: syntax error while parsing: [Fe]|1|2|3|4(|N#CC(C#N|[Fe]|5|6(|N#CC(C#N|1)C(C#N)C#N)(|N#CC(C#N|2)C(C#N)C#N)|[PH+](CC(C)(C[PH+]|5(c7ccccc7)c8ccccc8)C[PH+]|6(c9ccccc9)c%10ccccc%10)(c%11ccccc%11)c%12ccccc%12)C(C#N)C#N)|[PH+](CC(C)(C[PH+]|3(c%13ccccc%13)c%14ccccc%14)C[PH+]|4(c%15ccccc%15)c%16ccccc%16)(c%17ccccc%17)c%18ccccc%18\n",
      "[12:22:20] SMILES Parse Error: Failed parsing SMILES '[Fe]|1|2|3|4(|N#CC(C#N|[Fe]|5|6(|N#CC(C#N|1)C(C#N)C#N)(|N#CC(C#N|2)C(C#N)C#N)|[PH+](CC(C)(C[PH+]|5(c7ccccc7)c8ccccc8)C[PH+]|6(c9ccccc9)c%10ccccc%10)(c%11ccccc%11)c%12ccccc%12)C(C#N)C#N)|[PH+](CC(C)(C[PH+]|3(c%13ccccc%13)c%14ccccc%14)C[PH+]|4(c%15ccccc%15)c%16ccccc%16)(c%17ccccc%17)c%18ccccc%18' for input: '[Fe]|1|2|3|4(|N#CC(C#N|[Fe]|5|6(|N#CC(C#N|1)C(C#N)C#N)(|N#CC(C#N|2)C(C#N)C#N)|[PH+](CC(C)(C[PH+]|5(c7ccccc7)c8ccccc8)C[PH+]|6(c9ccccc9)c%10ccccc%10)(c%11ccccc%11)c%12ccccc%12)C(C#N)C#N)|[PH+](CC(C)(C[PH+]|3(c%13ccccc%13)c%14ccccc%14)C[PH+]|4(c%15ccccc%15)c%16ccccc%16)(c%17ccccc%17)c%18ccccc%18'\n",
      " 29%|██▉       | 102173/350618 [00:21<01:00, 4093.05it/s][12:22:20] Explicit valence for atom # 8 O, 4, is greater than permitted\n",
      " 31%|███       | 108340/350618 [00:23<00:56, 4297.80it/s][12:22:22] Explicit valence for atom # 0 O, 4, is greater than permitted\n",
      " 32%|███▏      | 110529/350618 [00:23<00:56, 4253.99it/s][12:22:22] SMILES Parse Error: syntax error while parsing: OC(=O)[C-]1|2C|3=C|4C|5=C1|[Fe]6789|2|3|4|5[CH-]%10[CH-]6[CH-]7[CH-]8[CH-]9%10\n",
      "[12:22:22] SMILES Parse Error: Failed parsing SMILES 'OC(=O)[C-]1|2C|3=C|4C|5=C1|[Fe]6789|2|3|4|5[CH-]%10[CH-]6[CH-]7[CH-]8[CH-]9%10' for input: 'OC(=O)[C-]1|2C|3=C|4C|5=C1|[Fe]6789|2|3|4|5[CH-]%10[CH-]6[CH-]7[CH-]8[CH-]9%10'\n",
      "[12:22:22] SMILES Parse Error: syntax error while parsing: OC(=O)[C-]1|2C|3=C|4C|5=C1|[Fe]6789|2|3|4|5[CH-]%10[CH-]6[CH-]7[CH-]8[CH-]9%10\n",
      "[12:22:22] SMILES Parse Error: Failed parsing SMILES 'OC(=O)[C-]1|2C|3=C|4C|5=C1|[Fe]6789|2|3|4|5[CH-]%10[CH-]6[CH-]7[CH-]8[CH-]9%10' for input: 'OC(=O)[C-]1|2C|3=C|4C|5=C1|[Fe]6789|2|3|4|5[CH-]%10[CH-]6[CH-]7[CH-]8[CH-]9%10'\n",
      " 32%|███▏      | 112721/350618 [00:24<00:55, 4309.08it/s][12:22:23] Explicit valence for atom # 0 O, 4, is greater than permitted\n",
      " 37%|███▋      | 128799/350618 [00:28<00:55, 4031.92it/s][12:22:26] SMILES Parse Error: syntax error while parsing: CCCO|[V](|OCCC)(|OCCC)=O\n",
      "[12:22:26] SMILES Parse Error: Failed parsing SMILES 'CCCO|[V](|OCCC)(|OCCC)=O' for input: 'CCCO|[V](|OCCC)(|OCCC)=O'\n",
      " 41%|████      | 142170/350618 [00:31<00:50, 4104.18it/s][12:22:30] Explicit valence for atom # 0 O, 4, is greater than permitted\n",
      " 42%|████▏     | 148484/350618 [00:32<00:50, 3973.53it/s][12:22:31] Explicit valence for atom # 6 O, 4, is greater than permitted\n",
      " 46%|████▌     | 160020/350618 [00:35<00:45, 4225.76it/s][12:22:34] SMILES Parse Error: syntax error while parsing: [Fe]|1|2|3|4|5|6|7|8(|[CH-]9[CH-]|1[CH-]|2[C-]|3([CH-]|49)C(C)=O)|C%10=C|5[C-]|6(C|7=C|8%10)C(C)=O\n",
      "[12:22:34] SMILES Parse Error: Failed parsing SMILES '[Fe]|1|2|3|4|5|6|7|8(|[CH-]9[CH-]|1[CH-]|2[C-]|3([CH-]|49)C(C)=O)|C%10=C|5[C-]|6(C|7=C|8%10)C(C)=O' for input: '[Fe]|1|2|3|4|5|6|7|8(|[CH-]9[CH-]|1[CH-]|2[C-]|3([CH-]|49)C(C)=O)|C%10=C|5[C-]|6(C|7=C|8%10)C(C)=O'\n",
      "[12:22:34] SMILES Parse Error: syntax error while parsing: [Fe]|1|2|3|4|5|6|7|8(|[CH-]9[CH-]|1[CH-]|2[C-]|3([CH-]|49)C(C)=O)|C%10=C|5[C-]|6(C|7=C|8%10)C(C)=O\n",
      "[12:22:34] SMILES Parse Error: Failed parsing SMILES '[Fe]|1|2|3|4|5|6|7|8(|[CH-]9[CH-]|1[CH-]|2[C-]|3([CH-]|49)C(C)=O)|C%10=C|5[C-]|6(C|7=C|8%10)C(C)=O' for input: '[Fe]|1|2|3|4|5|6|7|8(|[CH-]9[CH-]|1[CH-]|2[C-]|3([CH-]|49)C(C)=O)|C%10=C|5[C-]|6(C|7=C|8%10)C(C)=O'\n",
      " 47%|████▋     | 164928/350618 [00:37<00:46, 4026.40it/s][12:22:35] Explicit valence for atom # 0 O, 4, is greater than permitted\n",
      "[12:22:35] Explicit valence for atom # 0 O, 4, is greater than permitted\n",
      " 47%|████▋     | 165380/350618 [00:37<00:44, 4169.26it/s][12:22:35] SMILES Parse Error: syntax error while parsing: [CH-]1|2[CH-]|3c4ccccc4[CH-]1|[Rh]56|2|3([CH2-][CH2-]5)[CH2-][CH2-]6\n",
      "[12:22:35] SMILES Parse Error: Failed parsing SMILES '[CH-]1|2[CH-]|3c4ccccc4[CH-]1|[Rh]56|2|3([CH2-][CH2-]5)[CH2-][CH2-]6' for input: '[CH-]1|2[CH-]|3c4ccccc4[CH-]1|[Rh]56|2|3([CH2-][CH2-]5)[CH2-][CH2-]6'\n",
      " 48%|████▊     | 167945/350618 [00:37<00:42, 4280.99it/s][12:22:36] SMILES Parse Error: syntax error while parsing: C1C[CH-]2[CH-]3CC[CH-]4[CH-]1[Rh]234|5|6|7|8|[CH-]9C|8=C|5C|6=C|79\n",
      "[12:22:36] SMILES Parse Error: Failed parsing SMILES 'C1C[CH-]2[CH-]3CC[CH-]4[CH-]1[Rh]234|5|6|7|8|[CH-]9C|8=C|5C|6=C|79' for input: 'C1C[CH-]2[CH-]3CC[CH-]4[CH-]1[Rh]234|5|6|7|8|[CH-]9C|8=C|5C|6=C|79'\n",
      "[12:22:36] SMILES Parse Error: syntax error while parsing: C1C[CH-]2[CH-]3CC[CH-]4[CH-]1[Rh]234|5|6|7|8|[CH-]9C|8=C|5C|6=C|79\n",
      "[12:22:36] SMILES Parse Error: Failed parsing SMILES 'C1C[CH-]2[CH-]3CC[CH-]4[CH-]1[Rh]234|5|6|7|8|[CH-]9C|8=C|5C|6=C|79' for input: 'C1C[CH-]2[CH-]3CC[CH-]4[CH-]1[Rh]234|5|6|7|8|[CH-]9C|8=C|5C|6=C|79'\n",
      " 48%|████▊     | 169597/350618 [00:38<00:45, 3998.88it/s][12:22:36] SMILES Parse Error: syntax error while parsing: [CH-]1|2C|3=C|4C|5=C1|[Co]6789|2|3|4|5[CH-]%10B([CH-]6[CH-]7[CH-]8[CH-]9%10)c%11ccccc%11\n",
      "[12:22:36] SMILES Parse Error: Failed parsing SMILES '[CH-]1|2C|3=C|4C|5=C1|[Co]6789|2|3|4|5[CH-]%10B([CH-]6[CH-]7[CH-]8[CH-]9%10)c%11ccccc%11' for input: '[CH-]1|2C|3=C|4C|5=C1|[Co]6789|2|3|4|5[CH-]%10B([CH-]6[CH-]7[CH-]8[CH-]9%10)c%11ccccc%11'\n",
      " 49%|████▉     | 172041/350618 [00:38<00:44, 3970.42it/s][12:22:37] Explicit valence for atom # 12 O, 4, is greater than permitted\n",
      " 57%|█████▋    | 201183/350618 [00:46<00:38, 3889.73it/s][12:22:45] Explicit valence for atom # 0 O, 4, is greater than permitted\n",
      " 60%|█████▉    | 209592/350618 [00:48<00:39, 3614.44it/s][12:22:47] SMILES Parse Error: syntax error while parsing: [Br]|[Sn](|[Br])(C)C\n",
      "[12:22:47] SMILES Parse Error: Failed parsing SMILES '[Br]|[Sn](|[Br])(C)C' for input: '[Br]|[Sn](|[Br])(C)C'\n",
      " 61%|██████▏   | 214793/350618 [00:49<00:36, 3675.81it/s][12:22:48] Explicit valence for atom # 0 O, 4, is greater than permitted\n",
      " 62%|██████▏   | 218652/350618 [00:50<00:36, 3609.93it/s][12:22:49] SMILES Parse Error: syntax error while parsing: [Zn++](|[S-]c1cccc[n+]1[O-])|[S-]c2cccc[n+]2[O-]\n",
      "[12:22:49] SMILES Parse Error: Failed parsing SMILES '[Zn++](|[S-]c1cccc[n+]1[O-])|[S-]c2cccc[n+]2[O-]' for input: '[Zn++](|[S-]c1cccc[n+]1[O-])|[S-]c2cccc[n+]2[O-]'\n",
      " 63%|██████▎   | 221030/350618 [00:51<00:34, 3746.61it/s][12:22:50] Explicit valence for atom # 7 Br, 3, is greater than permitted\n",
      " 64%|██████▍   | 225060/350618 [00:52<00:35, 3535.73it/s][12:22:51] SMILES Parse Error: syntax error while parsing: [Cu](|O=C(CC(C)=O)OCC)|O=C(CC(C)=O)OCC\n",
      "[12:22:51] SMILES Parse Error: Failed parsing SMILES '[Cu](|O=C(CC(C)=O)OCC)|O=C(CC(C)=O)OCC' for input: '[Cu](|O=C(CC(C)=O)OCC)|O=C(CC(C)=O)OCC'\n",
      " 65%|██████▍   | 226979/350618 [00:53<00:34, 3579.05it/s][12:22:51] Explicit valence for atom # 8 Br, 5, is greater than permitted\n",
      " 66%|██████▌   | 230350/350618 [00:54<00:32, 3662.84it/s][12:22:52] SMILES Parse Error: syntax error while parsing: C[C-]1|2C|3(=C|4(C)C|5(=C1(C)|[Mn]6789|2|3|4|5[C-]%10(C)[C-]6(C)[C-]7(C)[C-]8(C)[C-]9%10C)C)C\n",
      "[12:22:52] SMILES Parse Error: Failed parsing SMILES 'C[C-]1|2C|3(=C|4(C)C|5(=C1(C)|[Mn]6789|2|3|4|5[C-]%10(C)[C-]6(C)[C-]7(C)[C-]8(C)[C-]9%10C)C)C' for input: 'C[C-]1|2C|3(=C|4(C)C|5(=C1(C)|[Mn]6789|2|3|4|5[C-]%10(C)[C-]6(C)[C-]7(C)[C-]8(C)[C-]9%10C)C)C'\n",
      " 66%|██████▌   | 231946/350618 [00:54<00:32, 3614.99it/s][12:22:53] SMILES Parse Error: syntax error while parsing: C[C-]1|2C|3(=C|4(C)C|5(=C1(C)|[Fe]6789|2|3|4|5[C-]%10(C)[C-]6(C)[C-]7(C)[C-]8(C)[C-]9%10C)C)C\n",
      "[12:22:53] SMILES Parse Error: Failed parsing SMILES 'C[C-]1|2C|3(=C|4(C)C|5(=C1(C)|[Fe]6789|2|3|4|5[C-]%10(C)[C-]6(C)[C-]7(C)[C-]8(C)[C-]9%10C)C)C' for input: 'C[C-]1|2C|3(=C|4(C)C|5(=C1(C)|[Fe]6789|2|3|4|5[C-]%10(C)[C-]6(C)[C-]7(C)[C-]8(C)[C-]9%10C)C)C'\n",
      " 71%|███████▏  | 249968/350618 [00:59<00:28, 3580.35it/s][12:22:58] SMILES Parse Error: syntax error while parsing: [Rh]|OC(=C\\C(=O)C(C)(C)C)/C(C)(C)C.C=C.C=C\n",
      "[12:22:58] SMILES Parse Error: Failed parsing SMILES '[Rh]|OC(=C\\C(=O)C(C)(C)C)/C(C)(C)C.C=C.C=C' for input: '[Rh]|OC(=C\\C(=O)C(C)(C)C)/C(C)(C)C.C=C.C=C'\n",
      " 72%|███████▏  | 251417/350618 [00:59<00:28, 3449.19it/s][12:22:58] SMILES Parse Error: syntax error while parsing: O=[CH-]1[Co]2|[Co++]1[CH-]2=O.[C-]#[O+].[C-]#[O+].[C-]#[O+].[C-]#[O+].[C-]#[O+].[C-]#[O+]\n",
      "[12:22:58] SMILES Parse Error: Failed parsing SMILES 'O=[CH-]1[Co]2|[Co++]1[CH-]2=O.[C-]#[O+].[C-]#[O+].[C-]#[O+].[C-]#[O+].[C-]#[O+].[C-]#[O+]' for input: 'O=[CH-]1[Co]2|[Co++]1[CH-]2=O.[C-]#[O+].[C-]#[O+].[C-]#[O+].[C-]#[O+].[C-]#[O+].[C-]#[O+]'\n",
      "[12:22:58] SMILES Parse Error: syntax error while parsing: O=[CH-]1[Co]2|[Co++]1[CH-]2=O.[C-]#[O+].[C-]#[O+].[C-]#[O+].[C-]#[O+].[C-]#[O+].[C-]#[O+]\n",
      "[12:22:58] SMILES Parse Error: Failed parsing SMILES 'O=[CH-]1[Co]2|[Co++]1[CH-]2=O.[C-]#[O+].[C-]#[O+].[C-]#[O+].[C-]#[O+].[C-]#[O+].[C-]#[O+]' for input: 'O=[CH-]1[Co]2|[Co++]1[CH-]2=O.[C-]#[O+].[C-]#[O+].[C-]#[O+].[C-]#[O+].[C-]#[O+].[C-]#[O+]'\n",
      " 73%|███████▎  | 254357/350618 [01:00<00:26, 3603.70it/s][12:22:59] Explicit valence for atom # 0 O, 4, is greater than permitted\n",
      " 77%|███████▋  | 268878/350618 [01:04<00:22, 3574.38it/s][12:23:03] SMILES Parse Error: syntax error while parsing: [O+]#[C-][W]|1|2|3|4|5(|[C]6=[C]|1[C]|2=[C]|3[C]|4=[C]|5C6)([C-]#[O+])[C-]#[O+]\n",
      "[12:23:03] SMILES Parse Error: Failed parsing SMILES '[O+]#[C-][W]|1|2|3|4|5(|[C]6=[C]|1[C]|2=[C]|3[C]|4=[C]|5C6)([C-]#[O+])[C-]#[O+]' for input: '[O+]#[C-][W]|1|2|3|4|5(|[C]6=[C]|1[C]|2=[C]|3[C]|4=[C]|5C6)([C-]#[O+])[C-]#[O+]'\n",
      "[12:23:03] SMILES Parse Error: syntax error while parsing: [CH2-]1[CH-]2[CH2-][Mo]|34567[CH2-][CH-]8[CH2-][Mo]12|38([CH2-][CH-]4[CH2-]5)[CH2-][CH-]6[CH2-]7\n",
      "[12:23:03] SMILES Parse Error: Failed parsing SMILES '[CH2-]1[CH-]2[CH2-][Mo]|34567[CH2-][CH-]8[CH2-][Mo]12|38([CH2-][CH-]4[CH2-]5)[CH2-][CH-]6[CH2-]7' for input: '[CH2-]1[CH-]2[CH2-][Mo]|34567[CH2-][CH-]8[CH2-][Mo]12|38([CH2-][CH-]4[CH2-]5)[CH2-][CH-]6[CH2-]7'\n",
      " 84%|████████▎ | 293380/350618 [01:11<00:16, 3381.87it/s][12:23:10] SMILES Parse Error: syntax error while parsing: [O+]#[C-][W]|1|2|3(|[C]4=[C]|1C5CC4[C]|2=[C]|35)([C-]#[O+])([C-]#[O+])[C-]#[O+]\n",
      "[12:23:10] SMILES Parse Error: Failed parsing SMILES '[O+]#[C-][W]|1|2|3(|[C]4=[C]|1C5CC4[C]|2=[C]|35)([C-]#[O+])([C-]#[O+])[C-]#[O+]' for input: '[O+]#[C-][W]|1|2|3(|[C]4=[C]|1C5CC4[C]|2=[C]|35)([C-]#[O+])([C-]#[O+])[C-]#[O+]'\n",
      " 84%|████████▍ | 295931/350618 [01:12<00:16, 3228.79it/s][12:23:11] Explicit valence for atom # 18 Br, 3, is greater than permitted\n",
      " 85%|████████▍ | 296956/350618 [01:13<00:16, 3272.22it/s][12:23:11] SMILES Parse Error: syntax error while parsing: CC1=N|2CCN|3=C(C)C=C(O[Cu]|2|3OC(=C1)C(F)(F)F)C(F)(F)F\n",
      "[12:23:11] SMILES Parse Error: Failed parsing SMILES 'CC1=N|2CCN|3=C(C)C=C(O[Cu]|2|3OC(=C1)C(F)(F)F)C(F)(F)F' for input: 'CC1=N|2CCN|3=C(C)C=C(O[Cu]|2|3OC(=C1)C(F)(F)F)C(F)(F)F'\n",
      " 85%|████████▌ | 299012/350618 [01:13<00:15, 3350.85it/s][12:23:12] SMILES Parse Error: syntax error while parsing: C1COCCCN|2=Cc3ccccc3O[Ni]|4|2Oc5ccccc5C=N|4C1\n",
      "[12:23:12] SMILES Parse Error: Failed parsing SMILES 'C1COCCCN|2=Cc3ccccc3O[Ni]|4|2Oc5ccccc5C=N|4C1' for input: 'C1COCCCN|2=Cc3ccccc3O[Ni]|4|2Oc5ccccc5C=N|4C1'\n",
      " 98%|█████████▊| 342832/350618 [01:27<00:02, 2923.15it/s][12:23:26] SMILES Parse Error: syntax error while parsing: [Ni]|1|2(|[S-]C(=C([S-]|1)c3ccccc3)c4ccccc4)|[S-]C(=C([S-]|2)c5ccccc5)c6ccccc6\n",
      "[12:23:26] SMILES Parse Error: Failed parsing SMILES '[Ni]|1|2(|[S-]C(=C([S-]|1)c3ccccc3)c4ccccc4)|[S-]C(=C([S-]|2)c5ccccc5)c6ccccc6' for input: '[Ni]|1|2(|[S-]C(=C([S-]|1)c3ccccc3)c4ccccc4)|[S-]C(=C([S-]|2)c5ccccc5)c6ccccc6'\n",
      "[12:23:26] SMILES Parse Error: syntax error while parsing: [Ni]|1|2(|[S-]C(=C([S-]|1)c3ccccc3)c4ccccc4)|[S-]C(=C([S-]|2)c5ccccc5)c6ccccc6\n",
      "[12:23:26] SMILES Parse Error: Failed parsing SMILES '[Ni]|1|2(|[S-]C(=C([S-]|1)c3ccccc3)c4ccccc4)|[S-]C(=C([S-]|2)c5ccccc5)c6ccccc6' for input: '[Ni]|1|2(|[S-]C(=C([S-]|1)c3ccccc3)c4ccccc4)|[S-]C(=C([S-]|2)c5ccccc5)c6ccccc6'\n",
      "100%|██████████| 350618/350618 [01:30<00:00, 3886.05it/s]"
     ]
    },
    {
     "name": "stdout",
     "output_type": "stream",
     "text": [
      "Number of spectra with a valid but non-canonical smiles: 251878\n"
     ]
    },
    {
     "name": "stderr",
     "output_type": "stream",
     "text": [
      "\n"
     ]
    }
   ],
   "source": [
    "# test - how many smiles (from those spectra with a valid smiles) are non canonical\n",
    "# the number in the original dataset is 251878\n",
    "def compute_non_canonical(dataset):\n",
    "    counter = 0\n",
    "    for s in tqdm(dataset):\n",
    "        if s.get('smiles'):\n",
    "            mol = Chem.MolFromSmiles(s.get('smiles'))\n",
    "            if mol and Chem.MolToSmiles(mol) != s.get('smiles'):\n",
    "                counter += 1\n",
    "    print(f\"Number of spectra with a valid but non-canonical smiles: {counter}\")\n",
    "\n",
    "compute_non_canonical(nist_dataset)"
   ]
  },
  {
   "cell_type": "code",
   "execution_count": 10,
   "id": "2eb0c3e5",
   "metadata": {},
   "outputs": [],
   "source": [
    "# function for making smiles canonical and removing stereochemistry\n",
    "# fla\n",
    "def remove_stereochemistry_and_canonize(smiles):\n",
    "    mol = Chem.MolFromSmiles(smiles)    # canonize smiles\n",
    "    if mol is not None:                           # TODO oddelej if else \n",
    "        Chem.RemoveStereochemistry(mol)\n",
    "    else: \n",
    "        return None   # desteorechem\n",
    "    new_smiles = Chem.MolToSmiles(mol)    # convert to smiles\n",
    "    return new_smiles"
   ]
  },
  {
   "cell_type": "code",
   "execution_count": 11,
   "id": "254d6654",
   "metadata": {},
   "outputs": [],
   "source": [
    "# count examined occurrences of specific data missing in our dataset\n",
    "\n",
    "def count_all(dataset):\n",
    "    \n",
    "    all_data = 0\n",
    "\n",
    "    no_smiles = 0\n",
    "    no_inchikey = 0\n",
    "    no_inchi = 0\n",
    "\n",
    "    no_smile_only = 0\n",
    "    no_inchikey_only = 0\n",
    "    both_missing_counter = 0\n",
    "\n",
    "    all_identifier_missing = 0\n",
    "\n",
    "    for obj in dataset:\n",
    "        if obj.get('smiles') == None:\n",
    "            no_smiles += 1\n",
    "        if obj.get('inchikey') == None:\n",
    "            no_inchikey += 1\n",
    "        if obj.get('inchi') == None:\n",
    "            no_inchi += 1\n",
    "        if obj.get('smiles') == None and obj.get('inchi') != None:\n",
    "            no_smile_only += 1\n",
    "        if obj.get('smiles') != None and obj.get('inchi') == None:\n",
    "            no_inchikey_only += 1\n",
    "        if obj.get('smiles') == None and obj.get('inchikey') != None:\n",
    "            both_missing_counter += 1\n",
    "        if obj.get('smiles') == None and obj.get('inchikey') == None and obj.get('inchi') == None:\n",
    "            all_identifier_missing += 1\n",
    "        all_data += 1\n",
    "    return (all_data, no_smiles, no_inchikey, no_inchi, no_smile_only, no_inchikey_only,\n",
    "            both_missing_counter, all_identifier_missing)"
   ]
  },
  {
   "cell_type": "code",
   "execution_count": 12,
   "id": "bd106fbe",
   "metadata": {},
   "outputs": [],
   "source": [
    "# storing all occurences for smiles, inchi, inchikey and formula\n",
    "def get_all_identifiers(dataset):\n",
    "    \n",
    "    inchikey = []\n",
    "    inchi = []\n",
    "    smiles = []\n",
    "    formulas = [] \n",
    "    for obj in dataset:\n",
    "        inchikey.append(obj.get('inchikey'))\n",
    "        inchi.append(obj.get('inchi'))\n",
    "        smiles.append(obj.get('smiles'))\n",
    "        formulas.append(obj.get('formula'))\n",
    "    \n",
    "    return (inchikey, inchi, smiles, formulas)"
   ]
  },
  {
   "cell_type": "code",
   "execution_count": 13,
   "id": "742c7197",
   "metadata": {},
   "outputs": [],
   "source": [
    "all_data, no_smiles, no_inchikey, no_inchi, no_smile_only, no_inchikey_only,\\\n",
    "            both_missing_counter, all_identifier_missing = count_all(nist_dataset)"
   ]
  },
  {
   "cell_type": "code",
   "execution_count": null,
   "id": "123dbd9f",
   "metadata": {},
   "outputs": [],
   "source": [
    "inchikey, inchi, smiles, formulas = get_all_identifiers(nist_dataset)"
   ]
  },
  {
   "cell_type": "code",
   "execution_count": null,
   "id": "88597277",
   "metadata": {},
   "outputs": [
    {
     "name": "stdout",
     "output_type": "stream",
     "text": [
      "We are currently working with 350618 smiles, from which 243549 are unique\n",
      "\n",
      "We are currently working with 350618 inchikeys, from which 246911 are unique\n",
      "\n",
      "We are currently working with 350618 inchi, from which 246458 are unique\n",
      "\n",
      "We are currently working with 350618 formulas, from which 82741 are unique\n",
      "\n"
     ]
    }
   ],
   "source": [
    "\n",
    "print(f\"We are currently working with {len(smiles)} smiles, from which {len(set(smiles))} are unique\", end=\"\\n\\n\")\n",
    "print(f\"We are currently working with {len(inchikey)} inchikeys, from which {len(set(inchikey))} are unique\", end=\"\\n\\n\")\n",
    "print(f\"We are currently working with {len(inchi)} inchi, from which {len(set(inchi))} are unique\", end=\"\\n\\n\")\n",
    "print(f\"We are currently working with {len(formulas)} formulas, from which {len(set(formulas))} are unique\", end=\"\\n\\n\")"
   ]
  },
  {
   "cell_type": "code",
   "execution_count": null,
   "id": "98214003",
   "metadata": {},
   "outputs": [],
   "source": [
    "data_missing = {\n",
    "    'All data': [all_data],\n",
    "    'No smiles': [no_smiles],\n",
    "    'No inchikey': [no_inchikey],     \n",
    "    'No inchi': [no_inchi],\n",
    "    'Smiles Only Missing': [no_smile_only],\n",
    "    'Inchi Only Missing': [no_inchikey_only],\n",
    "    'Both Missing': [both_missing_counter],\n",
    "    'All tree missing': [all_identifier_missing],    \n",
    "}\n",
    "missing_df = pd.DataFrame(data_missing)"
   ]
  },
  {
   "cell_type": "code",
   "execution_count": null,
   "id": "fc30b27a",
   "metadata": {},
   "outputs": [],
   "source": [
    "missing_df = missing_df.T\n",
    "missing_df.columns = [\"Count\"]\n",
    "missing_df[\"average\"] = missing_df.apply(lambda row: row.Count / all_data, axis = 1)"
   ]
  },
  {
   "cell_type": "markdown",
   "id": "4904c13e",
   "metadata": {},
   "source": [
    "We have approximately 60k data that we are unable to work with. They do not include identifiers in any inchi, inchikey, or smiles. Proceeding, we will try to obtain some more smiles and, if possible correct corrupted ones."
   ]
  },
  {
   "cell_type": "code",
   "execution_count": null,
   "id": "196400bc",
   "metadata": {},
   "outputs": [
    {
     "data": {
      "text/html": [
       "<div>\n",
       "<style scoped>\n",
       "    .dataframe tbody tr th:only-of-type {\n",
       "        vertical-align: middle;\n",
       "    }\n",
       "\n",
       "    .dataframe tbody tr th {\n",
       "        vertical-align: top;\n",
       "    }\n",
       "\n",
       "    .dataframe thead th {\n",
       "        text-align: right;\n",
       "    }\n",
       "</style>\n",
       "<table border=\"1\" class=\"dataframe\">\n",
       "  <thead>\n",
       "    <tr style=\"text-align: right;\">\n",
       "      <th></th>\n",
       "      <th>Count</th>\n",
       "      <th>average</th>\n",
       "    </tr>\n",
       "  </thead>\n",
       "  <tbody>\n",
       "    <tr>\n",
       "      <th>All data</th>\n",
       "      <td>350618</td>\n",
       "      <td>1.000000</td>\n",
       "    </tr>\n",
       "    <tr>\n",
       "      <th>No smiles</th>\n",
       "      <td>60494</td>\n",
       "      <td>0.172535</td>\n",
       "    </tr>\n",
       "    <tr>\n",
       "      <th>No inchikey</th>\n",
       "      <td>60163</td>\n",
       "      <td>0.171591</td>\n",
       "    </tr>\n",
       "    <tr>\n",
       "      <th>No inchi</th>\n",
       "      <td>60757</td>\n",
       "      <td>0.173285</td>\n",
       "    </tr>\n",
       "    <tr>\n",
       "      <th>Smiles Only Missing</th>\n",
       "      <td>191</td>\n",
       "      <td>0.000545</td>\n",
       "    </tr>\n",
       "    <tr>\n",
       "      <th>Inchi Only Missing</th>\n",
       "      <td>454</td>\n",
       "      <td>0.001295</td>\n",
       "    </tr>\n",
       "    <tr>\n",
       "      <th>Both Missing</th>\n",
       "      <td>334</td>\n",
       "      <td>0.000953</td>\n",
       "    </tr>\n",
       "    <tr>\n",
       "      <th>All tree missing</th>\n",
       "      <td>60160</td>\n",
       "      <td>0.171583</td>\n",
       "    </tr>\n",
       "  </tbody>\n",
       "</table>\n",
       "</div>"
      ],
      "text/plain": [
       "                      Count   average\n",
       "All data             350618  1.000000\n",
       "No smiles             60494  0.172535\n",
       "No inchikey           60163  0.171591\n",
       "No inchi              60757  0.173285\n",
       "Smiles Only Missing     191  0.000545\n",
       "Inchi Only Missing      454  0.001295\n",
       "Both Missing            334  0.000953\n",
       "All tree missing      60160  0.171583"
      ]
     },
     "execution_count": 95,
     "metadata": {},
     "output_type": "execute_result"
    }
   ],
   "source": [
    "missing_df"
   ]
  },
  {
   "cell_type": "code",
   "execution_count": null,
   "id": "273e9d57",
   "metadata": {},
   "outputs": [
    {
     "data": {
      "image/png": "[encoded data removed]",
      "text/plain": [
       "<Figure size 640x480 with 1 Axes>"
      ]
     },
     "metadata": {},
     "output_type": "display_data"
    }
   ],
   "source": [
    "# x-coordinates of left sides of bars \n",
    "parameters_missing = [i for i in range(len(missing_df))]\n",
    "  \n",
    "# heights of bars\n",
    "height = [i for i in missing_df.Count]\n",
    "  \n",
    "# labels for bars\n",
    "tick_label = ['All data', 'No smiles', 'No inchikey', 'No inchi', 'Smiles Only Missing',\n",
    "              'Inchi Only Missing', 'Both Missing', 'All tree missing']\n",
    "  \n",
    "\n",
    "plt.bar(parameters_missing, height, tick_label = tick_label,\n",
    "        width = 0.8)\n",
    "  \n",
    "plt.xlabel('')\n",
    "plt.xticks(rotation=70)\n",
    "plt.ylabel('Number of Instances')\n",
    "plt.title('Number of missing data')\n",
    "plt.show()"
   ]
  },
  {
   "cell_type": "markdown",
   "id": "6ad70a41",
   "metadata": {},
   "source": [
    "# Data preparing"
   ]
  },
  {
   "cell_type": "code",
   "execution_count": null,
   "id": "d700b748",
   "metadata": {},
   "outputs": [],
   "source": [
    "# Filter and try to restore corupted smiles\n",
    "# both tools are used, with help of rdkit and matchms as well\n",
    "# OKAY, here we add the smiles destereo and canonization\n",
    "\n",
    "def refill_information(dataset):\n",
    "    counter_smiles_changed = 0\n",
    "    updated_nist = []\n",
    "    for spectrum in tqdm(dataset):\n",
    "        smiles = spectrum.get('smiles')\n",
    "        # all missing\n",
    "        if smiles == None and spectrum.get('inchikey') == None and spectrum.get('inchi') == None:\n",
    "            continue\n",
    "            \n",
    "        #check weather smiles is syntactically valid or molecule is chemically reasonable\n",
    "        if (smiles == None or \\\n",
    "            Chem.MolFromSmiles(smiles, sanitize=False) == None or\\\n",
    "            Chem.MolFromSmiles(smiles) == None) and\\\n",
    "            spectrum.get('inchi') != None:\n",
    "            \n",
    "            # try to convert from inchi\n",
    "            tmp = Chem.inchi.MolFromInchi(spectrum.get('inchi'))\n",
    "            if tmp != None:\n",
    "                spectrum.set('smiles', Chem.MolToSmiles(tmp))\n",
    "                smiles = spectrum.get('smiles')\n",
    "        \n",
    "        # try with matchms\n",
    "        if smiles == None and spectrum.get('inchi') != None:\n",
    "            spectrum = matchms.filtering.derive_smiles_from_inchi(spectrum)\n",
    "            smiles = spectrum.get('smiles')\n",
    "\n",
    "        if smiles == None:\n",
    "            continue\n",
    "\n",
    "        # adding the canonization and destereo\n",
    "        new_smiles = remove_stereochemistry_and_canonize(smiles)\n",
    "        if new_smiles is None:\n",
    "            continue\n",
    "        spectrum.set('smiles', new_smiles)\n",
    "        if new_smiles != smiles:\n",
    "            counter_smiles_changed += 1\n",
    "            \n",
    "        updated_nist.append(spectrum)\n",
    "    \n",
    "    # printing stats about destereo and canonization\n",
    "    print(f\"Number of smiles changed: {counter_smiles_changed}\")\n",
    "    return updated_nist"
   ]
  },
  {
   "cell_type": "code",
   "execution_count": null,
   "id": "646b2bde",
   "metadata": {},
   "outputs": [],
   "source": [
    "# generate shuffled indices for train, valid and test \n",
    "def generate_index(dataset, train_ratio, valid_ratio, test_ratio):\n",
    "    dataset_length = len(dataset)\n",
    "    \n",
    "    train_idx = np.full(int(dataset_length * train_ratio), 0, dtype=int)\n",
    "    valid_idx = np.full(int(dataset_length * valid_ratio), 1, dtype=int)\n",
    "    test_idx = np.full(int(dataset_length * test_ratio), 2, dtype=int)\n",
    "    \n",
    "    concatenate_array = np.concatenate((train_idx, valid_idx, test_idx))\n",
    "    \n",
    "    np.random.shuffle(concatenate_array)\n",
    "    \n",
    "    return concatenate_array"
   ]
  },
  {
   "cell_type": "code",
   "execution_count": null,
   "id": "37f02e29",
   "metadata": {},
   "outputs": [],
   "source": [
    "# map each spectrum to its smiles\n",
    "def unique_mapping(dataset):\n",
    "    \n",
    "    smiles_dict = dict()\n",
    "    counter_none = 0\n",
    "    \n",
    "    for spectrum in dataset:\n",
    "        if \"smiles\" not in spectrum.metadata or spectrum.get(\"smiles\") == None:\n",
    "            counter_none += 1\n",
    "            continue\n",
    "        if spectrum.get(\"smiles\") not in smiles_dict:\n",
    "            smiles_dict[spectrum.get(\"smiles\")] = [spectrum]\n",
    "        else:\n",
    "            smiles_dict[spectrum.get(\"smiles\")].append(spectrum)\n",
    "\n",
    "    print(f\"Missing smiles identifier in {counter_none} cases\")\n",
    "    return smiles_dict"
   ]
  },
  {
   "cell_type": "code",
   "execution_count": null,
   "id": "60b9c28f",
   "metadata": {},
   "outputs": [],
   "source": [
    "#build list dateset for training, valid and test\n",
    "# we iterate over all cases with same value and append them to final list in way\n",
    "# that all train, valid and test does not overlap with duplicities \n",
    "# at the end, lists are shuffled to avoid continuous stream of same data\n",
    "def generate_train_test_dataset(dataset, indices):\n",
    "    \n",
    "    train = []\n",
    "    valid = []\n",
    "    test = []\n",
    "    \n",
    " \n",
    "    for i, spectrums in zip(indices, dataset):\n",
    "        if i == TRAIN_INDEX:\n",
    "            for spectrum in dataset[spectrums]:\n",
    "                train.append(spectrum)\n",
    "        elif i == VALID_INDEX:\n",
    "            for spectrum in dataset[spectrums]:\n",
    "                valid.append(spectrum)\n",
    "        elif i == TEST_INDEX:\n",
    "            for spectrum in dataset[spectrums]:\n",
    "                test.append(spectrum)\n",
    "                \n",
    "    random.shuffle(train)\n",
    "    random.shuffle(valid)\n",
    "    random.shuffle(test)\n",
    "    return (train, valid, test)"
   ]
  },
  {
   "cell_type": "code",
   "execution_count": null,
   "id": "e8c7171a",
   "metadata": {},
   "outputs": [],
   "source": [
    "# saving list in msp format\n",
    "def save_dataset(dataset, path, name):            \n",
    "    # makes all intermediate-level directories needed to contain the leaf directory\n",
    "    os.makedirs(path, mode=0o777, exist_ok=True)\n",
    "    save_as_msp(dataset, f\"{path}/{name}.msp\")     "
   ]
  },
  {
   "cell_type": "code",
   "execution_count": null,
   "id": "0699a1d3",
   "metadata": {
    "scrolled": true
   },
   "outputs": [
    {
     "name": "stderr",
     "output_type": "stream",
     "text": [
      "  0%|          | 0/350618 [00:00<?, ?it/s][23:44:11] Explicit valence for atom # 0 B, 5, is greater than permitted\n",
      "[23:44:11] Explicit valence for atom # 0 B, 5, is greater than permitted\n",
      "[23:44:11] ERROR: Explicit valence for atom # 0 B, 5, is greater than permitted\n",
      "\n",
      "[23:44:11] Explicit valence for atom # 0 B, 5, is greater than permitted\n",
      "  1%|▏         | 4634/350618 [00:00<00:58, 5960.82it/s][23:44:12] Explicit valence for atom # 1 Cl, 7, is greater than permitted\n",
      "[23:44:12] Explicit valence for atom # 0 Cl, 7, is greater than permitted\n",
      "[23:44:12] ERROR: Explicit valence for atom # 0 Cl, 7, is greater than permitted\n",
      "\n",
      "[23:44:12] Explicit valence for atom # 1 Cl, 7, is greater than permitted\n",
      "  3%|▎         | 11488/350618 [00:02<01:05, 5184.36it/s][23:44:13] Explicit valence for atom # 0 B, 5, is greater than permitted\n",
      "[23:44:13] Explicit valence for atom # 0 B, 5, is greater than permitted\n",
      "[23:44:13] ERROR: Explicit valence for atom # 0 B, 5, is greater than permitted\n",
      "\n",
      "[23:44:13] Explicit valence for atom # 0 B, 5, is greater than permitted\n",
      "  6%|▌         | 20455/350618 [00:03<01:11, 4602.39it/s][23:44:15] Explicit valence for atom # 0 C, 5, is greater than permitted\n",
      "[23:44:15] Explicit valence for atom # 0 C, 5, is greater than permitted\n",
      "  7%|▋         | 24901/350618 [00:04<01:07, 4841.90it/s][23:44:16] Explicit valence for atom # 0 B, 6, is greater than permitted\n",
      "[23:44:16] Explicit valence for atom # 0 C, 5, is greater than permitted\n",
      "[23:44:16] ERROR: Explicit valence for atom # 0 C, 5, is greater than permitted\n",
      "\n",
      "[23:44:16] Explicit valence for atom # 0 B, 6, is greater than permitted\n",
      "[23:44:16] Explicit valence for atom # 0 B, 5, is greater than permitted\n",
      "[23:44:16] Explicit valence for atom # 0 C, 5, is greater than permitted\n",
      "[23:44:16] ERROR: Explicit valence for atom # 0 C, 5, is greater than permitted\n",
      "\n",
      "[23:44:16] Explicit valence for atom # 0 B, 5, is greater than permitted\n",
      " 13%|█▎        | 43963/350618 [00:09<01:10, 4368.65it/s][23:44:20] Explicit valence for atom # 1 C, 5, is greater than permitted\n",
      " 17%|█▋        | 59530/350618 [00:12<01:08, 4228.62it/s][23:44:24] SMILES Parse Error: syntax error while parsing: [CH-]1|2C|3=C|4C|5=C1|[Mn]6789|2|3|4|5[CH-]%10[CH-]6[CH-]7[CH-]8[CH-]9%10\n",
      "[23:44:24] SMILES Parse Error: Failed parsing SMILES '[CH-]1|2C|3=C|4C|5=C1|[Mn]6789|2|3|4|5[CH-]%10[CH-]6[CH-]7[CH-]8[CH-]9%10' for input: '[CH-]1|2C|3=C|4C|5=C1|[Mn]6789|2|3|4|5[CH-]%10[CH-]6[CH-]7[CH-]8[CH-]9%10'\n",
      "[23:44:24] SMILES Parse Error: syntax error while parsing: [CH-]1|2C|3=C|4C|5=C1|[Mn]6789|2|3|4|5[CH-]%10[CH-]6[CH-]7[CH-]8[CH-]9%10\n",
      "[23:44:24] SMILES Parse Error: Failed parsing SMILES '[CH-]1|2C|3=C|4C|5=C1|[Mn]6789|2|3|4|5[CH-]%10[CH-]6[CH-]7[CH-]8[CH-]9%10' for input: '[CH-]1|2C|3=C|4C|5=C1|[Mn]6789|2|3|4|5[CH-]%10[CH-]6[CH-]7[CH-]8[CH-]9%10'\n",
      " 18%|█▊        | 62143/350618 [00:13<01:08, 4194.26it/s][23:44:24] SMILES Parse Error: syntax error while parsing: [CH-]1|2C|3=C|4C|5=C1|[Fe]6789|2|3|4|5|[N-]%10[CH-]6[CH-]7[CH-]8[CH-]9%10\n",
      "[23:44:24] SMILES Parse Error: Failed parsing SMILES '[CH-]1|2C|3=C|4C|5=C1|[Fe]6789|2|3|4|5|[N-]%10[CH-]6[CH-]7[CH-]8[CH-]9%10' for input: '[CH-]1|2C|3=C|4C|5=C1|[Fe]6789|2|3|4|5|[N-]%10[CH-]6[CH-]7[CH-]8[CH-]9%10'\n",
      "[23:44:24] SMILES Parse Error: syntax error while parsing: [CH-]1|2C|3=C|4C|5=C1|[Fe]6789|2|3|4|5|[N-]%10[CH-]6[CH-]7[CH-]8[CH-]9%10\n",
      "[23:44:24] SMILES Parse Error: Failed parsing SMILES '[CH-]1|2C|3=C|4C|5=C1|[Fe]6789|2|3|4|5|[N-]%10[CH-]6[CH-]7[CH-]8[CH-]9%10' for input: '[CH-]1|2C|3=C|4C|5=C1|[Fe]6789|2|3|4|5|[N-]%10[CH-]6[CH-]7[CH-]8[CH-]9%10'\n",
      "[23:44:24] SMILES Parse Error: syntax error while parsing: [CH-]1|2C|3=C|4C|5=C1|[Fe]6789|2|3|4|5|[N-]%10[CH-]6[CH-]7[CH-]8[CH-]9%10\n",
      "[23:44:24] SMILES Parse Error: Failed parsing SMILES '[CH-]1|2C|3=C|4C|5=C1|[Fe]6789|2|3|4|5|[N-]%10[CH-]6[CH-]7[CH-]8[CH-]9%10' for input: '[CH-]1|2C|3=C|4C|5=C1|[Fe]6789|2|3|4|5|[N-]%10[CH-]6[CH-]7[CH-]8[CH-]9%10'\n",
      "[23:44:24] SMILES Parse Error: syntax error while parsing: [CH-]1|2C|3=C|4C|5=C1|[Fe]6789|2|3|4|5|[N-]%10[CH-]6[CH-]7[CH-]8[CH-]9%10\n",
      "[23:44:24] SMILES Parse Error: Failed parsing SMILES '[CH-]1|2C|3=C|4C|5=C1|[Fe]6789|2|3|4|5|[N-]%10[CH-]6[CH-]7[CH-]8[CH-]9%10' for input: '[CH-]1|2C|3=C|4C|5=C1|[Fe]6789|2|3|4|5|[N-]%10[CH-]6[CH-]7[CH-]8[CH-]9%10'\n",
      " 18%|█▊        | 62991/350618 [00:13<01:12, 3980.90it/s][23:44:25] Explicit valence for atom # 0 C, 5, is greater than permitted\n",
      " 20%|██        | 70751/350618 [00:15<01:11, 3889.32it/s][23:44:27] Explicit valence for atom # 2 C, 5, is greater than permitted\n",
      "[23:44:27] Explicit valence for atom # 2 C, 5, is greater than permitted\n",
      " 23%|██▎       | 79463/350618 [00:17<01:07, 4032.70it/s][23:44:29] SMILES Parse Error: syntax error while parsing: C1C[CH-]2[CH-]3[CH-]4[CH-]1[Co]234|5|6|7|8|[CH-]9C|8=C|5C|6=C|79\n",
      "[23:44:29] SMILES Parse Error: Failed parsing SMILES 'C1C[CH-]2[CH-]3[CH-]4[CH-]1[Co]234|5|6|7|8|[CH-]9C|8=C|5C|6=C|79' for input: 'C1C[CH-]2[CH-]3[CH-]4[CH-]1[Co]234|5|6|7|8|[CH-]9C|8=C|5C|6=C|79'\n",
      "[23:44:29] SMILES Parse Error: syntax error while parsing: C1C[CH-]2[CH-]3[CH-]4[CH-]1[Co]234|5|6|7|8|[CH-]9C|8=C|5C|6=C|79\n",
      "[23:44:29] SMILES Parse Error: Failed parsing SMILES 'C1C[CH-]2[CH-]3[CH-]4[CH-]1[Co]234|5|6|7|8|[CH-]9C|8=C|5C|6=C|79' for input: 'C1C[CH-]2[CH-]3[CH-]4[CH-]1[Co]234|5|6|7|8|[CH-]9C|8=C|5C|6=C|79'\n",
      " 23%|██▎       | 81459/350618 [00:18<01:09, 3858.47it/s][23:44:29] Explicit valence for atom # 0 O, 4, is greater than permitted\n",
      " 26%|██▌       | 90278/350618 [00:20<01:09, 3740.46it/s][23:44:32] SMILES Parse Error: syntax error while parsing: [CH-]1|2C|3=C|4C|5=C1|[Pd]67|2|3|4|5[CH2-][CH-]6[CH2-]7\n",
      "[23:44:32] SMILES Parse Error: Failed parsing SMILES '[CH-]1|2C|3=C|4C|5=C1|[Pd]67|2|3|4|5[CH2-][CH-]6[CH2-]7' for input: '[CH-]1|2C|3=C|4C|5=C1|[Pd]67|2|3|4|5[CH2-][CH-]6[CH2-]7'\n",
      " 26%|██▌       | 91537/350618 [00:20<01:04, 4034.61it/s][23:44:32] SMILES Parse Error: syntax error while parsing: C[C-]1|2C|3=C|4C|5=C1|[Fe]6789|2|3|4|5[CH-]%10[CH-]6[CH-]7[C-]8(C)[CH-]9%10\n",
      "[23:44:32] SMILES Parse Error: Failed parsing SMILES 'C[C-]1|2C|3=C|4C|5=C1|[Fe]6789|2|3|4|5[CH-]%10[CH-]6[CH-]7[C-]8(C)[CH-]9%10' for input: 'C[C-]1|2C|3=C|4C|5=C1|[Fe]6789|2|3|4|5[CH-]%10[CH-]6[CH-]7[C-]8(C)[CH-]9%10'\n",
      "[23:44:32] SMILES Parse Error: syntax error while parsing: C[C-]1|2C|3=C|4C|5=C1|[Fe]6789|2|3|4|5[CH-]%10[CH-]6[CH-]7[C-]8(C)[CH-]9%10\n",
      "[23:44:32] SMILES Parse Error: Failed parsing SMILES 'C[C-]1|2C|3=C|4C|5=C1|[Fe]6789|2|3|4|5[CH-]%10[CH-]6[CH-]7[C-]8(C)[CH-]9%10' for input: 'C[C-]1|2C|3=C|4C|5=C1|[Fe]6789|2|3|4|5[CH-]%10[CH-]6[CH-]7[C-]8(C)[CH-]9%10'\n",
      " 27%|██▋       | 94402/350618 [00:21<01:06, 3869.46it/s][23:44:33] Explicit valence for atom # 1 C, 5, is greater than permitted\n",
      "[23:44:33] Explicit valence for atom # 1 C, 5, is greater than permitted\n",
      " 28%|██▊       | 99150/350618 [00:22<01:07, 3703.82it/s][23:44:34] Explicit valence for atom # 3 C, 5, is greater than permitted\n",
      "[23:44:34] ERROR: Explicit valence for atom # 3 C, 5, is greater than permitted\n",
      "\n",
      "[23:44:34] Explicit valence for atom # 3 C, 5, is greater than permitted\n",
      "[23:44:34] ERROR: Explicit valence for atom # 3 C, 5, is greater than permitted\n",
      "\n",
      " 28%|██▊       | 99522/350618 [00:22<01:07, 3700.61it/s][23:44:34] Explicit valence for atom # 0 O, 4, is greater than permitted\n",
      " 29%|██▊       | 100727/350618 [00:23<01:05, 3817.91it/s][23:44:34] SMILES Parse Error: syntax error while parsing: [Fe]|1|2|3|4(|N#CC(C#N|[Fe]|5|6(|N#CC(C#N|1)C(C#N)C#N)(|N#CC(C#N|2)C(C#N)C#N)|[PH+](CC(C)(C[PH+]|5(c7ccccc7)c8ccccc8)C[PH+]|6(c9ccccc9)c%10ccccc%10)(c%11ccccc%11)c%12ccccc%12)C(C#N)C#N)|[PH+](CC(C)(C[PH+]|3(c%13ccccc%13)c%14ccccc%14)C[PH+]|4(c%15ccccc%15)c%16ccccc%16)(c%17ccccc%17)c%18ccccc%18\n",
      "[23:44:34] SMILES Parse Error: Failed parsing SMILES '[Fe]|1|2|3|4(|N#CC(C#N|[Fe]|5|6(|N#CC(C#N|1)C(C#N)C#N)(|N#CC(C#N|2)C(C#N)C#N)|[PH+](CC(C)(C[PH+]|5(c7ccccc7)c8ccccc8)C[PH+]|6(c9ccccc9)c%10ccccc%10)(c%11ccccc%11)c%12ccccc%12)C(C#N)C#N)|[PH+](CC(C)(C[PH+]|3(c%13ccccc%13)c%14ccccc%14)C[PH+]|4(c%15ccccc%15)c%16ccccc%16)(c%17ccccc%17)c%18ccccc%18' for input: '[Fe]|1|2|3|4(|N#CC(C#N|[Fe]|5|6(|N#CC(C#N|1)C(C#N)C#N)(|N#CC(C#N|2)C(C#N)C#N)|[PH+](CC(C)(C[PH+]|5(c7ccccc7)c8ccccc8)C[PH+]|6(c9ccccc9)c%10ccccc%10)(c%11ccccc%11)c%12ccccc%12)C(C#N)C#N)|[PH+](CC(C)(C[PH+]|3(c%13ccccc%13)c%14ccccc%14)C[PH+]|4(c%15ccccc%15)c%16ccccc%16)(c%17ccccc%17)c%18ccccc%18'\n",
      "[23:44:34] SMILES Parse Error: syntax error while parsing: [Fe]|1|2|3|4(|N#CC(C#N|[Fe]|5|6(|N#CC(C#N|1)C(C#N)C#N)(|N#CC(C#N|2)C(C#N)C#N)|[PH+](CC(C)(C[PH+]|5(c7ccccc7)c8ccccc8)C[PH+]|6(c9ccccc9)c%10ccccc%10)(c%11ccccc%11)c%12ccccc%12)C(C#N)C#N)|[PH+](CC(C)(C[PH+]|3(c%13ccccc%13)c%14ccccc%14)C[PH+]|4(c%15ccccc%15)c%16ccccc%16)(c%17ccccc%17)c%18ccccc%18\n",
      "[23:44:34] SMILES Parse Error: Failed parsing SMILES '[Fe]|1|2|3|4(|N#CC(C#N|[Fe]|5|6(|N#CC(C#N|1)C(C#N)C#N)(|N#CC(C#N|2)C(C#N)C#N)|[PH+](CC(C)(C[PH+]|5(c7ccccc7)c8ccccc8)C[PH+]|6(c9ccccc9)c%10ccccc%10)(c%11ccccc%11)c%12ccccc%12)C(C#N)C#N)|[PH+](CC(C)(C[PH+]|3(c%13ccccc%13)c%14ccccc%14)C[PH+]|4(c%15ccccc%15)c%16ccccc%16)(c%17ccccc%17)c%18ccccc%18' for input: '[Fe]|1|2|3|4(|N#CC(C#N|[Fe]|5|6(|N#CC(C#N|1)C(C#N)C#N)(|N#CC(C#N|2)C(C#N)C#N)|[PH+](CC(C)(C[PH+]|5(c7ccccc7)c8ccccc8)C[PH+]|6(c9ccccc9)c%10ccccc%10)(c%11ccccc%11)c%12ccccc%12)C(C#N)C#N)|[PH+](CC(C)(C[PH+]|3(c%13ccccc%13)c%14ccccc%14)C[PH+]|4(c%15ccccc%15)c%16ccccc%16)(c%17ccccc%17)c%18ccccc%18'\n",
      " 29%|██▉       | 102212/350618 [00:23<01:09, 3581.78it/s][23:44:35] Explicit valence for atom # 8 O, 4, is greater than permitted\n",
      " 31%|███       | 108151/350618 [00:25<01:03, 3821.89it/s][23:44:36] Explicit valence for atom # 0 O, 4, is greater than permitted\n",
      " 32%|███▏      | 110483/350618 [00:25<01:03, 3752.29it/s][23:44:37] SMILES Parse Error: syntax error while parsing: OC(=O)[C-]1|2C|3=C|4C|5=C1|[Fe]6789|2|3|4|5[CH-]%10[CH-]6[CH-]7[CH-]8[CH-]9%10\n",
      "[23:44:37] SMILES Parse Error: Failed parsing SMILES 'OC(=O)[C-]1|2C|3=C|4C|5=C1|[Fe]6789|2|3|4|5[CH-]%10[CH-]6[CH-]7[CH-]8[CH-]9%10' for input: 'OC(=O)[C-]1|2C|3=C|4C|5=C1|[Fe]6789|2|3|4|5[CH-]%10[CH-]6[CH-]7[CH-]8[CH-]9%10'\n",
      "[23:44:37] SMILES Parse Error: syntax error while parsing: OC(=O)[C-]1|2C|3=C|4C|5=C1|[Fe]6789|2|3|4|5[CH-]%10[CH-]6[CH-]7[CH-]8[CH-]9%10\n",
      "[23:44:37] SMILES Parse Error: Failed parsing SMILES 'OC(=O)[C-]1|2C|3=C|4C|5=C1|[Fe]6789|2|3|4|5[CH-]%10[CH-]6[CH-]7[CH-]8[CH-]9%10' for input: 'OC(=O)[C-]1|2C|3=C|4C|5=C1|[Fe]6789|2|3|4|5[CH-]%10[CH-]6[CH-]7[CH-]8[CH-]9%10'\n",
      " 32%|███▏      | 112836/350618 [00:26<01:02, 3833.66it/s][23:44:37] Explicit valence for atom # 0 O, 4, is greater than permitted\n",
      " 33%|███▎      | 116372/350618 [00:27<01:04, 3634.46it/s][23:44:38] Explicit valence for atom # 4 C, 5, is greater than permitted\n",
      "[23:44:38] ERROR: Explicit valence for atom # 4 C, 5, is greater than permitted\n",
      "\n",
      "[23:44:38] Explicit valence for atom # 4 C, 5, is greater than permitted\n",
      "[23:44:38] ERROR: Explicit valence for atom # 4 C, 5, is greater than permitted\n",
      "\n",
      " 37%|███▋      | 128607/350618 [00:30<01:02, 3557.79it/s][23:44:42] SMILES Parse Error: syntax error while parsing: CCCO|[V](|OCCC)(|OCCC)=O\n",
      "[23:44:42] SMILES Parse Error: Failed parsing SMILES 'CCCO|[V](|OCCC)(|OCCC)=O' for input: 'CCCO|[V](|OCCC)(|OCCC)=O'\n",
      " 41%|████      | 142323/350618 [00:34<00:56, 3662.20it/s][23:44:45] Explicit valence for atom # 0 O, 4, is greater than permitted\n",
      " 42%|████▏     | 148310/350618 [00:36<00:56, 3591.64it/s][23:44:47] Explicit valence for atom # 6 O, 4, is greater than permitted\n",
      " 46%|████▌     | 160313/350618 [00:39<00:51, 3706.30it/s][23:44:50] SMILES Parse Error: syntax error while parsing: [Fe]|1|2|3|4|5|6|7|8(|[CH-]9[CH-]|1[CH-]|2[C-]|3([CH-]|49)C(C)=O)|C%10=C|5[C-]|6(C|7=C|8%10)C(C)=O\n",
      "[23:44:50] SMILES Parse Error: Failed parsing SMILES '[Fe]|1|2|3|4|5|6|7|8(|[CH-]9[CH-]|1[CH-]|2[C-]|3([CH-]|49)C(C)=O)|C%10=C|5[C-]|6(C|7=C|8%10)C(C)=O' for input: '[Fe]|1|2|3|4|5|6|7|8(|[CH-]9[CH-]|1[CH-]|2[C-]|3([CH-]|49)C(C)=O)|C%10=C|5[C-]|6(C|7=C|8%10)C(C)=O'\n",
      "[23:44:50] SMILES Parse Error: syntax error while parsing: [Fe]|1|2|3|4|5|6|7|8(|[CH-]9[CH-]|1[CH-]|2[C-]|3([CH-]|49)C(C)=O)|C%10=C|5[C-]|6(C|7=C|8%10)C(C)=O\n",
      "[23:44:50] SMILES Parse Error: Failed parsing SMILES '[Fe]|1|2|3|4|5|6|7|8(|[CH-]9[CH-]|1[CH-]|2[C-]|3([CH-]|49)C(C)=O)|C%10=C|5[C-]|6(C|7=C|8%10)C(C)=O' for input: '[Fe]|1|2|3|4|5|6|7|8(|[CH-]9[CH-]|1[CH-]|2[C-]|3([CH-]|49)C(C)=O)|C%10=C|5[C-]|6(C|7=C|8%10)C(C)=O'\n",
      " 47%|████▋     | 165038/350618 [00:40<00:52, 3539.41it/s][23:44:52] Explicit valence for atom # 0 O, 4, is greater than permitted\n",
      "[23:44:52] Explicit valence for atom # 0 O, 4, is greater than permitted\n",
      " 47%|████▋     | 165421/350618 [00:41<00:51, 3622.03it/s][23:44:52] SMILES Parse Error: syntax error while parsing: [CH-]1|2[CH-]|3c4ccccc4[CH-]1|[Rh]56|2|3([CH2-][CH2-]5)[CH2-][CH2-]6\n",
      "[23:44:52] SMILES Parse Error: Failed parsing SMILES '[CH-]1|2[CH-]|3c4ccccc4[CH-]1|[Rh]56|2|3([CH2-][CH2-]5)[CH2-][CH2-]6' for input: '[CH-]1|2[CH-]|3c4ccccc4[CH-]1|[Rh]56|2|3([CH2-][CH2-]5)[CH2-][CH2-]6'\n",
      " 48%|████▊     | 167673/350618 [00:41<00:48, 3742.61it/s][23:44:53] SMILES Parse Error: syntax error while parsing: C1C[CH-]2[CH-]3CC[CH-]4[CH-]1[Rh]234|5|6|7|8|[CH-]9C|8=C|5C|6=C|79\n",
      "[23:44:53] SMILES Parse Error: Failed parsing SMILES 'C1C[CH-]2[CH-]3CC[CH-]4[CH-]1[Rh]234|5|6|7|8|[CH-]9C|8=C|5C|6=C|79' for input: 'C1C[CH-]2[CH-]3CC[CH-]4[CH-]1[Rh]234|5|6|7|8|[CH-]9C|8=C|5C|6=C|79'\n",
      "[23:44:53] SMILES Parse Error: syntax error while parsing: C1C[CH-]2[CH-]3CC[CH-]4[CH-]1[Rh]234|5|6|7|8|[CH-]9C|8=C|5C|6=C|79\n",
      "[23:44:53] SMILES Parse Error: Failed parsing SMILES 'C1C[CH-]2[CH-]3CC[CH-]4[CH-]1[Rh]234|5|6|7|8|[CH-]9C|8=C|5C|6=C|79' for input: 'C1C[CH-]2[CH-]3CC[CH-]4[CH-]1[Rh]234|5|6|7|8|[CH-]9C|8=C|5C|6=C|79'\n",
      " 48%|████▊     | 169503/350618 [00:42<00:51, 3526.90it/s][23:44:53] SMILES Parse Error: syntax error while parsing: [CH-]1|2C|3=C|4C|5=C1|[Co]6789|2|3|4|5[CH-]%10B([CH-]6[CH-]7[CH-]8[CH-]9%10)c%11ccccc%11\n",
      "[23:44:53] SMILES Parse Error: Failed parsing SMILES '[CH-]1|2C|3=C|4C|5=C1|[Co]6789|2|3|4|5[CH-]%10B([CH-]6[CH-]7[CH-]8[CH-]9%10)c%11ccccc%11' for input: '[CH-]1|2C|3=C|4C|5=C1|[Co]6789|2|3|4|5[CH-]%10B([CH-]6[CH-]7[CH-]8[CH-]9%10)c%11ccccc%11'\n",
      "[23:44:53] SMILES Parse Error: syntax error while parsing: [CH-]1|2C|3=C|4C|5=C1|[Co]6789|2|3|4|5[CH-]%10B([CH-]6[CH-]7[CH-]8[CH-]9%10)c%11ccccc%11\n",
      "[23:44:53] SMILES Parse Error: Failed parsing SMILES '[CH-]1|2C|3=C|4C|5=C1|[Co]6789|2|3|4|5[CH-]%10B([CH-]6[CH-]7[CH-]8[CH-]9%10)c%11ccccc%11' for input: '[CH-]1|2C|3=C|4C|5=C1|[Co]6789|2|3|4|5[CH-]%10B([CH-]6[CH-]7[CH-]8[CH-]9%10)c%11ccccc%11'\n",
      " 49%|████▉     | 172357/350618 [00:42<00:52, 3425.24it/s][23:44:54] Explicit valence for atom # 12 O, 4, is greater than permitted\n",
      " 57%|█████▋    | 201167/350618 [00:51<00:43, 3398.58it/s][23:45:02] Explicit valence for atom # 0 O, 4, is greater than permitted\n",
      " 60%|█████▉    | 209559/350618 [00:54<00:45, 3098.70it/s][23:45:05] SMILES Parse Error: syntax error while parsing: [Br]|[Sn](|[Br])(C)C\n",
      "[23:45:05] SMILES Parse Error: Failed parsing SMILES '[Br]|[Sn](|[Br])(C)C' for input: '[Br]|[Sn](|[Br])(C)C'\n",
      " 61%|██████▏   | 215038/350618 [00:55<00:43, 3134.43it/s][23:45:07] Explicit valence for atom # 0 O, 4, is greater than permitted\n",
      " 62%|██████▏   | 218688/350618 [00:56<00:42, 3106.60it/s][23:45:08] SMILES Parse Error: syntax error while parsing: [Zn++](|[S-]c1cccc[n+]1[O-])|[S-]c2cccc[n+]2[O-]\n",
      "[23:45:08] SMILES Parse Error: Failed parsing SMILES '[Zn++](|[S-]c1cccc[n+]1[O-])|[S-]c2cccc[n+]2[O-]' for input: '[Zn++](|[S-]c1cccc[n+]1[O-])|[S-]c2cccc[n+]2[O-]'\n",
      " 63%|██████▎   | 221083/350618 [00:57<00:40, 3190.91it/s][23:45:09] Explicit valence for atom # 7 Br, 3, is greater than permitted\n",
      "[23:45:09] Explicit valence for atom # 8 Br, 3, is greater than permitted\n",
      "[23:45:09] ERROR: Explicit valence for atom # 8 Br, 3, is greater than permitted\n",
      "\n",
      "[23:45:09] Explicit valence for atom # 7 Br, 3, is greater than permitted\n",
      " 64%|██████▍   | 224924/350618 [00:58<00:41, 3048.64it/s][23:45:10] SMILES Parse Error: syntax error while parsing: [Cu](|O=C(CC(C)=O)OCC)|O=C(CC(C)=O)OCC\n",
      "[23:45:10] SMILES Parse Error: Failed parsing SMILES '[Cu](|O=C(CC(C)=O)OCC)|O=C(CC(C)=O)OCC' for input: '[Cu](|O=C(CC(C)=O)OCC)|O=C(CC(C)=O)OCC'\n",
      " 65%|██████▍   | 227191/350618 [00:59<00:41, 2994.18it/s][23:45:11] Explicit valence for atom # 8 Br, 5, is greater than permitted\n",
      "[23:45:11] Explicit valence for atom # 6 Br, 5, is greater than permitted\n",
      "[23:45:11] ERROR: Explicit valence for atom # 6 Br, 5, is greater than permitted\n",
      "\n",
      "[23:45:11] Explicit valence for atom # 8 Br, 5, is greater than permitted\n",
      " 66%|██████▌   | 230497/350618 [01:00<00:38, 3154.29it/s][23:45:12] SMILES Parse Error: syntax error while parsing: C[C-]1|2C|3(=C|4(C)C|5(=C1(C)|[Mn]6789|2|3|4|5[C-]%10(C)[C-]6(C)[C-]7(C)[C-]8(C)[C-]9%10C)C)C\n",
      "[23:45:12] SMILES Parse Error: Failed parsing SMILES 'C[C-]1|2C|3(=C|4(C)C|5(=C1(C)|[Mn]6789|2|3|4|5[C-]%10(C)[C-]6(C)[C-]7(C)[C-]8(C)[C-]9%10C)C)C' for input: 'C[C-]1|2C|3(=C|4(C)C|5(=C1(C)|[Mn]6789|2|3|4|5[C-]%10(C)[C-]6(C)[C-]7(C)[C-]8(C)[C-]9%10C)C)C'\n",
      " 66%|██████▌   | 231880/350618 [01:01<00:37, 3157.82it/s][23:45:12] SMILES Parse Error: syntax error while parsing: C[C-]1|2C|3(=C|4(C)C|5(=C1(C)|[Fe]6789|2|3|4|5[C-]%10(C)[C-]6(C)[C-]7(C)[C-]8(C)[C-]9%10C)C)C\n",
      "[23:45:12] SMILES Parse Error: Failed parsing SMILES 'C[C-]1|2C|3(=C|4(C)C|5(=C1(C)|[Fe]6789|2|3|4|5[C-]%10(C)[C-]6(C)[C-]7(C)[C-]8(C)[C-]9%10C)C)C' for input: 'C[C-]1|2C|3(=C|4(C)C|5(=C1(C)|[Fe]6789|2|3|4|5[C-]%10(C)[C-]6(C)[C-]7(C)[C-]8(C)[C-]9%10C)C)C'\n",
      " 71%|███████▏  | 250185/350618 [01:06<00:32, 3083.75it/s][23:45:18] SMILES Parse Error: syntax error while parsing: [Rh]|OC(=C\\C(=O)C(C)(C)C)/C(C)(C)C.C=C.C=C\n",
      "[23:45:18] SMILES Parse Error: Failed parsing SMILES '[Rh]|OC(=C\\C(=O)C(C)(C)C)/C(C)(C)C.C=C.C=C' for input: '[Rh]|OC(=C\\C(=O)C(C)(C)C)/C(C)(C)C.C=C.C=C'\n",
      " 72%|███████▏  | 251420/350618 [01:07<00:33, 3000.18it/s][23:45:18] SMILES Parse Error: syntax error while parsing: O=[CH-]1[Co]2|[Co++]1[CH-]2=O.[C-]#[O+].[C-]#[O+].[C-]#[O+].[C-]#[O+].[C-]#[O+].[C-]#[O+]\n",
      "[23:45:18] SMILES Parse Error: Failed parsing SMILES 'O=[CH-]1[Co]2|[Co++]1[CH-]2=O.[C-]#[O+].[C-]#[O+].[C-]#[O+].[C-]#[O+].[C-]#[O+].[C-]#[O+]' for input: 'O=[CH-]1[Co]2|[Co++]1[CH-]2=O.[C-]#[O+].[C-]#[O+].[C-]#[O+].[C-]#[O+].[C-]#[O+].[C-]#[O+]'\n",
      "[23:45:18] SMILES Parse Error: syntax error while parsing: O=[CH-]1[Co]2|[Co++]1[CH-]2=O.[C-]#[O+].[C-]#[O+].[C-]#[O+].[C-]#[O+].[C-]#[O+].[C-]#[O+]\n",
      "[23:45:18] SMILES Parse Error: Failed parsing SMILES 'O=[CH-]1[Co]2|[Co++]1[CH-]2=O.[C-]#[O+].[C-]#[O+].[C-]#[O+].[C-]#[O+].[C-]#[O+].[C-]#[O+]' for input: 'O=[CH-]1[Co]2|[Co++]1[CH-]2=O.[C-]#[O+].[C-]#[O+].[C-]#[O+].[C-]#[O+].[C-]#[O+].[C-]#[O+]'\n",
      " 73%|███████▎  | 254669/350618 [01:08<00:30, 3197.33it/s][23:45:19] Explicit valence for atom # 0 O, 4, is greater than permitted\n",
      " 77%|███████▋  | 269051/350618 [01:13<00:26, 3136.70it/s][23:45:24] SMILES Parse Error: syntax error while parsing: [O+]#[C-][W]|1|2|3|4|5(|[C]6=[C]|1[C]|2=[C]|3[C]|4=[C]|5C6)([C-]#[O+])[C-]#[O+]\n",
      "[23:45:24] SMILES Parse Error: Failed parsing SMILES '[O+]#[C-][W]|1|2|3|4|5(|[C]6=[C]|1[C]|2=[C]|3[C]|4=[C]|5C6)([C-]#[O+])[C-]#[O+]' for input: '[O+]#[C-][W]|1|2|3|4|5(|[C]6=[C]|1[C]|2=[C]|3[C]|4=[C]|5C6)([C-]#[O+])[C-]#[O+]'\n",
      "[23:45:24] SMILES Parse Error: syntax error while parsing: [CH2-]1[CH-]2[CH2-][Mo]|34567[CH2-][CH-]8[CH2-][Mo]12|38([CH2-][CH-]4[CH2-]5)[CH2-][CH-]6[CH2-]7\n",
      "[23:45:24] SMILES Parse Error: Failed parsing SMILES '[CH2-]1[CH-]2[CH2-][Mo]|34567[CH2-][CH-]8[CH2-][Mo]12|38([CH2-][CH-]4[CH2-]5)[CH2-][CH-]6[CH2-]7' for input: '[CH2-]1[CH-]2[CH2-][Mo]|34567[CH2-][CH-]8[CH2-][Mo]12|38([CH2-][CH-]4[CH2-]5)[CH2-][CH-]6[CH2-]7'\n",
      " 84%|████████▎ | 293237/350618 [01:21<00:19, 2904.88it/s][23:45:32] SMILES Parse Error: syntax error while parsing: [O+]#[C-][W]|1|2|3(|[C]4=[C]|1C5CC4[C]|2=[C]|35)([C-]#[O+])([C-]#[O+])[C-]#[O+]\n",
      "[23:45:32] SMILES Parse Error: Failed parsing SMILES '[O+]#[C-][W]|1|2|3(|[C]4=[C]|1C5CC4[C]|2=[C]|35)([C-]#[O+])([C-]#[O+])[C-]#[O+]' for input: '[O+]#[C-][W]|1|2|3(|[C]4=[C]|1C5CC4[C]|2=[C]|35)([C-]#[O+])([C-]#[O+])[C-]#[O+]'\n",
      " 84%|████████▍ | 295721/350618 [01:22<00:19, 2791.33it/s][23:45:33] Explicit valence for atom # 18 Br, 3, is greater than permitted\n",
      "[23:45:33] Explicit valence for atom # 17 Br, 3, is greater than permitted\n",
      "[23:45:33] ERROR: Explicit valence for atom # 17 Br, 3, is greater than permitted\n",
      "\n",
      "[23:45:33] Explicit valence for atom # 18 Br, 3, is greater than permitted\n",
      " 85%|████████▍ | 296887/350618 [01:22<00:18, 2829.71it/s][23:45:34] SMILES Parse Error: syntax error while parsing: CC1=N|2CCN|3=C(C)C=C(O[Cu]|2|3OC(=C1)C(F)(F)F)C(F)(F)F\n",
      "[23:45:34] SMILES Parse Error: Failed parsing SMILES 'CC1=N|2CCN|3=C(C)C=C(O[Cu]|2|3OC(=C1)C(F)(F)F)C(F)(F)F' for input: 'CC1=N|2CCN|3=C(C)C=C(O[Cu]|2|3OC(=C1)C(F)(F)F)C(F)(F)F'\n",
      " 85%|████████▌ | 298969/350618 [01:23<00:17, 2884.00it/s][23:45:34] SMILES Parse Error: syntax error while parsing: C1COCCCN|2=Cc3ccccc3O[Ni]|4|2Oc5ccccc5C=N|4C1\n",
      "[23:45:34] SMILES Parse Error: Failed parsing SMILES 'C1COCCCN|2=Cc3ccccc3O[Ni]|4|2Oc5ccccc5C=N|4C1' for input: 'C1COCCCN|2=Cc3ccccc3O[Ni]|4|2Oc5ccccc5C=N|4C1'\n",
      " 98%|█████████▊| 342767/350618 [01:39<00:03, 2389.69it/s][23:45:50] SMILES Parse Error: syntax error while parsing: [Ni]|1|2(|[S-]C(=C([S-]|1)c3ccccc3)c4ccccc4)|[S-]C(=C([S-]|2)c5ccccc5)c6ccccc6\n",
      "[23:45:50] SMILES Parse Error: Failed parsing SMILES '[Ni]|1|2(|[S-]C(=C([S-]|1)c3ccccc3)c4ccccc4)|[S-]C(=C([S-]|2)c5ccccc5)c6ccccc6' for input: '[Ni]|1|2(|[S-]C(=C([S-]|1)c3ccccc3)c4ccccc4)|[S-]C(=C([S-]|2)c5ccccc5)c6ccccc6'\n",
      "[23:45:50] SMILES Parse Error: syntax error while parsing: [Ni]|1|2(|[S-]C(=C([S-]|1)c3ccccc3)c4ccccc4)|[S-]C(=C([S-]|2)c5ccccc5)c6ccccc6\n",
      "[23:45:50] SMILES Parse Error: Failed parsing SMILES '[Ni]|1|2(|[S-]C(=C([S-]|1)c3ccccc3)c4ccccc4)|[S-]C(=C([S-]|2)c5ccccc5)c6ccccc6' for input: '[Ni]|1|2(|[S-]C(=C([S-]|1)c3ccccc3)c4ccccc4)|[S-]C(=C([S-]|2)c5ccccc5)c6ccccc6'\n",
      "[23:45:50] SMILES Parse Error: syntax error while parsing: [Ni]|1|2(|[S-]C(=C([S-]|1)c3ccccc3)c4ccccc4)|[S-]C(=C([S-]|2)c5ccccc5)c6ccccc6\n",
      "[23:45:50] SMILES Parse Error: Failed parsing SMILES '[Ni]|1|2(|[S-]C(=C([S-]|1)c3ccccc3)c4ccccc4)|[S-]C(=C([S-]|2)c5ccccc5)c6ccccc6' for input: '[Ni]|1|2(|[S-]C(=C([S-]|1)c3ccccc3)c4ccccc4)|[S-]C(=C([S-]|2)c5ccccc5)c6ccccc6'\n",
      "100%|██████████| 350618/350618 [01:42<00:00, 3405.02it/s]\n"
     ]
    },
    {
     "name": "stdout",
     "output_type": "stream",
     "text": [
      "Number of smiles changed: 239154\n",
      "Missing smiles identifier in 0 cases\n"
     ]
    }
   ],
   "source": [
    "# Define constants for dataset \n",
    "\n",
    "TRAIN_RATIO = 0.8\n",
    "VALID_RATIO = 0.1\n",
    "TEST_RATIO = 0.1\n",
    "\n",
    "TRAIN_INDEX = 0\n",
    "VALID_INDEX = 1\n",
    "TEST_INDEX = 2\n",
    "\n",
    "updated_dataset = refill_information(nist_dataset)\n",
    "nist_dict = unique_mapping(updated_dataset)\n",
    "DATASET_LENGTH = len(nist_dict)"
   ]
  },
  {
   "cell_type": "code",
   "execution_count": null,
   "id": "2ec45460",
   "metadata": {},
   "outputs": [],
   "source": [
    "indices = generate_index(nist_dict, TRAIN_RATIO, VALID_RATIO, TEST_RATIO)\n",
    "train, valid, test = generate_train_test_dataset(nist_dict, indices)"
   ]
  },
  {
   "cell_type": "markdown",
   "id": "60dab700",
   "metadata": {},
   "source": [
    "The code is commented on to avoid unintentional rewriting of the created dataset."
   ]
  },
  {
   "cell_type": "code",
   "execution_count": null,
   "id": "f12e0133",
   "metadata": {},
   "outputs": [],
   "source": [
    "save_dataset(train, \"../../data/datasets/NIST/NIST_split_filip\", \"train\")\n",
    "save_dataset(test, \"../../data/datasets/NIST/NIST_split_filip\", \"test\")\n",
    "save_dataset(valid, \"../../data/datasets/NIST/NIST_split_filip\", \"valid\")"
   ]
  },
  {
   "cell_type": "code",
   "execution_count": null,
   "id": "9224d5af",
   "metadata": {},
   "outputs": [],
   "source": [
    "all_data, no_smiles, no_inchikey, no_inchi, no_smile_only, no_inchikey_only,\\\n",
    "            both_missing_counter, all_identifier_missing = count_all(updated_dataset)\n",
    "\n",
    "inchikey, inchi, smiles, formulas = get_all_identifiers(updated_dataset)"
   ]
  },
  {
   "cell_type": "code",
   "execution_count": null,
   "id": "2eae4c62",
   "metadata": {},
   "outputs": [
    {
     "name": "stdout",
     "output_type": "stream",
     "text": [
      "Number of new unique smiles is 243305\n"
     ]
    }
   ],
   "source": [
    "print(f\"Number of new unique smiles is {len(set(smiles))}\")"
   ]
  },
  {
   "cell_type": "code",
   "execution_count": null,
   "id": "c133ee87",
   "metadata": {},
   "outputs": [
    {
     "data": {
      "text/html": [
       "<div>\n",
       "<style scoped>\n",
       "    .dataframe tbody tr th:only-of-type {\n",
       "        vertical-align: middle;\n",
       "    }\n",
       "\n",
       "    .dataframe tbody tr th {\n",
       "        vertical-align: top;\n",
       "    }\n",
       "\n",
       "    .dataframe thead th {\n",
       "        text-align: right;\n",
       "    }\n",
       "</style>\n",
       "<table border=\"1\" class=\"dataframe\">\n",
       "  <thead>\n",
       "    <tr style=\"text-align: right;\">\n",
       "      <th></th>\n",
       "      <th>Count</th>\n",
       "      <th>average</th>\n",
       "      <th>Update count</th>\n",
       "      <th>Update average</th>\n",
       "    </tr>\n",
       "  </thead>\n",
       "  <tbody>\n",
       "    <tr>\n",
       "      <th>All data</th>\n",
       "      <td>350618</td>\n",
       "      <td>1.000000</td>\n",
       "      <td>290297</td>\n",
       "      <td>1.000000</td>\n",
       "    </tr>\n",
       "    <tr>\n",
       "      <th>No smiles</th>\n",
       "      <td>60494</td>\n",
       "      <td>0.172535</td>\n",
       "      <td>0</td>\n",
       "      <td>0.000000</td>\n",
       "    </tr>\n",
       "    <tr>\n",
       "      <th>No inchikey</th>\n",
       "      <td>60163</td>\n",
       "      <td>0.171591</td>\n",
       "      <td>1</td>\n",
       "      <td>0.000003</td>\n",
       "    </tr>\n",
       "    <tr>\n",
       "      <th>No inchi</th>\n",
       "      <td>60757</td>\n",
       "      <td>0.173285</td>\n",
       "      <td>446</td>\n",
       "      <td>0.001536</td>\n",
       "    </tr>\n",
       "    <tr>\n",
       "      <th>Smiles Only Missing</th>\n",
       "      <td>191</td>\n",
       "      <td>0.000545</td>\n",
       "      <td>0</td>\n",
       "      <td>0.000000</td>\n",
       "    </tr>\n",
       "    <tr>\n",
       "      <th>Inchi Only Missing</th>\n",
       "      <td>454</td>\n",
       "      <td>0.001295</td>\n",
       "      <td>446</td>\n",
       "      <td>0.001536</td>\n",
       "    </tr>\n",
       "    <tr>\n",
       "      <th>Both Missing</th>\n",
       "      <td>334</td>\n",
       "      <td>0.000953</td>\n",
       "      <td>0</td>\n",
       "      <td>0.000000</td>\n",
       "    </tr>\n",
       "    <tr>\n",
       "      <th>All tree missing</th>\n",
       "      <td>60160</td>\n",
       "      <td>0.171583</td>\n",
       "      <td>0</td>\n",
       "      <td>0.000000</td>\n",
       "    </tr>\n",
       "  </tbody>\n",
       "</table>\n",
       "</div>"
      ],
      "text/plain": [
       "                      Count   average  Update count  Update average\n",
       "All data             350618  1.000000        290297        1.000000\n",
       "No smiles             60494  0.172535             0        0.000000\n",
       "No inchikey           60163  0.171591             1        0.000003\n",
       "No inchi              60757  0.173285           446        0.001536\n",
       "Smiles Only Missing     191  0.000545             0        0.000000\n",
       "Inchi Only Missing      454  0.001295           446        0.001536\n",
       "Both Missing            334  0.000953             0        0.000000\n",
       "All tree missing      60160  0.171583             0        0.000000"
      ]
     },
     "execution_count": 125,
     "metadata": {},
     "output_type": "execute_result"
    }
   ],
   "source": [
    "missing_df[\"Update count\"] = [all_data, no_smiles, no_inchikey, no_inchi, no_smile_only, no_inchikey_only,\\\n",
    "            both_missing_counter, all_identifier_missing]\n",
    "\n",
    "missing_df[\"Update average\"] = missing_df.apply(lambda row: row[\"Update count\"] / all_data, axis = 1)\n",
    "\n",
    "missing_df"
   ]
  },
  {
   "cell_type": "code",
   "execution_count": 126,
   "id": "9111594b",
   "metadata": {},
   "outputs": [
    {
     "data": {
      "text/plain": [
       "(232025, 29053, 29218)"
      ]
     },
     "execution_count": 126,
     "metadata": {},
     "output_type": "execute_result"
    }
   ],
   "source": [
    "# no overlap test (by Adam)\n",
    "len(train), len(valid), len(test)"
   ]
  },
  {
   "cell_type": "markdown",
   "id": "0027e542",
   "metadata": {},
   "source": [
    "Here we can see final count of instances we are working with. We were able to achieve increase of smiles, the number is 189, next we were able to restore corrupted smiles. In other cases we had to drop intances. The number of unique smiles is 243722."
   ]
  },
  {
   "cell_type": "markdown",
   "id": "8ca98efd",
   "metadata": {},
   "source": [
    "Difference between two spectra of the same SMILES."
   ]
  },
  {
   "cell_type": "code",
   "execution_count": 31,
   "id": "722c5bfe",
   "metadata": {},
   "outputs": [
    {
     "data": {
      "text/plain": [
       "(<Figure size 1600x1200 with 1 Axes>,\n",
       " <AxesSubplot:title={'center':'Spectrum comparison'}, xlabel='m/z', ylabel='Intensity'>)"
      ]
     },
     "execution_count": 31,
     "metadata": {},
     "output_type": "execute_result"
    },
    {
     "data": {
      "image/png": "[encoded data removed]",
      "text/plain": [
       "<Figure size 1600x1200 with 1 Axes>"
      ]
     },
     "metadata": {
      "needs_background": "light"
     },
     "output_type": "display_data"
    }
   ],
   "source": [
    "nist_dict[\"CN1CCCC1C2=CN=CC=C2\"][0].plot_against(nist_dict[\"CN1CCCC1C2=CN=CC=C2\"][3])"
   ]
  },
  {
   "cell_type": "code",
   "execution_count": 27,
   "id": "0bf1b825",
   "metadata": {},
   "outputs": [],
   "source": [
    "abundance = sorted(nist_dict.items(), key=lambda x:len(x[1]), reverse=True)"
   ]
  },
  {
   "cell_type": "markdown",
   "id": "b1903122",
   "metadata": {},
   "source": [
    "Here we can see the counts of duplicities in the spectrum dataset."
   ]
  },
  {
   "cell_type": "code",
   "execution_count": 28,
   "id": "6f43d58b",
   "metadata": {},
   "outputs": [
    {
     "name": "stdout",
     "output_type": "stream",
     "text": [
      "Molecule CC1CCC(C(C1)O)C(C)C has 24 unique spectras in our dataset\n",
      "Molecule CC(C(C1=CC=CC=C1)O)N has 19 unique spectras in our dataset\n",
      "Molecule C1(C(C(C(C(C1Cl)Cl)Cl)Cl)Cl)Cl has 19 unique spectras in our dataset\n",
      "Molecule CC1CCC(C(=O)C1)C(C)C has 18 unique spectras in our dataset\n",
      "Molecule CC(=O)OC1CC2CCC1(C2(C)C)C has 17 unique spectras in our dataset\n",
      "Molecule CC(C)CCCC(C)C1CCC2C1(CCC3C2CCC4C3(CCC(C4)O)C)C has 17 unique spectras in our dataset\n",
      "Molecule CC12CCC(CC1CCC3C2CCC4(C3CCC4=O)C)O has 16 unique spectras in our dataset\n",
      "Molecule CC1(C2CCC1(C(C2)O)C)C has 15 unique spectras in our dataset\n",
      "Molecule CC1CCC2C1C3C(C3(C)C)CCC2(C)O has 15 unique spectras in our dataset\n",
      "Molecule C1CC2CC1CC2O has 14 unique spectras in our dataset\n",
      "Molecule COC1=CC2=C(C=CN=C2C=C1)C(C3CC4CCN3CC4C=C)O has 14 unique spectras in our dataset\n",
      "Molecule CCC=CCCO has 13 unique spectras in our dataset\n",
      "Molecule CC(=CCCC(=CC=O)C)C has 13 unique spectras in our dataset\n",
      "Molecule CC1(C2CCC1(C(=O)C2)C)C has 13 unique spectras in our dataset\n",
      "Molecule C1CC=CCCC=CCCC=C1 has 13 unique spectras in our dataset\n",
      "Molecule CC(=CCCC(=CCCC(=O)C)C)C has 13 unique spectras in our dataset\n",
      "Molecule CC1CCC(C(C1)OC(=O)C)C(C)C has 13 unique spectras in our dataset\n",
      "Molecule CC12CCCC1C3CCC4CCCCC4(C3CC2)C has 13 unique spectras in our dataset\n",
      "Molecule CC12CCC(=O)CC1CCC3C2CCC4(C3CCC4=O)C has 13 unique spectras in our dataset\n",
      "Molecule CC12CCC(CC1CCC3C2CCC4(C3CCC4O)C)O has 13 unique spectras in our dataset\n"
     ]
    }
   ],
   "source": [
    "for i in range(20):\n",
    "    print(f\"Molecule {abundance[i][0]} has {len(abundance[i][1])} unique spectras in our dataset\")"
   ]
  },
  {
   "cell_type": "code",
   "execution_count": null,
   "id": "d912bb99",
   "metadata": {},
   "outputs": [],
   "source": []
  }
 ],
 "metadata": {
  "kernelspec": {
   "display_name": "Python 3 (ipykernel)",
   "language": "python",
   "name": "python3"
  },
  "language_info": {
   "codemirror_mode": {
    "name": "ipython",
    "version": 3
   },
   "file_extension": ".py",
   "mimetype": "text/x-python",
   "name": "python",
   "nbconvert_exporter": "python",
   "pygments_lexer": "ipython3",
   "version": "3.8.16"
  }
 },
 "nbformat": 4,
 "nbformat_minor": 5
}
