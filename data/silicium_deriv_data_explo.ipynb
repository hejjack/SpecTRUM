{
 "cells": [
  {
   "cell_type": "markdown",
   "id": "middle-complaint",
   "metadata": {},
   "source": [
    "# Silicium data exploration"
   ]
  },
  {
   "cell_type": "code",
   "execution_count": 16,
   "id": "controlled-promise",
   "metadata": {},
   "outputs": [],
   "source": [
    "import pickle\n",
    "import os, sys, inspect\n",
    "currentdir = os.path.dirname(os.path.abspath(inspect.getfile(inspect.currentframe())))\n",
    "parentdir = os.path.dirname(currentdir)\n",
    "sys.path.insert(0,parentdir)\n",
    "\n",
    "from dataset import SpectroDataset, SpectroDataCollator\n"
   ]
  },
  {
   "cell_type": "code",
   "execution_count": 7,
   "id": "strong-concentration",
   "metadata": {},
   "outputs": [],
   "source": [
    "data_type = \"8M\"\n",
    "tokenizer_type = \"_bbpe_1M\" # \"\"\n",
    "\n",
    "test_data_path = f'trial_set/{data_type}{tokenizer_type}_bart_prepared_data_test.pkl'\n",
    "train_data_path = f'./trial_set/{data_type}{tokenizer_type}_bart_prepared_data_train.pkl'\n",
    "\n",
    "train_data = SpectroDataset(train_data_path, original=False, eval_mode=False)"
   ]
  },
  {
   "cell_type": "code",
   "execution_count": 9,
   "id": "educated-opposition",
   "metadata": {},
   "outputs": [],
   "source": [
    "# token number of Si is 1068\n",
    "num_of_si = 0\n",
    "for labels in train_data.data.labels:\n",
    "    if 1068 in labels:\n",
    "        num_of_si += 1"
   ]
  },
  {
   "cell_type": "code",
   "execution_count": 10,
   "id": "martial-capacity",
   "metadata": {},
   "outputs": [
    {
     "data": {
      "text/plain": [
       "1607"
      ]
     },
     "execution_count": 10,
     "metadata": {},
     "output_type": "execute_result"
    }
   ],
   "source": [
    "num_of_si # 8M: 1607, 2M_derivatized: 149149"
   ]
  },
  {
   "cell_type": "code",
   "execution_count": 6,
   "id": "urban-peripheral",
   "metadata": {},
   "outputs": [
    {
     "data": {
      "text/plain": [
       "4641078"
      ]
     },
     "execution_count": 6,
     "metadata": {},
     "output_type": "execute_result"
    }
   ],
   "source": [
    "len(train_data.data)"
   ]
  },
  {
   "cell_type": "markdown",
   "id": "prime-england",
   "metadata": {},
   "source": [
    "# Derivatization data exploration\n",
    "### => more clever"
   ]
  },
  {
   "cell_type": "code",
   "execution_count": 6,
   "id": "activated-boost",
   "metadata": {},
   "outputs": [],
   "source": [
    "from rdkit import Chem\n",
    "import numpy as np"
   ]
  },
  {
   "cell_type": "code",
   "execution_count": 7,
   "id": "through-exposure",
   "metadata": {},
   "outputs": [],
   "source": [
    "def is_derivatized(mol=None,smiles=None):\n",
    "    if mol is None:\n",
    "        mol = Chem.MolFromSmiles(smiles)\n",
    "    mol = Chem.AddHs(mol)\n",
    "\n",
    "    return mol.HasSubstructMatch(tms_match) or mol.HasSubstructMatch(meox_match_co) or mol.HasSubstructMatch(meox_match_cho)"
   ]
  },
  {
   "cell_type": "code",
   "execution_count": 8,
   "id": "curious-claim",
   "metadata": {},
   "outputs": [],
   "source": [
    "# deriv mol pieces\n",
    "tms = '[Si]([CH3])([CH3])[CH3]'\n",
    "tms_match = Chem.MolFromSmarts('*~[O,N,S]' + tms)\n",
    "tms_match0 = Chem.MolFromSmarts('[#0]([CH3])([CH3])[CH3]')\n",
    "meox_match_co = Chem.MolFromSmarts('C([C,c])([C,c])=NO[CH3]')\n",
    "meox_match_cho = Chem.MolFromSmarts('[CH]([C,c])=NO[CH3]')\n",
    "meox_match0 = Chem.MolFromSmarts('[#0]=NO[CH3]')\n",
    "co = Chem.MolFromSmiles('C=O')"
   ]
  },
  {
   "cell_type": "code",
   "execution_count": 9,
   "id": "fundamental-foster",
   "metadata": {},
   "outputs": [],
   "source": [
    "# load SMILES from .txt to ndarray\n",
    "smiles_path = \"../../NEIMS/training_splits/test_set_smiles.txt\"\n",
    "neims_test_smiles = np.array([])\n",
    "with open(smiles_path, \"r\") as f:\n",
    "    for line in f:\n",
    "        neims_test_smiles = np.append(neims_test_smiles, line.strip())"
   ]
  },
  {
   "cell_type": "code",
   "execution_count": 6,
   "id": "strategic-replacement",
   "metadata": {},
   "outputs": [
    {
     "name": "stderr",
     "output_type": "stream",
     "text": [
      "[17:15:00] Conflicting single bond directions around double bond at index 1.\n",
      "[17:15:00]   BondStereo set to STEREONONE and single bond directions set to NONE.\n",
      "[17:15:02] Conflicting single bond directions around double bond at index 4.\n",
      "[17:15:02]   BondStereo set to STEREONONE and single bond directions set to NONE.\n"
     ]
    }
   ],
   "source": [
    "# distinguish derivatized mols\n",
    "isder_array = np.array([])\n",
    "for smiles in neims_test_smiles:\n",
    "    isder_array = np.append(isder_array, is_derivatized(smiles=smiles))\n",
    "    "
   ]
  },
  {
   "cell_type": "code",
   "execution_count": 7,
   "id": "raising-extension",
   "metadata": {},
   "outputs": [],
   "source": [
    "# filter by isder_array\n",
    "only_deriv_smiles = neims_test_smiles[isder_array.astype(np.bool_)]\n",
    "only_nonderiv_smiles = neims_test_smiles[~isder_array.astype(np.bool_)]"
   ]
  },
  {
   "cell_type": "code",
   "execution_count": 11,
   "id": "chubby-shepherd",
   "metadata": {},
   "outputs": [
    {
     "name": "stdout",
     "output_type": "stream",
     "text": [
      "In total there is 531.0/11600 derivatized molecules\n",
      "In total there is 11069/11600 nonderivatized molecules\n"
     ]
    }
   ],
   "source": [
    "print(f\"In total there is {isder_array.sum()}/{isder_array.shape[0]} derivatized molecules\")\n",
    "print(f\"In total there is {only_nonderiv_smiles.shape[0]}/{isder_array.shape[0]} nonderivatized molecules\")"
   ]
  },
  {
   "cell_type": "code",
   "execution_count": 13,
   "id": "continent-subcommittee",
   "metadata": {},
   "outputs": [],
   "source": [
    "# write deriv smiels into new file\n",
    "# FOR BART PREPRO\n",
    "deriv_smiles_path = \"../../NEIMS/training_splits/test_set_smiles_deriv_forBARTprepro.smi\"\n",
    "nonderiv_smiles_path = \"../../NEIMS/training_splits/test_set_smiles_nonderiv_forBARTprepro.smi\"\n",
    "with open(deriv_smiles_path, \"w+\") as d, open(nonderiv_smiles_path, \"w+\") as n:\n",
    "    d.write(\"smiles zinc_id\\n\")\n",
    "    n.write(\"smiles zinc_id\\n\")\n",
    "    for s in only_deriv_smiles:\n",
    "        d.write(s + \" 0\\n\")\n",
    "    for s in only_nonderiv_smiles:\n",
    "        n.write(s + \" 0\\n\")\n",
    "\n",
    "# FOR NEIMS EXPLORATION\n",
    "deriv_smiles_path = \"../../NEIMS/training_splits/test_set_smiles_deriv.smi\"\n",
    "nonderiv_smiles_path = \"../../NEIMS/training_splits/test_set_smiles_nonderiv.smi\"\n",
    "with open(deriv_smiles_path, \"w+\") as d, open(nonderiv_smiles_path, \"w+\") as n:\n",
    "    for s in only_deriv_smiles:\n",
    "        d.write(s + \"\\n\")\n",
    "    for s in only_nonderiv_smiles:\n",
    "        n.write(s + \"\\n\")\n"
   ]
  },
  {
   "cell_type": "code",
   "execution_count": 40,
   "id": "phantom-interpretation",
   "metadata": {},
   "outputs": [
    {
     "name": "stderr",
     "output_type": "stream",
     "text": [
      "<ipython-input-40-b3b46df38e48>:1: DeprecationWarning: `np.float` is a deprecated alias for the builtin `float`. To silence this warning, use `float` by itself. Doing this will not modify any behavior and is safe. If you specifically wanted the numpy scalar type, use `np.float64` here.\n",
      "Deprecated in NumPy 1.20; for more details and guidance: https://numpy.org/devdocs/release/1.20.0-notes.html#deprecations\n",
      "  np.float\n"
     ]
    },
    {
     "data": {
      "text/plain": [
       "float"
      ]
     },
     "execution_count": 40,
     "metadata": {},
     "output_type": "execute_result"
    }
   ],
   "source": []
  },
  {
   "cell_type": "markdown",
   "id": "automated-mitchell",
   "metadata": {},
   "source": [
    "## NIST20 derivatization data exploration"
   ]
  },
  {
   "cell_type": "code",
   "execution_count": 31,
   "id": "endangered-transportation",
   "metadata": {},
   "outputs": [],
   "source": [
    "from matchms.importing import load_from_msp\n",
    "from tqdm import tqdm\n",
    "from matchms import Spectrum\n",
    "from matchms.exporting import save_as_msp\n"
   ]
  },
  {
   "cell_type": "code",
   "execution_count": 1,
   "id": "graphic-blues",
   "metadata": {},
   "outputs": [],
   "source": [
    "from rdkit import RDLogger \n",
    "RDLogger.DisableLog('rdApp.*') "
   ]
  },
  {
   "cell_type": "code",
   "execution_count": 5,
   "id": "leading-swimming",
   "metadata": {},
   "outputs": [
    {
     "name": "stdout",
     "output_type": "stream",
     "text": [
      "CPU times: user 2min 27s, sys: 2.01 s, total: 2min 29s\n",
      "Wall time: 2min 29s\n"
     ]
    }
   ],
   "source": [
    "%%time\n",
    "# load NIST20\n",
    "nist_path = \"./NIST/NIST_20/20210925_NIST_EI_MS_cleaned.msp\"\n",
    "nist = [*load_from_msp(nist_path, metadata_harmonization=False)]"
   ]
  },
  {
   "cell_type": "code",
   "execution_count": 37,
   "id": "spectacular-omaha",
   "metadata": {},
   "outputs": [
    {
     "name": "stderr",
     "output_type": "stream",
     "text": [
      "100%|██████████| 350618/350618 [02:14<00:00, 2611.94it/s]\n"
     ]
    }
   ],
   "source": [
    "# filter datapoints with no smiles or inchikey (60163 out)\n",
    "# AND CANONIZE THE SMILES\n",
    "clean_deriv_nist = []\n",
    "for i in tqdm(range(len(nist))):\n",
    "    try: \n",
    "        nist[i].metadata[\"smiles\"]\n",
    "        nist[i].metadata[\"inchikey\"]\n",
    "    except:\n",
    "        continue\n",
    "        \n",
    "    meta = nist[i].metadata\n",
    "    isder = False\n",
    "    try:\n",
    "        can_smiles = Chem.MolToSmiles(Chem.MolFromSmiles(meta[\"smiles\"]),True)\n",
    "        isder = is_derivatized(smiles=can_smiles)\n",
    "    except:\n",
    "#         print(can_smiles)\n",
    "        pass\n",
    "    \n",
    "    if isder==True:\n",
    "        # canonize SMILES and update Spectrum\n",
    "        meta[\"canon_smiles\"] = can_smiles\n",
    "        s = Spectrum(mz=nist[i].mz, intensities=nist[i].intensities, metadata=meta, metadata_harmonization=False)\n",
    "        clean_deriv_nist.append(s)\n"
   ]
  },
  {
   "cell_type": "code",
   "execution_count": 34,
   "id": "pediatric-metadata",
   "metadata": {},
   "outputs": [],
   "source": [
    "# carefully, doesn't create new file, adds to existing one!!!!\n",
    "save_as_msp(spectrums=clean_deriv_nist, filename=\"./NIST/NIST_20deriv/NIST20deriv.msp\")"
   ]
  },
  {
   "cell_type": "code",
   "execution_count": 35,
   "id": "particular-elements",
   "metadata": {},
   "outputs": [],
   "source": [
    "# save inchikeys in separte file\n",
    "with open(\"./NIST/NIST_20deriv/NIST_20deriv_inchikeys.txt\", \"w+\") as f:\n",
    "    for s in clean_deriv_nist:\n",
    "        f.write(s.metadata[\"inchikey\"] + \"\\n\")"
   ]
  },
  {
   "cell_type": "code",
   "execution_count": 36,
   "id": "sensitive-fleet",
   "metadata": {},
   "outputs": [
    {
     "name": "stdout",
     "output_type": "stream",
     "text": [
      "in NIST database we have 8592 / 350618 derivatized molecules\n"
     ]
    }
   ],
   "source": [
    "# stats\n",
    "print(f\"in NIST database we have {len(clean_deriv_nist)} / {len(nist)} derivatized molecules\")\n",
    "\n"
   ]
  }
 ],
 "metadata": {
  "kernelspec": {
   "display_name": "Python 3",
   "language": "python",
   "name": "python3"
  },
  "language_info": {
   "codemirror_mode": {
    "name": "ipython",
    "version": 3
   },
   "file_extension": ".py",
   "mimetype": "text/x-python",
   "name": "python",
   "nbconvert_exporter": "python",
   "pygments_lexer": "ipython3",
   "version": "3.8.5"
  }
 },
 "nbformat": 4,
 "nbformat_minor": 5
}
