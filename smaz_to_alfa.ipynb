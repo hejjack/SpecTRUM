{
 "cells": [
  {
   "cell_type": "code",
   "execution_count": 40,
   "metadata": {},
   "outputs": [],
   "source": [
    "from tokenizers import Tokenizer\n",
    "import transformers\n",
    "from bart_spektro.modeling_bart_spektro import BartSpektroForConditionalGeneration\n",
    "from bart_spektro.configuration_bart_spektro import BartSpektroConfig\n",
    "from data_utils import SpectroDataCollator, SpectroDataset\n",
    "import torch\n",
    "from metrics import compute_cos_simils, SpectroMetrics\n",
    "from train_bart import build_tokenizer\n",
    "from pathlib import Path\n",
    "\n",
    "# autoreload\n",
    "%load_ext autoreload\n",
    "%autoreload 2"
   ]
  },
  {
   "cell_type": "code",
   "execution_count": 9,
   "metadata": {},
   "outputs": [],
   "source": [
    "def build_tokenizer(tokenizer_path: str) -> transformers.PreTrainedTokenizerFast:\n",
    "    bpe_tokenizer = Tokenizer.from_file(tokenizer_path)\n",
    "\n",
    "    tokenizer = transformers.PreTrainedTokenizerFast(tokenizer_object=bpe_tokenizer,\n",
    "                                        bos_token=\"<bos>\",\n",
    "                                        eos_token=\"<eos>\",\n",
    "                                        unk_token=\"<ukn>\",\n",
    "                                        pad_token=\"<pad>\",\n",
    "                                        is_split_into_words=False)\n",
    "    return tokenizer"
   ]
  },
  {
   "cell_type": "code",
   "execution_count": 10,
   "metadata": {},
   "outputs": [],
   "source": [
    "tokenizer_path = \"tokenizer/bbpe_tokenizer/bart_bbpe_1M_tokenizer.model\"\n",
    "bpe_tokenizer = Tokenizer.from_file(tokenizer_path)\n",
    "tokenizer = build_tokenizer(tokenizer_path)"
   ]
  },
  {
   "cell_type": "code",
   "execution_count": 4,
   "metadata": {},
   "outputs": [
    {
     "name": "stdout",
     "output_type": "stream",
     "text": [
      "[3, 1234, 224, 276, 11, 70, 20, 280, 11, 266, 20, 286, 12, 286, 11, 38, 289, 38, 12, 38, 12, 50, 0, 2, 2, 2, 2, 2, 2, 2, 2, 2, 2, 2, 2, 2, 2, 2, 2, 2, 2, 2, 2, 2]\n"
     ]
    }
   ],
   "source": [
    "a = tokenizer.encode(\"<bos><nist> CCC(c1ccc(cc1OC)OC(C)(C)C)O<eos><pad><pad><pad><pad><pad><pad><pad><pad><pad><pad><pad><pad><pad><pad><pad><pad><pad><pad><pad><pad><pad>\")\n",
    "print(a)"
   ]
  },
  {
   "cell_type": "code",
   "execution_count": 139,
   "metadata": {},
   "outputs": [
    {
     "data": {
      "text/plain": [
       "(' Clc1ccc(c(c1)Cl)c1ccc(cc1)OC(=O)c1sccc1S(=O)(=O)N(C)C',\n",
       " ' Cc1cc2c(c(=S)[nH]1)C(=O)OC2=Cc1ccc(Cl)c(Cl)c1')"
      ]
     },
     "execution_count": 139,
     "metadata": {},
     "output_type": "execute_result"
    }
   ],
   "source": [
    "pred_smiles = \"<bos><nist> Clc1ccc(c(c1)Cl)c1ccc(cc1)OC(=O)c1sccc1S(=O)(=O)N(C)C<eos><pad><pad><pad><pad><pad><pad><pad><pad><pad><pad><pad><pad><pad><pad><pad><pad><pad><pad><pad><pad><pad>\"\n",
    "gt_smiles = \"<nist> Cc1cc2c(c(=S)[nH]1)C(=O)OC2=Cc1ccc(Cl)c(Cl)c1<eos><eos><eos><eos><eos><eos><eos><eos><eos><eos><eos><eos><eos><eos><eos><eos><eos><eos><eos><eos><eos><eos><eos><eos><eos><eos><eos><eos><eos><eos><eos><eos><eos><eos><eos><eos><eos><eos><eos><eos><eos><eos><eos><eos><eos><eos><eos><eos><eos><eos><eos><eos><eos><eos><eos><eos><eos><eos><eos><eos><eos><eos><eos><eos><eos><eos><eos><eos><eos><eos><eos><eos><eos><eos><eos><eos><eos><eos><eos><eos><eos><eos><eos><eos><eos><eos><eos><eos><eos><eos><eos><eos><eos><eos><eos><eos><eos><eos><eos><eos><eos><eos><eos><eos><eos><eos><eos><eos><eos><eos><eos><eos><eos><eos><eos><eos><eos><eos><eos><eos><eos><eos><eos><eos><eos><eos><eos><eos><eos><eos><eos><eos><eos><eos><eos><eos><eos><eos><eos><eos><eos><eos><eos><eos><eos><eos><eos><eos><eos><eos><eos><eos><eos><eos><eos><eos><eos><eos><eos><eos><eos><eos><eos><eos><eos>\"\n",
    "\n",
    "pred_ids = tokenizer.encode(pred_smiles)\n",
    "gt_ids = tokenizer.encode(gt_smiles)\n",
    "pred_smiles, gt_smiles = tokenizer.decode(pred_ids, skip_special_tokens=True), tokenizer.decode(gt_ids, skip_special_tokens=True)\n",
    "pred_smiles, gt_smiles\n",
    "\n",
    "\n",
    "# pred_ids = torch.tensor(pred_ids).unsqueeze(0)\n",
    "# gt_ids = torch.tensor(gt_ids).unsqueeze(0)\n",
    "\n",
    "# pred_ids, gt_ids"
   ]
  },
  {
   "cell_type": "code",
   "execution_count": 134,
   "metadata": {},
   "outputs": [],
   "source": [
    "label_ids = [' CC1CCN(CC1N)Cc1ccns1)CC(C)C']\n",
    "pred_ids = [' CC1CCN(CC1N)Cc1ccns1)CC(C)C']"
   ]
  },
  {
   "cell_type": "code",
   "execution_count": 135,
   "metadata": {},
   "outputs": [
    {
     "name": "stderr",
     "output_type": "stream",
     "text": [
      "[22:20:13] SMILES Parse Error: extra close parentheses while parsing: CC1CCN(CC1N)Cc1ccns1)CC(C)C\n",
      "[22:20:13] SMILES Parse Error: Failed parsing SMILES ' CC1CCN(CC1N)Cc1ccns1)CC(C)C' for input: ' CC1CCN(CC1N)Cc1ccns1)CC(C)C'\n",
      "[22:20:13] SMILES Parse Error: extra close parentheses while parsing: CC1CCN(CC1N)Cc1ccns1)CC(C)C\n",
      "[22:20:13] SMILES Parse Error: Failed parsing SMILES ' CC1CCN(CC1N)Cc1ccns1)CC(C)C' for input: ' CC1CCN(CC1N)Cc1ccns1)CC(C)C'\n",
      "ic| pred: ' CC1CCN(CC1N)Cc1ccns1)CC(C)C'\n",
      "    true: ' CC1CCN(CC1N)Cc1ccns1)CC(C)C'\n"
     ]
    },
    {
     "data": {
      "text/plain": [
       "[0.0]"
      ]
     },
     "execution_count": 135,
     "metadata": {},
     "output_type": "execute_result"
    }
   ],
   "source": [
    "metric = SpectroMetrics(tokenizer)\n",
    "prediction = transformers.EvalPrediction(predictions=pred_ids, label_ids=gt_ids)\n",
    "compute_cos_simils(label_ids, pred_ids)\n",
    "# metric(prediction, )"
   ]
  },
  {
   "cell_type": "code",
   "execution_count": 147,
   "metadata": {},
   "outputs": [
    {
     "name": "stderr",
     "output_type": "stream",
     "text": [
      "[22:29:48] SMILES Parse Error: syntax error while parsing: <neims>\n",
      "[22:29:48] SMILES Parse Error: Failed parsing SMILES '<neims>' for input: '<neims>'\n",
      "ic| pred: ' Clc1ccc(c(c1)Cl)c1ccc(cc1)OC(=O)c1sccc1S(=O)(=O)N(C)C'\n",
      "    true: '<neims> Cc1cc2c(c(=S)[nH]1)C(=O)OC2=Cc1ccc(Cl)c(Cl)c1'\n"
     ]
    },
    {
     "data": {
      "text/plain": [
       "None"
      ]
     },
     "metadata": {},
     "output_type": "display_data"
    },
    {
     "data": {
      "text/plain": [
       "None"
      ]
     },
     "metadata": {},
     "output_type": "display_data"
    }
   ],
   "source": [
    "\n",
    "simil1 = \" Clc1ccc(c(c1)Cl)c1ccc(cc1)OC(=O)c1sccc1S(=O)(=O)N(C)C\"\n",
    "simil2 = \"Cc1cc2c(c(=S)[nH]1)C(=O)OC2=Cc1ccc(Cl)c(Cl)c1\"\n",
    "a,b,c = compute_cos_simils([simil1], [simil2], tokenizer)\n",
    "display(b[0])\n",
    "display(c[0])"
   ]
  },
  {
   "cell_type": "code",
   "execution_count": 143,
   "metadata": {},
   "outputs": [
    {
     "ename": "KeyboardInterrupt",
     "evalue": "",
     "output_type": "error",
     "traceback": [
      "\u001b[0;31m---------------------------------------------------------------------------\u001b[0m",
      "\u001b[0;31mKeyboardInterrupt\u001b[0m                         Traceback (most recent call last)",
      "Cell \u001b[0;32mIn[143], line 2\u001b[0m\n\u001b[1;32m      1\u001b[0m config \u001b[39m=\u001b[39m BartSpektroConfig(vocab_size\u001b[39m=\u001b[39m\u001b[39mlen\u001b[39m(tokenizer\u001b[39m.\u001b[39mget_vocab()), max_log_id\u001b[39m=\u001b[39m\u001b[39m9\u001b[39m)\n\u001b[0;32m----> 2\u001b[0m model \u001b[39m=\u001b[39m BartSpektroForConditionalGeneration(config)\n\u001b[1;32m      3\u001b[0m model\u001b[39m.\u001b[39mfrom_pretrained(\u001b[39m\"\u001b[39m\u001b[39mcheckpoints/bart_2023-04-07-18_27_23_30Mneims/checkpoint-1670000/\u001b[39m\u001b[39m\"\u001b[39m)\n\u001b[1;32m      4\u001b[0m \u001b[39mNone\u001b[39;00m\n",
      "File \u001b[0;32m~/gc-ms_bart/bart_spektro/modeling_bart_spektro.py:386\u001b[0m, in \u001b[0;36mBartSpektroForConditionalGeneration.__init__\u001b[0;34m(self, config)\u001b[0m\n\u001b[1;32m    384\u001b[0m \u001b[39mdef\u001b[39;00m \u001b[39m__init__\u001b[39m(\u001b[39mself\u001b[39m, config: BartSpektroConfig):\n\u001b[1;32m    385\u001b[0m     \u001b[39msuper\u001b[39m()\u001b[39m.\u001b[39m\u001b[39m__init__\u001b[39m(config)\n\u001b[0;32m--> 386\u001b[0m     \u001b[39mself\u001b[39m\u001b[39m.\u001b[39mmodel \u001b[39m=\u001b[39m BartSpektroModel(config)\n\u001b[1;32m    387\u001b[0m     \u001b[39mself\u001b[39m\u001b[39m.\u001b[39mregister_buffer(\u001b[39m\"\u001b[39m\u001b[39mfinal_logits_bias\u001b[39m\u001b[39m\"\u001b[39m, torch\u001b[39m.\u001b[39mzeros((\u001b[39m1\u001b[39m, \u001b[39mself\u001b[39m\u001b[39m.\u001b[39mmodel\u001b[39m.\u001b[39mshared\u001b[39m.\u001b[39mnum_embeddings)))\n\u001b[1;32m    388\u001b[0m     \u001b[39mself\u001b[39m\u001b[39m.\u001b[39mlm_head \u001b[39m=\u001b[39m nn\u001b[39m.\u001b[39mLinear(config\u001b[39m.\u001b[39md_model, \u001b[39mself\u001b[39m\u001b[39m.\u001b[39mmodel\u001b[39m.\u001b[39mshared\u001b[39m.\u001b[39mnum_embeddings, bias\u001b[39m=\u001b[39m\u001b[39mFalse\u001b[39;00m)\n",
      "File \u001b[0;32m~/gc-ms_bart/bart_spektro/modeling_bart_spektro.py:270\u001b[0m, in \u001b[0;36mBartSpektroModel.__init__\u001b[0;34m(self, config)\u001b[0m\n\u001b[1;32m    267\u001b[0m \u001b[39mself\u001b[39m\u001b[39m.\u001b[39mshared \u001b[39m=\u001b[39m nn\u001b[39m.\u001b[39mEmbedding(vocab_size, config\u001b[39m.\u001b[39md_model, padding_idx)\n\u001b[1;32m    269\u001b[0m \u001b[39mself\u001b[39m\u001b[39m.\u001b[39mencoder \u001b[39m=\u001b[39m BartSpektroEncoder(config, \u001b[39mself\u001b[39m\u001b[39m.\u001b[39mshared)\n\u001b[0;32m--> 270\u001b[0m \u001b[39mself\u001b[39m\u001b[39m.\u001b[39mdecoder \u001b[39m=\u001b[39m BartDecoder(config, \u001b[39mself\u001b[39;49m\u001b[39m.\u001b[39;49mshared)\n\u001b[1;32m    272\u001b[0m \u001b[39m# Initialize weights and apply final processing\u001b[39;00m\n\u001b[1;32m    273\u001b[0m \u001b[39mself\u001b[39m\u001b[39m.\u001b[39mpost_init()\n",
      "File \u001b[0;32m~/miniconda3/envs/BARTtrain/lib/python3.8/site-packages/transformers/models/bart/modeling_bart.py:911\u001b[0m, in \u001b[0;36mBartDecoder.__init__\u001b[0;34m(self, config, embed_tokens)\u001b[0m\n\u001b[1;32m    905\u001b[0m     \u001b[39mself\u001b[39m\u001b[39m.\u001b[39membed_tokens\u001b[39m.\u001b[39mweight \u001b[39m=\u001b[39m embed_tokens\u001b[39m.\u001b[39mweight\n\u001b[1;32m    907\u001b[0m \u001b[39mself\u001b[39m\u001b[39m.\u001b[39membed_positions \u001b[39m=\u001b[39m BartLearnedPositionalEmbedding(\n\u001b[1;32m    908\u001b[0m     config\u001b[39m.\u001b[39mmax_position_embeddings,\n\u001b[1;32m    909\u001b[0m     config\u001b[39m.\u001b[39md_model,\n\u001b[1;32m    910\u001b[0m )\n\u001b[0;32m--> 911\u001b[0m \u001b[39mself\u001b[39m\u001b[39m.\u001b[39mlayers \u001b[39m=\u001b[39m nn\u001b[39m.\u001b[39mModuleList([BartDecoderLayer(config) \u001b[39mfor\u001b[39;00m _ \u001b[39min\u001b[39;00m \u001b[39mrange\u001b[39m(config\u001b[39m.\u001b[39mdecoder_layers)])\n\u001b[1;32m    912\u001b[0m \u001b[39mself\u001b[39m\u001b[39m.\u001b[39mlayernorm_embedding \u001b[39m=\u001b[39m nn\u001b[39m.\u001b[39mLayerNorm(config\u001b[39m.\u001b[39md_model)\n\u001b[1;32m    914\u001b[0m \u001b[39mself\u001b[39m\u001b[39m.\u001b[39mgradient_checkpointing \u001b[39m=\u001b[39m \u001b[39mFalse\u001b[39;00m\n",
      "File \u001b[0;32m~/miniconda3/envs/BARTtrain/lib/python3.8/site-packages/transformers/models/bart/modeling_bart.py:911\u001b[0m, in \u001b[0;36m<listcomp>\u001b[0;34m(.0)\u001b[0m\n\u001b[1;32m    905\u001b[0m     \u001b[39mself\u001b[39m\u001b[39m.\u001b[39membed_tokens\u001b[39m.\u001b[39mweight \u001b[39m=\u001b[39m embed_tokens\u001b[39m.\u001b[39mweight\n\u001b[1;32m    907\u001b[0m \u001b[39mself\u001b[39m\u001b[39m.\u001b[39membed_positions \u001b[39m=\u001b[39m BartLearnedPositionalEmbedding(\n\u001b[1;32m    908\u001b[0m     config\u001b[39m.\u001b[39mmax_position_embeddings,\n\u001b[1;32m    909\u001b[0m     config\u001b[39m.\u001b[39md_model,\n\u001b[1;32m    910\u001b[0m )\n\u001b[0;32m--> 911\u001b[0m \u001b[39mself\u001b[39m\u001b[39m.\u001b[39mlayers \u001b[39m=\u001b[39m nn\u001b[39m.\u001b[39mModuleList([BartDecoderLayer(config) \u001b[39mfor\u001b[39;00m _ \u001b[39min\u001b[39;00m \u001b[39mrange\u001b[39m(config\u001b[39m.\u001b[39mdecoder_layers)])\n\u001b[1;32m    912\u001b[0m \u001b[39mself\u001b[39m\u001b[39m.\u001b[39mlayernorm_embedding \u001b[39m=\u001b[39m nn\u001b[39m.\u001b[39mLayerNorm(config\u001b[39m.\u001b[39md_model)\n\u001b[1;32m    914\u001b[0m \u001b[39mself\u001b[39m\u001b[39m.\u001b[39mgradient_checkpointing \u001b[39m=\u001b[39m \u001b[39mFalse\u001b[39;00m\n",
      "File \u001b[0;32m~/miniconda3/envs/BARTtrain/lib/python3.8/site-packages/transformers/models/bart/modeling_bart.py:388\u001b[0m, in \u001b[0;36mBartDecoderLayer.__init__\u001b[0;34m(self, config)\u001b[0m\n\u001b[1;32m    386\u001b[0m \u001b[39mself\u001b[39m\u001b[39m.\u001b[39mencoder_attn_layer_norm \u001b[39m=\u001b[39m nn\u001b[39m.\u001b[39mLayerNorm(\u001b[39mself\u001b[39m\u001b[39m.\u001b[39membed_dim)\n\u001b[1;32m    387\u001b[0m \u001b[39mself\u001b[39m\u001b[39m.\u001b[39mfc1 \u001b[39m=\u001b[39m nn\u001b[39m.\u001b[39mLinear(\u001b[39mself\u001b[39m\u001b[39m.\u001b[39membed_dim, config\u001b[39m.\u001b[39mdecoder_ffn_dim)\n\u001b[0;32m--> 388\u001b[0m \u001b[39mself\u001b[39m\u001b[39m.\u001b[39mfc2 \u001b[39m=\u001b[39m nn\u001b[39m.\u001b[39;49mLinear(config\u001b[39m.\u001b[39;49mdecoder_ffn_dim, \u001b[39mself\u001b[39;49m\u001b[39m.\u001b[39;49membed_dim)\n\u001b[1;32m    389\u001b[0m \u001b[39mself\u001b[39m\u001b[39m.\u001b[39mfinal_layer_norm \u001b[39m=\u001b[39m nn\u001b[39m.\u001b[39mLayerNorm(\u001b[39mself\u001b[39m\u001b[39m.\u001b[39membed_dim)\n",
      "File \u001b[0;32m~/miniconda3/envs/BARTtrain/lib/python3.8/site-packages/torch/nn/modules/linear.py:101\u001b[0m, in \u001b[0;36mLinear.__init__\u001b[0;34m(self, in_features, out_features, bias, device, dtype)\u001b[0m\n\u001b[1;32m     99\u001b[0m \u001b[39melse\u001b[39;00m:\n\u001b[1;32m    100\u001b[0m     \u001b[39mself\u001b[39m\u001b[39m.\u001b[39mregister_parameter(\u001b[39m'\u001b[39m\u001b[39mbias\u001b[39m\u001b[39m'\u001b[39m, \u001b[39mNone\u001b[39;00m)\n\u001b[0;32m--> 101\u001b[0m \u001b[39mself\u001b[39;49m\u001b[39m.\u001b[39;49mreset_parameters()\n",
      "File \u001b[0;32m~/miniconda3/envs/BARTtrain/lib/python3.8/site-packages/torch/nn/modules/linear.py:107\u001b[0m, in \u001b[0;36mLinear.reset_parameters\u001b[0;34m(self)\u001b[0m\n\u001b[1;32m    103\u001b[0m \u001b[39mdef\u001b[39;00m \u001b[39mreset_parameters\u001b[39m(\u001b[39mself\u001b[39m) \u001b[39m-\u001b[39m\u001b[39m>\u001b[39m \u001b[39mNone\u001b[39;00m:\n\u001b[1;32m    104\u001b[0m     \u001b[39m# Setting a=sqrt(5) in kaiming_uniform is the same as initializing with\u001b[39;00m\n\u001b[1;32m    105\u001b[0m     \u001b[39m# uniform(-1/sqrt(in_features), 1/sqrt(in_features)). For details, see\u001b[39;00m\n\u001b[1;32m    106\u001b[0m     \u001b[39m# https://github.com/pytorch/pytorch/issues/57109\u001b[39;00m\n\u001b[0;32m--> 107\u001b[0m     init\u001b[39m.\u001b[39;49mkaiming_uniform_(\u001b[39mself\u001b[39;49m\u001b[39m.\u001b[39;49mweight, a\u001b[39m=\u001b[39;49mmath\u001b[39m.\u001b[39;49msqrt(\u001b[39m5\u001b[39;49m))\n\u001b[1;32m    108\u001b[0m     \u001b[39mif\u001b[39;00m \u001b[39mself\u001b[39m\u001b[39m.\u001b[39mbias \u001b[39mis\u001b[39;00m \u001b[39mnot\u001b[39;00m \u001b[39mNone\u001b[39;00m:\n\u001b[1;32m    109\u001b[0m         fan_in, _ \u001b[39m=\u001b[39m init\u001b[39m.\u001b[39m_calculate_fan_in_and_fan_out(\u001b[39mself\u001b[39m\u001b[39m.\u001b[39mweight)\n",
      "File \u001b[0;32m~/miniconda3/envs/BARTtrain/lib/python3.8/site-packages/torch/nn/init.py:412\u001b[0m, in \u001b[0;36mkaiming_uniform_\u001b[0;34m(tensor, a, mode, nonlinearity)\u001b[0m\n\u001b[1;32m    410\u001b[0m bound \u001b[39m=\u001b[39m math\u001b[39m.\u001b[39msqrt(\u001b[39m3.0\u001b[39m) \u001b[39m*\u001b[39m std  \u001b[39m# Calculate uniform bounds from standard deviation\u001b[39;00m\n\u001b[1;32m    411\u001b[0m \u001b[39mwith\u001b[39;00m torch\u001b[39m.\u001b[39mno_grad():\n\u001b[0;32m--> 412\u001b[0m     \u001b[39mreturn\u001b[39;00m tensor\u001b[39m.\u001b[39;49muniform_(\u001b[39m-\u001b[39;49mbound, bound)\n",
      "\u001b[0;31mKeyboardInterrupt\u001b[0m: "
     ]
    }
   ],
   "source": [
    "config = BartSpektroConfig(vocab_size=len(tokenizer.get_vocab()), max_log_id=9)\n",
    "model = BartSpektroForConditionalGeneration(config)\n",
    "model.from_pretrained(\"checkpoints/bart_2023-04-07-18_27_23_30Mneims/checkpoint-1670000/\")\n",
    "None"
   ]
  },
  {
   "cell_type": "code",
   "execution_count": null,
   "metadata": {},
   "outputs": [],
   "source": [
    "model"
   ]
  },
  {
   "cell_type": "code",
   "execution_count": 8,
   "metadata": {},
   "outputs": [],
   "source": [
    "dataset = SpectroDataset(\"data/datasets/DEBUG/DEBUG_valid.jsonl\")\n",
    "loader = torch.utils.data.DataLoader(dataset, batch_size=2, collate_fn=SpectroDataCollator())"
   ]
  },
  {
   "cell_type": "code",
   "execution_count": 12,
   "metadata": {},
   "outputs": [],
   "source": [
    "for batch in loader:\n",
    "    preds = model.generate(input_ids=batch[\"input_ids\"],\n",
    "                           position_ids=batch[\"position_ids\"],\n",
    "                           attention_mask=batch[\"attention_mask\"],\n",
    "                           max_length=100,\n",
    "                           num_gen)\n",
    "    break"
   ]
  },
  {
   "cell_type": "code",
   "execution_count": 18,
   "metadata": {},
   "outputs": [
    {
     "data": {
      "text/plain": [
       "['<pad>NCCCOCCNCCCOCCNCCCOCCNCCCOCCNCCCOCCNCCCOCCNCCCOCCNCCCOCCNCCCOCCNCCCOCCNCCCOCCNCCCOCCNCCCOCCNCCCOCCNCCCOCCNCCCOCCCOCOCCOCCOCOCCOCCOCOCCOCCOCOCCOCCOCOCCOCCOCOCCOCCOCOCCOCNCCCOCCNCCCOCCNCCCOCCNCCCOCCNCCCOCCNCCCOCCNCCCOCCNCCCOCCNCCCOCCNCCCOCCNCCCOCCNCCCOCCNCCCOCCNCCCOCCNCCCOCCNCCCOCCNCCCOCCNCCCOCCNCCCOCCNCCCOCCNCCCOCCNCCCOCCNCCCOCCNCCCOCCNCCCOCCNCCCOCCNCCCOCCNCCCOCCNCCCOCCNCCCOCCNCCCOCCNCCCOCCNCCCOCCNCCCOCCNCCCOCCNCCCOCCNCCCOCCNCCCOCCNCCCOCCNCCCOCCNCCCOCCNCCCOCCNCCCOCCNCCCOCCNCCCOCCNCCCOCCNCCCOCCNCCCOCCNCCCOCCNCCCOCCNCCCOCCNCCCOCCNCCCOCCNCCCOCCNCCCOCCNCCCOCCNCCCOCCNCCCOCCNCCCOCCNCCCOCCNCCCOCCNCCCOCCNCCCOCCNCCCOCCNCCCOCCNCCCOCCNCCCOCCNCCCOCCNCCCOCCNCCCOCCNCCCOCCNCCCOCCNCCCOCCNCCCOCCNCCCOCC<pad>',\n",
       " '<pad>FCCOCCNC23232323232323232323\\x1aFCCOCCNCFCCOCCNCFCCOCCNCFCCOCCNCFCCOCCNCFCCOCCNCFCCOCCNCFCCOCCNCFCCOCCNCFCCOCCNCFCCOCCNCFCCOCCNCFCCOCCNCFCCOCCNCFCCOCCNCFCCOCCNCFCCOCCNCFCCOCCNCFCCOCCNCFCCOCCNCFCCOCCNCFCCOCCNCFCCOCCNCFCCOCCNCFCCOCCNCFCCOCCNCFCCOCCNCFCCOCCNCFCCOCCNCFCCOCCNCFCCOCCNCFCCOCCNCFCCOCCNCFCCOCCNCFCCOCCNCFCCOCCNCFCCOCCNCFCCOCCNCFCCOCCNCFCCOCCNCFCCOCCNCFCCOCCNCFCCOCCNCFCCOCCNCFCCOCCNCFCCOCCNCFCCOCCNCFCCOCCNCFCCOCCNCFCCOCCNCFCCOCCNCFCCOCCNCFCCOCCNCFCCOCCNCFCCOCCNCFCCOCCNCFCCOCCNCFCCOCCNCFCCOCCNCFCCOCCNCFCCOCCNCFCCOCCNCFCCOCCNCFCCOCCNCFCCOCCNCFCCOCCNCFCCOCCNCFCCOCCNCFCCOCCNCFCCOCCNCFCCOCCNCFCCOCCNCFCCOCCNCFCCOCCNCFCCOCCNCFCCOCCNCFCCOCCNCFCCOCCNCFCCOCCNCFCCOCCNCFCCOCCNCFCCOCCNCFCCOCCNCFCCOCCNCFCCOCCNCFCCOCCNC<pad>']"
      ]
     },
     "execution_count": 18,
     "metadata": {},
     "output_type": "execute_result"
    }
   ],
   "source": [
    "tokenizer.decode_batch(preds.tolist(), skip_special_tokens=False)"
   ]
  },
  {
   "cell_type": "code",
   "execution_count": 29,
   "metadata": {},
   "outputs": [
    {
     "data": {
      "text/plain": [
       "['<bos>',\n",
       " '<eos>',\n",
       " '<source3>',\n",
       " '<pad>',\n",
       " '<trafo>',\n",
       " '<nist>',\n",
       " '<ukn>',\n",
       " '<source2>',\n",
       " '<',\n",
       " '<rassp>',\n",
       " '<source1>',\n",
       " '<neims>']"
      ]
     },
     "execution_count": 29,
     "metadata": {},
     "output_type": "execute_result"
    }
   ],
   "source": [
    "list(filter(lambda x: x.startswith(\"<\"), list(tokenizer.get_vocab().keys())))"
   ]
  },
  {
   "cell_type": "code",
   "execution_count": 25,
   "metadata": {},
   "outputs": [
    {
     "data": {
      "text/plain": [
       "1"
      ]
     },
     "execution_count": 25,
     "metadata": {},
     "output_type": "execute_result"
    }
   ],
   "source": [
    "tokenizer.add_special_tokens([\"<trafo>\"])"
   ]
  },
  {
   "cell_type": "code",
   "execution_count": 27,
   "metadata": {},
   "outputs": [],
   "source": [
    "tokenizer.save(\"tokenizer/bbpe_tokenizer/bart_bbpe_1M_tokenizer.model\")"
   ]
  },
  {
   "cell_type": "code",
   "execution_count": 42,
   "metadata": {},
   "outputs": [
    {
     "data": {
      "text/plain": [
       "<torch.utils.data.dataloader.DataLoader at 0x7ff61f17fd60>"
      ]
     },
     "execution_count": 42,
     "metadata": {},
     "output_type": "execute_result"
    }
   ],
   "source": [
    "from torchdata.datapipes.iter import IterableWrapper, FileOpener, JsonParser\n",
    "from data_utils import build_single_datapipe\n",
    "pipe = build_single_datapipe(\"data/datasets/DEBUG_dummy/1.jsonl\", shuffle=False)\n",
    "loader = torch.utils.data.DataLoader(pipe, batch_size=2, collate_fn=SpectroDataCollator())\n",
    "len(loader)"
   ]
  },
  {
   "cell_type": "code",
   "execution_count": 39,
   "metadata": {},
   "outputs": [
    {
     "data": {
      "text/plain": [
       "[0, 1, 2, 3, 4, 5, 6, 7, 8, 9]"
      ]
     },
     "execution_count": 39,
     "metadata": {},
     "output_type": "execute_result"
    }
   ],
   "source": [
    "dp = IterableWrapper(range(10))\n",
    "list(dp)\n",
    "[0, 1, 2, 3, 4, 5, 6, 7, 8, 9]"
   ]
  },
  {
   "cell_type": "code",
   "execution_count": 54,
   "metadata": {},
   "outputs": [
    {
     "data": {
      "text/plain": [
       "[('data/datasets/DEBUG/DEBUG_train.jsonl',\n",
       "  StreamWrapper<<_io.BufferedReader name='data/datasets/DEBUG/DEBUG_train.jsonl'>>),\n",
       " ('data/datasets/DEBUG/DEBUG_valid.jsonl',\n",
       "  StreamWrapper<<_io.BufferedReader name='data/datasets/DEBUG/DEBUG_valid.jsonl'>>)]"
      ]
     },
     "execution_count": 54,
     "metadata": {},
     "output_type": "execute_result"
    }
   ],
   "source": [
    "list(datapipe2)"
   ]
  },
  {
   "cell_type": "markdown",
   "metadata": {},
   "source": [
    "### DATAPIPES DEMO"
   ]
  },
  {
   "cell_type": "code",
   "execution_count": 2,
   "metadata": {},
   "outputs": [],
   "source": [
    "import csv\n",
    "import random\n",
    "\n",
    "def generate_csv(file_label, num_rows: int = 5000, num_features: int = 20) -> None:\n",
    "    fieldnames = ['label'] + [f'c{i}' for i in range(num_features)]\n",
    "    writer = csv.DictWriter(open(f\"sample_data{file_label}.csv\", \"w\", newline=''), fieldnames=fieldnames)\n",
    "    writer.writeheader()\n",
    "    for i in range(num_rows):\n",
    "        row_data = {col: random.random() for col in fieldnames}\n",
    "        row_data['label'] = random.randint(0, 9)\n",
    "        writer.writerow(row_data)"
   ]
  },
  {
   "cell_type": "code",
   "execution_count": 3,
   "metadata": {},
   "outputs": [],
   "source": [
    "import numpy as np\n",
    "import torchdata.datapipes as dp\n",
    "\n",
    "def filter_for_data(filename):\n",
    "    return \"sample_data\" in filename and filename.endswith(\".csv\")\n",
    "\n",
    "def row_processor(row):\n",
    "    return {\"label\": np.array(row[0], np.int32), \"data\": np.array(row[1:], dtype=np.float64)}\n",
    "\n",
    "def build_datapipes(root_dir=\".\"):\n",
    "    datapipe = dp.iter.FileLister(root_dir)\n",
    "    datapipe = datapipe.filter(filter_fn=filter_for_data)\n",
    "    datapipe = datapipe.open_files(mode='rt')\n",
    "    datapipe = datapipe.parse_csv(delimiter=\",\", skip_lines=1)\n",
    "    # Shuffle will happen as long as you do NOT set `shuffle=False` later in the DataLoader\n",
    "    datapipe = datapipe.shuffle()\n",
    "    datapipe = datapipe.sharding_filter()  # !!! AFTER SHUFFLE, BEFORE EXPENSIVE OPERATIONS !!!\n",
    "    datapipe = datapipe.map(row_processor)\n",
    "    return datapipe"
   ]
  },
  {
   "cell_type": "code",
   "execution_count": 4,
   "metadata": {},
   "outputs": [
    {
     "name": "stdout",
     "output_type": "stream",
     "text": [
      "Labels batch shape: torch.Size([5])\n",
      "Feature batch shape: torch.Size([5, 3])\n",
      "labels = tensor([2, 3, 9, 7, 8], dtype=torch.int32)\n",
      "features = tensor([[0.4408, 0.9905, 0.0471],\n",
      "        [0.5507, 0.3512, 0.5192],\n",
      "        [0.9291, 0.2817, 0.8013],\n",
      "        [0.2765, 0.6562, 0.9340],\n",
      "        [0.6604, 0.9201, 0.0606]], dtype=torch.float64)\n",
      "n_sample = 6\n"
     ]
    }
   ],
   "source": [
    "from torch.utils.data_utils import DataLoader\n",
    "\n",
    "if __name__ == '__main__':\n",
    "    num_files_to_generate = 3\n",
    "    for i in range(num_files_to_generate):\n",
    "        generate_csv(file_label=i, num_rows=10, num_features=3)\n",
    "    datapipe = build_datapipes()\n",
    "    dl = DataLoader(dataset=datapipe, batch_size=5, num_workers=2)\n",
    "    first = next(iter(dl))\n",
    "    labels, features = first['label'], first['data']\n",
    "    print(f\"Labels batch shape: {labels.size()}\")\n",
    "    print(f\"Feature batch shape: {features.size()}\")\n",
    "    print(f\"{labels = }\\n{features = }\")\n",
    "    n_sample = 0\n",
    "    for query_row in iter(dl):\n",
    "        n_sample += 1\n",
    "    print(f\"{n_sample = }\")"
   ]
  },
  {
   "cell_type": "markdown",
   "metadata": {},
   "source": [
    "### My DATAPIPELINE"
   ]
  },
  {
   "cell_type": "code",
   "execution_count": 2,
   "metadata": {},
   "outputs": [],
   "source": [
    "import json\n",
    "import torch\n",
    "from typing import List, Dict\n",
    "from torch.utils.data_utils importimportimportimportimportimportimport DataLoader\n",
    "from data_utils import SpectroDataCollator, SpectroDataset, load_all_datapipes\n",
    "import yaml\n",
    "\n",
    "# autoreload\n",
    "%load_ext autoreload\n",
    "%autoreload 2"
   ]
  },
  {
   "cell_type": "code",
   "execution_count": 7,
   "metadata": {},
   "outputs": [
    {
     "name": "stdout",
     "output_type": "stream",
     "text": [
      "100\n",
      "100\n",
      "10\n",
      "10\n",
      "1\n",
      "1\n"
     ]
    },
    {
     "data": {
      "text/plain": [
       "{'train': SampleMultiplexerDataPipe,\n",
       " 'valid': {'debug1': MapperIterDataPipe, 'debug2': MapperIterDataPipe},\n",
       " 'example': {'debug1': MapperIterDataPipe, 'debug2': MapperIterDataPipe}}"
      ]
     },
     "execution_count": 7,
     "metadata": {},
     "output_type": "execute_result"
    }
   ],
   "source": [
    "# TRY IT OUT\n",
    "with open(\"configs/train_config.yaml\", \"r\") as f:\n",
    "    try:\n",
    "        config = yaml.safe_load(f)\n",
    "    except yaml.YAMLError as exc:\n",
    "        raise ValueError(\"Error in configuration file:\", exc) from exc\n",
    "\n",
    "collate_fn = SpectroDataCollator()\n",
    "datapipes = load_all_datapipes(config[\"data_args\"])\n",
    "datapipes\n",
    "\n",
    "# dl = DataLoader(dataset=datapipe, batch_size=1, num_workers=1, collate_fn=collate_fn)\n",
    "# first = next(iter(dl))\n",
    "# n_sample = 0\n",
    "# for row in iter(dl):\n",
    "#     print(row)\n",
    "#     n_sample += 1\n",
    "#     if n_sample == 20:\n",
    "#         break\n",
    "# print(f\"{n_sample = }\")"
   ]
  },
  {
   "cell_type": "code",
   "execution_count": 11,
   "metadata": {},
   "outputs": [
    {
     "name": "stdout",
     "output_type": "stream",
     "text": [
      "('data/datasets/DEBUG/DEBUG_valid.jsonl', '{\"smiles\":\"CCNC(c1cnn2c1OCCC2)CC=C=C\",\"input_ids\":[26,27,28,30,38,39,40,41,42,43,44,45,46,50,51,52,53,54,55,56,58,59,60,63,64,65,66,67,68,69,70,72,75,77,78,79,80,81,82,83,87,89,90,91,92,93,94,95,104,105,106,107,108,109,110,116,117,118,119,120,121,122,129,131,132,133,136,145,146,147,148,149,150,159,160,161,162,163,164,165,166,173,174,175,176,177,188,189,190,200,204,205,206,218,219,232,233,234,2,2,2,2,2,2,2,2,2,2,2,2,2,2,2,2,2,2,2,2,2,2,2,2,2,2,2,2,2,2,2,2,2,2,2,2,2,2,2,2,2,2,2,2,2,2,2,2,2,2,2,2,2,2,2,2,2,2,2,2,2,2,2,2,2,2,2,2,2,2,2,2,2,2,2,2,2,2,2,2,2,2,2,2,2,2,2,2,2,2,2,2,2,2,2,2,2,2,2,2,2,2],\"labels\":[1233,224,283,11,70,20,284,21,70,20,378,21,12,261,32,38,32,38,0,-100,-100,-100,-100,-100,-100,-100,-100,-100,-100,-100,-100,-100,-100,-100,-100,-100,-100,-100,-100,-100,-100,-100,-100,-100,-100,-100,-100,-100,-100,-100,-100,-100,-100,-100,-100,-100,-100,-100,-100,-100,-100,-100,-100,-100,-100,-100,-100,-100,-100,-100,-100,-100,-100,-100,-100,-100,-100,-100,-100,-100,-100,-100,-100,-100,-100,-100,-100,-100,-100,-100,-100,-100,-100,-100,-100,-100,-100,-100,-100,-100,-100,-100,-100,-100,-100,-100,-100,-100,-100,-100,-100,-100,-100,-100,-100,-100,-100,-100,-100,-100,-100,-100,-100,-100,-100,-100,-100,-100,-100,-100,-100,-100,-100,-100,-100,-100,-100,-100,-100,-100,-100,-100,-100,-100,-100,-100,-100,-100,-100,-100,-100,-100,-100,-100,-100,-100,-100,-100,-100,-100,-100,-100,-100,-100,-100,-100,-100,-100,-100,-100,-100,-100,-100,-100,-100,-100,-100,-100,-100,-100,-100,-100,-100,-100,-100,-100,-100,-100,-100,-100,-100,-100,-100,-100,-100,-100,-100,-100,-100,-100],\"decoder_attention_mask\":[1,1,1,1,1,1,1,1,1,1,1,1,1,1,1,1,1,1,1,0,0,0,0,0,0,0,0,0,0,0,0,0,0,0,0,0,0,0,0,0,0,0,0,0,0,0,0,0,0,0,0,0,0,0,0,0,0,0,0,0,0,0,0,0,0,0,0,0,0,0,0,0,0,0,0,0,0,0,0,0,0,0,0,0,0,0,0,0,0,0,0,0,0,0,0,0,0,0,0,0,0,0,0,0,0,0,0,0,0,0,0,0,0,0,0,0,0,0,0,0,0,0,0,0,0,0,0,0,0,0,0,0,0,0,0,0,0,0,0,0,0,0,0,0,0,0,0,0,0,0,0,0,0,0,0,0,0,0,0,0,0,0,0,0,0,0,0,0,0,0,0,0,0,0,0,0,0,0,0,0,0,0,0,0,0,0,0,0,0,0,0,0,0,0,0,0,0,0,0,0],\"attention_mask\":[1,1,1,1,1,1,1,1,1,1,1,1,1,1,1,1,1,1,1,1,1,1,1,1,1,1,1,1,1,1,1,1,1,1,1,1,1,1,1,1,1,1,1,1,1,1,1,1,1,1,1,1,1,1,1,1,1,1,1,1,1,1,1,1,1,1,1,1,1,1,1,1,1,1,1,1,1,1,1,1,1,1,1,1,1,1,1,1,1,1,1,1,1,1,1,1,1,1,0,0,0,0,0,0,0,0,0,0,0,0,0,0,0,0,0,0,0,0,0,0,0,0,0,0,0,0,0,0,0,0,0,0,0,0,0,0,0,0,0,0,0,0,0,0,0,0,0,0,0,0,0,0,0,0,0,0,0,0,0,0,0,0,0,0,0,0,0,0,0,0,0,0,0,0,0,0,0,0,0,0,0,0,0,0,0,0,0,0,0,0,0,0,0,0,0,0,0,0,0,0],\"position_ids\":[3,6,5,5,5,9,8,9,9,7,9,8,6,3,7,7,9,8,8,8,8,7,6,6,7,8,8,9,8,1,7,8,5,7,7,7,7,7,8,6,2,5,3,5,5,6,4,5,6,8,9,8,7,5,0,7,7,7,6,6,6,1,6,8,8,8,1,6,6,8,8,7,6,6,7,8,7,4,6,5,6,4,8,6,6,0,9,9,7,6,8,7,3,9,7,4,9,7,-1,-1,-1,-1,-1,-1,-1,-1,-1,-1,-1,-1,-1,-1,-1,-1,-1,-1,-1,-1,-1,-1,-1,-1,-1,-1,-1,-1,-1,-1,-1,-1,-1,-1,-1,-1,-1,-1,-1,-1,-1,-1,-1,-1,-1,-1,-1,-1,-1,-1,-1,-1,-1,-1,-1,-1,-1,-1,-1,-1,-1,-1,-1,-1,-1,-1,-1,-1,-1,-1,-1,-1,-1,-1,-1,-1,-1,-1,-1,-1,-1,-1,-1,-1,-1,-1,-1,-1,-1,-1,-1,-1,-1,-1,-1,-1,-1,-1,-1,-1,-1,-1]}')\n"
     ]
    },
    {
     "data": {
      "text/plain": [
       "1"
      ]
     },
     "execution_count": 11,
     "metadata": {},
     "output_type": "execute_result"
    }
   ],
   "source": [
    "len(list(iter(datapipes[\"example\"][\"debug2\"])))"
   ]
  },
  {
   "cell_type": "code",
   "execution_count": 19,
   "metadata": {},
   "outputs": [
    {
     "ename": "NameError",
     "evalue": "name 'datapipe' is not defined",
     "output_type": "error",
     "traceback": [
      "\u001b[0;31m---------------------------------------------------------------------------\u001b[0m",
      "\u001b[0;31mNameError\u001b[0m                                 Traceback (most recent call last)",
      "Cell \u001b[0;32mIn[19], line 4\u001b[0m\n\u001b[1;32m      1\u001b[0m \u001b[39mimport\u001b[39;00m \u001b[39mtorchdata\u001b[39;00m\u001b[39m.\u001b[39;00m\u001b[39mdatapipes\u001b[39;00m \u001b[39mas\u001b[39;00m \u001b[39mdp\u001b[39;00m\n\u001b[1;32m      2\u001b[0m \u001b[39mfrom\u001b[39;00m \u001b[39mtorch\u001b[39;00m\u001b[39m.\u001b[39;00m\u001b[39mutils\u001b[39;00m\u001b[39m.\u001b[39;00m\u001b[39mdata\u001b[39;00m \u001b[39mimport\u001b[39;00m SequentialSampler\n\u001b[0;32m----> 4\u001b[0m pipe \u001b[39m=\u001b[39m dp\u001b[39m.\u001b[39miter\u001b[39m.\u001b[39mSampler(datapipe)\n\u001b[1;32m      5\u001b[0m \u001b[39m# len(list(iter(pipe)))\u001b[39;00m\n",
      "\u001b[0;31mNameError\u001b[0m: name 'datapipe' is not defined"
     ]
    }
   ],
   "source": [
    "import torchdata.datapipes as dp\n",
    "from torch.utils.data_utils import SequentialSampler\n",
    "\n",
    "pipe = dp.iter.Sampler(datapipe)\n",
    "# len(list(iter(pipe)))"
   ]
  },
  {
   "cell_type": "code",
   "execution_count": 80,
   "metadata": {},
   "outputs": [],
   "source": [
    "from data_utils import load_all_datapipes"
   ]
  },
  {
   "cell_type": "code",
   "execution_count": 95,
   "metadata": {},
   "outputs": [],
   "source": [
    "data_args ={\n",
    "    \"buffer_size\": 1000, # for shuffling in dataloader\n",
    "    \"datasets\": \n",
    "        {\"30M_rassp\": \n",
    "            {\"train_path\": \"data/datasets/30M_rassp/30M_rassp_train.jsonl\",\n",
    "            \"valid_path\": \"data/datasets/30M_rassp/30M_rassp_valid.jsonl\",\n",
    "            \"weight\": 1.0,\n",
    "            \"limit_val_split\": 1000,\n",
    "            \"limit_example_split\": 100},\n",
    "        \"nist\":\n",
    "            {\"train_path\": \"data/datasets/NIST/NIST_split_filip/train_<nist>.jsonl\",\n",
    "            \"valid_path\": \"data/datasets/NIST/NIST_split_filip/valid_<nist>.jsonl\",\n",
    "            \"weight\": 1.0,\n",
    "            \"limit_val_split\": 1000,\n",
    "            \"limit_example_split\": 100}\n",
    "        }\n",
    "}\n",
    "\n",
    "datapipes = load_all_datapipes(data_args)"
   ]
  },
  {
   "cell_type": "code",
   "execution_count": 99,
   "metadata": {},
   "outputs": [
    {
     "name": "stdout",
     "output_type": "stream",
     "text": [
      "{'input_ids': tensor([[17, 18, 26,  ...,  2,  2,  2],\n",
      "        [30, 33, 34,  ...,  2,  2,  2],\n",
      "        [28, 33, 34,  ...,  2,  2,  2],\n",
      "        ...,\n",
      "        [25, 26, 27,  ...,  2,  2,  2],\n",
      "        [37, 38, 39,  ...,  2,  2,  2],\n",
      "        [27, 28, 29,  ...,  2,  2,  2]]), 'position_ids': tensor([[ 3,  4,  4,  ..., -1, -1, -1],\n",
      "        [ 4,  2,  2,  ..., -1, -1, -1],\n",
      "        [ 2,  2,  3,  ..., -1, -1, -1],\n",
      "        ...,\n",
      "        [ 0,  2,  6,  ..., -1, -1, -1],\n",
      "        [ 0,  5,  8,  ..., -1, -1, -1],\n",
      "        [ 0,  0,  3,  ..., -1, -1, -1]]), 'attention_mask': tensor([[1, 1, 1,  ..., 0, 0, 0],\n",
      "        [1, 1, 1,  ..., 0, 0, 0],\n",
      "        [1, 1, 1,  ..., 0, 0, 0],\n",
      "        ...,\n",
      "        [1, 1, 1,  ..., 0, 0, 0],\n",
      "        [1, 1, 1,  ..., 0, 0, 0],\n",
      "        [1, 1, 1,  ..., 0, 0, 0]]), 'decoder_attention_mask': tensor([[1, 1, 1,  ..., 0, 0, 0],\n",
      "        [1, 1, 1,  ..., 0, 0, 0],\n",
      "        [1, 1, 1,  ..., 0, 0, 0],\n",
      "        ...,\n",
      "        [1, 1, 1,  ..., 0, 0, 0],\n",
      "        [1, 1, 1,  ..., 0, 0, 0],\n",
      "        [1, 1, 1,  ..., 0, 0, 0]]), 'labels': tensor([[1233,  224,  261,  ..., -100, -100, -100],\n",
      "        [1233,  224,  265,  ..., -100, -100, -100],\n",
      "        [1233,  224,  495,  ..., -100, -100, -100],\n",
      "        ...,\n",
      "        [1233,  224,   38,  ..., -100, -100, -100],\n",
      "        [1233,  224,  261,  ..., -100, -100, -100],\n",
      "        [1233,  224,  299,  ..., -100, -100, -100]])}\n",
      "{'input_ids': tensor([[26, 27, 28,  ...,  2,  2,  2],\n",
      "        [27, 28, 29,  ...,  2,  2,  2],\n",
      "        [38, 39, 40,  ...,  2,  2,  2],\n",
      "        ...,\n",
      "        [30, 33, 39,  ...,  2,  2,  2],\n",
      "        [14, 15, 17,  ...,  2,  2,  2],\n",
      "        [28, 29, 30,  ...,  2,  2,  2]]), 'position_ids': tensor([[ 5,  8,  7,  ..., -1, -1, -1],\n",
      "        [ 3,  1,  5,  ..., -1, -1, -1],\n",
      "        [ 1,  8,  7,  ..., -1, -1, -1],\n",
      "        ...,\n",
      "        [ 1,  1,  8,  ..., -1, -1, -1],\n",
      "        [ 0,  4,  2,  ..., -1, -1, -1],\n",
      "        [ 3,  2,  6,  ..., -1, -1, -1]]), 'attention_mask': tensor([[1, 1, 1,  ..., 0, 0, 0],\n",
      "        [1, 1, 1,  ..., 0, 0, 0],\n",
      "        [1, 1, 1,  ..., 0, 0, 0],\n",
      "        ...,\n",
      "        [1, 1, 1,  ..., 0, 0, 0],\n",
      "        [1, 1, 1,  ..., 0, 0, 0],\n",
      "        [1, 1, 1,  ..., 0, 0, 0]]), 'decoder_attention_mask': tensor([[1, 1, 1,  ..., 0, 0, 0],\n",
      "        [1, 1, 1,  ..., 0, 0, 0],\n",
      "        [1, 1, 1,  ..., 0, 0, 0],\n",
      "        ...,\n",
      "        [1, 1, 1,  ..., 0, 0, 0],\n",
      "        [1, 1, 1,  ..., 0, 0, 0],\n",
      "        [1, 1, 1,  ..., 0, 0, 0]]), 'labels': tensor([[1233,  224,  261,  ..., -100, -100, -100],\n",
      "        [1233,  224,  469,  ..., -100, -100, -100],\n",
      "        [1233,  224,  276,  ..., -100, -100, -100],\n",
      "        ...,\n",
      "        [1233,  224,  285,  ..., -100, -100, -100],\n",
      "        [1233,  224,  286,  ..., -100, -100, -100],\n",
      "        [1233,  224,  261,  ..., -100, -100, -100]])}\n",
      "{'input_ids': tensor([[33, 34, 39,  ...,  2,  2,  2],\n",
      "        [17, 27, 28,  ...,  2,  2,  2],\n",
      "        [15, 26, 27,  ...,  2,  2,  2],\n",
      "        ...,\n",
      "        [39, 40, 41,  ...,  2,  2,  2],\n",
      "        [16, 17, 18,  ...,  2,  2,  2],\n",
      "        [27, 29, 33,  ...,  2,  2,  2]]), 'position_ids': tensor([[ 3,  1,  7,  ..., -1, -1, -1],\n",
      "        [ 2,  4,  4,  ..., -1, -1, -1],\n",
      "        [ 0,  3,  6,  ..., -1, -1, -1],\n",
      "        ...,\n",
      "        [ 7,  1,  8,  ..., -1, -1, -1],\n",
      "        [ 0,  2,  1,  ..., -1, -1, -1],\n",
      "        [ 1,  2,  4,  ..., -1, -1, -1]]), 'attention_mask': tensor([[1, 1, 1,  ..., 0, 0, 0],\n",
      "        [1, 1, 1,  ..., 0, 0, 0],\n",
      "        [1, 1, 1,  ..., 0, 0, 0],\n",
      "        ...,\n",
      "        [1, 1, 1,  ..., 0, 0, 0],\n",
      "        [1, 1, 1,  ..., 0, 0, 0],\n",
      "        [1, 1, 1,  ..., 0, 0, 0]]), 'decoder_attention_mask': tensor([[1, 1, 1,  ..., 0, 0, 0],\n",
      "        [1, 1, 1,  ..., 0, 0, 0],\n",
      "        [1, 1, 1,  ..., 0, 0, 0],\n",
      "        ...,\n",
      "        [1, 1, 1,  ..., 0, 0, 0],\n",
      "        [1, 1, 1,  ..., 0, 0, 0],\n",
      "        [1, 1, 1,  ..., 0, 0, 0]]), 'labels': tensor([[1233,  224,  404,  ..., -100, -100, -100],\n",
      "        [1233,  224,  327,  ..., -100, -100, -100],\n",
      "        [1233,  224,  292,  ..., -100, -100, -100],\n",
      "        ...,\n",
      "        [1233,  224,  286,  ..., -100, -100, -100],\n",
      "        [1233,  224,  378,  ..., -100, -100, -100],\n",
      "        [1233,  224,  469,  ..., -100, -100, -100]])}\n",
      "{'input_ids': tensor([[15, 26, 28,  ...,  2,  2,  2],\n",
      "        [14, 15, 16,  ...,  2,  2,  2],\n",
      "        [26, 27, 28,  ...,  2,  2,  2],\n",
      "        ...,\n",
      "        [26, 27, 28,  ...,  2,  2,  2],\n",
      "        [34, 39, 40,  ...,  2,  2,  2],\n",
      "        [27, 29, 30,  ...,  2,  2,  2]]), 'position_ids': tensor([[ 4,  0,  3,  ..., -1, -1, -1],\n",
      "        [ 2,  5,  1,  ..., -1, -1, -1],\n",
      "        [ 2,  5,  4,  ..., -1, -1, -1],\n",
      "        ...,\n",
      "        [ 4,  7,  6,  ..., -1, -1, -1],\n",
      "        [ 1,  6,  5,  ..., -1, -1, -1],\n",
      "        [ 1,  0,  0,  ..., -1, -1, -1]]), 'attention_mask': tensor([[1, 1, 1,  ..., 0, 0, 0],\n",
      "        [1, 1, 1,  ..., 0, 0, 0],\n",
      "        [1, 1, 1,  ..., 0, 0, 0],\n",
      "        ...,\n",
      "        [1, 1, 1,  ..., 0, 0, 0],\n",
      "        [1, 1, 1,  ..., 0, 0, 0],\n",
      "        [1, 1, 1,  ..., 0, 0, 0]]), 'decoder_attention_mask': tensor([[1, 1, 1,  ..., 0, 0, 0],\n",
      "        [1, 1, 1,  ..., 0, 0, 0],\n",
      "        [1, 1, 1,  ..., 0, 0, 0],\n",
      "        ...,\n",
      "        [1, 1, 1,  ..., 0, 0, 0],\n",
      "        [1, 1, 1,  ..., 0, 0, 0],\n",
      "        [1, 1, 1,  ..., 0, 0, 0]]), 'labels': tensor([[1233,  224,  265,  ..., -100, -100, -100],\n",
      "        [1233,  224,  261,  ..., -100, -100, -100],\n",
      "        [1233,  224,  261,  ..., -100, -100, -100],\n",
      "        ...,\n",
      "        [1233,  224,  286,  ..., -100, -100, -100],\n",
      "        [1233,  224,  404,  ..., -100, -100, -100],\n",
      "        [1233,  224,  306,  ..., -100, -100, -100]])}\n",
      "{'input_ids': tensor([[15, 28, 30,  ...,  2,  2,  2],\n",
      "        [15, 26, 27,  ...,  2,  2,  2],\n",
      "        [30, 33, 36,  ...,  2,  2,  2],\n",
      "        ...,\n",
      "        [27, 30, 33,  ...,  2,  2,  2],\n",
      "        [39, 40, 41,  ...,  2,  2,  2],\n",
      "        [27, 28, 29,  ...,  2,  2,  2]]), 'position_ids': tensor([[ 1,  4,  4,  ..., -1, -1, -1],\n",
      "        [ 1,  2,  6,  ..., -1, -1, -1],\n",
      "        [ 3,  2,  3,  ..., -1, -1, -1],\n",
      "        ...,\n",
      "        [ 2,  3,  0,  ..., -1, -1, -1],\n",
      "        [ 6,  5,  9,  ..., -1, -1, -1],\n",
      "        [ 1,  4,  6,  ..., -1, -1, -1]]), 'attention_mask': tensor([[1, 1, 1,  ..., 0, 0, 0],\n",
      "        [1, 1, 1,  ..., 0, 0, 0],\n",
      "        [1, 1, 1,  ..., 0, 0, 0],\n",
      "        ...,\n",
      "        [1, 1, 1,  ..., 0, 0, 0],\n",
      "        [1, 1, 1,  ..., 0, 0, 0],\n",
      "        [1, 1, 1,  ..., 0, 0, 0]]), 'decoder_attention_mask': tensor([[1, 1, 1,  ..., 0, 0, 0],\n",
      "        [1, 1, 1,  ..., 0, 0, 0],\n",
      "        [1, 1, 1,  ..., 0, 0, 0],\n",
      "        ...,\n",
      "        [1, 1, 1,  ..., 0, 0, 0],\n",
      "        [1, 1, 1,  ..., 0, 0, 0],\n",
      "        [1, 1, 1,  ..., 0, 0, 0]]), 'labels': tensor([[1233,  224,   38,  ..., -100, -100, -100],\n",
      "        [1233,  224,  261,  ..., -100, -100, -100],\n",
      "        [1233,  224,  261,  ..., -100, -100, -100],\n",
      "        ...,\n",
      "        [1233,  224,  261,  ..., -100, -100, -100],\n",
      "        [1233,  224,  495,  ..., -100, -100, -100],\n",
      "        [1233,  224,  276,  ..., -100, -100, -100]])}\n",
      "{'input_ids': tensor([[14, 15, 16,  ...,  2,  2,  2],\n",
      "        [16, 17, 18,  ...,  2,  2,  2],\n",
      "        [26, 27, 29,  ...,  2,  2,  2],\n",
      "        ...,\n",
      "        [28, 29, 30,  ...,  2,  2,  2],\n",
      "        [28, 33, 37,  ...,  2,  2,  2],\n",
      "        [39, 40, 41,  ...,  2,  2,  2]]), 'position_ids': tensor([[ 1,  5,  3,  ..., -1, -1, -1],\n",
      "        [ 0,  2,  2,  ..., -1, -1, -1],\n",
      "        [ 0,  0,  4,  ..., -1, -1, -1],\n",
      "        ...,\n",
      "        [ 5,  3,  4,  ..., -1, -1, -1],\n",
      "        [ 6,  4,  5,  ..., -1, -1, -1],\n",
      "        [ 7,  5,  9,  ..., -1, -1, -1]]), 'attention_mask': tensor([[1, 1, 1,  ..., 0, 0, 0],\n",
      "        [1, 1, 1,  ..., 0, 0, 0],\n",
      "        [1, 1, 1,  ..., 0, 0, 0],\n",
      "        ...,\n",
      "        [1, 1, 1,  ..., 0, 0, 0],\n",
      "        [1, 1, 1,  ..., 0, 0, 0],\n",
      "        [1, 1, 1,  ..., 0, 0, 0]]), 'decoder_attention_mask': tensor([[1, 1, 1,  ..., 0, 0, 0],\n",
      "        [1, 1, 1,  ..., 0, 0, 0],\n",
      "        [1, 1, 1,  ..., 0, 0, 0],\n",
      "        ...,\n",
      "        [1, 1, 1,  ..., 0, 0, 0],\n",
      "        [1, 1, 1,  ..., 0, 0, 0],\n",
      "        [1, 1, 1,  ..., 0, 0, 0]]), 'labels': tensor([[1233,  224,  261,  ..., -100, -100, -100],\n",
      "        [1233,  224,  281,  ..., -100, -100, -100],\n",
      "        [1233,  224,  261,  ..., -100, -100, -100],\n",
      "        ...,\n",
      "        [1233,  224,  265,  ..., -100, -100, -100],\n",
      "        [1233,  224,   50,  ..., -100, -100, -100],\n",
      "        [1233,  224,  261,  ..., -100, -100, -100]])}\n",
      "{'input_ids': tensor([[33, 34, 39,  ...,  2,  2,  2],\n",
      "        [28, 29, 30,  ...,  2,  2,  2],\n",
      "        [33, 38, 39,  ...,  2,  2,  2],\n",
      "        ...,\n",
      "        [15, 17, 18,  ...,  2,  2,  2],\n",
      "        [15, 16, 26,  ...,  2,  2,  2],\n",
      "        [15, 17, 18,  ...,  2,  2,  2]]), 'position_ids': tensor([[ 1,  0,  8,  ..., -1, -1, -1],\n",
      "        [ 2,  3,  4,  ..., -1, -1, -1],\n",
      "        [ 0,  3,  8,  ..., -1, -1, -1],\n",
      "        ...,\n",
      "        [ 1,  1,  3,  ..., -1, -1, -1],\n",
      "        [ 3,  1,  1,  ..., -1, -1, -1],\n",
      "        [ 3,  1,  2,  ..., -1, -1, -1]]), 'attention_mask': tensor([[1, 1, 1,  ..., 0, 0, 0],\n",
      "        [1, 1, 1,  ..., 0, 0, 0],\n",
      "        [1, 1, 1,  ..., 0, 0, 0],\n",
      "        ...,\n",
      "        [1, 1, 1,  ..., 0, 0, 0],\n",
      "        [1, 1, 1,  ..., 0, 0, 0],\n",
      "        [1, 1, 1,  ..., 0, 0, 0]]), 'decoder_attention_mask': tensor([[1, 1, 1,  ..., 0, 0, 0],\n",
      "        [1, 1, 1,  ..., 0, 0, 0],\n",
      "        [1, 1, 1,  ..., 0, 0, 0],\n",
      "        ...,\n",
      "        [1, 1, 1,  ..., 0, 0, 0],\n",
      "        [1, 1, 1,  ..., 0, 0, 0],\n",
      "        [1, 1, 1,  ..., 0, 0, 0]]), 'labels': tensor([[1233,  224,  538,  ..., -100, -100, -100],\n",
      "        [1233,  224,  303,  ..., -100, -100, -100],\n",
      "        [1233,  224,  404,  ..., -100, -100, -100],\n",
      "        ...,\n",
      "        [1233,  224,  471,  ..., -100, -100, -100],\n",
      "        [1233,  224,  327,  ..., -100, -100, -100],\n",
      "        [1233,  224,  407,  ..., -100, -100, -100]])}\n",
      "{'input_ids': tensor([[27, 29, 30,  ...,  2,  2,  2],\n",
      "        [33, 34, 37,  ...,  2,  2,  2],\n",
      "        [30, 32, 33,  ...,  2,  2,  2],\n",
      "        ...,\n",
      "        [29, 32, 33,  ...,  2,  2,  2],\n",
      "        [15, 16, 17,  ...,  2,  2,  2],\n",
      "        [33, 34, 36,  ...,  2,  2,  2]]), 'position_ids': tensor([[ 3,  5,  3,  ..., -1, -1, -1],\n",
      "        [ 5,  3,  4,  ..., -1, -1, -1],\n",
      "        [ 4,  2,  3,  ..., -1, -1, -1],\n",
      "        ...,\n",
      "        [ 2,  1,  0,  ..., -1, -1, -1],\n",
      "        [ 1,  2,  3,  ..., -1, -1, -1],\n",
      "        [ 5,  3,  2,  ..., -1, -1, -1]]), 'attention_mask': tensor([[1, 1, 1,  ..., 0, 0, 0],\n",
      "        [1, 1, 1,  ..., 0, 0, 0],\n",
      "        [1, 1, 1,  ..., 0, 0, 0],\n",
      "        ...,\n",
      "        [1, 1, 1,  ..., 0, 0, 0],\n",
      "        [1, 1, 1,  ..., 0, 0, 0],\n",
      "        [1, 1, 1,  ..., 0, 0, 0]]), 'decoder_attention_mask': tensor([[1, 1, 1,  ..., 0, 0, 0],\n",
      "        [1, 1, 1,  ..., 0, 0, 0],\n",
      "        [1, 1, 1,  ..., 0, 0, 0],\n",
      "        ...,\n",
      "        [1, 1, 1,  ..., 0, 0, 0],\n",
      "        [1, 1, 1,  ..., 0, 0, 0],\n",
      "        [1, 1, 1,  ..., 0, 0, 0]]), 'labels': tensor([[1233,  224,  261,  ..., -100, -100, -100],\n",
      "        [1233,  224,  261,  ..., -100, -100, -100],\n",
      "        [1233,  224,  281,  ..., -100, -100, -100],\n",
      "        ...,\n",
      "        [1233,  224,  404,  ..., -100, -100, -100],\n",
      "        [1233,  224,  281,  ..., -100, -100, -100],\n",
      "        [1233,  224,  285,  ..., -100, -100, -100]])}\n",
      "{'input_ids': tensor([[26, 27, 28,  ...,  2,  2,  2],\n",
      "        [15, 26, 27,  ...,  2,  2,  2],\n",
      "        [39, 40, 41,  ...,  2,  2,  2],\n",
      "        ...,\n",
      "        [14, 15, 16,  ...,  2,  2,  2],\n",
      "        [27, 28, 29,  ...,  2,  2,  2],\n",
      "        [27, 29, 30,  ...,  2,  2,  2]]), 'position_ids': tensor([[ 4,  7,  6,  ..., -1, -1, -1],\n",
      "        [ 1,  4,  4,  ..., -1, -1, -1],\n",
      "        [ 4,  2,  7,  ..., -1, -1, -1],\n",
      "        ...,\n",
      "        [ 5,  6,  3,  ..., -1, -1, -1],\n",
      "        [ 0,  4,  6,  ..., -1, -1, -1],\n",
      "        [ 2,  5,  8,  ..., -1, -1, -1]]), 'attention_mask': tensor([[1, 1, 1,  ..., 0, 0, 0],\n",
      "        [1, 1, 1,  ..., 0, 0, 0],\n",
      "        [1, 1, 1,  ..., 0, 0, 0],\n",
      "        ...,\n",
      "        [1, 1, 1,  ..., 0, 0, 0],\n",
      "        [1, 1, 1,  ..., 0, 0, 0],\n",
      "        [1, 1, 1,  ..., 0, 0, 0]]), 'decoder_attention_mask': tensor([[1, 1, 1,  ..., 0, 0, 0],\n",
      "        [1, 1, 1,  ..., 0, 0, 0],\n",
      "        [1, 1, 1,  ..., 0, 0, 0],\n",
      "        ...,\n",
      "        [1, 1, 1,  ..., 0, 0, 0],\n",
      "        [1, 1, 1,  ..., 0, 0, 0],\n",
      "        [1, 1, 1,  ..., 0, 0, 0]]), 'labels': tensor([[1233,  224,  275,  ..., -100, -100, -100],\n",
      "        [1233,  224,   38,  ..., -100, -100, -100],\n",
      "        [1233,  224,  261,  ..., -100, -100, -100],\n",
      "        ...,\n",
      "        [1233,  224,  297,  ..., -100, -100, -100],\n",
      "        [1233,  224,  263,  ..., -100, -100, -100],\n",
      "        [1233,  224,  281,  ..., -100, -100, -100]])}\n",
      "{'input_ids': tensor([[28, 33, 34,  ...,  2,  2,  2],\n",
      "        [33, 34, 35,  ...,  2,  2,  2],\n",
      "        [26, 27, 28,  ...,  2,  2,  2],\n",
      "        ...,\n",
      "        [15, 26, 27,  ...,  2,  2,  2],\n",
      "        [33, 34, 37,  ...,  2,  2,  2],\n",
      "        [29, 30, 33,  ...,  2,  2,  2]]), 'position_ids': tensor([[ 3,  2,  3,  ..., -1, -1, -1],\n",
      "        [ 3,  5,  4,  ..., -1, -1, -1],\n",
      "        [ 4,  7,  5,  ..., -1, -1, -1],\n",
      "        ...,\n",
      "        [ 3,  0,  4,  ..., -1, -1, -1],\n",
      "        [ 1,  1,  3,  ..., -1, -1, -1],\n",
      "        [ 5,  6,  0,  ..., -1, -1, -1]]), 'attention_mask': tensor([[1, 1, 1,  ..., 0, 0, 0],\n",
      "        [1, 1, 1,  ..., 0, 0, 0],\n",
      "        [1, 1, 1,  ..., 0, 0, 0],\n",
      "        ...,\n",
      "        [1, 1, 1,  ..., 0, 0, 0],\n",
      "        [1, 1, 1,  ..., 0, 0, 0],\n",
      "        [1, 1, 1,  ..., 0, 0, 0]]), 'decoder_attention_mask': tensor([[1, 1, 1,  ..., 0, 0, 0],\n",
      "        [1, 1, 1,  ..., 0, 0, 0],\n",
      "        [1, 1, 1,  ..., 0, 0, 0],\n",
      "        ...,\n",
      "        [1, 1, 1,  ..., 0, 0, 0],\n",
      "        [1, 1, 1,  ..., 0, 0, 0],\n",
      "        [1, 1, 1,  ..., 0, 0, 0]]), 'labels': tensor([[1233,  224,  265,  ..., -100, -100, -100],\n",
      "        [1233,  224,  261,  ..., -100, -100, -100],\n",
      "        [1233,  224,  276,  ..., -100, -100, -100],\n",
      "        ...,\n",
      "        [1233,  224,  295,  ..., -100, -100, -100],\n",
      "        [1233,  224,   50,  ..., -100, -100, -100],\n",
      "        [1233,  224,  275,  ..., -100, -100, -100]])}\n",
      "{'input_ids': tensor([[14, 16, 17,  ...,  2,  2,  2],\n",
      "        [33, 34, 35,  ...,  2,  2,  2],\n",
      "        [15, 17, 18,  ...,  2,  2,  2],\n",
      "        ...,\n",
      "        [28, 29, 30,  ...,  2,  2,  2],\n",
      "        [30, 33, 34,  ...,  2,  2,  2],\n",
      "        [19, 26, 27,  ...,  2,  2,  2]]), 'position_ids': tensor([[ 1,  3,  4,  ..., -1, -1, -1],\n",
      "        [ 2,  1,  0,  ..., -1, -1, -1],\n",
      "        [ 2,  1,  2,  ..., -1, -1, -1],\n",
      "        ...,\n",
      "        [ 1,  2,  6,  ..., -1, -1, -1],\n",
      "        [ 1,  4,  0,  ..., -1, -1, -1],\n",
      "        [ 0,  1,  6,  ..., -1, -1, -1]]), 'attention_mask': tensor([[1, 1, 1,  ..., 0, 0, 0],\n",
      "        [1, 1, 1,  ..., 0, 0, 0],\n",
      "        [1, 1, 1,  ..., 0, 0, 0],\n",
      "        ...,\n",
      "        [1, 1, 1,  ..., 0, 0, 0],\n",
      "        [1, 1, 1,  ..., 0, 0, 0],\n",
      "        [1, 1, 1,  ..., 0, 0, 0]]), 'decoder_attention_mask': tensor([[1, 1, 1,  ..., 0, 0, 0],\n",
      "        [1, 1, 1,  ..., 0, 0, 0],\n",
      "        [1, 1, 1,  ..., 0, 0, 0],\n",
      "        ...,\n",
      "        [1, 1, 1,  ..., 0, 0, 0],\n",
      "        [1, 1, 1,  ..., 0, 0, 0],\n",
      "        [1, 1, 1,  ..., 0, 0, 0]]), 'labels': tensor([[1233,  224,  261,  ..., -100, -100, -100],\n",
      "        [1233,  224,  364,  ..., -100, -100, -100],\n",
      "        [1233,  224,  285,  ..., -100, -100, -100],\n",
      "        ...,\n",
      "        [1233,  224,  261,  ..., -100, -100, -100],\n",
      "        [1233,  224,  285,  ..., -100, -100, -100],\n",
      "        [1233,  224,  265,  ..., -100, -100, -100]])}\n",
      "{'input_ids': tensor([[33, 34, 37,  ...,  2,  2,  2],\n",
      "        [29, 33, 34,  ...,  2,  2,  2],\n",
      "        [28, 30, 33,  ...,  2,  2,  2],\n",
      "        ...,\n",
      "        [27, 29, 33,  ...,  2,  2,  2],\n",
      "        [15, 16, 17,  ...,  2,  2,  2],\n",
      "        [33, 39, 40,  ...,  2,  2,  2]]), 'position_ids': tensor([[ 3,  2,  0,  ..., -1, -1, -1],\n",
      "        [ 5,  2,  0,  ..., -1, -1, -1],\n",
      "        [ 3,  7,  4,  ..., -1, -1, -1],\n",
      "        ...,\n",
      "        [ 3,  3,  1,  ..., -1, -1, -1],\n",
      "        [ 1,  0,  2,  ..., -1, -1, -1],\n",
      "        [ 5,  8,  7,  ..., -1, -1, -1]]), 'attention_mask': tensor([[1, 1, 1,  ..., 0, 0, 0],\n",
      "        [1, 1, 1,  ..., 0, 0, 0],\n",
      "        [1, 1, 1,  ..., 0, 0, 0],\n",
      "        ...,\n",
      "        [1, 1, 1,  ..., 0, 0, 0],\n",
      "        [1, 1, 1,  ..., 0, 0, 0],\n",
      "        [1, 1, 1,  ..., 0, 0, 0]]), 'decoder_attention_mask': tensor([[1, 1, 1,  ..., 0, 0, 0],\n",
      "        [1, 1, 1,  ..., 0, 0, 0],\n",
      "        [1, 1, 1,  ..., 0, 0, 0],\n",
      "        ...,\n",
      "        [1, 1, 1,  ..., 0, 0, 0],\n",
      "        [1, 1, 1,  ..., 0, 0, 0],\n",
      "        [1, 1, 1,  ..., 0, 0, 0]]), 'labels': tensor([[1233,  224,  469,  ..., -100, -100, -100],\n",
      "        [1233,  224,  283,  ..., -100, -100, -100],\n",
      "        [1233,  224,  478,  ..., -100, -100, -100],\n",
      "        ...,\n",
      "        [1233,  224,  278,  ..., -100, -100, -100],\n",
      "        [1233,  224,  295,  ..., -100, -100, -100],\n",
      "        [1233,  224,  445,  ..., -100, -100, -100]])}\n",
      "{'input_ids': tensor([[ 26,  27,  28,  ...,   2,   2,   2],\n",
      "        [ 15,  29,  30,  ...,   2,   2,   2],\n",
      "        [ 27,  28,  36,  ...,   2,   2,   2],\n",
      "        ...,\n",
      "        [ 27,  29,  30,  ...,   2,   2,   2],\n",
      "        [ 33,  36,  38,  ..., 297, 298,   2],\n",
      "        [ 26,  27,  28,  ...,   2,   2,   2]]), 'position_ids': tensor([[ 2,  4,  2,  ..., -1, -1, -1],\n",
      "        [ 0,  4,  4,  ..., -1, -1, -1],\n",
      "        [ 5,  6,  1,  ..., -1, -1, -1],\n",
      "        ...,\n",
      "        [ 2,  1,  7,  ..., -1, -1, -1],\n",
      "        [ 3,  2,  4,  ...,  6,  2, -1],\n",
      "        [ 3,  7,  2,  ..., -1, -1, -1]]), 'attention_mask': tensor([[1, 1, 1,  ..., 0, 0, 0],\n",
      "        [1, 1, 1,  ..., 0, 0, 0],\n",
      "        [1, 1, 1,  ..., 0, 0, 0],\n",
      "        ...,\n",
      "        [1, 1, 1,  ..., 0, 0, 0],\n",
      "        [1, 1, 1,  ..., 1, 1, 0],\n",
      "        [1, 1, 1,  ..., 0, 0, 0]]), 'decoder_attention_mask': tensor([[1, 1, 1,  ..., 0, 0, 0],\n",
      "        [1, 1, 1,  ..., 0, 0, 0],\n",
      "        [1, 1, 1,  ..., 0, 0, 0],\n",
      "        ...,\n",
      "        [1, 1, 1,  ..., 0, 0, 0],\n",
      "        [1, 1, 1,  ..., 0, 0, 0],\n",
      "        [1, 1, 1,  ..., 0, 0, 0]]), 'labels': tensor([[1233,  224,  286,  ..., -100, -100, -100],\n",
      "        [1233,  224,  263,  ..., -100, -100, -100],\n",
      "        [1233,  224,  279,  ..., -100, -100, -100],\n",
      "        ...,\n",
      "        [1233,  224,  295,  ..., -100, -100, -100],\n",
      "        [1233,  224,   41,  ..., -100, -100, -100],\n",
      "        [1233,  224,   50,  ..., -100, -100, -100]])}\n",
      "{'input_ids': tensor([[39, 40, 41,  ...,  2,  2,  2],\n",
      "        [33, 34, 37,  ...,  2,  2,  2],\n",
      "        [18, 26, 27,  ...,  2,  2,  2],\n",
      "        ...,\n",
      "        [15, 16, 17,  ...,  2,  2,  2],\n",
      "        [19, 26, 27,  ...,  2,  2,  2],\n",
      "        [14, 15, 26,  ...,  2,  2,  2]]), 'position_ids': tensor([[ 6,  4,  9,  ..., -1, -1, -1],\n",
      "        [ 2,  1,  1,  ..., -1, -1, -1],\n",
      "        [ 1,  1,  6,  ..., -1, -1, -1],\n",
      "        ...,\n",
      "        [ 2,  0,  1,  ..., -1, -1, -1],\n",
      "        [ 2,  3,  6,  ..., -1, -1, -1],\n",
      "        [ 0,  2,  1,  ..., -1, -1, -1]]), 'attention_mask': tensor([[1, 1, 1,  ..., 0, 0, 0],\n",
      "        [1, 1, 1,  ..., 0, 0, 0],\n",
      "        [1, 1, 1,  ..., 0, 0, 0],\n",
      "        ...,\n",
      "        [1, 1, 1,  ..., 0, 0, 0],\n",
      "        [1, 1, 1,  ..., 0, 0, 0],\n",
      "        [1, 1, 1,  ..., 0, 0, 0]]), 'decoder_attention_mask': tensor([[1, 1, 1,  ..., 0, 0, 0],\n",
      "        [1, 1, 1,  ..., 0, 0, 0],\n",
      "        [1, 1, 1,  ..., 0, 0, 0],\n",
      "        ...,\n",
      "        [1, 1, 1,  ..., 0, 0, 0],\n",
      "        [1, 1, 1,  ..., 0, 0, 0],\n",
      "        [1, 1, 1,  ..., 0, 0, 0]]), 'labels': tensor([[1233,  224,  263,  ..., -100, -100, -100],\n",
      "        [1233,  224,   70,  ..., -100, -100, -100],\n",
      "        [1233,  224,  327,  ..., -100, -100, -100],\n",
      "        ...,\n",
      "        [1233,  224,  495,  ..., -100, -100, -100],\n",
      "        [1233,  224,  286,  ..., -100, -100, -100],\n",
      "        [1233,  224,  261,  ..., -100, -100, -100]])}\n",
      "{'input_ids': tensor([[28, 29, 30,  ...,  2,  2,  2],\n",
      "        [39, 40, 41,  ...,  2,  2,  2],\n",
      "        [33, 36, 37,  ...,  2,  2,  2],\n",
      "        ...,\n",
      "        [15, 26, 27,  ...,  2,  2,  2],\n",
      "        [17, 18, 26,  ...,  2,  2,  2],\n",
      "        [14, 15, 26,  ...,  2,  2,  2]]), 'position_ids': tensor([[ 1,  5,  7,  ..., -1, -1, -1],\n",
      "        [ 6,  5,  8,  ..., -1, -1, -1],\n",
      "        [ 1,  1,  3,  ..., -1, -1, -1],\n",
      "        ...,\n",
      "        [ 1,  3,  6,  ..., -1, -1, -1],\n",
      "        [ 2,  0,  3,  ..., -1, -1, -1],\n",
      "        [ 0,  4,  5,  ..., -1, -1, -1]]), 'attention_mask': tensor([[1, 1, 1,  ..., 0, 0, 0],\n",
      "        [1, 1, 1,  ..., 0, 0, 0],\n",
      "        [1, 1, 1,  ..., 0, 0, 0],\n",
      "        ...,\n",
      "        [1, 1, 1,  ..., 0, 0, 0],\n",
      "        [1, 1, 1,  ..., 0, 0, 0],\n",
      "        [1, 1, 1,  ..., 0, 0, 0]]), 'decoder_attention_mask': tensor([[1, 1, 1,  ..., 0, 0, 0],\n",
      "        [1, 1, 1,  ..., 0, 0, 0],\n",
      "        [1, 1, 1,  ..., 0, 0, 0],\n",
      "        ...,\n",
      "        [1, 1, 1,  ..., 0, 0, 0],\n",
      "        [1, 1, 1,  ..., 0, 0, 0],\n",
      "        [1, 1, 1,  ..., 0, 0, 0]]), 'labels': tensor([[1233,  224,  400,  ..., -100, -100, -100],\n",
      "        [1233,  224,  261,  ..., -100, -100, -100],\n",
      "        [1233,  224,  327,  ..., -100, -100, -100],\n",
      "        ...,\n",
      "        [1233,  224,  261,  ..., -100, -100, -100],\n",
      "        [1233,  224,  265,  ..., -100, -100, -100],\n",
      "        [1233,  224,  297,  ..., -100, -100, -100]])}\n",
      "{'input_ids': tensor([[16, 17, 18,  ...,  2,  2,  2],\n",
      "        [27, 29, 31,  ...,  2,  2,  2],\n",
      "        [28, 31, 33,  ...,  2,  2,  2],\n",
      "        ...,\n",
      "        [33, 34, 38,  ...,  2,  2,  2],\n",
      "        [33, 36, 37,  ...,  2,  2,  2],\n",
      "        [15, 19, 26,  ...,  2,  2,  2]]), 'position_ids': tensor([[ 0,  3,  3,  ..., -1, -1, -1],\n",
      "        [ 0,  3,  5,  ..., -1, -1, -1],\n",
      "        [ 1,  3,  5,  ..., -1, -1, -1],\n",
      "        ...,\n",
      "        [ 4,  2,  3,  ..., -1, -1, -1],\n",
      "        [ 1,  5,  1,  ..., -1, -1, -1],\n",
      "        [ 1,  1,  2,  ..., -1, -1, -1]]), 'attention_mask': tensor([[1, 1, 1,  ..., 0, 0, 0],\n",
      "        [1, 1, 1,  ..., 0, 0, 0],\n",
      "        [1, 1, 1,  ..., 0, 0, 0],\n",
      "        ...,\n",
      "        [1, 1, 1,  ..., 0, 0, 0],\n",
      "        [1, 1, 1,  ..., 0, 0, 0],\n",
      "        [1, 1, 1,  ..., 0, 0, 0]]), 'decoder_attention_mask': tensor([[1, 1, 1,  ..., 0, 0, 0],\n",
      "        [1, 1, 1,  ..., 0, 0, 0],\n",
      "        [1, 1, 1,  ..., 0, 0, 0],\n",
      "        ...,\n",
      "        [1, 1, 1,  ..., 0, 0, 0],\n",
      "        [1, 1, 1,  ..., 0, 0, 0],\n",
      "        [1, 1, 1,  ..., 0, 0, 0]]), 'labels': tensor([[1233,  224,  438,  ..., -100, -100, -100],\n",
      "        [1233,  224,  295,  ..., -100, -100, -100],\n",
      "        [1233,  224,  495,  ..., -100, -100, -100],\n",
      "        ...,\n",
      "        [1233,  224,  327,  ..., -100, -100, -100],\n",
      "        [1233,  224,  364,  ..., -100, -100, -100],\n",
      "        [1233,  224,  407,  ..., -100, -100, -100]])}\n",
      "{'input_ids': tensor([[39, 40, 41,  ...,  2,  2,  2],\n",
      "        [15, 26, 28,  ...,  2,  2,  2],\n",
      "        [15, 26, 27,  ...,  2,  2,  2],\n",
      "        ...,\n",
      "        [33, 34, 36,  ...,  2,  2,  2],\n",
      "        [33, 34, 35,  ...,  2,  2,  2],\n",
      "        [14, 15, 17,  ...,  2,  2,  2]]), 'position_ids': tensor([[ 7,  6,  8,  ..., -1, -1, -1],\n",
      "        [ 0,  1,  3,  ..., -1, -1, -1],\n",
      "        [ 3,  1,  3,  ..., -1, -1, -1],\n",
      "        ...,\n",
      "        [ 1,  0,  5,  ..., -1, -1, -1],\n",
      "        [ 3,  3,  6,  ..., -1, -1, -1],\n",
      "        [ 1,  4,  3,  ..., -1, -1, -1]]), 'attention_mask': tensor([[1, 1, 1,  ..., 0, 0, 0],\n",
      "        [1, 1, 1,  ..., 0, 0, 0],\n",
      "        [1, 1, 1,  ..., 0, 0, 0],\n",
      "        ...,\n",
      "        [1, 1, 1,  ..., 0, 0, 0],\n",
      "        [1, 1, 1,  ..., 0, 0, 0],\n",
      "        [1, 1, 1,  ..., 0, 0, 0]]), 'decoder_attention_mask': tensor([[1, 1, 1,  ..., 0, 0, 0],\n",
      "        [1, 1, 1,  ..., 0, 0, 0],\n",
      "        [1, 1, 1,  ..., 0, 0, 0],\n",
      "        ...,\n",
      "        [1, 1, 1,  ..., 0, 0, 0],\n",
      "        [1, 1, 1,  ..., 0, 0, 0],\n",
      "        [1, 1, 1,  ..., 0, 0, 0]]), 'labels': tensor([[1233,  224,   50,  ..., -100, -100, -100],\n",
      "        [1233,  224,  263,  ..., -100, -100, -100],\n",
      "        [1233,  224,  495,  ..., -100, -100, -100],\n",
      "        ...,\n",
      "        [1233,  224,  279,  ..., -100, -100, -100],\n",
      "        [1233,  224,  498,  ..., -100, -100, -100],\n",
      "        [1233,  224,  356,  ..., -100, -100, -100]])}\n",
      "{'input_ids': tensor([[15, 17, 18,  ...,  2,  2,  2],\n",
      "        [27, 28, 38,  ...,  2,  2,  2],\n",
      "        [31, 33, 39,  ...,  2,  2,  2],\n",
      "        ...,\n",
      "        [26, 27, 28,  ...,  2,  2,  2],\n",
      "        [14, 15, 26,  ...,  2,  2,  2],\n",
      "        [16, 17, 18,  ...,  2,  2,  2]]), 'position_ids': tensor([[ 1,  2,  3,  ..., -1, -1, -1],\n",
      "        [ 3,  3,  1,  ..., -1, -1, -1],\n",
      "        [ 4,  3,  7,  ..., -1, -1, -1],\n",
      "        ...,\n",
      "        [ 3,  6,  4,  ..., -1, -1, -1],\n",
      "        [ 1,  4,  3,  ..., -1, -1, -1],\n",
      "        [ 0,  4,  4,  ..., -1, -1, -1]]), 'attention_mask': tensor([[1, 1, 1,  ..., 0, 0, 0],\n",
      "        [1, 1, 1,  ..., 0, 0, 0],\n",
      "        [1, 1, 1,  ..., 0, 0, 0],\n",
      "        ...,\n",
      "        [1, 1, 1,  ..., 0, 0, 0],\n",
      "        [1, 1, 1,  ..., 0, 0, 0],\n",
      "        [1, 1, 1,  ..., 0, 0, 0]]), 'decoder_attention_mask': tensor([[1, 1, 1,  ..., 0, 0, 0],\n",
      "        [1, 1, 1,  ..., 0, 0, 0],\n",
      "        [1, 1, 1,  ..., 0, 0, 0],\n",
      "        ...,\n",
      "        [1, 1, 1,  ..., 0, 0, 0],\n",
      "        [1, 1, 1,  ..., 0, 0, 0],\n",
      "        [1, 1, 1,  ..., 0, 0, 0]]), 'labels': tensor([[1233,  224,   49,  ..., -100, -100, -100],\n",
      "        [1233,  224,  261,  ..., -100, -100, -100],\n",
      "        [1233,  224,  306,  ..., -100, -100, -100],\n",
      "        ...,\n",
      "        [1233,  224,   38,  ..., -100, -100, -100],\n",
      "        [1233,  224,  453,  ..., -100, -100, -100],\n",
      "        [1233,  224,  295,  ..., -100, -100, -100]])}\n",
      "{'input_ids': tensor([[33, 34, 38,  ...,  2,  2,  2],\n",
      "        [28, 29, 30,  ...,  2,  2,  2],\n",
      "        [39, 40, 41,  ...,  2,  2,  2],\n",
      "        ...,\n",
      "        [39, 40, 41,  ...,  2,  2,  2],\n",
      "        [27, 28, 29,  ...,  2,  2,  2],\n",
      "        [26, 27, 28,  ...,  2,  2,  2]]), 'position_ids': tensor([[ 4,  0,  2,  ..., -1, -1, -1],\n",
      "        [ 5,  4,  6,  ..., -1, -1, -1],\n",
      "        [ 6,  2,  7,  ..., -1, -1, -1],\n",
      "        ...,\n",
      "        [ 7,  1,  7,  ..., -1, -1, -1],\n",
      "        [ 1,  4,  1,  ..., -1, -1, -1],\n",
      "        [ 4,  7,  5,  ..., -1, -1, -1]]), 'attention_mask': tensor([[1, 1, 1,  ..., 0, 0, 0],\n",
      "        [1, 1, 1,  ..., 0, 0, 0],\n",
      "        [1, 1, 1,  ..., 0, 0, 0],\n",
      "        ...,\n",
      "        [1, 1, 1,  ..., 0, 0, 0],\n",
      "        [1, 1, 1,  ..., 0, 0, 0],\n",
      "        [1, 1, 1,  ..., 0, 0, 0]]), 'decoder_attention_mask': tensor([[1, 1, 1,  ..., 0, 0, 0],\n",
      "        [1, 1, 1,  ..., 0, 0, 0],\n",
      "        [1, 1, 1,  ..., 0, 0, 0],\n",
      "        ...,\n",
      "        [1, 1, 1,  ..., 0, 0, 0],\n",
      "        [1, 1, 1,  ..., 0, 0, 0],\n",
      "        [1, 1, 1,  ..., 0, 0, 0]]), 'labels': tensor([[1233,  224,   50,  ..., -100, -100, -100],\n",
      "        [1233,  224,  265,  ..., -100, -100, -100],\n",
      "        [1233,  224,   50,  ..., -100, -100, -100],\n",
      "        ...,\n",
      "        [1233,  224,  285,  ..., -100, -100, -100],\n",
      "        [1233,  224,  278,  ..., -100, -100, -100],\n",
      "        [1233,  224,   50,  ..., -100, -100, -100]])}\n",
      "{'input_ids': tensor([[15, 26, 27,  ...,  2,  2,  2],\n",
      "        [26, 27, 28,  ...,  2,  2,  2],\n",
      "        [27, 28, 29,  ...,  2,  2,  2],\n",
      "        ...,\n",
      "        [33, 36, 37,  ...,  2,  2,  2],\n",
      "        [39, 40, 41,  ...,  2,  2,  2],\n",
      "        [15, 27, 28,  ...,  2,  2,  2]]), 'position_ids': tensor([[ 4,  5,  8,  ..., -1, -1, -1],\n",
      "        [ 0,  3,  4,  ..., -1, -1, -1],\n",
      "        [ 6,  4,  6,  ..., -1, -1, -1],\n",
      "        ...,\n",
      "        [ 3,  2,  1,  ..., -1, -1, -1],\n",
      "        [ 7,  5,  9,  ..., -1, -1, -1],\n",
      "        [ 3,  6,  6,  ..., -1, -1, -1]]), 'attention_mask': tensor([[1, 1, 1,  ..., 0, 0, 0],\n",
      "        [1, 1, 1,  ..., 0, 0, 0],\n",
      "        [1, 1, 1,  ..., 0, 0, 0],\n",
      "        ...,\n",
      "        [1, 1, 1,  ..., 0, 0, 0],\n",
      "        [1, 1, 1,  ..., 0, 0, 0],\n",
      "        [1, 1, 1,  ..., 0, 0, 0]]), 'decoder_attention_mask': tensor([[1, 1, 1,  ..., 0, 0, 0],\n",
      "        [1, 1, 1,  ..., 0, 0, 0],\n",
      "        [1, 1, 1,  ..., 0, 0, 0],\n",
      "        ...,\n",
      "        [1, 1, 1,  ..., 0, 0, 0],\n",
      "        [1, 1, 1,  ..., 0, 0, 0],\n",
      "        [1, 1, 1,  ..., 0, 0, 0]]), 'labels': tensor([[1233,  224,  330,  ..., -100, -100, -100],\n",
      "        [1233,  224,  263,  ..., -100, -100, -100],\n",
      "        [1233,  224,  452,  ..., -100, -100, -100],\n",
      "        ...,\n",
      "        [1233,  224,  261,  ..., -100, -100, -100],\n",
      "        [1233,  224,   38,  ..., -100, -100, -100],\n",
      "        [1233,  224,  276,  ..., -100, -100, -100]])}\n",
      "n_sample = 20\n"
     ]
    }
   ],
   "source": [
    "dl = DataLoader(dataset=datapipes[\"valid\"][\"30M_rassp\"], batch_size=8, num_workers=1, collate_fn=collate_fn)\n",
    "first = next(iter(dl))\n",
    "n_sample = 0\n",
    "for query_row in iter(dl):\n",
    "    print(query_row)\n",
    "    n_sample += 1\n",
    "    if n_sample == 20:\n",
    "        break\n",
    "print(f\"{n_sample = }\")"
   ]
  },
  {
   "cell_type": "code",
   "execution_count": 1,
   "metadata": {},
   "outputs": [
    {
     "ename": "NameError",
     "evalue": "name 'datapipes' is not defined",
     "output_type": "error",
     "traceback": [
      "\u001b[0;31m---------------------------------------------------------------------------\u001b[0m",
      "\u001b[0;31mNameError\u001b[0m                                 Traceback (most recent call last)",
      "Cell \u001b[0;32mIn[1], line 1\u001b[0m\n\u001b[0;32m----> 1\u001b[0m datapipes\n",
      "\u001b[0;31mNameError\u001b[0m: name 'datapipes' is not defined"
     ]
    }
   ],
   "source": [
    "datapipes"
   ]
  },
  {
   "cell_type": "code",
   "execution_count": 13,
   "metadata": {},
   "outputs": [
    {
     "ename": "NameError",
     "evalue": "name 'tokenizer' is not defined",
     "output_type": "error",
     "traceback": [
      "\u001b[0;31m---------------------------------------------------------------------------\u001b[0m",
      "\u001b[0;31mNameError\u001b[0m                                 Traceback (most recent call last)",
      "Cell \u001b[0;32mIn[13], line 1\u001b[0m\n\u001b[0;32m----> 1\u001b[0m tokenizer\u001b[39m.\u001b[39mpad_token_id\n",
      "\u001b[0;31mNameError\u001b[0m: name 'tokenizer' is not defined"
     ]
    }
   ],
   "source": [
    "tokenizer.pad_token_id"
   ]
  },
  {
   "cell_type": "code",
   "execution_count": 7,
   "metadata": {},
   "outputs": [
    {
     "data": {
      "text/plain": [
       "range(0, 4)"
      ]
     },
     "execution_count": 7,
     "metadata": {},
     "output_type": "execute_result"
    }
   ],
   "source": [
    "a = range(10)[None:4]\n",
    "a"
   ]
  },
  {
   "cell_type": "code",
   "execution_count": 19,
   "metadata": {},
   "outputs": [
    {
     "data": {
      "image/png": "[encoded data removed]",
      "text/plain": [
       "<PIL.PngImagePlugin.PngImageFile image mode=RGB size=300x300>"
      ]
     },
     "execution_count": 19,
     "metadata": {},
     "output_type": "execute_result"
    }
   ],
   "source": [
    "from rdkit import Chem\n",
    "Chem.Draw.MolToImage(Chem.MolFromSmiles(\"C1=CC=CC=C1\"))"
   ]
  },
  {
   "cell_type": "code",
   "execution_count": 21,
   "metadata": {},
   "outputs": [
    {
     "data": {
      "text/plain": [
       "'/home/xhajek9/miniconda3/envs/BARTtrain/bin/python'"
      ]
     },
     "execution_count": 21,
     "metadata": {},
     "output_type": "execute_result"
    }
   ],
   "source": [
    "# what is the path of python behind this notebook\n",
    "import sys\n",
    "sys.executable"
   ]
  },
  {
   "cell_type": "code",
   "execution_count": 25,
   "metadata": {},
   "outputs": [],
   "source": [
    "import rdkit.Chem.Draw\n"
   ]
  },
  {
   "cell_type": "code",
   "execution_count": 27,
   "metadata": {},
   "outputs": [],
   "source": [
    "from rdkit.Chem import Draw, MolFromSmiles"
   ]
  },
  {
   "cell_type": "markdown",
   "metadata": {},
   "source": [
    "### Callback debug"
   ]
  },
  {
   "cell_type": "code",
   "execution_count": 30,
   "metadata": {},
   "outputs": [],
   "source": [
    "from __future__ import annotations\n",
    "\n",
    "import math\n",
    "import pathlib\n",
    "import shutil\n",
    "from typing import Callable, Iterable\n",
    "\n",
    "from tqdm.auto import tqdm\n",
    "import pandas as pd\n",
    "import transformers\n",
    "import tokenizers\n",
    "import wandb\n",
    "import torch\n",
    "import torch.utils.data\n",
    "import warnings\n",
    "from rdkit import Chem, DataStructs\n",
    "from rdkit.Chem import Draw, MolFromSmiles, RDKFingerprint"
   ]
  },
  {
   "cell_type": "code",
   "execution_count": 34,
   "metadata": {},
   "outputs": [
    {
     "data": {
      "text/plain": [
       "rdkit.Chem.rdchem.Mol"
      ]
     },
     "execution_count": 34,
     "metadata": {},
     "output_type": "execute_result"
    }
   ],
   "source": [
    "pred_mol = Chem.MolFromSmiles(\"C1=CC=CC=C1\")\n",
    "type(pred_mol)"
   ]
  },
  {
   "cell_type": "code",
   "execution_count": 38,
   "metadata": {},
   "outputs": [
    {
     "ename": "ImportError",
     "evalue": "attempted relative import with no known parent package",
     "output_type": "error",
     "traceback": [
      "\u001b[0;31m---------------------------------------------------------------------------\u001b[0m",
      "\u001b[0;31mImportError\u001b[0m                               Traceback (most recent call last)",
      "Cell \u001b[0;32mIn[38], line 1\u001b[0m\n\u001b[0;32m----> 1\u001b[0m \u001b[39mfrom\u001b[39;00m \u001b[39mcallbacks\u001b[39;00m \u001b[39mimport\u001b[39;00m PredictionLogger \u001b[39m# compute_cos_simils\u001b[39;00m\n",
      "File \u001b[0;32m~/gc-ms_bart/callbacks.py:21\u001b[0m\n\u001b[1;32m     18\u001b[0m \u001b[39mfrom\u001b[39;00m \u001b[39micecream\u001b[39;00m \u001b[39mimport\u001b[39;00m ic\n\u001b[1;32m     20\u001b[0m \u001b[39mfrom\u001b[39;00m \u001b[39mbart_spektro\u001b[39;00m\u001b[39m.\u001b[39;00m\u001b[39mmodeling_bart_spektro\u001b[39;00m \u001b[39mimport\u001b[39;00m BartSpektroForConditionalGeneration\n\u001b[0;32m---> 21\u001b[0m \u001b[39mfrom\u001b[39;00m \u001b[39m.\u001b[39;00m\u001b[39mcallbacks\u001b[39;00m \u001b[39mimport\u001b[39;00m compute_cos_simils\n\u001b[1;32m     24\u001b[0m \u001b[39mclass\u001b[39;00m \u001b[39mPredictionLogger\u001b[39;00m(transformers\u001b[39m.\u001b[39mTrainerCallback):\n\u001b[1;32m     25\u001b[0m     \u001b[39mdef\u001b[39;00m \u001b[39m__init__\u001b[39m(\n\u001b[1;32m     26\u001b[0m         \u001b[39mself\u001b[39m,\n\u001b[1;32m     27\u001b[0m         datasets: \u001b[39mlist\u001b[39m[torch\u001b[39m.\u001b[39mutils\u001b[39m.\u001b[39mdata\u001b[39m.\u001b[39mDataset] \u001b[39m|\u001b[39m \u001b[39mlist\u001b[39m[torch\u001b[39m.\u001b[39mutils\u001b[39m.\u001b[39mdata\u001b[39m.\u001b[39mIterableDataset],\n\u001b[0;32m   (...)\u001b[0m\n\u001b[1;32m     35\u001b[0m     ) \u001b[39m-\u001b[39m\u001b[39m>\u001b[39m \u001b[39mNone\u001b[39;00m:\n\u001b[1;32m     36\u001b[0m         \u001b[39m# super().__init__(**kwargs) # not needed?\u001b[39;00m\n",
      "\u001b[0;31mImportError\u001b[0m: attempted relative import with no known parent package"
     ]
    }
   ],
   "source": [
    "from callbacks import PredictionLogger # compute_cos_simils"
   ]
  },
  {
   "cell_type": "code",
   "execution_count": 45,
   "metadata": {},
   "outputs": [],
   "source": [
    "a = {\"a\":2, \"b\":3}\n",
    "x = a.get(\"c\", None) "
   ]
  },
  {
   "cell_type": "code",
   "execution_count": 46,
   "metadata": {},
   "outputs": [
    {
     "data": {
      "text/plain": [
       "True"
      ]
     },
     "execution_count": 46,
     "metadata": {},
     "output_type": "execute_result"
    }
   ],
   "source": [
    "x is None"
   ]
  },
  {
   "cell_type": "code",
   "execution_count": 149,
   "metadata": {},
   "outputs": [
    {
     "name": "stderr",
     "output_type": "stream",
     "text": [
      "No `TrainingArguments` passed, using `output_dir=tmp_trainer`.\n",
      "Found safetensors installation, but --save_safetensors=False. Safetensors should be a preferred weights saving format due to security and performance reasons. If your model cannot be saved by safetensors please feel free to open an issue at https://github.com/huggingface/safetensors!\n",
      "PyTorch: setting up devices\n",
      "The default value for the training argument `--report_to` will change in v5 (from all installed integrations to none). In v5, you will need to use `--report_to all` to get the same behavior as now. You should start updating your code and make this info disappear :-).\n"
     ]
    },
    {
     "ename": "RuntimeError",
     "evalue": "`Trainer` requires either a `model` or `model_init` argument",
     "output_type": "error",
     "traceback": [
      "\u001b[0;31m---------------------------------------------------------------------------\u001b[0m",
      "\u001b[0;31mRuntimeError\u001b[0m                              Traceback (most recent call last)",
      "Cell \u001b[0;32mIn[149], line 1\u001b[0m\n\u001b[0;32m----> 1\u001b[0m transformers\u001b[39m.\u001b[39;49mTrainer()\n",
      "File \u001b[0;32m~/miniconda3/envs/BARTtrain/lib/python3.8/site-packages/transformers/trainer.py:354\u001b[0m, in \u001b[0;36mTrainer.__init__\u001b[0;34m(self, model, args, data_collator, train_dataset, eval_dataset, tokenizer, model_init, compute_metrics, callbacks, optimizers, preprocess_logits_for_metrics)\u001b[0m\n\u001b[1;32m    352\u001b[0m         model \u001b[39m=\u001b[39m \u001b[39mself\u001b[39m\u001b[39m.\u001b[39mcall_model_init()\n\u001b[1;32m    353\u001b[0m     \u001b[39melse\u001b[39;00m:\n\u001b[0;32m--> 354\u001b[0m         \u001b[39mraise\u001b[39;00m \u001b[39mRuntimeError\u001b[39;00m(\u001b[39m\"\u001b[39m\u001b[39m`Trainer` requires either a `model` or `model_init` argument\u001b[39m\u001b[39m\"\u001b[39m)\n\u001b[1;32m    355\u001b[0m \u001b[39melse\u001b[39;00m:\n\u001b[1;32m    356\u001b[0m     \u001b[39mif\u001b[39;00m model_init \u001b[39mis\u001b[39;00m \u001b[39mnot\u001b[39;00m \u001b[39mNone\u001b[39;00m:\n",
      "\u001b[0;31mRuntimeError\u001b[0m: `Trainer` requires either a `model` or `model_init` argument"
     ]
    }
   ],
   "source": [
    "transformers.Trainer()"
   ]
  },
  {
   "cell_type": "code",
   "execution_count": 125,
   "metadata": {},
   "outputs": [
    {
     "name": "stderr",
     "output_type": "stream",
     "text": [
      "100%|██████████| 1000/1000 [00:00<00:00, 1197.74it/s]\n"
     ]
    },
    {
     "name": "stdout",
     "output_type": "stream",
     "text": [
      "0 no smiles\n",
      "0 smiles too long\n",
      "0 spectra corrupted\n",
      "0 spectra w/ too high mz\n",
      "13 spectra w/ too many peaks\n",
      "totally 13 issues\n",
      "discarded 13/1000 spectra \n"
     ]
    }
   ],
   "source": [
    "from spectra_process_utils import msp_file_to_jsonl\n",
    "\n",
    "msp_file_to_jsonl(\"data/datasets/30M_rassp/rassp_gen/msps/30M_rassp-35_10.msp\", \n",
    "                  \"tokenizer/bbpe_tokenizer/bart_bbpe_1M_tokenizer.model\",\n",
    "                  source_token=\"<rassp>\",\n",
    "                  path_jsonl=\"data/datasets/30M_rassp/rassp_gen/TEST.jsonl\", \n",
    "                  max_cumsum=0.995)"
   ]
  },
  {
   "cell_type": "code",
   "execution_count": 123,
   "metadata": {},
   "outputs": [
    {
     "data": {
      "text/plain": [
       "array([[PosixPath('data/datasets/30M_rassp/rassp_gen/msps/30M_rassp-17_67.msp'),\n",
       "        PosixPath('data/datasets/30M_rassp/rassp_gen/msps/30M_rassp-36_43.msp'),\n",
       "        PosixPath('data/datasets/30M_rassp/rassp_gen/msps/30M_rassp-47_90.msp'),\n",
       "        ...,\n",
       "        PosixPath('data/datasets/30M_rassp/rassp_gen/msps/30M_rassp-28_53.msp'),\n",
       "        PosixPath('data/datasets/30M_rassp/rassp_gen/msps/30M_rassp-21_17.msp'),\n",
       "        PosixPath('data/datasets/30M_rassp/rassp_gen/msps/30M_rassp-18_23.msp')],\n",
       "       [PosixPath('data/datasets/30M_rassp/rassp_gen/msps/30M_rassp-06_54.msp'),\n",
       "        PosixPath('data/datasets/30M_rassp/rassp_gen/msps/30M_rassp-15_11.msp'),\n",
       "        PosixPath('data/datasets/30M_rassp/rassp_gen/msps/30M_rassp-26_82.msp'),\n",
       "        ...,\n",
       "        PosixPath('data/datasets/30M_rassp/rassp_gen/msps/30M_rassp-16_89.msp'),\n",
       "        PosixPath('data/datasets/30M_rassp/rassp_gen/msps/30M_rassp-43_49.msp'),\n",
       "        PosixPath('data/datasets/30M_rassp/rassp_gen/msps/30M_rassp-44_73.msp')],\n",
       "       [PosixPath('data/datasets/30M_rassp/rassp_gen/msps/30M_rassp-28_86.msp'),\n",
       "        PosixPath('data/datasets/30M_rassp/rassp_gen/msps/30M_rassp-24_13.msp'),\n",
       "        PosixPath('data/datasets/30M_rassp/rassp_gen/msps/30M_rassp-15_05.msp'),\n",
       "        ...,\n",
       "        PosixPath('data/datasets/30M_rassp/rassp_gen/msps/30M_rassp-21_04.msp'),\n",
       "        PosixPath('data/datasets/30M_rassp/rassp_gen/msps/30M_rassp-14_88.msp'),\n",
       "        PosixPath('data/datasets/30M_rassp/rassp_gen/msps/30M_rassp-29_17.msp')],\n",
       "       ...,\n",
       "       [PosixPath('data/datasets/30M_rassp/rassp_gen/msps/30M_rassp-15_17.msp'),\n",
       "        PosixPath('data/datasets/30M_rassp/rassp_gen/msps/30M_rassp-14_87.msp'),\n",
       "        PosixPath('data/datasets/30M_rassp/rassp_gen/msps/30M_rassp-47_01.msp'),\n",
       "        ...,\n",
       "        PosixPath('data/datasets/30M_rassp/rassp_gen/msps/30M_rassp-26_40.msp'),\n",
       "        PosixPath('data/datasets/30M_rassp/rassp_gen/msps/30M_rassp-48_11.msp'),\n",
       "        PosixPath('data/datasets/30M_rassp/rassp_gen/msps/30M_rassp-28_19.msp')],\n",
       "       [PosixPath('data/datasets/30M_rassp/rassp_gen/msps/30M_rassp-35_52.msp'),\n",
       "        PosixPath('data/datasets/30M_rassp/rassp_gen/msps/30M_rassp-04_44.msp'),\n",
       "        PosixPath('data/datasets/30M_rassp/rassp_gen/msps/30M_rassp-06_46.msp'),\n",
       "        ...,\n",
       "        PosixPath('data/datasets/30M_rassp/rassp_gen/msps/30M_rassp-16_11.msp'),\n",
       "        PosixPath('data/datasets/30M_rassp/rassp_gen/msps/30M_rassp-30_16.msp'),\n",
       "        PosixPath('data/datasets/30M_rassp/rassp_gen/msps/30M_rassp-06_76.msp')],\n",
       "       [PosixPath('data/datasets/30M_rassp/rassp_gen/msps/30M_rassp-24_31.msp'),\n",
       "        PosixPath('data/datasets/30M_rassp/rassp_gen/msps/30M_rassp-21_92.msp'),\n",
       "        PosixPath('data/datasets/30M_rassp/rassp_gen/msps/30M_rassp-04_74.msp'),\n",
       "        ..., None, None, None]], dtype=object)"
      ]
     },
     "execution_count": 123,
     "metadata": {},
     "output_type": "execute_result"
    }
   ],
   "source": [
    "from pathlib import Path\n",
    " \n",
    "num_processes = 32\n",
    "dir = \"data/datasets/30M_rassp/rassp_gen/msps/\"\n",
    "files = list(Path(dir).glob(\"*\"))\n",
    "pad_len = num_processes - (len(files)%num_processes)\n",
    "files += [None] * pad_len\n",
    "grouped_files = np.array(files).reshape(32, -1)\n",
    "# indexes = np.arange(len(files)).reshape(10, -1)\n",
    "grouped_files"
   ]
  },
  {
   "cell_type": "code",
   "execution_count": 131,
   "metadata": {},
   "outputs": [],
   "source": [
    "# split rassp dataset to train test valid\n",
    "def data_split(df, train_test_valid_ratio: list):\n",
    "    \"\"\"split the df into train, test and valid sets\"\"\"\n",
    "    if sum(train_test_valid_ratio) != 1:\n",
    "        print(\"train_test_valid_ratio does not sum to 1\")\n",
    "        return None, None, None\n",
    "    train_set = df.sample(\n",
    "        frac=train_test_valid_ratio[0], random_state=42)\n",
    "    rest = df.drop(train_set.index)\n",
    "\n",
    "    test_set = rest.sample(frac=train_test_valid_ratio[1]/(train_test_valid_ratio[1]+train_test_valid_ratio[2]),\n",
    "                           random_state=42)\n",
    "    valid_set = rest.drop(test_set.index)\n",
    "    print(f\"train len: {len(train_set)}, test len: {len(test_set)}, valid len: {len(valid_set)}\")\n",
    "    return train_set, test_set, valid_set"
   ]
  },
  {
   "cell_type": "code",
   "execution_count": 127,
   "metadata": {},
   "outputs": [],
   "source": [
    "df = pd.read_json(\"data/datasets/30M_rassp/rassp_gen/jsonls/all.jsonl\", lines=True)"
   ]
  },
  {
   "cell_type": "code",
   "execution_count": 132,
   "metadata": {},
   "outputs": [
    {
     "name": "stdout",
     "output_type": "stream",
     "text": [
      "train len: 4322581, test len: 240144, valid len: 240143\n"
     ]
    }
   ],
   "source": [
    "train, test, valid = data_split(df, [0.9, 0.05, 0.05])"
   ]
  },
  {
   "cell_type": "code",
   "execution_count": 134,
   "metadata": {},
   "outputs": [],
   "source": [
    "train.to_json(\"data/datasets/30M_rassp/rassp_gen/train.jsonl\", orient=\"records\", lines=True)\n",
    "test.to_json(\"data/datasets/30M_rassp/rassp_gen/test.jsonl\", orient=\"records\", lines=True)\n",
    "valid.to_json(\"data/datasets/30M_rassp/rassp_gen/valid.jsonl\", orient=\"records\", lines=True)"
   ]
  },
  {
   "cell_type": "markdown",
   "metadata": {},
   "source": [
    "## NIST preprocess again (no overlaps in train - valid now)"
   ]
  },
  {
   "cell_type": "code",
   "execution_count": 7,
   "metadata": {},
   "outputs": [
    {
     "name": "stderr",
     "output_type": "stream",
     "text": [
      " 11%|█         | 2917/26365 [00:01<00:12, 1853.77it/s][17:32:43] Explicit valence for atom # 1 Cl, 7, is greater than permitted\n",
      " 12%|█▏        | 3284/26365 [00:01<00:12, 1792.52it/s]"
     ]
    },
    {
     "name": "stdout",
     "output_type": "stream",
     "text": [
      "Couldn't be canonicalized due to Exception: Python argument types in\n",
      "    rdkit.Chem.rdmolfiles.MolToSmiles(NoneType, bool)\n",
      "did not match C++ signature:\n",
      "    MolToSmiles(RDKit::ROMol mol, bool isomericSmiles=True, bool kekuleSmiles=False, int rootedAtAtom=-1, bool canonical=True, bool allBondsExplicit=False, bool allHsExplicit=False, bool doRandom=False)\n",
      "    MolToSmiles(RDKit::ROMol mol, RDKit::SmilesWriteParams params)\n"
     ]
    },
    {
     "name": "stderr",
     "output_type": "stream",
     "text": [
      "100%|██████████| 26365/26365 [00:14<00:00, 1837.78it/s]\n"
     ]
    },
    {
     "name": "stdout",
     "output_type": "stream",
     "text": [
      "0 no smiles\n",
      "48 smiles too long\n",
      "1 spectra corrupted\n",
      "697 spectra w/ too high mz\n",
      "2267 spectra w/ too many peaks\n",
      "totally 3013 issues\n",
      "discarded 2693/26365 spectra \n"
     ]
    }
   ],
   "source": [
    "from spectra_process_utils import msp_file_to_jsonl\n",
    "\n",
    "dataset_path = Path(\"data/datasets/NIST/NIST_split_filip_no_overlap\")\n",
    "dataset_type = \"test\"\n",
    "source_token = \"<nist>\"\n",
    "msp_file_to_jsonl(dataset_path / f\"{dataset_type}.msp\",\n",
    "                tokenizer_path,\n",
    "                source_token,\n",
    "                path_jsonl=dataset_path / f\"{dataset_type}_{source_token}.jsonl\"\n",
    "                )"
   ]
  },
  {
   "cell_type": "code",
   "execution_count": null,
   "metadata": {},
   "outputs": [],
   "source": [
    "dataset_type = \"train\"\n",
    "msp_file_to_jsonl(dataset_path / f\"{dataset_type}.msp\",\n",
    "                tokenizer_path,\n",
    "                source_token,\n",
    "                path_jsonl=dataset_path / f\"{dataset_type}_{source_token}.jsonl\"\n",
    "                )\n",
    "dataset_type = \"valid\"\n",
    "msp_file_to_jsonl(dataset_path / f\"{dataset_type}.msp\",\n",
    "                tokenizer_path,\n",
    "                source_token,\n",
    "                path_jsonl=dataset_path / f\"{dataset_type}_{source_token}.jsonl\"\n",
    "                )"
   ]
  },
  {
   "cell_type": "code",
   "execution_count": 18,
   "metadata": {},
   "outputs": [],
   "source": [
    "import data_utils\n"
   ]
  },
  {
   "cell_type": "code",
   "execution_count": 19,
   "metadata": {},
   "outputs": [
    {
     "data": {
      "text/plain": [
       "<module 'data' from '/home/xhajek9/gc-ms_bart/data.py'>"
      ]
     },
     "execution_count": 19,
     "metadata": {},
     "output_type": "execute_result"
    }
   ],
   "source": [
    "data_utils"
   ]
  },
  {
   "cell_type": "code",
   "execution_count": 13,
   "metadata": {},
   "outputs": [
    {
     "name": "stdout",
     "output_type": "stream",
     "text": [
      "data/smi_preprocess_neims.py\n"
     ]
    }
   ],
   "source": [
    "!ls data/smi_preprocess_neims.py"
   ]
  },
  {
   "cell_type": "code",
   "execution_count": 14,
   "metadata": {},
   "outputs": [
    {
     "name": "stderr",
     "output_type": "stream",
     "text": [
      " 11%|█         | 2884/26365 [00:01<00:13, 1772.51it/s][23:11:24] Explicit valence for atom # 1 Cl, 7, is greater than permitted\n",
      " 12%|█▏        | 3235/26365 [00:01<00:14, 1613.31it/s]"
     ]
    },
    {
     "name": "stdout",
     "output_type": "stream",
     "text": [
      "Couldn't be canonicalized due to Exception: Python argument types in\n",
      "    rdkit.Chem.rdmolfiles.MolToSmiles(NoneType, bool)\n",
      "did not match C++ signature:\n",
      "    MolToSmiles(RDKit::ROMol mol, bool isomericSmiles=True, bool kekuleSmiles=False, int rootedAtAtom=-1, bool canonical=True, bool allBondsExplicit=False, bool allHsExplicit=False, bool doRandom=False)\n",
      "    MolToSmiles(RDKit::ROMol mol, RDKit::SmilesWriteParams params)\n"
     ]
    },
    {
     "name": "stderr",
     "output_type": "stream",
     "text": [
      "100%|██████████| 26365/26365 [00:15<00:00, 1659.08it/s]\n"
     ]
    },
    {
     "name": "stdout",
     "output_type": "stream",
     "text": [
      "0 no smiles\n",
      "48 smiles too long\n",
      "1 spectra corrupted\n",
      "697 spectra w/ too high mz\n",
      "2267 spectra w/ too many peaks\n",
      "totally 3013 issues\n",
      "discarded 2693/26365 spectra \n"
     ]
    }
   ],
   "source": [
    "from spectra_process_utils import msp_file_to_jsonl\n",
    "from pathlib import Path\n",
    "\n",
    "dataset_path = Path(\"data/datasets/NIST/NIST_split_filip_no_overlap\")\n",
    "dataset_type = \"test\"\n",
    "source_token = \"<nist>\"\n",
    "msp_file_to_jsonl(dataset_path / f\"{dataset_type}.msp\",\n",
    "                Path(tokenizer_path),\n",
    "                source_token,\n",
    "                path_jsonl=dataset_path / f\"{dataset_type}.jsonl\",\n",
    "                keep_spectra=True)"
   ]
  },
  {
   "cell_type": "code",
   "execution_count": 15,
   "metadata": {},
   "outputs": [
    {
     "name": "stderr",
     "output_type": "stream",
     "text": [
      " 86%|████████▌ | 22784/26493 [00:12<00:01, 1860.79it/s][23:12:31] Explicit valence for atom # 0 B, 6, is greater than permitted\n",
      " 87%|████████▋ | 22971/26493 [00:12<00:01, 1845.27it/s]"
     ]
    },
    {
     "name": "stdout",
     "output_type": "stream",
     "text": [
      "Couldn't be canonicalized due to Exception: Python argument types in\n",
      "    rdkit.Chem.rdmolfiles.MolToSmiles(NoneType, bool)\n",
      "did not match C++ signature:\n",
      "    MolToSmiles(RDKit::ROMol mol, bool isomericSmiles=True, bool kekuleSmiles=False, int rootedAtAtom=-1, bool canonical=True, bool allBondsExplicit=False, bool allHsExplicit=False, bool doRandom=False)\n",
      "    MolToSmiles(RDKit::ROMol mol, RDKit::SmilesWriteParams params)\n"
     ]
    },
    {
     "name": "stderr",
     "output_type": "stream",
     "text": [
      "100%|██████████| 26493/26493 [00:14<00:00, 1823.63it/s]\n"
     ]
    },
    {
     "name": "stdout",
     "output_type": "stream",
     "text": [
      "0 no smiles\n",
      "39 smiles too long\n",
      "1 spectra corrupted\n",
      "663 spectra w/ too high mz\n",
      "2205 spectra w/ too many peaks\n",
      "totally 2908 issues\n",
      "discarded 2623/26493 spectra \n"
     ]
    },
    {
     "name": "stderr",
     "output_type": "stream",
     "text": [
      " 17%|█▋        | 39290/237455 [00:21<01:53, 1752.12it/s][23:18:36] SMILES Parse Error: syntax error while parsing: [CH-]1|2C|3=C|4C|5=C1|[Fe]6789|2|3|4|5|[N-]%10[CH-]6[CH-]7[CH-]8[CH-]9%10\n",
      "[23:18:36] SMILES Parse Error: Failed parsing SMILES '[CH-]1|2C|3=C|4C|5=C1|[Fe]6789|2|3|4|5|[N-]%10[CH-]6[CH-]7[CH-]8[CH-]9%10' for input: '[CH-]1|2C|3=C|4C|5=C1|[Fe]6789|2|3|4|5|[N-]%10[CH-]6[CH-]7[CH-]8[CH-]9%10'\n",
      " 17%|█▋        | 39670/237455 [00:22<01:48, 1820.55it/s]"
     ]
    },
    {
     "name": "stdout",
     "output_type": "stream",
     "text": [
      "Couldn't be canonicalized due to Exception: Python argument types in\n",
      "    rdkit.Chem.rdmolfiles.MolToSmiles(NoneType, bool)\n",
      "did not match C++ signature:\n",
      "    MolToSmiles(RDKit::ROMol mol, bool isomericSmiles=True, bool kekuleSmiles=False, int rootedAtAtom=-1, bool canonical=True, bool allBondsExplicit=False, bool allHsExplicit=False, bool doRandom=False)\n",
      "    MolToSmiles(RDKit::ROMol mol, RDKit::SmilesWriteParams params)\n"
     ]
    },
    {
     "name": "stderr",
     "output_type": "stream",
     "text": [
      " 20%|██        | 48490/237455 [00:26<01:42, 1848.68it/s][23:18:41] Explicit valence for atom # 2 C, 5, is greater than permitted\n",
      " 21%|██        | 48853/237455 [00:27<01:48, 1743.47it/s]"
     ]
    },
    {
     "name": "stdout",
     "output_type": "stream",
     "text": [
      "Couldn't be canonicalized due to Exception: Python argument types in\n",
      "    rdkit.Chem.rdmolfiles.MolToSmiles(NoneType, bool)\n",
      "did not match C++ signature:\n",
      "    MolToSmiles(RDKit::ROMol mol, bool isomericSmiles=True, bool kekuleSmiles=False, int rootedAtAtom=-1, bool canonical=True, bool allBondsExplicit=False, bool allHsExplicit=False, bool doRandom=False)\n",
      "    MolToSmiles(RDKit::ROMol mol, RDKit::SmilesWriteParams params)\n"
     ]
    },
    {
     "name": "stderr",
     "output_type": "stream",
     "text": [
      " 21%|██▏       | 50866/237455 [00:28<01:43, 1809.83it/s][23:18:42] Explicit valence for atom # 1 C, 5, is greater than permitted\n",
      " 22%|██▏       | 51235/237455 [00:28<01:43, 1806.21it/s]"
     ]
    },
    {
     "name": "stdout",
     "output_type": "stream",
     "text": [
      "Couldn't be canonicalized due to Exception: Python argument types in\n",
      "    rdkit.Chem.rdmolfiles.MolToSmiles(NoneType, bool)\n",
      "did not match C++ signature:\n",
      "    MolToSmiles(RDKit::ROMol mol, bool isomericSmiles=True, bool kekuleSmiles=False, int rootedAtAtom=-1, bool canonical=True, bool allBondsExplicit=False, bool allHsExplicit=False, bool doRandom=False)\n",
      "    MolToSmiles(RDKit::ROMol mol, RDKit::SmilesWriteParams params)\n"
     ]
    },
    {
     "name": "stderr",
     "output_type": "stream",
     "text": [
      " 27%|██▋       | 64199/237455 [00:35<01:36, 1798.23it/s][23:18:50] Explicit valence for atom # 18 Br, 3, is greater than permitted\n",
      " 27%|██▋       | 64577/237455 [00:35<01:33, 1840.62it/s]"
     ]
    },
    {
     "name": "stdout",
     "output_type": "stream",
     "text": [
      "Couldn't be canonicalized due to Exception: Python argument types in\n",
      "    rdkit.Chem.rdmolfiles.MolToSmiles(NoneType, bool)\n",
      "did not match C++ signature:\n",
      "    MolToSmiles(RDKit::ROMol mol, bool isomericSmiles=True, bool kekuleSmiles=False, int rootedAtAtom=-1, bool canonical=True, bool allBondsExplicit=False, bool allHsExplicit=False, bool doRandom=False)\n",
      "    MolToSmiles(RDKit::ROMol mol, RDKit::SmilesWriteParams params)\n"
     ]
    },
    {
     "name": "stderr",
     "output_type": "stream",
     "text": [
      " 28%|██▊       | 66413/237455 [00:36<01:35, 1798.52it/s][23:18:51] Explicit valence for atom # 8 Br, 5, is greater than permitted\n",
      " 28%|██▊       | 66772/237455 [00:37<01:37, 1755.08it/s]"
     ]
    },
    {
     "name": "stdout",
     "output_type": "stream",
     "text": [
      "Couldn't be canonicalized due to Exception: Python argument types in\n",
      "    rdkit.Chem.rdmolfiles.MolToSmiles(NoneType, bool)\n",
      "did not match C++ signature:\n",
      "    MolToSmiles(RDKit::ROMol mol, bool isomericSmiles=True, bool kekuleSmiles=False, int rootedAtAtom=-1, bool canonical=True, bool allBondsExplicit=False, bool allHsExplicit=False, bool doRandom=False)\n",
      "    MolToSmiles(RDKit::ROMol mol, RDKit::SmilesWriteParams params)\n"
     ]
    },
    {
     "name": "stderr",
     "output_type": "stream",
     "text": [
      " 30%|██▉       | 71030/237455 [00:39<01:32, 1795.33it/s][23:18:53] SMILES Parse Error: syntax error while parsing: [CH-]1|2C|3=C|4C|5=C1|[Co]6789|2|3|4|5[CH-]%10B([CH-]6[CH-]7[CH-]8[CH-]9%10)c%11ccccc%11\n",
      "[23:18:53] SMILES Parse Error: Failed parsing SMILES '[CH-]1|2C|3=C|4C|5=C1|[Co]6789|2|3|4|5[CH-]%10B([CH-]6[CH-]7[CH-]8[CH-]9%10)c%11ccccc%11' for input: '[CH-]1|2C|3=C|4C|5=C1|[Co]6789|2|3|4|5[CH-]%10B([CH-]6[CH-]7[CH-]8[CH-]9%10)c%11ccccc%11'\n",
      " 30%|███       | 71389/237455 [00:39<01:35, 1741.70it/s]"
     ]
    },
    {
     "name": "stdout",
     "output_type": "stream",
     "text": [
      "Couldn't be canonicalized due to Exception: Python argument types in\n",
      "    rdkit.Chem.rdmolfiles.MolToSmiles(NoneType, bool)\n",
      "did not match C++ signature:\n",
      "    MolToSmiles(RDKit::ROMol mol, bool isomericSmiles=True, bool kekuleSmiles=False, int rootedAtAtom=-1, bool canonical=True, bool allBondsExplicit=False, bool allHsExplicit=False, bool doRandom=False)\n",
      "    MolToSmiles(RDKit::ROMol mol, RDKit::SmilesWriteParams params)\n"
     ]
    },
    {
     "name": "stderr",
     "output_type": "stream",
     "text": [
      " 37%|███▋      | 87064/237455 [00:49<02:11, 1144.59it/s][23:19:04] SMILES Parse Error: syntax error while parsing: [CH-]1|2C|3=C|4C|5=C1|[Fe]6789|2|3|4|5|[N-]%10[CH-]6[CH-]7[CH-]8[CH-]9%10\n",
      "[23:19:04] SMILES Parse Error: Failed parsing SMILES '[CH-]1|2C|3=C|4C|5=C1|[Fe]6789|2|3|4|5|[N-]%10[CH-]6[CH-]7[CH-]8[CH-]9%10' for input: '[CH-]1|2C|3=C|4C|5=C1|[Fe]6789|2|3|4|5|[N-]%10[CH-]6[CH-]7[CH-]8[CH-]9%10'\n",
      " 37%|███▋      | 87426/237455 [00:49<01:47, 1400.91it/s]"
     ]
    },
    {
     "name": "stdout",
     "output_type": "stream",
     "text": [
      "Couldn't be canonicalized due to Exception: Python argument types in\n",
      "    rdkit.Chem.rdmolfiles.MolToSmiles(NoneType, bool)\n",
      "did not match C++ signature:\n",
      "    MolToSmiles(RDKit::ROMol mol, bool isomericSmiles=True, bool kekuleSmiles=False, int rootedAtAtom=-1, bool canonical=True, bool allBondsExplicit=False, bool allHsExplicit=False, bool doRandom=False)\n",
      "    MolToSmiles(RDKit::ROMol mol, RDKit::SmilesWriteParams params)\n"
     ]
    },
    {
     "name": "stderr",
     "output_type": "stream",
     "text": [
      " 37%|███▋      | 88170/237455 [00:50<01:26, 1733.38it/s][23:19:04] SMILES Parse Error: syntax error while parsing: [Ni]|1|2(|[S-]C(=C([S-]|1)c3ccccc3)c4ccccc4)|[S-]C(=C([S-]|2)c5ccccc5)c6ccccc6\n",
      "[23:19:04] SMILES Parse Error: Failed parsing SMILES '[Ni]|1|2(|[S-]C(=C([S-]|1)c3ccccc3)c4ccccc4)|[S-]C(=C([S-]|2)c5ccccc5)c6ccccc6' for input: '[Ni]|1|2(|[S-]C(=C([S-]|1)c3ccccc3)c4ccccc4)|[S-]C(=C([S-]|2)c5ccccc5)c6ccccc6'\n",
      " 37%|███▋      | 88544/237455 [00:50<01:23, 1774.03it/s]"
     ]
    },
    {
     "name": "stdout",
     "output_type": "stream",
     "text": [
      "Couldn't be canonicalized due to Exception: Python argument types in\n",
      "    rdkit.Chem.rdmolfiles.MolToSmiles(NoneType, bool)\n",
      "did not match C++ signature:\n",
      "    MolToSmiles(RDKit::ROMol mol, bool isomericSmiles=True, bool kekuleSmiles=False, int rootedAtAtom=-1, bool canonical=True, bool allBondsExplicit=False, bool allHsExplicit=False, bool doRandom=False)\n",
      "    MolToSmiles(RDKit::ROMol mol, RDKit::SmilesWriteParams params)\n"
     ]
    },
    {
     "name": "stderr",
     "output_type": "stream",
     "text": [
      " 64%|██████▍   | 152240/237455 [01:25<00:45, 1883.34it/s][23:19:39] Explicit valence for atom # 7 Br, 3, is greater than permitted\n",
      " 64%|██████▍   | 152614/237455 [01:25<00:46, 1834.74it/s]"
     ]
    },
    {
     "name": "stdout",
     "output_type": "stream",
     "text": [
      "Couldn't be canonicalized due to Exception: Python argument types in\n",
      "    rdkit.Chem.rdmolfiles.MolToSmiles(NoneType, bool)\n",
      "did not match C++ signature:\n",
      "    MolToSmiles(RDKit::ROMol mol, bool isomericSmiles=True, bool kekuleSmiles=False, int rootedAtAtom=-1, bool canonical=True, bool allBondsExplicit=False, bool allHsExplicit=False, bool doRandom=False)\n",
      "    MolToSmiles(RDKit::ROMol mol, RDKit::SmilesWriteParams params)\n"
     ]
    },
    {
     "name": "stderr",
     "output_type": "stream",
     "text": [
      " 73%|███████▎  | 173723/237455 [01:37<00:35, 1776.69it/s][23:19:51] Explicit valence for atom # 0 B, 5, is greater than permitted\n",
      " 73%|███████▎  | 174104/237455 [01:37<00:34, 1841.16it/s]"
     ]
    },
    {
     "name": "stdout",
     "output_type": "stream",
     "text": [
      "Couldn't be canonicalized due to Exception: Python argument types in\n",
      "    rdkit.Chem.rdmolfiles.MolToSmiles(NoneType, bool)\n",
      "did not match C++ signature:\n",
      "    MolToSmiles(RDKit::ROMol mol, bool isomericSmiles=True, bool kekuleSmiles=False, int rootedAtAtom=-1, bool canonical=True, bool allBondsExplicit=False, bool allHsExplicit=False, bool doRandom=False)\n",
      "    MolToSmiles(RDKit::ROMol mol, RDKit::SmilesWriteParams params)\n"
     ]
    },
    {
     "name": "stderr",
     "output_type": "stream",
     "text": [
      " 78%|███████▊  | 186373/237455 [01:44<00:27, 1848.28it/s][23:19:58] Explicit valence for atom # 0 B, 5, is greater than permitted\n",
      " 79%|███████▊  | 186739/237455 [01:44<00:28, 1777.47it/s]"
     ]
    },
    {
     "name": "stdout",
     "output_type": "stream",
     "text": [
      "Couldn't be canonicalized due to Exception: Python argument types in\n",
      "    rdkit.Chem.rdmolfiles.MolToSmiles(NoneType, bool)\n",
      "did not match C++ signature:\n",
      "    MolToSmiles(RDKit::ROMol mol, bool isomericSmiles=True, bool kekuleSmiles=False, int rootedAtAtom=-1, bool canonical=True, bool allBondsExplicit=False, bool allHsExplicit=False, bool doRandom=False)\n",
      "    MolToSmiles(RDKit::ROMol mol, RDKit::SmilesWriteParams params)\n"
     ]
    },
    {
     "name": "stderr",
     "output_type": "stream",
     "text": [
      " 81%|████████  | 191396/237455 [01:47<00:25, 1775.24it/s][23:20:01] Explicit valence for atom # 0 C, 5, is greater than permitted\n",
      " 81%|████████  | 191781/237455 [01:47<00:24, 1845.61it/s]"
     ]
    },
    {
     "name": "stdout",
     "output_type": "stream",
     "text": [
      "Couldn't be canonicalized due to Exception: Python argument types in\n",
      "    rdkit.Chem.rdmolfiles.MolToSmiles(NoneType, bool)\n",
      "did not match C++ signature:\n",
      "    MolToSmiles(RDKit::ROMol mol, bool isomericSmiles=True, bool kekuleSmiles=False, int rootedAtAtom=-1, bool canonical=True, bool allBondsExplicit=False, bool allHsExplicit=False, bool doRandom=False)\n",
      "    MolToSmiles(RDKit::ROMol mol, RDKit::SmilesWriteParams params)\n"
     ]
    },
    {
     "name": "stderr",
     "output_type": "stream",
     "text": [
      " 81%|████████  | 192714/237455 [01:47<00:24, 1798.63it/s][23:20:02] Explicit valence for atom # 0 B, 5, is greater than permitted\n",
      " 81%|████████▏ | 193086/237455 [01:48<00:24, 1786.03it/s]"
     ]
    },
    {
     "name": "stdout",
     "output_type": "stream",
     "text": [
      "Couldn't be canonicalized due to Exception: Python argument types in\n",
      "    rdkit.Chem.rdmolfiles.MolToSmiles(NoneType, bool)\n",
      "did not match C++ signature:\n",
      "    MolToSmiles(RDKit::ROMol mol, bool isomericSmiles=True, bool kekuleSmiles=False, int rootedAtAtom=-1, bool canonical=True, bool allBondsExplicit=False, bool allHsExplicit=False, bool doRandom=False)\n",
      "    MolToSmiles(RDKit::ROMol mol, RDKit::SmilesWriteParams params)\n"
     ]
    },
    {
     "name": "stderr",
     "output_type": "stream",
     "text": [
      " 92%|█████████▏| 217318/237455 [02:01<00:10, 1867.02it/s][23:20:15] SMILES Parse Error: syntax error while parsing: [CH-]1|2C|3=C|4C|5=C1|[Mn]6789|2|3|4|5[CH-]%10[CH-]6[CH-]7[CH-]8[CH-]9%10\n",
      "[23:20:15] SMILES Parse Error: Failed parsing SMILES '[CH-]1|2C|3=C|4C|5=C1|[Mn]6789|2|3|4|5[CH-]%10[CH-]6[CH-]7[CH-]8[CH-]9%10' for input: '[CH-]1|2C|3=C|4C|5=C1|[Mn]6789|2|3|4|5[CH-]%10[CH-]6[CH-]7[CH-]8[CH-]9%10'\n",
      " 92%|█████████▏| 217688/237455 [02:01<00:10, 1804.24it/s]"
     ]
    },
    {
     "name": "stdout",
     "output_type": "stream",
     "text": [
      "Couldn't be canonicalized due to Exception: Python argument types in\n",
      "    rdkit.Chem.rdmolfiles.MolToSmiles(NoneType, bool)\n",
      "did not match C++ signature:\n",
      "    MolToSmiles(RDKit::ROMol mol, bool isomericSmiles=True, bool kekuleSmiles=False, int rootedAtAtom=-1, bool canonical=True, bool allBondsExplicit=False, bool allHsExplicit=False, bool doRandom=False)\n",
      "    MolToSmiles(RDKit::ROMol mol, RDKit::SmilesWriteParams params)\n"
     ]
    },
    {
     "name": "stderr",
     "output_type": "stream",
     "text": [
      "100%|██████████| 237455/237455 [02:12<00:00, 1791.73it/s]\n"
     ]
    },
    {
     "name": "stdout",
     "output_type": "stream",
     "text": [
      "0 no smiles\n",
      "406 smiles too long\n",
      "14 spectra corrupted\n",
      "6004 spectra w/ too high mz\n",
      "20226 spectra w/ too many peaks\n",
      "totally 26650 issues\n",
      "discarded 24049/237455 spectra \n"
     ]
    }
   ],
   "source": [
    "dataset_type = \"valid\"\n",
    "msp_file_to_jsonl(dataset_path / f\"{dataset_type}.msp\",\n",
    "                Path(tokenizer_path),\n",
    "                source_token,\n",
    "                path_jsonl=dataset_path / f\"{dataset_type}_{source_token}.jsonl\",\n",
    "                keep_spectra=True)\n",
    "\n",
    "dataset_type = \"train\"\n",
    "msp_file_to_jsonl(dataset_path / f\"{dataset_type}.msp\",\n",
    "                Path(tokenizer_path),\n",
    "                source_token,\n",
    "                path_jsonl=dataset_path / f\"{dataset_type}_{source_token}.jsonl\",\n",
    "                keep_spectra=True)"
   ]
  },
  {
   "cell_type": "code",
   "execution_count": 19,
   "metadata": {},
   "outputs": [
    {
     "data": {
      "text/html": [
       "<div>\n",
       "<style scoped>\n",
       "    .dataframe tbody tr th:only-of-type {\n",
       "        vertical-align: middle;\n",
       "    }\n",
       "\n",
       "    .dataframe tbody tr th {\n",
       "        vertical-align: top;\n",
       "    }\n",
       "\n",
       "    .dataframe thead th {\n",
       "        text-align: right;\n",
       "    }\n",
       "</style>\n",
       "<table border=\"1\" class=\"dataframe\">\n",
       "  <thead>\n",
       "    <tr style=\"text-align: right;\">\n",
       "      <th></th>\n",
       "      <th>input_ids</th>\n",
       "      <th>position_ids</th>\n",
       "      <th>attention_mask</th>\n",
       "      <th>smiles</th>\n",
       "      <th>labels</th>\n",
       "      <th>decoder_attention_mask</th>\n",
       "      <th>mz</th>\n",
       "      <th>intensity</th>\n",
       "    </tr>\n",
       "  </thead>\n",
       "  <tbody>\n",
       "    <tr>\n",
       "      <th>0</th>\n",
       "      <td>[41, 44, 46, 50, 51, 52, 53, 61, 62, 63, 64, 6...</td>\n",
       "      <td>[0, 0, 0, 7, 7, 4, 0, 0, 4, 7, 6, 3, 0, 0, 4, ...</td>\n",
       "      <td>[1, 1, 1, 1, 1, 1, 1, 1, 1, 1, 1, 1, 1, 1, 1, ...</td>\n",
       "      <td>O=[N+]([O-])c1cccc(N=Cc2ccccc2)c1</td>\n",
       "      <td>[1234, 224, 50, 565, 49, 419, 50, 365, 70, 20,...</td>\n",
       "      <td>[1, 1, 1, 1, 1, 1, 1, 1, 1, 1, 1, 1, 1, 1, 1, ...</td>\n",
       "      <td>[41.0, 44.0, 46.0, 50.0, 51.0, 52.0, 53.0, 61....</td>\n",
       "      <td>[1.0, 2.0, 4.0, 262.76, 326.71, 61.94, 5.0, 5....</td>\n",
       "    </tr>\n",
       "    <tr>\n",
       "      <th>1</th>\n",
       "      <td>[25, 26, 27, 28, 29, 30, 31, 38, 39, 40, 41, 4...</td>\n",
       "      <td>[1, 3, 7, 4, 8, 2, 1, 3, 8, 4, 9, 6, 9, 4, 5, ...</td>\n",
       "      <td>[1, 1, 1, 1, 1, 1, 1, 1, 1, 1, 1, 1, 1, 1, 1, ...</td>\n",
       "      <td>CCCCCCCCCCCCCC(C)OC(=O)c1cccs1</td>\n",
       "      <td>[1234, 224, 1024, 487, 11, 38, 12, 286, 260, 5...</td>\n",
       "      <td>[1, 1, 1, 1, 1, 1, 1, 1, 1, 1, 1, 1, 1, 1, 1, ...</td>\n",
       "      <td>[25.0, 26.0, 27.0, 28.0, 29.0, 30.0, 31.0, 38....</td>\n",
       "      <td>[11.99, 26.98, 290.74, 45.96, 474.57, 18.98, 1...</td>\n",
       "    </tr>\n",
       "    <tr>\n",
       "      <th>2</th>\n",
       "      <td>[27, 29, 30, 34, 39, 40, 41, 42, 43, 44, 51, 5...</td>\n",
       "      <td>[6, 7, 5, 0, 6, 0, 7, 5, 1, 6, 3, 0, 4, 1, 7, ...</td>\n",
       "      <td>[1, 1, 1, 1, 1, 1, 1, 1, 1, 1, 1, 1, 1, 1, 1, ...</td>\n",
       "      <td>CC=CC=CC=CN(CC)CC</td>\n",
       "      <td>[1234, 224, 261, 32, 261, 32, 261, 32, 263, 11...</td>\n",
       "      <td>[1, 1, 1, 1, 1, 1, 1, 1, 1, 1, 1, 1, 1, 1, 0, ...</td>\n",
       "      <td>[27.0, 29.0, 30.0, 34.0, 39.0, 40.0, 41.0, 42....</td>\n",
       "      <td>[144.87, 283.74, 86.92, 7.99, 121.89, 0.5, 206...</td>\n",
       "    </tr>\n",
       "    <tr>\n",
       "      <th>3</th>\n",
       "      <td>[69, 75, 76, 77, 78, 98, 101, 102, 103, 104, 1...</td>\n",
       "      <td>[7, 5, 6, 6, 3, 4, 4, 6, 6, 4, 5, 8, 9, 8, 6, ...</td>\n",
       "      <td>[1, 1, 1, 1, 1, 1, 1, 1, 1, 1, 1, 1, 1, 1, 1, ...</td>\n",
       "      <td>CC(=O)N1c2ccccc2C=CC1C1C=Nc2ccccc2N1</td>\n",
       "      <td>[1234, 224, 261, 260, 50, 12, 49, 20, 70, 21, ...</td>\n",
       "      <td>[1, 1, 1, 1, 1, 1, 1, 1, 1, 1, 1, 1, 1, 1, 1, ...</td>\n",
       "      <td>[69.0, 75.0, 76.0, 77.0, 78.0, 98.0, 101.0, 10...</td>\n",
       "      <td>[239.78, 79.93, 149.86, 159.86, 39.96, 49.95, ...</td>\n",
       "    </tr>\n",
       "    <tr>\n",
       "      <th>4</th>\n",
       "      <td>[27, 28, 29, 38, 39, 40, 41, 42, 51, 52, 53, 5...</td>\n",
       "      <td>[4, 6, 3, 2, 6, 5, 3, 2, 3, 4, 4, 6, 7, 2, 3, ...</td>\n",
       "      <td>[1, 1, 1, 1, 1, 1, 1, 1, 1, 1, 1, 1, 1, 1, 1, ...</td>\n",
       "      <td>CC1=CC(=O)C(N)=C(C)C1=O</td>\n",
       "      <td>[1234, 224, 261, 20, 32, 261, 260, 50, 12, 38,...</td>\n",
       "      <td>[1, 1, 1, 1, 1, 1, 1, 1, 1, 1, 1, 1, 1, 1, 1, ...</td>\n",
       "      <td>[27.0, 28.0, 29.0, 38.0, 39.0, 40.0, 41.0, 42....</td>\n",
       "      <td>[49.95, 136.88, 26.98, 23.98, 135.88, 76.93, 3...</td>\n",
       "    </tr>\n",
       "    <tr>\n",
       "      <th>...</th>\n",
       "      <td>...</td>\n",
       "      <td>...</td>\n",
       "      <td>...</td>\n",
       "      <td>...</td>\n",
       "      <td>...</td>\n",
       "      <td>...</td>\n",
       "      <td>...</td>\n",
       "      <td>...</td>\n",
       "    </tr>\n",
       "    <tr>\n",
       "      <th>23865</th>\n",
       "      <td>[15, 17, 18, 26, 27, 28, 29, 30, 31, 38, 39, 4...</td>\n",
       "      <td>[0, 0, 0, 0, 1, 1, 2, 0, 0, 0, 2, 0, 4, 5, 6, ...</td>\n",
       "      <td>[1, 1, 1, 1, 1, 1, 1, 1, 1, 1, 1, 1, 1, 1, 1, ...</td>\n",
       "      <td>CCCCCOC(=O)CCCC(=O)OCc1ccc(OC)c([N+](=O)[O-])c1</td>\n",
       "      <td>[1234, 224, 876, 260, 50, 12, 296, 260, 50, 12...</td>\n",
       "      <td>[1, 1, 1, 1, 1, 1, 1, 1, 1, 1, 1, 1, 1, 1, 1, ...</td>\n",
       "      <td>[15.0, 17.0, 18.0, 26.0, 27.0, 28.0, 29.0, 30....</td>\n",
       "      <td>[1.0, 1.0, 1.0, 1.0, 11.99, 8.99, 23.98, 2.0, ...</td>\n",
       "    </tr>\n",
       "    <tr>\n",
       "      <th>23866</th>\n",
       "      <td>[26, 27, 28, 29, 36, 38, 39, 40, 41, 42, 43, 4...</td>\n",
       "      <td>[0, 1, 1, 3, 0, 0, 2, 0, 5, 0, 3, 0, 0, 1, 3, ...</td>\n",
       "      <td>[1, 1, 1, 1, 1, 1, 1, 1, 1, 1, 1, 1, 1, 1, 1, ...</td>\n",
       "      <td>CC(C)(C)C1CCC(OC(=O)CCC(=O)OC2CCC(C(C)(C)C)CC2...</td>\n",
       "      <td>[1234, 224, 261, 11, 38, 289, 38, 12, 38, 20, ...</td>\n",
       "      <td>[1, 1, 1, 1, 1, 1, 1, 1, 1, 1, 1, 1, 1, 1, 1, ...</td>\n",
       "      <td>[26.0, 27.0, 28.0, 29.0, 36.0, 38.0, 39.0, 40....</td>\n",
       "      <td>[2.0, 10.99, 11.99, 29.97, 7.99, 2.0, 16.98, 3...</td>\n",
       "    </tr>\n",
       "    <tr>\n",
       "      <th>23867</th>\n",
       "      <td>[15, 26, 27, 28, 29, 38, 39, 40, 41, 42, 43, 4...</td>\n",
       "      <td>[2, 1, 6, 3, 7, 1, 6, 2, 8, 3, 9, 3, 1, 1, 3, ...</td>\n",
       "      <td>[1, 1, 1, 1, 1, 1, 1, 1, 1, 1, 1, 1, 1, 1, 1, ...</td>\n",
       "      <td>CCC(C)(C)C</td>\n",
       "      <td>[1234, 224, 276, 11, 38, 289, 38, 12, 38, 0, -...</td>\n",
       "      <td>[1, 1, 1, 1, 1, 1, 1, 1, 1, 1, 0, 0, 0, 0, 0, ...</td>\n",
       "      <td>[15.0, 26.0, 27.0, 28.0, 29.0, 38.0, 39.0, 40....</td>\n",
       "      <td>[14.99, 11.99, 188.83, 24.98, 332.7, 9.99, 154...</td>\n",
       "    </tr>\n",
       "    <tr>\n",
       "      <th>23868</th>\n",
       "      <td>[2, 12, 13, 14, 15, 16, 17, 18, 19, 20, 24, 25...</td>\n",
       "      <td>[1, 1, 2, 4, 7, 0, 0, 0, 0, 0, 0, 1, 4, 7, 5, ...</td>\n",
       "      <td>[1, 1, 1, 1, 1, 1, 1, 1, 1, 1, 1, 1, 1, 1, 1, ...</td>\n",
       "      <td>C=C(C)C(OC)OC(C)(C)C</td>\n",
       "      <td>[1234, 224, 38, 32, 38, 11, 38, 12, 38, 11, 28...</td>\n",
       "      <td>[1, 1, 1, 1, 1, 1, 1, 1, 1, 1, 1, 1, 1, 1, 1, ...</td>\n",
       "      <td>[2.0, 12.0, 13.0, 14.0, 15.0, 16.0, 17.0, 18.0...</td>\n",
       "      <td>[10.99, 12.99, 18.98, 41.96, 217.8, 5.0, 3.0, ...</td>\n",
       "    </tr>\n",
       "    <tr>\n",
       "      <th>23869</th>\n",
       "      <td>[67, 69, 71, 79, 81, 83, 91, 93, 95, 97, 105, ...</td>\n",
       "      <td>[5, 7, 4, 4, 6, 5, 5, 4, 6, 4, 4, 5, 6, 4, 4, ...</td>\n",
       "      <td>[1, 1, 1, 1, 1, 1, 1, 1, 1, 1, 1, 1, 1, 1, 1, ...</td>\n",
       "      <td>CC(C)CCCC(C)C1CCC2(C)C3=C(C(=O)CC12C)C1(C)CCCC...</td>\n",
       "      <td>[1234, 224, 261, 11, 38, 12, 296, 11, 38, 12, ...</td>\n",
       "      <td>[1, 1, 1, 1, 1, 1, 1, 1, 1, 1, 1, 1, 1, 1, 1, ...</td>\n",
       "      <td>[67.0, 69.0, 71.0, 79.0, 81.0, 83.0, 91.0, 93....</td>\n",
       "      <td>[79.93, 302.73, 69.94, 49.95, 140.87, 110.9, 7...</td>\n",
       "    </tr>\n",
       "  </tbody>\n",
       "</table>\n",
       "<p>23870 rows × 8 columns</p>\n",
       "</div>"
      ],
      "text/plain": [
       "                                               input_ids  \\\n",
       "0      [41, 44, 46, 50, 51, 52, 53, 61, 62, 63, 64, 6...   \n",
       "1      [25, 26, 27, 28, 29, 30, 31, 38, 39, 40, 41, 4...   \n",
       "2      [27, 29, 30, 34, 39, 40, 41, 42, 43, 44, 51, 5...   \n",
       "3      [69, 75, 76, 77, 78, 98, 101, 102, 103, 104, 1...   \n",
       "4      [27, 28, 29, 38, 39, 40, 41, 42, 51, 52, 53, 5...   \n",
       "...                                                  ...   \n",
       "23865  [15, 17, 18, 26, 27, 28, 29, 30, 31, 38, 39, 4...   \n",
       "23866  [26, 27, 28, 29, 36, 38, 39, 40, 41, 42, 43, 4...   \n",
       "23867  [15, 26, 27, 28, 29, 38, 39, 40, 41, 42, 43, 4...   \n",
       "23868  [2, 12, 13, 14, 15, 16, 17, 18, 19, 20, 24, 25...   \n",
       "23869  [67, 69, 71, 79, 81, 83, 91, 93, 95, 97, 105, ...   \n",
       "\n",
       "                                            position_ids  \\\n",
       "0      [0, 0, 0, 7, 7, 4, 0, 0, 4, 7, 6, 3, 0, 0, 4, ...   \n",
       "1      [1, 3, 7, 4, 8, 2, 1, 3, 8, 4, 9, 6, 9, 4, 5, ...   \n",
       "2      [6, 7, 5, 0, 6, 0, 7, 5, 1, 6, 3, 0, 4, 1, 7, ...   \n",
       "3      [7, 5, 6, 6, 3, 4, 4, 6, 6, 4, 5, 8, 9, 8, 6, ...   \n",
       "4      [4, 6, 3, 2, 6, 5, 3, 2, 3, 4, 4, 6, 7, 2, 3, ...   \n",
       "...                                                  ...   \n",
       "23865  [0, 0, 0, 0, 1, 1, 2, 0, 0, 0, 2, 0, 4, 5, 6, ...   \n",
       "23866  [0, 1, 1, 3, 0, 0, 2, 0, 5, 0, 3, 0, 0, 1, 3, ...   \n",
       "23867  [2, 1, 6, 3, 7, 1, 6, 2, 8, 3, 9, 3, 1, 1, 3, ...   \n",
       "23868  [1, 1, 2, 4, 7, 0, 0, 0, 0, 0, 0, 1, 4, 7, 5, ...   \n",
       "23869  [5, 7, 4, 4, 6, 5, 5, 4, 6, 4, 4, 5, 6, 4, 4, ...   \n",
       "\n",
       "                                          attention_mask  \\\n",
       "0      [1, 1, 1, 1, 1, 1, 1, 1, 1, 1, 1, 1, 1, 1, 1, ...   \n",
       "1      [1, 1, 1, 1, 1, 1, 1, 1, 1, 1, 1, 1, 1, 1, 1, ...   \n",
       "2      [1, 1, 1, 1, 1, 1, 1, 1, 1, 1, 1, 1, 1, 1, 1, ...   \n",
       "3      [1, 1, 1, 1, 1, 1, 1, 1, 1, 1, 1, 1, 1, 1, 1, ...   \n",
       "4      [1, 1, 1, 1, 1, 1, 1, 1, 1, 1, 1, 1, 1, 1, 1, ...   \n",
       "...                                                  ...   \n",
       "23865  [1, 1, 1, 1, 1, 1, 1, 1, 1, 1, 1, 1, 1, 1, 1, ...   \n",
       "23866  [1, 1, 1, 1, 1, 1, 1, 1, 1, 1, 1, 1, 1, 1, 1, ...   \n",
       "23867  [1, 1, 1, 1, 1, 1, 1, 1, 1, 1, 1, 1, 1, 1, 1, ...   \n",
       "23868  [1, 1, 1, 1, 1, 1, 1, 1, 1, 1, 1, 1, 1, 1, 1, ...   \n",
       "23869  [1, 1, 1, 1, 1, 1, 1, 1, 1, 1, 1, 1, 1, 1, 1, ...   \n",
       "\n",
       "                                                  smiles  \\\n",
       "0                      O=[N+]([O-])c1cccc(N=Cc2ccccc2)c1   \n",
       "1                         CCCCCCCCCCCCCC(C)OC(=O)c1cccs1   \n",
       "2                                      CC=CC=CC=CN(CC)CC   \n",
       "3                   CC(=O)N1c2ccccc2C=CC1C1C=Nc2ccccc2N1   \n",
       "4                                CC1=CC(=O)C(N)=C(C)C1=O   \n",
       "...                                                  ...   \n",
       "23865    CCCCCOC(=O)CCCC(=O)OCc1ccc(OC)c([N+](=O)[O-])c1   \n",
       "23866  CC(C)(C)C1CCC(OC(=O)CCC(=O)OC2CCC(C(C)(C)C)CC2...   \n",
       "23867                                         CCC(C)(C)C   \n",
       "23868                               C=C(C)C(OC)OC(C)(C)C   \n",
       "23869  CC(C)CCCC(C)C1CCC2(C)C3=C(C(=O)CC12C)C1(C)CCCC...   \n",
       "\n",
       "                                                  labels  \\\n",
       "0      [1234, 224, 50, 565, 49, 419, 50, 365, 70, 20,...   \n",
       "1      [1234, 224, 1024, 487, 11, 38, 12, 286, 260, 5...   \n",
       "2      [1234, 224, 261, 32, 261, 32, 261, 32, 263, 11...   \n",
       "3      [1234, 224, 261, 260, 50, 12, 49, 20, 70, 21, ...   \n",
       "4      [1234, 224, 261, 20, 32, 261, 260, 50, 12, 38,...   \n",
       "...                                                  ...   \n",
       "23865  [1234, 224, 876, 260, 50, 12, 296, 260, 50, 12...   \n",
       "23866  [1234, 224, 261, 11, 38, 289, 38, 12, 38, 20, ...   \n",
       "23867  [1234, 224, 276, 11, 38, 289, 38, 12, 38, 0, -...   \n",
       "23868  [1234, 224, 38, 32, 38, 11, 38, 12, 38, 11, 28...   \n",
       "23869  [1234, 224, 261, 11, 38, 12, 296, 11, 38, 12, ...   \n",
       "\n",
       "                                  decoder_attention_mask  \\\n",
       "0      [1, 1, 1, 1, 1, 1, 1, 1, 1, 1, 1, 1, 1, 1, 1, ...   \n",
       "1      [1, 1, 1, 1, 1, 1, 1, 1, 1, 1, 1, 1, 1, 1, 1, ...   \n",
       "2      [1, 1, 1, 1, 1, 1, 1, 1, 1, 1, 1, 1, 1, 1, 0, ...   \n",
       "3      [1, 1, 1, 1, 1, 1, 1, 1, 1, 1, 1, 1, 1, 1, 1, ...   \n",
       "4      [1, 1, 1, 1, 1, 1, 1, 1, 1, 1, 1, 1, 1, 1, 1, ...   \n",
       "...                                                  ...   \n",
       "23865  [1, 1, 1, 1, 1, 1, 1, 1, 1, 1, 1, 1, 1, 1, 1, ...   \n",
       "23866  [1, 1, 1, 1, 1, 1, 1, 1, 1, 1, 1, 1, 1, 1, 1, ...   \n",
       "23867  [1, 1, 1, 1, 1, 1, 1, 1, 1, 1, 0, 0, 0, 0, 0, ...   \n",
       "23868  [1, 1, 1, 1, 1, 1, 1, 1, 1, 1, 1, 1, 1, 1, 1, ...   \n",
       "23869  [1, 1, 1, 1, 1, 1, 1, 1, 1, 1, 1, 1, 1, 1, 1, ...   \n",
       "\n",
       "                                                      mz  \\\n",
       "0      [41.0, 44.0, 46.0, 50.0, 51.0, 52.0, 53.0, 61....   \n",
       "1      [25.0, 26.0, 27.0, 28.0, 29.0, 30.0, 31.0, 38....   \n",
       "2      [27.0, 29.0, 30.0, 34.0, 39.0, 40.0, 41.0, 42....   \n",
       "3      [69.0, 75.0, 76.0, 77.0, 78.0, 98.0, 101.0, 10...   \n",
       "4      [27.0, 28.0, 29.0, 38.0, 39.0, 40.0, 41.0, 42....   \n",
       "...                                                  ...   \n",
       "23865  [15.0, 17.0, 18.0, 26.0, 27.0, 28.0, 29.0, 30....   \n",
       "23866  [26.0, 27.0, 28.0, 29.0, 36.0, 38.0, 39.0, 40....   \n",
       "23867  [15.0, 26.0, 27.0, 28.0, 29.0, 38.0, 39.0, 40....   \n",
       "23868  [2.0, 12.0, 13.0, 14.0, 15.0, 16.0, 17.0, 18.0...   \n",
       "23869  [67.0, 69.0, 71.0, 79.0, 81.0, 83.0, 91.0, 93....   \n",
       "\n",
       "                                               intensity  \n",
       "0      [1.0, 2.0, 4.0, 262.76, 326.71, 61.94, 5.0, 5....  \n",
       "1      [11.99, 26.98, 290.74, 45.96, 474.57, 18.98, 1...  \n",
       "2      [144.87, 283.74, 86.92, 7.99, 121.89, 0.5, 206...  \n",
       "3      [239.78, 79.93, 149.86, 159.86, 39.96, 49.95, ...  \n",
       "4      [49.95, 136.88, 26.98, 23.98, 135.88, 76.93, 3...  \n",
       "...                                                  ...  \n",
       "23865  [1.0, 1.0, 1.0, 1.0, 11.99, 8.99, 23.98, 2.0, ...  \n",
       "23866  [2.0, 10.99, 11.99, 29.97, 7.99, 2.0, 16.98, 3...  \n",
       "23867  [14.99, 11.99, 188.83, 24.98, 332.7, 9.99, 154...  \n",
       "23868  [10.99, 12.99, 18.98, 41.96, 217.8, 5.0, 3.0, ...  \n",
       "23869  [79.93, 302.73, 69.94, 49.95, 140.87, 110.9, 7...  \n",
       "\n",
       "[23870 rows x 8 columns]"
      ]
     },
     "execution_count": 19,
     "metadata": {},
     "output_type": "execute_result"
    }
   ],
   "source": [
    "import pandas as pd\n",
    "pd.read_json(\"data/datasets/NIST/NIST_split_filip_no_overlap/valid_<nist>.jsonl\", lines=True)"
   ]
  },
  {
   "cell_type": "markdown",
   "metadata": {},
   "source": [
    "## Rename a wandb group"
   ]
  },
  {
   "cell_type": "code",
   "execution_count": 20,
   "metadata": {},
   "outputs": [],
   "source": [
    "import wandb\n",
    "api = wandb.Api()\n",
    "for r in api.runs(\"hajekad/BART_for_gcms\", filters={\"group\": \"finetune\"}):\n",
    "    r.group = \"finetune_dataleak\"\n",
    "    r.update()"
   ]
  },
  {
   "cell_type": "markdown",
   "metadata": {},
   "source": [
    "## De novo evaluation\n",
    "moved to a script \"data/precompute_denovo_index.py\""
   ]
  },
  {
   "cell_type": "code",
   "execution_count": 1,
   "metadata": {},
   "outputs": [],
   "source": [
    "# read jsonl file\n",
    "import json\n",
    "import pandas as pd\n",
    "import numpy as np\n",
    "from matchms.similarity import CosineGreedy\n",
    "from matchms import Spectrum\n",
    "from tqdm import tqdm\n",
    "from rdkit import Chem, DataStructs\n",
    "import multiprocessing\n",
    "from pathlib import Path\n"
   ]
  },
  {
   "cell_type": "code",
   "execution_count": 3,
   "metadata": {},
   "outputs": [],
   "source": [
    "df_train = pd.read_json(\"data/datasets/NIST/NIST_split_filip/train.jsonl\", lines=True, orient=\"records\")\n",
    "df_valid = pd.read_json(\"data/datasets/NIST/NIST_split_filip/valid.jsonl\", lines=True, orient=\"records\")"
   ]
  },
  {
   "cell_type": "code",
   "execution_count": 183,
   "metadata": {},
   "outputs": [],
   "source": [
    "def find_best_indexes_and_similarities(df_query, ref_spectra, ref_fps, outfile_path, process_id=None):\n",
    "    \"\"\"find the best match for the given row and write them line by line to a file\"\"\"\n",
    "    if process_id is not None:\n",
    "        print(f\"process {process_id} started\")\n",
    "\n",
    "    print(\"APPENDING TO THE OLD OUTFILE - IS THAT OK?\")\n",
    "    outfile = open(outfile_path, \"a+\")\n",
    "\n",
    "    cosine_greedy = CosineGreedy()\n",
    "    best_spec_simils = []\n",
    "    best_smiles_simils = []\n",
    "    best_indexes = []\n",
    "    for _, query_row in tqdm(df_query.iterrows(), desc=\"outer loop\"):\n",
    "        query_spec = Spectrum(mz=np.array(query_row.mz),\n",
    "                        intensities=np.array(query_row.intensity),\n",
    "                        metadata_harmonization=False)\n",
    "        query_fp = Chem.RDKFingerprint(Chem.MolFromSmiles(query_row.smiles))\n",
    "        best_spec_simil = 0\n",
    "        best_index = 0\n",
    "        for index, ref_spec in enumerate(ref_spectra):\n",
    "            spec_score = float(cosine_greedy.pair(query_spec, ref_spec)[\"score\"])\n",
    "            if spec_score > best_spec_simil:\n",
    "                best_spec_simil = spec_score\n",
    "                best_index = index\n",
    "        smiles_score = DataStructs.FingerprintSimilarity(query_fp, ref_fps[best_index])\n",
    "        \n",
    "        best_spec_simils.append(best_spec_simil)\n",
    "        best_indexes.append(best_index)  \n",
    "        best_smiles_simils.append(smiles_score)\n",
    "        \n",
    "        # update row and write itto file\n",
    "        query_row[\"index_of_closest\"] = best_index\n",
    "        query_row[\"spectra_sim_of_closest\"] = best_spec_simil\n",
    "        query_row[\"smiles_sim_of_closest\"] = smiles_score\n",
    "        query_row = dict(query_row)\n",
    "        outfile.write(json.dumps(query_row))\n",
    "        outfile.write(\"\\n\")\n",
    "\n",
    "    assert len(best_spec_simils) == len(df_query), \"best_simils and df have different lengths\"\n",
    "    assert len(best_indexes) == len(df_query), \"best_indexes and df have different lengths\"\n",
    "    assert len(best_smiles_simils) == len(df_query), \"best_smiles_simils and df have different lengths\"\n",
    "\n",
    "    outfile.close()\n",
    "\n",
    "    if process_id is not None:\n",
    "        print(f\"process {process_id} finished\")\n",
    "\n",
    "    return pd.Series(best_indexes), pd.Series(best_spec_simils, dtype=np.float64), pd.Series(best_smiles_simils, dtype=np.float64)\n",
    "\n",
    "\n",
    "def denovo_preprocess_mp(df_reference, df_query, outfile_path, num_processes=1):\n",
    "    # create fingerprints and spectra fo reference dataset\n",
    "    ref_spectra = [Spectrum(mz=np.array(ref_row.mz),\n",
    "                            intensities=np.array(ref_row.intensity),\n",
    "                            metadata_harmonization=False) \n",
    "                            for _, ref_row in tqdm(df_reference.iterrows(), desc=\"precomputing ref_spectra\")]\n",
    "    ref_fps = [Chem.RDKFingerprint(Chem.MolFromSmiles(ref_row.smiles)) \n",
    "               for _, ref_row in tqdm(df_reference.iterrows(), desc=\"precomputing ref_fps\")]\n",
    "    assert len(ref_spectra) == len(df_reference), \"ref_spectra and df have different lengths\"\n",
    "    assert len(ref_fps) == len(df_reference), \"ref_fps and df have different lengths\"\n",
    "\n",
    "    # split data \n",
    "    idxs = np.array_split(np.arange(len(df_query)), num_processes)\n",
    "    \n",
    "    # create file names\n",
    "    outfile_path = Path(outfile_path)\n",
    "    outfile_paths = [outfile_path.parent / f\"{outfile_path.stem}_{i}{outfile_path.suffix}\" for i in range(num_processes)]\n",
    "\n",
    "    # run multiprocess\n",
    "    print(\"STARTING MULTIPROCESSING\")\n",
    "    processes = {}\n",
    "    for i in range(num_processes):\n",
    "        processes[f\"process{i}\"] = multiprocessing.Process(target=find_best_indexes_and_similarities, \n",
    "                                                           args=(df_query.iloc[idxs[i]], \n",
    "                                                                 ref_spectra,\n",
    "                                                                 ref_fps,\n",
    "                                                                 outfile_paths[i]),\n",
    "                                                           kwargs=dict(process_id=i))\n",
    "    for process in processes.values():\n",
    "        process.start()\n",
    "    for process in processes.values():\n",
    "        process.join()\n",
    "\n",
    "    # concat files\n",
    "    print(\"CONCATENATING FILES\")\n",
    "    with open(outfile_path, \"w+\") as outfile:\n",
    "        for i in range(num_processes):\n",
    "            with open(outfile_paths[i], \"r\") as f:\n",
    "                    for line in f:\n",
    "                        outfile.write(line)\n",
    "    "
   ]
  },
  {
   "cell_type": "code",
   "execution_count": 185,
   "metadata": {},
   "outputs": [
    {
     "name": "stderr",
     "output_type": "stream",
     "text": [
      "precomputing ref_spectra: 1000it [00:00, 10180.18it/s]\n",
      "precomputing ref_fps: 1000it [00:00, 1143.65it/s]"
     ]
    },
    {
     "name": "stdout",
     "output_type": "stream",
     "text": [
      "STARTING MULTIPROCESSING\n"
     ]
    },
    {
     "name": "stderr",
     "output_type": "stream",
     "text": [
      "\n"
     ]
    },
    {
     "name": "stdout",
     "output_type": "stream",
     "text": [
      "process 0 started\n",
      "APPENDING TO THE OLD OUTFILE - IS THAT OK?\n",
      "process 1 started"
     ]
    },
    {
     "name": "stderr",
     "output_type": "stream",
     "text": [
      "outer loop: 0it [00:00, ?it/s]"
     ]
    },
    {
     "name": "stdout",
     "output_type": "stream",
     "text": [
      "\n",
      "APPENDING TO THE OLD OUTFILE - IS THAT OK?\n",
      "process 2 started"
     ]
    },
    {
     "name": "stderr",
     "output_type": "stream",
     "text": [
      "outer loop: 0it [00:00, ?it/s]"
     ]
    },
    {
     "name": "stdout",
     "output_type": "stream",
     "text": [
      "\n",
      "process 3 startedAPPENDING TO THE OLD OUTFILE - IS THAT OK?\n",
      "\n"
     ]
    },
    {
     "name": "stderr",
     "output_type": "stream",
     "text": [
      "outer loop: 2it [00:00, 14.10it/s]"
     ]
    },
    {
     "name": "stdout",
     "output_type": "stream",
     "text": [
      "APPENDING TO THE OLD OUTFILE - IS THAT OK?\n"
     ]
    },
    {
     "name": "stderr",
     "output_type": "stream",
     "text": [
      "outer loop: 0it [00:00, ?it/s]"
     ]
    },
    {
     "name": "stdout",
     "output_type": "stream",
     "text": [
      "process 4 started"
     ]
    },
    {
     "name": "stderr",
     "output_type": "stream",
     "text": [
      "outer loop: 0it [00:00, ?it/s]"
     ]
    },
    {
     "name": "stdout",
     "output_type": "stream",
     "text": [
      "\n",
      "APPENDING TO THE OLD OUTFILE - IS THAT OK?\n"
     ]
    },
    {
     "name": "stderr",
     "output_type": "stream",
     "text": [
      "outer loop: 60it [00:04, 14.89it/s]\n"
     ]
    },
    {
     "name": "stdout",
     "output_type": "stream",
     "text": [
      "process 1 finished\n"
     ]
    },
    {
     "name": "stderr",
     "output_type": "stream",
     "text": [
      "outer loop: 60it [00:04, 14.36it/s]\n"
     ]
    },
    {
     "name": "stdout",
     "output_type": "stream",
     "text": [
      "process 0 finished\n"
     ]
    },
    {
     "name": "stderr",
     "output_type": "stream",
     "text": [
      "outer loop: 60it [00:04, 14.96it/s]\n"
     ]
    },
    {
     "name": "stdout",
     "output_type": "stream",
     "text": [
      "process 4 finished\n"
     ]
    },
    {
     "name": "stderr",
     "output_type": "stream",
     "text": [
      "outer loop: 60it [00:04, 14.66it/s]\n"
     ]
    },
    {
     "name": "stdout",
     "output_type": "stream",
     "text": [
      "process 2 finished\n"
     ]
    },
    {
     "name": "stderr",
     "output_type": "stream",
     "text": [
      "outer loop: 60it [00:05, 11.69it/s]\n"
     ]
    },
    {
     "name": "stdout",
     "output_type": "stream",
     "text": [
      "process 3 finished\n",
      "CONCATENATING FILES\n"
     ]
    }
   ],
   "source": [
    "df_r_split = df_train.iloc[0:1000].copy()\n",
    "df_q_split = df_valid.iloc[0:300].copy()\n",
    "denovo_preprocess_mp(df_r_split, \n",
    "                     df_q_split, \n",
    "                     \"data/datasets/NIST/NIST_split_filip/denovo_data/valid_with_denovo_info.jsonl\", \n",
    "                     num_processes=5)"
   ]
  },
  {
   "cell_type": "code",
   "execution_count": 5,
   "metadata": {},
   "outputs": [
    {
     "data": {
      "text/html": [
       "<div>\n",
       "<style scoped>\n",
       "    .dataframe tbody tr th:only-of-type {\n",
       "        vertical-align: middle;\n",
       "    }\n",
       "\n",
       "    .dataframe tbody tr th {\n",
       "        vertical-align: top;\n",
       "    }\n",
       "\n",
       "    .dataframe thead th {\n",
       "        text-align: right;\n",
       "    }\n",
       "</style>\n",
       "<table border=\"1\" class=\"dataframe\">\n",
       "  <thead>\n",
       "    <tr style=\"text-align: right;\">\n",
       "      <th></th>\n",
       "      <th>input_ids</th>\n",
       "      <th>position_ids</th>\n",
       "      <th>attention_mask</th>\n",
       "      <th>smiles</th>\n",
       "      <th>labels</th>\n",
       "      <th>decoder_attention_mask</th>\n",
       "      <th>mz</th>\n",
       "      <th>intensity</th>\n",
       "      <th>index_of_closest</th>\n",
       "      <th>spectra_sim_of_closest</th>\n",
       "      <th>smiles_sim_of_closest</th>\n",
       "    </tr>\n",
       "  </thead>\n",
       "  <tbody>\n",
       "    <tr>\n",
       "      <th>0</th>\n",
       "      <td>[41, 44, 46, 50, 51, 52, 53, 61, 62, 63, 64, 6...</td>\n",
       "      <td>[0, 0, 0, 7, 7, 4, 0, 0, 4, 7, 6, 3, 0, 0, 4, ...</td>\n",
       "      <td>[1, 1, 1, 1, 1, 1, 1, 1, 1, 1, 1, 1, 1, 1, 1, ...</td>\n",
       "      <td>O=[N+]([O-])c1cccc(N=Cc2ccccc2)c1</td>\n",
       "      <td>[1234, 224, 50, 565, 49, 419, 50, 365, 70, 20,...</td>\n",
       "      <td>[1, 1, 1, 1, 1, 1, 1, 1, 1, 1, 1, 1, 1, 1, 1, ...</td>\n",
       "      <td>[41.0, 44.0, 46.0, 50.0, 51.0, 52.0, 53.0, 61....</td>\n",
       "      <td>[1.0, 2.0, 4.0, 262.76, 326.71, 61.94, 5.0, 5....</td>\n",
       "      <td>36168</td>\n",
       "      <td>0.839560</td>\n",
       "      <td>0.658683</td>\n",
       "    </tr>\n",
       "    <tr>\n",
       "      <th>1</th>\n",
       "      <td>[25, 26, 27, 28, 29, 30, 31, 38, 39, 40, 41, 4...</td>\n",
       "      <td>[1, 3, 7, 4, 8, 2, 1, 3, 8, 4, 9, 6, 9, 4, 5, ...</td>\n",
       "      <td>[1, 1, 1, 1, 1, 1, 1, 1, 1, 1, 1, 1, 1, 1, 1, ...</td>\n",
       "      <td>CCCCCCCCCCCCCC(C)OC(=O)c1cccs1</td>\n",
       "      <td>[1234, 224, 1024, 487, 11, 38, 12, 286, 260, 5...</td>\n",
       "      <td>[1, 1, 1, 1, 1, 1, 1, 1, 1, 1, 1, 1, 1, 1, 1, ...</td>\n",
       "      <td>[25.0, 26.0, 27.0, 28.0, 29.0, 30.0, 31.0, 38....</td>\n",
       "      <td>[11.99, 26.98, 290.74, 45.96, 474.57, 18.98, 1...</td>\n",
       "      <td>128379</td>\n",
       "      <td>0.989650</td>\n",
       "      <td>0.965616</td>\n",
       "    </tr>\n",
       "    <tr>\n",
       "      <th>2</th>\n",
       "      <td>[27, 29, 30, 34, 39, 40, 41, 42, 43, 44, 51, 5...</td>\n",
       "      <td>[6, 7, 5, 0, 6, 0, 7, 5, 1, 6, 3, 0, 4, 1, 7, ...</td>\n",
       "      <td>[1, 1, 1, 1, 1, 1, 1, 1, 1, 1, 1, 1, 1, 1, 1, ...</td>\n",
       "      <td>CC=CC=CC=CN(CC)CC</td>\n",
       "      <td>[1234, 224, 261, 32, 261, 32, 261, 32, 263, 11...</td>\n",
       "      <td>[1, 1, 1, 1, 1, 1, 1, 1, 1, 1, 1, 1, 1, 1, 0, ...</td>\n",
       "      <td>[27.0, 29.0, 30.0, 34.0, 39.0, 40.0, 41.0, 42....</td>\n",
       "      <td>[144.87, 283.74, 86.92, 7.99, 121.89, 0.5, 206...</td>\n",
       "      <td>197493</td>\n",
       "      <td>0.726988</td>\n",
       "      <td>0.032905</td>\n",
       "    </tr>\n",
       "    <tr>\n",
       "      <th>3</th>\n",
       "      <td>[69, 75, 76, 77, 78, 98, 101, 102, 103, 104, 1...</td>\n",
       "      <td>[7, 5, 6, 6, 3, 4, 4, 6, 6, 4, 5, 8, 9, 8, 6, ...</td>\n",
       "      <td>[1, 1, 1, 1, 1, 1, 1, 1, 1, 1, 1, 1, 1, 1, 1, ...</td>\n",
       "      <td>CC(=O)N1c2ccccc2C=CC1C1C=Nc2ccccc2N1</td>\n",
       "      <td>[1234, 224, 261, 260, 50, 12, 49, 20, 70, 21, ...</td>\n",
       "      <td>[1, 1, 1, 1, 1, 1, 1, 1, 1, 1, 1, 1, 1, 1, 1, ...</td>\n",
       "      <td>[69.0, 75.0, 76.0, 77.0, 78.0, 98.0, 101.0, 10...</td>\n",
       "      <td>[239.78, 79.93, 149.86, 159.86, 39.96, 49.95, ...</td>\n",
       "      <td>188595</td>\n",
       "      <td>0.959272</td>\n",
       "      <td>0.613929</td>\n",
       "    </tr>\n",
       "    <tr>\n",
       "      <th>4</th>\n",
       "      <td>[27, 28, 29, 38, 39, 40, 41, 42, 51, 52, 53, 5...</td>\n",
       "      <td>[4, 6, 3, 2, 6, 5, 3, 2, 3, 4, 4, 6, 7, 2, 3, ...</td>\n",
       "      <td>[1, 1, 1, 1, 1, 1, 1, 1, 1, 1, 1, 1, 1, 1, 1, ...</td>\n",
       "      <td>CC1=CC(=O)C(N)=C(C)C1=O</td>\n",
       "      <td>[1234, 224, 261, 20, 32, 261, 260, 50, 12, 38,...</td>\n",
       "      <td>[1, 1, 1, 1, 1, 1, 1, 1, 1, 1, 1, 1, 1, 1, 1, ...</td>\n",
       "      <td>[27.0, 28.0, 29.0, 38.0, 39.0, 40.0, 41.0, 42....</td>\n",
       "      <td>[49.95, 136.88, 26.98, 23.98, 135.88, 76.93, 3...</td>\n",
       "      <td>13312</td>\n",
       "      <td>0.892379</td>\n",
       "      <td>0.070362</td>\n",
       "    </tr>\n",
       "    <tr>\n",
       "      <th>...</th>\n",
       "      <td>...</td>\n",
       "      <td>...</td>\n",
       "      <td>...</td>\n",
       "      <td>...</td>\n",
       "      <td>...</td>\n",
       "      <td>...</td>\n",
       "      <td>...</td>\n",
       "      <td>...</td>\n",
       "      <td>...</td>\n",
       "      <td>...</td>\n",
       "      <td>...</td>\n",
       "    </tr>\n",
       "    <tr>\n",
       "      <th>23865</th>\n",
       "      <td>[15, 17, 18, 26, 27, 28, 29, 30, 31, 38, 39, 4...</td>\n",
       "      <td>[0, 0, 0, 0, 1, 1, 2, 0, 0, 0, 2, 0, 4, 5, 6, ...</td>\n",
       "      <td>[1, 1, 1, 1, 1, 1, 1, 1, 1, 1, 1, 1, 1, 1, 1, ...</td>\n",
       "      <td>CCCCCOC(=O)CCCC(=O)OCc1ccc(OC)c([N+](=O)[O-])c1</td>\n",
       "      <td>[1234, 224, 876, 260, 50, 12, 296, 260, 50, 12...</td>\n",
       "      <td>[1, 1, 1, 1, 1, 1, 1, 1, 1, 1, 1, 1, 1, 1, 1, ...</td>\n",
       "      <td>[15.0, 17.0, 18.0, 26.0, 27.0, 28.0, 29.0, 30....</td>\n",
       "      <td>[1.0, 1.0, 1.0, 1.0, 11.99, 8.99, 23.98, 2.0, ...</td>\n",
       "      <td>151600</td>\n",
       "      <td>0.993576</td>\n",
       "      <td>0.991166</td>\n",
       "    </tr>\n",
       "    <tr>\n",
       "      <th>23866</th>\n",
       "      <td>[26, 27, 28, 29, 36, 38, 39, 40, 41, 42, 43, 4...</td>\n",
       "      <td>[0, 1, 1, 3, 0, 0, 2, 0, 5, 0, 3, 0, 0, 1, 3, ...</td>\n",
       "      <td>[1, 1, 1, 1, 1, 1, 1, 1, 1, 1, 1, 1, 1, 1, 1, ...</td>\n",
       "      <td>CC(C)(C)C1CCC(OC(=O)CCC(=O)OC2CCC(C(C)(C)C)CC2...</td>\n",
       "      <td>[1234, 224, 261, 11, 38, 289, 38, 12, 38, 20, ...</td>\n",
       "      <td>[1, 1, 1, 1, 1, 1, 1, 1, 1, 1, 1, 1, 1, 1, 1, ...</td>\n",
       "      <td>[26.0, 27.0, 28.0, 29.0, 36.0, 38.0, 39.0, 40....</td>\n",
       "      <td>[2.0, 10.99, 11.99, 29.97, 7.99, 2.0, 16.98, 3...</td>\n",
       "      <td>169393</td>\n",
       "      <td>0.933586</td>\n",
       "      <td>1.000000</td>\n",
       "    </tr>\n",
       "    <tr>\n",
       "      <th>23867</th>\n",
       "      <td>[15, 26, 27, 28, 29, 38, 39, 40, 41, 42, 43, 4...</td>\n",
       "      <td>[2, 1, 6, 3, 7, 1, 6, 2, 8, 3, 9, 3, 1, 1, 3, ...</td>\n",
       "      <td>[1, 1, 1, 1, 1, 1, 1, 1, 1, 1, 1, 1, 1, 1, 1, ...</td>\n",
       "      <td>CCC(C)(C)C</td>\n",
       "      <td>[1234, 224, 276, 11, 38, 289, 38, 12, 38, 0, -...</td>\n",
       "      <td>[1, 1, 1, 1, 1, 1, 1, 1, 1, 1, 0, 0, 0, 0, 0, ...</td>\n",
       "      <td>[15.0, 26.0, 27.0, 28.0, 29.0, 38.0, 39.0, 40....</td>\n",
       "      <td>[14.99, 11.99, 188.83, 24.98, 332.7, 9.99, 154...</td>\n",
       "      <td>158264</td>\n",
       "      <td>0.979893</td>\n",
       "      <td>0.263158</td>\n",
       "    </tr>\n",
       "    <tr>\n",
       "      <th>23868</th>\n",
       "      <td>[2, 12, 13, 14, 15, 16, 17, 18, 19, 20, 24, 25...</td>\n",
       "      <td>[1, 1, 2, 4, 7, 0, 0, 0, 0, 0, 0, 1, 4, 7, 5, ...</td>\n",
       "      <td>[1, 1, 1, 1, 1, 1, 1, 1, 1, 1, 1, 1, 1, 1, 1, ...</td>\n",
       "      <td>C=C(C)C(OC)OC(C)(C)C</td>\n",
       "      <td>[1234, 224, 38, 32, 38, 11, 38, 12, 38, 11, 28...</td>\n",
       "      <td>[1, 1, 1, 1, 1, 1, 1, 1, 1, 1, 1, 1, 1, 1, 1, ...</td>\n",
       "      <td>[2.0, 12.0, 13.0, 14.0, 15.0, 16.0, 17.0, 18.0...</td>\n",
       "      <td>[10.99, 12.99, 18.98, 41.96, 217.8, 5.0, 3.0, ...</td>\n",
       "      <td>188332</td>\n",
       "      <td>0.924834</td>\n",
       "      <td>0.088083</td>\n",
       "    </tr>\n",
       "    <tr>\n",
       "      <th>23869</th>\n",
       "      <td>[67, 69, 71, 79, 81, 83, 91, 93, 95, 97, 105, ...</td>\n",
       "      <td>[5, 7, 4, 4, 6, 5, 5, 4, 6, 4, 4, 5, 6, 4, 4, ...</td>\n",
       "      <td>[1, 1, 1, 1, 1, 1, 1, 1, 1, 1, 1, 1, 1, 1, 1, ...</td>\n",
       "      <td>CC(C)CCCC(C)C1CCC2(C)C3=C(C(=O)CC12C)C1(C)CCCC...</td>\n",
       "      <td>[1234, 224, 261, 11, 38, 12, 296, 11, 38, 12, ...</td>\n",
       "      <td>[1, 1, 1, 1, 1, 1, 1, 1, 1, 1, 1, 1, 1, 1, 1, ...</td>\n",
       "      <td>[67.0, 69.0, 71.0, 79.0, 81.0, 83.0, 91.0, 93....</td>\n",
       "      <td>[79.93, 302.73, 69.94, 49.95, 140.87, 110.9, 7...</td>\n",
       "      <td>198516</td>\n",
       "      <td>0.793055</td>\n",
       "      <td>0.184466</td>\n",
       "    </tr>\n",
       "  </tbody>\n",
       "</table>\n",
       "<p>23870 rows × 11 columns</p>\n",
       "</div>"
      ],
      "text/plain": [
       "                                               input_ids  \\\n",
       "0      [41, 44, 46, 50, 51, 52, 53, 61, 62, 63, 64, 6...   \n",
       "1      [25, 26, 27, 28, 29, 30, 31, 38, 39, 40, 41, 4...   \n",
       "2      [27, 29, 30, 34, 39, 40, 41, 42, 43, 44, 51, 5...   \n",
       "3      [69, 75, 76, 77, 78, 98, 101, 102, 103, 104, 1...   \n",
       "4      [27, 28, 29, 38, 39, 40, 41, 42, 51, 52, 53, 5...   \n",
       "...                                                  ...   \n",
       "23865  [15, 17, 18, 26, 27, 28, 29, 30, 31, 38, 39, 4...   \n",
       "23866  [26, 27, 28, 29, 36, 38, 39, 40, 41, 42, 43, 4...   \n",
       "23867  [15, 26, 27, 28, 29, 38, 39, 40, 41, 42, 43, 4...   \n",
       "23868  [2, 12, 13, 14, 15, 16, 17, 18, 19, 20, 24, 25...   \n",
       "23869  [67, 69, 71, 79, 81, 83, 91, 93, 95, 97, 105, ...   \n",
       "\n",
       "                                            position_ids  \\\n",
       "0      [0, 0, 0, 7, 7, 4, 0, 0, 4, 7, 6, 3, 0, 0, 4, ...   \n",
       "1      [1, 3, 7, 4, 8, 2, 1, 3, 8, 4, 9, 6, 9, 4, 5, ...   \n",
       "2      [6, 7, 5, 0, 6, 0, 7, 5, 1, 6, 3, 0, 4, 1, 7, ...   \n",
       "3      [7, 5, 6, 6, 3, 4, 4, 6, 6, 4, 5, 8, 9, 8, 6, ...   \n",
       "4      [4, 6, 3, 2, 6, 5, 3, 2, 3, 4, 4, 6, 7, 2, 3, ...   \n",
       "...                                                  ...   \n",
       "23865  [0, 0, 0, 0, 1, 1, 2, 0, 0, 0, 2, 0, 4, 5, 6, ...   \n",
       "23866  [0, 1, 1, 3, 0, 0, 2, 0, 5, 0, 3, 0, 0, 1, 3, ...   \n",
       "23867  [2, 1, 6, 3, 7, 1, 6, 2, 8, 3, 9, 3, 1, 1, 3, ...   \n",
       "23868  [1, 1, 2, 4, 7, 0, 0, 0, 0, 0, 0, 1, 4, 7, 5, ...   \n",
       "23869  [5, 7, 4, 4, 6, 5, 5, 4, 6, 4, 4, 5, 6, 4, 4, ...   \n",
       "\n",
       "                                          attention_mask  \\\n",
       "0      [1, 1, 1, 1, 1, 1, 1, 1, 1, 1, 1, 1, 1, 1, 1, ...   \n",
       "1      [1, 1, 1, 1, 1, 1, 1, 1, 1, 1, 1, 1, 1, 1, 1, ...   \n",
       "2      [1, 1, 1, 1, 1, 1, 1, 1, 1, 1, 1, 1, 1, 1, 1, ...   \n",
       "3      [1, 1, 1, 1, 1, 1, 1, 1, 1, 1, 1, 1, 1, 1, 1, ...   \n",
       "4      [1, 1, 1, 1, 1, 1, 1, 1, 1, 1, 1, 1, 1, 1, 1, ...   \n",
       "...                                                  ...   \n",
       "23865  [1, 1, 1, 1, 1, 1, 1, 1, 1, 1, 1, 1, 1, 1, 1, ...   \n",
       "23866  [1, 1, 1, 1, 1, 1, 1, 1, 1, 1, 1, 1, 1, 1, 1, ...   \n",
       "23867  [1, 1, 1, 1, 1, 1, 1, 1, 1, 1, 1, 1, 1, 1, 1, ...   \n",
       "23868  [1, 1, 1, 1, 1, 1, 1, 1, 1, 1, 1, 1, 1, 1, 1, ...   \n",
       "23869  [1, 1, 1, 1, 1, 1, 1, 1, 1, 1, 1, 1, 1, 1, 1, ...   \n",
       "\n",
       "                                                  smiles  \\\n",
       "0                      O=[N+]([O-])c1cccc(N=Cc2ccccc2)c1   \n",
       "1                         CCCCCCCCCCCCCC(C)OC(=O)c1cccs1   \n",
       "2                                      CC=CC=CC=CN(CC)CC   \n",
       "3                   CC(=O)N1c2ccccc2C=CC1C1C=Nc2ccccc2N1   \n",
       "4                                CC1=CC(=O)C(N)=C(C)C1=O   \n",
       "...                                                  ...   \n",
       "23865    CCCCCOC(=O)CCCC(=O)OCc1ccc(OC)c([N+](=O)[O-])c1   \n",
       "23866  CC(C)(C)C1CCC(OC(=O)CCC(=O)OC2CCC(C(C)(C)C)CC2...   \n",
       "23867                                         CCC(C)(C)C   \n",
       "23868                               C=C(C)C(OC)OC(C)(C)C   \n",
       "23869  CC(C)CCCC(C)C1CCC2(C)C3=C(C(=O)CC12C)C1(C)CCCC...   \n",
       "\n",
       "                                                  labels  \\\n",
       "0      [1234, 224, 50, 565, 49, 419, 50, 365, 70, 20,...   \n",
       "1      [1234, 224, 1024, 487, 11, 38, 12, 286, 260, 5...   \n",
       "2      [1234, 224, 261, 32, 261, 32, 261, 32, 263, 11...   \n",
       "3      [1234, 224, 261, 260, 50, 12, 49, 20, 70, 21, ...   \n",
       "4      [1234, 224, 261, 20, 32, 261, 260, 50, 12, 38,...   \n",
       "...                                                  ...   \n",
       "23865  [1234, 224, 876, 260, 50, 12, 296, 260, 50, 12...   \n",
       "23866  [1234, 224, 261, 11, 38, 289, 38, 12, 38, 20, ...   \n",
       "23867  [1234, 224, 276, 11, 38, 289, 38, 12, 38, 0, -...   \n",
       "23868  [1234, 224, 38, 32, 38, 11, 38, 12, 38, 11, 28...   \n",
       "23869  [1234, 224, 261, 11, 38, 12, 296, 11, 38, 12, ...   \n",
       "\n",
       "                                  decoder_attention_mask  \\\n",
       "0      [1, 1, 1, 1, 1, 1, 1, 1, 1, 1, 1, 1, 1, 1, 1, ...   \n",
       "1      [1, 1, 1, 1, 1, 1, 1, 1, 1, 1, 1, 1, 1, 1, 1, ...   \n",
       "2      [1, 1, 1, 1, 1, 1, 1, 1, 1, 1, 1, 1, 1, 1, 0, ...   \n",
       "3      [1, 1, 1, 1, 1, 1, 1, 1, 1, 1, 1, 1, 1, 1, 1, ...   \n",
       "4      [1, 1, 1, 1, 1, 1, 1, 1, 1, 1, 1, 1, 1, 1, 1, ...   \n",
       "...                                                  ...   \n",
       "23865  [1, 1, 1, 1, 1, 1, 1, 1, 1, 1, 1, 1, 1, 1, 1, ...   \n",
       "23866  [1, 1, 1, 1, 1, 1, 1, 1, 1, 1, 1, 1, 1, 1, 1, ...   \n",
       "23867  [1, 1, 1, 1, 1, 1, 1, 1, 1, 1, 0, 0, 0, 0, 0, ...   \n",
       "23868  [1, 1, 1, 1, 1, 1, 1, 1, 1, 1, 1, 1, 1, 1, 1, ...   \n",
       "23869  [1, 1, 1, 1, 1, 1, 1, 1, 1, 1, 1, 1, 1, 1, 1, ...   \n",
       "\n",
       "                                                      mz  \\\n",
       "0      [41.0, 44.0, 46.0, 50.0, 51.0, 52.0, 53.0, 61....   \n",
       "1      [25.0, 26.0, 27.0, 28.0, 29.0, 30.0, 31.0, 38....   \n",
       "2      [27.0, 29.0, 30.0, 34.0, 39.0, 40.0, 41.0, 42....   \n",
       "3      [69.0, 75.0, 76.0, 77.0, 78.0, 98.0, 101.0, 10...   \n",
       "4      [27.0, 28.0, 29.0, 38.0, 39.0, 40.0, 41.0, 42....   \n",
       "...                                                  ...   \n",
       "23865  [15.0, 17.0, 18.0, 26.0, 27.0, 28.0, 29.0, 30....   \n",
       "23866  [26.0, 27.0, 28.0, 29.0, 36.0, 38.0, 39.0, 40....   \n",
       "23867  [15.0, 26.0, 27.0, 28.0, 29.0, 38.0, 39.0, 40....   \n",
       "23868  [2.0, 12.0, 13.0, 14.0, 15.0, 16.0, 17.0, 18.0...   \n",
       "23869  [67.0, 69.0, 71.0, 79.0, 81.0, 83.0, 91.0, 93....   \n",
       "\n",
       "                                               intensity  index_of_closest  \\\n",
       "0      [1.0, 2.0, 4.0, 262.76, 326.71, 61.94, 5.0, 5....             36168   \n",
       "1      [11.99, 26.98, 290.74, 45.96, 474.57, 18.98, 1...            128379   \n",
       "2      [144.87, 283.74, 86.92, 7.99, 121.89, 0.5, 206...            197493   \n",
       "3      [239.78, 79.93, 149.86, 159.86, 39.96, 49.95, ...            188595   \n",
       "4      [49.95, 136.88, 26.98, 23.98, 135.88, 76.93, 3...             13312   \n",
       "...                                                  ...               ...   \n",
       "23865  [1.0, 1.0, 1.0, 1.0, 11.99, 8.99, 23.98, 2.0, ...            151600   \n",
       "23866  [2.0, 10.99, 11.99, 29.97, 7.99, 2.0, 16.98, 3...            169393   \n",
       "23867  [14.99, 11.99, 188.83, 24.98, 332.7, 9.99, 154...            158264   \n",
       "23868  [10.99, 12.99, 18.98, 41.96, 217.8, 5.0, 3.0, ...            188332   \n",
       "23869  [79.93, 302.73, 69.94, 49.95, 140.87, 110.9, 7...            198516   \n",
       "\n",
       "       spectra_sim_of_closest  smiles_sim_of_closest  \n",
       "0                    0.839560               0.658683  \n",
       "1                    0.989650               0.965616  \n",
       "2                    0.726988               0.032905  \n",
       "3                    0.959272               0.613929  \n",
       "4                    0.892379               0.070362  \n",
       "...                       ...                    ...  \n",
       "23865                0.993576               0.991166  \n",
       "23866                0.933586               1.000000  \n",
       "23867                0.979893               0.263158  \n",
       "23868                0.924834               0.088083  \n",
       "23869                0.793055               0.184466  \n",
       "\n",
       "[23870 rows x 11 columns]"
      ]
     },
     "execution_count": 5,
     "metadata": {},
     "output_type": "execute_result"
    }
   ],
   "source": [
    "valid_denovo = pd.read_json(\"data/datasets/NIST/NIST_split_filip/denovo_data/valid_with_denovo_info.jsonl\", lines=True, orient=\"records\")\n",
    "valid_denovo"
   ]
  },
  {
   "cell_type": "code",
   "execution_count": 36,
   "metadata": {},
   "outputs": [
    {
     "name": "stdout",
     "output_type": "stream",
     "text": [
      "0.4665738341058273\n",
      "0.428352223224661\n"
     ]
    }
   ],
   "source": [
    "print(valid_denovo.smiles_sim_of_closest.mean())\n",
    "print(valid_denovo[valid_denovo.smiles_sim_of_closest != 1].smiles_sim_of_closest.mean())"
   ]
  },
  {
   "cell_type": "code",
   "execution_count": 6,
   "metadata": {},
   "outputs": [
    {
     "data": {
      "text/html": [
       "<div>\n",
       "<style scoped>\n",
       "    .dataframe tbody tr th:only-of-type {\n",
       "        vertical-align: middle;\n",
       "    }\n",
       "\n",
       "    .dataframe tbody tr th {\n",
       "        vertical-align: top;\n",
       "    }\n",
       "\n",
       "    .dataframe thead th {\n",
       "        text-align: right;\n",
       "    }\n",
       "</style>\n",
       "<table border=\"1\" class=\"dataframe\">\n",
       "  <thead>\n",
       "    <tr style=\"text-align: right;\">\n",
       "      <th></th>\n",
       "      <th>input_ids</th>\n",
       "      <th>position_ids</th>\n",
       "      <th>attention_mask</th>\n",
       "      <th>smiles</th>\n",
       "      <th>labels</th>\n",
       "      <th>decoder_attention_mask</th>\n",
       "      <th>mz</th>\n",
       "      <th>intensity</th>\n",
       "      <th>index_of_closest</th>\n",
       "      <th>spectra_sim_of_closest</th>\n",
       "      <th>smiles_sim_of_closest</th>\n",
       "    </tr>\n",
       "  </thead>\n",
       "  <tbody>\n",
       "    <tr>\n",
       "      <th>14</th>\n",
       "      <td>[26, 27, 29, 39, 41, 42, 43, 44, 45, 53, 54, 5...</td>\n",
       "      <td>[0, 1, 3, 1, 5, 2, 6, 0, 0, 0, 1, 5, 3, 6, 4, ...</td>\n",
       "      <td>[1, 1, 1, 1, 1, 1, 1, 1, 1, 1, 1, 1, 1, 1, 1, ...</td>\n",
       "      <td>CCCCCCCCCCCCCCCCCOC(=O)C=CC(=O)OCC1CCCO1</td>\n",
       "      <td>[1234, 224, 1024, 296, 876, 260, 50, 12, 38, 3...</td>\n",
       "      <td>[1, 1, 1, 1, 1, 1, 1, 1, 1, 1, 1, 1, 1, 1, 1, ...</td>\n",
       "      <td>[26.0, 27.0, 29.0, 39.0, 41.0, 42.0, 43.0, 44....</td>\n",
       "      <td>[2.0, 11.99, 25.98, 8.99, 71.94, 20.98, 162.85...</td>\n",
       "      <td>86576</td>\n",
       "      <td>0.976929</td>\n",
       "      <td>1.0</td>\n",
       "    </tr>\n",
       "    <tr>\n",
       "      <th>37</th>\n",
       "      <td>[27, 28, 29, 30, 38, 39, 40, 41, 42, 43, 44, 5...</td>\n",
       "      <td>[0, 0, 2, 0, 0, 1, 0, 4, 0, 3, 0, 0, 0, 0, 0, ...</td>\n",
       "      <td>[1, 1, 1, 1, 1, 1, 1, 1, 1, 1, 1, 1, 1, 1, 1, ...</td>\n",
       "      <td>CCCCCCCCCCCc1nc2ccccc2[nH]1</td>\n",
       "      <td>[1234, 224, 1024, 404, 20, 271, 21, 334, 21, 6...</td>\n",
       "      <td>[1, 1, 1, 1, 1, 1, 1, 1, 1, 1, 1, 1, 1, 1, 0, ...</td>\n",
       "      <td>[27.0, 28.0, 29.0, 30.0, 38.0, 39.0, 40.0, 41....</td>\n",
       "      <td>[7.99, 7.99, 16.98, 1.0, 1.0, 10.99, 2.0, 42.9...</td>\n",
       "      <td>88842</td>\n",
       "      <td>0.993058</td>\n",
       "      <td>1.0</td>\n",
       "    </tr>\n",
       "    <tr>\n",
       "      <th>42</th>\n",
       "      <td>[26, 27, 28, 29, 30, 31, 33, 39, 40, 41, 42, 4...</td>\n",
       "      <td>[0, 3, 3, 5, 5, 1, 0, 2, 0, 7, 4, 7, 5, 0, 2, ...</td>\n",
       "      <td>[1, 1, 1, 1, 1, 1, 1, 1, 1, 1, 1, 1, 1, 1, 1, ...</td>\n",
       "      <td>CCCCCCCCCCCCCCCCCOC(=O)CCCNC(=O)OCC(C)C</td>\n",
       "      <td>[1234, 224, 1024, 296, 876, 260, 50, 12, 330, ...</td>\n",
       "      <td>[1, 1, 1, 1, 1, 1, 1, 1, 1, 1, 1, 1, 1, 1, 1, ...</td>\n",
       "      <td>[26.0, 27.0, 28.0, 29.0, 30.0, 31.0, 33.0, 39....</td>\n",
       "      <td>[4.0, 27.97, 31.97, 79.93, 92.92, 9.99, 6.99, ...</td>\n",
       "      <td>133633</td>\n",
       "      <td>0.971062</td>\n",
       "      <td>1.0</td>\n",
       "    </tr>\n",
       "    <tr>\n",
       "      <th>70</th>\n",
       "      <td>[26, 27, 28, 29, 30, 39, 40, 41, 42, 43, 44, 4...</td>\n",
       "      <td>[0, 2, 1, 3, 3, 4, 0, 5, 2, 6, 2, 0, 0, 0, 1, ...</td>\n",
       "      <td>[1, 1, 1, 1, 1, 1, 1, 1, 1, 1, 1, 1, 1, 1, 1, ...</td>\n",
       "      <td>CCCCCCCCCCCCCCCOC(=O)CCNC(=O)c1cccs1</td>\n",
       "      <td>[1234, 224, 1024, 296, 394, 260, 50, 12, 283, ...</td>\n",
       "      <td>[1, 1, 1, 1, 1, 1, 1, 1, 1, 1, 1, 1, 1, 1, 1, ...</td>\n",
       "      <td>[26.0, 27.0, 28.0, 29.0, 30.0, 39.0, 40.0, 41....</td>\n",
       "      <td>[3.0, 15.99, 10.99, 28.97, 24.98, 46.96, 2.0, ...</td>\n",
       "      <td>96038</td>\n",
       "      <td>0.867633</td>\n",
       "      <td>1.0</td>\n",
       "    </tr>\n",
       "    <tr>\n",
       "      <th>87</th>\n",
       "      <td>[27, 29, 38, 39, 40, 41, 42, 43, 45, 50, 51, 5...</td>\n",
       "      <td>[3, 3, 0, 5, 2, 8, 3, 4, 2, 0, 3, 1, 5, 2, 3, ...</td>\n",
       "      <td>[1, 1, 1, 1, 1, 1, 1, 1, 1, 1, 1, 1, 1, 1, 1, ...</td>\n",
       "      <td>CC(C)=CCCC(C)=CC(=O)O</td>\n",
       "      <td>[1234, 224, 261, 11, 38, 274, 296, 11, 38, 274...</td>\n",
       "      <td>[1, 1, 1, 1, 1, 1, 1, 1, 1, 1, 1, 1, 1, 1, 1, ...</td>\n",
       "      <td>[27.0, 29.0, 38.0, 39.0, 40.0, 41.0, 42.0, 43....</td>\n",
       "      <td>[36.97, 24.98, 6.99, 110.9, 21.98, 488.56, 25....</td>\n",
       "      <td>77045</td>\n",
       "      <td>0.997908</td>\n",
       "      <td>1.0</td>\n",
       "    </tr>\n",
       "    <tr>\n",
       "      <th>...</th>\n",
       "      <td>...</td>\n",
       "      <td>...</td>\n",
       "      <td>...</td>\n",
       "      <td>...</td>\n",
       "      <td>...</td>\n",
       "      <td>...</td>\n",
       "      <td>...</td>\n",
       "      <td>...</td>\n",
       "      <td>...</td>\n",
       "      <td>...</td>\n",
       "      <td>...</td>\n",
       "    </tr>\n",
       "    <tr>\n",
       "      <th>23822</th>\n",
       "      <td>[27, 28, 29, 31, 39, 40, 41, 42, 43, 44, 45, 5...</td>\n",
       "      <td>[5, 4, 7, 0, 5, 3, 9, 7, 8, 2, 2, 4, 6, 9, 7, ...</td>\n",
       "      <td>[1, 1, 1, 1, 1, 1, 1, 1, 1, 1, 1, 1, 1, 1, 1, ...</td>\n",
       "      <td>O=C1CCCCCCCCCCCCCCCO1</td>\n",
       "      <td>[1234, 224, 50, 32, 38, 20, 1024, 296, 339, 20...</td>\n",
       "      <td>[1, 1, 1, 1, 1, 1, 1, 1, 1, 1, 1, 0, 0, 0, 0, ...</td>\n",
       "      <td>[27.0, 28.0, 29.0, 31.0, 39.0, 40.0, 41.0, 42....</td>\n",
       "      <td>[117.89, 45.96, 322.71, 7.99, 110.9, 35.97, 83...</td>\n",
       "      <td>203762</td>\n",
       "      <td>0.976717</td>\n",
       "      <td>1.0</td>\n",
       "    </tr>\n",
       "    <tr>\n",
       "      <th>23850</th>\n",
       "      <td>[26, 27, 29, 31, 39, 40, 41, 42, 43, 44, 45, 5...</td>\n",
       "      <td>[1, 4, 4, 0, 3, 0, 6, 5, 7, 1, 0, 3, 5, 7, 7, ...</td>\n",
       "      <td>[1, 1, 1, 1, 1, 1, 1, 1, 1, 1, 1, 1, 1, 1, 1, ...</td>\n",
       "      <td>CCCCCCCCCOC(=O)C=CC(=O)OC(C)C</td>\n",
       "      <td>[1234, 224, 296, 876, 260, 50, 12, 38, 32, 261...</td>\n",
       "      <td>[1, 1, 1, 1, 1, 1, 1, 1, 1, 1, 1, 1, 1, 1, 1, ...</td>\n",
       "      <td>[26.0, 27.0, 29.0, 31.0, 39.0, 40.0, 41.0, 42....</td>\n",
       "      <td>[10.99, 57.95, 54.95, 2.0, 27.97, 4.0, 201.82,...</td>\n",
       "      <td>37320</td>\n",
       "      <td>0.966735</td>\n",
       "      <td>1.0</td>\n",
       "    </tr>\n",
       "    <tr>\n",
       "      <th>23861</th>\n",
       "      <td>[38, 39, 40, 41, 42, 43, 44, 45, 49, 50, 51, 5...</td>\n",
       "      <td>[1, 3, 0, 1, 5, 3, 5, 0, 0, 3, 4, 3, 4, 0, 0, ...</td>\n",
       "      <td>[1, 1, 1, 1, 1, 1, 1, 1, 1, 1, 1, 1, 1, 1, 1, ...</td>\n",
       "      <td>CC(N)c1ccccc1</td>\n",
       "      <td>[1234, 224, 261, 11, 49, 12, 70, 20, 334, 20, ...</td>\n",
       "      <td>[1, 1, 1, 1, 1, 1, 1, 1, 1, 1, 1, 0, 0, 0, 0, ...</td>\n",
       "      <td>[38.0, 39.0, 40.0, 41.0, 42.0, 43.0, 44.0, 45....</td>\n",
       "      <td>[8.99, 24.98, 5.0, 9.99, 80.93, 40.96, 89.92, ...</td>\n",
       "      <td>142277</td>\n",
       "      <td>0.995004</td>\n",
       "      <td>1.0</td>\n",
       "    </tr>\n",
       "    <tr>\n",
       "      <th>23864</th>\n",
       "      <td>[15, 26, 27, 28, 29, 30, 31, 38, 39, 40, 41, 4...</td>\n",
       "      <td>[0, 0, 5, 1, 6, 0, 0, 0, 5, 3, 9, 6, 9, 4, 4, ...</td>\n",
       "      <td>[1, 1, 1, 1, 1, 1, 1, 1, 1, 1, 1, 1, 1, 1, 1, ...</td>\n",
       "      <td>CCCCCCCCCCCCCC(=O)OC(C)C</td>\n",
       "      <td>[1234, 224, 1024, 487, 260, 50, 12, 286, 11, 3...</td>\n",
       "      <td>[1, 1, 1, 1, 1, 1, 1, 1, 1, 1, 1, 1, 1, 0, 0, ...</td>\n",
       "      <td>[15.0, 26.0, 27.0, 28.0, 29.0, 30.0, 31.0, 38....</td>\n",
       "      <td>[3.0, 3.0, 88.92, 8.99, 153.86, 3.0, 5.99, 2.0...</td>\n",
       "      <td>146246</td>\n",
       "      <td>0.857527</td>\n",
       "      <td>1.0</td>\n",
       "    </tr>\n",
       "    <tr>\n",
       "      <th>23866</th>\n",
       "      <td>[26, 27, 28, 29, 36, 38, 39, 40, 41, 42, 43, 4...</td>\n",
       "      <td>[0, 1, 1, 3, 0, 0, 2, 0, 5, 0, 3, 0, 0, 1, 3, ...</td>\n",
       "      <td>[1, 1, 1, 1, 1, 1, 1, 1, 1, 1, 1, 1, 1, 1, 1, ...</td>\n",
       "      <td>CC(C)(C)C1CCC(OC(=O)CCC(=O)OC2CCC(C(C)(C)C)CC2...</td>\n",
       "      <td>[1234, 224, 261, 11, 38, 289, 38, 12, 38, 20, ...</td>\n",
       "      <td>[1, 1, 1, 1, 1, 1, 1, 1, 1, 1, 1, 1, 1, 1, 1, ...</td>\n",
       "      <td>[26.0, 27.0, 28.0, 29.0, 36.0, 38.0, 39.0, 40....</td>\n",
       "      <td>[2.0, 10.99, 11.99, 29.97, 7.99, 2.0, 16.98, 3...</td>\n",
       "      <td>169393</td>\n",
       "      <td>0.933586</td>\n",
       "      <td>1.0</td>\n",
       "    </tr>\n",
       "  </tbody>\n",
       "</table>\n",
       "<p>1596 rows × 11 columns</p>\n",
       "</div>"
      ],
      "text/plain": [
       "                                               input_ids  \\\n",
       "14     [26, 27, 29, 39, 41, 42, 43, 44, 45, 53, 54, 5...   \n",
       "37     [27, 28, 29, 30, 38, 39, 40, 41, 42, 43, 44, 5...   \n",
       "42     [26, 27, 28, 29, 30, 31, 33, 39, 40, 41, 42, 4...   \n",
       "70     [26, 27, 28, 29, 30, 39, 40, 41, 42, 43, 44, 4...   \n",
       "87     [27, 29, 38, 39, 40, 41, 42, 43, 45, 50, 51, 5...   \n",
       "...                                                  ...   \n",
       "23822  [27, 28, 29, 31, 39, 40, 41, 42, 43, 44, 45, 5...   \n",
       "23850  [26, 27, 29, 31, 39, 40, 41, 42, 43, 44, 45, 5...   \n",
       "23861  [38, 39, 40, 41, 42, 43, 44, 45, 49, 50, 51, 5...   \n",
       "23864  [15, 26, 27, 28, 29, 30, 31, 38, 39, 40, 41, 4...   \n",
       "23866  [26, 27, 28, 29, 36, 38, 39, 40, 41, 42, 43, 4...   \n",
       "\n",
       "                                            position_ids  \\\n",
       "14     [0, 1, 3, 1, 5, 2, 6, 0, 0, 0, 1, 5, 3, 6, 4, ...   \n",
       "37     [0, 0, 2, 0, 0, 1, 0, 4, 0, 3, 0, 0, 0, 0, 0, ...   \n",
       "42     [0, 3, 3, 5, 5, 1, 0, 2, 0, 7, 4, 7, 5, 0, 2, ...   \n",
       "70     [0, 2, 1, 3, 3, 4, 0, 5, 2, 6, 2, 0, 0, 0, 1, ...   \n",
       "87     [3, 3, 0, 5, 2, 8, 3, 4, 2, 0, 3, 1, 5, 2, 3, ...   \n",
       "...                                                  ...   \n",
       "23822  [5, 4, 7, 0, 5, 3, 9, 7, 8, 2, 2, 4, 6, 9, 7, ...   \n",
       "23850  [1, 4, 4, 0, 3, 0, 6, 5, 7, 1, 0, 3, 5, 7, 7, ...   \n",
       "23861  [1, 3, 0, 1, 5, 3, 5, 0, 0, 3, 4, 3, 4, 0, 0, ...   \n",
       "23864  [0, 0, 5, 1, 6, 0, 0, 0, 5, 3, 9, 6, 9, 4, 4, ...   \n",
       "23866  [0, 1, 1, 3, 0, 0, 2, 0, 5, 0, 3, 0, 0, 1, 3, ...   \n",
       "\n",
       "                                          attention_mask  \\\n",
       "14     [1, 1, 1, 1, 1, 1, 1, 1, 1, 1, 1, 1, 1, 1, 1, ...   \n",
       "37     [1, 1, 1, 1, 1, 1, 1, 1, 1, 1, 1, 1, 1, 1, 1, ...   \n",
       "42     [1, 1, 1, 1, 1, 1, 1, 1, 1, 1, 1, 1, 1, 1, 1, ...   \n",
       "70     [1, 1, 1, 1, 1, 1, 1, 1, 1, 1, 1, 1, 1, 1, 1, ...   \n",
       "87     [1, 1, 1, 1, 1, 1, 1, 1, 1, 1, 1, 1, 1, 1, 1, ...   \n",
       "...                                                  ...   \n",
       "23822  [1, 1, 1, 1, 1, 1, 1, 1, 1, 1, 1, 1, 1, 1, 1, ...   \n",
       "23850  [1, 1, 1, 1, 1, 1, 1, 1, 1, 1, 1, 1, 1, 1, 1, ...   \n",
       "23861  [1, 1, 1, 1, 1, 1, 1, 1, 1, 1, 1, 1, 1, 1, 1, ...   \n",
       "23864  [1, 1, 1, 1, 1, 1, 1, 1, 1, 1, 1, 1, 1, 1, 1, ...   \n",
       "23866  [1, 1, 1, 1, 1, 1, 1, 1, 1, 1, 1, 1, 1, 1, 1, ...   \n",
       "\n",
       "                                                  smiles  \\\n",
       "14              CCCCCCCCCCCCCCCCCOC(=O)C=CC(=O)OCC1CCCO1   \n",
       "37                           CCCCCCCCCCCc1nc2ccccc2[nH]1   \n",
       "42               CCCCCCCCCCCCCCCCCOC(=O)CCCNC(=O)OCC(C)C   \n",
       "70                  CCCCCCCCCCCCCCCOC(=O)CCNC(=O)c1cccs1   \n",
       "87                                 CC(C)=CCCC(C)=CC(=O)O   \n",
       "...                                                  ...   \n",
       "23822                              O=C1CCCCCCCCCCCCCCCO1   \n",
       "23850                      CCCCCCCCCOC(=O)C=CC(=O)OC(C)C   \n",
       "23861                                      CC(N)c1ccccc1   \n",
       "23864                           CCCCCCCCCCCCCC(=O)OC(C)C   \n",
       "23866  CC(C)(C)C1CCC(OC(=O)CCC(=O)OC2CCC(C(C)(C)C)CC2...   \n",
       "\n",
       "                                                  labels  \\\n",
       "14     [1234, 224, 1024, 296, 876, 260, 50, 12, 38, 3...   \n",
       "37     [1234, 224, 1024, 404, 20, 271, 21, 334, 21, 6...   \n",
       "42     [1234, 224, 1024, 296, 876, 260, 50, 12, 330, ...   \n",
       "70     [1234, 224, 1024, 296, 394, 260, 50, 12, 283, ...   \n",
       "87     [1234, 224, 261, 11, 38, 274, 296, 11, 38, 274...   \n",
       "...                                                  ...   \n",
       "23822  [1234, 224, 50, 32, 38, 20, 1024, 296, 339, 20...   \n",
       "23850  [1234, 224, 296, 876, 260, 50, 12, 38, 32, 261...   \n",
       "23861  [1234, 224, 261, 11, 49, 12, 70, 20, 334, 20, ...   \n",
       "23864  [1234, 224, 1024, 487, 260, 50, 12, 286, 11, 3...   \n",
       "23866  [1234, 224, 261, 11, 38, 289, 38, 12, 38, 20, ...   \n",
       "\n",
       "                                  decoder_attention_mask  \\\n",
       "14     [1, 1, 1, 1, 1, 1, 1, 1, 1, 1, 1, 1, 1, 1, 1, ...   \n",
       "37     [1, 1, 1, 1, 1, 1, 1, 1, 1, 1, 1, 1, 1, 1, 0, ...   \n",
       "42     [1, 1, 1, 1, 1, 1, 1, 1, 1, 1, 1, 1, 1, 1, 1, ...   \n",
       "70     [1, 1, 1, 1, 1, 1, 1, 1, 1, 1, 1, 1, 1, 1, 1, ...   \n",
       "87     [1, 1, 1, 1, 1, 1, 1, 1, 1, 1, 1, 1, 1, 1, 1, ...   \n",
       "...                                                  ...   \n",
       "23822  [1, 1, 1, 1, 1, 1, 1, 1, 1, 1, 1, 0, 0, 0, 0, ...   \n",
       "23850  [1, 1, 1, 1, 1, 1, 1, 1, 1, 1, 1, 1, 1, 1, 1, ...   \n",
       "23861  [1, 1, 1, 1, 1, 1, 1, 1, 1, 1, 1, 0, 0, 0, 0, ...   \n",
       "23864  [1, 1, 1, 1, 1, 1, 1, 1, 1, 1, 1, 1, 1, 0, 0, ...   \n",
       "23866  [1, 1, 1, 1, 1, 1, 1, 1, 1, 1, 1, 1, 1, 1, 1, ...   \n",
       "\n",
       "                                                      mz  \\\n",
       "14     [26.0, 27.0, 29.0, 39.0, 41.0, 42.0, 43.0, 44....   \n",
       "37     [27.0, 28.0, 29.0, 30.0, 38.0, 39.0, 40.0, 41....   \n",
       "42     [26.0, 27.0, 28.0, 29.0, 30.0, 31.0, 33.0, 39....   \n",
       "70     [26.0, 27.0, 28.0, 29.0, 30.0, 39.0, 40.0, 41....   \n",
       "87     [27.0, 29.0, 38.0, 39.0, 40.0, 41.0, 42.0, 43....   \n",
       "...                                                  ...   \n",
       "23822  [27.0, 28.0, 29.0, 31.0, 39.0, 40.0, 41.0, 42....   \n",
       "23850  [26.0, 27.0, 29.0, 31.0, 39.0, 40.0, 41.0, 42....   \n",
       "23861  [38.0, 39.0, 40.0, 41.0, 42.0, 43.0, 44.0, 45....   \n",
       "23864  [15.0, 26.0, 27.0, 28.0, 29.0, 30.0, 31.0, 38....   \n",
       "23866  [26.0, 27.0, 28.0, 29.0, 36.0, 38.0, 39.0, 40....   \n",
       "\n",
       "                                               intensity  index_of_closest  \\\n",
       "14     [2.0, 11.99, 25.98, 8.99, 71.94, 20.98, 162.85...             86576   \n",
       "37     [7.99, 7.99, 16.98, 1.0, 1.0, 10.99, 2.0, 42.9...             88842   \n",
       "42     [4.0, 27.97, 31.97, 79.93, 92.92, 9.99, 6.99, ...            133633   \n",
       "70     [3.0, 15.99, 10.99, 28.97, 24.98, 46.96, 2.0, ...             96038   \n",
       "87     [36.97, 24.98, 6.99, 110.9, 21.98, 488.56, 25....             77045   \n",
       "...                                                  ...               ...   \n",
       "23822  [117.89, 45.96, 322.71, 7.99, 110.9, 35.97, 83...            203762   \n",
       "23850  [10.99, 57.95, 54.95, 2.0, 27.97, 4.0, 201.82,...             37320   \n",
       "23861  [8.99, 24.98, 5.0, 9.99, 80.93, 40.96, 89.92, ...            142277   \n",
       "23864  [3.0, 3.0, 88.92, 8.99, 153.86, 3.0, 5.99, 2.0...            146246   \n",
       "23866  [2.0, 10.99, 11.99, 29.97, 7.99, 2.0, 16.98, 3...            169393   \n",
       "\n",
       "       spectra_sim_of_closest  smiles_sim_of_closest  \n",
       "14                   0.976929                    1.0  \n",
       "37                   0.993058                    1.0  \n",
       "42                   0.971062                    1.0  \n",
       "70                   0.867633                    1.0  \n",
       "87                   0.997908                    1.0  \n",
       "...                       ...                    ...  \n",
       "23822                0.976717                    1.0  \n",
       "23850                0.966735                    1.0  \n",
       "23861                0.995004                    1.0  \n",
       "23864                0.857527                    1.0  \n",
       "23866                0.933586                    1.0  \n",
       "\n",
       "[1596 rows x 11 columns]"
      ]
     },
     "execution_count": 6,
     "metadata": {},
     "output_type": "execute_result"
    }
   ],
   "source": [
    "valid_denovo[valid_denovo.smiles_sim_of_closest == 1]"
   ]
  },
  {
   "cell_type": "code",
   "execution_count": 28,
   "metadata": {},
   "outputs": [
    {
     "data": {
      "text/html": [
       "<div>\n",
       "<style scoped>\n",
       "    .dataframe tbody tr th:only-of-type {\n",
       "        vertical-align: middle;\n",
       "    }\n",
       "\n",
       "    .dataframe tbody tr th {\n",
       "        vertical-align: top;\n",
       "    }\n",
       "\n",
       "    .dataframe thead th {\n",
       "        text-align: right;\n",
       "    }\n",
       "</style>\n",
       "<table border=\"1\" class=\"dataframe\">\n",
       "  <thead>\n",
       "    <tr style=\"text-align: right;\">\n",
       "      <th></th>\n",
       "      <th>input_ids</th>\n",
       "      <th>position_ids</th>\n",
       "      <th>attention_mask</th>\n",
       "      <th>smiles</th>\n",
       "      <th>labels</th>\n",
       "      <th>decoder_attention_mask</th>\n",
       "      <th>mz</th>\n",
       "      <th>intensity</th>\n",
       "      <th>valid_smiles</th>\n",
       "    </tr>\n",
       "  </thead>\n",
       "  <tbody>\n",
       "    <tr>\n",
       "      <th>0</th>\n",
       "      <td>[26, 27, 29, 39, 41, 42, 43, 44, 53, 54, 55, 5...</td>\n",
       "      <td>[0, 1, 3, 0, 4, 2, 6, 0, 0, 2, 5, 3, 5, 0, 3, ...</td>\n",
       "      <td>[1, 1, 1, 1, 1, 1, 1, 1, 1, 1, 1, 1, 1, 1, 1, ...</td>\n",
       "      <td>CCCCCCCCCCCCCCCOC(=O)C=CC(=O)OCC1CCCO1</td>\n",
       "      <td>[1234, 224, 1024, 296, 394, 260, 50, 12, 38, 3...</td>\n",
       "      <td>[1, 1, 1, 1, 1, 1, 1, 1, 1, 1, 1, 1, 1, 1, 1, ...</td>\n",
       "      <td>[26.0, 27.0, 29.0, 39.0, 41.0, 42.0, 43.0, 44....</td>\n",
       "      <td>[2.0, 10.99, 24.98, 7.99, 66.94, 16.98, 142.87...</td>\n",
       "      <td>CCCCCCCCCCCCCCCCCOC(=O)C=CC(=O)OCC1CCCO1</td>\n",
       "    </tr>\n",
       "    <tr>\n",
       "      <th>1</th>\n",
       "      <td>[17, 18, 26, 27, 28, 29, 30, 37, 38, 39, 40, 4...</td>\n",
       "      <td>[0, 0, 0, 2, 2, 3, 0, 0, 0, 2, 0, 4, 0, 2, 0, ...</td>\n",
       "      <td>[1, 1, 1, 1, 1, 1, 1, 1, 1, 1, 1, 1, 1, 1, 1, ...</td>\n",
       "      <td>CCCCCCCCc1nc2ccccc2[nH]1</td>\n",
       "      <td>[1234, 224, 296, 566, 20, 271, 21, 334, 21, 62...</td>\n",
       "      <td>[1, 1, 1, 1, 1, 1, 1, 1, 1, 1, 1, 1, 1, 1, 0, ...</td>\n",
       "      <td>[17.0, 18.0, 26.0, 27.0, 28.0, 29.0, 30.0, 37....</td>\n",
       "      <td>[1.0, 1.0, 1.0, 15.99, 15.99, 25.98, 1.0, 1.0,...</td>\n",
       "      <td>CCCCCCCCCCCc1nc2ccccc2[nH]1</td>\n",
       "    </tr>\n",
       "    <tr>\n",
       "      <th>2</th>\n",
       "      <td>[26, 27, 28, 29, 30, 31, 33, 39, 40, 41, 42, 4...</td>\n",
       "      <td>[0, 3, 3, 5, 5, 1, 0, 3, 0, 7, 4, 7, 5, 0, 0, ...</td>\n",
       "      <td>[1, 1, 1, 1, 1, 1, 1, 1, 1, 1, 1, 1, 1, 1, 1, ...</td>\n",
       "      <td>CCCCCCCCCCCCCCCCCCOC(=O)CCCNC(=O)OCC(C)C</td>\n",
       "      <td>[1234, 224, 1024, 1024, 292, 260, 50, 12, 330,...</td>\n",
       "      <td>[1, 1, 1, 1, 1, 1, 1, 1, 1, 1, 1, 1, 1, 1, 1, ...</td>\n",
       "      <td>[26.0, 27.0, 28.0, 29.0, 30.0, 31.0, 33.0, 39....</td>\n",
       "      <td>[5.99, 33.97, 33.97, 84.92, 89.92, 11.99, 7.99...</td>\n",
       "      <td>CCCCCCCCCCCCCCCCCOC(=O)CCCNC(=O)OCC(C)C</td>\n",
       "    </tr>\n",
       "    <tr>\n",
       "      <th>3</th>\n",
       "      <td>[27, 28, 29, 30, 39, 40, 41, 42, 43, 44, 45, 5...</td>\n",
       "      <td>[1, 1, 2, 1, 4, 0, 4, 1, 4, 1, 0, 0, 0, 3, 1, ...</td>\n",
       "      <td>[1, 1, 1, 1, 1, 1, 1, 1, 1, 1, 1, 1, 1, 1, 1, ...</td>\n",
       "      <td>CCCCCCCCOC(=O)CCNC(=O)c1cccs1</td>\n",
       "      <td>[1234, 224, 487, 292, 260, 50, 12, 283, 260, 5...</td>\n",
       "      <td>[1, 1, 1, 1, 1, 1, 1, 1, 1, 1, 1, 1, 1, 1, 1, ...</td>\n",
       "      <td>[27.0, 28.0, 29.0, 30.0, 39.0, 40.0, 41.0, 42....</td>\n",
       "      <td>[12.99, 8.99, 23.98, 8.99, 54.95, 3.0, 53.95, ...</td>\n",
       "      <td>CCCCCCCCCCCCCCCOC(=O)CCNC(=O)c1cccs1</td>\n",
       "    </tr>\n",
       "    <tr>\n",
       "      <th>4</th>\n",
       "      <td>[26, 27, 28, 29, 30, 31, 37, 38, 39, 40, 41, 4...</td>\n",
       "      <td>[0, 3, 0, 2, 0, 0, 0, 0, 5, 2, 8, 2, 4, 0, 2, ...</td>\n",
       "      <td>[1, 1, 1, 1, 1, 1, 1, 1, 1, 1, 1, 1, 1, 1, 1, ...</td>\n",
       "      <td>CC(C)=CCC/C(C)=C/C(=O)O</td>\n",
       "      <td>[1234, 224, 261, 11, 38, 274, 276, 18, 38, 11,...</td>\n",
       "      <td>[1, 1, 1, 1, 1, 1, 1, 1, 1, 1, 1, 1, 1, 1, 1, ...</td>\n",
       "      <td>[26.0, 27.0, 28.0, 29.0, 30.0, 31.0, 37.0, 38....</td>\n",
       "      <td>[1.0, 34.97, 6.99, 22.98, 1.0, 2.0, 1.0, 5.0, ...</td>\n",
       "      <td>CC(C)=CCCC(C)=CC(=O)O</td>\n",
       "    </tr>\n",
       "    <tr>\n",
       "      <th>...</th>\n",
       "      <td>...</td>\n",
       "      <td>...</td>\n",
       "      <td>...</td>\n",
       "      <td>...</td>\n",
       "      <td>...</td>\n",
       "      <td>...</td>\n",
       "      <td>...</td>\n",
       "      <td>...</td>\n",
       "      <td>...</td>\n",
       "    </tr>\n",
       "    <tr>\n",
       "      <th>1590</th>\n",
       "      <td>[26, 27, 29, 31, 39, 40, 41, 42, 43, 44, 45, 5...</td>\n",
       "      <td>[1, 4, 5, 0, 3, 0, 7, 4, 6, 0, 0, 3, 5, 7, 7, ...</td>\n",
       "      <td>[1, 1, 1, 1, 1, 1, 1, 1, 1, 1, 1, 1, 1, 1, 1, ...</td>\n",
       "      <td>CCCCC(CC)COC(=O)C=CC(=O)OCC(C)C</td>\n",
       "      <td>[1234, 224, 356, 11, 261, 12, 285, 260, 50, 12...</td>\n",
       "      <td>[1, 1, 1, 1, 1, 1, 1, 1, 1, 1, 1, 1, 1, 1, 1, ...</td>\n",
       "      <td>[26.0, 27.0, 29.0, 31.0, 39.0, 40.0, 41.0, 42....</td>\n",
       "      <td>[9.99, 49.95, 95.91, 2.0, 28.97, 2.0, 212.81, ...</td>\n",
       "      <td>CCCCC(CC)COC(=O)C=CC(=O)OCCC</td>\n",
       "    </tr>\n",
       "    <tr>\n",
       "      <th>1591</th>\n",
       "      <td>[27, 28, 29, 30, 31, 39, 40, 41, 42, 43, 44, 4...</td>\n",
       "      <td>[3, 2, 5, 0, 0, 5, 2, 9, 6, 8, 2, 2, 0, 1, 5, ...</td>\n",
       "      <td>[1, 1, 1, 1, 1, 1, 1, 1, 1, 1, 1, 1, 1, 1, 1, ...</td>\n",
       "      <td>O=C1CCCCCCCCCCCCCCCCO1</td>\n",
       "      <td>[1234, 224, 50, 32, 38, 20, 1024, 296, 422, 20...</td>\n",
       "      <td>[1, 1, 1, 1, 1, 1, 1, 1, 1, 1, 1, 0, 0, 0, 0, ...</td>\n",
       "      <td>[27.0, 28.0, 29.0, 30.0, 31.0, 39.0, 40.0, 41....</td>\n",
       "      <td>[36.97, 20.98, 118.89, 3.0, 7.99, 99.91, 22.98...</td>\n",
       "      <td>O=C1CCCCCCCCCCCCCCCO1</td>\n",
       "    </tr>\n",
       "    <tr>\n",
       "      <th>1592</th>\n",
       "      <td>[26, 27, 29, 31, 39, 40, 41, 42, 43, 44, 45, 5...</td>\n",
       "      <td>[1, 4, 4, 0, 3, 0, 6, 5, 7, 1, 0, 2, 4, 8, 7, ...</td>\n",
       "      <td>[1, 1, 1, 1, 1, 1, 1, 1, 1, 1, 1, 1, 1, 1, 1, ...</td>\n",
       "      <td>CCCCCCCCCCOC(=O)C=CC(=O)OC(C)C</td>\n",
       "      <td>[1234, 224, 1024, 292, 260, 50, 12, 38, 32, 26...</td>\n",
       "      <td>[1, 1, 1, 1, 1, 1, 1, 1, 1, 1, 1, 1, 1, 1, 1, ...</td>\n",
       "      <td>[26.0, 27.0, 29.0, 31.0, 39.0, 40.0, 41.0, 42....</td>\n",
       "      <td>[8.99, 51.95, 51.95, 2.0, 24.98, 4.0, 183.83, ...</td>\n",
       "      <td>CCCCCCCCCOC(=O)C=CC(=O)OC(C)C</td>\n",
       "    </tr>\n",
       "    <tr>\n",
       "      <th>1594</th>\n",
       "      <td>[15, 25, 26, 27, 28, 29, 30, 31, 37, 38, 39, 4...</td>\n",
       "      <td>[1, 0, 0, 4, 4, 6, 0, 0, 0, 0, 4, 2, 8, 6, 9, ...</td>\n",
       "      <td>[1, 1, 1, 1, 1, 1, 1, 1, 1, 1, 1, 1, 1, 1, 1, ...</td>\n",
       "      <td>CCCCCCCCCCCCCCCCCCCCC(=O)OC(C)C</td>\n",
       "      <td>[1234, 224, 1024, 1024, 356, 260, 50, 12, 286,...</td>\n",
       "      <td>[1, 1, 1, 1, 1, 1, 1, 1, 1, 1, 1, 1, 1, 1, 0, ...</td>\n",
       "      <td>[15.0, 25.0, 26.0, 27.0, 28.0, 29.0, 30.0, 31....</td>\n",
       "      <td>[9.99, 1.0, 7.99, 66.94, 49.95, 126.89, 5.0, 5...</td>\n",
       "      <td>CCCCCCCCCCCCCC(=O)OC(C)C</td>\n",
       "    </tr>\n",
       "    <tr>\n",
       "      <th>1595</th>\n",
       "      <td>[27, 28, 29, 39, 40, 41, 42, 43, 44, 45, 53, 5...</td>\n",
       "      <td>[0, 0, 2, 0, 0, 4, 0, 4, 0, 0, 0, 2, 4, 4, 8, ...</td>\n",
       "      <td>[1, 1, 1, 1, 1, 1, 1, 1, 1, 1, 1, 1, 1, 1, 1, ...</td>\n",
       "      <td>CCCCCC(C)OC(=O)CCC(=O)OC1CCC(C(C)(C)C)CC1</td>\n",
       "      <td>[1234, 224, 487, 11, 38, 12, 286, 260, 50, 12,...</td>\n",
       "      <td>[1, 1, 1, 1, 1, 1, 1, 1, 1, 1, 1, 1, 1, 1, 1, ...</td>\n",
       "      <td>[27.0, 28.0, 29.0, 39.0, 40.0, 41.0, 42.0, 43....</td>\n",
       "      <td>[5.0, 5.99, 15.99, 4.0, 2.0, 53.95, 6.99, 51.9...</td>\n",
       "      <td>CC(C)(C)C1CCC(OC(=O)CCC(=O)OC2CCC(C(C)(C)C)CC2...</td>\n",
       "    </tr>\n",
       "  </tbody>\n",
       "</table>\n",
       "<p>1574 rows × 9 columns</p>\n",
       "</div>"
      ],
      "text/plain": [
       "                                              input_ids  \\\n",
       "0     [26, 27, 29, 39, 41, 42, 43, 44, 53, 54, 55, 5...   \n",
       "1     [17, 18, 26, 27, 28, 29, 30, 37, 38, 39, 40, 4...   \n",
       "2     [26, 27, 28, 29, 30, 31, 33, 39, 40, 41, 42, 4...   \n",
       "3     [27, 28, 29, 30, 39, 40, 41, 42, 43, 44, 45, 5...   \n",
       "4     [26, 27, 28, 29, 30, 31, 37, 38, 39, 40, 41, 4...   \n",
       "...                                                 ...   \n",
       "1590  [26, 27, 29, 31, 39, 40, 41, 42, 43, 44, 45, 5...   \n",
       "1591  [27, 28, 29, 30, 31, 39, 40, 41, 42, 43, 44, 4...   \n",
       "1592  [26, 27, 29, 31, 39, 40, 41, 42, 43, 44, 45, 5...   \n",
       "1594  [15, 25, 26, 27, 28, 29, 30, 31, 37, 38, 39, 4...   \n",
       "1595  [27, 28, 29, 39, 40, 41, 42, 43, 44, 45, 53, 5...   \n",
       "\n",
       "                                           position_ids  \\\n",
       "0     [0, 1, 3, 0, 4, 2, 6, 0, 0, 2, 5, 3, 5, 0, 3, ...   \n",
       "1     [0, 0, 0, 2, 2, 3, 0, 0, 0, 2, 0, 4, 0, 2, 0, ...   \n",
       "2     [0, 3, 3, 5, 5, 1, 0, 3, 0, 7, 4, 7, 5, 0, 0, ...   \n",
       "3     [1, 1, 2, 1, 4, 0, 4, 1, 4, 1, 0, 0, 0, 3, 1, ...   \n",
       "4     [0, 3, 0, 2, 0, 0, 0, 0, 5, 2, 8, 2, 4, 0, 2, ...   \n",
       "...                                                 ...   \n",
       "1590  [1, 4, 5, 0, 3, 0, 7, 4, 6, 0, 0, 3, 5, 7, 7, ...   \n",
       "1591  [3, 2, 5, 0, 0, 5, 2, 9, 6, 8, 2, 2, 0, 1, 5, ...   \n",
       "1592  [1, 4, 4, 0, 3, 0, 6, 5, 7, 1, 0, 2, 4, 8, 7, ...   \n",
       "1594  [1, 0, 0, 4, 4, 6, 0, 0, 0, 0, 4, 2, 8, 6, 9, ...   \n",
       "1595  [0, 0, 2, 0, 0, 4, 0, 4, 0, 0, 0, 2, 4, 4, 8, ...   \n",
       "\n",
       "                                         attention_mask  \\\n",
       "0     [1, 1, 1, 1, 1, 1, 1, 1, 1, 1, 1, 1, 1, 1, 1, ...   \n",
       "1     [1, 1, 1, 1, 1, 1, 1, 1, 1, 1, 1, 1, 1, 1, 1, ...   \n",
       "2     [1, 1, 1, 1, 1, 1, 1, 1, 1, 1, 1, 1, 1, 1, 1, ...   \n",
       "3     [1, 1, 1, 1, 1, 1, 1, 1, 1, 1, 1, 1, 1, 1, 1, ...   \n",
       "4     [1, 1, 1, 1, 1, 1, 1, 1, 1, 1, 1, 1, 1, 1, 1, ...   \n",
       "...                                                 ...   \n",
       "1590  [1, 1, 1, 1, 1, 1, 1, 1, 1, 1, 1, 1, 1, 1, 1, ...   \n",
       "1591  [1, 1, 1, 1, 1, 1, 1, 1, 1, 1, 1, 1, 1, 1, 1, ...   \n",
       "1592  [1, 1, 1, 1, 1, 1, 1, 1, 1, 1, 1, 1, 1, 1, 1, ...   \n",
       "1594  [1, 1, 1, 1, 1, 1, 1, 1, 1, 1, 1, 1, 1, 1, 1, ...   \n",
       "1595  [1, 1, 1, 1, 1, 1, 1, 1, 1, 1, 1, 1, 1, 1, 1, ...   \n",
       "\n",
       "                                         smiles  \\\n",
       "0        CCCCCCCCCCCCCCCOC(=O)C=CC(=O)OCC1CCCO1   \n",
       "1                      CCCCCCCCc1nc2ccccc2[nH]1   \n",
       "2      CCCCCCCCCCCCCCCCCCOC(=O)CCCNC(=O)OCC(C)C   \n",
       "3                 CCCCCCCCOC(=O)CCNC(=O)c1cccs1   \n",
       "4                       CC(C)=CCC/C(C)=C/C(=O)O   \n",
       "...                                         ...   \n",
       "1590            CCCCC(CC)COC(=O)C=CC(=O)OCC(C)C   \n",
       "1591                     O=C1CCCCCCCCCCCCCCCCO1   \n",
       "1592             CCCCCCCCCCOC(=O)C=CC(=O)OC(C)C   \n",
       "1594            CCCCCCCCCCCCCCCCCCCCC(=O)OC(C)C   \n",
       "1595  CCCCCC(C)OC(=O)CCC(=O)OC1CCC(C(C)(C)C)CC1   \n",
       "\n",
       "                                                 labels  \\\n",
       "0     [1234, 224, 1024, 296, 394, 260, 50, 12, 38, 3...   \n",
       "1     [1234, 224, 296, 566, 20, 271, 21, 334, 21, 62...   \n",
       "2     [1234, 224, 1024, 1024, 292, 260, 50, 12, 330,...   \n",
       "3     [1234, 224, 487, 292, 260, 50, 12, 283, 260, 5...   \n",
       "4     [1234, 224, 261, 11, 38, 274, 276, 18, 38, 11,...   \n",
       "...                                                 ...   \n",
       "1590  [1234, 224, 356, 11, 261, 12, 285, 260, 50, 12...   \n",
       "1591  [1234, 224, 50, 32, 38, 20, 1024, 296, 422, 20...   \n",
       "1592  [1234, 224, 1024, 292, 260, 50, 12, 38, 32, 26...   \n",
       "1594  [1234, 224, 1024, 1024, 356, 260, 50, 12, 286,...   \n",
       "1595  [1234, 224, 487, 11, 38, 12, 286, 260, 50, 12,...   \n",
       "\n",
       "                                 decoder_attention_mask  \\\n",
       "0     [1, 1, 1, 1, 1, 1, 1, 1, 1, 1, 1, 1, 1, 1, 1, ...   \n",
       "1     [1, 1, 1, 1, 1, 1, 1, 1, 1, 1, 1, 1, 1, 1, 0, ...   \n",
       "2     [1, 1, 1, 1, 1, 1, 1, 1, 1, 1, 1, 1, 1, 1, 1, ...   \n",
       "3     [1, 1, 1, 1, 1, 1, 1, 1, 1, 1, 1, 1, 1, 1, 1, ...   \n",
       "4     [1, 1, 1, 1, 1, 1, 1, 1, 1, 1, 1, 1, 1, 1, 1, ...   \n",
       "...                                                 ...   \n",
       "1590  [1, 1, 1, 1, 1, 1, 1, 1, 1, 1, 1, 1, 1, 1, 1, ...   \n",
       "1591  [1, 1, 1, 1, 1, 1, 1, 1, 1, 1, 1, 0, 0, 0, 0, ...   \n",
       "1592  [1, 1, 1, 1, 1, 1, 1, 1, 1, 1, 1, 1, 1, 1, 1, ...   \n",
       "1594  [1, 1, 1, 1, 1, 1, 1, 1, 1, 1, 1, 1, 1, 1, 0, ...   \n",
       "1595  [1, 1, 1, 1, 1, 1, 1, 1, 1, 1, 1, 1, 1, 1, 1, ...   \n",
       "\n",
       "                                                     mz  \\\n",
       "0     [26.0, 27.0, 29.0, 39.0, 41.0, 42.0, 43.0, 44....   \n",
       "1     [17.0, 18.0, 26.0, 27.0, 28.0, 29.0, 30.0, 37....   \n",
       "2     [26.0, 27.0, 28.0, 29.0, 30.0, 31.0, 33.0, 39....   \n",
       "3     [27.0, 28.0, 29.0, 30.0, 39.0, 40.0, 41.0, 42....   \n",
       "4     [26.0, 27.0, 28.0, 29.0, 30.0, 31.0, 37.0, 38....   \n",
       "...                                                 ...   \n",
       "1590  [26.0, 27.0, 29.0, 31.0, 39.0, 40.0, 41.0, 42....   \n",
       "1591  [27.0, 28.0, 29.0, 30.0, 31.0, 39.0, 40.0, 41....   \n",
       "1592  [26.0, 27.0, 29.0, 31.0, 39.0, 40.0, 41.0, 42....   \n",
       "1594  [15.0, 25.0, 26.0, 27.0, 28.0, 29.0, 30.0, 31....   \n",
       "1595  [27.0, 28.0, 29.0, 39.0, 40.0, 41.0, 42.0, 43....   \n",
       "\n",
       "                                              intensity  \\\n",
       "0     [2.0, 10.99, 24.98, 7.99, 66.94, 16.98, 142.87...   \n",
       "1     [1.0, 1.0, 1.0, 15.99, 15.99, 25.98, 1.0, 1.0,...   \n",
       "2     [5.99, 33.97, 33.97, 84.92, 89.92, 11.99, 7.99...   \n",
       "3     [12.99, 8.99, 23.98, 8.99, 54.95, 3.0, 53.95, ...   \n",
       "4     [1.0, 34.97, 6.99, 22.98, 1.0, 2.0, 1.0, 5.0, ...   \n",
       "...                                                 ...   \n",
       "1590  [9.99, 49.95, 95.91, 2.0, 28.97, 2.0, 212.81, ...   \n",
       "1591  [36.97, 20.98, 118.89, 3.0, 7.99, 99.91, 22.98...   \n",
       "1592  [8.99, 51.95, 51.95, 2.0, 24.98, 4.0, 183.83, ...   \n",
       "1594  [9.99, 1.0, 7.99, 66.94, 49.95, 126.89, 5.0, 5...   \n",
       "1595  [5.0, 5.99, 15.99, 4.0, 2.0, 53.95, 6.99, 51.9...   \n",
       "\n",
       "                                           valid_smiles  \n",
       "0              CCCCCCCCCCCCCCCCCOC(=O)C=CC(=O)OCC1CCCO1  \n",
       "1                           CCCCCCCCCCCc1nc2ccccc2[nH]1  \n",
       "2               CCCCCCCCCCCCCCCCCOC(=O)CCCNC(=O)OCC(C)C  \n",
       "3                  CCCCCCCCCCCCCCCOC(=O)CCNC(=O)c1cccs1  \n",
       "4                                 CC(C)=CCCC(C)=CC(=O)O  \n",
       "...                                                 ...  \n",
       "1590                       CCCCC(CC)COC(=O)C=CC(=O)OCCC  \n",
       "1591                              O=C1CCCCCCCCCCCCCCCO1  \n",
       "1592                      CCCCCCCCCOC(=O)C=CC(=O)OC(C)C  \n",
       "1594                           CCCCCCCCCCCCCC(=O)OC(C)C  \n",
       "1595  CC(C)(C)C1CCC(OC(=O)CCC(=O)OC2CCC(C(C)(C)C)CC2...  \n",
       "\n",
       "[1574 rows x 9 columns]"
      ]
     },
     "execution_count": 28,
     "metadata": {},
     "output_type": "execute_result"
    }
   ],
   "source": [
    "exact_matches = df_train.iloc[valid_denovo[valid_denovo.smiles_sim_of_closest == 1].index_of_closest].copy().reset_index(drop=True)\n",
    "exact_matches[\"valid_smiles\"] = valid_denovo[valid_denovo.smiles_sim_of_closest == 1].smiles.reset_index(drop=True)\n",
    "exact_matches[exact_matches.smiles != exact_matches.valid_smiles]"
   ]
  },
  {
   "cell_type": "code",
   "execution_count": 35,
   "metadata": {},
   "outputs": [
    {
     "data": {
      "image/png": "[encoded data removed]",
      "text/plain": [
       "<rdkit.Chem.rdchem.Mol at 0x7ff644462890>"
      ]
     },
     "metadata": {},
     "output_type": "display_data"
    },
    {
     "data": {
      "image/png": "[encoded data removed]",
      "text/plain": [
       "<rdkit.Chem.rdchem.Mol at 0x7ff644462cf0>"
      ]
     },
     "metadata": {},
     "output_type": "display_data"
    },
    {
     "name": "stdout",
     "output_type": "stream",
     "text": [
      "1.0\n"
     ]
    }
   ],
   "source": [
    "# visualize smiles\n",
    "m1 = Chem.MolFromSmiles('CCCCCCCCc1nc2ccccc2[nH]1')\n",
    "m2 = Chem.MolFromSmiles('CCCCCCCCCCCc1nc2ccccc2[nH]1')\n",
    "\n",
    "fp1 = Chem.RDKFingerprint(m1)\n",
    "fp2 = Chem.RDKFingerprint(m2)\n",
    "\n",
    "sim = DataStructs.FingerprintSimilarity(fp1, fp2)\n",
    "\n",
    "display(m1, m2)\n",
    "print(sim)"
   ]
  },
  {
   "cell_type": "code",
   "execution_count": 34,
   "metadata": {},
   "outputs": [
    {
     "data": {
      "text/plain": [
       "('CC(C)=CCC/C(C)=C/C(=O)O', 'CC(C)=CCCC(C)=CC(=O)O')"
      ]
     },
     "execution_count": 34,
     "metadata": {},
     "output_type": "execute_result"
    }
   ],
   "source": [
    "Chem.MolToSmiles(m1), Chem.MolToSmiles(m2)"
   ]
  },
  {
   "cell_type": "markdown",
   "metadata": {},
   "source": [
    "# Check data leaks"
   ]
  },
  {
   "cell_type": "code",
   "execution_count": 19,
   "metadata": {},
   "outputs": [],
   "source": [
    "df_train = pd.read_json(\"data/datasets/NIST/NIST_split_filip/train.jsonl\", lines=True, orient=\"records\")\n",
    "df_valid = pd.read_json(\"data/datasets/NIST/NIST_split_filip/valid.jsonl\", lines=True, orient=\"records\")\n",
    "df_test = pd.read_json(\"data/datasets/NIST/NIST_split_filip/test.jsonl\", lines=True, orient=\"records\")"
   ]
  },
  {
   "cell_type": "code",
   "execution_count": 22,
   "metadata": {},
   "outputs": [
    {
     "name": "stdout",
     "output_type": "stream",
     "text": [
      "Number of smiles leaks between train and valid: 24\n",
      "Number of smiles leaks between train and test: 26\n",
      "Number of smiles leaks between valid and test: 2\n"
     ]
    }
   ],
   "source": [
    "# check data leaks between train test and valid\n",
    "smi_leaks_train_valid = set(df_train.smiles).intersection(set(df_valid.smiles))\n",
    "smi_leaks_train_test = set(df_train.smiles).intersection(set(df_test.smiles))\n",
    "smi_leaks_valid_test = set(df_valid.smiles).intersection(set(df_test.smiles))\n",
    "\n",
    "print(\"Number of smiles leaks between train and valid:\", len(smi_leaks_train_valid))\n",
    "print(\"Number of smiles leaks between train and test:\", len(smi_leaks_train_test))\n",
    "print(\"Number of smiles leaks between valid and test:\", len(smi_leaks_valid_test))"
   ]
  },
  {
   "cell_type": "code",
   "execution_count": 23,
   "metadata": {},
   "outputs": [
    {
     "name": "stdout",
     "output_type": "stream",
     "text": [
      "Number of smiles leaks between train and valid - in TRAIN SET: 45\n",
      "Number of smiles leaks between train and valid - in VALID SET: 36\n",
      "Number of smiles leaks between train and test - in TRAIN SET: 44\n",
      "Number of smiles leaks between train and test - in TEST SET: 61\n",
      "Number of smiles leaks between valid and test - in VALID SET: 3\n",
      "Number of smiles leaks between valid and test - in TEST SET: 3\n"
     ]
    }
   ],
   "source": [
    "# check actual number of smiles leaks\n",
    "df_train_valid_leaks = df_train[df_train.smiles.isin(smi_leaks_train_valid)]\n",
    "df_valid_train_leaks = df_valid[df_valid.smiles.isin(smi_leaks_train_valid)]\n",
    "df_train_test_leaks = df_train[df_train.smiles.isin(smi_leaks_train_test)]\n",
    "df_test_train_leaks = df_test[df_test.smiles.isin(smi_leaks_train_test)]\n",
    "df_valid_test_leaks = df_valid[df_valid.smiles.isin(smi_leaks_valid_test)]\n",
    "df_test_valid_leaks = df_test[df_test.smiles.isin(smi_leaks_valid_test)]\n",
    "\n",
    "print(\"Number of smiles leaks between train and valid - in TRAIN SET:\", len(df_train_valid_leaks))\n",
    "print(\"Number of smiles leaks between train and valid - in VALID SET:\", len(df_valid_train_leaks))\n",
    "print(\"Number of smiles leaks between train and test - in TRAIN SET:\", len(df_train_test_leaks))\n",
    "print(\"Number of smiles leaks between train and test - in TEST SET:\", len(df_test_train_leaks))\n",
    "print(\"Number of smiles leaks between valid and test - in VALID SET:\", len(df_valid_test_leaks))\n",
    "print(\"Number of smiles leaks between valid and test - in TEST SET:\", len(df_test_valid_leaks))"
   ]
  },
  {
   "cell_type": "code",
   "execution_count": 5,
   "metadata": {},
   "outputs": [
    {
     "data": {
      "text/plain": [
       "2"
      ]
     },
     "execution_count": 5,
     "metadata": {},
     "output_type": "execute_result"
    }
   ],
   "source": [
    "import numpy as np\n",
    "a = np.array([1,2,3, 1])\n",
    "sum(a == 1)"
   ]
  },
  {
   "cell_type": "markdown",
   "metadata": {},
   "source": [
    "## Visualize fails of fp similarity on evaluation"
   ]
  },
  {
   "cell_type": "code",
   "execution_count": 18,
   "metadata": {},
   "outputs": [
    {
     "data": {
      "text/html": [
       "<div>\n",
       "<style scoped>\n",
       "    .dataframe tbody tr th:only-of-type {\n",
       "        vertical-align: middle;\n",
       "    }\n",
       "\n",
       "    .dataframe tbody tr th {\n",
       "        vertical-align: top;\n",
       "    }\n",
       "\n",
       "    .dataframe thead th {\n",
       "        text-align: right;\n",
       "    }\n",
       "</style>\n",
       "<table border=\"1\" class=\"dataframe\">\n",
       "  <thead>\n",
       "    <tr style=\"text-align: right;\">\n",
       "      <th></th>\n",
       "      <th>pred</th>\n",
       "      <th>label</th>\n",
       "      <th>pred_mol</th>\n",
       "      <th>label_mol</th>\n",
       "    </tr>\n",
       "  </thead>\n",
       "  <tbody>\n",
       "    <tr>\n",
       "      <th>0</th>\n",
       "      <td>CCCCCCCCCCCC(C)OC(=O)c1cccs1</td>\n",
       "      <td>CCCCCCCCCCCCCC(C)OC(=O)c1cccs1</td>\n",
       "      <td style=\"text-align: center;\"><div style=\"width: 200px; height: 200px\" data-content=\"rdkit/molecule\"><img src=\"data:image/png;base64,iVBORw0KGgoAAAANSUhEUgAAAMgAAADICAIAAAAiOjnJAAAABmJLR0QA/wD/AP+gvaeTAAAOXElEQVR4nO3de0xUd97H8e+cGajgcN9YrQJeWukWtWJjEVjwsXUNJmRtspkWqGjTKrY8xm6sG0y7Bvvs2tKLG1JtU9KtiV27rZRSFdRabPqsWG2aQRigSqWyxAJVUC5ymWFuv+eP3z6TWWRuwLfM2M/rP+s5Z34j7zm/35w5Q1VCCAKYbMpUDwDuTAgLWCAsYIGwgAXCAhYIC1ggLGCBsIAFwgIWCAtYICxggbCABcICFggLWCAsYIGwgAXCAhYIC1ggLGCBsIAFwgIWCAtYICxggbCABcICFggLWCAsYIGwgAXCAhYIC1ggLGCBsIAFwgIWCAtYICxggbCABcICFggLWCAsYIGwgAXCAhYIC1ggLGCBsIAFwgIWCAtYICxggbCABcICFggLWCAsYIGwgAXCAhYIC1ggLGCBsIAFwgIWCAtYICxggbCABcICFggLWCAsYIGwgAXCAhYIC1ggLGCBsIAFwgIWCAtYICxggbCAhcbL7Q4cOPDWW28lJSUFBwdHREQEBQWFh4dPmzYtJCQkLCxMo9FERUUFBQVptdqBgYH09HS1Ws06bvBzKiGEx42+/PLLzMxMq9XqzREVRUlKStLr9RMeGwQwr85YlZWVVqs1JSVl8+bNFoult7fXarUODAwYjUaTyXTr1i2LxdLf3282m4eGhurq6mpra+vr65cuXco9evBbnsOyWq0ff/wxEcXHx3d0dBQUFERHR7vauKWl5cUXXywvLz99+jTC+iXzvHg/efLk9evXExISKioqXn75ZbPZ7GrL4uLihQsXGo1GIjp16tRkDhMCjeewPvjgAyJKSEgwm82ZmZkzZ850tWVqaioRXblyRa1WnzlzZnBwcBIHCoHFQ1i9vb2VlZWKorS1tRHRhg0b3GycmpoaERHR3Nz84IMPms3mr776ahIHCoHFQ1iHDx8eGRlJSUlpaGiIiIjIyspys7FGo3n00UeJaM6cOYTZ8JfNQ1hyHpSr9ezs7JCQEPfbZ2ZmEtHAwAARnThxYnLGCP7HaDQaDAZ3WwjXWlpaVCqVVquVZ6Cvv/7azcbSjz/+SETh4eEzZswgosuXL3vcxbO9e8Wf/yy2bxfXrk3C0WDCOjs7H3744ejoaDc/X3dnrIMHDwoh0tLS2tvb77333pSUFI8hz5kzJzEx8datW0uWLCGikydP+vIyGEtrKxmN9Kc/0R//SPv2TfRoMGG1tbXLly//9ttvIyMjLRaLq81chiWE+PDDD4nIbrcTUV5enkql8uaB5WwoJ80JLbNu3KDhYbpxg2bNIiKaMYN6esZ/NJgM5eXlGRkZHR0daWlp58+ff+CBB1xu6upUJt/TxcXFabValUp15coVL8+T1dXVRLR48WJFUUJCQoaHh3080QohhPj+e5GQIH7/ezE4KDZuFJ2dorRUfPrpeA4FTmw22/79+5977rmffvrJpx3tdntxcbGiKET0zDPPjIyMuN/eZVjy/d3WrVvXrFmzatUq70cwMjIiW5Sz4alTp7zf99+OHxfh4YJILFki/vpX0d4u3ntP/POfPh8H/pPJZMrJyVGr1YqiKIqyevXqgwcPDg4OetzRaDSuX7+eiNRqdXFxsTeP5TKspKQktVqdmpra29trsVh8GL4Qe/bseffddwsKCoho1apV13xadJeWCo1GEIlVq8SvfiVUKnHsmE+PDmOSK24iCgkJWbRoUXBwsJyyIiIiNm3aVFNTY7fbx9yxo6Nj+fLlRBQWFnbM65+Fy7A++ugjeZVh4cKFTU1Nvj6NsrKyqKioyMhImbl8cQwNDbnZZWRkpKywUCiKUKmETiemTRNEYs0a0dvr66PDKPX19XFxcUQUGxt74cIFIURvb29paWlaWppj6RwbG1tYWNjS0uK8Y11dndxx/vz5PmXg7nLD1atXZaparfbw4cNeHrGrq0un08mxJicnZ2ZmBgUFyT9GRkZu2bLl7Nmzt784urq60tPTiejz3/5W/O53gkgQiT/8QVit3j+ZO9uZM2feeOONcaxZP/nkk9DQUCJKTU29fv36qL+9dOlSUVHRvHnzHMvuhx56qKSk5MaNG2VlZXLHtLS023d0z11YQojh4eG8vDwiio4OvXy5yG73MCdWVVXIK1hhYWGlpaUyoJ6eHvnicAw9Li6usLDwhx9+kHs1NjbKJzZr1qz/WrmyNS1NaDRi/36fnsmdbe/evRqNRqPRhISE6HS66upqVzOXM+cV99NPP+1mxW2z2U6fPr1hwwatVit/RkFBQfJktnnzZrPZ7OuAPYQl7du37/TpDL2evv9+lcXSNeY2VmtPW1v+P/6xWFGU9PT0UWdUSb445s6d6/zi2LJlS3h4OBElJiYmJCQQ0fx77jFhqf7/jEZjbm4uESmKcvfddzv+6ebOnbtr1y43lyjHseIWQgwPD5eVlWVlZanVarVa/dJLL41v2F6FJYQYGDhrMNyj15PBMHtw8Pyov+3pKa+vn6HXU11dWHX1QfcvJpvN9sUXX6xfv16eZqX58+fLU919993X3Nw8vidz5+nu7pYrBK1W+9lnnwkh2traiouLFyxYMGrm6u7udt6xo6NDLtW1Wu3Ro0fH8dAXL17s6hr7JOINb8MSQpjNnc3Nv9Hrqbb2ru7u9+V/lCcqvZ70empu/o3JNMaJyhX54li7dq2iKPKsu3bt2r6+Pt+egd9rb28/fvy4r++shRAGgyE+Pp6I5syZU1tb6/xXNputpqYmPz8/LCxM5nXXXXdlZWWVlZWZzeZxr7gnkQ9hCSHsdkt7e6FeT9euvfGvfz3V2fk/16+/pdfThQvarq53hPA8648pNjaWiB5//PFx/Ov7uaqqqmnTpmk0mtmzZ2/btq2+vt7LHcvLy6dPny5X3G6u1wwNDR06dGjNmjWOb6+Eh4drNBoiWrly5ajT2M/Jt7CkW7f+12K53tqaa7X2CSE6O182mVonMgh5N055eflEDuJv7Hb7K6+8IhfOzneFJCcnv/322zdv3nSzo2PFnZOTYzQavXm4jo6OkpKSpKQkuRrT6XQeL46zGk9Y0tDQhba2ZwYHz018EDt37iSi3bt3T/xQfsJkMsmbIlUqVVFRkRBCr9dv27YtJiZG5hUcHCxnrlE/fpPJJN+GO3b0VUVFxdmzZyfjSUzIOMOyWnuHhvTd3e/duPHBxAdx6NAhItLpdBM/1CSyWCxtbW3j2PH2FbeD0Wg8duyYTqdzXNuLiorKz8+vqakRThfHtVrtkSNHJudpTJFxhmWzGfv6Kvv6Tghhm/ggDPX182JjC9atm/ihJou8Y1ZRlPvvv7+4uNj7y4NuVtzOOjs733zzzcWLFzumyPj4eLkSnzdvXmNj4yQ9jykz/qlwMplMQqMRGo3wbj3B7ciRI/I6oWNFHBwcvG7duoqKCvcLl6qqKnlNLiUlxctPSJuamgoLC+VXVBRFWbp0qW8frfor/whLCPHrXwsiUVc31eMQJSUlcuH8xBNP9Pb2jpq5IiMj5cx1+7U6x445OTm+fvBisVhee+21999/f2BgYPKeylTym7B0OkEk/v73KRyCyWTauHGjY+HsnM7NmzdHfSqVkJBQVFTU2toqxlqqg9+EtXu3IBI7d07wMF1dXQsWLFCr1RkZGR7vp3DW3d2dkZEhF84VFRWuNjMYDNu3b3d8uVJRlJSUFPmdAJ/uKrnj+U1Y5eWCSGRlTeQYDQ0N8oNIOSXJ91zPPvvsuXMerokYDAa54+zZs/V6vccHstls1dXVeXl58hqm/BTPzVL9F8hvwmpvF3/5i/jPN+c+OXHiREREhLwC2dDQMGrmio+Pd76fwtnx48cdK25fb9jt6+t7/vnnd+zYcenSpXGP/I7kN2EZDKKgQLzzjti6VXhxQ8gozitu54XzxYsXb7+forS0tL+/f9SO2dnZ47w9H8biN2Ft2ybkz7WkRPjyuanJZHrqqafGXHE7WK3Wzz///Mknn3TcTxEaGqrT6ZKTk7HiZuI3YW3dKuQlov37RWWliIsThYVirJu6nHV3d69cuZKIpk+f7mbF7SDvp1i9erW8mUJRlNDQ0M8mMP+CK34T1vnzYscOcfSo2LRJ7Nnz71uTVSqRni7+9jf7WPfSOJbqXq64nbW1teXm5j722GPe5Ajj4DdhCSG6u4XBICwWYbOJmhqRny+0WlnYfy9b5rjZSG7rWHGvWLHC1xU3/Ay8+h2kU2ZwkD79dLiqKryiwma3E9GsWbNyc3ODgoJef/11u92enZ194MABj7+qBKbAVJftlfb29pKSEvkNWCKKiopSFOXVV1+d6nGBS/59xrrNN99888ILL5w7dy4rK6uysnKqhwMuBdj/QGDFihW7du0ioqGhoakeC7gTYGER0aJFi4iosbFxqgcC7gTYVCjFxMT09PRcu3bN+Xt24FcC74xFRPLXMjU1NU31QMClgAxLzoYIy58FZFiJiYlE9N133031QMClgAwLZyz/F5CL956enpiYmLCwsP7+fi9/Myr8zALyjBUdHT1z5syBgYGrV69O9VhgbAEZFhHJb+RhNvRbgRoWlll+LlDDkm8MEZbfCtSwli1b9sgjjzjudwB/E5DvCsH/BeoZC/wcwgIWCAtYICxggbCABcICFggLWCAsYIGwgAXCAhYIC1ggLGCBsIAFwgIWCAtYICxggbCABcICFggLWCAsYIGwgAXCAhYIC1ggLGCBsIAFwgIWCAtYICxggbCABcICFggLWCAsYIGwgAXCAhYIC1ggLGCBsIAFwgIWCAtYICxggbCABcICFggLWCAsYIGwgAXCAhYIC1ggLGCBsIAFwgIWCAtYICxggbCABcICFggLWCAsYIGwgAXCAhYIC1ggLGCBsIAFwgIWCAtYICxggbCABcICFggLWCAsYIGwgAXCAhYIC1ggLGCBsIDF/wHFcujczyJ7IgAAAX16VFh0cmRraXRQS0wgcmRraXQgMjAyMy4wMy4yAAB4nHu/b+09BiDgZYAAJiAWheIGRjaGBCDNyAyhmZioSzPDzedg0ADxgeJgmgXOd4Dw2RwyQDRQAwZDAKKEiZuBkYGRiYGJGaicgYWVgZWNgY2dgZ2DgYOTgZOLgYubgZuHgZuXgZdPgY9fg4lPQEFAMINJUChBSDiDSVgkQUQgQYQRaBKrgKCQsIg4G5DNCA0TBtHXrkaOIdvW2YM4NpflHX/POG8HYqf7cTremp0DFs/f/taBwVVgL4h9bO0BB8lp3yFqTsx2sF71eR+IXV0b6/B+sb4tiL13k7DD66VZ+0Hs5bVp9rJrT4PVzItq3Be7ey1Y3K/2yv6Y5WFgdiqnyYHDys/A7PMHlA8cXht4AMSO4Ws/ILpnMcQco/4DJXe9wfZOmBVy4Ij3FLDbAmz2HNh1zBzMZnM/eUAtlMsBxF5n+/OAozAfmH32NcvBbf/9wWq6lJ8c+GH8FuwXMQB1c2cIHdIN3gAAAgl6VFh0TU9MIHJka2l0IDIwMjMuMDMuMgAAeJx9lFtu2zAQRf+1Cm5ABOfBeXzGdhAERWygcbuH/mf/6IwMlwxAVBIHEnU0fNw72koePy8//nyVfwdetq2U9p/L3ctvaq1tHyVvyun17f1azveX07PnfPt1vX8WhLxant/Zl/vt49kD5VwAKjA2jadKwk5eWm3HMT7FAL26edNIWrl1Fl5wFJzVbiCcnCNjpwXHwWllNGEse7ynjogLsAcotSHEmQMbddEFJ8FxNTEEyoSs3ZstQA2QKktTOxYQczBYcBYcVmqaXCR0kO6rJXuA8brFEnqC5GqtL0AIbRLAjsKRM7a7K1pboSlMACKt6TG8kbGv5gkpzY7VIOZK+ZG6usgKpQfae2x7oFRRBWmZlcut7FwRW29HVlQHXe08pESBsoZ3Umvw2PklKZmUKiE4cdgNunVZqQ6p0t6rGZJkTgU1Xa4pddqlorlj+LSCAPNy9BRq16pmqh5kzMJxJRQeQlmK3yU9ZIDsq9Gjwj4zJ2As3VIniDUtjfx6vXwrvUcxnm7XyyjGPHGUXDwUGpUF0XgUEETro0wgmoxqgGg6PA/RbFgbovkwMGSbfQpHgMmOcAScXAdHoMlcjx6ePARH6JNVMAPIZAk4enSSnjOATRJzBvBJSs6As2ScAWGShjOMzKnAvN/5/Pxxxv32F0dYCMLOdCMRAAABEHpUWHRTTUlMRVMgcmRraXQgMjAyMy4wMy4yAAB4nEWQu43DMBBEW7nQBujF/j8QHKkAF6ESLnXxN1RyUjJ4nB0O9zz/v8f5/JyP9+d5yXVdv/LzfYiQuMoSsvTxdQxND9dicg5PkKZogWAadQ1bR5Frg7yY2EIV80cSq0Bgri2y1uHU2SBwecVwr8PIk6thYiQ0xpSMCwSmkYzdAIoRG5vZVHOsA1JD03EnmkYpwqAyGVVx2NY+iHsptdhmQjX4bxRxtzXSSkX/l5MqYmHSGumbePkYmsmg6p4zMhUgbCg6EiSoWy1hKqmujZK0Z3QpSYrvpkXVjRcpYXr2bb3fGHulLeqTt0l07N6gIF11Pb9/xSpWuu25SEkAAAAASUVORK5CYII=\" alt=\"Mol\"/></div></td>\n",
       "      <td style=\"text-align: center;\"><div style=\"width: 200px; height: 200px\" data-content=\"rdkit/molecule\"><img src=\"data:image/png;base64,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\" alt=\"Mol\"/></div></td>\n",
       "    </tr>\n",
       "    <tr>\n",
       "      <th>1</th>\n",
       "      <td>CC(C)CCCOC(=O)c1ccccc1C(=O)OCCCC(C)C</td>\n",
       "      <td>CCCOC(=O)c1ccccc1C(=O)OCCCC(C)C</td>\n",
       "      <td style=\"text-align: center;\"><div style=\"width: 200px; height: 200px\" data-content=\"rdkit/molecule\"><img src=\"data:image/png;base64,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\" alt=\"Mol\"/></div></td>\n",
       "      <td style=\"text-align: center;\"><div style=\"width: 200px; height: 200px\" data-content=\"rdkit/molecule\"><img src=\"data:image/png;base64,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\" alt=\"Mol\"/></div></td>\n",
       "    </tr>\n",
       "    <tr>\n",
       "      <th>2</th>\n",
       "      <td>CC#CC(CC)OC(=O)C=CC(=O)OC(C)C</td>\n",
       "      <td>CC#CC(CC)OC(=O)C=CC(=O)OCCC</td>\n",
       "      <td style=\"text-align: center;\"><div style=\"width: 200px; height: 200px\" data-content=\"rdkit/molecule\"><img src=\"data:image/png;base64,iVBORw0KGgoAAAANSUhEUgAAAMgAAADICAIAAAAiOjnJAAAABmJLR0QA/wD/AP+gvaeTAAAQB0lEQVR4nO3deUzUd/rA8QcGGBU8ELEcVqioQBQriEfdioj1QNm6WSVujFRpLZGmHe0eznZNdmhitpPd1kxpYn6zbo2jid2MZrPSeNQD9wfFVihbRgcZEE9AvDgcEOWYefaPD0yniJyfBx14Xn8R/fL5fGXefu8Z3BARGJPN/XmvABuaOCxGgsNiJDgsRoLDYiQ4LEaCw2IkOCxGgsNiJDgsRoLDYiQ4LEaCw2IkOCxGgsNiJDgsRoLDYiQ4LEaCw2IkOCxGgsNiJDgsRoLDYiQ4LEaCw2IkOCxGgsNiJDgsRoLDYiQ4LEaCw2IkOCxGgsNiJDgsRoLDYiQ4LEaCw2IkOCxGgsNiJDgsRoLDYiQ4LEaCw2IkOCxGgsNiJDgsRoLDYiQ4LEaCw2IkOCxGgsNiJDgsRoLDYiQ4LEaCw2IkOCxGgsNiJDgsRoLDYiQ4LEaCw2IkOCxGgsNiJDgsRoLDYiQ4LEaCw2IkOCxGoruwioqKHj9+PGirwoaSZ4ZltVpXr149c+bMY8eODeYKsaHhmWHduXPH39//2rVrSUlJa9euraioGMzVYj+x2WDHDnj7bVi/HozG5702vYbP1traqtPpxowZAwCjRo3SaDTNzc3dLM9IHDiAn36KiGiz4apVWFn5vFeoV7oLS7h9+3ZKSoqoMDw8/MyZM4OwWuwn772Hly61f/3Xv+LXXz/Xtemtns8KAwMDDxw4kJ2dHRERUVpaumzZsrfeeuvevXu0G1Lm4O0NjY3tXzc0gI8P0TxGo/Hw4cNtbW1yhut9gy0tLVqtdsSIEQDg6+ur0+lsNhtd8qxdfj6uW4f19WixYFwcPn5MNI+XlxcAPHnyRMpofQhLKC8vT0xMFFHOmTMnPz9fynqw7uTm4vbtuHMnVlXRTeLm5gYAdrtdymh9DkvIysqaPHkyAHh4eKhUqocPH4o/t9vtmzZtOnv2rJSVY4iIf/gDLlqEubmYno6//jVevUoxSXNzMwB4eXnJGrCfYSFiY2OjRqPx9PQEgMDAQIPBgIiHDh0SG7MNGzZUV1fLWsthLSkJAfDrr3HmTATAixcpJrFarQDg4+Mja8D+39Lx9vbOyMjIz89fsGBBdXX1pk2bgoKC/Pz8dDqdj4/PoUOHIiIiPv/8c5vNNpBDQAbNzQAAXl7Q0gIAoFRSTNLS0gIASnmDD/Re4ezZs8+fP28wGJRKZXV1dWJiYnV1tclkWrdu3cOHD7dv3x4bG/v9999LWddhytGTozACjl2htBFlbfpKSkqioqLEAeC0adO++eabrKys0NBQAHBzc0tJSXnw4IGsuYaXBQsQAM+fx8BABMDbtykmuX79OgCEhobKGlBOWK2trStWrDAYDDk5OVFRUSLZpKSk0tJSjUYjNrDjx4/X6/WyTjqGkZgYBMDCQhw/HgGwpoZiEovFAgDh4eGyBpQT1sGDB0VMCQkJZrNZp9ONHj0aALy9vTUajdlsXrZsmVggLi7ObDZLmXS4mDEDAdBsRh8fBMCGBopJTCYTAERFRckaUE5YdrvdYDBMnDgRADw9PVUqVVlZmeNG0KxZs/Ly8oxG40svveRYoIHmBzQETZuGAFhWhp6eCIAtLRSTFBQUAEBsbKysAaUdYyFiXV2dSqVSKBQAMGnSpCNHjpw9ezY8PNxxmHXlyhXHAsHBwUajUeLsQ9XJX/3q/+PjH9648d3ixSVxcUhzLPHtt98CwMKFC2UNKDMsobCwcO7cuY7DLIvF4jjMEjeCCgoK5s2b51jg+vXr0tdhKBGb+Rs3bgCAUqkkmiU7OxsAlixZImtA+WEhos1m0+v1zs/bXL58ecWKFSKm119/vaioKDMzc+zYsQCwbds2inUYMnx9fQHg5s2bADBmzBiiWU6cOAEAK1eulDUgSViC8/M206dPP336dFZW1qRJk6DjRlBZWdnWrVvr6+up1uDOHfz733HvXrx/n2oKeqNGjXJssfz9/YlmOXr0KAC8+eabsgYkfDOFeN7m3LlzkZGRZWVly5cvP3z48Llz595//31EzMzMnD17tq+vr9huyVdbC7/5DUREQFgYrFsHVivJLPTENXFEBLkXMH9OXCB9ga689yg+Pt5kMmm1WqVSefDgwblz506dOjU/P3/69OlNTU2ffPJJQkJCaWmp/ImPHIHUVFi0CJYsgfXr4ehR+VPQs9vtbW1t7u7udrsdpL7wnUi/8j4Yb//y9PRUq9VmszkxMbG+vn779u3vvvvu/v37N27cOHr06HPnzkVHR+/atUv826Spq4MJE9q/9veH2lqZg3ewWCxRUVHR0dFffvklxfiO11v+LZefk36vkPAYq0uO52127tyJiDU1NWlpaeJG0NSpU0+ePDnQCZqbUafDHTvw+HH885/b//D3v8f//Ae/+gqLiwc6foeamhq1Wu38SiQnJ9+5c0fW+EJ9fT0AuLu7i0N4iRcwO9mzZw8AbN26VdaAgx0WIlqt1oyMjKamJsef5OTkzJgxQ7w8SUlJFRUV/RnXbsevvsIpUxAAFQosL8f33sMtWzA1FX/7W7x5E7290dMTVaoBXrx+9OiRVqsdN26ceMlXrly5efNmb29vABg3bpxOp2traxvI+A6VlZUpKSnif527uzsAeHt7Hzt2TMrgzgoKCmbMmBEQEBAcHCzryc3nEFaXWlpaxPM2ADB27Ng+vzx5ebhwIQIgAEZEoOPSa3MzincW1dWhSoUKBQJgcDAaDP1YSZvNZjQaQ0JCxP+BN95448cff0REs9lssVhWrVol/jwmJubChQv9GN+hoaFBq9WKn4anp+eWLVuMRqPz1cEbN24MZHyH8vLy9evXi3bFdB4eHh9++KHVah3gyC9KWIL4Pyp+fLNnz/7uu+96/JamixcxMbE9qeBg/Mc/sJsiCwtx/vz2hZOSsC/XZk+fPj1r1iyxbrGxsY6nZK1Wa3BwsNiPZ2Vliezc3d1TUlJq+n7DuKWlRa/Xi4uioqErV66Iv5L7brwHDx44duVeXl4qlaqqqkqtVnt4eIDTk5v99mKFJXR63ub+M65CVVRUpKWlLQ4JQaUSfXxQre7VPq6tDTMzcexYBGgdM+b/du9u6enu24ULF+Lj48UrPXnyZL1e7/wukpKSksjISPG3GzZsuHbtmkajEUfZAQEBBoOhlw902O12o9EYFhYmhnrttddyc3OfXqyysjI5OVksc3PtWuxqmR48erT3s89EoAqFIjU11fnYo6ioaOHChWL8JUuWlJSU9Hl8RHwxw0LEpqambp63qa2t3bFjh3i/kJeXl3nXrj5fAq2uxpSUz+LjAWDatGmnTp3qcqnS0tLk5GSxp/Dz89NqtV2+ieXp/XhxcfHSpUvFy7N48eLink4azpw5M2fOHLF8ZGRkj3dRT548uXfNGgRANzdMTe3tP99mQ4MBg4KOLFggduVFRUVPLyUeKZgwYYL48arV6sd9f2vQCxqWUFZW5njeZtGiRWazubm5Wa/Xi8co3NzckpOTy8vL+z1+9s/vkd+9e9fxV/fv33fsKUaNGqVWq3u8Q+C8LXE8WOv8xEdjY+PT31VcXOz4ruDgYL1e39uDy5YW1GpxxAgEQF9f1Omw+3fj/fvfGBkpDgPs8+ZdyMnpfviamhqVSiVOGsLCwk6cONGrterwQoeFP38gx8PDY0LHpamlS5f+8MMPAx/feWMjzunq6+u1Wq3YU4hDpaq+vOmq035cPNAhXp4pU6Y4n9OJXbl41sPHx0ej0TifKfdWeTmuXNl+1DhnDnZ5TnfhAi5e3L5MSAgaDL1/RCI3N9f5yc2bN2/28htf9LAE8UCOl5eXn59feHi49Odtrl69unz5cvHjExEAwJo1ay5fvtyP0Z7ejxcUFDif0506dUqtVo8cOVJszNLS0pw3lv3xz39iUBACYGgoPnmCf/sbvvMOpqVheTnu3YtubgiAEyfiF1/043EucdLgeHJTq9W2trb2+F2uEZYQFBQEALLOtDu5deuWOJgVL//AL0V22o+bTKbdu3eLl8dRsDjYl7L++PAhbtuG//oXZmaiToeIWFWFcXFYXY0BAahW48Bu9ldVVTlO2F999dW8vLzul3elsMQOUfrVbaG8vBwAXnnlFYPBAAAJCQlShu303Gxpaak4hXz55ZcLCwulTNHZ6tXouAqVmopXrqCkd80j4pkzZ5yPSu/du/esJV0pLHGxu66ujmLw4uJicUZ2/PhxAEhMTJQ1cm1tbXp6utjDhoSE9Obi3IB0CmsAJzddcuzolUqlxWJ51mKu9BmkpDdiHXdhpc/i6+u7Z8+egoKC+fPn379/PyAgQNbIXVuxAvbvBwC4exeuXYPQULnDjxw5MiMjw2Qy7du3T2y9uuQhd1ZS8u/AO3H0RDRLTExMXl7exYsXQ2W/0p2lp8Onn8Lbb4OHB+zdCx1HjXKFh4d3UxW4UFg2m81msykUCgXNT4pui+WgUCiio6OlD9uZhwf88Y/ks/TEZXaF0h9x7HJ8ui3WcOMyWyzxetM96RYI8FFMTGBISADixsjIaD8/oomGCZcJi3qLNaOh4S///S9MngyNjatLSqDjPUWsf1xsV0i3xRqcD3UZPlwmLPJDn0H5GKrhw2XC4i2Wa3GZsAZpi6VU8hZLCpcJi/rg/acNFW+xZHCxsAZjV8hbLBlcJqzB2xU6vmAD4DJhkW+xNBqwWuEXv4B33oHKSli3jmqi4cFlwhK/1068M5hEdTWsXQtVVZCTA3/6Ezg9kcf6wWXCEp8Xf/78+YyMDLFblEyvh9/9DjZvho8+ghEjwGSSP8Vw4jJhpaeni8/0/fjjj2NjY8VHG8pUUQFTprR/HRYGt25JHn+YcZmwFAqFxWLJzs6OjIy8dOlSXFyc5N9uN2UKWCztX1ssMHWqtJGHJTdEfN7r0Detra27d+/OyMh48uSJr6+vRqP54IMPHG+t6b8HD2DjRvjlL6GqChoa4IsvZKzsMCb3gehBQ/Lb7ZqbsaAAy8okDDXsuWpYwrN+ux177lw7LOz47Xbi+tbAPyOFyeLyYQkmk0nKZ6QwWYZIWNjxKQ/+/v7Q8amn/fiMFCbL0AlLuHfvXmpqquO320n54BDWDy5zHauX/P399+3bJ367XVVVlePTadggc73rWL3U2tpqMpliY2Of94oMU0M2LPZ8DbVdIXtBcFiMBIfFSHBYjASHxUhwWIwEh8VIcFiMBIfFSHBYjASHxUhwWIwEh8VIcFiMBIfFSHBYjASHxUhwWIwEh8VIcFiMBIfFSHBYjASHxUhwWIwEh8VIcFiMBIfFSHBYjASHxUhwWIwEh8VIcFiMBIfFSHBYjASHxUhwWIwEh8VIcFiMBIfFSHBYjASHxUhwWIwEh8VIcFiMBIfFSHBYjASHxUhwWIwEh8VIcFiMBIfFSHBYjASHxUhwWIwEh8VIcFiMBIfFSHBYjASHxUhwWIwEh8VIcFiMBIfFSHBYjASHxUhwWIwEh8VIcFiMxP8AVFpAB698+k0AAAFMelRYdHJka2l0UEtMIHJka2l0IDIwMjMuMDMuMgAAeJx7v2/tPQYg4GWAACYgFgRiASBuYGRjSADSjMxsDBogORYEDRJnhsozMcHUcYDlmZkg6phZEPwMEA3SAGegqkCoRDYZZDOE5mZgZGBk4mBmYgZqYmBhZQDKsLErsHNoMLFzKnByaTBxcStw82gwcfMq8PIx8PEz8AkwiIB8JH4NZADUewyCBWovDwT3MzmAOAmmBw7sf7rAHsQOcJl+IG7zJzsQu2FZzAE7g3n7QGxT6fgDv6qf7wexRS15DxTcUj0AYq/15zhwdvUFsHqzbZH7L5gfAKtn60zef+/ve7B6I6/3dtZL1oHVnJ523z7J/hFYjaWSi8PKOT1g8bfT3BxExB+D3aDD1O1QpcwE1jtNd6uDvlYoWM0yuXsOzurCYPEP6dscDKbeAqsXAwAEjk1oZORP0QAAAb96VFh0TU9MIHJka2l0IDIwMjMuMDMuMgAAeJx9VEtuGzEM3c8peAEL/ImUFl3EdhoEQWygdXOH7nt/lFTqaoII0ZiEhnoiOXwP3iDXj/PL7z/wf/F52wDwi1/vHd4EEbdXyA0cH5+eL3C6PRzvkdP11+X2E8iBLO7E8xH7cLu+3iMEJzh44Va7MnBBiQINsOBY8yon0CJslSpQ4epItABKArU4O7Ye5+qKXBdATaAUVTdjOGCRuBC7z8j6D9kMpcKBSsOmvipuieTCaIY9d7WTVl8gHa55TtybSbaJXm2VsmVKLK2iio82vSrbAtkzZSBjEY42XbusPj2OT1nTXEZxUcK+6pKSHyoeyBhmJFel1nGFTIKkoGkdY+e4I7ICSrQphZBz2JHblXQ1ddIAavSmGIxH7YpNqq6QSVAtZtQoP5exkfUVMPmx0pVYaaR0bbSSW4g3UzoitZZdoscIFsDHy/mDoN8lfrxezlPi+fAUsqRNuVKYTlFSWJ3KozCb8spTnxqisDaVwmF9yoHilfakc7rk9PvTN95xTMPxjktOR7IjjUZEd+zQcHXHAg1nu3G/R3w/rf1s8v3+1xH77S9PFdpzi3zSsAAAAOh6VFh0U01JTEVTIHJka2l0IDIwMjMuMDMuMgAAeJwlj8mNwzAMRVsZYC42IBPcFxg5sYA0lOJDObpIetJ/JLv/u4/u893H6332q599bn323+e4AjitdDGgrvtyQHTjRcAWSEMUggNrIWgosg0SUA33dSEIZjn/WPooLoLE1BjEwOhOaw5WpP4g4krfMgzz7UdIQ5V4bGHK/oOz6LGFlqx7Eh7iMlFRwpoCBDGsdlCVstYtgK62e+V5EtmEkMtnngilmVAnPmPskGGKDTKYLqfYpDDJx+NQSqzPp9Ck3J8CkWqLMDzX+fkCBlBF7+OPhUoAAAAASUVORK5CYII=\" alt=\"Mol\"/></div></td>\n",
       "      <td style=\"text-align: center;\"><div style=\"width: 200px; height: 200px\" data-content=\"rdkit/molecule\"><img src=\"data:image/png;base64,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\" alt=\"Mol\"/></div></td>\n",
       "    </tr>\n",
       "    <tr>\n",
       "      <th>3</th>\n",
       "      <td>CCCCCCCCCCCCCCCCCCCOC(=O)C=CC(=O)OCC1CCCO1</td>\n",
       "      <td>CCCCCCCCCCCCCCCCCOC(=O)C=CC(=O)OCC1CCCO1</td>\n",
       "      <td style=\"text-align: center;\"><div style=\"width: 200px; height: 200px\" data-content=\"rdkit/molecule\"><img src=\"data:image/png;base64,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\" alt=\"Mol\"/></div></td>\n",
       "      <td style=\"text-align: center;\"><div style=\"width: 200px; height: 200px\" data-content=\"rdkit/molecule\"><img src=\"data:image/png;base64,iVBORw0KGgoAAAANSUhEUgAAAMgAAADICAIAAAAiOjnJAAAABmJLR0QA/wD/AP+gvaeTAAAL0UlEQVR4nO3af0zV9R7H8feBczj8FM9RORzS1AzzlEom6RZJRwaRG8s5casrsEUF2YpgVo5osTVtDGdm7TIPNJJkq3Bz7bTlzBKTraVIxjlODhmUYyAI5wiCghz4fu4fHz3jHjgH2nzfw2Wvx1+IHz7fX8/v5/vFo0oIQQD3W1CgdwDmJoQFLBAWsEBYwAJhAQuEBSwQFrBAWMACYQELhAUsEBawQFjAAmEBC4QFLBAWsEBYwAJhAQuEBSwQFrBAWMACYQELhAUsEBawQFjAAmEBC4QFLBAWsEBYwAJhAQuEBSwQFrBAWMACYQELhAUsEBawQFjAAmEBC4QFLBAWsEBYwAJhAQuEBSwQFrBAWMACYQELhAUsEBawQFjAAmEBC4QFLBAWsEBYwAJhAQuEBSwQFrBAWMACYQELhAUsEBawQFjAAmEBC4QFLBAWsEBYwAJhAQuEBSwQFrBAWMACYQELhAUsEBawQFjAAmEBC4QFLBAWsEBYwAJhAQuEBSwQFrBAWMACYQELhAUsEBawQFjAAmEBC4QFLBDW7ON00scfk8VCIyOB3hVvAwMDMxypEkKw7gr8Yy+/TPv3U18fVVXR/v0B2IHWVqqtJSLKyaHoaLp4cay5+V8XLvz222/9/f1Go7GxsTE0NNT/HOr/xY7CzCkKhYaSXk96PQ0NBWYfysvJYiFFoddfpx9+oI4ONVF7bGxbd3dQUJDT6fz000/fffdd/3PgUTjLBAXdfQK63RSoh4lGQ2o1hYSQWk1mMyUnU2HhoUOH7Hb7yZMniWjv3r3Xr1/3PwdWrNknK4vef5/GxqioKDA7oCg0NESKQkT05Zfye0lERLR69eotW7acOHFi3759hw4d8jMH3rFmn+efp7NnKTKSSkpo164A7IDDQdXVFB1Nr75KMTFef9nS0rJ27VqVSnXp0qWVK1f6mgOPwtnnxg0aGKDOTrp1KzA70NBA+/dTe/vkqojIZDK99NJLbre7uLjYzxz+wurq6prJejY8PDw4ODjtMJipsbG7X6gD9KJy9SoR0dKlvv5+7969UVFRx48fb2ho8DXGZ1ijo6MpKSkbN25sbGz0NcbtdldWVi5btmzp0qU5OTlOp9PP3jocjuTkZJPJ9MUXX/jvdWxsrKSkJDMz89y5c36GSb/88ktNTU1nZ+e0I91ut9PpVOSrwyyWERISHx6eZDB8HRYWkB04PTp6IjHxxooVvgbExMTk5uaqVKqSkhKfswgfbDab0WgkIrVa/eabb964ccNrwPHjxz2P2KCgICIyGAxHjhxRFMVrZE9Pz65du9RqNREFBwcTUVJS0u+//z7ldk+dOrVmzRoiCgsLCwoKys7O7uvrm3Kk0+ncs2dPSEhIRESEXq//5JNPxsfHfR3OqVOnTCaTRqNJSEg4f/68r2FCCJfLlZ+fHxMT88ILL0w+ai/ffffdtm3bPvzww8lH7aW3t7eystL/pqWEhAR5Vg8fPuxn2NmzZ1NTU3t7e6edUAghrFbx3nvi7bdFY+O0Y59++mkiqq+v9zWgu7v7oYceIqKMjAxfY3yGJYQYGhoqLS0NCQkhogULFniu3Pnz55955hl58CtXrqyrq3M4HGlpafI7Tz75pOf03b59u6ysLDo6WsaXnZ1dXV29ZMkSzx8nRtPU1LR582Y5yYoVK8xms2zRYDDU1NRMvHIjIyPl5eXz58+XpS5YsED+1JS9Njc3P/vss3KAPJbg4OApb5U7d+4cPHhQr9fL20nemlPeKkIIh8OxY8cOIpL/VJiYmOgrGrfbbbFYDAaDXq/3f6sIIVpbW+fNmyf39sUXX5zyVmltbd22bZsco9frExMTL1686GvCu3JzhRBifFy88or/gePj47GxsUT0xx9/TDmgv7//iSeeIKKEhAQ/N56/sCSbzZacnCwPY926dWazWaVSyZNeUVHhdrs9I61WqyearKysqqqqZcuWyR9MTU212Wxy2ORer169mpeXJxczvV5fVlY2MjIihJjcq6IodXV18naR08pzOnHTnivX2dnpmVan05WVlfX19U15q8gZHn74YTltSkrKsWPHPJv2iubatWv5+fmyvHnz5qWnp8ulfcpev/3220ceeUTOYzQa5U+1paeLI0eEV6/Xrw+/9daihQs9WRPRU089NTEauUhrtVrPU0Jei+Dg4DfeeGPqy+x0ir/+Eq+9dveP+fmip8d70/f8+OOP69atCwsLCwkJMRgMpaWlXnPeunVr06ZNRBQfH9/d3e27mhmEJckrp1KpNBpNWFjYnj17+vv7Jw8bGBgoLCyU50Ue+fr160+fPj155MRe5bXXarXvvPOO15EoinL06FHPQ9mzOK1du/bkyZNemy4qKvIscmazOTw8XK5ShYWFTqfTM9Kr16qqKnmyiGjVqlV1dXVeR+3ptaOjo6ysTK4oarU6Ly9Pntwpl/YLFy6YzeaJ67qiKHa7/d9ZWYJIEInt20V7u6ioEGfOCKtVREcLooObN+fl5V27dm3yrVJbWyvXfhkTET344IMWi+WDDz6Qm/Z6H1BGRsSBA0KnE+npIi9PXLkifv1VFBeLDRtEYqI4d27i2bPb7c8995ycNi4uLj4+Xn6t0+lKSkp6enqEEKOjo1u2bCGixYsX//333/6DmWlY8srl5+fn5OR0dHT4H2mz2TZu3GgymY4ePernvUcIYbVajUZjdHT0jh072trafA2TV06j0URFRcXFxVkslrGxsSlHeqIJCwsjooyMjCtXrkwepihKbW2tp1ciio2NPXz48MQF2HPUnl7l9SOirVu3OhwOr5F2u91zq+h0Onn5Fy5c+Nlnn42OjnodtliyRFgsIjdX9PaKigpRWSlCQ0Vqqmhu9jpqT685OTmequQCLNd18d+3ilxfrVbr+kcfHYuLE0QiLU309IjqavHNN+LyZWE0CqKmxx6T62tvb29BQYG8tyMjI0tLS4eHh4UQDQ0NGRkZck6tVpuVlSXLW7RoUUtLi68r5fEPwmJy+/Ztl8s1k5H19fWff/75lCvlRIqi7Nu3b/v27T/99JP/kQMDAzt37ly+fHlRUdHg4KCfkQ6HIykpSa1Wr1692s9brRDCarUuXrw4IiJCo9EUFBT4fAu5eVPU14uvvhJCiDt3REGB8HFf2e12+UYr49Zqtbt37558xibeKp4l7Uhmpvj++8mHLYqKNj3+uCxJviPKvZ38q0BTU1N2drbMLjg4eP78+dO/zwkhZkNY/y/Gx8ddLpf/BVjq6uqqqalpnPb3L4dDlJcLIcSff4qPPvIzUFGUmpoak8mUlpbW3t7uZ+TQ0JBsi4gyMzMnL8ATNu5IS0szGo1arTY1NfXSpUt+pr18+XJGRsaGDRuOHTs2zUHdg490AurAARoepps3qbiYdLr7MmVCQoLNZiMii8WSl5fnZ6QQ4ueff1YUJSUl5b5seiJ8CB1Qu3ff9ykTdLqgqKiIyMhF0/2XKZVK5fn14r5DWHPNl11dNDhIg4N0700rIPAh9Jzjdt/9IlAfNcqNB3DbwOKBB8jlIrWawsMDuBcIa87ZuZNcLhoaIrb3p5nAo3BuaWsjl4tKSig3lyoqArgjCGtu6eoi+fns8uU0g/9KxAdhzS1r1tCZMzQ6SnV1dO8D0IDAP5DOOS0tZLXSqlW0dWsA9wJhAQs8CoEFwgIWCAtYICxggbCABcICFggLWCAsYIGwgAXCAhYIC1ggLGCBsIAFwgIWCAtYICxggbCABcICFggLWCAsYIGwgAXCAhYIC1ggLGCBsIAFwgIWCAtYICxggbCABcICFggLWCAsYIGwgAXCAhYIC1ggLGCBsIAFwgIWCAtYICxggbCABcICFggLWCAsYIGwgAXCAhYIC1ggLGCBsIAFwgIWCAtYICxggbCABcICFggLWCAsYIGwgAXCAhYIC1ggLGCBsIAFwgIWCAtYICxggbCABcICFggLWCAsYIGwgAXCAhYIC1ggLGCBsIAFwgIWCAtYICxggbCABcICFggLWCAsYIGwgAXCAhYIC1ggLGCBsIAFwgIW/wFPDrBUGvnV/QAAAfl6VFh0cmRraXRQS0wgcmRraXQgMjAyMy4wMy4yAAB4nHu/b+09BiDgZYAAJiCWh+IGRjaGBCDNyAyhmZgGiuZg0ADSzEA+mGZB8DNANDMjEgNVBUIlsonMjLhtUgDR3AyMDIxMDEzMQKMYWFgZWNkY2NgZ2DkYODgZOLkYuLgZuHkYeHgZePkY+PgZ+AUYBAQZBIUUhIQ1mIREFERENZhExRTExDWYxCQUJCQZJKUYpKQZpGUYZGQZZOUY5KQYRBiB1rBKScvIyonXAdmM0PBnkJ9lPPngZl0OexDH/1XHwbigsn0gtuT1moMlJj/tQOxml4yDigGTwOL/3IIPNvI+Aounb7E7KFK+Eiz+aJvmwf5np8DiPiqiB9nnHQCLH1NjODhn/2aweILG9QM/j1wHi4fqrj2wcsYcsLgmR8uBN6/fgcWtpUwObC9sBYsfnX94fz4n834Q++Cc2H0dU2PA4pIPO+xfzuEDiy9Ok3BY7K4HFv+9IcshyUAKLN4ZPN+h5vN/WxA7Q3OBw7Hv58F+3FpxwuH2YVWwmgPFnxw2hi8Gqyk7w+sYGm4IFm9P5HWUCeI5AGL/OankeLacF6xmUoy547lXNmA14lE+jgr/9faAxaWSHC8wQMzsqyhyPLDpOdg9C6+mOd658RBs70Q3f8c3xnvBbDEAaEOP5jMiJnwAAALOelRYdE1PTCByZGtpdCAyMDIzLjAzLjIAAHicfVVLbtwwDN3PKXSBCPxTWnSRZNKgKDIDtGnv0H3vj5IaRJ4ARG2LsOVn6omPpE8tjx/n73/+tn3Q+XRqDf5zzTnbbwaA01vLm/b08vrt0p7fH58+Zp6vvy7vPxtjXpDnZ+zj+/XtYwbbc3vA0QUApzfoyjglb2Adx7e0kN4RRWC2B+gkoDILKC+o9gGkKAGQYU6jQMpCSlcMgC+nQ90qqC4odwIZTOlUUKFa3hYS+8QJIumUGeaoNuULCt3AcW2Fp9GEAjkSOTsTsuHy6UZgBXImcsT0FMv3rBjeCyBCIq07sfmKqBAKaQVdOmkXRB8ZUQYdShVy6SQdSee05dTMRCro0on6QEFIgmRgzBXyplNXGhxfhVNFHFZCl07hC00wdSRUwXL51Ak72GRbu1d1GOWeUibqPJAsPaFHspZhGu3auJs5RHAeUldiKGOfKkmfPm7ZjiTTKzUJwqXGtEayB10j8TLpKSWyiKE461pbXKlKJUqJvEeeG6/3Pl3LkkuBRh+xJq7isEnO5eISLAPJxpFVoSnOKL0qlpFe18i8iKHwDcCiXBUcLX0w8gcw5mN5Z59aQlMgpO6Oc67Nxyc2qsBTFlJUPDLKuG1KRMv8pNQo2kgkkNwqXkm5EimbXjoVclQNlTyccrV8TF6T6VTJjhS780j/Kvgvl/OnTnnrnU/Xy/nonXnS0SDjofHRBKP/Njk6HcbQo5thDDtaFsbwoy1hjHH0HowxjwaDOe77CC6Dd+0Cl9nkMNml2fwwCabZFDE5ptksMWmm2UQxmabZXDHJptl0Mfmm2Yyj2miZ+7LCNbM5U0YvTVTH19cvR1hXXOPVZh5lQcts5pTMc2Yzp2QehjZzSuZhaDOnZB6GNvPMiDS0mVMGOwzf5xq2lUl3ObV+tYfnzJ37TMnnjz903J/+AYRDedfgpaGfAAABYXpUWHRTTUlMRVMgcmRraXQgMjAyMy4wMy4yAAB4nF2RS27DQAxDr9JlAsSCqO8Mgq58gFyohy813dUbG/QTRUn3/e/53I/vz/P+vs/7c98YEV8/jwtLQtVeKunY0a/3hRYg4nWpWGjGHi1lqSWxWNW2RgpJVB9sZdfRXExjDRZIPZWQjT2Uu+51GqiUNkj5Lhtoixu8DtVlWtSWqE4gSonB31dJm7MRsTAE87yvlAB6WrrmSqMUAjteUVUc5H2ZLMQ0tNJynwySthxDJbBqNP5GBcbLkAFWQrS2nyEzWxftTXyNvwpasZnBpao1Byo1V0YN2b327AsWuzlPcpwkBCmLZlUxTLSfKgp0buEamURFe3fOyEsWcTvQtvZ9JK9JboJtSQgTJU6dRzIdJXB4PeO1904eBybdx0mhteY4PCEcf8EjclbFQ2M+uLy05EkGCmMhpAn5MdrJw7BFL1Y/f34BvPt9lA+h3PUAAAAASUVORK5CYII=\" alt=\"Mol\"/></div></td>\n",
       "    </tr>\n",
       "    <tr>\n",
       "      <th>4</th>\n",
       "      <td>CCCCCCCCCCCCCc1nc2ccccc2[nH]1</td>\n",
       "      <td>CCCCCCCCCCCc1nc2ccccc2[nH]1</td>\n",
       "      <td style=\"text-align: center;\"><div style=\"width: 200px; height: 200px\" data-content=\"rdkit/molecule\"><img src=\"data:image/png;base64,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\" alt=\"Mol\"/></div></td>\n",
       "      <td style=\"text-align: center;\"><div style=\"width: 200px; height: 200px\" data-content=\"rdkit/molecule\"><img src=\"data:image/png;base64,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\" alt=\"Mol\"/></div></td>\n",
       "    </tr>\n",
       "    <tr>\n",
       "      <th>5</th>\n",
       "      <td>CCCCCCCCCCCCCCCCCCCCOC(=O)CCCNC(=O)OCC(C)C</td>\n",
       "      <td>CCCCCCCCCCCCCCCCCOC(=O)CCCNC(=O)OCC(C)C</td>\n",
       "      <td style=\"text-align: center;\"><div style=\"width: 200px; height: 200px\" data-content=\"rdkit/molecule\"><img src=\"data:image/png;base64,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\" alt=\"Mol\"/></div></td>\n",
       "      <td style=\"text-align: center;\"><div style=\"width: 200px; height: 200px\" data-content=\"rdkit/molecule\"><img src=\"data:image/png;base64,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\" alt=\"Mol\"/></div></td>\n",
       "    </tr>\n",
       "  </tbody>\n",
       "</table>\n",
       "</div>"
      ],
      "text/plain": [
       "                                         pred  \\\n",
       "0                CCCCCCCCCCCC(C)OC(=O)c1cccs1   \n",
       "1        CC(C)CCCOC(=O)c1ccccc1C(=O)OCCCC(C)C   \n",
       "2               CC#CC(CC)OC(=O)C=CC(=O)OC(C)C   \n",
       "3  CCCCCCCCCCCCCCCCCCCOC(=O)C=CC(=O)OCC1CCCO1   \n",
       "4               CCCCCCCCCCCCCc1nc2ccccc2[nH]1   \n",
       "5  CCCCCCCCCCCCCCCCCCCCOC(=O)CCCNC(=O)OCC(C)C   \n",
       "\n",
       "                                      label  \\\n",
       "0            CCCCCCCCCCCCCC(C)OC(=O)c1cccs1   \n",
       "1           CCCOC(=O)c1ccccc1C(=O)OCCCC(C)C   \n",
       "2               CC#CC(CC)OC(=O)C=CC(=O)OCCC   \n",
       "3  CCCCCCCCCCCCCCCCCOC(=O)C=CC(=O)OCC1CCCO1   \n",
       "4               CCCCCCCCCCCc1nc2ccccc2[nH]1   \n",
       "5   CCCCCCCCCCCCCCCCCOC(=O)CCCNC(=O)OCC(C)C   \n",
       "\n",
       "                                           pred_mol  \\\n",
       "0  <rdkit.Chem.rdchem.Mol object at 0x7f093ff87cf0>   \n",
       "1  <rdkit.Chem.rdchem.Mol object at 0x7f093fdf4580>   \n",
       "2  <rdkit.Chem.rdchem.Mol object at 0x7f093fdf4040>   \n",
       "3  <rdkit.Chem.rdchem.Mol object at 0x7f093fdf4890>   \n",
       "4  <rdkit.Chem.rdchem.Mol object at 0x7f093fdf45f0>   \n",
       "5  <rdkit.Chem.rdchem.Mol object at 0x7f093fdf4270>   \n",
       "\n",
       "                                          label_mol  \n",
       "0  <rdkit.Chem.rdchem.Mol object at 0x7f093fdf42e0>  \n",
       "1  <rdkit.Chem.rdchem.Mol object at 0x7f093fdf4350>  \n",
       "2  <rdkit.Chem.rdchem.Mol object at 0x7f093fdf43c0>  \n",
       "3  <rdkit.Chem.rdchem.Mol object at 0x7f093fdf4190>  \n",
       "4  <rdkit.Chem.rdchem.Mol object at 0x7f094449ddd0>  \n",
       "5  <rdkit.Chem.rdchem.Mol object at 0x7f094449d120>  "
      ]
     },
     "execution_count": 18,
     "metadata": {},
     "output_type": "execute_result"
    }
   ],
   "source": [
    "from rdkit import Chem\n",
    "import pandas as pd\n",
    "from rdkit.Chem import PandasTools\n",
    "PandasTools.RenderImagesInAllDataFrames(images=True)\n",
    "\n",
    "fails_path = \"predictions/fresh-blaze-258_4_8M_rassp1_neims1_224kPretrain/NIST_denovo/1697801918_valid_0:50_beam10/fp_simil_fails.csv\"\n",
    "fails = pd.read_csv(fails_path)\n",
    "fails[\"pred_mol\"] = fails.pred.apply(Chem.MolFromSmiles)\n",
    "fails[\"label_mol\"] = fails.label.apply(Chem.MolFromSmiles)\n",
    "fails[\"same\"] = fails.apply(lambda x: x.pred == Chem.MolToSmiles(x.label_mol), axis=1)\n",
    "fails"
   ]
  },
  {
   "cell_type": "code",
   "execution_count": 10,
   "metadata": {},
   "outputs": [
    {
     "data": {
      "text/plain": [
       "Index(['pred', ' label', 'pred_mol'], dtype='object')"
      ]
     },
     "execution_count": 10,
     "metadata": {},
     "output_type": "execute_result"
    }
   ],
   "source": [
    "fails.columns"
   ]
  },
  {
   "cell_type": "code",
   "execution_count": 19,
   "metadata": {},
   "outputs": [
    {
     "data": {
      "text/plain": [
       "0    False\n",
       "1    False\n",
       "2    False\n",
       "3    False\n",
       "4    False\n",
       "5    False\n",
       "dtype: bool"
      ]
     },
     "execution_count": 19,
     "metadata": {},
     "output_type": "execute_result"
    }
   ],
   "source": [
    "fails.pred == fails.label"
   ]
  },
  {
   "cell_type": "code",
   "execution_count": null,
   "metadata": {},
   "outputs": [],
   "source": []
  }
 ],
 "metadata": {
  "kernelspec": {
   "display_name": "NEIMSpy3",
   "language": "python",
   "name": "python3"
  },
  "language_info": {
   "codemirror_mode": {
    "name": "ipython",
    "version": 3
   },
   "file_extension": ".py",
   "mimetype": "text/x-python",
   "name": "python",
   "nbconvert_exporter": "python",
   "pygments_lexer": "ipython3",
   "version": "3.8.16"
  },
  "orig_nbformat": 4
 },
 "nbformat": 4,
 "nbformat_minor": 2
}
