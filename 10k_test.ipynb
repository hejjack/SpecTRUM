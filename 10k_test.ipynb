{
 "cells": [
  {
   "cell_type": "markdown",
   "id": "boring-terrorism",
   "metadata": {},
   "source": [
    "# 10K test\n",
    "- take a slice of 12M_deriv dataset\n",
    "- use the same prepro pipeline as for NIST stats\n",
    "- evaluate and compare result with the one by geneval_extend\n",
    "\n",
    "(=> if same, no bug should be there, if not same, the evaluation is corrupted~)"
   ]
  },
  {
   "cell_type": "code",
   "execution_count": 1,
   "id": "casual-adjustment",
   "metadata": {},
   "outputs": [],
   "source": [
    "import numpy as np\n",
    "from tqdm import tqdm\n",
    "from rdkit import Chem\n",
    "import pandas as pd\n",
    "from rdkit.Chem import PandasTools\n",
    "from spectra_process_utils import process_neims_spec\n",
    "from spectra_process_utils import preprocess_spectra, preprocess_spectrum\n",
    "from tokenizers import Tokenizer\n",
    "from geneval_utils import evaluate_range_opt2_prob\n",
    "\n",
    "import sys\n",
    "from dataset import SpectroDataset, SpectroDataCollator\n",
    "sys.path.append('data')\n",
    "sys.path.append('bart_spektro')\n",
    "from modeling_bart_spektro import BartSpektoForConditionalGeneration\n",
    "from configuration_bart_spektro import BartSpektroConfig"
   ]
  },
  {
   "cell_type": "code",
   "execution_count": 2,
   "id": "incredible-afternoon",
   "metadata": {},
   "outputs": [],
   "source": [
    "# hide rdkit warnings\n",
    "from rdkit import RDLogger \n",
    "RDLogger.DisableLog('rdApp.*') "
   ]
  },
  {
   "cell_type": "code",
   "execution_count": 5,
   "id": "coated-heather",
   "metadata": {},
   "outputs": [],
   "source": [
    "# collect SMILES of k10 train+valid\n",
    "k10_train_smiles = []\n",
    "with open (f\"./data/trial_set/10K_test.smi\", \"r\") as f:\n",
    "    lines = f.read().splitlines()\n",
    "    k10_train_smiles += lines\n",
    "k10_train_smiles = np.array(k10_train_smiles)"
   ]
  },
  {
   "cell_type": "code",
   "execution_count": 10,
   "id": "functional-harrison",
   "metadata": {},
   "outputs": [
    {
     "name": "stderr",
     "output_type": "stream",
     "text": [
      "\n",
      "  0%|          | 0/10000 [00:00<?, ?it/s]\u001b[A\n",
      "  4%|▍         | 388/10000 [00:00<00:02, 3871.51it/s]\u001b[A\n",
      "  8%|▊         | 794/10000 [00:00<00:02, 3924.45it/s]\u001b[A\n",
      " 12%|█▏        | 1198/10000 [00:00<00:02, 3957.46it/s]\u001b[A\n",
      " 16%|█▌        | 1604/10000 [00:00<00:02, 3987.15it/s]\u001b[A\n",
      " 20%|██        | 2034/10000 [00:00<00:01, 4074.11it/s]\u001b[A\n",
      " 25%|██▍       | 2458/10000 [00:00<00:01, 4119.64it/s]\u001b[A\n",
      " 29%|██▊       | 2864/10000 [00:00<00:01, 4101.01it/s]\u001b[A\n",
      " 33%|███▎      | 3280/10000 [00:00<00:01, 4118.25it/s]\u001b[A\n",
      " 37%|███▋      | 3694/10000 [00:00<00:01, 4122.72it/s]\u001b[A\n",
      " 41%|████      | 4103/10000 [00:01<00:01, 4111.65it/s]\u001b[A\n",
      " 45%|████▌     | 4524/10000 [00:01<00:01, 4138.92it/s]\u001b[A\n",
      " 50%|████▉     | 4953/10000 [00:01<00:01, 4182.59it/s]\u001b[A\n",
      " 54%|█████▍    | 5377/10000 [00:01<00:01, 4196.30it/s]\u001b[A\n",
      " 58%|█████▊    | 5794/10000 [00:01<00:01, 4156.07it/s]\u001b[A\n",
      " 62%|██████▏   | 6208/10000 [00:01<00:00, 4150.85it/s]\u001b[A\n",
      " 66%|██████▋   | 6628/10000 [00:01<00:00, 4163.95it/s]\u001b[A\n",
      " 70%|███████   | 7048/10000 [00:01<00:00, 4174.47it/s]\u001b[A\n",
      " 75%|███████▍  | 7473/10000 [00:01<00:00, 4194.74it/s]\u001b[A\n",
      " 79%|███████▉  | 7892/10000 [00:01<00:00, 4186.49it/s]\u001b[A\n",
      " 83%|████████▎ | 8312/10000 [00:02<00:00, 4189.69it/s]\u001b[A\n",
      " 87%|████████▋ | 8733/10000 [00:02<00:00, 4194.87it/s]\u001b[A\n",
      " 92%|█████████▏| 9153/10000 [00:02<00:00, 4188.68it/s]\u001b[A\n",
      " 96%|█████████▌| 9572/10000 [00:02<00:00, 4168.10it/s]\u001b[A\n",
      "100%|██████████| 10000/10000 [00:02<00:00, 4148.94it/s][A"
     ]
    },
    {
     "name": "stdout",
     "output_type": "stream",
     "text": [
      "CPU times: user 2.41 s, sys: 9.55 ms, total: 2.42 s\n",
      "Wall time: 2.42 s\n"
     ]
    },
    {
     "name": "stderr",
     "output_type": "stream",
     "text": [
      "\n"
     ]
    }
   ],
   "source": [
    "%%time\n",
    "# canonicalize k10 train smiles\n",
    "k10_train_smiles_cans = [Chem.MolToSmiles(Chem.MolFromSmiles(smi),True) for smi in tqdm(k10_train_smiles)]"
   ]
  },
  {
   "cell_type": "code",
   "execution_count": 4,
   "id": "everyday-female",
   "metadata": {},
   "outputs": [
    {
     "ename": "NameError",
     "evalue": "name 'k10_train_smiles_cans' is not defined",
     "output_type": "error",
     "traceback": [
      "\u001b[0;31m---------------------------------------------------------------------------\u001b[0m",
      "\u001b[0;31mNameError\u001b[0m                                 Traceback (most recent call last)",
      "\u001b[0;32m<ipython-input-4-d8852ff47b5c>\u001b[0m in \u001b[0;36m<module>\u001b[0;34m\u001b[0m\n\u001b[1;32m      4\u001b[0m \u001b[0;34m\u001b[0m\u001b[0m\n\u001b[1;32m      5\u001b[0m df_k10_plain = pd.DataFrame({\"id\": list(range(10000)),\n\u001b[0;32m----> 6\u001b[0;31m                              \"smiles\": k10_train_smiles_cans})\n\u001b[0m\u001b[1;32m      7\u001b[0m \u001b[0mPandasTools\u001b[0m\u001b[0;34m.\u001b[0m\u001b[0mAddMoleculeColumnToFrame\u001b[0m\u001b[0;34m(\u001b[0m\u001b[0mdf_k10_plain\u001b[0m\u001b[0;34m,\u001b[0m \u001b[0msmilesCol\u001b[0m\u001b[0;34m=\u001b[0m\u001b[0;34m'smiles'\u001b[0m\u001b[0;34m,\u001b[0m \u001b[0mmolCol\u001b[0m\u001b[0;34m=\u001b[0m\u001b[0;34m'ROMol'\u001b[0m\u001b[0;34m)\u001b[0m\u001b[0;34m\u001b[0m\u001b[0;34m\u001b[0m\u001b[0m\n\u001b[1;32m      8\u001b[0m \u001b[0mPandasTools\u001b[0m\u001b[0;34m.\u001b[0m\u001b[0mWriteSDF\u001b[0m\u001b[0;34m(\u001b[0m\u001b[0mdf_k10_plain\u001b[0m\u001b[0;34m,\u001b[0m \u001b[0msdf_before\u001b[0m\u001b[0;34m,\u001b[0m \u001b[0midName\u001b[0m\u001b[0;34m=\u001b[0m\u001b[0;34m\"id\"\u001b[0m\u001b[0;34m,\u001b[0m \u001b[0mproperties\u001b[0m\u001b[0;34m=\u001b[0m\u001b[0mlist\u001b[0m\u001b[0;34m(\u001b[0m\u001b[0mdf_k10_plain\u001b[0m\u001b[0;34m.\u001b[0m\u001b[0mcolumns\u001b[0m\u001b[0;34m)\u001b[0m\u001b[0;34m)\u001b[0m\u001b[0;34m\u001b[0m\u001b[0;34m\u001b[0m\u001b[0m\n",
      "\u001b[0;31mNameError\u001b[0m: name 'k10_train_smiles_cans' is not defined"
     ]
    }
   ],
   "source": [
    "# prepare k10 sdf and compose a command for k10 generation \n",
    "sdf_before = \"/storage/brno2/home/ahajek/Spektro/MassGenie/tmp/tmp_for_k10.sdf\"\n",
    "sdf_after = \"/storage/brno2/home/ahajek/Spektro/MassGenie/tmp/tmp_for_k10_enriched.sdf\"\n",
    "\n",
    "df_k10_plain = pd.DataFrame({\"id\": list(range(10000)),\n",
    "                             \"smiles\": k10_train_smiles_cans})\n",
    "PandasTools.AddMoleculeColumnToFrame(df_k10_plain, smilesCol='smiles', molCol='ROMol')\n",
    "PandasTools.WriteSDF(df_k10_plain, sdf_before, idName=\"id\", properties=list(df_k10_plain.columns))\n",
    "\n",
    "print(f\"now run in terminal:\\n###############\\nconda activate NEIMSpy2 && bash ~/Spektro/NEIMS/run_make_spectra_prediction.sh {sdf_before} {sdf_after} && conda deactivate\\n###############\\n\")"
   ]
  },
  {
   "cell_type": "code",
   "execution_count": 5,
   "id": "flexible-proportion",
   "metadata": {},
   "outputs": [],
   "source": [
    "df_k10_enriched = PandasTools.LoadSDF(sdf_after, idName=\"id\", molColName=\"ROMol\")"
   ]
  },
  {
   "cell_type": "code",
   "execution_count": 6,
   "id": "bronze-charter",
   "metadata": {},
   "outputs": [],
   "source": [
    "k10_spec = [process_neims_spec(row[1][\"PREDICTED SPECTRUM\"], \n",
    "                                 metadata={\"smiles\": row[1].smiles,\n",
    "                                           \"id\": row[1].id}) \n",
    "                  for row in df_k10_enriched.iterrows()]\n",
    "\n",
    "df_k10_enriched[\"k10_spec\"] = k10_spec\n",
    "df_k10_enriched.drop(columns=[\"PREDICTED SPECTRUM\"], inplace=True)\n",
    "df_k10_enriched.id = df_k10_enriched.id.astype(np.int32)"
   ]
  },
  {
   "cell_type": "code",
   "execution_count": 7,
   "id": "looking-reach",
   "metadata": {},
   "outputs": [
    {
     "data": {
      "text/plain": [
       "<matchms.Spectrum.Spectrum at 0x14bf86630e80>"
      ]
     },
     "execution_count": 7,
     "metadata": {},
     "output_type": "execute_result"
    }
   ],
   "source": [
    "df_k10_enriched.k10_spec[0]"
   ]
  },
  {
   "cell_type": "markdown",
   "id": "nuclear-healthcare",
   "metadata": {},
   "source": [
    "## Preprocess"
   ]
  },
  {
   "cell_type": "code",
   "execution_count": 8,
   "id": "burning-matthew",
   "metadata": {},
   "outputs": [],
   "source": [
    "tok = \"./tokenizer/bbpe_tokenizer/bart_bbpe_1M_tokenizer.model\"\n",
    "tokenizer = Tokenizer.from_file(tok)"
   ]
  },
  {
   "cell_type": "code",
   "execution_count": 9,
   "id": "apparent-antique",
   "metadata": {},
   "outputs": [
    {
     "name": "stderr",
     "output_type": "stream",
     "text": [
      "  0%|          | 0/10000 [00:00<?, ?it/s]/auto/brno2/home/ahajek/Spektro/MassGenie/spectra_process_utils.py:92: RuntimeWarning: divide by zero encountered in log\n",
      "  x = (np.log(intensities)/log_base).astype(int) + log_shift\n",
      "100%|██████████| 10000/10000 [00:06<00:00, 1634.08it/s]"
     ]
    },
    {
     "name": "stdout",
     "output_type": "stream",
     "text": [
      "0 no smiles\n",
      "0 smiles too long\n",
      "0 spectra corrupted\n",
      "0 spectra w/ too high mz\n",
      "0 spectra w/ too many peaks\n",
      "totally 0 issues\n",
      "discarded 0/10000 spectra \n"
     ]
    },
    {
     "name": "stderr",
     "output_type": "stream",
     "text": [
      "\n"
     ]
    }
   ],
   "source": [
    "df_k10 = preprocess_spectra(df_k10_enriched.k10_spec, tokenizer, spectra_name=\"k10_spec\")"
   ]
  },
  {
   "cell_type": "code",
   "execution_count": 10,
   "id": "enabling-oxygen",
   "metadata": {},
   "outputs": [
    {
     "data": {
      "text/html": [
       "<div>\n",
       "<style scoped>\n",
       "    .dataframe tbody tr th:only-of-type {\n",
       "        vertical-align: middle;\n",
       "    }\n",
       "\n",
       "    .dataframe tbody tr th {\n",
       "        vertical-align: top;\n",
       "    }\n",
       "\n",
       "    .dataframe thead th {\n",
       "        text-align: right;\n",
       "    }\n",
       "</style>\n",
       "<table border=\"1\" class=\"dataframe\">\n",
       "  <thead>\n",
       "    <tr style=\"text-align: right;\">\n",
       "      <th></th>\n",
       "      <th>input_ids</th>\n",
       "      <th>position_ids</th>\n",
       "      <th>attention_mask</th>\n",
       "      <th>smiles</th>\n",
       "      <th>k10_spec</th>\n",
       "    </tr>\n",
       "  </thead>\n",
       "  <tbody>\n",
       "    <tr>\n",
       "      <th>0</th>\n",
       "      <td>[8, 9, 18, 33, 34, 36, 37, 38, 39, 40, 41, 42,...</td>\n",
       "      <td>[0, 0, 0, 3, 3, 1, 5, 5, 7, 5, 6, 6, 6, 5, 6, ...</td>\n",
       "      <td>[1, 1, 1, 1, 1, 1, 1, 1, 1, 1, 1, 1, 1, 1, 1, ...</td>\n",
       "      <td>O=c1cc(CN(Cc2ccco2)Cc2ccco2)nc2sccn12</td>\n",
       "      <td>&lt;matchms.Spectrum.Spectrum object at 0x14bf866...</td>\n",
       "    </tr>\n",
       "    <tr>\n",
       "      <th>1</th>\n",
       "      <td>[34, 38, 39, 40, 41, 42, 50, 51, 52, 53, 55, 5...</td>\n",
       "      <td>[0, 4, 6, 4, 6, 3, 6, 5, 6, 6, 5, 0, 3, 1, 6, ...</td>\n",
       "      <td>[1, 1, 1, 1, 1, 1, 1, 1, 1, 1, 1, 1, 1, 1, 1, ...</td>\n",
       "      <td>O=C(Nc1ccc(OC(=O)C2CC2)cc1)c1ccccc1Br</td>\n",
       "      <td>&lt;matchms.Spectrum.Spectrum object at 0x14bf866...</td>\n",
       "    </tr>\n",
       "    <tr>\n",
       "      <th>2</th>\n",
       "      <td>[15, 26, 27, 28, 29, 37, 38, 39, 40, 41, 42, 4...</td>\n",
       "      <td>[1, 0, 0, 2, 4, 1, 4, 6, 4, 4, 5, 6, 5, 7, 4, ...</td>\n",
       "      <td>[1, 1, 1, 1, 1, 1, 1, 1, 1, 1, 1, 1, 1, 1, 1, ...</td>\n",
       "      <td>COc1cc(C(=O)O[Si](C)(C)C)n(-c2ccc(F)cc2)n1</td>\n",
       "      <td>&lt;matchms.Spectrum.Spectrum object at 0x14bf866...</td>\n",
       "    </tr>\n",
       "    <tr>\n",
       "      <th>3</th>\n",
       "      <td>[33, 37, 38, 39, 40, 41, 42, 43, 44, 45, 50, 5...</td>\n",
       "      <td>[4, 2, 5, 8, 7, 8, 9, 9, 8, 6, 5, 7, 7, 7, 8, ...</td>\n",
       "      <td>[1, 1, 1, 1, 1, 1, 1, 1, 1, 1, 1, 1, 1, 1, 1, ...</td>\n",
       "      <td>O=C(NCc1cc(COc2ccccc2F)on1)N1CCCCO1</td>\n",
       "      <td>&lt;matchms.Spectrum.Spectrum object at 0x14bf866...</td>\n",
       "    </tr>\n",
       "    <tr>\n",
       "      <th>4</th>\n",
       "      <td>[27, 28, 29, 33, 34, 38, 39, 40, 41, 42, 44, 4...</td>\n",
       "      <td>[4, 1, 3, 5, 0, 5, 9, 7, 9, 9, 8, 9, 4, 4, 0, ...</td>\n",
       "      <td>[1, 1, 1, 1, 1, 1, 1, 1, 1, 1, 1, 1, 1, 1, 1, ...</td>\n",
       "      <td>COCCN1CCC(CN(Cc2ccncc2)Cc2cccc(F)c2)CC1</td>\n",
       "      <td>&lt;matchms.Spectrum.Spectrum object at 0x14bf866...</td>\n",
       "    </tr>\n",
       "    <tr>\n",
       "      <th>...</th>\n",
       "      <td>...</td>\n",
       "      <td>...</td>\n",
       "      <td>...</td>\n",
       "      <td>...</td>\n",
       "      <td>...</td>\n",
       "    </tr>\n",
       "    <tr>\n",
       "      <th>9995</th>\n",
       "      <td>[27, 30, 33, 38, 39, 40, 41, 42, 43, 44, 45, 5...</td>\n",
       "      <td>[4, 5, 2, 4, 8, 7, 9, 9, 8, 7, 3, 6, 7, 6, 7, ...</td>\n",
       "      <td>[1, 1, 1, 1, 1, 1, 1, 1, 1, 1, 1, 1, 1, 1, 1, ...</td>\n",
       "      <td>Cc1nn(CC(C)C)c(C)c1CC(=O)N1CCCN(C)c2ccccc21</td>\n",
       "      <td>&lt;matchms.Spectrum.Spectrum object at 0x14bf859...</td>\n",
       "    </tr>\n",
       "    <tr>\n",
       "      <th>9996</th>\n",
       "      <td>[14, 25, 26, 27, 28, 32, 33, 34, 35, 36, 37, 3...</td>\n",
       "      <td>[2, 3, 4, 3, 3, 0, 0, 1, 5, 6, 7, 7, 7, 7, 5, ...</td>\n",
       "      <td>[1, 1, 1, 1, 1, 1, 1, 1, 1, 1, 1, 1, 1, 1, 1, ...</td>\n",
       "      <td>Clc1nccn2c(Br)ccc12</td>\n",
       "      <td>&lt;matchms.Spectrum.Spectrum object at 0x14bf859...</td>\n",
       "    </tr>\n",
       "    <tr>\n",
       "      <th>9997</th>\n",
       "      <td>[15, 33, 34, 37, 38, 39, 40, 41, 42, 43, 44, 4...</td>\n",
       "      <td>[1, 1, 1, 3, 5, 8, 7, 9, 8, 9, 8, 6, 2, 6, 7, ...</td>\n",
       "      <td>[1, 1, 1, 1, 1, 1, 1, 1, 1, 1, 1, 1, 1, 1, 1, ...</td>\n",
       "      <td>CCC12COC(=O)N1CCN(C(=O)c1cccc(NC(=O)C(C)C)c1)C2</td>\n",
       "      <td>&lt;matchms.Spectrum.Spectrum object at 0x14bf859...</td>\n",
       "    </tr>\n",
       "    <tr>\n",
       "      <th>9998</th>\n",
       "      <td>[33, 38, 39, 40, 41, 42, 43, 44, 45, 49, 50, 5...</td>\n",
       "      <td>[0, 3, 6, 4, 5, 5, 6, 4, 2, 2, 6, 7, 7, 6, 5, ...</td>\n",
       "      <td>[1, 1, 1, 1, 1, 1, 1, 1, 1, 1, 1, 1, 1, 1, 1, ...</td>\n",
       "      <td>COc1ccc(NC(=O)Cn2c(=O)n(C)c(=O)c3ccccc32)c(OC)c1</td>\n",
       "      <td>&lt;matchms.Spectrum.Spectrum object at 0x14bf859...</td>\n",
       "    </tr>\n",
       "    <tr>\n",
       "      <th>9999</th>\n",
       "      <td>[38, 39, 40, 41, 42, 43, 44, 45, 50, 51, 52, 5...</td>\n",
       "      <td>[2, 6, 4, 6, 5, 6, 5, 4, 6, 7, 5, 5, 4, 5, 5, ...</td>\n",
       "      <td>[1, 1, 1, 1, 1, 1, 1, 1, 1, 1, 1, 1, 1, 1, 1, ...</td>\n",
       "      <td>CCCNC(=O)C(=Cc1cn(C)c2ccccc12)NC(=O)c1ccccc1OC</td>\n",
       "      <td>&lt;matchms.Spectrum.Spectrum object at 0x14bf859...</td>\n",
       "    </tr>\n",
       "  </tbody>\n",
       "</table>\n",
       "<p>10000 rows × 5 columns</p>\n",
       "</div>"
      ],
      "text/plain": [
       "                                              input_ids  \\\n",
       "0     [8, 9, 18, 33, 34, 36, 37, 38, 39, 40, 41, 42,...   \n",
       "1     [34, 38, 39, 40, 41, 42, 50, 51, 52, 53, 55, 5...   \n",
       "2     [15, 26, 27, 28, 29, 37, 38, 39, 40, 41, 42, 4...   \n",
       "3     [33, 37, 38, 39, 40, 41, 42, 43, 44, 45, 50, 5...   \n",
       "4     [27, 28, 29, 33, 34, 38, 39, 40, 41, 42, 44, 4...   \n",
       "...                                                 ...   \n",
       "9995  [27, 30, 33, 38, 39, 40, 41, 42, 43, 44, 45, 5...   \n",
       "9996  [14, 25, 26, 27, 28, 32, 33, 34, 35, 36, 37, 3...   \n",
       "9997  [15, 33, 34, 37, 38, 39, 40, 41, 42, 43, 44, 4...   \n",
       "9998  [33, 38, 39, 40, 41, 42, 43, 44, 45, 49, 50, 5...   \n",
       "9999  [38, 39, 40, 41, 42, 43, 44, 45, 50, 51, 52, 5...   \n",
       "\n",
       "                                           position_ids  \\\n",
       "0     [0, 0, 0, 3, 3, 1, 5, 5, 7, 5, 6, 6, 6, 5, 6, ...   \n",
       "1     [0, 4, 6, 4, 6, 3, 6, 5, 6, 6, 5, 0, 3, 1, 6, ...   \n",
       "2     [1, 0, 0, 2, 4, 1, 4, 6, 4, 4, 5, 6, 5, 7, 4, ...   \n",
       "3     [4, 2, 5, 8, 7, 8, 9, 9, 8, 6, 5, 7, 7, 7, 8, ...   \n",
       "4     [4, 1, 3, 5, 0, 5, 9, 7, 9, 9, 8, 9, 4, 4, 0, ...   \n",
       "...                                                 ...   \n",
       "9995  [4, 5, 2, 4, 8, 7, 9, 9, 8, 7, 3, 6, 7, 6, 7, ...   \n",
       "9996  [2, 3, 4, 3, 3, 0, 0, 1, 5, 6, 7, 7, 7, 7, 5, ...   \n",
       "9997  [1, 1, 1, 3, 5, 8, 7, 9, 8, 9, 8, 6, 2, 6, 7, ...   \n",
       "9998  [0, 3, 6, 4, 5, 5, 6, 4, 2, 2, 6, 7, 7, 6, 5, ...   \n",
       "9999  [2, 6, 4, 6, 5, 6, 5, 4, 6, 7, 5, 5, 4, 5, 5, ...   \n",
       "\n",
       "                                         attention_mask  \\\n",
       "0     [1, 1, 1, 1, 1, 1, 1, 1, 1, 1, 1, 1, 1, 1, 1, ...   \n",
       "1     [1, 1, 1, 1, 1, 1, 1, 1, 1, 1, 1, 1, 1, 1, 1, ...   \n",
       "2     [1, 1, 1, 1, 1, 1, 1, 1, 1, 1, 1, 1, 1, 1, 1, ...   \n",
       "3     [1, 1, 1, 1, 1, 1, 1, 1, 1, 1, 1, 1, 1, 1, 1, ...   \n",
       "4     [1, 1, 1, 1, 1, 1, 1, 1, 1, 1, 1, 1, 1, 1, 1, ...   \n",
       "...                                                 ...   \n",
       "9995  [1, 1, 1, 1, 1, 1, 1, 1, 1, 1, 1, 1, 1, 1, 1, ...   \n",
       "9996  [1, 1, 1, 1, 1, 1, 1, 1, 1, 1, 1, 1, 1, 1, 1, ...   \n",
       "9997  [1, 1, 1, 1, 1, 1, 1, 1, 1, 1, 1, 1, 1, 1, 1, ...   \n",
       "9998  [1, 1, 1, 1, 1, 1, 1, 1, 1, 1, 1, 1, 1, 1, 1, ...   \n",
       "9999  [1, 1, 1, 1, 1, 1, 1, 1, 1, 1, 1, 1, 1, 1, 1, ...   \n",
       "\n",
       "                                                smiles  \\\n",
       "0                O=c1cc(CN(Cc2ccco2)Cc2ccco2)nc2sccn12   \n",
       "1                O=C(Nc1ccc(OC(=O)C2CC2)cc1)c1ccccc1Br   \n",
       "2           COc1cc(C(=O)O[Si](C)(C)C)n(-c2ccc(F)cc2)n1   \n",
       "3                  O=C(NCc1cc(COc2ccccc2F)on1)N1CCCCO1   \n",
       "4              COCCN1CCC(CN(Cc2ccncc2)Cc2cccc(F)c2)CC1   \n",
       "...                                                ...   \n",
       "9995       Cc1nn(CC(C)C)c(C)c1CC(=O)N1CCCN(C)c2ccccc21   \n",
       "9996                               Clc1nccn2c(Br)ccc12   \n",
       "9997   CCC12COC(=O)N1CCN(C(=O)c1cccc(NC(=O)C(C)C)c1)C2   \n",
       "9998  COc1ccc(NC(=O)Cn2c(=O)n(C)c(=O)c3ccccc32)c(OC)c1   \n",
       "9999    CCCNC(=O)C(=Cc1cn(C)c2ccccc12)NC(=O)c1ccccc1OC   \n",
       "\n",
       "                                               k10_spec  \n",
       "0     <matchms.Spectrum.Spectrum object at 0x14bf866...  \n",
       "1     <matchms.Spectrum.Spectrum object at 0x14bf866...  \n",
       "2     <matchms.Spectrum.Spectrum object at 0x14bf866...  \n",
       "3     <matchms.Spectrum.Spectrum object at 0x14bf866...  \n",
       "4     <matchms.Spectrum.Spectrum object at 0x14bf866...  \n",
       "...                                                 ...  \n",
       "9995  <matchms.Spectrum.Spectrum object at 0x14bf859...  \n",
       "9996  <matchms.Spectrum.Spectrum object at 0x14bf859...  \n",
       "9997  <matchms.Spectrum.Spectrum object at 0x14bf859...  \n",
       "9998  <matchms.Spectrum.Spectrum object at 0x14bf859...  \n",
       "9999  <matchms.Spectrum.Spectrum object at 0x14bf859...  \n",
       "\n",
       "[10000 rows x 5 columns]"
      ]
     },
     "execution_count": 10,
     "metadata": {},
     "output_type": "execute_result"
    }
   ],
   "source": [
    "df_k10"
   ]
  },
  {
   "cell_type": "code",
   "execution_count": 11,
   "id": "identical-alloy",
   "metadata": {},
   "outputs": [],
   "source": [
    "k10_data = SpectroDataset(df_k10, original=False, eval_mode=True)"
   ]
  },
  {
   "cell_type": "code",
   "execution_count": 15,
   "id": "sustainable-religious",
   "metadata": {},
   "outputs": [],
   "source": [
    "# init model\n",
    "global model_path\n",
    "# model_path = f'./models/bart_2022-10-14-16_15_31_ft_12M_derivatized/checkpoint-58536/'\n",
    "model_path = f'./models/bart_2022-10-14-16_15_31_ft_12M_derivatized/checkpoint-58536/'\n",
    "model_name = ''.join(model_path.split('/')[-3])\n",
    "model = BartSpektoForConditionalGeneration.from_pretrained(model_path)\n",
    "\n",
    "# put model into eval mode and on device\n",
    "model.eval()\n",
    "device = 'cuda' # 'cpu' alternatively\n",
    "model.to(device)\n",
    "\n",
    "# change some configs\n",
    "model.config.eos_token_id = 0\n",
    "model.config.bos_token_id = 3\n",
    "model.config.pad_token_id = 2\n",
    "model.config.decoder_start_token_id = 3\n",
    "model.config.forced_eos_token_id = 0\n",
    "model.config.max_length = 200\n",
    "model.config.min_length = 0"
   ]
  },
  {
   "cell_type": "code",
   "execution_count": 16,
   "id": "compliant-credit",
   "metadata": {},
   "outputs": [
    {
     "name": "stderr",
     "output_type": "stream",
     "text": [
      "  0%|          | 0/10000 [00:00<?, ?it/s]/storage/brno2/home/ahajek/.local-Pytorch-21.SIF/lib/python3.8/site-packages/transformers/generation_utils.py:1202: UserWarning: Neither `max_length` nor `max_new_tokens` have been set, `max_length` will default to 200 (`self.config.max_length`). Controlling `max_length` via the config is deprecated and `max_length` will be removed from the config in v5 of Transformers -- we recommend using `max_new_tokens` to control the maximum length of the generation.\n",
      "  warnings.warn(\n",
      "100%|██████████| 10000/10000 [53:42<00:00,  3.10it/s] \n",
      "/auto/brno2/home/ahajek/Spektro/MassGenie/geneval_utils.py:357: RuntimeWarning: invalid value encountered in double_scalars\n",
      "  rmse = np.sqrt(np.sum((is_sorted_by_gt_indexes - gt_sorted_by_gt_indexes)**2)/len(is_sorted_by_gt_indexes))\n"
     ]
    },
    {
     "name": "stdout",
     "output_type": "stream",
     "text": [
      "###### RESULTS ######\n",
      "model: bart_2022-10-14-16_15_31_ft_12M_derivatized\n",
      "additional info: _10ktest\n",
      "data range: (0, 9999)\n",
      "generated for each example: 10 samples\n",
      "data type: 10k_data\n",
      "mean RMSE of prob_simil ranking compared to GT: nan\n",
      "recall@1: 0.3865\n",
      "recall@3: 0.6797\n",
      "average smiles simil from all unique samples: 0.5798758707387955\n",
      "average simles simil from the 3 best samples: 0.6962618249312159\n",
      "average smiles simil from the 1 best sample: 0.7443831411513022\n",
      "mean num of unique vals: 6.0215\n",
      "\n"
     ]
    },
    {
     "data": {
      "text/plain": [
       "Text(0.5, 1.0, 'model: bart_2022-10-14-16_15_31_ft_12M_derivatized\\nadditional info: _10ktest\\ndata range: (0, 9999)\\ngenerated for each example: 10 samples\\ndata type: 10k_data\\nmean RMSE of prob_simil ranking compared to GT: nan\\nrecall@1: 0.3865\\nrecall@3: 0.6797\\naverage smiles simil from all unique samples: 0.5798758707387955\\naverage simles simil from the 3 best samples: 0.6962618249312159\\naverage smiles simil from the 1 best sample: 0.7443831411513022\\nmean num of unique vals: 6.0215\\n')"
      ]
     },
     "execution_count": 16,
     "metadata": {},
     "output_type": "execute_result"
    },
    {
     "data": {
      "image/png": "[encoded data removed]",
      "text/plain": [
       "<Figure size 842.4x595.44 with 1 Axes>"
      ]
     },
     "metadata": {},
     "output_type": "display_data"
    }
   ],
   "source": [
    "# evaluate NEIMS\n",
    "RANGE = range(0,10000)\n",
    "additional_info = \"_10ktest\"\n",
    "evaluate_range_opt2_prob(model, \n",
    "                         model_name, \n",
    "                         tokenizer, \n",
    "                         k10_data,\n",
    "                         data_type=\"10k_data\",\n",
    "                         data_range=RANGE, \n",
    "                         additional_info=additional_info, \n",
    "                         gt_list=list(df_k10[\"smiles\"])[min(RANGE):max(RANGE)+1], \n",
    "                         num_generated=10)"
   ]
  },
  {
   "cell_type": "code",
   "execution_count": 13,
   "id": "coordinated-withdrawal",
   "metadata": {},
   "outputs": [],
   "source": []
  },
  {
   "cell_type": "code",
   "execution_count": null,
   "id": "stretch-alias",
   "metadata": {},
   "outputs": [],
   "source": []
  }
 ],
 "metadata": {
  "kernelspec": {
   "display_name": "Python 3",
   "language": "python",
   "name": "python3"
  },
  "language_info": {
   "codemirror_mode": {
    "name": "ipython",
    "version": 3
   },
   "file_extension": ".py",
   "mimetype": "text/x-python",
   "name": "python",
   "nbconvert_exporter": "python",
   "pygments_lexer": "ipython3",
   "version": "3.8.5"
  }
 },
 "nbformat": 4,
 "nbformat_minor": 5
}
