{
 "cells": [
  {
   "cell_type": "markdown",
   "metadata": {},
   "source": [
    "# Model inference\n",
    "\n",
    "This notebook is a simple example of how to load a trained model and make predictions on the test set. The model is trained in the notebook [4_backward_model_training.ipynb](4_backward_model_training.ipynb) "
   ]
  },
  {
   "cell_type": "markdown",
   "metadata": {},
   "source": [
    "## Load data\n",
    "TODO: check if MACE molecules are in the NIST20 or not\n",
    "\n",
    "For the purpose of inference we prepared a small test set unrelated with any data we've used so far. It is a [MACE](https://leopard.tu-braunschweig.de/receive/dbbs_mods_00076224) dataset with compounds not included in the NIST17 (not sure how about NIST20) dataset."
   ]
  },
  {
   "cell_type": "code",
   "execution_count": 1,
   "metadata": {},
   "outputs": [],
   "source": [
    "import sys\n",
    "sys.path.append('..')"
   ]
  },
  {
   "cell_type": "code",
   "execution_count": 2,
   "metadata": {},
   "outputs": [],
   "source": [
    "MACE_DIR = \"../data/mace\"\n",
    "CHECKPOINT_DIR = \"../../checkpoints/finetune/fearless-wildflower-490_rassp1_neims1_224kPretrain_148k/checkpoint-147476\"\n",
    "TOKENIZER_PATH = \"../tokenizer/tokenizer_mf10M.model\""
   ]
  },
  {
   "cell_type": "code",
   "execution_count": 4,
   "metadata": {},
   "outputs": [
    {
     "name": "stdout",
     "output_type": "stream",
     "text": [
      "--2024-08-30 12:21:46--  https://leopard.tu-braunschweig.de/servlets/MCRFileNodeServlet/dbbs_derivate_00054495/MACE_r05.mace\n",
      "Resolving leopard.tu-braunschweig.de (leopard.tu-braunschweig.de)... 193.174.240.199\n",
      "Connecting to leopard.tu-braunschweig.de (leopard.tu-braunschweig.de)|193.174.240.199|:443... connected.\n",
      "HTTP request sent, awaiting response... 200 200\n",
      "Length: unspecified\n",
      "Saving to: 'MACE_r05.mace.1'\n",
      "\n",
      "MACE_r05.mace.1         [ <=>                ] 344.82K  --.-KB/s    in 0.09s   \n",
      "\n",
      "2024-08-30 12:21:46 (3.81 MB/s) - 'MACE_r05.mace.1' saved [353094]\n",
      "\n"
     ]
    }
   ],
   "source": [
    "# download MACE data\n",
    "! cd {MACE_DIR} && wget https://leopard.tu-braunschweig.de/servlets/MCRFileNodeServlet/dbbs_derivate_00054495/MACE_r05.mace"
   ]
  },
  {
   "cell_type": "code",
   "execution_count": 3,
   "metadata": {},
   "outputs": [],
   "source": [
    "# replace Num Peaks with num peaks (hardcoded string in matchms)\n",
    "!sed -i 's/Num Peaks/num peaks/g' {MACE_DIR}/MACE_r05.mace"
   ]
  },
  {
   "cell_type": "code",
   "execution_count": 4,
   "metadata": {},
   "outputs": [
    {
     "ename": "KeyError",
     "evalue": "'num peaks'",
     "output_type": "error",
     "traceback": [
      "\u001b[0;31m---------------------------------------------------------------------------\u001b[0m",
      "\u001b[0;31mKeyError\u001b[0m                                  Traceback (most recent call last)",
      "Cell \u001b[0;32mIn[4], line 6\u001b[0m\n\u001b[1;32m      3\u001b[0m \u001b[38;5;28;01mfrom\u001b[39;00m \u001b[38;5;21;01mutils\u001b[39;00m\u001b[38;5;21;01m.\u001b[39;00m\u001b[38;5;21;01mgeneral_utils\u001b[39;00m \u001b[38;5;28;01mimport\u001b[39;00m build_tokenizer\n\u001b[1;32m      4\u001b[0m \u001b[38;5;28;01mfrom\u001b[39;00m \u001b[38;5;21;01mpathlib\u001b[39;00m \u001b[38;5;28;01mimport\u001b[39;00m Path\n\u001b[0;32m----> 6\u001b[0m \u001b[43mmsp2jsonl\u001b[49m\u001b[43m(\u001b[49m\u001b[43mPath\u001b[49m\u001b[43m(\u001b[49m\u001b[38;5;124;43mf\u001b[39;49m\u001b[38;5;124;43m\"\u001b[39;49m\u001b[38;5;132;43;01m{\u001b[39;49;00m\u001b[43mMACE_DIR\u001b[49m\u001b[38;5;132;43;01m}\u001b[39;49;00m\u001b[38;5;124;43m/MACE_r05.mace\u001b[39;49m\u001b[38;5;124;43m\"\u001b[39;49m\u001b[43m)\u001b[49m\u001b[43m,\u001b[49m\u001b[43m \u001b[49m\u001b[43mdo_preprocess\u001b[49m\u001b[38;5;241;43m=\u001b[39;49m\u001b[38;5;28;43;01mFalse\u001b[39;49;00m\u001b[43m)\u001b[49m\n",
      "File \u001b[0;32m~/gc-ms_bart/clean_paper/notebooks/../utils/spectra_process_utils.py:281\u001b[0m, in \u001b[0;36mmsp2jsonl\u001b[0;34m(path_msp, tokenizer, path_jsonl, keep_spectra, do_preprocess, preprocess_args)\u001b[0m\n\u001b[1;32m    262\u001b[0m \u001b[38;5;250m\u001b[39m\u001b[38;5;124;03m\"\"\"load msp file, preprocess, prepare BART compatible dataframe and save to jsonl file\u001b[39;00m\n\u001b[1;32m    263\u001b[0m \u001b[38;5;124;03m\u001b[39;00m\n\u001b[1;32m    264\u001b[0m \u001b[38;5;124;03mParameters\u001b[39;00m\n\u001b[0;32m   (...)\u001b[0m\n\u001b[1;32m    278\u001b[0m \u001b[38;5;124;03m    dictionary of arguments for the preprocess_spectrum function (max_num_peaks, max_mol_repr_len, max_mz, log_base, log_shift, max_cumsum, mol_representation, source_token)\u001b[39;00m\n\u001b[1;32m    279\u001b[0m \u001b[38;5;124;03m\"\"\"\u001b[39;00m\n\u001b[1;32m    280\u001b[0m \u001b[38;5;28;01massert\u001b[39;00m do_preprocess \u001b[38;5;129;01mand\u001b[39;00m tokenizer \u001b[38;5;129;01mis\u001b[39;00m \u001b[38;5;129;01mnot\u001b[39;00m \u001b[38;5;28;01mNone\u001b[39;00m \u001b[38;5;129;01mor\u001b[39;00m \u001b[38;5;129;01mnot\u001b[39;00m do_preprocess, \u001b[38;5;124m\"\u001b[39m\u001b[38;5;124mIf do_preprocess is True, tokenizer has to be provided\u001b[39m\u001b[38;5;124m\"\u001b[39m\n\u001b[0;32m--> 281\u001b[0m data_msp \u001b[38;5;241m=\u001b[39m \u001b[38;5;28;43mlist\u001b[39;49m\u001b[43m(\u001b[49m\u001b[43mload_from_msp\u001b[49m\u001b[43m(\u001b[49m\u001b[38;5;28;43mstr\u001b[39;49m\u001b[43m(\u001b[49m\u001b[43mpath_msp\u001b[49m\u001b[43m)\u001b[49m\u001b[43m,\u001b[49m\u001b[43m \u001b[49m\u001b[43mmetadata_harmonization\u001b[49m\u001b[38;5;241;43m=\u001b[39;49m\u001b[38;5;28;43;01mFalse\u001b[39;49;00m\u001b[43m)\u001b[49m\u001b[43m)\u001b[49m\n\u001b[1;32m    282\u001b[0m \u001b[38;5;28;01mif\u001b[39;00m do_preprocess:\n\u001b[1;32m    283\u001b[0m     df \u001b[38;5;241m=\u001b[39m preprocess_spectra(data_msp, tokenizer, keep_spectra\u001b[38;5;241m=\u001b[39mkeep_spectra, preprocess_args\u001b[38;5;241m=\u001b[39mpreprocess_args)\n",
      "File \u001b[0;32m~/miniconda3/envs/BARTtrainH100/lib/python3.8/site-packages/matchms/importing/load_from_msp.py:38\u001b[0m, in \u001b[0;36mload_from_msp\u001b[0;34m(filename, metadata_harmonization)\u001b[0m\n\u001b[1;32m      8\u001b[0m \u001b[38;5;28;01mdef\u001b[39;00m \u001b[38;5;21mload_from_msp\u001b[39m(filename: \u001b[38;5;28mstr\u001b[39m,\n\u001b[1;32m      9\u001b[0m                   metadata_harmonization: \u001b[38;5;28mbool\u001b[39m \u001b[38;5;241m=\u001b[39m \u001b[38;5;28;01mTrue\u001b[39;00m) \u001b[38;5;241m-\u001b[39m\u001b[38;5;241m>\u001b[39m Generator[Spectrum, \u001b[38;5;28;01mNone\u001b[39;00m, \u001b[38;5;28;01mNone\u001b[39;00m]:\n\u001b[1;32m     10\u001b[0m \u001b[38;5;250m    \u001b[39m\u001b[38;5;124;03m\"\"\"\u001b[39;00m\n\u001b[1;32m     11\u001b[0m \u001b[38;5;124;03m    MSP file to a :py:class:`~matchms.Spectrum.Spectrum` objects\u001b[39;00m\n\u001b[1;32m     12\u001b[0m \u001b[38;5;124;03m    Function that reads a .msp file and converts the info\u001b[39;00m\n\u001b[0;32m   (...)\u001b[0m\n\u001b[1;32m     36\u001b[0m \u001b[38;5;124;03m        spectrums = list(load_from_msp(file_msp))\u001b[39;00m\n\u001b[1;32m     37\u001b[0m \u001b[38;5;124;03m    \"\"\"\u001b[39;00m\n\u001b[0;32m---> 38\u001b[0m     \u001b[38;5;28;01mfor\u001b[39;00m spectrum \u001b[38;5;129;01min\u001b[39;00m parse_msp_file(filename):\n\u001b[1;32m     39\u001b[0m         \u001b[38;5;28;01myield\u001b[39;00m parse_spectrum_dict(\n\u001b[1;32m     40\u001b[0m             spectrum\u001b[38;5;241m=\u001b[39mspectrum,\n\u001b[1;32m     41\u001b[0m             metadata_harmonization\u001b[38;5;241m=\u001b[39mmetadata_harmonization,\n\u001b[1;32m     42\u001b[0m             spectrum_type \u001b[38;5;241m=\u001b[39m \u001b[38;5;124m\"\u001b[39m\u001b[38;5;124mown\u001b[39m\u001b[38;5;124m\"\u001b[39m\n\u001b[1;32m     43\u001b[0m             )\n",
      "File \u001b[0;32m~/miniconda3/envs/BARTtrainH100/lib/python3.8/site-packages/matchms/importing/load_from_msp.py:81\u001b[0m, in \u001b[0;36mparse_msp_file\u001b[0;34m(filename)\u001b[0m\n\u001b[1;32m     77\u001b[0m peakscount \u001b[38;5;241m+\u001b[39m\u001b[38;5;241m=\u001b[39m \u001b[38;5;28mlen\u001b[39m(mz)\n\u001b[1;32m     80\u001b[0m \u001b[38;5;66;03m# Obtaining the masses and intensities\u001b[39;00m\n\u001b[0;32m---> 81\u001b[0m \u001b[38;5;28;01mif\u001b[39;00m \u001b[38;5;28mint\u001b[39m(\u001b[43mparams\u001b[49m\u001b[43m[\u001b[49m\u001b[38;5;124;43m'\u001b[39;49m\u001b[38;5;124;43mnum peaks\u001b[39;49m\u001b[38;5;124;43m'\u001b[39;49m\u001b[43m]\u001b[49m) \u001b[38;5;241m==\u001b[39m peakscount:\n\u001b[1;32m     82\u001b[0m     peakscount \u001b[38;5;241m=\u001b[39m \u001b[38;5;241m0\u001b[39m\n\u001b[1;32m     83\u001b[0m     \u001b[38;5;28;01myield\u001b[39;00m {\n\u001b[1;32m     84\u001b[0m         \u001b[38;5;124m'\u001b[39m\u001b[38;5;124mparams\u001b[39m\u001b[38;5;124m'\u001b[39m: (params),\n\u001b[1;32m     85\u001b[0m         \u001b[38;5;124m'\u001b[39m\u001b[38;5;124mm/z array\u001b[39m\u001b[38;5;124m'\u001b[39m: masses,\n\u001b[1;32m     86\u001b[0m         \u001b[38;5;124m'\u001b[39m\u001b[38;5;124mintensity array\u001b[39m\u001b[38;5;124m'\u001b[39m: intensities,\n\u001b[1;32m     87\u001b[0m         \u001b[38;5;124m'\u001b[39m\u001b[38;5;124mpeak comments\u001b[39m\u001b[38;5;124m'\u001b[39m: peak_comments\n\u001b[1;32m     88\u001b[0m     }\n",
      "\u001b[0;31mKeyError\u001b[0m: 'num peaks'"
     ]
    }
   ],
   "source": [
    "# prepare MACE data\n",
    "from utils.spectra_process_utils import msp2jsonl\n",
    "from utils.general_utils import build_tokenizer\n",
    "from pathlib import Path\n",
    "\n",
    "msp2jsonl(Path(f\"{MACE_DIR}/MACE_r05.mace\"), do_preprocess=False)"
   ]
  },
  {
   "cell_type": "code",
   "execution_count": 5,
   "metadata": {},
   "outputs": [
    {
     "ename": "ImportError",
     "evalue": "cannot import name 'parse_msp_file' from 'matchms.importing' (/home/xhajek9/miniconda3/envs/BARTtrainH100/lib/python3.8/site-packages/matchms/importing/__init__.py)",
     "output_type": "error",
     "traceback": [
      "\u001b[0;31m---------------------------------------------------------------------------\u001b[0m",
      "\u001b[0;31mImportError\u001b[0m                               Traceback (most recent call last)",
      "Cell \u001b[0;32mIn[5], line 1\u001b[0m\n\u001b[0;32m----> 1\u001b[0m \u001b[38;5;28;01mfrom\u001b[39;00m \u001b[38;5;21;01mmatchms\u001b[39;00m\u001b[38;5;21;01m.\u001b[39;00m\u001b[38;5;21;01mimporting\u001b[39;00m \u001b[38;5;28;01mimport\u001b[39;00m load_from_msp, parse_msp_file\n\u001b[1;32m      3\u001b[0m parse_msp_file(MACE_DIR \u001b[38;5;241m+\u001b[39m \u001b[38;5;124m\"\u001b[39m\u001b[38;5;124m/MACE_r05.mace\u001b[39m\u001b[38;5;124m\"\u001b[39m)\n\u001b[1;32m      4\u001b[0m \u001b[38;5;66;03m# data_msp = list(load_from_msp(MACE_DIR + \"/MACE_r05.mace\", metadata_harmonization=False))\u001b[39;00m\n",
      "\u001b[0;31mImportError\u001b[0m: cannot import name 'parse_msp_file' from 'matchms.importing' (/home/xhajek9/miniconda3/envs/BARTtrainH100/lib/python3.8/site-packages/matchms/importing/__init__.py)"
     ]
    }
   ],
   "source": [
    "from matchms.importing import load_from_msp\n",
    "from load_from_msp import parse_msp_file\n",
    "\n",
    "parse_msp_file(MACE_DIR + \"/MACE_r05.mace\")\n",
    "# data_msp = list(load_from_msp(MACE_DIR + \"/MACE_r05.mace\", metadata_harmonization=False))\n"
   ]
  },
  {
   "cell_type": "code",
   "execution_count": 16,
   "metadata": {},
   "outputs": [
    {
     "data": {
      "text/plain": [
       "'../data/mace'"
      ]
     },
     "execution_count": 16,
     "metadata": {},
     "output_type": "execute_result"
    }
   ],
   "source": [
    "MACE_DIR"
   ]
  },
  {
   "cell_type": "code",
   "execution_count": null,
   "metadata": {},
   "outputs": [],
   "source": []
  }
 ],
 "metadata": {
  "kernelspec": {
   "display_name": "BARTtrainH100",
   "language": "python",
   "name": "python3"
  },
  "language_info": {
   "codemirror_mode": {
    "name": "ipython",
    "version": 3
   },
   "file_extension": ".py",
   "mimetype": "text/x-python",
   "name": "python",
   "nbconvert_exporter": "python",
   "pygments_lexer": "ipython3",
   "version": "3.8.16"
  }
 },
 "nbformat": 4,
 "nbformat_minor": 2
}
