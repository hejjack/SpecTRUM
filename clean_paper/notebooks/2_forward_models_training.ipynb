{
 "cells": [
  {
   "cell_type": "markdown",
   "metadata": {},
   "source": [
    "# Forward model training\n",
    "\n",
    "In this notebook we'll train the forward models NEIMS and RASSP that we use for fenerating syntetic datasets. In order to get through this notebook you first need to have the **python environments** set up (find more in README or the previous notebook). You also need the **NIST library** in the form of a .msp file. "
   ]
  },
  {
   "cell_type": "code",
   "execution_count": 1,
   "metadata": {},
   "outputs": [],
   "source": [
    "import sys \n",
    "sys.path.append('..')"
   ]
  },
  {
   "cell_type": "markdown",
   "metadata": {},
   "source": [
    "## NIST splitting\n",
    "**TODO**"
   ]
  },
  {
   "cell_type": "code",
   "execution_count": 2,
   "metadata": {},
   "outputs": [],
   "source": [
    "nist_train_path = \"data/nist/train.msp\"\n",
    "nist_test_path = \"data/nist/test.msp\"\n",
    "nist_valid_path = \"data/nist/valid.msp\""
   ]
  },
  {
   "cell_type": "markdown",
   "metadata": {},
   "source": [
    "## NEIMS\n",
    "\n",
    "\n",
    "### Conversion to SDF\n",
    "First we need to convert the NIST library to SDF format that is supported by the NEIMS codebase. "
   ]
  },
  {
   "cell_type": "code",
   "execution_count": 3,
   "metadata": {},
   "outputs": [
    {
     "name": "stderr",
     "output_type": "stream",
     "text": [
      "/home/xhajek9/miniconda3/envs/BARTtrainH100/lib/python3.8/site-packages/rdkit/Chem/PandasTools.py:371: SettingWithCopyWarning: \n",
      "A value is trying to be set on a copy of a slice from a DataFrame.\n",
      "Try using .loc[row_indexer,col_indexer] = value instead\n",
      "\n",
      "See the caveats in the documentation: https://pandas.pydata.org/pandas-docs/stable/user_guide/indexing.html#returning-a-view-versus-a-copy\n",
      "  frame[molCol] = frame[smilesCol].map(Chem.MolFromSmiles)\n"
     ]
    }
   ],
   "source": [
    "# takes approximately 15 mins to run\n",
    "from spectra_process_utils import msp2sdf\n",
    "\n",
    "msp2sdf(nist_test_path)\n",
    "msp2sdf(nist_valid_path)\n",
    "msp2sdf(nist_train_path, separate_replicates=True)"
   ]
  },
  {
   "cell_type": "markdown",
   "metadata": {},
   "source": [
    "```bash\n",
    "cd deep-molecular-massspec\n",
    "TARGET_PATH_NAME=tmp/massspec_predictions\n",
    "\n",
    "python make_train_test_split.py --main_sdf_name=../data/nist/train_main.sdf \\\n",
    "                                --replicates_sdf_name=../data/nist/train_replicates.sdf \\\n",
    "                                --output_master_dir=$TARGET_PATH_NAME/spectra_tf_records\n",
    "\n",
    "python molecule_estimator.py --dataset_config_file=$TARGET_PATH_NAME/spectra_tf_records/query_replicates_val_predicted_replicates_val.json \\\n",
    "                             --train_steps=100000 \\\n",
    "                             --model_dir=$TARGET_PATH_NAME/models/output \\\n",
    "                             --hparams=make_spectra_plots=True,batch_size=100 \\\n",
    "                             --alsologtostderr\n",
    "\n",
    "```"
   ]
  },
  {
   "cell_type": "code",
   "execution_count": 4,
   "metadata": {},
   "outputs": [
    {
     "name": "stdout",
     "output_type": "stream",
     "text": [
      "\n",
      "CommandNotFoundError: Your shell has not been properly configured to use 'conda activate'.\n",
      "To initialize your shell, run\n",
      "\n",
      "    $ conda init <SHELL_NAME>\n",
      "\n",
      "Currently supported shells are:\n",
      "  - bash\n",
      "  - fish\n",
      "  - tcsh\n",
      "  - xonsh\n",
      "  - zsh\n",
      "  - powershell\n",
      "\n",
      "See 'conda init --help' for more information and options.\n",
      "\n",
      "IMPORTANT: You may need to close and restart your shell after running 'conda init'.\n",
      "\n",
      "\n"
     ]
    }
   ],
   "source": [
    "conda activate NEIMSpy3 && python make_train_test_split.py --main_sdf_name=../data/nist/train_main.sdf --replicates_sdf_name=../data/nist/train_replicates.sdf --output_master_dir=$TARGET_PATH_NAME/spectra_tf_records"
   ]
  },
  {
   "cell_type": "code",
   "execution_count": null,
   "metadata": {},
   "outputs": [],
   "source": []
  },
  {
   "cell_type": "code",
   "execution_count": null,
   "metadata": {},
   "outputs": [],
   "source": []
  },
  {
   "cell_type": "markdown",
   "metadata": {},
   "source": []
  },
  {
   "cell_type": "markdown",
   "metadata": {},
   "source": [
    "## RASSP"
   ]
  },
  {
   "cell_type": "code",
   "execution_count": null,
   "metadata": {},
   "outputs": [],
   "source": []
  }
 ],
 "metadata": {
  "kernelspec": {
   "display_name": "BARTtrainH100",
   "language": "python",
   "name": "python3"
  },
  "language_info": {
   "codemirror_mode": {
    "name": "ipython",
    "version": 3
   },
   "file_extension": ".py",
   "mimetype": "text/x-python",
   "name": "python",
   "nbconvert_exporter": "python",
   "pygments_lexer": "ipython3",
   "version": "3.8.16"
  }
 },
 "nbformat": 4,
 "nbformat_minor": 2
}
