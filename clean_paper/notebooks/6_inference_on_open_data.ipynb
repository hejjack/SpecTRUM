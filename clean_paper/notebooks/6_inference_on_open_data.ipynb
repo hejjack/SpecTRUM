{
 "cells": [
  {
   "cell_type": "markdown",
   "metadata": {},
   "source": [
    "# Model inference on open-source data\n",
    "\n",
    "This notebook is a simple example of how to load a trained model and make predictions on a publicly available dataset. The model we're working with was trained using the scripts in notebook [4_backward_model_training.ipynb](4_backward_model_training.ipynb)."
   ]
  },
  {
   "cell_type": "markdown",
   "metadata": {},
   "source": [
    "## Load data\n",
    "For the purpose of inference we download a small open-source dataset unrelated with any data we've used so far. It is a [MACE](https://leopard.tu-braunschweig.de/receive/dbbs_mods_00076224) dataset with compounds not included in the NIST17 dataset. Some of them are in NIST20 though."
   ]
  },
  {
   "cell_type": "code",
   "execution_count": 21,
   "metadata": {},
   "outputs": [],
   "source": [
    "import sys\n",
    "sys.path.append('..')"
   ]
  },
  {
   "cell_type": "code",
   "execution_count": 22,
   "metadata": {},
   "outputs": [],
   "source": [
    "MACE_DIR = \"../data/mace\"\n",
    "CHECKPOINT_DIR = \"../../checkpoints/finetune/fearless-wildflower-490_rassp1_neims1_224kPretrain_148k/checkpoint-147476\"\n",
    "TOKENIZER_PATH = \"../tokenizer/tokenizer_mf10M.model\""
   ]
  },
  {
   "cell_type": "code",
   "execution_count": 23,
   "metadata": {},
   "outputs": [
    {
     "name": "stdout",
     "output_type": "stream",
     "text": [
      "--2024-08-31 20:34:14--  https://leopard.tu-braunschweig.de/servlets/MCRFileNodeServlet/dbbs_derivate_00054495/MACE_r05.mace\n",
      "Resolving leopard.tu-braunschweig.de (leopard.tu-braunschweig.de)... 193.174.240.199\n",
      "Connecting to leopard.tu-braunschweig.de (leopard.tu-braunschweig.de)|193.174.240.199|:443... connected.\n",
      "HTTP request sent, awaiting response... 200 200\n",
      "Length: unspecified\n",
      "Saving to: 'MACE_r05.mace.1'\n",
      "\n",
      "MACE_r05.mace.1         [ <=>                ] 344.82K  --.-KB/s    in 0.09s   \n",
      "\n",
      "2024-08-31 20:34:15 (3.82 MB/s) - 'MACE_r05.mace.1' saved [353094]\n",
      "\n"
     ]
    }
   ],
   "source": [
    "# download MACE data\n",
    "! cd {MACE_DIR} && wget https://leopard.tu-braunschweig.de/servlets/MCRFileNodeServlet/dbbs_derivate_00054495/MACE_r05.mace\n",
    "\n",
    "mace_path = f\"{MACE_DIR}/MACE_r05.mace\""
   ]
  },
  {
   "cell_type": "code",
   "execution_count": 137,
   "metadata": {},
   "outputs": [],
   "source": [
    "# the format of the MACE data is a bit inconsistent (because of the open-source nature), so we wrote our own .msp reader for this dataset \n",
    "import requests\n",
    "import pandas as pd\n",
    "from rich import progress\n",
    "import re\n",
    "from pathlib import Path\n",
    "\n",
    "from utils.spectra_process_utils import remove_stereochemistry_and_canonicalize\n",
    "\n",
    "\n",
    "def get_smiles_from_inchikey(inchikey):\n",
    "    r = requests.get(f'https://pubchem.ncbi.nlm.nih.gov/rest/pug/compound/inchikey/{inchikey}/property/CanonicalSMILES/JSON').json()    \n",
    "    return r['PropertyTable']['Properties'][0]['CanonicalSMILES']\n",
    "\n",
    "def parse_mz_intensity(f, num_peaks):\n",
    "    mz = []\n",
    "    intensity = []\n",
    "    line = next(f)\n",
    "    while line.strip() != \"\":\n",
    "        line_peaks = [peak.strip().split(\" \") for peak in re.split(\";|:\", line.strip())]\n",
    "        for peak in line_peaks:\n",
    "            if peak == ['']:\n",
    "                continue\n",
    "            peak = [peak_ for peak_ in peak if peak_ != '']\n",
    "            mz_, intensity_ = peak\n",
    "            mz.append(float(mz_))\n",
    "            intensity.append(float(intensity_))\n",
    "        try:\n",
    "            line = next(f)\n",
    "        except StopIteration:\n",
    "            break\n",
    "    if num_peaks != len(mz):\n",
    "        num_peaks = len(mz)\n",
    "    \n",
    "    # sort peaks\n",
    "    mz, intensity = zip(*sorted(zip(mz, intensity), key=lambda x: x[0]))\n",
    "\n",
    "    return list(mz), list(intensity), num_peaks\n",
    "\n",
    "\n",
    "def read_mace_msp(filename):\n",
    "    \"\"\"Iterate over MSP spectral library file and return spectra as dicts.\"\"\"\n",
    "    spectrum = {}\n",
    "    mz = []\n",
    "    intensity = []\n",
    "\n",
    "    with progress.open(filename, \"rt\") as f:\n",
    "        for line in f:\n",
    "            # `Name: ` is the first line of a new entry in the file\n",
    "            if line.startswith(\"Name: \"):\n",
    "                if spectrum:\n",
    "                    # Finalize and yield previous spectrum\n",
    "                    yield spectrum\n",
    "\n",
    "                    # Define new spectrum\n",
    "                    spectrum = {}\n",
    "                    mz = []\n",
    "                    intensity = []\n",
    "\n",
    "                # Extract everything after `Name: `\n",
    "                spectrum[\"Name\"] = line.split(\":\")[1].strip()\n",
    "\n",
    "\n",
    "            elif line.startswith(\"Comments: \"):\n",
    "                # Parse all comment items as metadata\n",
    "                metadata_string = \"\".join(line.split(\":\")[1:]).strip()\n",
    "                metadata = [i.split(\"=\") for i in metadata_string.split(\" \")]\n",
    "                \n",
    "                for item in metadata:\n",
    "                    item = [i.strip() for i in item]\n",
    "                    if item[0] == \"Smiles\":\n",
    "                        spectrum[\"smiles\"] = \"\".join(item[1:]) \n",
    "                    elif len(item) == 2:\n",
    "                        spectrum[item[0]] = item[1]\n",
    "\n",
    "            elif line.startswith(\"InChIKey: \"):\n",
    "                spectrum[\"InChIKey\"] = line.split(\":\")[1].strip()\n",
    "                \n",
    "            elif line.startswith(\"Num Peaks:\") or line.startswith(\"Num peaks:\"):\n",
    "                num_peaks = int(line.split(\":\")[1].strip())\n",
    "                mz, intensity, num_peaks_  = parse_mz_intensity(f, num_peaks)   \n",
    "\n",
    "                spectrum[\"num_peaks\"] = num_peaks_\n",
    "                spectrum[\"mz\"] = mz\n",
    "                spectrum[\"intensity\"] = intensity \n",
    "                \n",
    "    # Final spectrum\n",
    "    yield spectrum\n",
    "\n",
    "def remove_corrupted_spectra(spectra):\n",
    "    clean_spectra = []\n",
    "    for s in spectra:\n",
    "        if not s.get(\"mz\", False) or not s.get(\"intensity\", False):\n",
    "            continue\n",
    "        \n",
    "        s[\"smiles\"] = remove_stereochemistry_and_canonicalize(s[\"smiles\"])\n",
    "        if not s.get(\"smiles\", False) or not s[\"smiles\"]:\n",
    "            try:\n",
    "                smi = get_smiles_from_inchikey(s[\"InChIKey\"])\n",
    "                s[\"smiles\"] = remove_stereochemistry_and_canonicalize(smi)\n",
    "                if not s[\"smiles\"]:\n",
    "                    continue\n",
    "            except:\n",
    "                continue\n",
    "        clean_spectra.append(s) \n",
    "    return clean_spectra\n",
    "\n",
    "\n",
    "def save_mace_jsonl(spectra, out_path):\n",
    "    mzs = [s[\"mz\"] for s in spectra]\n",
    "    intensities = [s[\"intensity\"] for s in spectra]\n",
    "    canon_smiless = [s[\"smiles\"] for s in spectra]\n",
    "    df = pd.DataFrame({\"mz\": mzs, \"intensity\": intensities, \"smiles\": canon_smiless})\n",
    "    df.to_json(out_path, orient=\"records\", lines=True)"
   ]
  },
  {
   "cell_type": "code",
   "execution_count": 138,
   "metadata": {},
   "outputs": [
    {
     "data": {
      "application/vnd.jupyter.widget-view+json": {
       "model_id": "ceea47695cba4676b0e0a2afe6852a56",
       "version_major": 2,
       "version_minor": 0
      },
      "text/plain": [
       "Output()"
      ]
     },
     "metadata": {},
     "output_type": "display_data"
    },
    {
     "data": {
      "text/html": [
       "<pre style=\"white-space:pre;overflow-x:auto;line-height:normal;font-family:Menlo,'DejaVu Sans Mono',consolas,'Courier New',monospace\"></pre>\n"
      ],
      "text/plain": []
     },
     "metadata": {},
     "output_type": "display_data"
    },
    {
     "name": "stderr",
     "output_type": "stream",
     "text": [
      "[10:34:43] SMILES Parse Error: syntax error while parsing: OC1OC[C@@H](C)CCC/C(C)C\\CC[C@H]1C;\n",
      "[10:34:43] SMILES Parse Error: Failed parsing SMILES 'OC1OC[C@@H](C)CCC/C(C)C\\CC[C@H]1C;' for input: 'OC1OC[C@@H](C)CCC/C(C)C\\CC[C@H]1C;'\n"
     ]
    },
    {
     "name": "stdout",
     "output_type": "stream",
     "text": [
      "Smiles OC1OC[C@@H](C)CCC/C(C)C\\CC[C@H]1C; is not valid.\n"
     ]
    },
    {
     "name": "stderr",
     "output_type": "stream",
     "text": [
      "[10:34:44] SMILES Parse Error: syntax error while parsing: OC1OC[C@H](C)CCC/C(C)C/CC[C@H]1C;\n",
      "[10:34:44] SMILES Parse Error: Failed parsing SMILES 'OC1OC[C@H](C)CCC/C(C)C/CC[C@H]1C;' for input: 'OC1OC[C@H](C)CCC/C(C)C/CC[C@H]1C;'\n"
     ]
    },
    {
     "name": "stdout",
     "output_type": "stream",
     "text": [
      "Smiles OC1OC[C@H](C)CCC/C(C)C/CC[C@H]1C; is not valid.\n"
     ]
    },
    {
     "name": "stderr",
     "output_type": "stream",
     "text": [
      "[10:34:44] SMILES Parse Error: syntax error while parsing: OC1OC[C@H](C)CCC/C(C)C\\CC[C@H]1C;\n",
      "[10:34:44] SMILES Parse Error: Failed parsing SMILES 'OC1OC[C@H](C)CCC/C(C)C\\CC[C@H]1C;' for input: 'OC1OC[C@H](C)CCC/C(C)C\\CC[C@H]1C;'\n"
     ]
    },
    {
     "name": "stdout",
     "output_type": "stream",
     "text": [
      "Smiles OC1OC[C@H](C)CCC/C(C)C\\CC[C@H]1C; is not valid.\n"
     ]
    },
    {
     "name": "stderr",
     "output_type": "stream",
     "text": [
      "[10:34:44] SMILES Parse Error: extra open parentheses for input: 'OC(C(NC(CCC(C)CO)COC(CCCCC)O)OC'\n"
     ]
    },
    {
     "name": "stdout",
     "output_type": "stream",
     "text": [
      "Smiles OC(C(NC(CCC(C)CO)COC(CCCCC)O)OC is not valid.\n"
     ]
    },
    {
     "data": {
      "text/html": [
       "<pre style=\"white-space:pre;overflow-x:auto;line-height:normal;font-family:Menlo,'DejaVu Sans Mono',consolas,'Courier New',monospace\">Extracted: <span style=\"color: #008080; text-decoration-color: #008080; font-weight: bold\">248</span> spectra from MACE database\n",
       "</pre>\n"
      ],
      "text/plain": [
       "Extracted: \u001b[1;36m248\u001b[0m spectra from MACE database\n"
      ]
     },
     "metadata": {},
     "output_type": "display_data"
    }
   ],
   "source": [
    "mace_jsonl_path = f\"{Path(mace_path).with_suffix('.jsonl')}\"\n",
    "\n",
    "spectra = list(read_mace_msp(mace_path))\n",
    "clean_spectra = remove_corrupted_spectra(spectra)\n",
    "save_mace_jsonl(clean_spectra, mace_jsonl_path)\n",
    "\n",
    "print(f\"Extracted: {len(clean_spectra)} spectra from MACE database\")"
   ]
  },
  {
   "cell_type": "markdown",
   "metadata": {},
   "source": [
    "## Generate predictions\n",
    "\n",
    "Now we have the MACE dataset prepared the same way as all our NIST splits and can continue to predicting molecules from spectra.\n",
    "\n",
    "To generate predictions we need to specify a configuration file and a path to the trained model. The configuration file for MACE dataset is provided in the `config` directory as [predict_mace.yaml](../configs/predict_mace.yaml). \n",
    "\n",
    "The script [predict.py](../predict.py) is used to generate predictions. It takes a `jsonl` file with `mz` and `intensity` fields as inputs. It outputs a `jsonl` file where each line is a `json` with keys being the generated SMILES strings and their values are candidates' probabilities generated by our model. We use these probabilities to sort candidates.\n",
    "\n",
    "Statistics and all metadata about the run are stored in `log_file.yaml` in the same directory as the predictions.\n",
    "\n",
    "Running `predict.py` could look like this:\n",
    "\n",
    "```bash\n",
    "CUDA_VISIBLE_DEVICES=0 python ../predict.py --checkpoint ../checkpoints/finetune/fearless-wildflower-490_rassp1_neims1_224kPretrain_148k/checkpoint-147476 \\\n",
    "                                            --output-folder predictions \\\n",
    "                                            --config-file configs/predict_mace.yaml\n",
    "```"
   ]
  },
  {
   "cell_type": "markdown",
   "metadata": {},
   "source": [
    "## Evaluate predictions\n",
    "Evaluation of predictions is done with the [evaluate_predictions.py](../evaluate_predictions.py) script. It takes a path to the predictions file, a path to the ground truth file and a path to a [config file](../configs/evaluate_mace.yaml) as input and appends all the evaluation metrics to the corresponding `log_file.yaml`. The script also generates several plots and saves them in the same directory as the predictions.\n",
    "\n",
    "**Note**: Be aware of filtering mechanism in the datapipeline - we use both m/z values and SMILES strings for filtering and perform filtering during both generation and evaluation stages. If you have your spectra and labels in two separate files you easily end up with different lengths of predictions-labels lists or paired predictions with wrong labels. Also be sure to have the same filtering criteria specified in config files during prediction and evaluation. **In other words**: have your labels (\"smiles\") and spectra (\"mz\", \"intensity\") in the same file when evaluating a test file. Also check the values of `max_num_peaks`, `max_mz`, `max_mol_repr_len` and `mol_repr` in the config files. They should be the same for both prediction and evaluation.\n",
    "\n",
    "Running `evaluate_predictions.py` could look like this:\n",
    "\n",
    "```bash\n",
    "python evaluate_predictions.py --predictions-path predictions/fearless-wildflower-490_rassp1_neims1_224kPretrain_148k/MACE/1725179758_all_full_beam10/predictions.jsonl \\\n",
    "                               --labels-path data/mace/MACE_r05.jsonl \\\n",
    "                               --config-file configs/evaluate_mace.yaml\n",
    "```\n",
    "\n",
    "As you may notice from the `log_file`, performance on this dataset is significantly lower than on the NIST datasets. We will explore the reasons later during the analysis and we'll take a look at the predictions in context with the standard database search.\n"
   ]
  },
  {
   "cell_type": "markdown",
   "metadata": {},
   "source": [
    "## Comparison with database search\n",
    "To find out how is the model doing against baseline you can also run the evluation in comparison with a standard database search in the de novo scenario. As a reference library we use the NIST train set with 232 025 experimentally measured spectra, and query library is the MACE dataset with 244 spectra. \n",
    "\n",
    "For this scenario to work we need to precompute the highest cosine similarity of the query spectra within the reference library and their respective SMILES (fingerprint) similarity. This fingerprint similarity is then compared to the similarity of our model's candidates.\n",
    "\n",
    "First we check whether there is an overlap between the MACE dataset and our NIST20 train split. "
   ]
  },
  {
   "cell_type": "code",
   "execution_count": 142,
   "metadata": {},
   "outputs": [],
   "source": [
    "# load NIST train SMILES\n",
    "nist_train_smi_path = \"../data/nist/train.smi\"\n",
    "nist_train_smiles = [line.strip() for line in open(nist_train_smi_path).readlines()]"
   ]
  },
  {
   "cell_type": "code",
   "execution_count": 153,
   "metadata": {},
   "outputs": [
    {
     "name": "stderr",
     "output_type": "stream",
     "text": [
      "/home/xhajek9/miniconda3/envs/BARTtrainH100/lib/python3.8/site-packages/torch/utils/data/datapipes/utils/common.py:137: UserWarning: Local function is not supported by pickle, please use regular python function or functools.partial instead.\n",
      "  warnings.warn(\n"
     ]
    },
    {
     "data": {
      "text/html": [
       "<pre style=\"white-space:pre;overflow-x:auto;line-height:normal;font-family:Menlo,'DejaVu Sans Mono',consolas,'Courier New',monospace\"><span style=\"color: #008080; text-decoration-color: #008080; font-weight: bold\">178</span>/<span style=\"color: #008080; text-decoration-color: #008080; font-weight: bold\">244</span> molecules are unique, there is <span style=\"color: #008080; text-decoration-color: #008080; font-weight: bold\">20</span> unique overlapping molecules\n",
       "</pre>\n"
      ],
      "text/plain": [
       "\u001b[1;36m178\u001b[0m/\u001b[1;36m244\u001b[0m molecules are unique, there is \u001b[1;36m20\u001b[0m unique overlapping molecules\n"
      ]
     },
     "metadata": {},
     "output_type": "display_data"
    }
   ],
   "source": [
    "# check how many MACE spectra are in NIST train\n",
    "from utils.eval_utils import load_labels_to_datapipe\n",
    "\n",
    "labels, _ = load_labels_to_datapipe(Path(mace_jsonl_path))\n",
    "labels = list(labels)\n",
    "\n",
    "set_nist_train = set(nist_train_smiles)\n",
    "set_mace = set(labels)\n",
    "overlap = set_nist_train.intersection(set_mace) # 20/248 molecules are in the reference database => its easier for our competitor \n",
    "\n",
    "print(f\"{len(set_mace)}/{len(labels)} molecules are unique, there is {len(overlap)} unique overlapping molecules\")"
   ]
  },
  {
   "cell_type": "markdown",
   "metadata": {},
   "source": [
    "We see that there is certain overlap between the MACE dataset and the reference library but we will leave it there so we can further analyze it in the end of this notebook."
   ]
  },
  {
   "cell_type": "markdown",
   "metadata": {},
   "source": [
    "### Precompute similarity index for MACE\n",
    "\n",
    "```bash\n",
    "SPLIT_NAME=all\n",
    "FP_TYPE=morgan\n",
    "SIMIL_FUN=tanimoto\n",
    "\n",
    "python ../precompute_db_index.py \\\n",
    "           --reference data/nist/train.jsonl \\\n",
    "           --query data/mace/MACE_r05.jsonl \\\n",
    "           --outfile data/mace/MACE_r05_with_db_index.jsonl \\\n",
    "           --num_processes 8 \\\n",
    "           --fingerprint_type ${FP_TYPE} \\\n",
    "           --simil_function ${SIMIL_FUN}\n",
    "```"
   ]
  },
  {
   "cell_type": "markdown",
   "metadata": {},
   "source": [
    "### Evaluate including database search comparison\n",
    "For this you have to set `do_db_search` in [evaluate_mace.yaml](../configs/evaluate_mace.yaml) to `True` and change the labels to the ones enriched with db index.\n",
    "\n",
    "Example:\n",
    "```bash\n",
    "python evaluate_predictions.py --predictions-path predictions/fearless-wildflower-490_rassp1_neims1_224kPretrain_148k/MACE/1725179758_all_full_beam10/predictions.jsonl \\\n",
    "                               --labels-path data/mace/MACE_r05_with_db_index.jsonl \\\n",
    "                               --config-file configs/evaluate_mace.yaml\n",
    "```\n",
    "\n",
    "The results of the "
   ]
  },
  {
   "cell_type": "markdown",
   "metadata": {},
   "source": [
    "-----------------------------------------------\n",
    "# Playground\n",
    "## Visualize predictions\n",
    "To see what the model's predictions look like we prepared a little visualization script. You can notice that the MACE molecules often contain mainly long sequences of carbons and hydrogens which are very hard to recunstruct after it's shattered into pieces by the MS. Also the atom variability is much lower than in the NIST datasets."
   ]
  },
  {
   "cell_type": "code",
   "execution_count": 155,
   "metadata": {},
   "outputs": [],
   "source": [
    "import json\n",
    "from rdkit import Chem, DataStructs\n",
    "\n",
    "# load labels and predictions\n",
    "predictions_path = \"../predictions/fearless-wildflower-490_rassp1_neims1_224kPretrain_148k/MACE/1725179758_all_full_beam10/predictions.jsonl\"\n",
    "labels_path = mace_jsonl_path\n",
    "\n",
    "\n",
    "labels, _ = load_labels_to_datapipe(Path(labels_path))\n",
    "labels = list(labels)\n",
    "str_predictions = open(predictions_path).readlines()\n",
    "dict_predictions = [json.loads(p) for p in str_predictions]\n",
    "sorted_predictions = [sorted([k for k, _ in sorted(pred.items(), key=lambda x: x[1])]) for pred in dict_predictions]\n"
   ]
  },
  {
   "cell_type": "code",
   "execution_count": 158,
   "metadata": {},
   "outputs": [
    {
     "data": {
      "text/html": [
       "<pre style=\"white-space:pre;overflow-x:auto;line-height:normal;font-family:Menlo,'DejaVu Sans Mono',consolas,'Courier New',monospace\">\n",
       "##################\n",
       "</pre>\n"
      ],
      "text/plain": [
       "\n",
       "##################\n"
      ]
     },
     "metadata": {},
     "output_type": "display_data"
    },
    {
     "data": {
      "text/html": [
       "<pre style=\"white-space:pre;overflow-x:auto;line-height:normal;font-family:Menlo,'DejaVu Sans Mono',consolas,'Courier New',monospace\">GT smiles: CCCCCCCCCCC1OC1CCCCCCCCC\n",
       "</pre>\n"
      ],
      "text/plain": [
       "GT smiles: CCCCCCCCCCC1OC1CCCCCCCCC\n"
      ]
     },
     "metadata": {},
     "output_type": "display_data"
    },
    {
     "data": {
      "image/png": "[encoded data removed]",
      "text/plain": [
       "<rdkit.Chem.rdchem.Mol at 0x7f755268fac0>"
      ]
     },
     "metadata": {},
     "output_type": "display_data"
    },
    {
     "data": {
      "text/html": [
       "<pre style=\"white-space:pre;overflow-x:auto;line-height:normal;font-family:Menlo,'DejaVu Sans Mono',consolas,'Courier New',monospace\">Prediction <span style=\"color: #008080; text-decoration-color: #008080; font-weight: bold\">0</span>: <span style=\"color: #808000; text-decoration-color: #808000\">CCCCC</span>=<span style=\"color: #800080; text-decoration-color: #800080\">CCC1OC1CC</span>=CCCCCCCCCC, similarity: <span style=\"color: #008080; text-decoration-color: #008080; font-weight: bold\">0.4125874125874126</span>\n",
       "</pre>\n"
      ],
      "text/plain": [
       "Prediction \u001b[1;36m0\u001b[0m: \u001b[33mCCCCC\u001b[0m=\u001b[35mCCC1OC1CC\u001b[0m=CCCCCCCCCC, similarity: \u001b[1;36m0.4125874125874126\u001b[0m\n"
      ]
     },
     "metadata": {},
     "output_type": "display_data"
    },
    {
     "data": {
      "image/png": "[encoded data removed]",
      "text/plain": [
       "<rdkit.Chem.rdchem.Mol at 0x7f755268f580>"
      ]
     },
     "metadata": {},
     "output_type": "display_data"
    },
    {
     "data": {
      "text/html": [
       "<pre style=\"white-space:pre;overflow-x:auto;line-height:normal;font-family:Menlo,'DejaVu Sans Mono',consolas,'Courier New',monospace\">Prediction <span style=\"color: #008080; text-decoration-color: #008080; font-weight: bold\">1</span>: <span style=\"color: #808000; text-decoration-color: #808000\">CCCCCC</span>=<span style=\"color: #800080; text-decoration-color: #800080\">CC1OC1CC</span>=CCCCCCCCCC, similarity: <span style=\"color: #008080; text-decoration-color: #008080; font-weight: bold\">0.30994152046783624</span>\n",
       "</pre>\n"
      ],
      "text/plain": [
       "Prediction \u001b[1;36m1\u001b[0m: \u001b[33mCCCCCC\u001b[0m=\u001b[35mCC1OC1CC\u001b[0m=CCCCCCCCCC, similarity: \u001b[1;36m0.30994152046783624\u001b[0m\n"
      ]
     },
     "metadata": {},
     "output_type": "display_data"
    },
    {
     "data": {
      "image/png": "[encoded data removed]",
      "text/plain": [
       "<rdkit.Chem.rdchem.Mol at 0x7f755278cdd0>"
      ]
     },
     "metadata": {},
     "output_type": "display_data"
    },
    {
     "data": {
      "text/html": [
       "<pre style=\"white-space:pre;overflow-x:auto;line-height:normal;font-family:Menlo,'DejaVu Sans Mono',consolas,'Courier New',monospace\">Prediction <span style=\"color: #008080; text-decoration-color: #008080; font-weight: bold\">2</span>: <span style=\"color: #808000; text-decoration-color: #808000\">CCCCCC</span>=<span style=\"color: #800080; text-decoration-color: #800080\">CCC</span>=<span style=\"color: #800080; text-decoration-color: #800080; font-weight: bold\">CCC</span><span style=\"font-weight: bold\">(</span>O<span style=\"font-weight: bold\">)</span>CCCCCCCCC, similarity: <span style=\"color: #008080; text-decoration-color: #008080; font-weight: bold\">0.3458646616541353</span>\n",
       "</pre>\n"
      ],
      "text/plain": [
       "Prediction \u001b[1;36m2\u001b[0m: \u001b[33mCCCCCC\u001b[0m=\u001b[35mCCC\u001b[0m=\u001b[1;35mCCC\u001b[0m\u001b[1m(\u001b[0mO\u001b[1m)\u001b[0mCCCCCCCCC, similarity: \u001b[1;36m0.3458646616541353\u001b[0m\n"
      ]
     },
     "metadata": {},
     "output_type": "display_data"
    },
    {
     "data": {
      "image/png": "[encoded data removed]",
      "text/plain": [
       "<rdkit.Chem.rdchem.Mol at 0x7f755268f350>"
      ]
     },
     "metadata": {},
     "output_type": "display_data"
    },
    {
     "data": {
      "text/html": [
       "<pre style=\"white-space:pre;overflow-x:auto;line-height:normal;font-family:Menlo,'DejaVu Sans Mono',consolas,'Courier New',monospace\">Prediction <span style=\"color: #008080; text-decoration-color: #008080; font-weight: bold\">3</span>: <span style=\"color: #808000; text-decoration-color: #808000\">CCCCCC</span>=<span style=\"color: #800080; text-decoration-color: #800080\">CCC</span>=CCC1OC1CCCCCCCC, similarity: <span style=\"color: #008080; text-decoration-color: #008080; font-weight: bold\">0.5228758169934641</span>\n",
       "</pre>\n"
      ],
      "text/plain": [
       "Prediction \u001b[1;36m3\u001b[0m: \u001b[33mCCCCCC\u001b[0m=\u001b[35mCCC\u001b[0m=CCC1OC1CCCCCCCC, similarity: \u001b[1;36m0.5228758169934641\u001b[0m\n"
      ]
     },
     "metadata": {},
     "output_type": "display_data"
    },
    {
     "data": {
      "image/png": "[encoded data removed]",
      "text/plain": [
       "<rdkit.Chem.rdchem.Mol at 0x7f755278cdd0>"
      ]
     },
     "metadata": {},
     "output_type": "display_data"
    },
    {
     "data": {
      "text/html": [
       "<pre style=\"white-space:pre;overflow-x:auto;line-height:normal;font-family:Menlo,'DejaVu Sans Mono',consolas,'Courier New',monospace\">Prediction <span style=\"color: #008080; text-decoration-color: #008080; font-weight: bold\">4</span>: <span style=\"color: #808000; text-decoration-color: #808000\">CCCCCC</span>=<span style=\"color: #800080; text-decoration-color: #800080\">CCC</span>=<span style=\"color: #800080; text-decoration-color: #800080; font-weight: bold\">CCCC</span><span style=\"font-weight: bold\">(</span>=O<span style=\"font-weight: bold\">)</span>CCCCCCCC, similarity: <span style=\"color: #008080; text-decoration-color: #008080; font-weight: bold\">0.11038961038961038</span>\n",
       "</pre>\n"
      ],
      "text/plain": [
       "Prediction \u001b[1;36m4\u001b[0m: \u001b[33mCCCCCC\u001b[0m=\u001b[35mCCC\u001b[0m=\u001b[1;35mCCCC\u001b[0m\u001b[1m(\u001b[0m=O\u001b[1m)\u001b[0mCCCCCCCC, similarity: \u001b[1;36m0.11038961038961038\u001b[0m\n"
      ]
     },
     "metadata": {},
     "output_type": "display_data"
    },
    {
     "data": {
      "image/png": "[encoded data removed]",
      "text/plain": [
       "<rdkit.Chem.rdchem.Mol at 0x7f755268fa50>"
      ]
     },
     "metadata": {},
     "output_type": "display_data"
    }
   ],
   "source": [
    "pairs_to_viz = list(zip(labels, sorted_predictions))[142]  # TODO: change this to visualize different pairs\n",
    "best_n_to_viz = 5                                         # TODO: change this to visualize more/less predictions\n",
    "\n",
    "if isinstance(pairs_to_viz, tuple):\n",
    "    pairs_to_viz = [pairs_to_viz]\n",
    "\n",
    "for gt_smiles, preds in pairs_to_viz:\n",
    "    print(\"\\n##################\")\n",
    "    print(\"GT smiles:\", gt_smiles)\n",
    "    gt_mol = Chem.MolFromSmiles(gt_smiles)\n",
    "    display(gt_mol)\n",
    "    for i, pred_smiles in enumerate(preds[:best_n_to_viz]):\n",
    "        pred_mol = Chem.MolFromSmiles(pred_smiles)\n",
    "        print(f\"Prediction {i}: {pred_smiles}, similarity: {DataStructs.FingerprintSimilarity(Chem.RDKFingerprint(gt_mol), Chem.RDKFingerprint(pred_mol))}\")\n",
    "        display(pred_mol)"
   ]
  },
  {
   "cell_type": "markdown",
   "metadata": {},
   "source": [
    "## Analyze performance compared to DB search\n",
    "Here we briefly analyze the performance of the DB baseline compared to the best predictions of our model (the similsort mode).If you want to see only the compounds overlapping between the MACE dataset and the reference library, set `ONLY_OVERLAP` to `True`. "
   ]
  },
  {
   "cell_type": "code",
   "execution_count": 204,
   "metadata": {},
   "outputs": [],
   "source": [
    "from  utils.data_utils import filter_datapoints\n",
    "from metrics import compute_fp_simils \n",
    "\n",
    "overlap # defined during DB sarch evaluation\n",
    "sorted_predictions # defined during visualization\n",
    "nist_train_jsonl_path = \"../data/nist/train.jsonl\"\n",
    "mace_jsonl_precomputed_path = \"../data/mace/MACE_r05_with_db_index.jsonl\"\n",
    "\n",
    "df_reference = pd.read_json(nist_train_jsonl_path, lines=True, orient=\"records\")\n",
    "df_labels = pd.read_json(mace_jsonl_precomputed_path, lines=True, orient=\"records\")\n",
    "\n",
    "# filter labels as in the generation process\n",
    "labels_mask = df_labels.apply(lambda row: filter_datapoints(row, preprocess_args={\"max_num_peaks\": 300, \n",
    "                                                                                  \"max_mz\":500, \n",
    "                                                                                  \"max_mol_repr_len\": 100, \n",
    "                                                                                  \"mol_repr\": \"smiles\"}), axis=1)\n",
    "\n",
    "df_labels_filtered = df_labels[labels_mask]"
   ]
  },
  {
   "cell_type": "code",
   "execution_count": 206,
   "metadata": {},
   "outputs": [
    {
     "name": "stderr",
     "output_type": "stream",
     "text": [
      "/tmp/ipykernel_1284697/860589938.py:9: SettingWithCopyWarning: \n",
      "A value is trying to be set on a copy of a slice from a DataFrame.\n",
      "Try using .loc[row_indexer,col_indexer] = value instead\n",
      "\n",
      "See the caveats in the documentation: https://pandas.pydata.org/pandas-docs/stable/user_guide/indexing.html#returning-a-view-versus-a-copy\n",
      "  df_labels_filtered[\"predictions\"] = sorted_predictions\n"
     ]
    }
   ],
   "source": [
    "# prepare all the SMILES and similarities\n",
    "ONLY_OVERLAP = True\n",
    "\n",
    "def find_best_prediction(predictions, gt_smiles):\n",
    "    simils = compute_fp_simils(predictions, [gt_smiles]*len(predictions))\n",
    "    max_simil = max(simils)\n",
    "    best_prediction = predictions[simils.index(max_simil)]\n",
    "    return best_prediction, max_simil\n",
    "\n",
    "df_labels_filtered[\"predictions\"] = sorted_predictions\n",
    "\n",
    "\n",
    "overlapped_mask = df_labels_filtered[\"smiles\"].isin(overlap)\n",
    "df_labels_filtered_overlapped = df_labels_filtered[overlapped_mask] if ONLY_OVERLAP else df_labels_filtered\n",
    "\n",
    "df_labels_filtered_overlapped = df_labels_filtered_overlapped.join(df_reference, on=\"index_of_closest\", rsuffix=\"_ref\", how=\"inner\")\n",
    "\n",
    "df_labels_filtered_overlapped['best_prediction'], df_labels_filtered_overlapped['best_prediction_simil'] =  zip(*df_labels_filtered_overlapped.apply(lambda row: find_best_prediction(row[\"predictions\"], row[\"smiles_ref\"]), axis=1))"
   ]
  },
  {
   "cell_type": "code",
   "execution_count": 209,
   "metadata": {},
   "outputs": [
    {
     "data": {
      "text/html": [
       "<pre style=\"white-space:pre;overflow-x:auto;line-height:normal;font-family:Menlo,'DejaVu Sans Mono',consolas,'Courier New',monospace\">\n",
       "##################\n",
       "</pre>\n"
      ],
      "text/plain": [
       "\n",
       "##################\n"
      ]
     },
     "metadata": {},
     "output_type": "display_data"
    },
    {
     "data": {
      "text/html": [
       "<pre style=\"white-space:pre;overflow-x:auto;line-height:normal;font-family:Menlo,'DejaVu Sans Mono',consolas,'Courier New',monospace\">Example id: <span style=\"color: #008080; text-decoration-color: #008080; font-weight: bold\">0</span>\n",
       "</pre>\n"
      ],
      "text/plain": [
       "Example id: \u001b[1;36m0\u001b[0m\n"
      ]
     },
     "metadata": {},
     "output_type": "display_data"
    },
    {
     "data": {
      "text/html": [
       "<pre style=\"white-space:pre;overflow-x:auto;line-height:normal;font-family:Menlo,'DejaVu Sans Mono',consolas,'Courier New',monospace\">GT smiles: <span style=\"color: #800080; text-decoration-color: #800080; font-weight: bold\">CCCCCCCCCCCCCCOC</span><span style=\"font-weight: bold\">(</span>O<span style=\"font-weight: bold\">)</span><span style=\"color: #800080; text-decoration-color: #800080; font-weight: bold\">C</span><span style=\"font-weight: bold\">(</span>C<span style=\"font-weight: bold\">)</span><span style=\"color: #800080; text-decoration-color: #800080; font-weight: bold\">CC</span><span style=\"font-weight: bold\">(</span>C<span style=\"font-weight: bold\">)</span>CCCCCCCCCCCCC\n",
       "</pre>\n"
      ],
      "text/plain": [
       "GT smiles: \u001b[1;35mCCCCCCCCCCCCCCOC\u001b[0m\u001b[1m(\u001b[0mO\u001b[1m)\u001b[0m\u001b[1;35mC\u001b[0m\u001b[1m(\u001b[0mC\u001b[1m)\u001b[0m\u001b[1;35mCC\u001b[0m\u001b[1m(\u001b[0mC\u001b[1m)\u001b[0mCCCCCCCCCCCCC\n"
      ]
     },
     "metadata": {},
     "output_type": "display_data"
    },
    {
     "data": {
      "image/png": "[encoded data removed]",
      "text/plain": [
       "<rdkit.Chem.rdchem.Mol at 0x7f737a1b4510>"
      ]
     },
     "metadata": {},
     "output_type": "display_data"
    },
    {
     "data": {
      "text/html": [
       "<pre style=\"white-space:pre;overflow-x:auto;line-height:normal;font-family:Menlo,'DejaVu Sans Mono',consolas,'Courier New',monospace\">Best DB search candidate: CCCCCCCCCCCCCCCCO<span style=\"font-weight: bold\">[</span>Si<span style=\"font-weight: bold\">](</span>C<span style=\"font-weight: bold\">)(</span>C<span style=\"font-weight: bold\">)</span>CCl similarity: <span style=\"color: #008080; text-decoration-color: #008080; font-weight: bold\">0.275</span>\n",
       "</pre>\n"
      ],
      "text/plain": [
       "Best DB search candidate: CCCCCCCCCCCCCCCCO\u001b[1m[\u001b[0mSi\u001b[1m]\u001b[0m\u001b[1m(\u001b[0mC\u001b[1m)\u001b[0m\u001b[1m(\u001b[0mC\u001b[1m)\u001b[0mCCl similarity: \u001b[1;36m0.275\u001b[0m\n"
      ]
     },
     "metadata": {},
     "output_type": "display_data"
    },
    {
     "data": {
      "image/png": "[encoded data removed]",
      "text/plain": [
       "<rdkit.Chem.rdchem.Mol at 0x7f735cf01190>"
      ]
     },
     "metadata": {},
     "output_type": "display_data"
    },
    {
     "data": {
      "text/html": [
       "<pre style=\"white-space:pre;overflow-x:auto;line-height:normal;font-family:Menlo,'DejaVu Sans Mono',consolas,'Courier New',monospace\">Best prediction: CCCCCCCCCCCCCCCCCCO<span style=\"font-weight: bold\">[</span>Si<span style=\"font-weight: bold\">](</span>C<span style=\"font-weight: bold\">)(</span>C<span style=\"font-weight: bold\">)</span>CCCCCCCCCCCC, similarity: <span style=\"color: #008080; text-decoration-color: #008080; font-weight: bold\">0.41935483870967744</span>\n",
       "</pre>\n"
      ],
      "text/plain": [
       "Best prediction: CCCCCCCCCCCCCCCCCCO\u001b[1m[\u001b[0mSi\u001b[1m]\u001b[0m\u001b[1m(\u001b[0mC\u001b[1m)\u001b[0m\u001b[1m(\u001b[0mC\u001b[1m)\u001b[0mCCCCCCCCCCCC, similarity: \u001b[1;36m0.41935483870967744\u001b[0m\n"
      ]
     },
     "metadata": {},
     "output_type": "display_data"
    },
    {
     "data": {
      "image/png": "[encoded data removed]",
      "text/plain": [
       "<rdkit.Chem.rdchem.Mol at 0x7f7304ec70b0>"
      ]
     },
     "metadata": {},
     "output_type": "display_data"
    },
    {
     "data": {
      "text/html": [
       "<pre style=\"white-space:pre;overflow-x:auto;line-height:normal;font-family:Menlo,'DejaVu Sans Mono',consolas,'Courier New',monospace\">\n",
       "##################\n",
       "</pre>\n"
      ],
      "text/plain": [
       "\n",
       "##################\n"
      ]
     },
     "metadata": {},
     "output_type": "display_data"
    },
    {
     "data": {
      "text/html": [
       "<pre style=\"white-space:pre;overflow-x:auto;line-height:normal;font-family:Menlo,'DejaVu Sans Mono',consolas,'Courier New',monospace\">Example id: <span style=\"color: #008080; text-decoration-color: #008080; font-weight: bold\">1</span>\n",
       "</pre>\n"
      ],
      "text/plain": [
       "Example id: \u001b[1;36m1\u001b[0m\n"
      ]
     },
     "metadata": {},
     "output_type": "display_data"
    },
    {
     "data": {
      "text/html": [
       "<pre style=\"white-space:pre;overflow-x:auto;line-height:normal;font-family:Menlo,'DejaVu Sans Mono',consolas,'Courier New',monospace\">GT smiles: <span style=\"color: #800080; text-decoration-color: #800080; font-weight: bold\">CCCCCCCCCCCCCCOC</span><span style=\"font-weight: bold\">(</span>O<span style=\"font-weight: bold\">)</span><span style=\"color: #800080; text-decoration-color: #800080; font-weight: bold\">C</span><span style=\"font-weight: bold\">(</span>C<span style=\"font-weight: bold\">)</span><span style=\"color: #800080; text-decoration-color: #800080; font-weight: bold\">CC</span><span style=\"font-weight: bold\">(</span>C<span style=\"font-weight: bold\">)</span>CCCCCCCCCCCCC\n",
       "</pre>\n"
      ],
      "text/plain": [
       "GT smiles: \u001b[1;35mCCCCCCCCCCCCCCOC\u001b[0m\u001b[1m(\u001b[0mO\u001b[1m)\u001b[0m\u001b[1;35mC\u001b[0m\u001b[1m(\u001b[0mC\u001b[1m)\u001b[0m\u001b[1;35mCC\u001b[0m\u001b[1m(\u001b[0mC\u001b[1m)\u001b[0mCCCCCCCCCCCCC\n"
      ]
     },
     "metadata": {},
     "output_type": "display_data"
    },
    {
     "data": {
      "image/png": "[encoded data removed]",
      "text/plain": [
       "<rdkit.Chem.rdchem.Mol at 0x7f735cf01270>"
      ]
     },
     "metadata": {},
     "output_type": "display_data"
    },
    {
     "data": {
      "text/html": [
       "<pre style=\"white-space:pre;overflow-x:auto;line-height:normal;font-family:Menlo,'DejaVu Sans Mono',consolas,'Courier New',monospace\">Best DB search candidate: CCCCCCCCCCCCCCO<span style=\"font-weight: bold\">[</span>Si<span style=\"font-weight: bold\">](</span>CC<span style=\"font-weight: bold\">)(</span>CC<span style=\"font-weight: bold\">)</span>CC similarity: <span style=\"color: #008080; text-decoration-color: #008080; font-weight: bold\">0.29729729729729704</span>\n",
       "</pre>\n"
      ],
      "text/plain": [
       "Best DB search candidate: CCCCCCCCCCCCCCO\u001b[1m[\u001b[0mSi\u001b[1m]\u001b[0m\u001b[1m(\u001b[0mCC\u001b[1m)\u001b[0m\u001b[1m(\u001b[0mCC\u001b[1m)\u001b[0mCC similarity: \u001b[1;36m0.29729729729729704\u001b[0m\n"
      ]
     },
     "metadata": {},
     "output_type": "display_data"
    },
    {
     "data": {
      "image/png": "[encoded data removed]",
      "text/plain": [
       "<rdkit.Chem.rdchem.Mol at 0x7f737a1b4dd0>"
      ]
     },
     "metadata": {},
     "output_type": "display_data"
    },
    {
     "data": {
      "text/html": [
       "<pre style=\"white-space:pre;overflow-x:auto;line-height:normal;font-family:Menlo,'DejaVu Sans Mono',consolas,'Courier New',monospace\">Best prediction: CCCCCCCCCCCCCCCCCCOCCCCCCCCCCCCCCC, similarity: <span style=\"color: #008080; text-decoration-color: #008080; font-weight: bold\">0.19858156028368795</span>\n",
       "</pre>\n"
      ],
      "text/plain": [
       "Best prediction: CCCCCCCCCCCCCCCCCCOCCCCCCCCCCCCCCC, similarity: \u001b[1;36m0.19858156028368795\u001b[0m\n"
      ]
     },
     "metadata": {},
     "output_type": "display_data"
    },
    {
     "data": {
      "image/png": "[encoded data removed]",
      "text/plain": [
       "<rdkit.Chem.rdchem.Mol at 0x7f737a1b4510>"
      ]
     },
     "metadata": {},
     "output_type": "display_data"
    },
    {
     "data": {
      "text/html": [
       "<pre style=\"white-space:pre;overflow-x:auto;line-height:normal;font-family:Menlo,'DejaVu Sans Mono',consolas,'Courier New',monospace\">\n",
       "##################\n",
       "</pre>\n"
      ],
      "text/plain": [
       "\n",
       "##################\n"
      ]
     },
     "metadata": {},
     "output_type": "display_data"
    },
    {
     "data": {
      "text/html": [
       "<pre style=\"white-space:pre;overflow-x:auto;line-height:normal;font-family:Menlo,'DejaVu Sans Mono',consolas,'Courier New',monospace\">Example id: <span style=\"color: #008080; text-decoration-color: #008080; font-weight: bold\">2</span>\n",
       "</pre>\n"
      ],
      "text/plain": [
       "Example id: \u001b[1;36m2\u001b[0m\n"
      ]
     },
     "metadata": {},
     "output_type": "display_data"
    },
    {
     "data": {
      "text/html": [
       "<pre style=\"white-space:pre;overflow-x:auto;line-height:normal;font-family:Menlo,'DejaVu Sans Mono',consolas,'Courier New',monospace\">GT smiles: <span style=\"color: #800080; text-decoration-color: #800080; font-weight: bold\">CCCCCCCCCCCCCC</span><span style=\"font-weight: bold\">(</span>C<span style=\"font-weight: bold\">)</span><span style=\"color: #800080; text-decoration-color: #800080; font-weight: bold\">CC</span><span style=\"font-weight: bold\">(</span>C<span style=\"font-weight: bold\">)</span><span style=\"color: #800080; text-decoration-color: #800080; font-weight: bold\">C</span><span style=\"font-weight: bold\">(</span>O<span style=\"font-weight: bold\">)</span>OC\n",
       "</pre>\n"
      ],
      "text/plain": [
       "GT smiles: \u001b[1;35mCCCCCCCCCCCCCC\u001b[0m\u001b[1m(\u001b[0mC\u001b[1m)\u001b[0m\u001b[1;35mCC\u001b[0m\u001b[1m(\u001b[0mC\u001b[1m)\u001b[0m\u001b[1;35mC\u001b[0m\u001b[1m(\u001b[0mO\u001b[1m)\u001b[0mOC\n"
      ]
     },
     "metadata": {},
     "output_type": "display_data"
    },
    {
     "data": {
      "image/png": "[encoded data removed]",
      "text/plain": [
       "<rdkit.Chem.rdchem.Mol at 0x7f7304ec70b0>"
      ]
     },
     "metadata": {},
     "output_type": "display_data"
    },
    {
     "data": {
      "text/html": [
       "<pre style=\"white-space:pre;overflow-x:auto;line-height:normal;font-family:Menlo,'DejaVu Sans Mono',consolas,'Courier New',monospace\">Best DB search candidate: <span style=\"color: #800080; text-decoration-color: #800080; font-weight: bold\">CCCCCCCCCCC</span><span style=\"font-weight: bold\">(</span>C<span style=\"font-weight: bold\">)</span><span style=\"color: #800080; text-decoration-color: #800080; font-weight: bold\">CC</span><span style=\"font-weight: bold\">(</span>C<span style=\"font-weight: bold\">)</span><span style=\"color: #800080; text-decoration-color: #800080; font-weight: bold\">C</span><span style=\"font-weight: bold\">(</span>=O<span style=\"font-weight: bold\">)</span>OC similarity: <span style=\"color: #008080; text-decoration-color: #008080; font-weight: bold\">0.527777777777777</span>\n",
       "</pre>\n"
      ],
      "text/plain": [
       "Best DB search candidate: \u001b[1;35mCCCCCCCCCCC\u001b[0m\u001b[1m(\u001b[0mC\u001b[1m)\u001b[0m\u001b[1;35mCC\u001b[0m\u001b[1m(\u001b[0mC\u001b[1m)\u001b[0m\u001b[1;35mC\u001b[0m\u001b[1m(\u001b[0m=O\u001b[1m)\u001b[0mOC similarity: \u001b[1;36m0.527777777777777\u001b[0m\n"
      ]
     },
     "metadata": {},
     "output_type": "display_data"
    },
    {
     "data": {
      "image/png": "[encoded data removed]",
      "text/plain": [
       "<rdkit.Chem.rdchem.Mol at 0x7f735cf01190>"
      ]
     },
     "metadata": {},
     "output_type": "display_data"
    },
    {
     "data": {
      "text/html": [
       "<pre style=\"white-space:pre;overflow-x:auto;line-height:normal;font-family:Menlo,'DejaVu Sans Mono',consolas,'Courier New',monospace\">Best prediction: <span style=\"color: #800080; text-decoration-color: #800080; font-weight: bold\">CCCCCCCCCCCCC</span><span style=\"font-weight: bold\">(</span>C<span style=\"font-weight: bold\">)</span><span style=\"color: #800080; text-decoration-color: #800080; font-weight: bold\">CC</span><span style=\"font-weight: bold\">(</span>C<span style=\"font-weight: bold\">)</span><span style=\"color: #800080; text-decoration-color: #800080; font-weight: bold\">C</span><span style=\"font-weight: bold\">(</span>=O<span style=\"font-weight: bold\">)</span>OC, similarity: <span style=\"color: #008080; text-decoration-color: #008080; font-weight: bold\">1.0</span>\n",
       "</pre>\n"
      ],
      "text/plain": [
       "Best prediction: \u001b[1;35mCCCCCCCCCCCCC\u001b[0m\u001b[1m(\u001b[0mC\u001b[1m)\u001b[0m\u001b[1;35mCC\u001b[0m\u001b[1m(\u001b[0mC\u001b[1m)\u001b[0m\u001b[1;35mC\u001b[0m\u001b[1m(\u001b[0m=O\u001b[1m)\u001b[0mOC, similarity: \u001b[1;36m1.0\u001b[0m\n"
      ]
     },
     "metadata": {},
     "output_type": "display_data"
    },
    {
     "data": {
      "image/png": "[encoded data removed]",
      "text/plain": [
       "<rdkit.Chem.rdchem.Mol at 0x7f735cf01270>"
      ]
     },
     "metadata": {},
     "output_type": "display_data"
    },
    {
     "data": {
      "text/html": [
       "<pre style=\"white-space:pre;overflow-x:auto;line-height:normal;font-family:Menlo,'DejaVu Sans Mono',consolas,'Courier New',monospace\">\n",
       "##################\n",
       "</pre>\n"
      ],
      "text/plain": [
       "\n",
       "##################\n"
      ]
     },
     "metadata": {},
     "output_type": "display_data"
    },
    {
     "data": {
      "text/html": [
       "<pre style=\"white-space:pre;overflow-x:auto;line-height:normal;font-family:Menlo,'DejaVu Sans Mono',consolas,'Courier New',monospace\">Example id: <span style=\"color: #008080; text-decoration-color: #008080; font-weight: bold\">3</span>\n",
       "</pre>\n"
      ],
      "text/plain": [
       "Example id: \u001b[1;36m3\u001b[0m\n"
      ]
     },
     "metadata": {},
     "output_type": "display_data"
    },
    {
     "data": {
      "text/html": [
       "<pre style=\"white-space:pre;overflow-x:auto;line-height:normal;font-family:Menlo,'DejaVu Sans Mono',consolas,'Courier New',monospace\">GT smiles: <span style=\"color: #800080; text-decoration-color: #800080; font-weight: bold\">CCCCCCCCCCCCCC</span><span style=\"font-weight: bold\">(</span>C<span style=\"font-weight: bold\">)</span><span style=\"color: #800080; text-decoration-color: #800080; font-weight: bold\">CC</span><span style=\"font-weight: bold\">(</span>C<span style=\"font-weight: bold\">)</span><span style=\"color: #800080; text-decoration-color: #800080; font-weight: bold\">C</span><span style=\"font-weight: bold\">(</span>O<span style=\"font-weight: bold\">)</span>OC\n",
       "</pre>\n"
      ],
      "text/plain": [
       "GT smiles: \u001b[1;35mCCCCCCCCCCCCCC\u001b[0m\u001b[1m(\u001b[0mC\u001b[1m)\u001b[0m\u001b[1;35mCC\u001b[0m\u001b[1m(\u001b[0mC\u001b[1m)\u001b[0m\u001b[1;35mC\u001b[0m\u001b[1m(\u001b[0mO\u001b[1m)\u001b[0mOC\n"
      ]
     },
     "metadata": {},
     "output_type": "display_data"
    },
    {
     "data": {
      "image/png": "[encoded data removed]",
      "text/plain": [
       "<rdkit.Chem.rdchem.Mol at 0x7f737a1b4dd0>"
      ]
     },
     "metadata": {},
     "output_type": "display_data"
    },
    {
     "data": {
      "text/html": [
       "<pre style=\"white-space:pre;overflow-x:auto;line-height:normal;font-family:Menlo,'DejaVu Sans Mono',consolas,'Courier New',monospace\">Best DB search candidate: <span style=\"color: #800080; text-decoration-color: #800080; font-weight: bold\">CCCCCCCCCCC</span><span style=\"font-weight: bold\">(</span>C<span style=\"font-weight: bold\">)</span><span style=\"color: #800080; text-decoration-color: #800080; font-weight: bold\">CC</span><span style=\"font-weight: bold\">(</span>C<span style=\"font-weight: bold\">)</span><span style=\"color: #800080; text-decoration-color: #800080; font-weight: bold\">C</span><span style=\"font-weight: bold\">(</span>=O<span style=\"font-weight: bold\">)</span>OC similarity: <span style=\"color: #008080; text-decoration-color: #008080; font-weight: bold\">0.527777777777777</span>\n",
       "</pre>\n"
      ],
      "text/plain": [
       "Best DB search candidate: \u001b[1;35mCCCCCCCCCCC\u001b[0m\u001b[1m(\u001b[0mC\u001b[1m)\u001b[0m\u001b[1;35mCC\u001b[0m\u001b[1m(\u001b[0mC\u001b[1m)\u001b[0m\u001b[1;35mC\u001b[0m\u001b[1m(\u001b[0m=O\u001b[1m)\u001b[0mOC similarity: \u001b[1;36m0.527777777777777\u001b[0m\n"
      ]
     },
     "metadata": {},
     "output_type": "display_data"
    },
    {
     "data": {
      "image/png": "[encoded data removed]",
      "text/plain": [
       "<rdkit.Chem.rdchem.Mol at 0x7f7304ec70b0>"
      ]
     },
     "metadata": {},
     "output_type": "display_data"
    },
    {
     "data": {
      "text/html": [
       "<pre style=\"white-space:pre;overflow-x:auto;line-height:normal;font-family:Menlo,'DejaVu Sans Mono',consolas,'Courier New',monospace\">Best prediction: <span style=\"color: #800080; text-decoration-color: #800080; font-weight: bold\">CCCC</span><span style=\"font-weight: bold\">(</span>C<span style=\"font-weight: bold\">)</span><span style=\"color: #800080; text-decoration-color: #800080; font-weight: bold\">CCCCCCCCCC</span><span style=\"font-weight: bold\">(</span>C<span style=\"font-weight: bold\">)</span><span style=\"color: #800080; text-decoration-color: #800080; font-weight: bold\">CC</span><span style=\"font-weight: bold\">(</span>C<span style=\"font-weight: bold\">)</span><span style=\"color: #800080; text-decoration-color: #800080; font-weight: bold\">C</span><span style=\"font-weight: bold\">(</span>=O<span style=\"font-weight: bold\">)</span>OC, similarity: <span style=\"color: #008080; text-decoration-color: #008080; font-weight: bold\">1.0</span>\n",
       "</pre>\n"
      ],
      "text/plain": [
       "Best prediction: \u001b[1;35mCCCC\u001b[0m\u001b[1m(\u001b[0mC\u001b[1m)\u001b[0m\u001b[1;35mCCCCCCCCCC\u001b[0m\u001b[1m(\u001b[0mC\u001b[1m)\u001b[0m\u001b[1;35mCC\u001b[0m\u001b[1m(\u001b[0mC\u001b[1m)\u001b[0m\u001b[1;35mC\u001b[0m\u001b[1m(\u001b[0m=O\u001b[1m)\u001b[0mOC, similarity: \u001b[1;36m1.0\u001b[0m\n"
      ]
     },
     "metadata": {},
     "output_type": "display_data"
    },
    {
     "data": {
      "image/png": "[encoded data removed]",
      "text/plain": [
       "<rdkit.Chem.rdchem.Mol at 0x7f737a1b4510>"
      ]
     },
     "metadata": {},
     "output_type": "display_data"
    },
    {
     "data": {
      "text/html": [
       "<pre style=\"white-space:pre;overflow-x:auto;line-height:normal;font-family:Menlo,'DejaVu Sans Mono',consolas,'Courier New',monospace\">\n",
       "##################\n",
       "</pre>\n"
      ],
      "text/plain": [
       "\n",
       "##################\n"
      ]
     },
     "metadata": {},
     "output_type": "display_data"
    },
    {
     "data": {
      "text/html": [
       "<pre style=\"white-space:pre;overflow-x:auto;line-height:normal;font-family:Menlo,'DejaVu Sans Mono',consolas,'Courier New',monospace\">Example id: <span style=\"color: #008080; text-decoration-color: #008080; font-weight: bold\">4</span>\n",
       "</pre>\n"
      ],
      "text/plain": [
       "Example id: \u001b[1;36m4\u001b[0m\n"
      ]
     },
     "metadata": {},
     "output_type": "display_data"
    },
    {
     "data": {
      "text/html": [
       "<pre style=\"white-space:pre;overflow-x:auto;line-height:normal;font-family:Menlo,'DejaVu Sans Mono',consolas,'Courier New',monospace\">GT smiles: <span style=\"color: #800080; text-decoration-color: #800080; font-weight: bold\">CCCCCCCCCCCCCCCCC</span><span style=\"font-weight: bold\">(</span>C<span style=\"font-weight: bold\">)</span><span style=\"color: #800080; text-decoration-color: #800080; font-weight: bold\">CCCC</span><span style=\"font-weight: bold\">(</span>C<span style=\"font-weight: bold\">)</span>CCCCCCCCCC\n",
       "</pre>\n"
      ],
      "text/plain": [
       "GT smiles: \u001b[1;35mCCCCCCCCCCCCCCCCC\u001b[0m\u001b[1m(\u001b[0mC\u001b[1m)\u001b[0m\u001b[1;35mCCCC\u001b[0m\u001b[1m(\u001b[0mC\u001b[1m)\u001b[0mCCCCCCCCCC\n"
      ]
     },
     "metadata": {},
     "output_type": "display_data"
    },
    {
     "data": {
      "image/png": "[encoded data removed]",
      "text/plain": [
       "<rdkit.Chem.rdchem.Mol at 0x7f735cf010b0>"
      ]
     },
     "metadata": {},
     "output_type": "display_data"
    },
    {
     "data": {
      "text/html": [
       "<pre style=\"white-space:pre;overflow-x:auto;line-height:normal;font-family:Menlo,'DejaVu Sans Mono',consolas,'Courier New',monospace\">Best DB search candidate: CCCCCCCCCCCCCCCCCCCCCCCCCCCCCCCCCCCC similarity: <span style=\"color: #008080; text-decoration-color: #008080; font-weight: bold\">0.5</span>\n",
       "</pre>\n"
      ],
      "text/plain": [
       "Best DB search candidate: CCCCCCCCCCCCCCCCCCCCCCCCCCCCCCCCCCCC similarity: \u001b[1;36m0.5\u001b[0m\n"
      ]
     },
     "metadata": {},
     "output_type": "display_data"
    },
    {
     "data": {
      "image/png": "[encoded data removed]",
      "text/plain": [
       "<rdkit.Chem.rdchem.Mol at 0x7f737a1b4dd0>"
      ]
     },
     "metadata": {},
     "output_type": "display_data"
    },
    {
     "data": {
      "text/html": [
       "<pre style=\"white-space:pre;overflow-x:auto;line-height:normal;font-family:Menlo,'DejaVu Sans Mono',consolas,'Courier New',monospace\">Best prediction: <span style=\"color: #800080; text-decoration-color: #800080; font-weight: bold\">CCCCCCCCCCCCCCC</span><span style=\"font-weight: bold\">(</span>C<span style=\"font-weight: bold\">)</span><span style=\"color: #800080; text-decoration-color: #800080; font-weight: bold\">CCCC</span><span style=\"font-weight: bold\">(</span>C<span style=\"font-weight: bold\">)</span>CCCCCCCCCCC, similarity: <span style=\"color: #008080; text-decoration-color: #008080; font-weight: bold\">0.4666666666666667</span>\n",
       "</pre>\n"
      ],
      "text/plain": [
       "Best prediction: \u001b[1;35mCCCCCCCCCCCCCCC\u001b[0m\u001b[1m(\u001b[0mC\u001b[1m)\u001b[0m\u001b[1;35mCCCC\u001b[0m\u001b[1m(\u001b[0mC\u001b[1m)\u001b[0mCCCCCCCCCCC, similarity: \u001b[1;36m0.4666666666666667\u001b[0m\n"
      ]
     },
     "metadata": {},
     "output_type": "display_data"
    },
    {
     "data": {
      "image/png": "[encoded data removed]",
      "text/plain": [
       "<rdkit.Chem.rdchem.Mol at 0x7f7304ec70b0>"
      ]
     },
     "metadata": {},
     "output_type": "display_data"
    }
   ],
   "source": [
    "# visualize comparison\n",
    "\n",
    "range_to_viz = (0, 5)\n",
    "\n",
    "for i, row in df_labels_filtered_overlapped.iloc[min(range_to_viz):max(range_to_viz)].iterrows():\n",
    "    print(\"\\n##################\")\n",
    "    print(f\"Example id: {i}\")\n",
    "    print(\"GT smiles:\", row[\"smiles\"])\n",
    "    gt_mol = Chem.MolFromSmiles(row[\"smiles\"])\n",
    "    display(gt_mol)\n",
    "\n",
    "    print(\"Best DB search candidate:\", row[\"smiles_ref\"], \"similarity:\", row[\"smiles_sim_of_closest_morgan_tanimoto\"])\n",
    "    db_mol = Chem.MolFromSmiles(row[\"smiles_ref\"])\n",
    "    display(db_mol)\n",
    "\n",
    "    print(f\"Best prediction: {row['best_prediction']}, similarity: {row['best_prediction_simil']}\")\n",
    "    pred_mol = Chem.MolFromSmiles(row[\"best_prediction\"])\n",
    "    display(pred_mol)\n"
   ]
  }
 ],
 "metadata": {
  "kernelspec": {
   "display_name": "BARTtrainH100",
   "language": "python",
   "name": "python3"
  },
  "language_info": {
   "codemirror_mode": {
    "name": "ipython",
    "version": 3
   },
   "file_extension": ".py",
   "mimetype": "text/x-python",
   "name": "python",
   "nbconvert_exporter": "python",
   "pygments_lexer": "ipython3",
   "version": "3.8.16"
  }
 },
 "nbformat": 4,
 "nbformat_minor": 2
}
